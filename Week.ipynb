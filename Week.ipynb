{
 "cells": [
  {
   "cell_type": "code",
   "execution_count": 1,
   "id": "d97b75b9",
   "metadata": {},
   "outputs": [],
   "source": [
    "import os\n",
    "import pandas as pd\n",
    "import numpy as np\n",
    "from binance.client import Client\n",
    "from datetime import datetime ,timedelta\n",
    "import matplotlib.pyplot as plt\n",
    "import plotly.express as px\n",
    "import plotly.graph_objects as go\n",
    "from plotly.subplots import make_subplots"
   ]
  },
  {
   "cell_type": "code",
   "execution_count": null,
   "id": "2d1c6424",
   "metadata": {},
   "outputs": [],
   "source": [
    "client=Client(api_key=os.environ.get('api_key'),api_secret=os.environ.get('secret_key'),tld=\"com\")"
   ]
  },
  {
   "cell_type": "code",
   "execution_count": 4,
   "id": "45996d61",
   "metadata": {},
   "outputs": [],
   "source": [
    "def get_history(symbol, interval, start, end=None):\n",
    "    # Fetch historical data using Binance API\n",
    "    bars = client.futures_klines(\n",
    "        symbol=symbol, interval=interval, start_str=start, end_str=end,# limit=1000\n",
    "    )\n",
    "    \n",
    "    # Create DataFrame from the raw data\n",
    "    df = pd.DataFrame(bars)\n",
    "    \n",
    "    # Rename columns for clarity\n",
    "    df.columns = [\n",
    "        \"open Time\", \"open\", \"high\", \"low\", \"close\", \"volume\", \"close Time\",\n",
    "        \"Quote Asset volume\", \"No. of Trades\", \"Taker Buy Base Asset volume\",\n",
    "        \"Taker Buy Quote Asset volume\", \"Ignore\"\n",
    "    ]\n",
    "    \n",
    "    # Convert 'open Time' to datetime including time\n",
    "    df[\"datetime\"] = pd.to_datetime(df[\"open Time\"], unit=\"ms\")\n",
    "    \n",
    "    # Select relevant columns and set 'datetime' as the index\n",
    "    df = df[[\"datetime\", \"open\", \"high\", \"low\", \"close\", \"volume\"]].copy()\n",
    "    df.set_index(\"datetime\", inplace=True)\n",
    "    \n",
    "    # Convert columns to numeric for accurate processing\n",
    "    for column in [\"open\", \"high\", \"low\", \"close\", \"volume\"]:\n",
    "        df[column] = pd.to_numeric(df[column], errors=\"coerce\")\n",
    "    \n",
    "    # Format index to display full datetime\n",
    "    df.index = df.index.strftime('%Y-%m-%d %H:%M:%S')\n",
    "    \n",
    "    return df\n",
    "\n",
    "\n"
   ]
  },
  {
   "cell_type": "code",
   "execution_count": 5,
   "id": "757df90b",
   "metadata": {},
   "outputs": [
    {
     "name": "stdout",
     "output_type": "stream",
     "text": [
      "Total USDT perpetual symbols: 438\n",
      "['BTCUSDT', 'ETHUSDT', 'BCHUSDT', 'XRPUSDT', 'LTCUSDT', 'TRXUSDT', 'ETCUSDT', 'LINKUSDT', 'XLMUSDT', 'ADAUSDT', 'XMRUSDT', 'DASHUSDT', 'ZECUSDT', 'XTZUSDT', 'BNBUSDT', 'ATOMUSDT', 'ONTUSDT', 'IOTAUSDT', 'BATUSDT', 'VETUSDT', 'NEOUSDT', 'QTUMUSDT', 'IOSTUSDT', 'THETAUSDT', 'ALGOUSDT', 'ZILUSDT', 'KNCUSDT', 'ZRXUSDT', 'COMPUSDT', 'DOGEUSDT', 'SXPUSDT', 'KAVAUSDT', 'BANDUSDT', 'RLCUSDT', 'MKRUSDT', 'SNXUSDT', 'DOTUSDT', 'DEFIUSDT', 'YFIUSDT', 'CRVUSDT', 'TRBUSDT', 'RUNEUSDT', 'SUSHIUSDT', 'EGLDUSDT', 'SOLUSDT', 'ICXUSDT', 'STORJUSDT', 'UNIUSDT', 'AVAXUSDT', 'ENJUSDT', 'FLMUSDT', 'KSMUSDT', 'NEARUSDT', 'AAVEUSDT', 'FILUSDT', 'RSRUSDT', 'LRCUSDT', 'BELUSDT', 'AXSUSDT', 'ALPHAUSDT', 'ZENUSDT', 'SKLUSDT', 'GRTUSDT', '1INCHUSDT', 'CHZUSDT', 'SANDUSDT', 'ANKRUSDT', 'RVNUSDT', 'SFPUSDT', 'COTIUSDT', 'CHRUSDT', 'MANAUSDT', 'ALICEUSDT', 'HBARUSDT', 'ONEUSDT', 'DENTUSDT', 'CELRUSDT', 'HOTUSDT', 'MTLUSDT', 'OGNUSDT', 'NKNUSDT', '1000SHIBUSDT', 'BAKEUSDT', 'GTCUSDT', 'BTCDOMUSDT', 'IOTXUSDT', 'C98USDT', 'MASKUSDT', 'ATAUSDT', 'DYDXUSDT', '1000XECUSDT', 'GALAUSDT', 'CELOUSDT', 'ARUSDT', 'ARPAUSDT', 'CTSIUSDT', 'LPTUSDT', 'ENSUSDT', 'PEOPLEUSDT', 'ROSEUSDT', 'DUSKUSDT', 'FLOWUSDT', 'IMXUSDT', 'API3USDT', 'GMTUSDT', 'APEUSDT', 'WOOUSDT', 'JASMYUSDT', 'OPUSDT', 'INJUSDT', 'STGUSDT', 'SPELLUSDT', '1000LUNCUSDT', 'LUNA2USDT', 'LDOUSDT', 'ICPUSDT', 'APTUSDT', 'QNTUSDT', 'FETUSDT', 'FXSUSDT', 'HOOKUSDT', 'MAGICUSDT', 'TUSDT', 'HIGHUSDT', 'MINAUSDT', 'ASTRUSDT', 'PHBUSDT', 'GMXUSDT', 'CFXUSDT', 'STXUSDT', 'ACHUSDT', 'SSVUSDT', 'CKBUSDT', 'PERPUSDT', 'TRUUSDT', 'LQTYUSDT', 'USDCUSDT', 'IDUSDT', 'ARBUSDT', 'JOEUSDT', 'TLMUSDT', 'LEVERUSDT', 'RDNTUSDT', 'HFTUSDT', 'XVSUSDT', 'BLURUSDT', 'EDUUSDT', 'SUIUSDT', '1000PEPEUSDT', '1000FLOKIUSDT', 'UMAUSDT', 'NMRUSDT', 'MAVUSDT', 'XVGUSDT', 'WLDUSDT', 'PENDLEUSDT', 'ARKMUSDT', 'AGLDUSDT', 'YGGUSDT', 'DODOXUSDT', 'BNTUSDT', 'OXTUSDT', 'SEIUSDT', 'CYBERUSDT', 'HIFIUSDT', 'ARKUSDT', 'BICOUSDT', 'BIGTIMEUSDT', 'WAXPUSDT', 'BSVUSDT', 'RIFUSDT', 'POLYXUSDT', 'GASUSDT', 'POWRUSDT', 'TIAUSDT', 'CAKEUSDT', 'MEMEUSDT', 'TWTUSDT', 'TOKENUSDT', 'ORDIUSDT', 'STEEMUSDT', 'ILVUSDT', 'NTRNUSDT', 'KASUSDT', 'BEAMXUSDT', '1000BONKUSDT', 'PYTHUSDT', 'SUPERUSDT', 'USTCUSDT', 'ONGUSDT', 'ETHWUSDT', 'JTOUSDT', '1000SATSUSDT', 'AUCTIONUSDT', '1000RATSUSDT', 'ACEUSDT', 'MOVRUSDT', 'NFPUSDT', 'AIUSDT', 'XAIUSDT', 'WIFUSDT', 'MANTAUSDT', 'ONDOUSDT', 'LSKUSDT', 'ALTUSDT', 'JUPUSDT', 'ZETAUSDT', 'RONINUSDT', 'DYMUSDT', 'OMUSDT', 'PIXELUSDT', 'STRKUSDT', 'GLMUSDT', 'PORTALUSDT', 'TONUSDT', 'AXLUSDT', 'MYROUSDT', 'METISUSDT', 'AEVOUSDT', 'VANRYUSDT', 'BOMEUSDT', 'ETHFIUSDT', 'ENAUSDT', 'WUSDT', 'TNSRUSDT', 'SAGAUSDT', 'TAOUSDT', 'OMNIUSDT', 'REZUSDT', 'BBUSDT', 'NOTUSDT', 'TURBOUSDT', 'IOUSDT', 'ZKUSDT', 'MEWUSDT', 'LISTAUSDT', 'ZROUSDT', 'RENDERUSDT', 'BANANAUSDT', 'RAREUSDT', 'GUSDT', 'SYNUSDT', 'SYSUSDT', 'VOXELUSDT', 'BRETTUSDT', 'POPCATUSDT', 'SUNUSDT', 'DOGSUSDT', 'MBOXUSDT', 'CHESSUSDT', 'FLUXUSDT', 'BSWUSDT', 'QUICKUSDT', 'NEIROETHUSDT', 'RPLUSDT', 'POLUSDT', 'UXLINKUSDT', '1MBABYDOGEUSDT', 'NEIROUSDT', 'KDAUSDT', 'FIDAUSDT', 'FIOUSDT', 'CATIUSDT', 'GHSTUSDT', 'LOKAUSDT', 'HMSTRUSDT', 'REIUSDT', 'COSUSDT', 'EIGENUSDT', 'DIAUSDT', '1000CATUSDT', 'SCRUSDT', 'GOATUSDT', 'MOODENGUSDT', 'SAFEUSDT', 'SANTOSUSDT', 'PONKEUSDT', 'COWUSDT', 'CETUSUSDT', '1000000MOGUSDT', 'GRASSUSDT', 'DRIFTUSDT', 'SWELLUSDT', 'ACTUSDT', 'PNUTUSDT', 'HIPPOUSDT', '1000XUSDT', 'DEGENUSDT', 'BANUSDT', 'AKTUSDT', 'SLERFUSDT', 'SCRTUSDT', '1000CHEEMSUSDT', '1000WHYUSDT', 'THEUSDT', 'MORPHOUSDT', 'CHILLGUYUSDT', 'KAIAUSDT', 'AEROUSDT', 'ACXUSDT', 'ORCAUSDT', 'MOVEUSDT', 'RAYSOLUSDT', 'KOMAUSDT', 'VIRTUALUSDT', 'SPXUSDT', 'MEUSDT', 'AVAUSDT', 'DEGOUSDT', 'VELODROMEUSDT', 'MOCAUSDT', 'VANAUSDT', 'PENGUUSDT', 'LUMIAUSDT', 'USUALUSDT', 'AIXBTUSDT', 'FARTCOINUSDT', 'KMNOUSDT', 'CGPTUSDT', 'HIVEUSDT', 'DEXEUSDT', 'PHAUSDT', 'DFUSDT', 'GRIFFAINUSDT', 'AI16ZUSDT', 'ZEREBROUSDT', 'BIOUSDT', 'COOKIEUSDT', 'ALCHUSDT', 'SWARMSUSDT', 'SONICUSDT', 'DUSDT', 'PROMUSDT', 'SUSDT', 'SOLVUSDT', 'ARCUSDT', 'AVAAIUSDT', 'TRUMPUSDT', 'MELANIAUSDT', 'VTHOUSDT', 'ANIMEUSDT', 'VINEUSDT', 'PIPPINUSDT', 'VVVUSDT', 'BERAUSDT', 'TSTUSDT', 'LAYERUSDT', 'HEIUSDT', 'B3USDT', 'IPUSDT', 'GPSUSDT', 'SHELLUSDT', 'KAITOUSDT', 'REDUSDT', 'VICUSDT', 'EPICUSDT', 'BMTUSDT', 'MUBARAKUSDT', 'FORMUSDT', 'BIDUSDT', 'TUTUSDT', 'BROCCOLI714USDT', 'BROCCOLIF3BUSDT', 'SIRENUSDT', 'BANANAS31USDT', 'BRUSDT', 'PLUMEUSDT', 'NILUSDT', 'PARTIUSDT', 'JELLYJELLYUSDT', 'MAVIAUSDT', 'PAXGUSDT', 'WALUSDT', 'FUNUSDT', 'MLNUSDT', 'GUNUSDT', 'ATHUSDT', 'BABYUSDT', 'FORTHUSDT', 'PROMPTUSDT', 'XCNUSDT', 'STOUSDT', 'FHEUSDT', 'KERNELUSDT', 'WCTUSDT', 'INITUSDT', 'AERGOUSDT', 'BANKUSDT', 'EPTUSDT', 'DEEPUSDT', 'HYPERUSDT', 'MEMEFIUSDT', 'FISUSDT', 'JSTUSDT', 'SIGNUSDT', 'PUNDIXUSDT', 'CTKUSDT', 'AIOTUSDT', 'DOLOUSDT', 'HAEDALUSDT', 'SXTUSDT', 'ASRUSDT', 'ALPINEUSDT', 'B2USDT', 'MILKUSDT', 'SYRUPUSDT', 'OBOLUSDT', 'DOODUSDT', 'OGUSDT', 'ZKJUSDT', 'SKYAIUSDT', 'NXPCUSDT', 'CVCUSDT', 'AGTUSDT', 'AWEUSDT', 'BUSDT', 'SOONUSDT', 'HUMAUSDT', 'AUSDT', 'SOPHUSDT', 'MERLUSDT', 'HYPEUSDT', 'BDXNUSDT', 'PUFFERUSDT', 'PORT3USDT', '1000000BOBUSDT', 'LAUSDT', 'SKATEUSDT', 'HOMEUSDT', 'RESOLVUSDT', 'TAIKOUSDT', 'SQDUSDT', 'PUMPBTCUSDT', 'SPKUSDT', 'MYXUSDT', 'FUSDT', 'NEWTUSDT']\n"
     ]
    }
   ],
   "source": [
    "def get_usdt_futures_symbols(client):\n",
    "    exchange_info = client.futures_exchange_info()  # for USD-M Futures\n",
    "    symbols = [\n",
    "        s['symbol']\n",
    "        for s in exchange_info['symbols']\n",
    "        if s['contractType'] == 'PERPETUAL' and s['quoteAsset'] == 'USDT' and s['status'] == 'TRADING'\n",
    "    ]\n",
    "    return symbols\n",
    "\n",
    "symbols = get_usdt_futures_symbols(client)\n",
    "print(f\"Total USDT perpetual symbols: {len(symbols)}\")\n",
    "print(symbols[:-1])\n",
    "\n"
   ]
  },
  {
   "cell_type": "code",
   "execution_count": 6,
   "id": "cb599499",
   "metadata": {},
   "outputs": [],
   "source": [
    "# Make a data directory\n",
    "os.makedirs(\"data\", exist_ok=True)\n",
    "\n",
    "# Get date strings\n",
    "end_date = datetime.now() - timedelta(days=1)  # yesterday\n",
    "start_date = end_date - timedelta(days=365)\n",
    "\n",
    "start_str = start_date.strftime('%Y-%m-%d')\n",
    "end_str = end_date.strftime('%Y-%m-%d')"
   ]
  },
  {
   "cell_type": "code",
   "execution_count": 7,
   "id": "e39af48e",
   "metadata": {},
   "outputs": [
    {
     "name": "stdout",
     "output_type": "stream",
     "text": [
      "[ERROR] COMPUSDT: HTTPSConnectionPool(host='fapi.binance.com', port=443): Read timed out. (read timeout=10)\n",
      "[ERROR] DOGEUSDT: HTTPSConnectionPool(host='fapi.binance.com', port=443): Read timed out. (read timeout=10)\n",
      "[SKIP] SPKUSDT: Not enough data\n",
      "[SKIP] MYXUSDT: Not enough data\n",
      "[SKIP] FUSDT: Not enough data\n",
      "[SKIP] NEWTUSDT: Not enough data\n",
      "[SKIP] DMCUSDT: Not enough data\n"
     ]
    }
   ],
   "source": [
    "symbols = [\n",
    "    s['symbol'] for s in client.futures_exchange_info()['symbols']\n",
    "    if s['contractType'] == 'PERPETUAL' and s['quoteAsset'] == 'USDT' and s['status'] == 'TRADING'\n",
    "]\n",
    "\n",
    "for symbol in symbols:\n",
    "    try:\n",
    "        df = get_history(symbol, \"1d\", start=start_str, end=end_str)\n",
    "        if df.empty or len(df) < 10:\n",
    "            print(f\"[SKIP] {symbol}: Not enough data\")\n",
    "            continue\n",
    "        df.to_csv(f\"data/{symbol}.csv\")\n",
    "        # print(f\"[OK] Saved: {symbol}\")\n",
    "    except Exception as e:\n",
    "        print(f\"[ERROR] {symbol}: {e}\")\n"
   ]
  },
  {
   "cell_type": "code",
   "execution_count": 8,
   "id": "53e18a7a",
   "metadata": {},
   "outputs": [
    {
     "data": {
      "application/vnd.plotly.v1+json": {
       "config": {
        "plotlyServerURL": "https://plot.ly"
       },
       "data": [
        {
         "coloraxis": "coloraxis",
         "hovertemplate": "Day: %{x}<br>Asset: %{y}<br>% Return: %{z}<extra></extra>",
         "name": "0",
         "texttemplate": "%{z:.2f}",
         "type": "heatmap",
         "x": [
          "D1",
          "D2",
          "D3",
          "D4",
          "D5",
          "D6",
          "D7"
         ],
         "xaxis": "x",
         "y": [
          "1000000BOBUSDT",
          "1000000MOGUSDT",
          "1000BONKUSDT",
          "1000CATUSDT",
          "1000CHEEMSUSDT",
          "1000FLOKIUSDT",
          "1000LUNCUSDT",
          "1000PEPEUSDT",
          "1000RATSUSDT",
          "1000SATSUSDT",
          "1000SHIBUSDT",
          "1000WHYUSDT",
          "1000XECUSDT",
          "1000XUSDT",
          "1INCHUSDT",
          "1MBABYDOGEUSDT",
          "AAVEUSDT",
          "ACEUSDT",
          "ACHUSDT",
          "ACTUSDT",
          "ACXUSDT",
          "ADAUSDT",
          "AERGOUSDT",
          "AEROUSDT",
          "AEVOUSDT",
          "AGLDUSDT",
          "AGTUSDT",
          "AI16ZUSDT",
          "AIOTUSDT",
          "AIUSDT",
          "AIXBTUSDT",
          "AKTUSDT",
          "ALCHUSDT",
          "ALGOUSDT",
          "ALICEUSDT",
          "ALPHAUSDT",
          "ALPINEUSDT",
          "ALTUSDT",
          "ANIMEUSDT",
          "ANKRUSDT",
          "APEUSDT",
          "API3USDT",
          "APTUSDT",
          "ARBUSDT",
          "ARCUSDT",
          "ARKMUSDT",
          "ARKUSDT",
          "ARPAUSDT",
          "ARUSDT",
          "ASRUSDT",
          "ASTRUSDT",
          "ATAUSDT",
          "ATHUSDT",
          "ATOMUSDT",
          "AUCTIONUSDT",
          "AUSDT",
          "AVAAIUSDT",
          "AVAUSDT",
          "AVAXUSDT",
          "AWEUSDT",
          "AXLUSDT",
          "AXSUSDT",
          "B2USDT",
          "B3USDT",
          "BABYUSDT",
          "BAKEUSDT",
          "BANANAS31USDT",
          "BANANAUSDT",
          "BANDUSDT",
          "BANKUSDT",
          "BANUSDT",
          "BATUSDT",
          "BBUSDT",
          "BCHUSDT",
          "BDXNUSDT",
          "BEAMXUSDT",
          "BELUSDT",
          "BERAUSDT",
          "BICOUSDT",
          "BIDUSDT",
          "BIGTIMEUSDT",
          "BIOUSDT",
          "BLURUSDT",
          "BMTUSDT",
          "BNBUSDT",
          "BNTUSDT",
          "BOMEUSDT",
          "BRETTUSDT",
          "BROCCOLI714USDT",
          "BROCCOLIF3BUSDT",
          "BRUSDT",
          "BSVUSDT",
          "BSWUSDT",
          "BTCDOMUSDT",
          "BTCUSDT",
          "BUSDT",
          "C98USDT",
          "CAKEUSDT",
          "CATIUSDT",
          "CELOUSDT",
          "CELRUSDT",
          "CETUSUSDT",
          "CFXUSDT",
          "CGPTUSDT",
          "CHESSUSDT",
          "CHILLGUYUSDT",
          "CHRUSDT",
          "CHZUSDT",
          "CKBUSDT",
          "COMPUSDT",
          "COOKIEUSDT",
          "COSUSDT",
          "COTIUSDT",
          "COWUSDT",
          "CRVUSDT",
          "CTKUSDT",
          "CTSIUSDT",
          "CVCUSDT",
          "CYBERUSDT",
          "DASHUSDT",
          "DEEPUSDT",
          "DEFIUSDT",
          "DEGENUSDT",
          "DEGOUSDT",
          "DENTUSDT",
          "DEXEUSDT",
          "DFUSDT",
          "DIAUSDT",
          "DODOXUSDT",
          "DOGEUSDT",
          "DOGSUSDT",
          "DOLOUSDT",
          "DOODUSDT",
          "DOTUSDT",
          "DRIFTUSDT",
          "DUSDT",
          "DUSKUSDT",
          "DYDXUSDT",
          "DYMUSDT",
          "EDUUSDT",
          "EGLDUSDT",
          "EIGENUSDT",
          "ENAUSDT",
          "ENJUSDT",
          "ENSUSDT",
          "EPICUSDT",
          "EPTUSDT",
          "ETCUSDT",
          "ETHFIUSDT",
          "ETHUSDT",
          "ETHWUSDT",
          "FARTCOINUSDT",
          "FETUSDT",
          "FHEUSDT",
          "FIDAUSDT",
          "FILUSDT",
          "FIOUSDT",
          "FISUSDT",
          "FLMUSDT",
          "FLOWUSDT",
          "FLUXUSDT",
          "FORMUSDT",
          "FORTHUSDT",
          "FUNUSDT",
          "FXSUSDT",
          "GALAUSDT",
          "GASUSDT",
          "GHSTUSDT",
          "GLMUSDT",
          "GMTUSDT",
          "GMXUSDT",
          "GOATUSDT",
          "GPSUSDT",
          "GRASSUSDT",
          "GRIFFAINUSDT",
          "GRTUSDT",
          "GTCUSDT",
          "GUNUSDT",
          "GUSDT",
          "HAEDALUSDT",
          "HBARUSDT",
          "HEIUSDT",
          "HFTUSDT",
          "HIFIUSDT",
          "HIGHUSDT",
          "HIPPOUSDT",
          "HIVEUSDT",
          "HMSTRUSDT",
          "HOMEUSDT",
          "HOOKUSDT",
          "HOTUSDT",
          "HUMAUSDT",
          "HYPERUSDT",
          "HYPEUSDT",
          "ICPUSDT",
          "ICXUSDT",
          "IDUSDT",
          "ILVUSDT",
          "IMXUSDT",
          "INITUSDT",
          "INJUSDT",
          "IOSTUSDT",
          "IOTAUSDT",
          "IOTXUSDT",
          "IOUSDT",
          "IPUSDT",
          "JASMYUSDT",
          "JELLYJELLYUSDT",
          "JOEUSDT",
          "JSTUSDT",
          "JTOUSDT",
          "JUPUSDT",
          "KAIAUSDT",
          "KAITOUSDT",
          "KASUSDT",
          "KAVAUSDT",
          "KDAUSDT",
          "KERNELUSDT",
          "KMNOUSDT",
          "KNCUSDT",
          "KOMAUSDT",
          "KSMUSDT",
          "LAUSDT",
          "LAYERUSDT",
          "LDOUSDT",
          "LEVERUSDT",
          "LINKUSDT",
          "LISTAUSDT",
          "LOKAUSDT",
          "LPTUSDT",
          "LQTYUSDT",
          "LRCUSDT",
          "LSKUSDT",
          "LTCUSDT",
          "LUMIAUSDT",
          "LUNA2USDT",
          "MAGICUSDT",
          "MANAUSDT",
          "MANTAUSDT",
          "MASKUSDT",
          "MAVIAUSDT",
          "MAVUSDT",
          "MBOXUSDT",
          "MELANIAUSDT",
          "MEMEFIUSDT",
          "MEMEUSDT",
          "MERLUSDT",
          "METISUSDT",
          "MEUSDT",
          "MEWUSDT",
          "MILKUSDT",
          "MINAUSDT",
          "MKRUSDT",
          "MLNUSDT",
          "MOCAUSDT",
          "MOODENGUSDT",
          "MORPHOUSDT",
          "MOVEUSDT",
          "MOVRUSDT",
          "MTLUSDT",
          "MUBARAKUSDT",
          "MYROUSDT",
          "NEARUSDT",
          "NEIROETHUSDT",
          "NEIROUSDT",
          "NEOUSDT",
          "NFPUSDT",
          "NILUSDT",
          "NKNUSDT",
          "NMRUSDT",
          "NOTUSDT",
          "NTRNUSDT",
          "NXPCUSDT",
          "OBOLUSDT",
          "OGNUSDT",
          "OGUSDT",
          "OMNIUSDT",
          "OMUSDT",
          "ONDOUSDT",
          "ONEUSDT",
          "ONGUSDT",
          "ONTUSDT",
          "OPUSDT",
          "ORCAUSDT",
          "ORDIUSDT",
          "OXTUSDT",
          "PARTIUSDT",
          "PAXGUSDT",
          "PENDLEUSDT",
          "PENGUUSDT",
          "PEOPLEUSDT",
          "PERPUSDT",
          "PHAUSDT",
          "PHBUSDT",
          "PIPPINUSDT",
          "PIXELUSDT",
          "PLUMEUSDT",
          "PNUTUSDT",
          "POLUSDT",
          "POLYXUSDT",
          "PONKEUSDT",
          "POPCATUSDT",
          "PORT3USDT",
          "PORTALUSDT",
          "POWRUSDT",
          "PROMPTUSDT",
          "PROMUSDT",
          "PUFFERUSDT",
          "PUMPBTCUSDT",
          "PUMPUSDT",
          "PUNDIXUSDT",
          "PYTHUSDT",
          "QNTUSDT",
          "QTUMUSDT",
          "QUICKUSDT",
          "RAREUSDT",
          "RAYSOLUSDT",
          "RDNTUSDT",
          "REDUSDT",
          "REIUSDT",
          "RENDERUSDT",
          "RESOLVUSDT",
          "REZUSDT",
          "RIFUSDT",
          "RLCUSDT",
          "RONINUSDT",
          "ROSEUSDT",
          "RPLUSDT",
          "RSRUSDT",
          "RUNEUSDT",
          "RVNUSDT",
          "SAFEUSDT",
          "SAGAUSDT",
          "SANDUSDT",
          "SANTOSUSDT",
          "SCRTUSDT",
          "SCRUSDT",
          "SEIUSDT",
          "SFPUSDT",
          "SHELLUSDT",
          "SIGNUSDT",
          "SIRENUSDT",
          "SKATEUSDT",
          "SKLUSDT",
          "SKYAIUSDT",
          "SLERFUSDT",
          "SNXUSDT",
          "SOLUSDT",
          "SOLVUSDT",
          "SONICUSDT",
          "SOONUSDT",
          "SOPHUSDT",
          "SPELLUSDT",
          "SPXUSDT",
          "SQDUSDT",
          "SSVUSDT",
          "STEEMUSDT",
          "STGUSDT",
          "STORJUSDT",
          "STOUSDT",
          "STRKUSDT",
          "STXUSDT",
          "SUIUSDT",
          "SUNUSDT",
          "SUPERUSDT",
          "SUSDT",
          "SUSHIUSDT",
          "SWARMSUSDT",
          "SWELLUSDT",
          "SXPUSDT",
          "SXTUSDT",
          "SYNUSDT",
          "SYRUPUSDT",
          "SYSUSDT",
          "TAIKOUSDT",
          "TAOUSDT",
          "THETAUSDT",
          "THEUSDT",
          "TIAUSDT",
          "TLMUSDT",
          "TNSRUSDT",
          "TOKENUSDT",
          "TONUSDT",
          "TRBUSDT",
          "TRUMPUSDT",
          "TRUUSDT",
          "TRXUSDT",
          "TSTUSDT",
          "TURBOUSDT",
          "TUSDT",
          "TUTUSDT",
          "TWTUSDT",
          "UMAUSDT",
          "UNIUSDT",
          "USDCUSDT",
          "USTCUSDT",
          "USUALUSDT",
          "UXLINKUSDT",
          "VANAUSDT",
          "VANRYUSDT",
          "VELODROMEUSDT",
          "VETUSDT",
          "VICUSDT",
          "VINEUSDT",
          "VIRTUALUSDT",
          "VOXELUSDT",
          "VTHOUSDT",
          "VVVUSDT",
          "WALUSDT",
          "WAXPUSDT",
          "WCTUSDT",
          "WIFUSDT",
          "WLDUSDT",
          "WOOUSDT",
          "WUSDT",
          "XAIUSDT",
          "XCNUSDT",
          "XLMUSDT",
          "XMRUSDT",
          "XRPUSDT",
          "XTZUSDT",
          "XVGUSDT",
          "XVSUSDT",
          "YFIUSDT",
          "YGGUSDT",
          "ZECUSDT",
          "ZENUSDT",
          "ZEREBROUSDT",
          "ZETAUSDT",
          "ZILUSDT",
          "ZKJUSDT",
          "ZKUSDT",
          "ZROUSDT",
          "ZRXUSDT"
         ],
         "yaxis": "y",
         "z": [
          [
           -1.273176342871344,
           5.813539123479291,
           -30.06370329807377,
           -22.265622186986718,
           12.65414289069394,
           -7.43350314274885,
           17.72509193449946
          ],
          [
           -7.188458646143668,
           2.3051868195102636,
           -3.200818021717359,
           -7.942774877953104,
           -6.914451706476635,
           -2.1779690796304174,
           22.92517727490863
          ],
          [
           -4.404713123541969,
           1.606460250380684,
           -0.46237997469063513,
           -5.04030082366037,
           -5.862344995623897,
           -4.467959517181644,
           13.30604333947433
          ],
          [
           -6.79179183433733,
           2.348026760884245,
           -0.7983749127887734,
           -1.8324904028413007,
           -6.291815298174155,
           -3.154267086641724,
           14.482066037355656
          ],
          [
           -2.2791132718607927,
           0.23956889078307328,
           -1.2170806915250605,
           -1.7647916108423503,
           -2.4259576185440523,
           -7.614470425506712,
           2.8511521545225507
          ],
          [
           -5.378711224139239,
           2.213017043846059,
           -0.8308812206841379,
           -4.331466937174343,
           -6.4276235882119295,
           -4.537176658833496,
           12.346442489269984
          ],
          [
           -3.3861167798073604,
           0.034608064024265875,
           -0.7292965125112945,
           -1.2450840371690877,
           -3.574695832577901,
           -4.335507081404968,
           5.643665271153886
          ],
          [
           -4.463681779488901,
           2.053765363641907,
           -0.3751440268939612,
           -4.535758193661415,
           -5.979037472045354,
           -4.396688127267725,
           10.975542994895603
          ],
          [
           -0.6100236782139354,
           -6.360655462090753,
           -0.7011012593045876,
           -4.902471324990216,
           -3.050999339670747,
           -0.25425897247142537,
           11.210958347019897
          ],
          [
           -3.50035735733337,
           -2.316705928153442,
           -1.5748356968139168,
           -3.49968420370961,
           -4.76948738080172,
           -3.2119549422112663,
           11.74532747300647
          ],
          [
           -2.174276726046134,
           0.6358502261691263,
           -0.8688600403314024,
           -2.404697692453779,
           -3.7144809328066195,
           -2.7470417704390537,
           8.771134595217228
          ],
          [
           -14.629209321473708,
           -8.204242266644274,
           -8.128263343685695,
           9.237332013101526,
           -9.237332013101517,
           1.2024192966801812,
           6.553404137907274
          ],
          [
           -2.39969783113504,
           -0.7951274332558091,
           4.830853574911532,
           -4.990640559641086,
           -3.3607498891088072,
           -4.279932484974457,
           7.587363257917379
          ],
          [
           -3.636764417087495,
           5.034411207329626,
           7.662042744980519,
           -6.574981742614365,
           -7.740047180584727,
           -3.2604414460542577,
           6.95546549086873
          ],
          [
           -3.540192705091595,
           0.9493742192251143,
           -1.9613668772013477,
           -2.9885408033936876,
           -5.3240205372001785,
           -3.1917602968304974,
           8.460608418838042
          ],
          [
           -9.106852419177395,
           -1.7091482083389726,
           -1.7654492172605913,
           -1.7250282515967275,
           -4.527579146257104,
           -1.6357949151884814,
           9.27878021965019
          ],
          [
           -3.1728760789401287,
           -2.878225177457395,
           -1.3376045142861077,
           -3.278721315495372,
           -5.260984368521,
           -2.928853392826207,
           12.026772686000523
          ],
          [
           -0.60997677467242,
           -2.4778094019582935,
           -0.8521726264474687,
           -5.271413194070776,
           -6.230528417203357,
           -4.28591338285313,
           9.807916891531827
          ],
          [
           -2.6376196746333673,
           3.9948847367248885,
           2.365565542234777,
           -3.5359534735283438,
           -5.544539048422192,
           -3.02184869493501,
           7.659895471909871
          ],
          [
           0.2838739759794449,
           -6.416063063411335,
           -3.357289304082461,
           -2.9277524179498795,
           0.7154341605037581,
           -0.17222294821528505,
           6.159464527440335
          ],
          [
           -5.551784141164044,
           0.3202052047479835,
           -1.2870190520534908,
           -4.165891631692274,
           -2.668649642290451,
           -5.7076831135436805,
           11.761986359107901
          ],
          [
           -3.439428388569955,
           -0.80825182271403,
           -0.331785307679356,
           -4.1909602479024235,
           -3.7427139757496932,
           -2.6245355518378393,
           7.1611784475670595
          ],
          [
           -4.215628073702396,
           -0.9824919005929231,
           2.0922504050891364,
           26.095839189966835,
           -7.927186431397228,
           -13.307775918744918,
           24.097597568497793
          ],
          [
           -8.764153644081869,
           17.378108753031757,
           3.6656586355554355,
           -8.666700693021578,
           -6.7093733332733345,
           2.2233133235970293,
           6.495150143157387
          ],
          [
           -4.884691946897327,
           -1.4406011443514963,
           -2.3242636502595966,
           -3.1429362530292306,
           -5.51320706947161,
           -3.29247846964665,
           11.824782767032843
          ],
          [
           -3.95535651070278,
           5.116065959725055,
           -1.564098459115904,
           -2.66245503375618,
           -6.310971901401159,
           -3.9533215919705036,
           9.165151993005423
          ],
          [
           -14.544978044167328,
           -2.3824974828169463,
           14.520395068759761,
           -7.809627770475901,
           -3.491510907361628,
           -10.09071358048695,
           16.698719279384797
          ],
          [
           -11.607217125275401,
           6.95260626486101,
           -6.8296050193410185,
           -5.4306271898922205,
           -6.155789299943332,
           -6.045210391727506,
           16.519130858897586
          ],
          [
           -7.425022168809457,
           -1.5454396897178615,
           5.317259535592026,
           -3.0112593197698634,
           5.149092935640761,
           -4.5447821107587565,
           5.05038538502191
          ],
          [
           -6.076292757116269,
           1.6077650662385583,
           -2.324130693493911,
           -4.162230904778296,
           -6.080098865992557,
           -4.798464161339457,
           10.463276369077166
          ],
          [
           -9.70932270205743,
           -0.006565772629657137,
           -4.25196483328691,
           -8.266100407624306,
           -9.10922682459532,
           -4.06759612753576,
           18.931518390043177
          ],
          [
           -7.462264020419705,
           2.5790669140802276,
           -0.7933051740795989,
           -5.642989218624591,
           -4.304825356851383,
           -5.83666646126405,
           12.546788164294076
          ],
          [
           2.6101585246315864,
           -1.089886005579914,
           0.2775466672036075,
           -3.5136571751454815,
           0.0819873785370278,
           -1.145695614641404,
           8.969505337204085
          ],
          [
           -3.765286952555856,
           0.6472514505617519,
           -0.8245040819036948,
           -1.2496443487779414,
           -2.7931384689177707,
           -1.4888612493750524,
           11.165317528084659
          ],
          [
           -2.8315920117287856,
           -0.2614380574070821,
           -0.26212334798741926,
           -3.2002731086173832,
           -6.725222700916746,
           -5.97192347016222,
           12.153666572483282
          ],
          [
           -4.3403038771463205,
           -0.7258681761683271,
           -2.1601232647006023,
           -2.4618173673671593,
           -7.38732395521982,
           -2.832735924539758,
           10.423311982251809
          ],
          [
           -4.052861033155838,
           0.6578490210786446,
           1.6044284326961904,
           -3.4129023329243733,
           -4.91092061558374,
           -4.054931859390221,
           9.675494719750379
          ],
          [
           2.8048679862615518,
           10.158951358877754,
           -11.88461972120902,
           -4.146285353507251,
           -10.210673488265716,
           -10.66264800075633,
           9.314009893100312
          ],
          [
           -7.055486932371689,
           -2.1846093061249388,
           -2.28146777661714,
           -5.230595270193669,
           -5.038718340691817,
           -4.466973566412943,
           7.613536248461659
          ],
          [
           -4.273284958596809,
           1.1026989748914848,
           3.2369650103709677,
           -4.686766034550344,
           -6.314866684851691,
           -4.236639637162923,
           9.08037646298345
          ],
          [
           -1.8435808195943797,
           -3.5052876755042366,
           0.3973620423605607,
           -2.5708356710207036,
           -5.813545348777514,
           -3.636125519058796,
           8.894748601649612
          ],
          [
           -5.794557366105392,
           2.1267560720586736,
           -3.081454613718578,
           -4.997816316049356,
           -4.445176257083381,
           -4.182347521017926,
           10.20210116742341
          ],
          [
           -5.258138535073669,
           0.3146989357369615,
           -1.5948940585191838,
           -2.655115243442393,
           -2.612093234323342,
           -5.786564345312305,
           9.400576581204595
          ],
          [
           -4.860168051983055,
           1.2780773678559902,
           -1.9398931521038096,
           -5.003595977094444,
           -4.1694975806599945,
           -2.6923994012132937,
           11.998206979773956
          ],
          [
           -12.265871571986743,
           4.410106994931935,
           -2.3421936551287637,
           -7.68461464800396,
           -7.318377144696041,
           -4.653988193469583,
           17.58906664636642
          ],
          [
           -5.08272439347026,
           1.6940235703927091,
           -1.4502561366626943,
           -3.76637143072684,
           -6.774598853238809,
           -3.733366052246069,
           12.802737872960405
          ],
          [
           -3.94321402312007,
           0.28893403516052313,
           2.816286257284492,
           -2.29829948760029,
           -4.191089561563683,
           -3.316902271577064,
           8.45072128329965
          ],
          [
           -4.160924932069849,
           -0.311365067327947,
           -0.5211059212752199,
           0,
           -5.035879194205849,
           -6.644509940815274,
           10.68274368538386
          ],
          [
           -3.220890336961794,
           -2.317984577899312,
           0.0558191474164017,
           -5.860378561775668,
           -4.168528618144307,
           -0.9296627228969342,
           8.472566170877391
          ],
          [
           -0.665134199386594,
           -1.2396852976828572,
           7.796154146971192,
           -1.306575567643015,
           2.5962996785255577,
           -0.810106884533251,
           9.400441248060035
          ],
          [
           -3.115242304659529,
           0.7455766131343234,
           -1.0674019239993155,
           -2.8977936212726756,
           -4.050177529859114,
           -6.123441711639047,
           7.271529990953532
          ],
          [
           -6.121862242790073,
           3.230094478832103,
           -0.7361996441069194,
           -2.2416878914542147,
           -4.376502796675897,
           -2.937460867990413,
           10.779657045570739
          ],
          [
           -4.924331460252982,
           -0.08656760026977636,
           -6.715935051099631,
           4.55652812031665,
           -3.085462671027637,
           -6.180420377242838,
           2.933883900594112
          ],
          [
           -2.966994637385281,
           -0.1494396293053657,
           0.5716431622223163,
           -2.7894760018795495,
           -3.474552260878168,
           -1.9718198142742904,
           9.124084856924961
          ],
          [
           -1.5384918839479569,
           0.7300460927463911,
           -0.34848760121428884,
           -3.2906194769019765,
           -4.6317003242631465,
           -4.580595765684238,
           8.113021526885099
          ],
          [
           -3.949355579699252,
           1.4873535853017843,
           -0.3000266979839363,
           -2.0816515289472908,
           -5.263452038450075,
           0.5185946355670182,
           7.363175841940146
          ],
          [
           -7.315238122885057,
           2.215959151464122,
           1.9601607640632883,
           -12.264753447751936,
           -6.140862812864349,
           -3.6059049815702524,
           17.907655665062745
          ],
          [
           -4.43187418360306,
           4.303751167998219,
           -0.3485922253025373,
           -3.8596023181288244,
           -3.3012706621853556,
           -6.1266486207592985,
           12.234394084937295
          ],
          [
           -2.5251853402744358,
           -2.281674848751754,
           -0.6077366771547233,
           -3.8872754856007496,
           -3.1962449187822957,
           -1.7885484570070225,
           8.905313542547283
          ],
          [
           -1.4960148718723552,
           -0.1415901595419249,
           1.1757821479255466,
           3.393980103492829,
           -3.182208232739055,
           -1.4072351838677994,
           7.403345477672708
          ],
          [
           -5.811182669656792,
           1.2152702894370415,
           -4.790389549496271,
           -0.6763180114393299,
           -3.9872391247377346,
           -5.069876404899186,
           5.492710015851288
          ],
          [
           -3.988391644939261,
           0.08841733555674448,
           -1.0662029034782579,
           -2.0758868180866528,
           -4.285704757288784,
           -3.044448706233036,
           10.073748081705153
          ],
          [
           -2.104127202348789,
           -3.407232270730229,
           4.5656581993684355,
           -3.665562113470807,
           -0.7194275634027197,
           0.2703922332400915,
           11.333940060684435
          ],
          [
           10.836450146019882,
           -13.857426765838458,
           -2.837312188598217,
           -4.685029935160528,
           -7.11494726891631,
           2.3140253502802355,
           7.595801077040979
          ],
          [
           -9.323459932829547,
           -5.226651032157208,
           1.112496022665457,
           -5.864185206990595,
           -8.35610921224309,
           -4.245693130905056,
           16.165606349662678
          ],
          [
           -2.737218787591839,
           -0.09915717222950518,
           0.09915717222950275,
           -2.9162448688991405,
           -5.667833701843821,
           -5.208933696100229,
           11.284099936707642
          ],
          [
           -0.42247633603086054,
           -5.858394504179402,
           1.1781642884207997,
           -2.2069613780382102,
           15.311344293310297,
           19.35698050008538,
           43.312752297165595
          ],
          [
           -6.315011677387361,
           3.293421901474298,
           -2.1895838905725156,
           -4.84627068723947,
           -7.747301327157524,
           0.6513787644376755,
           13.417190642387206
          ],
          [
           -6.143538571622229,
           0.36047884357276133,
           -1.5327864986332176,
           -2.949569179325655,
           -4.997971848362721,
           -6.500617227834944,
           11.942351538513698
          ],
          [
           -13.772540215671311,
           3.6435450004176544,
           2.609728767186749,
           1.356629508761464,
           -1.9385333142062393,
           8.783610058374624,
           8.328842656110252
          ],
          [
           1.6229638000681514,
           -0.29157039779690685,
           0.47978159203335874,
           -0.97913691292781,
           -5.20840345888095,
           1.3367251061721637,
           5.362325332313626
          ],
          [
           -2.6454448522349363,
           0,
           -0.08126778179903221,
           -1.6393809775676382,
           -4.478991139711021,
           -3.16093041215166,
           8.790304000011135
          ],
          [
           -6.099514454031072,
           -2.038795606898234,
           -3.5834995198157484,
           -5.276280236691047,
           -4.842704839401465,
           -4.342401033330304,
           11.107448222566475
          ],
          [
           -0.2138299031754009,
           -0.6638344405661979,
           7.8583314478412465,
           -4.831240149774784,
           -1.3928246003213038,
           -2.7417413568206737,
           1.6696336087351482
          ],
          [
           -12.444417602316584,
           8.206495305430442,
           0.8620743043907175,
           -8.943334778174536,
           1.9520371951396176,
           -12.710837008389472,
           15.105979546811366
          ],
          [
           -6.255982061419204,
           -1.2920318298178461,
           -0.7187471834513228,
           -4.206454039511911,
           -6.333815956593409,
           -4.4643531834644135,
           11.429708637942829
          ],
          [
           -6.84027268844004,
           0.25252538671939884,
           0.335711603587244,
           -2.760846408099331,
           -5.715841383994864,
           -5.675614503851453,
           9.346572800567717
          ],
          [
           -4.6590704497891835,
           -0.2075766183844531,
           -2.4718586953676414,
           -5.247105173745348,
           -6.2520356981334055,
           -5.589419116840846,
           10.76951225168581
          ],
          [
           -3.4635496662756218,
           3.5698760984086344,
           -2.1483103330072817,
           -2.7519623280376386,
           -4.450249437715066,
           -4.413357833948093,
           13.124218903038813
          ],
          [
           -14.02422497811262,
           11.076027532054516,
           18.555158027844893,
           -4.184096544787385,
           4.450763369478902,
           7.287076048032196,
           24.840041086466496
          ],
          [
           -4.8329315929442,
           0.6995018596891271,
           -0.9654594632650122,
           -4.453823110930999,
           -4.18335109690217,
           -5.214501808747429,
           11.834122713054764
          ],
          [
           -4.955926311068215,
           3.2934242116403523,
           -3.079520386765418,
           -5.366800890018011,
           -5.49785699013966,
           -3.9307334488170116,
           13.524726202063208
          ],
          [
           -5.440122142261478,
           0.7399966495907293,
           -0.7399966495907326,
           -3.79844755842707,
           -4.945667884865908,
           -3.876687363375212,
           10.753373088084443
          ],
          [
           -1.560166702640553,
           12.423777325805139,
           -7.687537394757634,
           3.295106404381593,
           -10.190130206135589,
           7.608728414787026,
           2.9992397308661602
          ],
          [
           -0.41577540300214616,
           -0.5741405621120119,
           0.027932094157580467,
           -0.4400601104004021,
           -2.0356015644720125,
           -2.0941406672075216,
           3.870711112357275
          ],
          [
           -3.3046853838323993,
           -0.14258242351888453,
           -0.15774052469187597,
           -4.012776802711759,
           -3.7252783471451187,
           -3.142383638528037,
           6.373457038316683
          ],
          [
           -5.152172782467236,
           1.0389703849135867,
           -1.4313842305269986,
           -4.76440322388095,
           -6.238734288164333,
           -4.9485358211444215,
           13.497155417150363
          ],
          [
           -4.2441152060071925,
           3.2170606455893855,
           -2.5323690319929892,
           -7.295027150707181,
           -5.488310000281319,
           -4.3443520410145,
           18.64552335190956
          ],
          [
           -4.324998379381663,
           3.082746379525951,
           2.5563313559615475,
           -3.7690118357651388,
           -8.336196238063634,
           -1.4844409148532451,
           18.389890965929016
          ],
          [
           -7.735343692394111,
           -2.9430533836944006,
           -1.9605059220700007,
           3.0118240271085233,
           -4.4394926627767965,
           -4.944991830122413,
           13.449858612300517
          ],
          [
           10.642377997915645,
           -0.19146905115475793,
           1.7310966377822563,
           0,
           0,
           0,
           50.97786128861323
          ],
          [
           2.202099514656823,
           -2.1698362461078804,
           5.583136883053734,
           -6.133033141762468,
           -2.6624415692743053,
           -1.7812603378131044,
           4.929061216153773
          ],
          [
           -2.822135779661197,
           1.0395573844011399,
           -1.175952040690636,
           -2.4874612772873994,
           -4.23973952603577,
           -2.5130664725579623,
           10.730473222777714
          ],
          [
           -0.22180603869102525,
           0.1342607470407991,
           -0.19585721745748177,
           2.124477219301385,
           2.749382216466324,
           1.5212773969643354,
           -3.123864307013272
          ],
          [
           -2.1226965377842255,
           0.3103076520459986,
           -0.21552730627592906,
           -1.3095968225650898,
           -1.1360598383741254,
           -1.1578353299156214,
           4.255048860468593
          ],
          [
           -0.5387478987170587,
           1.387099892577871,
           -1.3751624447900226,
           -4.876778304119844,
           -1.4963345037058384,
           2.7480633891545887,
           5.455405519055934
          ],
          [
           -5.373193208021099,
           -0.42553255701384946,
           -3.030534949532892,
           -7.529210491493857,
           -6.865440473807813,
           -7.0989061243363345,
           11.808574490646254
          ],
          [
           -3.74415705095901,
           0.9784328569133851,
           -1.1008457663577988,
           -1.264597190033088,
           -4.208431500117647,
           -3.4762793454341794,
           7.537584382230812
          ],
          [
           -8.064821783433182,
           -0.6583302249197448,
           -1.0624269920229448,
           -3.2567328662544637,
           -1.528869251509024,
           2.2161571802852347,
           11.136982082167025
          ],
          [
           -2.7683428748416854,
           1.0471299867295436,
           0.3466207976486329,
           -4.6025822395281955,
           -5.205636195605315,
           -5.491575759611477,
           8.128263343685695
          ],
          [
           -10.379679368164355,
           2.8013036227673886,
           -0.6930034664669632,
           -2.2504465910381866,
           -5.1068718274019105,
           -3.814344929902638,
           11.726449792114542
          ],
          [
           -8.228703790157246,
           2.527678318479273,
           0.7438929096998428,
           -4.2941762139653505,
           -6.1066806214530835,
           -3.126373225269891,
           14.486090997640419
          ],
          [
           -3.159863217800876,
           0.3834045501817053,
           -0.7820579065188207,
           -2.5105921131076245,
           -6.040395407495644,
           -4.684157627864119,
           8.82815343587131
          ],
          [
           -7.845845321707907,
           -1.0401542970053923,
           0.9703706235524001,
           -3.60100497007309,
           -7.6811492555475676,
           -2.1058951436619795,
           14.279929955530429
          ],
          [
           2.0825409021459826,
           1.891856356445306,
           7.491659753471068,
           -19.968433083017743,
           1.093737167783135,
           2.47699921500467,
           7.9169360031357074
          ],
          [
           -7.657516422607294,
           3.5809452696710777,
           -1.3151428804127006,
           -6.456567697132476,
           -3.3579474801387135,
           -4.597454065706421,
           17.02518327066242
          ],
          [
           -5.103148001244588,
           1.1711259420901414,
           -1.3021017302964792,
           -4.1477517323145525,
           -4.327262692672158,
           -2.30890487723647,
           12.473368192099347
          ],
          [
           -4.064015980750748,
           0.17030943656727657,
           -0.39784082028083007,
           -2.3333911896557527,
           -4.2876469194230165,
           -1.966269184878163,
           8.530343464447352
          ],
          [
           -4.0148367010780985,
           1.0328075058175452,
           -0.8365916054426764,
           -3.592176414668942,
           -5.06060353784067,
           -5.362626676624296,
           8.843326082252926
          ],
          [
           -8.26632181035575,
           0.7551705204549082,
           1.9604627097532679,
           -5.69186262221173,
           -4.154152993702125,
           -0.623188865470287,
           null
          ],
          [
           -6.762846784273556,
           1.1771136450211128,
           -3.684056922107025,
           -3.653117646886809,
           -6.259421904396567,
           -7.0038076703609775,
           17.35687656843599
          ],
          [
           -4.4302546699957075,
           1.0921610267425488,
           3.4365349965679326,
           -5.079282410762715,
           -4.156991619594493,
           -3.7380680433564994,
           9.503856983456938
          ],
          [
           -4.0563479686526795,
           3.2581348334301254,
           -0.9229324226383944,
           -1.25063664806298,
           -7.721676699939807,
           -3.6032017384707022,
           12.021606647501642
          ],
          [
           -8.849411396960509,
           -1.2800174766961787,
           -3.3068981483553763,
           -4.877351983391507,
           -6.909274165581509,
           -2.73365541637505,
           11.169147205546674
          ],
          [
           -4.054609439435002,
           2.888900985213707,
           -1.5190165493975232,
           -3.8132869695444027,
           -2.142939145589894,
           -3.303052567648184,
           7.716831650219314
          ],
          [
           -3.4147577278056915,
           6.59487291057232,
           -1.1036286142885887,
           -0.577083217349525,
           -4.13561043355902,
           -4.539223836412467,
           7.761206652407197
          ],
          [
           -10.000395782155879,
           1.1618387953865057,
           -2.3373351185308713,
           -3.2620918169266266,
           -4.643691429275837,
           -5.640592791355198,
           11.325960306456611
          ],
          [
           -2.320392755334697,
           0.4147290593888685,
           0.6133278217073744,
           4.063075889291986,
           -8.112855175690685,
           -3.163667148777231,
           7.5574898354072495
          ],
          [
           -4.720640456979621,
           -0.15117160853219674,
           0.07561437033240964,
           0.5277057100843819,
           -10.452544254040482,
           -5.226028492485852,
           9.39500163750417
          ],
          [
           -2.7674722156220253,
           1.166637629523293,
           0.20151140320211125,
           -1.9309543044256212,
           -3.6576700094095425,
           -2.7517247399369835,
           7.582578314848533
          ],
          [
           -5.818327091169999,
           0.6484226896155609,
           -0.24831646756307635,
           -1.8477505507311354,
           -8.359852325040611,
           -4.767689172177096,
           19.662902977077483
          ],
          [
           -4.235575121030219,
           0.5032416262951852,
           -0.5797117684325847,
           -4.298544079452832,
           -4.943723499833157,
           -3.3618045102505016,
           10.156993192552894
          ],
          [
           -8.151259683187915,
           -0.28161099996420247,
           -3.2677026026300244,
           -7.21822678930709,
           -9.763043920917498,
           -3.442559828018045,
           12.261606808022226
          ],
          [
           -2.689381451827655,
           -0.444059036479117,
           -1.875054934537603,
           1.0687947993084201,
           -0.8029812044495195,
           2.3418453488859874,
           2.8778964550043544
          ],
          [
           -5.774099468951645,
           4.612260673565154,
           -1.3445580709351097,
           -3.6179656577502475,
           -7.843581228723339,
           -2.497728308619721,
           10.86624512595745
          ],
          [
           -0.295992930129291,
           -1.065973759308561,
           -0.8447657712656268,
           -9.284952579336295,
           -0.4729349902744465,
           0.6894817916642496,
           2.351570164355853
          ],
          [
           1.9797535659447707,
           -1.306873180342749,
           -3.9189761865447243,
           -4.66733075797013,
           3.6156829370895096,
           -7.308674513375522,
           9.983345855568034
          ],
          [
           -4.9094392951821195,
           0.6104863021335566,
           -2.5188898726052096,
           -2.083979998064836,
           -4.0141058957765114,
           -5.88055389608128,
           11.352531851024533
          ],
          [
           -6.51367583604744,
           -0.2982084011516051,
           0.715745542199674,
           -3.5462956198110143,
           -5.747784466368764,
           -5.293642758502424,
           10.531614910132934
          ],
          [
           -1.9598720156638074,
           0.7709775410821817,
           0.16402089085193278,
           -5.152436400985558,
           -4.971497696076939,
           1.7654125652900872,
           null
          ],
          [
           -5.614700239514031,
           1.9585428232384432,
           -0.5445365458571949,
           -2.4478127013704114,
           -6.6085146869193885,
           -4.363694052555739,
           12.950904083257536
          ],
          [
           -6.8539084690576155,
           5.7979817312558,
           1.63456508416484,
           -2.491549110699527,
           -3.1822164411679204,
           -9.620212607788007,
           22.349309355188133
          ],
          [
           8.495553794990306,
           -2.708890657658057,
           -1.633284834980183,
           -12.511052660609456,
           -8.34841405869483,
           -5.58022277878603,
           6.1003914632284095
          ],
          [
           -3.4654968996865523,
           -2.562844738621835,
           -2.0930023131488023,
           -3.1221209784319326,
           -3.4031986676593675,
           -5.284714841596561,
           8.016476159711152
          ],
          [
           -6.609833133360066,
           4.063347533787002,
           -2.0110366950862617,
           -0.7646891624599672,
           -8.999749693782173,
           -7.8050970602343295,
           8.084675333586295
          ],
          [
           -3.3526226612965946,
           -0.06435006657064149,
           -0.2578151605299146,
           -4.150793478965063,
           -2.0388066038663117,
           -5.903817063151834,
           10.696156395849481
          ],
          [
           -1.837020660174914,
           3.3238270081898342,
           -1.6006367530209662,
           -3.1038636215527706,
           -5.908380830462653,
           -6.390169307346465,
           11.748774553169234
          ],
          [
           -0.392927813988955,
           0,
           0.3929278139889557,
           -5.43940720657988,
           -6.191945561122466,
           -3.8164002945757907,
           10.83309279869997
          ],
          [
           -6.242025938609509,
           2.124262883939559,
           -5.014516422507077,
           -4.876891492643553,
           -5.692220266606183,
           -3.8031057352194946,
           12.397904439108338
          ],
          [
           -5.621562396938649,
           1.9091836095187824,
           -0.9118604216434456,
           -3.1797948480809537,
           -4.513255877033759,
           -3.4384938807092222,
           9.82534086348996
          ],
          [
           -4.615037085930919,
           1.8818054842236913,
           -1.174724391415226,
           -2.8512744046653338,
           -4.842774684191713,
           -4.806119721006395,
           11.733937992594768
          ],
          [
           0.08441668574919255,
           3.5559670512684804,
           -2.715696583425245,
           -5.938073005231714,
           -8.444770712104885,
           -2.8717610249034586,
           13.4252023829219
          ],
          [
           -5.018474593595638,
           1.9115626308760125,
           -0.9158218289713764,
           -6.317120910673328,
           -5.98004233027872,
           -4.83700843480896,
           12.239230424004308
          ],
          [
           -3.3137360327498504,
           -0.12148824577009061,
           -0.8545756265224818,
           -2.7186140304156834,
           -5.636206588642499,
           -2.7019543052626065,
           11.225215359215253
          ],
          [
           -2.8968778625935814,
           0.6844860385032489,
           -0.8968218109009493,
           -5.653045351473753,
           -6.031673797991196,
           -3.3019276525076218,
           9.734446432850511
          ],
          [
           1.2124945230701492,
           -3.631684019799323,
           5.283650457035633,
           -22.480742514723733,
           -2.270051101855114,
           0.32043409227135616,
           9.824779396217991
          ],
          [
           11.151461357337533,
           -1.6393809775676498,
           -10.865642175721929,
           -5.341697420678786,
           -8.31351539290455,
           6.721645043387609,
           2.8793554442749585
          ],
          [
           -2.713309923639972,
           0.33943540894438085,
           1.0653445728817994,
           -3.639647063445719,
           -3.416706947978179,
           -2.491428829899492,
           7.582845525341993
          ],
          [
           -6.270954531888785,
           -0.029736829281917572,
           -0.5666864098854206,
           -6.5615870961465665,
           -8.831881358361894,
           -2.5917341797610063,
           14.453991588635311
          ],
          [
           -1.3511391962162973,
           0.5762582315491132,
           -0.1312536496318151,
           -4.660580305862242,
           -4.715291401365172,
           -3.0217120627443297,
           7.943407029219013
          ],
          [
           -1.5134958773850533,
           -0.3257685582721569,
           -1.13761891946488,
           -1.485120945287911,
           -6.727164580462011,
           -2.352291478804757,
           7.299528478268746
          ],
          [
           -7.365237052389929,
           2.1895725389371057,
           -7.984219301858532,
           -10.719635365350824,
           -2.679023336756881,
           2.4746452738983216,
           11.654996773529287
          ],
          [
           -5.972367215461299,
           2.8374979426839584,
           0.8298802814695064,
           -4.636542028790483,
           -6.0537672435411425,
           -4.346686426403608,
           16.21071809330776
          ],
          [
           -1.3903900318136957,
           -5.776701592946555,
           -0.09358915049050914,
           -2.4234584809833386,
           1.0632597442400562,
           -0.054252001873178135,
           4.275744226964595
          ],
          [
           -4.261070651230556,
           -0.7848005195394501,
           -0.806581075146166,
           -4.019923255088302,
           -6.410627561538846,
           -3.7334852058240533,
           10.999715694548334
          ],
          [
           -2.9250283050015686,
           -0.16736405580296485,
           -1.8597323815589515,
           -3.737940598729584,
           -3.1034647186744366,
           -5.783044784327916,
           8.664829075266073
          ],
          [
           -2.5369889961333567,
           0.6920442844573758,
           0.5502077153983338,
           -3.489537585061566,
           -1.5748356968139168,
           -3.2260862218221553,
           8.70113769896299
          ],
          [
           -4.306637974662281,
           0.07402316205397541,
           -3.5068668300979695,
           -3.9982991789878053,
           -6.545051390484067,
           -3.465693380904415,
           12.353194217709778
          ],
          [
           -4.525659158812094,
           -4.417121831313742,
           -3.2789822822990957,
           1.3245226750020722,
           -0.6600684031352024,
           -2.3451661035049933,
           13.31075740125419
          ],
          [
           -2.0086758566737344,
           0.28943580263645563,
           -0.8708327891784197,
           -2.65894541892395,
           -3.9699869846684583,
           -5.770831762064673,
           8.535984895115686
          ],
          [
           -6.168914736672484,
           1.6419045095030769,
           -1.4868256466839362,
           -4.4357852630397545,
           -2.293929094625334,
           -4.578363857658093,
           11.256411978059164
          ],
          [
           -0.838937611635863,
           -1.6239421066824755,
           -4.541443649884963,
           0.3065073020494799,
           -3.1039219271796012,
           2.4275287016775278,
           15.297820371530774
          ],
          [
           2.2091628205777645,
           0.4282661792000728,
           -0.6235406017284022,
           -2.8953043608058846,
           -5.798725765034928,
           -7.617670062395013,
           7.873206828363985
          ],
          [
           3.863779270541392,
           22.558953704247013,
           12.924698333690154,
           8.57668217574251,
           27.844456685530584,
           18.78695849539444,
           15.789377081726277
          ],
          [
           -4.391240397006472,
           -3.681803932868176,
           -0.4651367851613396,
           -4.017055802683801,
           -1.1269974639361513,
           -3.7229034037747777,
           8.131018009056014
          ],
          [
           -4.664768879178512,
           1.4639508574611508,
           -1.886189345445968,
           -3.152123430977811,
           -5.152315302550081,
           -4.066236486072558,
           10.448223702737469
          ],
          [
           -1.7313451861319533,
           0.03492229824211292,
           0.869117238569898,
           -3.129100430293989,
           -4.193868922033019,
           -4.299692158545507,
           7.6327236269185
          ],
          [
           -4.253654929441626,
           -0.05537098701825264,
           -1.3662557427850686,
           -1.9274973155605193,
           -4.208686587488968,
           -4.144407852165425,
           8.866940845754938
          ],
          [
           -2.410293979750543,
           1.607361862986947,
           -0.035637919122729574,
           -2.0344567025780926,
           -4.178492919472125,
           -2.851771720147238,
           7.95810401447726
          ],
          [
           -2.562572361783976,
           -0.39673845294696103,
           -0.6869833112311404,
           -3.7612045556080735,
           -6.019179008022628,
           -3.3664817256773243,
           8.8531904398652
          ],
          [
           -4.234935281052915,
           -1.3001266557373627,
           -0.8693623566944163,
           -3.3415663171605945,
           -5.712077953250955,
           -3.0569398526598723,
           8.47000006923095
          ],
          [
           -7.772745602745701,
           2.7699760310367707,
           -1.982488799117978,
           -1.8331937178547075,
           -6.863252735440958,
           -3.891452270042884,
           15.115293007974467
          ],
          [
           10.106955468264278,
           -7.651170390097885,
           5.887900525002278,
           17.765162684664627,
           -6.066894904000637,
           2.969780239174191,
           1.1274896672540438
          ],
          [
           -6.89882169577455,
           -0.5601078845278967,
           -6.587340031847155,
           -7.892472267799149,
           -7.838053389778228,
           -1.3163315646924694,
           7.0136429617515885
          ],
          [
           -6.224841560449355,
           2.010352884577833,
           -6.230388333615487,
           -8.316745324704506,
           -5.671764942139076,
           -0.8820657559654391,
           17.207585985142998
          ],
          [
           -4.541724910047339,
           0.9155286586954395,
           -0.8916423573756214,
           -4.331794177205993,
           -4.619346369390523,
           -4.624019881980762,
           10.704149840334138
          ],
          [
           -4.184710993550037,
           1.273902577742971,
           -2.998083221193567,
           -1.7544309650909509,
           -4.989697114462316,
           -5.74320490858754,
           10.732902023049853
          ],
          [
           -1.5146067654282869,
           -1.4604410227565905,
           -4.594867656648372,
           -6.22980926296597,
           -0.043149946732074264,
           -7.434039516464609,
           9.695710486144671
          ],
          [
           -4.698850943591921,
           -0.862818122333823,
           0.9486918931756209,
           -2.69698817121037,
           -3.4996842037096214,
           -5.925569620909314,
           8.806056799826841
          ],
          [
           -1.3259722173596502,
           5.8359460264911,
           1.8430133554944224,
           -1.8760479010662783,
           -8.48247775963428,
           -1.9075523279332014,
           22.349754690905225
          ],
          [
           -3.187916996979815,
           -0.4792934547468709,
           -0.09478031987036857,
           -2.1497370609310957,
           -4.675072275323064,
           -3.2202613103383335,
           12.586333520519469
          ],
          [
           -3.981093032114195,
           0.8280302087219634,
           -0.12694384440362055,
           -3.6873517607426085,
           0.6568168112097169,
           -4.862651144015758,
           5.385016027528419
          ],
          [
           -6.019985442759117,
           -0.2344208926609578,
           1.2825671343892335,
           0.3277111366598549,
           -7.927318089450777,
           -4.822782231325577,
           13.650575798980622
          ],
          [
           -3.877011046457099,
           1.7416985994002179,
           1.994368096733533,
           0.28169032711133735,
           6.796092805844492,
           2.5941791978000124,
           14.514740357729938
          ],
          [
           -3.6526792244654085,
           2.6953748700243736,
           -1.2717263544333677,
           -2.749979642003254,
           -4.128842961444966,
           -8.050321884907067,
           11.884208384353963
          ],
          [
           -1.052932975270275,
           5.737504156604983,
           -12.358627009112451,
           -7.7318247783970175,
           -6.509601841812969,
           -3.9193259858197904,
           27.20356782673142
          ],
          [
           -4.949364643551739,
           0.8779084806433529,
           -1.4509759515418754,
           -1.5729483167804463,
           -4.17262400247132,
           -2.3842892369930273,
           7.623229568093592
          ],
          [
           -6.515032904897673,
           -1.9778147791643748,
           0.2493766878402458,
           -4.717254420617046,
           -6.332081201954452,
           -7.058364533603495,
           10.341833233274729
          ],
          [
           -8.955886140468666,
           2.3546271960324066,
           -16.322554859858187,
           -11.623643330585141,
           8.408665001171704,
           -8.414141002596843,
           14.31300493547733
          ],
          [
           -11.17209979736438,
           0.9370188287584541,
           -0.6237026455547773,
           -3.6097337371012985,
           -7.402481552816975,
           -4.646458172595662,
           11.506932978478709
          ],
          [
           -4.265776429373356,
           0.5872007477222589,
           0.4672905699392423,
           -3.559094510270263,
           -4.3189932750411675,
           -4.250478835447117,
           10.364852472147865
          ],
          [
           -4.022667904836812,
           -4.319759623061232,
           9.438479739617591,
           -9.89903211900182,
           -5.170698195519616,
           0.5223601724762135,
           9.268735977962013
          ],
          [
           -6.20070977741725,
           0.8430963288799421,
           -1.5985295720580488,
           2.1566705558775703,
           -12.219908002065608,
           -3.0869933935861362,
           9.481865853613485
          ],
          [
           -4.763619500780074,
           -1.2284919377886474,
           -6.823328162893297,
           -9.939433027695005,
           3.0500240578203583,
           3.799530775529531,
           6.5518700111799335
          ],
          [
           -5.231815965868143,
           -0.13681229535542058,
           -1.2200072611946724,
           -2.648098567271292,
           -2.469769493709415,
           -5.328032991324958,
           8.587520065013987
          ],
          [
           -4.182651494626052,
           -1.604086737428815,
           -0.8547060578458298,
           7.441448556608332,
           -7.098689009381581,
           2.2833973038508515,
           7.410797215372184
          ],
          [
           -4.347293990013098,
           0.9804310168323501,
           -1.3880748934301614,
           -3.659460096494968,
           -4.446981816400561,
           -2.779126227104899,
           8.436888117489588
          ],
          [
           -5.76578894010043,
           1.7118820331780562,
           -1.7028896317511928,
           -3.104988727972402,
           -6.485394050879098,
           -4.815200679004302,
           10.854372924124057
          ],
          [
           -8.813931781176096,
           -0.7038009878912757,
           -1.1266344983100556,
           -4.225980928988273,
           -5.0049950172452915,
           -2.5719611950928414,
           14.380274063840313
          ],
          [
           -5.925515142349484,
           0.8908303987262226,
           -3.673267961987002,
           -8.598961333682489,
           -4.070130958669416,
           -5.903039547550799,
           10.506505103756481
          ],
          [
           -5.668671930666339,
           3.9989227274389636,
           -0.05263158016231548,
           -4.284577184166901,
           -7.915779236931088,
           -3.9117625683471804,
           11.442149513256677
          ],
          [
           -4.38287467565688,
           -0.2441258459921203,
           -2.005930551477535,
           -2.429524765999932,
           -3.908019284467193,
           -3.1716558614012382,
           9.913617946347742
          ],
          [
           -3.926810764131129,
           1.2856008101533956,
           0,
           -3.465693380904415,
           -4.57406624585488,
           -3.2152803174654925,
           9.289374689269643
          ],
          [
           1.5118118086750125,
           1.6630580227830365,
           -3.7139546949456768,
           -1.223672644843692,
           -5.002211285717048,
           1.1439590909394377,
           5.889466240175832
          ],
          [
           2.6109645560942614,
           4.309638150131877,
           -4.877660126127294,
           -4.395992321118233,
           -5.553158658078644,
           -4.718691961420115,
           14.368334765498982
          ],
          [
           -3.1392876876552767,
           -17.845897364175816,
           9.64242728061637,
           -15.191351471790052,
           1.7754805607366457,
           1.413133073088301,
           16.630915507564502
          ],
          [
           -6.480030915118906,
           3.553291717886062,
           -3.191424088071758,
           -3.2302971803158766,
           -5.1022798899249295,
           -4.22334478965183,
           15.692907248482552
          ],
          [
           -2.051693410492996,
           4.446629882789331,
           -1.7094433359300067,
           -4.457006376581395,
           4.814207600676078,
           -0.42228420719253174,
           1.486295535015897
          ],
          [
           -4.458076985992468,
           4.296698130325481,
           -4.114775767716963,
           -2.632807915962626,
           -7.050463238313043,
           -2.432187147464313,
           9.958398516527273
          ],
          [
           -0.12433097897456491,
           -0.3312921893945939,
           1.8848851883060271,
           0.506601792713267,
           1.3228799780221356,
           -2.2156230871702283,
           4.391829670619254
          ],
          [
           -0.013822018497423557,
           5.682558316320131,
           -1.0766439506232743,
           -7.149155893123458,
           -2.164286756705228,
           -3.414306840188857,
           6.3976144142713816
          ],
          [
           -4.660032079454261,
           3.228489981302096,
           -1.0563911039356082,
           -6.768828586039211,
           -5.430215607694786,
           -3.8395161157980167,
           15.766518593594197
          ],
          [
           -1.6817990185962566,
           12.031660681147637,
           6.710174570383446,
           3.924151420165493,
           -4.902420091426896,
           2.6941284626519604,
           10.727256212945187
          ],
          [
           -0.8335776925069415,
           3.6697466276068393,
           -1.8251243668234285,
           -2.5179767218452955,
           -4.418762283938102,
           -3.973109394487824,
           11.924799317583854
          ],
          [
           -6.8420179490395086,
           2.1449290280327027,
           -3.891760352171869,
           -1.7049972338023165,
           -3.8323418378376344,
           -2.9192424786918365,
           13.240041342708114
          ],
          [
           -3.6247790392340917,
           -0.9876028723898453,
           -1.9555744194073945,
           0.24654844836072307,
           0.12304665019942226,
           -0.2955667176346733,
           4.768541244989338
          ],
          [
           -5.382124906389475,
           3.0173600763219945,
           -2.6545713912959954,
           -3.12648609745889,
           -4.671066250028266,
           -3.8773385925960744,
           10.92193398795084
          ],
          [
           -5.537128578892215,
           2.5386676136240203,
           -3.925652400039068,
           5.876068837837216,
           -4.213980714233172,
           -9.00128799933864,
           8.817969891172549
          ],
          [
           -4.076191461396168,
           0.2699866646755401,
           -1.6614186720187725,
           -4.357988070402503,
           -4.706559418900314,
           -6.261718427379585,
           10.840929850718496
          ],
          [
           -2.6957480574110235,
           0.7197652728881156,
           -2.7182457422375497,
           -0.6106398534295338,
           -4.113098272070762,
           -5.4533869901664,
           7.744704234099461
          ],
          [
           -6.5477929379507,
           0.4616280557814382,
           -1.9181058851843888,
           -3.8282186571016807,
           -7.008231488918187,
           6.764031123363,
           7.4762665235177925
          ],
          [
           -3.738042718639803,
           1.147989647900241,
           -1.1761546952628867,
           -2.9733465381586464,
           -4.982813738420086,
           -4.109527673668585,
           10.55432416924251
          ],
          [
           -4.563529470661934,
           -20.196855417775115,
           -7.069499955748203,
           0,
           -4.352296993440517,
           -7.9597966727802465,
           7.245507921542231
          ],
          [
           -5.706220154306824,
           -0.837883330504261,
           1.3090637216259853,
           -3.621676821963489,
           10.347409084809833,
           5.445266982152145,
           4.064439828482866
          ],
          [
           -5.789639745868088,
           0.5660635210365376,
           -0.3341046541456037,
           -6.32264719661878,
           -7.08751142637038,
           -3.749127043794632,
           8.027777502141365
          ],
          [
           -5.072700543252213,
           1.6485858977018664,
           -2.3011561893206958,
           -4.260178626909209,
           -2.744817692801411,
           -5.616449197212468,
           12.645690880116167
          ],
          [
           -4.356706773282988,
           0.9660429341361108,
           -0.3286334112878828,
           -4.413516539634147,
           -3.9576004680115204,
           -3.0938144973639536,
           9.571594162770497
          ],
          [
           -4.357325552569733,
           -1.3031198214367001,
           -0.47331142791331776,
           0.47331142791330577,
           -3.2527527739519795,
           0.5405418566907982,
           13.917581024419972
          ],
          [
           -5.663945631016411,
           -1.0703322535771065,
           -0.5869561488272077,
           -2.18860722720651,
           -3.71731214596918,
           -5.9768823732538685,
           12.053563575230806
          ],
          [
           -3.1424423875789254,
           0.3823487213334586,
           -1.55439392739402,
           -5.391470634370322,
           -3.7510909296016637,
           -3.2736736283070536,
           10.968466919772215
          ],
          [
           -6.737218696114278,
           12.258922500141434,
           6.924052298232534,
           2.507417294836689,
           0.6648173477733195,
           -0.7013737364092587,
           22.080077258690185
          ],
          [
           -2.7328989794605665,
           0.9278417079046339,
           -0.7338301356992366,
           -3.0170179170575193,
           -4.271596077841574,
           -4.34604037282723,
           11.815392862576306
          ],
          [
           -3.839913293453591,
           0.5071004781557793,
           -1.4520698391852973,
           -1.0836019341279362,
           -6.372605404533192,
           -3.77509615860968,
           7.572677520796764
          ],
          [
           -2.8923039469250478,
           1.01655721742165,
           0.03527544277863842,
           -2.596311131431467,
           -3.287026363870408,
           -0.062363581690684004,
           5.71029607186167
          ],
          [
           -6.443253841265604,
           2.594287753038348,
           -2.4671960180750943,
           -4.72460563250632,
           -6.794719431576269,
           -2.7451759957083275,
           12.814582269193004
          ],
          [
           -2.1855381303263846,
           -0.25284463533587487,
           -1.017820491575604,
           -4.645912356606615,
           -5.2245557848509945,
           -6.036001321511147,
           9.571898269889207
          ],
          [
           8.166424199997476,
           -5.255615784190393,
           -2.0007566327535438,
           8.735974835702699,
           -0.7692345623155502,
           -13.703079761379152,
           6.776210210081874
          ],
          [
           -3.781314687501248,
           0.7443717034559727,
           -0.9805922857397691,
           -2.3934130109922194,
           -3.8268401304119166,
           -0.6734032181344068,
           9.80704943924252
          ],
          [
           -6.077692386214572,
           1.0816484544523501,
           -4.345095951747493,
           -5.668642629165759,
           -5.290393690473849,
           -1.9898154246793305,
           13.109236702516377
          ],
          [
           -4.261904262562975,
           -1.4137449600545033,
           0.19016473992227814,
           -5.6832141542711865,
           -3.7953819734058163,
           -3.407730847482452,
           10.533458171158596
          ],
          [
           -5.4409370656034,
           0,
           -2.8356664240802507,
           -4.445176257083392,
           3.841350202375169,
           -8.493351765864436,
           9.364379048353747
          ],
          [
           -8.572575435701516,
           -2.317876973554051,
           -2.014456609246735,
           -3.7129877219097116,
           -3.615278539672013,
           -5.083749432395044,
           12.635379646570478
          ],
          [
           -6.229791231352758,
           -0.4458322141711164,
           -0.2908604802545927,
           -3.1177858116265877,
           -4.057160207694648,
           -3.5280484135442824,
           12.281331076685946
          ],
          [
           -3.6082345603991413,
           1.230418380529429,
           -2.8001829548493085,
           -6.754506466100864,
           -5.715841383994864,
           -4.993972171641848,
           5.999924870415188
          ],
          [
           -1.6000341346441076,
           -7.162965613925483,
           -3.526813883745788,
           -3.390155167568134,
           -6.012739797259503,
           3.2335380642936453,
           3.834620500834872
          ],
          [
           -5.805061782126201,
           1.5306421282675506,
           -1.402189959031899,
           -4.73150011529891,
           -5.60506435098583,
           -5.6363251731467,
           12.511884714659693
          ],
          [
           -10.482635862618633,
           -2.2660200584063666,
           -0.23778396651449887,
           -5.706739240433764,
           -3.631630240036595,
           -2.0330733264286116,
           10.9061314620653
          ],
          [
           -4.046614976648121,
           0.2538072428470871,
           -1.8548660988950836,
           -3.682204287767831,
           -6.075021577134415,
           -4.960900466590306,
           9.41535990719342
          ],
          [
           -5.051774856661968,
           2.486713660887431,
           -3.2449480883763036,
           -4.199662813904961,
           -5.938079187809202,
           -1.5337952385546831,
           9.22497336512188
          ],
          [
           -4.972898999764145,
           0.9629704043440589,
           -1.897731370387486,
           -3.0900799236443075,
           -5.699888967739695,
           -5.349769976683604,
           12.93035148974294
          ],
          [
           -3.620602800890689,
           -0.4871912198376724,
           -0.9475536209764912,
           -2.391511824964377,
           -6.696761095883717,
           -6.460058475279677,
           27.39839129545289
          ],
          [
           -4.02434582009655,
           1.4925650216675574,
           -1.203797855947898,
           -2.925896253821516,
           -4.991906717396744,
           -3.7524275265143783,
           9.866282829952763
          ],
          [
           -5.854510430713264,
           -0.6998415460424426,
           -4.821255545339084,
           -3.3429444718471424,
           -3.0287057410646097,
           -2.5387801534912766,
           12.851195957015577
          ],
          [
           -0.11849122576541254,
           -2.886743280874764,
           -0.8305582498694006,
           -0.8237278866478916,
           -2.5692560952229138,
           -3.688116066970655,
           6.133225653387093
          ],
          [
           -1.5759054569416249,
           0.7910570438596123,
           -2.072684177971114,
           -1.2561225872973303,
           -5.011126115299551,
           -6.812833938743186,
           9.594229107695254
          ],
          [
           -5.960399333540765,
           4.083021986170963,
           0.08550663197334765,
           -6.183343892654155,
           -9.056554349637505,
           -2.653581100306899,
           19.484955666617623
          ],
          [
           -6.061598269416974,
           0.036709372314899825,
           -5.997336215637878,
           -7.457573547401493,
           -3.46895098619677,
           1.0723035987596632,
           15.851557150476486
          ],
          [
           -2.9008560514337525,
           -1.931709397243499,
           -1.8932788161564622,
           -3.2636929313022547,
           -2.3981964686485324,
           -5.744400573108007,
           35.17786579038884
          ],
          [
           -4.298422156706745,
           1.4534337357055125,
           -0.3842991279167741,
           -3.0909181874011478,
           -4.032571073027726,
           -2.754665195549495,
           9.529178070955968
          ],
          [
           -2.5872962609106858,
           0.22187717112172817,
           -1.1292839179344494,
           -0.14954391900127154,
           -4.327561577724155,
           -3.7740327982847086,
           8.668675436058221
          ],
          [
           -5.867563458312844,
           0.6658620243598514,
           -0.8786604022749462,
           -0.6411256886681977,
           -8.865549545782342,
           1.065256411620753,
           16.562667822178447
          ],
          [
           -11.577902696966818,
           4.40599897940305,
           0.3764457255442542,
           -9.332610536736222,
           -8.35353447187942,
           -4.320043469064537,
           15.003328041631809
          ],
          [
           -6.078968825605144,
           2.2202577151493457,
           -0.2748512953349048,
           -5.032804334735518,
           -4.9948577273198875,
           -3.9829417646054006,
           11.266883704815573
          ],
          [
           1.5651757759844385,
           -2.2389390862592315,
           -7.27634036359489,
           -3.2609035165295044,
           -7.950630690971404,
           5.683561452148011,
           7.051222731248749
          ],
          [
           -9.145804705081323,
           3.9587945536811766,
           0.8877342894731487,
           -3.2763828879578343,
           -11.637387588620877,
           1.586622117456627,
           12.124204982817437
          ],
          [
           -4.172162661667993,
           1.5373655643941906,
           1.2633266737807116,
           -3.392628853731695,
           -4.846554154038422,
           -2.3845843644419813,
           10.372375607567154
          ],
          [
           -6.932906244658127,
           -0.5901711759215686,
           -2.6215842130893026,
           -5.955097962653214,
           -4.176679301433561,
           -4.2183792303504895,
           11.425868501634064
          ],
          [
           -4.589040474098821,
           -1.7919993579919569,
           -5.2536061883702825,
           -5.238187797579506,
           -10.166114184166968,
           -4.547989933503638,
           10.330793737343898
          ],
          [
           -3.5846131773135768,
           -1.8829864573557578,
           2.610262390263739,
           -3.273614739827122,
           -2.570185714730252,
           -2.2443756054300112,
           8.047910305467118
          ],
          [
           -2.256478928638562,
           -0.49501739988836274,
           0.7615776003733352,
           -2.38411184328598,
           -6.796131150174668,
           -1.9297939965517497,
           7.394859182410466
          ],
          [
           -5.313596147463505,
           1.3052394138103909,
           -2.627740886399052,
           -4.129146807831143,
           -5.935808163446223,
           -4.280584099773682,
           7.402353765373519
          ],
          [
           -5.763774278861067,
           -1.7410668305896888,
           -2.3321434533772836,
           -4.480933415281145,
           -4.445176257083381,
           -4.01056254572291,
           12.599024176426843
          ],
          [
           -4.835888332145628,
           -1.41925471111693,
           -6.906484594051008,
           -2.38531267189733,
           -6.156565899688336,
           -6.700720711862395,
           8.036279120608864
          ],
          [
           11.377548561501081,
           -8.439104090388524,
           -1.2864467098369785,
           -0.7863315811494331,
           24.377664771525254,
           -10.47224318508672,
           1.5648683207940783
          ],
          [
           -4.643000258293954,
           1.181116092834462,
           -2.376349445218577,
           -3.4661981700918396,
           -4.454607105395174,
           -3.982827295151297,
           14.08409556732358
          ],
          [
           -5.658074644476155,
           -1.9418085857101512,
           5.815891417353216,
           -2.4036577828241383,
           0.3578735925845155,
           1.6449820504857309,
           4.969814731465455
          ],
          [
           -3.3635457742953547,
           2.366307593001651,
           -4.091479763850657,
           -10.25287464853014,
           -2.9346742465597493,
           0.19834717246546787,
           7.013708672422917
          ],
          [
           -3.241142946631774,
           0.674182268345952,
           -3.178973995132657,
           -5.582903867960758,
           -7.136091917237384,
           -6.077028611874182,
           9.346237523593105
          ],
          [
           -6.309925415764322,
           4.280629820507316,
           -0.9716990363860385,
           -4.323344027447021,
           -5.893525297527972,
           -3.10465702798953,
           11.561564981583167
          ],
          [
           -7.424912537577848,
           -0.4952957128848531,
           -4.05323972652681,
           -2.725535586791473,
           -6.135549457745007,
           -3.3317268866187493,
           14.946683051483179
          ],
          [
           -2.0321712434879973,
           1.710956191419559,
           -0.035104142649288086,
           -2.1709763936905477,
           -4.1639615289497796,
           -4.23427887457868,
           8.744488734647868
          ],
          [
           -3.3738139631850115,
           0.24479816386400371,
           -0.3265309023739097,
           -3.072055612950168,
           -4.925401540800867,
           -4.344574651045372,
           9.942247631333911
          ],
          [
           -4.185883831789261,
           0.730645681123308,
           0.3367901791965037,
           -4.099897000961192,
           -6.907188851516217,
           -4.072322421052997,
           11.824017852148748
          ],
          [
           -5.229949940284903,
           0.8116540141982148,
           -0.6200830743843219,
           -5.356229826030559,
           -3.964483134724036,
           -5.6725981400777545,
           10.19082041940105
          ],
          [
           -4.712509411885075,
           0.11858490091149886,
           -0.9659353965344604,
           -3.9321768651451268,
           -7.537469114877796,
           -1.836018466926817,
           11.304657643280825
          ],
          [
           -3.617415695010214,
           -0.05418585881698535,
           0.5225707900596297,
           -1.1751016535518963,
           -2.3179845778993236,
           -4.667069212831552,
           12.932991104217034
          ],
          [
           0.4255325570138491,
           -1.5835982550820988,
           -3.9151690513828297,
           -6.343250820105525,
           -7.904734597648261,
           2.149519812689132,
           6.564550314355231
          ],
          [
           -0.5865702265983193,
           -0.5240053193391285,
           -0.1509803687986599,
           0.13270971554251068,
           0.03241338288545634,
           0.19690636830149202,
           -0.9976383119956423
          ],
          [
           -3.7013477431903965,
           -4.005265147470737,
           2.9294350989865965,
           -6.0895067860878065,
           -4.449406296585119,
           -6.642893501363904,
           9.280495928738763
          ],
          [
           -8.676739189861934,
           3.4736072714483623,
           -2.4166517889045545,
           -3.1828299753677736,
           -4.496539136950858,
           -2.2138532268470654,
           15.159246206796197
          ],
          [
           -4.923905054270613,
           0.6633523495633877,
           -1.219527309381813,
           -4.214746822228372,
           -6.426708231627573,
           -1.374162785229624,
           11.28793480718536
          ],
          [
           -5.951011990990963,
           0.9869976938773222,
           -2.3945124172317667,
           -2.970055897351186,
           -3.7432393226353966,
           -3.787198983777655,
           10.86562468701463
          ],
          [
           -3.569876098408644,
           -1.6148917758593995,
           -0.11198779485484815,
           -3.4298549254994253,
           -5.5262678675049415,
           0.8652300233426214,
           7.33424294294375
          ],
          [
           -6.651719607136599,
           1.7913704571950069,
           -0.25395373223621087,
           -4.081236288225048,
           -5.901563520584998,
           -4.599713344778982,
           12.833605338167628
          ],
          [
           -7.223132667790949,
           1.71378361370847,
           -3.132247112904116,
           -4.312442663375469,
           -6.151484845908856,
           5.1293294387550485,
           9.593265103513057
          ],
          [
           -7.9882771647605875,
           1.0635255339831304,
           -4.631013883180548,
           -1.0519898997380552,
           -6.025532765000113,
           -5.74499505319058,
           12.112090019534124
          ],
          [
           -9.729130760937919,
           -1.1547472424771994,
           5.31498741735627,
           -9.58609922666123,
           -4.715513791727772,
           0,
           14.850763217756525
          ],
          [
           -3.987655092182927,
           1.9063684344554164,
           -0.7230299826457108,
           0.7051296872430224,
           -8.540150274872625,
           -4.7209644412080785,
           12.36198979531905
          ],
          [
           -2.6825424820697115,
           -2.1969752395188147,
           -1.629158588395004,
           -2.4315496826074043,
           -5.469783339618446,
           -0.15065479729780618,
           4.932847760506965
          ],
          [
           -3.4826683296161765,
           1.101419363615693,
           0.10947764621748068,
           -2.6370455489722024,
           -3.9445421434726886,
           -5.994142453099432,
           10.7538413520091
          ],
          [
           -9.67174195018064,
           2.09494164126864,
           -4.21712947755664,
           -3.8805890624579056,
           -6.639836282494419,
           -4.330717638232031,
           17.454100976282678
          ],
          [
           -7.036086075637628,
           3.6294306192770027,
           -3.66365961156737,
           -2.9178867578889682,
           -4.653680077668582,
           -4.687176912967301,
           15.226921172755276
          ],
          [
           1.702810838902992,
           0.8088592418045288,
           1.9108192930781902,
           -9.414613211322628,
           1.6769031058468713,
           1.9582290179501214,
           1.8773745012426537
          ],
          [
           -8.743850730855678,
           1.7043318806464622,
           -2.3092944032287943,
           -2.9871351079844515,
           -5.923843078823207,
           -6.296982404938632,
           15.450384952896917
          ],
          [
           -3.051194175672425,
           0.7879226580530048,
           -0.19639940846599438,
           -2.0523726019615665,
           -4.5151307894919395,
           -2.767115180512984,
           8.479068766361825
          ],
          [
           -8.85904845148503,
           3.582044853478629,
           -1.8466433841634513,
           -4.321434015887511,
           -4.20390521998568,
           -4.879016416943195,
           12.757104202254638
          ],
          [
           0.7297253823943315,
           -1.6920877488337063,
           0.9811399460645566,
           -0.8295673516799982,
           -0.1705353326607769,
           -7.663490429987431,
           -12.967782330853275
          ],
          [
           -12.145455261558052,
           4.725383680946288,
           -3.2573434345816397,
           -5.148586748568404,
           -4.443425439305537,
           -0.42371519827567916,
           7.4339027983614425
          ],
          [
           -4.432794400614556,
           -7.82052890254251,
           4.858241259068949,
           -2.474761288066469,
           -8.712527609792284,
           -6.3190787493390115,
           10.127530425705626
          ],
          [
           null,
           null,
           null,
           null,
           null,
           null,
           null
          ],
          [
           -4.76028527737249,
           5.378206913968297,
           -1.7607912189580848,
           -2.3613431966583396,
           -1.4006334198045396,
           -6.306883613245465,
           9.018430403020743
          ],
          [
           -7.346297266886021,
           0.27044640112968515,
           -2.225235946150953,
           -5.249446985239965,
           -3.6331713660478173,
           -4.5626160826775415,
           10.655320531406653
          ],
          [
           -4.604095638960459,
           0.43642203765969156,
           -2.1912928425609857,
           -2.623907836443325,
           -5.8374843738070465,
           -0.7403757782601315,
           8.41976024563804
          ],
          [
           -4.080192407298451,
           -1.2623242600596105,
           0.15232295405216378,
           -2.934573513982069,
           -3.725816789636033,
           -2.637515525439421,
           9.854446602778832
          ],
          [
           5.430534485754219,
           -0.42949242828808404,
           -18.591480536007996,
           2.179107801799766,
           -1.9633579877976517,
           -4.541225504404416,
           6.462309130972191
          ],
          [
           -1.9391189314650554,
           0.7762005335489329,
           -0.676350300589967,
           -3.4727827285591832,
           -6.356083569536752,
           -3.8155436234636566,
           9.964759101022743
          ],
          [
           -6.39155469400113,
           1.449584638480495,
           7.473288104151492,
           -8.151389099958694,
           -4.654099443581533,
           -5.442911010596551,
           10.697290434384692
          ],
          [
           -4.301241044192699,
           0.8939132684534957,
           -1.2252745183950324,
           -2.4965290825817457,
           -6.114128418907511,
           -3.470379800831943,
           11.41500249006754
          ],
          [
           -8.747960755491036,
           1.3028287758330466,
           3.8808133743677296,
           -5.898065192626394,
           -4.239555896768562,
           -1.2279813646159912,
           9.31701329221777
          ],
          [
           -2.956474756242825,
           -1.6049727232952549,
           -1.1264199200796543,
           -2.743393738934883,
           -5.51818281272429,
           -4.61620417631626,
           11.163997114266946
          ],
          [
           -5.948923612118784,
           1.3904132540103542,
           -2.5797856470535168,
           -3.8842950761330584,
           -3.531346279041951,
           -5.291871561331638,
           13.491584676790328
          ],
          [
           -11.114437440843544,
           -3.8215484114512934,
           -12.349938874473368,
           -5.4286183390703995,
           5.361185704308321,
           -2.3892548750062788,
           14.070652501033704
          ],
          [
           -6.914200279734642,
           1.6639319003964723,
           -1.8878961597469497,
           -7.0836337724561345,
           -6.333587517181076,
           -5.264373348542191,
           12.556052026899062
          ],
          [
           -2.227524691949175,
           0.05925926099341213,
           0.5121145720556484,
           -1.9240899043959065,
           -0.34105760815940056,
           -5.40895509229389,
           8.495864223945064
          ],
          [
           -4.813937566065751,
           0.16647248725527145,
           1.4312696161642058,
           -3.515378662579515,
           -6.333152038753596,
           -1.752295992098276,
           11.75374862383295
          ],
          [
           -6.465741070911438,
           0.1478509087582551,
           -1.7243641736353559,
           -3.718713700639394,
           -4.653062836061236,
           -4.2935285173184905,
           7.826005893672336
          ],
          [
           -3.5467635110032965,
           1.1271252699625973,
           -1.9703005857563867,
           -1.8803972857610607,
           -4.816482047957991,
           -5.155541446387475,
           14.15425917472406
          ],
          [
           -7.11433233929093,
           -2.8017941971171365,
           -2.6999480208502122,
           -5.28212666624006,
           -5.678510855673736,
           -2.6404174196510737,
           13.983464585405228
          ],
          [
           -6.067084385788575,
           1.4974542799680732,
           -0.7771254528245988,
           -3.703243979961475,
           -6.126237371207958,
           -5.030620346334975,
           16.05437723380805
          ],
          [
           -4.614115599785512,
           -0.6968669316093316,
           -2.048817691694593,
           -4.8254975502657125,
           -4.050993335373452,
           -3.0893545969904226,
           9.50907452132384
          ],
          [
           -5.1966846276508365,
           -2.616759090870198,
           -5.570160129086862,
           -1.783016802351747,
           -4.569322765889862,
           -5.815203183739205,
           8.125960684754144
          ],
          [
           -2.887774629866281,
           0.26382075500964186,
           -0.6729177038574526,
           -3.2846089979464685,
           -4.981236598122385,
           -5.159661297089657,
           9.088783981645527
          ],
          [
           -4.693315342221922,
           2.3107575010149493,
           -3.749631246224911,
           -6.2520356981334055,
           -3.134159664662598,
           -5.147103379665411,
           13.117972153722924
          ],
          [
           -3.2704427227844626,
           -0.3626936877666186,
           -1.5553025392168944,
           -1.8260959134609198,
           -4.007461787835439,
           -2.358057758857012,
           9.590515230439884
          ],
          [
           -5.11951059638869,
           -1.9331457018306921,
           0,
           -5.76884960150961,
           -4.002697659047812,
           -7.029456979512452,
           8.996733539382952
          ],
          [
           -3.858224167954244,
           -0.9262184152464258,
           -1.060190784762867,
           -2.154709470351302,
           -4.78937051223949,
           -3.836086787244622,
           10.529068081719602
          ],
          [
           -5.68446180287892,
           1.5212463100125302,
           -1.4406011443514852,
           -3.111180115193938,
           -3.3399849461251767,
           -6.390816668559364,
           10.847207669304144
          ],
          [
           -5.55535990521947,
           8.082874401038952,
           6.962125600501377,
           5.436668360151383,
           4.221250208363476,
           -6.550971437169584,
           20.021467830800407
          ],
          [
           -1.1809500386310436,
           2.493058834900773,
           0.3511312086444678,
           0.22654731139266468,
           2.8393714373448216,
           -10.356249299781945,
           3.893065283576438
          ],
          [
           -3.506670654718088,
           0.2851035430839306,
           1.693759616202117,
           -5.538992132695805,
           -6.888721350175077,
           -0.6359321908292392,
           16.90763300439339
          ],
          [
           1.526747213078838,
           -1.2225644690303499,
           -0.19761350202227448,
           -2.7927449506877067,
           1.3829759696038686,
           3.0247765379315608,
           3.2842948932312592
          ],
          [
           -1.2089835876440251,
           -3.8641007090429795,
           -0.9007739583272114,
           -16.790400039729608,
           -79.23952730880514,
           3.6153100162577467,
           -10.970975099376611
          ],
          [
           -9.47784063272893,
           -2.151637562610178,
           -6.645239731985546,
           -0.38387763071656017,
           3.030534949532884,
           -7.59466304515329,
           12.093902124551457
          ],
          [
           -4.231500962109877,
           -0.42780813910784243,
           -0.9693129205659681,
           -3.0771658666753776,
           -5.329247186294361,
           -2.2620012058637315,
           10.234574098973642
          ],
          [
           9.650600290940831,
           1.899575356084775,
           -2.5129031777921336,
           -11.862231392637856,
           -9.402008035068016,
           9.27598407383924,
           8.546015344703168
          ],
          [
           -3.033742356505007,
           -0.22948948683386244,
           -0.8797922184604101,
           -5.203313966397857,
           -3.8897249526386797,
           -2.9136870007752407,
           9.171011046036991
          ],
          [
           -4.675308870435495,
           0.5115100666770409,
           1.0152371464017909,
           -5.894253563344985,
           -6.8355319664272125,
           -3.30447947774574,
           9.602857063981855
          ],
          [
           -2.1331637941785933,
           -0.8237783590230606,
           0.46378476256896856,
           -4.837517135781863,
           -3.4142925636543975,
           -2.757141983736862,
           9.258555206333462
          ],
          [
           0.904204222916177,
           -1.598651458197291,
           -1.3372993332264136,
           2.549435386460894,
           1.3250888478716378,
           -1.1101736566177125,
           4.389155938916783
          ],
          [
           -4.060229989489955,
           3.8202490727816167,
           -2.1861448723221044,
           -1.7839918128331005,
           -4.395188752918294,
           -0.7341406858367633,
           8.036654187325762
          ],
          [
           -6.772041287178092,
           5.294954388535867,
           -0.3675911628832408,
           2.5152841178689807,
           2.8324655023701855,
           -4.5986824473234025,
           7.3955660829080605
          ],
          [
           2.7206114101664585,
           -3.9947603884593974,
           -4.603349232082981,
           -7.458825649127656,
           -5.417550769866052,
           -5.100811451260675,
           13.658397008178163
          ],
          [
           -3.9170610024330443,
           1.9351281127301774,
           -1.135037348801055,
           -2.6406335182006564,
           -3.1677365024016644,
           -4.912119361695329,
           9.113854736632627
          ],
          [
           -12.890070294355393,
           11.81944736379126,
           -10.219658183395826,
           -19.002064578321402,
           -5.163166297083933,
           1.5447656666608682,
           14.657317935822409
          ],
          [
           4.1694975806600105,
           -4.547344306422194,
           -9.360810256106015,
           -3.026411600817776,
           -2.714529942598354,
           -19.37174923361395,
           10.243118364733313
          ],
          [
           -5.722532182142657,
           0.07223694029506472,
           -2.943364459087896,
           -8.21106185804279,
           -6.806104374040118,
           -1.5531192517791732,
           8.681631212994569
          ],
          [
           -3.086909131651172,
           0.42514001386587874,
           -0.024016331220593864,
           -2.751685321101153,
           -3.9105502935653575,
           -2.0141580754952706,
           7.719063664482592
          ],
          [
           -4.884976070093159,
           0.8102256850754379,
           0.37174764001325733,
           -3.9740328649514107,
           -4.071475016388666,
           -2.0996369013006633,
           6.106741139798749
          ],
          [
           -2.297065723958905,
           1.1141027140505506,
           0.409500981746549,
           -1.5236036957971029,
           -4.9329728795384735,
           -3.4593249822141625,
           10.24229923614465
          ],
          [
           -6.2633017414242484,
           3.3191065296430162,
           -0.31867016922585367,
           -4.702236877326641,
           -5.240395879386757,
           -2.231958740206912,
           12.451753536875016
          ],
          [
           -5.564122279888686,
           1.1378678567659035,
           -3.003759395453655,
           -3.374693242527661,
           -2.156670555877569,
           -3.080127995854037,
           11.091689784318408
          ],
          [
           -4.948800911152137,
           1.6499598352617415,
           1.607234854719241,
           -2.518699498129075,
           -5.115561497384747,
           -3.805807831320049,
           11.551613735220446
          ],
          [
           -5.6451650081643345,
           -0.14494037004907204,
           0.01768690642930484,
           -4.049486919739613,
           -5.585929056532255,
           -4.762044933161901,
           14.351468444311422
          ],
          [
           -1.7636341324794265,
           -0.022887223307550563,
           0.15438719937654358,
           -1.3807606316173515,
           -1.4353475899529777,
           -5.70754503853028,
           3.850971649517726
          ],
          [
           -7.164270201815774,
           0.5314744282342249,
           -0.9319421751869246,
           -3.2110122979004596,
           -8.312641690566206,
           -4.843375489526643,
           13.724151616927745
          ],
          [
           -4.656221952187721,
           0.0928074312554033,
           -0.6514681021193865,
           -15.888226281307249,
           -4.476689297937947,
           1.1758147982346812,
           18.282419565852067
          ],
          [
           -3.482899544848385,
           1.5417038939005003,
           -1.5093414340711209,
           -4.061304261550489,
           -7.3214068130576,
           -2.7756583848393532,
           12.34622289887452
          ],
          [
           -6.185498492871684,
           1.3688426660577107,
           -2.653216859187823,
           -9.030720369354311,
           -10.429210591536812,
           -3.255953108421256,
           12.260232209233248
          ],
          [
           -10.53605156578264,
           6.27053400559104,
           -2.320289707966398,
           6.585807268157998,
           -5.884050002293335,
           -7.374942069774734,
           8.418429799032696
          ],
          [
           -3.267078228954882,
           0.613122705493638,
           0.9732436918231054,
           3.0991753308337553,
           -3.4630326152245914,
           -0.7317105817066933,
           7.200749877511391
          ],
          [
           -5.73148300324717,
           2.37891165491245,
           -4.556468698809638,
           -2.786670945848378,
           -4.9900411868689085,
           -4.224862079165858,
           15.563284776881417
          ],
          [
           -6.936112779750236,
           -0.07895776170176963,
           0.15785322930497897,
           -11.522322329078497,
           -3.0550444198425364,
           -8.171685767265563,
           7.255089065857547
          ],
          [
           -2.8491955794306274,
           0.8145727437448155,
           -6.983876023265152,
           -6.109394919003796,
           -4.392041346703037,
           0.7797265357652712,
           12.13694173993362
          ],
          [
           -4.854081869999394,
           0.14532773957292927,
           0.17411495983169872,
           -3.66146598468863,
           -4.616204176316249,
           -4.872717402736849,
           10.178269430994238
          ],
          [
           -3.2931328217189186,
           -1.6294587714714677,
           -5.400203264697119,
           -5.577511656724797,
           -2.9503801134960606,
           -3.0678932995585138,
           7.80936606970762
          ],
          [
           -4.912505078077301,
           3.508934790113014,
           -3.2861602998993678,
           -2.9502031058353553,
           -7.423681468459329,
           -3.5203222846841484,
           13.639975485882866
          ],
          [
           -2.6372304377583236,
           0.6694829255232636,
           -1.3728855912612545,
           -3.745756253490044,
           -5.539974566719011,
           -3.5143189572075637,
           11.169175973224228
          ],
          [
           -5.77527674978611,
           0.07923930684024075,
           0.8282437407891635,
           2.941388520629341,
           -5.769698932085446,
           -6.123086615146217,
           8.162749405910791
          ],
          [
           -3.734873930258752,
           1.7246969217039394,
           -2.677576404226294,
           -4.012855285015405,
           -7.2181015392057475,
           -4.486433774369387,
           12.43820503926245
          ],
          [
           -6.459896418512807,
           0.07250755604673753,
           0.14485758206630117,
           -2.4174049841704606,
           -5.1735674399188865,
           -4.335208822372762,
           11.41825900320763
          ],
          [
           -6.533656028384096,
           -0.36563112031104317,
           1.634913800152941,
           -1.8182319083190475,
           -2.696583660920622,
           -5.82123592987626,
           9.340117508840079
          ],
          [
           -9.524482246303814,
           1.5692190761084464,
           -2.653436419123854,
           -4.4583906608026425,
           -6.758266351879935,
           -2.6360669691068623,
           17.42198222988467
          ],
          [
           -0.23981231833116032,
           -0.3862578496148811,
           0.7103744100700482,
           -1.029993859314016,
           -2.8603974374151786,
           -4.4244701797757315,
           6.275121056347545
          ],
          [
           -6.217031403018279,
           1.6414446381962564,
           1.4501809650602275,
           -6.258307612621487,
           -5.603706810771099,
           -3.138406489224503,
           9.428809036185024
          ],
          [
           -1.3463648556573913,
           -1.4606525563404893,
           -0.24552988048688112,
           -1.833726281833091,
           -2.390639876773567,
           -2.72379386050963,
           6.164852188702584
          ],
          [
           -5.310438980759032,
           0.2833308994405419,
           -2.9024521857352927,
           -2.98921911427821,
           -10.022386609007725,
           -4.36981009961834,
           12.609138535982714
          ],
          [
           -0.9686727244288333,
           0.595524312671932,
           0.6429950547352006,
           -0.9403139002175336,
           -0.42733533441979066,
           -2.861082626884494,
           3.45370421957255
          ],
          [
           2.1659932764816565,
           -8.236666874736,
           0,
           -1.2879232000130743,
           2.214284618449477,
           -2.096512846504508,
           8.004270767353656
          ],
          [
           -5.274596860071731,
           2.469666479081767,
           -0.8900283971688575,
           -4.7900647398967955,
           -5.380514865560218,
           -6.00967143538924,
           15.471813881611709
          ],
          [
           0.917437627604123,
           -2.6439081332623737,
           8.163863068723934,
           4.348511193973889,
           -4.533868058906178,
           6.5813218569571825,
           3.6388323914032994
          ],
          [
           2.282346650252685,
           1.6992762323112074,
           3.9101897635834826,
           4.926585569887926,
           -1.73737029160791,
           2.7349485862047036,
           22.533001139254146
          ],
          [
           -3.617763124942444,
           0.21256816825688177,
           -2.826567717532764,
           -1.4299707434086502,
           -4.53271188305797,
           -3.120194250219377,
           6.089720081107502
          ],
          [
           -0.34042586068012654,
           -2.5033676713732387,
           -0.9661910911736858,
           -2.32153283193695,
           -1.6393809775676382,
           -3.3616610798984974,
           8.898789658790722
          ],
          [
           -0.12100841812743283,
           1.997935397564212,
           1.2059393754462273,
           -8.323999596706615,
           -8.89441929301663,
           -3.2562845540378973,
           8.267141117351551
          ],
          [
           0.03282754260279183,
           -0.01741326895490828,
           0.019514665332875387,
           -0.008305776672445699,
           0.019612532471077863,
           -0.012207348839145853,
           -0.04373855623399596
          ],
          [
           -7.285825668089217,
           -2.3728946009739795,
           -1.110561641250938,
           3.8504590600623683,
           0.86728000557798,
           -7.679964668774682,
           6.535518104412705
          ],
          [
           -7.8265262049115645,
           -4.982350468626678,
           -0.8980175807584241,
           -12.181822796086946,
           -4.922694076515064,
           -3.897609475675825,
           12.815128599356699
          ],
          [
           -1.9884911022268266,
           1.103007158301291,
           -1.7043318806464596,
           -2.999918870285713,
           -4.2532592869108345,
           -6.427915140456481,
           7.844551838654633
          ],
          [
           -2.845479469926578,
           1.2944520087102256,
           -2.5246782734783926,
           -6.194448596052463,
           -7.065969287480583,
           -5.182999757918023,
           11.207292959573035
          ],
          [
           -9.605119502904406,
           0.9590630501701839,
           -3.854546394599666,
           -3.8900276135486513,
           -4.6274489404847765,
           -2.694899927527639,
           13.064631288649966
          ],
          [
           -6.753360666900092,
           4.037169140767868,
           0.8934069576475437,
           -5.54832223160162,
           -6.4652487745478435,
           -7.50026227295733,
           11.783763422045476
          ],
          [
           -3.614243416159025,
           1.6444310616829894,
           -0.4097328661083477,
           -4.014562292052227,
           -4.012392538306593,
           -3.691395312679877,
           10.656311175125865
          ],
          [
           -4.18311938451285,
           2.2400936689166713,
           -2.564243061333767,
           -3.367766272366584,
           -1.4885254541027335,
           -4.033926624430148,
           11.959512990840087
          ],
          [
           -5.675509192860186,
           -1.9321054059705518,
           0.43631551010380776,
           -6.1818401737253215,
           -6.323311538641987,
           -3.750681270112967,
           12.39804107049566
          ],
          [
           -7.173711031123936,
           -0.229919040120253,
           -1.4865299302718147,
           -7.699219240308872,
           -9.60868788724972,
           -2.3055776299925737,
           20.958262847892005
          ],
          [
           -3.931513145791344,
           2.943167484382993,
           -1.3600209627149287,
           -2.1370509022656474,
           -6.173097315720515,
           -4.223619607435182,
           9.777647674050812
          ],
          [
           -4.075959007703847,
           0.31152673169492784,
           -0.6762054374923222,
           -2.5906814989083258,
           -2.7146075145551367,
           -4.790997927379075,
           7.986504044378946
          ],
          [
           -6.035729986668279,
           -1.5498725173737722,
           0.4250803425194568,
           7.554611341510238,
           -17.58528485568808,
           -1.6548841024473004,
           15.363973712688098
          ],
          [
           -3.4022180756483187,
           -0.24912253853515176,
           -0.7968169649176845,
           -5.448635671431299,
           -4.745145166601112,
           -4.21305361054218,
           12.398224844466894
          ],
          [
           -2.646293462154012,
           -0.1463771912982134,
           -0.4894772376728392,
           -1.3336824010018054,
           -3.8524784308769844,
           -3.6310224056592975,
           7.93004089879613
          ],
          [
           -5.72974862273503,
           -2.878302534831509,
           -2.5516026223219175,
           -3.923246065253256,
           1.5457195158874324,
           -8.403563119911995,
           7.345352186858299
          ],
          [
           -8.034244091319916,
           2.716722691800822,
           0.23991425106993722,
           -4.1720998579005775,
           -8.475464614094253,
           -1.514197219502495,
           18.758714225555842
          ],
          [
           -5.2034859123054,
           4.837663711808511,
           -2.5666909052593625,
           -5.045678642020705,
           -2.239581721714516,
           -4.454105789943432,
           11.006130175033405
          ],
          [
           -5.518843039846326,
           -1.5886558490005476,
           -1.2739025777429713,
           -3.9381368627962243,
           -4.821995401950089,
           -3.9726658016085117,
           11.739309609207416
          ],
          [
           -5.080457563545941,
           1.1872778430284345,
           -1.8877243211096313,
           -4.504834502343652,
           -6.323218522351559,
           -5.989599264012085,
           11.459514282568751
          ],
          [
           -5.232436116847355,
           1.8599191890286206,
           -2.3817243238052037,
           -6.68331298163448,
           -6.969227702078245,
           -3.4204401793042294,
           13.845056794416037
          ],
          [
           -8.151872270165704,
           3.1263905784741404,
           -1.6600886474667076,
           -4.541159847949859,
           5.049327910649588,
           -7.438651592867668,
           11.83029212932556
          ],
          [
           -3.7423973560259354,
           0.19444836381338484,
           -1.1282886563747518,
           -3.073908231592857,
           -2.008795700900201,
           -3.6166113001991587,
           7.1273433965344895
          ],
          [
           -0.5366627544764835,
           -1.1769654698222547,
           -1.6050889448715238,
           -0.12875400111327204,
           -0.5069678423655501,
           -3.4214166815498737,
           4.432795161107523
          ],
          [
           -3.599687900001488,
           0.5268521290987369,
           -0.2584577060668923,
           -2.120385811112273,
           -2.7128903404329696,
           -2.2513641875906467,
           6.7884398171205325
          ],
          [
           -4.364328973190674,
           -0.372439909098244,
           -0.7490671729157625,
           -3.053672386008165,
           -2.1548336206202947,
           -2.0000666706669543,
           7.208572677295412
          ],
          [
           -4.638018874036018,
           0.1188670878165491,
           -1.2489857333153231,
           -4.4161450690891755,
           -2.6199686877074586,
           -0.7863326566156617,
           10.80951167632915
          ],
          [
           -2.4700968240253123,
           0.7848530307268213,
           0.16980815763119056,
           -2.265024765316636,
           -4.835638114089731,
           -3.126699990720707,
           7.962338104810445
          ],
          [
           -1.9563908238025431,
           0.5770586105689692,
           -0.4972660669378377,
           -3.30424303320951,
           -3.8017809561832783,
           -0.38610086574595426,
           8.14799523764006
          ],
          [
           -4.082199452025517,
           -0.7490671729157625,
           -0.7547205635382742,
           -5.515507427177354,
           -6.333844098820873,
           -5.47782060140545,
           10.061956536229555
          ],
          [
           -4.513830375066095,
           2.282381356525691,
           -1.0506304855509967,
           -3.368636798246433,
           -2.031417817560581,
           -3.3491022917617284,
           8.388449530780893
          ],
          [
           -4.0038909123934125,
           -0.6996039581039237,
           -1.4140647431631257,
           -5.270788463906747,
           -5.7173906066724225,
           -3.808360196175963,
           8.440078812483497
          ],
          [
           7.229677651455802,
           -8.921414873418424,
           -1.8981237709489212,
           3.897500955248744,
           -4.004016143732215,
           -3.6538700178976278,
           8.405934532554866
          ],
          [
           -5.520455434709568,
           -0.2706361597742914,
           -3.7552728319976274,
           -2.507253843904522,
           -4.363899952516165,
           -3.558657719372979,
           11.214568906399723
          ],
          [
           -3.573444800888269,
           0.37243990909824937,
           -0.09298001599666388,
           -1.9728211460455343,
           -4.363270874769871,
           -2.002068873089693,
           9.356216887116862
          ],
          [
           -45.830377768617815,
           -12.402330551646804,
           -5.892052883334796,
           3.9962615088733715,
           -14.556523218824601,
           -11.925419684076443,
           3.371966971657118
          ],
          [
           -1.7648127507127687,
           -3.625903705700219,
           -1.797111700385794,
           -4.269423109800579,
           -5.893841444580626,
           -5.277606550665588,
           14.373720026262756
          ],
          [
           -5.17037237051267,
           4.38238762503491,
           -4.228219551332563,
           -5.281177434502679,
           -5.600246852144846,
           -1.0420935988258868,
           10.449235238861352
          ],
          [
           -3.3616610798984974,
           0.7171702634558096,
           -0.5823084763264684,
           -3.1487885446333683,
           -4.407251978770309,
           -2.800477780511526,
           9.27249684862871
          ]
         ]
        }
       ],
       "layout": {
        "coloraxis": {
         "cmax": 15,
         "cmin": -15,
         "colorbar": {
          "title": {
           "text": "% Return"
          }
         },
         "colorscale": [
          [
           0,
           "rgb(165,0,38)"
          ],
          [
           0.1,
           "rgb(215,48,39)"
          ],
          [
           0.2,
           "rgb(244,109,67)"
          ],
          [
           0.3,
           "rgb(253,174,97)"
          ],
          [
           0.4,
           "rgb(254,224,139)"
          ],
          [
           0.5,
           "rgb(255,255,191)"
          ],
          [
           0.6,
           "rgb(217,239,139)"
          ],
          [
           0.7,
           "rgb(166,217,106)"
          ],
          [
           0.8,
           "rgb(102,189,99)"
          ],
          [
           0.9,
           "rgb(26,152,80)"
          ],
          [
           1,
           "rgb(0,104,55)"
          ]
         ]
        },
        "height": 16000,
        "template": {
         "data": {
          "bar": [
           {
            "error_x": {
             "color": "#f2f5fa"
            },
            "error_y": {
             "color": "#f2f5fa"
            },
            "marker": {
             "line": {
              "color": "rgb(17,17,17)",
              "width": 0.5
             },
             "pattern": {
              "fillmode": "overlay",
              "size": 10,
              "solidity": 0.2
             }
            },
            "type": "bar"
           }
          ],
          "barpolar": [
           {
            "marker": {
             "line": {
              "color": "rgb(17,17,17)",
              "width": 0.5
             },
             "pattern": {
              "fillmode": "overlay",
              "size": 10,
              "solidity": 0.2
             }
            },
            "type": "barpolar"
           }
          ],
          "carpet": [
           {
            "aaxis": {
             "endlinecolor": "#A2B1C6",
             "gridcolor": "#506784",
             "linecolor": "#506784",
             "minorgridcolor": "#506784",
             "startlinecolor": "#A2B1C6"
            },
            "baxis": {
             "endlinecolor": "#A2B1C6",
             "gridcolor": "#506784",
             "linecolor": "#506784",
             "minorgridcolor": "#506784",
             "startlinecolor": "#A2B1C6"
            },
            "type": "carpet"
           }
          ],
          "choropleth": [
           {
            "colorbar": {
             "outlinewidth": 0,
             "ticks": ""
            },
            "type": "choropleth"
           }
          ],
          "contour": [
           {
            "colorbar": {
             "outlinewidth": 0,
             "ticks": ""
            },
            "colorscale": [
             [
              0,
              "#0d0887"
             ],
             [
              0.1111111111111111,
              "#46039f"
             ],
             [
              0.2222222222222222,
              "#7201a8"
             ],
             [
              0.3333333333333333,
              "#9c179e"
             ],
             [
              0.4444444444444444,
              "#bd3786"
             ],
             [
              0.5555555555555556,
              "#d8576b"
             ],
             [
              0.6666666666666666,
              "#ed7953"
             ],
             [
              0.7777777777777778,
              "#fb9f3a"
             ],
             [
              0.8888888888888888,
              "#fdca26"
             ],
             [
              1,
              "#f0f921"
             ]
            ],
            "type": "contour"
           }
          ],
          "contourcarpet": [
           {
            "colorbar": {
             "outlinewidth": 0,
             "ticks": ""
            },
            "type": "contourcarpet"
           }
          ],
          "heatmap": [
           {
            "colorbar": {
             "outlinewidth": 0,
             "ticks": ""
            },
            "colorscale": [
             [
              0,
              "#0d0887"
             ],
             [
              0.1111111111111111,
              "#46039f"
             ],
             [
              0.2222222222222222,
              "#7201a8"
             ],
             [
              0.3333333333333333,
              "#9c179e"
             ],
             [
              0.4444444444444444,
              "#bd3786"
             ],
             [
              0.5555555555555556,
              "#d8576b"
             ],
             [
              0.6666666666666666,
              "#ed7953"
             ],
             [
              0.7777777777777778,
              "#fb9f3a"
             ],
             [
              0.8888888888888888,
              "#fdca26"
             ],
             [
              1,
              "#f0f921"
             ]
            ],
            "type": "heatmap"
           }
          ],
          "heatmapgl": [
           {
            "colorbar": {
             "outlinewidth": 0,
             "ticks": ""
            },
            "colorscale": [
             [
              0,
              "#0d0887"
             ],
             [
              0.1111111111111111,
              "#46039f"
             ],
             [
              0.2222222222222222,
              "#7201a8"
             ],
             [
              0.3333333333333333,
              "#9c179e"
             ],
             [
              0.4444444444444444,
              "#bd3786"
             ],
             [
              0.5555555555555556,
              "#d8576b"
             ],
             [
              0.6666666666666666,
              "#ed7953"
             ],
             [
              0.7777777777777778,
              "#fb9f3a"
             ],
             [
              0.8888888888888888,
              "#fdca26"
             ],
             [
              1,
              "#f0f921"
             ]
            ],
            "type": "heatmapgl"
           }
          ],
          "histogram": [
           {
            "marker": {
             "pattern": {
              "fillmode": "overlay",
              "size": 10,
              "solidity": 0.2
             }
            },
            "type": "histogram"
           }
          ],
          "histogram2d": [
           {
            "colorbar": {
             "outlinewidth": 0,
             "ticks": ""
            },
            "colorscale": [
             [
              0,
              "#0d0887"
             ],
             [
              0.1111111111111111,
              "#46039f"
             ],
             [
              0.2222222222222222,
              "#7201a8"
             ],
             [
              0.3333333333333333,
              "#9c179e"
             ],
             [
              0.4444444444444444,
              "#bd3786"
             ],
             [
              0.5555555555555556,
              "#d8576b"
             ],
             [
              0.6666666666666666,
              "#ed7953"
             ],
             [
              0.7777777777777778,
              "#fb9f3a"
             ],
             [
              0.8888888888888888,
              "#fdca26"
             ],
             [
              1,
              "#f0f921"
             ]
            ],
            "type": "histogram2d"
           }
          ],
          "histogram2dcontour": [
           {
            "colorbar": {
             "outlinewidth": 0,
             "ticks": ""
            },
            "colorscale": [
             [
              0,
              "#0d0887"
             ],
             [
              0.1111111111111111,
              "#46039f"
             ],
             [
              0.2222222222222222,
              "#7201a8"
             ],
             [
              0.3333333333333333,
              "#9c179e"
             ],
             [
              0.4444444444444444,
              "#bd3786"
             ],
             [
              0.5555555555555556,
              "#d8576b"
             ],
             [
              0.6666666666666666,
              "#ed7953"
             ],
             [
              0.7777777777777778,
              "#fb9f3a"
             ],
             [
              0.8888888888888888,
              "#fdca26"
             ],
             [
              1,
              "#f0f921"
             ]
            ],
            "type": "histogram2dcontour"
           }
          ],
          "mesh3d": [
           {
            "colorbar": {
             "outlinewidth": 0,
             "ticks": ""
            },
            "type": "mesh3d"
           }
          ],
          "parcoords": [
           {
            "line": {
             "colorbar": {
              "outlinewidth": 0,
              "ticks": ""
             }
            },
            "type": "parcoords"
           }
          ],
          "pie": [
           {
            "automargin": true,
            "type": "pie"
           }
          ],
          "scatter": [
           {
            "marker": {
             "line": {
              "color": "#283442"
             }
            },
            "type": "scatter"
           }
          ],
          "scatter3d": [
           {
            "line": {
             "colorbar": {
              "outlinewidth": 0,
              "ticks": ""
             }
            },
            "marker": {
             "colorbar": {
              "outlinewidth": 0,
              "ticks": ""
             }
            },
            "type": "scatter3d"
           }
          ],
          "scattercarpet": [
           {
            "marker": {
             "colorbar": {
              "outlinewidth": 0,
              "ticks": ""
             }
            },
            "type": "scattercarpet"
           }
          ],
          "scattergeo": [
           {
            "marker": {
             "colorbar": {
              "outlinewidth": 0,
              "ticks": ""
             }
            },
            "type": "scattergeo"
           }
          ],
          "scattergl": [
           {
            "marker": {
             "line": {
              "color": "#283442"
             }
            },
            "type": "scattergl"
           }
          ],
          "scattermapbox": [
           {
            "marker": {
             "colorbar": {
              "outlinewidth": 0,
              "ticks": ""
             }
            },
            "type": "scattermapbox"
           }
          ],
          "scatterpolar": [
           {
            "marker": {
             "colorbar": {
              "outlinewidth": 0,
              "ticks": ""
             }
            },
            "type": "scatterpolar"
           }
          ],
          "scatterpolargl": [
           {
            "marker": {
             "colorbar": {
              "outlinewidth": 0,
              "ticks": ""
             }
            },
            "type": "scatterpolargl"
           }
          ],
          "scatterternary": [
           {
            "marker": {
             "colorbar": {
              "outlinewidth": 0,
              "ticks": ""
             }
            },
            "type": "scatterternary"
           }
          ],
          "surface": [
           {
            "colorbar": {
             "outlinewidth": 0,
             "ticks": ""
            },
            "colorscale": [
             [
              0,
              "#0d0887"
             ],
             [
              0.1111111111111111,
              "#46039f"
             ],
             [
              0.2222222222222222,
              "#7201a8"
             ],
             [
              0.3333333333333333,
              "#9c179e"
             ],
             [
              0.4444444444444444,
              "#bd3786"
             ],
             [
              0.5555555555555556,
              "#d8576b"
             ],
             [
              0.6666666666666666,
              "#ed7953"
             ],
             [
              0.7777777777777778,
              "#fb9f3a"
             ],
             [
              0.8888888888888888,
              "#fdca26"
             ],
             [
              1,
              "#f0f921"
             ]
            ],
            "type": "surface"
           }
          ],
          "table": [
           {
            "cells": {
             "fill": {
              "color": "#506784"
             },
             "line": {
              "color": "rgb(17,17,17)"
             }
            },
            "header": {
             "fill": {
              "color": "#2a3f5f"
             },
             "line": {
              "color": "rgb(17,17,17)"
             }
            },
            "type": "table"
           }
          ]
         },
         "layout": {
          "annotationdefaults": {
           "arrowcolor": "#f2f5fa",
           "arrowhead": 0,
           "arrowwidth": 1
          },
          "autotypenumbers": "strict",
          "coloraxis": {
           "colorbar": {
            "outlinewidth": 0,
            "ticks": ""
           }
          },
          "colorscale": {
           "diverging": [
            [
             0,
             "#8e0152"
            ],
            [
             0.1,
             "#c51b7d"
            ],
            [
             0.2,
             "#de77ae"
            ],
            [
             0.3,
             "#f1b6da"
            ],
            [
             0.4,
             "#fde0ef"
            ],
            [
             0.5,
             "#f7f7f7"
            ],
            [
             0.6,
             "#e6f5d0"
            ],
            [
             0.7,
             "#b8e186"
            ],
            [
             0.8,
             "#7fbc41"
            ],
            [
             0.9,
             "#4d9221"
            ],
            [
             1,
             "#276419"
            ]
           ],
           "sequential": [
            [
             0,
             "#0d0887"
            ],
            [
             0.1111111111111111,
             "#46039f"
            ],
            [
             0.2222222222222222,
             "#7201a8"
            ],
            [
             0.3333333333333333,
             "#9c179e"
            ],
            [
             0.4444444444444444,
             "#bd3786"
            ],
            [
             0.5555555555555556,
             "#d8576b"
            ],
            [
             0.6666666666666666,
             "#ed7953"
            ],
            [
             0.7777777777777778,
             "#fb9f3a"
            ],
            [
             0.8888888888888888,
             "#fdca26"
            ],
            [
             1,
             "#f0f921"
            ]
           ],
           "sequentialminus": [
            [
             0,
             "#0d0887"
            ],
            [
             0.1111111111111111,
             "#46039f"
            ],
            [
             0.2222222222222222,
             "#7201a8"
            ],
            [
             0.3333333333333333,
             "#9c179e"
            ],
            [
             0.4444444444444444,
             "#bd3786"
            ],
            [
             0.5555555555555556,
             "#d8576b"
            ],
            [
             0.6666666666666666,
             "#ed7953"
            ],
            [
             0.7777777777777778,
             "#fb9f3a"
            ],
            [
             0.8888888888888888,
             "#fdca26"
            ],
            [
             1,
             "#f0f921"
            ]
           ]
          },
          "colorway": [
           "#636efa",
           "#EF553B",
           "#00cc96",
           "#ab63fa",
           "#FFA15A",
           "#19d3f3",
           "#FF6692",
           "#B6E880",
           "#FF97FF",
           "#FECB52"
          ],
          "font": {
           "color": "#f2f5fa"
          },
          "geo": {
           "bgcolor": "rgb(17,17,17)",
           "lakecolor": "rgb(17,17,17)",
           "landcolor": "rgb(17,17,17)",
           "showlakes": true,
           "showland": true,
           "subunitcolor": "#506784"
          },
          "hoverlabel": {
           "align": "left"
          },
          "hovermode": "closest",
          "mapbox": {
           "style": "dark"
          },
          "paper_bgcolor": "rgb(17,17,17)",
          "plot_bgcolor": "rgb(17,17,17)",
          "polar": {
           "angularaxis": {
            "gridcolor": "#506784",
            "linecolor": "#506784",
            "ticks": ""
           },
           "bgcolor": "rgb(17,17,17)",
           "radialaxis": {
            "gridcolor": "#506784",
            "linecolor": "#506784",
            "ticks": ""
           }
          },
          "scene": {
           "xaxis": {
            "backgroundcolor": "rgb(17,17,17)",
            "gridcolor": "#506784",
            "gridwidth": 2,
            "linecolor": "#506784",
            "showbackground": true,
            "ticks": "",
            "zerolinecolor": "#C8D4E3"
           },
           "yaxis": {
            "backgroundcolor": "rgb(17,17,17)",
            "gridcolor": "#506784",
            "gridwidth": 2,
            "linecolor": "#506784",
            "showbackground": true,
            "ticks": "",
            "zerolinecolor": "#C8D4E3"
           },
           "zaxis": {
            "backgroundcolor": "rgb(17,17,17)",
            "gridcolor": "#506784",
            "gridwidth": 2,
            "linecolor": "#506784",
            "showbackground": true,
            "ticks": "",
            "zerolinecolor": "#C8D4E3"
           }
          },
          "shapedefaults": {
           "line": {
            "color": "#f2f5fa"
           }
          },
          "sliderdefaults": {
           "bgcolor": "#C8D4E3",
           "bordercolor": "rgb(17,17,17)",
           "borderwidth": 1,
           "tickwidth": 0
          },
          "ternary": {
           "aaxis": {
            "gridcolor": "#506784",
            "linecolor": "#506784",
            "ticks": ""
           },
           "baxis": {
            "gridcolor": "#506784",
            "linecolor": "#506784",
            "ticks": ""
           },
           "bgcolor": "rgb(17,17,17)",
           "caxis": {
            "gridcolor": "#506784",
            "linecolor": "#506784",
            "ticks": ""
           }
          },
          "title": {
           "x": 0.05
          },
          "updatemenudefaults": {
           "bgcolor": "#506784",
           "borderwidth": 0
          },
          "xaxis": {
           "automargin": true,
           "gridcolor": "#283442",
           "linecolor": "#506784",
           "ticks": "",
           "title": {
            "standoff": 15
           },
           "zerolinecolor": "#283442",
           "zerolinewidth": 2
          },
          "yaxis": {
           "automargin": true,
           "gridcolor": "#283442",
           "linecolor": "#506784",
           "ticks": "",
           "title": {
            "standoff": 15
           },
           "zerolinecolor": "#283442",
           "zerolinewidth": 2
          }
         }
        },
        "title": {
         "text": "7-Day Coin Performance Heatmap"
        },
        "width": 1000,
        "xaxis": {
         "anchor": "y",
         "domain": [
          0,
          1
         ],
         "title": {
          "text": "Day"
         }
        },
        "yaxis": {
         "anchor": "x",
         "automargin": true,
         "autorange": "reversed",
         "domain": [
          0,
          1
         ],
         "nticks": 434,
         "tickfont": {
          "size": 10
         },
         "title": {
          "text": "Asset"
         }
        }
       }
      }
     },
     "metadata": {},
     "output_type": "display_data"
    }
   ],
   "source": [
    "\n",
    "# Set the data directory path (adjust as needed)\n",
    "data_path = \"data/\"\n",
    "\n",
    "# List all CSV files in the folder\n",
    "files = [f for f in os.listdir(data_path) if f.endswith(\".csv\")]\n",
    "\n",
    "# Setup date range: last 7 days ending yesterday\n",
    "today = datetime.now().date()\n",
    "date_list = [today - timedelta(days=i) for i in range(1, 8)]\n",
    "date_list.sort()\n",
    "\n",
    "returns_data = {}\n",
    "\n",
    "# Process each file\n",
    "for file in files:\n",
    "    symbol = file.replace(\".csv\", \"\")\n",
    "    df = pd.read_csv(os.path.join(data_path, file), parse_dates=[\"datetime\"])\n",
    "    df.set_index(\"datetime\", inplace=True)\n",
    "    df = df.sort_index()\n",
    "    \n",
    "    df[\"log_return\"] = np.log(df[\"close\"] / df[\"close\"].shift(1))\n",
    "    df[\"pct_return\"] = df[\"log_return\"] * 100\n",
    "    df[\"date\"] = df.index.date\n",
    "    \n",
    "    # Get returns for the last 7 days\n",
    "    row = []\n",
    "    for date in date_list:\n",
    "        val = df[df[\"date\"] == date][\"pct_return\"]\n",
    "        row.append(val.iloc[0] if not val.empty else np.nan)\n",
    "    \n",
    "    returns_data[symbol] = row\n",
    "\n",
    "# Create DataFrame\n",
    "heatmap_df = pd.DataFrame(returns_data, index=[d.strftime('%Y-%m-%d') for d in date_list]).T\n",
    "heatmap_df.columns = [f\"D{i+1}\" for i in range(7)]  # Label columns as D1 to D7\n",
    "\n",
    "# Plot scrollable heatmap using Plotly\n",
    "fig = px.imshow(\n",
    "    heatmap_df,\n",
    "    text_auto=\".2f\",\n",
    "    color_continuous_scale=\"RdYlGn\",\n",
    "    labels=dict(x=\"Day\", y=\"Asset\", color=\"% Return\"),\n",
    "    aspect=\"auto\",\n",
    "    title=\"7-Day Coin Performance Heatmap\",\n",
    "    zmin=-15,  # Set the minimum value for color scale\n",
    "    zmax=15    # Set the maximum value for color scale\n",
    ")\n",
    "fig.update_layout(\n",
    "    template=\"plotly_dark\",\n",
    "    height=16000,  # Enough height to show boxes clearly\n",
    "    width=1000,\n",
    "    yaxis_nticks=len(heatmap_df),\n",
    ")\n",
    "fig.update_yaxes(tickfont=dict(size=10), automargin=True)\n",
    "fig.show()"
   ]
  },
  {
   "cell_type": "code",
   "execution_count": 9,
   "id": "11f5ebd8",
   "metadata": {},
   "outputs": [],
   "source": [
    "# # --- Setup Weekly and Monthly Ranges ---\n",
    "\n",
    "# # Get last 5 completed weeks (Monday to Sunday)\n",
    "# week_ends = []\n",
    "# for i in range(1, 6):\n",
    "#     end_of_week = today - timedelta(days=today.weekday() + 1 + (7 * (i - 1)))  # Last Sunday\n",
    "#     start_of_week = end_of_week - timedelta(days=6)\n",
    "#     week_ends.append((start_of_week, end_of_week))\n",
    "\n",
    "# # Get last 7 completed months\n",
    "# month_ranges = []\n",
    "# for i in range(1, 8):\n",
    "#     month = (today.replace(day=1) - pd.DateOffset(months=i)).date()\n",
    "#     start_of_month = month\n",
    "#     end_of_month = (month.replace(day=1) + pd.DateOffset(months=1) - pd.DateOffset(days=1)).date()\n",
    "#     month_ranges.append((start_of_month, end_of_month))\n",
    "\n",
    "# # --- Function to calculate period returns ---\n",
    "# def compute_period_returns(ranges, label_prefix):\n",
    "#     period_data = {}\n",
    "    \n",
    "#     for file in files:\n",
    "#         symbol = file.replace(\".csv\", \"\")\n",
    "#         df = pd.read_csv(os.path.join(data_path, file), parse_dates=[\"datetime\"])\n",
    "#         df.set_index(\"datetime\", inplace=True)\n",
    "#         df = df.sort_index()\n",
    "#         df[\"close\"] = pd.to_numeric(df[\"close\"], errors=\"coerce\")\n",
    "#         df[\"date\"] = df.index.date\n",
    "\n",
    "#         row = []\n",
    "#         for start_date, end_date in ranges:\n",
    "#             df_period = df[(df[\"date\"] >= start_date) & (df[\"date\"] <= end_date)]\n",
    "#             if len(df_period) >= 2:\n",
    "#                 start_price = df_period[\"close\"].iloc[0]\n",
    "#                 end_price = df_period[\"close\"].iloc[-1]\n",
    "#                 ret = np.log(end_price / start_price) * 100\n",
    "#                 row.append(ret)\n",
    "#             else:\n",
    "#                 row.append(np.nan)\n",
    "#         period_data[symbol] = row\n",
    "\n",
    "#     col_labels = [f\"{label_prefix}{i+1}\" for i in range(len(ranges))]\n",
    "#     return pd.DataFrame(period_data, index=col_labels).T\n",
    "\n",
    "# # --- Compute Weekly Returns ---\n",
    "# weekly_df = compute_period_returns(week_ends, \"W\")\n",
    "\n",
    "# # --- Compute Monthly Returns ---\n",
    "# monthly_df = compute_period_returns(month_ranges, \"M\")\n",
    "\n",
    "# # --- Plot Weekly Heatmap ---\n",
    "# fig_w = px.imshow(\n",
    "#     weekly_df,\n",
    "#     text_auto=\".2f\",\n",
    "#     color_continuous_scale=\"RdYlGn\",\n",
    "#     labels=dict(x=\"Week\", y=\"Asset\", color=\"% Return\"),\n",
    "#     title=\"5-Week Coin Performance Heatmap\",\n",
    "#     zmin=-50,\n",
    "#     zmax=50,\n",
    "#     aspect=\"auto\"\n",
    "# )\n",
    "# fig_w.update_layout(template=\"plotly_dark\", height=16000, width=1000, yaxis_nticks=len(weekly_df))\n",
    "# fig_w.update_yaxes(tickfont=dict(size=10), automargin=True)\n",
    "# fig_w.show()\n",
    "\n",
    "# # --- Plot Monthly Heatmap ---\n",
    "# fig_m = px.imshow(\n",
    "#     monthly_df,\n",
    "#     text_auto=\".2f\",\n",
    "#     color_continuous_scale=\"RdYlGn\",\n",
    "#     labels=dict(x=\"Month\", y=\"Asset\", color=\"% Return\"),\n",
    "#     title=\"7-Month Coin Performance Heatmap\",\n",
    "#     zmin=-100,\n",
    "#     zmax=100,\n",
    "#     aspect=\"auto\"\n",
    "# )\n",
    "# fig_m.update_layout(template=\"plotly_dark\", height=16000, width=1000, yaxis_nticks=len(monthly_df))\n",
    "# fig_m.update_yaxes(tickfont=dict(size=10), automargin=True)\n",
    "# fig_m.show()\n"
   ]
  },
  {
   "cell_type": "code",
   "execution_count": 10,
   "id": "a5c31e19",
   "metadata": {},
   "outputs": [],
   "source": [
    "from IPython.display import display, HTML\n",
    "\n",
    "# Set the data directory path\n",
    "data_path = \"data/\"\n",
    "os.makedirs(data_path, exist_ok=True)\n",
    "\n",
    "# List all CSV files in the folder\n",
    "files = [f for f in os.listdir(data_path) if f.endswith(\".csv\")]\n",
    "\n",
    "# Setup date range: last 7 days ending yesterday\n",
    "today = datetime.now().date()\n",
    "date_list = [today - timedelta(days=i) for i in range(1, 8)]\n",
    "date_list.sort()\n",
    "\n",
    "# Data structures to store all metrics\n",
    "returns_data = {}\n",
    "volume_data = {}\n",
    "daily_metrics = {date: {'gainers': [], 'losers': [], 'volume_leaders': []} for date in date_list}\n",
    "\n",
    "# Process each file\n",
    "for file in files:\n",
    "    symbol = file.replace(\".csv\", \"\")\n",
    "    try:\n",
    "        df = pd.read_csv(os.path.join(data_path, file), parse_dates=[\"datetime\"])\n",
    "        df.set_index(\"datetime\", inplace=True)\n",
    "        df = df.sort_index()\n",
    "        \n",
    "        # Calculate returns\n",
    "        df[\"log_return\"] = np.log(df[\"close\"] / df[\"close\"].shift(1))\n",
    "        df[\"pct_return\"] = df[\"log_return\"] * 100\n",
    "        df[\"date\"] = df.index.date\n",
    "        \n",
    "        # Get daily metrics\n",
    "        for date in date_list:\n",
    "            daily_df = df[df[\"date\"] == date]\n",
    "            if not daily_df.empty:\n",
    "                # Get return for heatmap\n",
    "                returns_data.setdefault(symbol, []).append(daily_df[\"pct_return\"].iloc[0])\n",
    "                \n",
    "                # Calculate volume in USDT terms (volume * closing price)\n",
    "                volume_usdt = daily_df[\"volume\"].sum() * daily_df[\"close\"].iloc[-1]\n",
    "                volume_data.setdefault(symbol, []).append(volume_usdt)\n",
    "                \n",
    "                # Store metrics for daily analysis\n",
    "                daily_metrics[date]['gainers'].append((symbol, daily_df[\"pct_return\"].iloc[0]))\n",
    "                daily_metrics[date]['losers'].append((symbol, daily_df[\"pct_return\"].iloc[0]))\n",
    "                daily_metrics[date]['volume_leaders'].append((symbol, volume_usdt))\n",
    "    except Exception as e:\n",
    "        print(f\"Error processing {file}: {e}\")\n",
    "\n",
    "# Generate daily reports\n",
    "for date in date_list:\n",
    "    date_str = date.strftime('%Y-%m-%d')\n",
    "    \n",
    "    # Get top gainers/losers\n",
    "    gainers = sorted(daily_metrics[date]['gainers'], key=lambda x: x[1], reverse=True)[:10]\n",
    "    losers = sorted(daily_metrics[date]['losers'], key=lambda x: x[1])[:10]\n",
    "    volume_leaders = sorted(daily_metrics[date]['volume_leaders'], key=lambda x: x[1], reverse=True)[:10]\n",
    "    \n",
    "    # Create DataFrames for display\n",
    "    gainers_df = pd.DataFrame(gainers, columns=['Symbol', 'Return (%)'])\n",
    "    losers_df = pd.DataFrame(losers, columns=['Symbol', 'Return (%)'])\n",
    "    volume_df = pd.DataFrame(volume_leaders, columns=['Symbol', 'Volume (USDT)'])\n",
    "    \n",
    "    # # Display daily report\n",
    "    # display(HTML(f\"<h2>Daily Report - {date_str}</h2>\"))\n",
    "    # display(HTML(\"<h3>Top 10 Gainers</h3>\"))\n",
    "    # display(gainers_df.style.format({'Return (%)': '{:.2f}%'}))\n",
    "    \n",
    "    # display(HTML(\"<h3>Top 10 Losers</h3>\"))\n",
    "    # display(losers_df.style.format({'Return (%)': '{:.2f}%'}))\n",
    "    \n",
    "    # display(HTML(\"<h3>Top 10 Volume Leaders (USDT)</h3>\"))\n",
    "    # display(volume_df.style.format({'Volume (USDT)': '${:,.0f}'}))\n",
    "\n",
    "# Generate weekly summary\n",
    "weekly_gainers = []\n",
    "weekly_losers = []\n",
    "weekly_volume = []\n",
    "\n",
    "for symbol in returns_data:\n",
    "    weekly_return = sum(returns_data[symbol])\n",
    "    weekly_volume_sum = sum(volume_data.get(symbol, [0]))\n",
    "    weekly_gainers.append((symbol, weekly_return))\n",
    "    weekly_losers.append((symbol, weekly_return))\n",
    "    weekly_volume.append((symbol, weekly_volume_sum))\n",
    "\n",
    "# Get top weekly performers\n",
    "top_weekly_gainers = sorted(weekly_gainers, key=lambda x: x[1], reverse=True)[:10]\n",
    "top_weekly_losers = sorted(weekly_losers, key=lambda x: x[1])[:10]\n",
    "top_weekly_volume = sorted(weekly_volume, key=lambda x: x[1], reverse=True)[:50]\n",
    "\n",
    "# Create DataFrames for weekly summary\n",
    "weekly_gainers_df = pd.DataFrame(top_weekly_gainers, columns=['Symbol', 'Weekly Return (%)'])\n",
    "weekly_losers_df = pd.DataFrame(top_weekly_losers, columns=['Symbol', 'Weekly Return (%)'])\n",
    "weekly_volume_df = pd.DataFrame(top_weekly_volume, columns=['Symbol', 'Weekly Volume (USDT)'])\n",
    "\n",
    "# # Display weekly summary\n",
    "# display(HTML(\"<h2>Weekly Summary</h2>\"))\n",
    "# display(HTML(\"<h3>Top 10 Weekly Gainers</h3>\"))\n",
    "# display(weekly_gainers_df.style.format({'Weekly Return (%)': '{:.2f}%'}))\n",
    "\n",
    "# display(HTML(\"<h3>Top 10 Weekly Losers</h3>\"))\n",
    "# display(weekly_losers_df.style.format({'Weekly Return (%)': '{:.2f}%'}))\n",
    "\n",
    "# display(HTML(\"<h3>Top 10 Weekly Volume Leaders (USDT)</h3>\"))\n",
    "# display(weekly_volume_df.style.format({'Weekly Volume (USDT)': '${:,.0f}'}))"
   ]
  },
  {
   "cell_type": "code",
   "execution_count": 11,
   "id": "693937e9",
   "metadata": {},
   "outputs": [
    {
     "data": {
      "application/vnd.plotly.v1+json": {
       "config": {
        "plotlyServerURL": "https://plot.ly"
       },
       "data": [
        {
         "marker": {
          "color": "green"
         },
         "name": "Gainers",
         "type": "bar",
         "x": [
          "FUNUSDT",
          "OBOLUSDT",
          "BANANAS31USDT",
          "1000000BOBUSDT",
          "LAYERUSDT",
          "HOMEUSDT",
          "HIFIUSDT",
          "RESOLVUSDT",
          "AIOTUSDT",
          "XCNUSDT"
         ],
         "xaxis": "x",
         "y": [
          27.844456685530584,
          24.377664771525254,
          15.311344293310297,
          12.65414289069394,
          10.347409084809833,
          8.408665001171704,
          6.796092805844492,
          5.361185704308321,
          5.149092935640761,
          5.049327910649588
         ],
         "yaxis": "y"
        },
        {
         "marker": {
          "color": "red"
         },
         "name": "Losers",
         "type": "bar",
         "x": [
          "SIRENUSDT",
          "VVVUSDT",
          "ZKJUSDT",
          "HYPERUSDT",
          "NEIROUSDT",
          "CYBERUSDT",
          "SWARMSUSDT",
          "ALTUSDT",
          "BMTUSDT",
          "NILUSDT"
         ],
         "xaxis": "x2",
         "y": [
          -79.23952730880514,
          -17.58528485568808,
          -14.556523218824601,
          -12.219908002065608,
          -11.637387588620877,
          -10.452544254040482,
          -10.429210591536812,
          -10.210673488265716,
          -10.190130206135589,
          -10.166114184166968
         ],
         "yaxis": "y2"
        }
       ],
       "layout": {
        "annotations": [
         {
          "font": {
           "size": 16
          },
          "showarrow": false,
          "text": "Top Gainers - 2025-06-21",
          "x": 0.225,
          "xanchor": "center",
          "xref": "paper",
          "y": 1,
          "yanchor": "bottom",
          "yref": "paper"
         },
         {
          "font": {
           "size": 16
          },
          "showarrow": false,
          "text": "Top Losers - 2025-06-21",
          "x": 0.775,
          "xanchor": "center",
          "xref": "paper",
          "y": 1,
          "yanchor": "bottom",
          "yref": "paper"
         }
        ],
        "height": 500,
        "showlegend": false,
        "template": {
         "data": {
          "bar": [
           {
            "error_x": {
             "color": "#f2f5fa"
            },
            "error_y": {
             "color": "#f2f5fa"
            },
            "marker": {
             "line": {
              "color": "rgb(17,17,17)",
              "width": 0.5
             },
             "pattern": {
              "fillmode": "overlay",
              "size": 10,
              "solidity": 0.2
             }
            },
            "type": "bar"
           }
          ],
          "barpolar": [
           {
            "marker": {
             "line": {
              "color": "rgb(17,17,17)",
              "width": 0.5
             },
             "pattern": {
              "fillmode": "overlay",
              "size": 10,
              "solidity": 0.2
             }
            },
            "type": "barpolar"
           }
          ],
          "carpet": [
           {
            "aaxis": {
             "endlinecolor": "#A2B1C6",
             "gridcolor": "#506784",
             "linecolor": "#506784",
             "minorgridcolor": "#506784",
             "startlinecolor": "#A2B1C6"
            },
            "baxis": {
             "endlinecolor": "#A2B1C6",
             "gridcolor": "#506784",
             "linecolor": "#506784",
             "minorgridcolor": "#506784",
             "startlinecolor": "#A2B1C6"
            },
            "type": "carpet"
           }
          ],
          "choropleth": [
           {
            "colorbar": {
             "outlinewidth": 0,
             "ticks": ""
            },
            "type": "choropleth"
           }
          ],
          "contour": [
           {
            "colorbar": {
             "outlinewidth": 0,
             "ticks": ""
            },
            "colorscale": [
             [
              0,
              "#0d0887"
             ],
             [
              0.1111111111111111,
              "#46039f"
             ],
             [
              0.2222222222222222,
              "#7201a8"
             ],
             [
              0.3333333333333333,
              "#9c179e"
             ],
             [
              0.4444444444444444,
              "#bd3786"
             ],
             [
              0.5555555555555556,
              "#d8576b"
             ],
             [
              0.6666666666666666,
              "#ed7953"
             ],
             [
              0.7777777777777778,
              "#fb9f3a"
             ],
             [
              0.8888888888888888,
              "#fdca26"
             ],
             [
              1,
              "#f0f921"
             ]
            ],
            "type": "contour"
           }
          ],
          "contourcarpet": [
           {
            "colorbar": {
             "outlinewidth": 0,
             "ticks": ""
            },
            "type": "contourcarpet"
           }
          ],
          "heatmap": [
           {
            "colorbar": {
             "outlinewidth": 0,
             "ticks": ""
            },
            "colorscale": [
             [
              0,
              "#0d0887"
             ],
             [
              0.1111111111111111,
              "#46039f"
             ],
             [
              0.2222222222222222,
              "#7201a8"
             ],
             [
              0.3333333333333333,
              "#9c179e"
             ],
             [
              0.4444444444444444,
              "#bd3786"
             ],
             [
              0.5555555555555556,
              "#d8576b"
             ],
             [
              0.6666666666666666,
              "#ed7953"
             ],
             [
              0.7777777777777778,
              "#fb9f3a"
             ],
             [
              0.8888888888888888,
              "#fdca26"
             ],
             [
              1,
              "#f0f921"
             ]
            ],
            "type": "heatmap"
           }
          ],
          "heatmapgl": [
           {
            "colorbar": {
             "outlinewidth": 0,
             "ticks": ""
            },
            "colorscale": [
             [
              0,
              "#0d0887"
             ],
             [
              0.1111111111111111,
              "#46039f"
             ],
             [
              0.2222222222222222,
              "#7201a8"
             ],
             [
              0.3333333333333333,
              "#9c179e"
             ],
             [
              0.4444444444444444,
              "#bd3786"
             ],
             [
              0.5555555555555556,
              "#d8576b"
             ],
             [
              0.6666666666666666,
              "#ed7953"
             ],
             [
              0.7777777777777778,
              "#fb9f3a"
             ],
             [
              0.8888888888888888,
              "#fdca26"
             ],
             [
              1,
              "#f0f921"
             ]
            ],
            "type": "heatmapgl"
           }
          ],
          "histogram": [
           {
            "marker": {
             "pattern": {
              "fillmode": "overlay",
              "size": 10,
              "solidity": 0.2
             }
            },
            "type": "histogram"
           }
          ],
          "histogram2d": [
           {
            "colorbar": {
             "outlinewidth": 0,
             "ticks": ""
            },
            "colorscale": [
             [
              0,
              "#0d0887"
             ],
             [
              0.1111111111111111,
              "#46039f"
             ],
             [
              0.2222222222222222,
              "#7201a8"
             ],
             [
              0.3333333333333333,
              "#9c179e"
             ],
             [
              0.4444444444444444,
              "#bd3786"
             ],
             [
              0.5555555555555556,
              "#d8576b"
             ],
             [
              0.6666666666666666,
              "#ed7953"
             ],
             [
              0.7777777777777778,
              "#fb9f3a"
             ],
             [
              0.8888888888888888,
              "#fdca26"
             ],
             [
              1,
              "#f0f921"
             ]
            ],
            "type": "histogram2d"
           }
          ],
          "histogram2dcontour": [
           {
            "colorbar": {
             "outlinewidth": 0,
             "ticks": ""
            },
            "colorscale": [
             [
              0,
              "#0d0887"
             ],
             [
              0.1111111111111111,
              "#46039f"
             ],
             [
              0.2222222222222222,
              "#7201a8"
             ],
             [
              0.3333333333333333,
              "#9c179e"
             ],
             [
              0.4444444444444444,
              "#bd3786"
             ],
             [
              0.5555555555555556,
              "#d8576b"
             ],
             [
              0.6666666666666666,
              "#ed7953"
             ],
             [
              0.7777777777777778,
              "#fb9f3a"
             ],
             [
              0.8888888888888888,
              "#fdca26"
             ],
             [
              1,
              "#f0f921"
             ]
            ],
            "type": "histogram2dcontour"
           }
          ],
          "mesh3d": [
           {
            "colorbar": {
             "outlinewidth": 0,
             "ticks": ""
            },
            "type": "mesh3d"
           }
          ],
          "parcoords": [
           {
            "line": {
             "colorbar": {
              "outlinewidth": 0,
              "ticks": ""
             }
            },
            "type": "parcoords"
           }
          ],
          "pie": [
           {
            "automargin": true,
            "type": "pie"
           }
          ],
          "scatter": [
           {
            "marker": {
             "line": {
              "color": "#283442"
             }
            },
            "type": "scatter"
           }
          ],
          "scatter3d": [
           {
            "line": {
             "colorbar": {
              "outlinewidth": 0,
              "ticks": ""
             }
            },
            "marker": {
             "colorbar": {
              "outlinewidth": 0,
              "ticks": ""
             }
            },
            "type": "scatter3d"
           }
          ],
          "scattercarpet": [
           {
            "marker": {
             "colorbar": {
              "outlinewidth": 0,
              "ticks": ""
             }
            },
            "type": "scattercarpet"
           }
          ],
          "scattergeo": [
           {
            "marker": {
             "colorbar": {
              "outlinewidth": 0,
              "ticks": ""
             }
            },
            "type": "scattergeo"
           }
          ],
          "scattergl": [
           {
            "marker": {
             "line": {
              "color": "#283442"
             }
            },
            "type": "scattergl"
           }
          ],
          "scattermapbox": [
           {
            "marker": {
             "colorbar": {
              "outlinewidth": 0,
              "ticks": ""
             }
            },
            "type": "scattermapbox"
           }
          ],
          "scatterpolar": [
           {
            "marker": {
             "colorbar": {
              "outlinewidth": 0,
              "ticks": ""
             }
            },
            "type": "scatterpolar"
           }
          ],
          "scatterpolargl": [
           {
            "marker": {
             "colorbar": {
              "outlinewidth": 0,
              "ticks": ""
             }
            },
            "type": "scatterpolargl"
           }
          ],
          "scatterternary": [
           {
            "marker": {
             "colorbar": {
              "outlinewidth": 0,
              "ticks": ""
             }
            },
            "type": "scatterternary"
           }
          ],
          "surface": [
           {
            "colorbar": {
             "outlinewidth": 0,
             "ticks": ""
            },
            "colorscale": [
             [
              0,
              "#0d0887"
             ],
             [
              0.1111111111111111,
              "#46039f"
             ],
             [
              0.2222222222222222,
              "#7201a8"
             ],
             [
              0.3333333333333333,
              "#9c179e"
             ],
             [
              0.4444444444444444,
              "#bd3786"
             ],
             [
              0.5555555555555556,
              "#d8576b"
             ],
             [
              0.6666666666666666,
              "#ed7953"
             ],
             [
              0.7777777777777778,
              "#fb9f3a"
             ],
             [
              0.8888888888888888,
              "#fdca26"
             ],
             [
              1,
              "#f0f921"
             ]
            ],
            "type": "surface"
           }
          ],
          "table": [
           {
            "cells": {
             "fill": {
              "color": "#506784"
             },
             "line": {
              "color": "rgb(17,17,17)"
             }
            },
            "header": {
             "fill": {
              "color": "#2a3f5f"
             },
             "line": {
              "color": "rgb(17,17,17)"
             }
            },
            "type": "table"
           }
          ]
         },
         "layout": {
          "annotationdefaults": {
           "arrowcolor": "#f2f5fa",
           "arrowhead": 0,
           "arrowwidth": 1
          },
          "autotypenumbers": "strict",
          "coloraxis": {
           "colorbar": {
            "outlinewidth": 0,
            "ticks": ""
           }
          },
          "colorscale": {
           "diverging": [
            [
             0,
             "#8e0152"
            ],
            [
             0.1,
             "#c51b7d"
            ],
            [
             0.2,
             "#de77ae"
            ],
            [
             0.3,
             "#f1b6da"
            ],
            [
             0.4,
             "#fde0ef"
            ],
            [
             0.5,
             "#f7f7f7"
            ],
            [
             0.6,
             "#e6f5d0"
            ],
            [
             0.7,
             "#b8e186"
            ],
            [
             0.8,
             "#7fbc41"
            ],
            [
             0.9,
             "#4d9221"
            ],
            [
             1,
             "#276419"
            ]
           ],
           "sequential": [
            [
             0,
             "#0d0887"
            ],
            [
             0.1111111111111111,
             "#46039f"
            ],
            [
             0.2222222222222222,
             "#7201a8"
            ],
            [
             0.3333333333333333,
             "#9c179e"
            ],
            [
             0.4444444444444444,
             "#bd3786"
            ],
            [
             0.5555555555555556,
             "#d8576b"
            ],
            [
             0.6666666666666666,
             "#ed7953"
            ],
            [
             0.7777777777777778,
             "#fb9f3a"
            ],
            [
             0.8888888888888888,
             "#fdca26"
            ],
            [
             1,
             "#f0f921"
            ]
           ],
           "sequentialminus": [
            [
             0,
             "#0d0887"
            ],
            [
             0.1111111111111111,
             "#46039f"
            ],
            [
             0.2222222222222222,
             "#7201a8"
            ],
            [
             0.3333333333333333,
             "#9c179e"
            ],
            [
             0.4444444444444444,
             "#bd3786"
            ],
            [
             0.5555555555555556,
             "#d8576b"
            ],
            [
             0.6666666666666666,
             "#ed7953"
            ],
            [
             0.7777777777777778,
             "#fb9f3a"
            ],
            [
             0.8888888888888888,
             "#fdca26"
            ],
            [
             1,
             "#f0f921"
            ]
           ]
          },
          "colorway": [
           "#636efa",
           "#EF553B",
           "#00cc96",
           "#ab63fa",
           "#FFA15A",
           "#19d3f3",
           "#FF6692",
           "#B6E880",
           "#FF97FF",
           "#FECB52"
          ],
          "font": {
           "color": "#f2f5fa"
          },
          "geo": {
           "bgcolor": "rgb(17,17,17)",
           "lakecolor": "rgb(17,17,17)",
           "landcolor": "rgb(17,17,17)",
           "showlakes": true,
           "showland": true,
           "subunitcolor": "#506784"
          },
          "hoverlabel": {
           "align": "left"
          },
          "hovermode": "closest",
          "mapbox": {
           "style": "dark"
          },
          "paper_bgcolor": "rgb(17,17,17)",
          "plot_bgcolor": "rgb(17,17,17)",
          "polar": {
           "angularaxis": {
            "gridcolor": "#506784",
            "linecolor": "#506784",
            "ticks": ""
           },
           "bgcolor": "rgb(17,17,17)",
           "radialaxis": {
            "gridcolor": "#506784",
            "linecolor": "#506784",
            "ticks": ""
           }
          },
          "scene": {
           "xaxis": {
            "backgroundcolor": "rgb(17,17,17)",
            "gridcolor": "#506784",
            "gridwidth": 2,
            "linecolor": "#506784",
            "showbackground": true,
            "ticks": "",
            "zerolinecolor": "#C8D4E3"
           },
           "yaxis": {
            "backgroundcolor": "rgb(17,17,17)",
            "gridcolor": "#506784",
            "gridwidth": 2,
            "linecolor": "#506784",
            "showbackground": true,
            "ticks": "",
            "zerolinecolor": "#C8D4E3"
           },
           "zaxis": {
            "backgroundcolor": "rgb(17,17,17)",
            "gridcolor": "#506784",
            "gridwidth": 2,
            "linecolor": "#506784",
            "showbackground": true,
            "ticks": "",
            "zerolinecolor": "#C8D4E3"
           }
          },
          "shapedefaults": {
           "line": {
            "color": "#f2f5fa"
           }
          },
          "sliderdefaults": {
           "bgcolor": "#C8D4E3",
           "bordercolor": "rgb(17,17,17)",
           "borderwidth": 1,
           "tickwidth": 0
          },
          "ternary": {
           "aaxis": {
            "gridcolor": "#506784",
            "linecolor": "#506784",
            "ticks": ""
           },
           "baxis": {
            "gridcolor": "#506784",
            "linecolor": "#506784",
            "ticks": ""
           },
           "bgcolor": "rgb(17,17,17)",
           "caxis": {
            "gridcolor": "#506784",
            "linecolor": "#506784",
            "ticks": ""
           }
          },
          "title": {
           "x": 0.05
          },
          "updatemenudefaults": {
           "bgcolor": "#506784",
           "borderwidth": 0
          },
          "xaxis": {
           "automargin": true,
           "gridcolor": "#283442",
           "linecolor": "#506784",
           "ticks": "",
           "title": {
            "standoff": 15
           },
           "zerolinecolor": "#283442",
           "zerolinewidth": 2
          },
          "yaxis": {
           "automargin": true,
           "gridcolor": "#283442",
           "linecolor": "#506784",
           "ticks": "",
           "title": {
            "standoff": 15
           },
           "zerolinecolor": "#283442",
           "zerolinewidth": 2
          }
         }
        },
        "xaxis": {
         "anchor": "y",
         "domain": [
          0,
          0.45
         ]
        },
        "xaxis2": {
         "anchor": "y2",
         "domain": [
          0.55,
          1
         ]
        },
        "yaxis": {
         "anchor": "x",
         "domain": [
          0,
          1
         ],
         "title": {
          "text": "Return %"
         }
        },
        "yaxis2": {
         "anchor": "x2",
         "domain": [
          0,
          1
         ],
         "title": {
          "text": "Return %"
         }
        }
       }
      }
     },
     "metadata": {},
     "output_type": "display_data"
    },
    {
     "data": {
      "application/vnd.plotly.v1+json": {
       "config": {
        "plotlyServerURL": "https://plot.ly"
       },
       "data": [
        {
         "marker": {
          "color": "green"
         },
         "name": "Gainers",
         "type": "bar",
         "x": [
          "BANANAS31USDT",
          "FUNUSDT",
          "SKYAIUSDT",
          "BANKUSDT",
          "BMTUSDT",
          "BIDUSDT",
          "KOMAUSDT",
          "EPTUSDT",
          "TUSDT",
          "NEIROETHUSDT"
         ],
         "xaxis": "x",
         "y": [
          19.35698050008538,
          18.78695849539444,
          9.27598407383924,
          8.783610058374624,
          7.608728414787026,
          7.287076048032196,
          6.764031123363,
          6.721645043387609,
          6.5813218569571825,
          5.683561452148011
         ],
         "yaxis": "y"
        },
        {
         "marker": {
          "color": "red"
         },
         "name": "Losers",
         "type": "bar",
         "x": [
          "SQDUSDT",
          "MAGICUSDT",
          "AERGOUSDT",
          "BDXNUSDT",
          "ZKJUSDT",
          "ALTUSDT",
          "OBOLUSDT",
          "SFPUSDT",
          "AGTUSDT",
          "DOLOUSDT"
         ],
         "xaxis": "x2",
         "y": [
          -19.37174923361395,
          -13.703079761379152,
          -13.307775918744918,
          -12.710837008389472,
          -11.925419684076443,
          -10.66264800075633,
          -10.47224318508672,
          -10.356249299781945,
          -10.09071358048695,
          -9.620212607788007
         ],
         "yaxis": "y2"
        }
       ],
       "layout": {
        "annotations": [
         {
          "font": {
           "size": 16
          },
          "showarrow": false,
          "text": "Top Gainers - 2025-06-22",
          "x": 0.225,
          "xanchor": "center",
          "xref": "paper",
          "y": 1,
          "yanchor": "bottom",
          "yref": "paper"
         },
         {
          "font": {
           "size": 16
          },
          "showarrow": false,
          "text": "Top Losers - 2025-06-22",
          "x": 0.775,
          "xanchor": "center",
          "xref": "paper",
          "y": 1,
          "yanchor": "bottom",
          "yref": "paper"
         }
        ],
        "height": 500,
        "showlegend": false,
        "template": {
         "data": {
          "bar": [
           {
            "error_x": {
             "color": "#f2f5fa"
            },
            "error_y": {
             "color": "#f2f5fa"
            },
            "marker": {
             "line": {
              "color": "rgb(17,17,17)",
              "width": 0.5
             },
             "pattern": {
              "fillmode": "overlay",
              "size": 10,
              "solidity": 0.2
             }
            },
            "type": "bar"
           }
          ],
          "barpolar": [
           {
            "marker": {
             "line": {
              "color": "rgb(17,17,17)",
              "width": 0.5
             },
             "pattern": {
              "fillmode": "overlay",
              "size": 10,
              "solidity": 0.2
             }
            },
            "type": "barpolar"
           }
          ],
          "carpet": [
           {
            "aaxis": {
             "endlinecolor": "#A2B1C6",
             "gridcolor": "#506784",
             "linecolor": "#506784",
             "minorgridcolor": "#506784",
             "startlinecolor": "#A2B1C6"
            },
            "baxis": {
             "endlinecolor": "#A2B1C6",
             "gridcolor": "#506784",
             "linecolor": "#506784",
             "minorgridcolor": "#506784",
             "startlinecolor": "#A2B1C6"
            },
            "type": "carpet"
           }
          ],
          "choropleth": [
           {
            "colorbar": {
             "outlinewidth": 0,
             "ticks": ""
            },
            "type": "choropleth"
           }
          ],
          "contour": [
           {
            "colorbar": {
             "outlinewidth": 0,
             "ticks": ""
            },
            "colorscale": [
             [
              0,
              "#0d0887"
             ],
             [
              0.1111111111111111,
              "#46039f"
             ],
             [
              0.2222222222222222,
              "#7201a8"
             ],
             [
              0.3333333333333333,
              "#9c179e"
             ],
             [
              0.4444444444444444,
              "#bd3786"
             ],
             [
              0.5555555555555556,
              "#d8576b"
             ],
             [
              0.6666666666666666,
              "#ed7953"
             ],
             [
              0.7777777777777778,
              "#fb9f3a"
             ],
             [
              0.8888888888888888,
              "#fdca26"
             ],
             [
              1,
              "#f0f921"
             ]
            ],
            "type": "contour"
           }
          ],
          "contourcarpet": [
           {
            "colorbar": {
             "outlinewidth": 0,
             "ticks": ""
            },
            "type": "contourcarpet"
           }
          ],
          "heatmap": [
           {
            "colorbar": {
             "outlinewidth": 0,
             "ticks": ""
            },
            "colorscale": [
             [
              0,
              "#0d0887"
             ],
             [
              0.1111111111111111,
              "#46039f"
             ],
             [
              0.2222222222222222,
              "#7201a8"
             ],
             [
              0.3333333333333333,
              "#9c179e"
             ],
             [
              0.4444444444444444,
              "#bd3786"
             ],
             [
              0.5555555555555556,
              "#d8576b"
             ],
             [
              0.6666666666666666,
              "#ed7953"
             ],
             [
              0.7777777777777778,
              "#fb9f3a"
             ],
             [
              0.8888888888888888,
              "#fdca26"
             ],
             [
              1,
              "#f0f921"
             ]
            ],
            "type": "heatmap"
           }
          ],
          "heatmapgl": [
           {
            "colorbar": {
             "outlinewidth": 0,
             "ticks": ""
            },
            "colorscale": [
             [
              0,
              "#0d0887"
             ],
             [
              0.1111111111111111,
              "#46039f"
             ],
             [
              0.2222222222222222,
              "#7201a8"
             ],
             [
              0.3333333333333333,
              "#9c179e"
             ],
             [
              0.4444444444444444,
              "#bd3786"
             ],
             [
              0.5555555555555556,
              "#d8576b"
             ],
             [
              0.6666666666666666,
              "#ed7953"
             ],
             [
              0.7777777777777778,
              "#fb9f3a"
             ],
             [
              0.8888888888888888,
              "#fdca26"
             ],
             [
              1,
              "#f0f921"
             ]
            ],
            "type": "heatmapgl"
           }
          ],
          "histogram": [
           {
            "marker": {
             "pattern": {
              "fillmode": "overlay",
              "size": 10,
              "solidity": 0.2
             }
            },
            "type": "histogram"
           }
          ],
          "histogram2d": [
           {
            "colorbar": {
             "outlinewidth": 0,
             "ticks": ""
            },
            "colorscale": [
             [
              0,
              "#0d0887"
             ],
             [
              0.1111111111111111,
              "#46039f"
             ],
             [
              0.2222222222222222,
              "#7201a8"
             ],
             [
              0.3333333333333333,
              "#9c179e"
             ],
             [
              0.4444444444444444,
              "#bd3786"
             ],
             [
              0.5555555555555556,
              "#d8576b"
             ],
             [
              0.6666666666666666,
              "#ed7953"
             ],
             [
              0.7777777777777778,
              "#fb9f3a"
             ],
             [
              0.8888888888888888,
              "#fdca26"
             ],
             [
              1,
              "#f0f921"
             ]
            ],
            "type": "histogram2d"
           }
          ],
          "histogram2dcontour": [
           {
            "colorbar": {
             "outlinewidth": 0,
             "ticks": ""
            },
            "colorscale": [
             [
              0,
              "#0d0887"
             ],
             [
              0.1111111111111111,
              "#46039f"
             ],
             [
              0.2222222222222222,
              "#7201a8"
             ],
             [
              0.3333333333333333,
              "#9c179e"
             ],
             [
              0.4444444444444444,
              "#bd3786"
             ],
             [
              0.5555555555555556,
              "#d8576b"
             ],
             [
              0.6666666666666666,
              "#ed7953"
             ],
             [
              0.7777777777777778,
              "#fb9f3a"
             ],
             [
              0.8888888888888888,
              "#fdca26"
             ],
             [
              1,
              "#f0f921"
             ]
            ],
            "type": "histogram2dcontour"
           }
          ],
          "mesh3d": [
           {
            "colorbar": {
             "outlinewidth": 0,
             "ticks": ""
            },
            "type": "mesh3d"
           }
          ],
          "parcoords": [
           {
            "line": {
             "colorbar": {
              "outlinewidth": 0,
              "ticks": ""
             }
            },
            "type": "parcoords"
           }
          ],
          "pie": [
           {
            "automargin": true,
            "type": "pie"
           }
          ],
          "scatter": [
           {
            "marker": {
             "line": {
              "color": "#283442"
             }
            },
            "type": "scatter"
           }
          ],
          "scatter3d": [
           {
            "line": {
             "colorbar": {
              "outlinewidth": 0,
              "ticks": ""
             }
            },
            "marker": {
             "colorbar": {
              "outlinewidth": 0,
              "ticks": ""
             }
            },
            "type": "scatter3d"
           }
          ],
          "scattercarpet": [
           {
            "marker": {
             "colorbar": {
              "outlinewidth": 0,
              "ticks": ""
             }
            },
            "type": "scattercarpet"
           }
          ],
          "scattergeo": [
           {
            "marker": {
             "colorbar": {
              "outlinewidth": 0,
              "ticks": ""
             }
            },
            "type": "scattergeo"
           }
          ],
          "scattergl": [
           {
            "marker": {
             "line": {
              "color": "#283442"
             }
            },
            "type": "scattergl"
           }
          ],
          "scattermapbox": [
           {
            "marker": {
             "colorbar": {
              "outlinewidth": 0,
              "ticks": ""
             }
            },
            "type": "scattermapbox"
           }
          ],
          "scatterpolar": [
           {
            "marker": {
             "colorbar": {
              "outlinewidth": 0,
              "ticks": ""
             }
            },
            "type": "scatterpolar"
           }
          ],
          "scatterpolargl": [
           {
            "marker": {
             "colorbar": {
              "outlinewidth": 0,
              "ticks": ""
             }
            },
            "type": "scatterpolargl"
           }
          ],
          "scatterternary": [
           {
            "marker": {
             "colorbar": {
              "outlinewidth": 0,
              "ticks": ""
             }
            },
            "type": "scatterternary"
           }
          ],
          "surface": [
           {
            "colorbar": {
             "outlinewidth": 0,
             "ticks": ""
            },
            "colorscale": [
             [
              0,
              "#0d0887"
             ],
             [
              0.1111111111111111,
              "#46039f"
             ],
             [
              0.2222222222222222,
              "#7201a8"
             ],
             [
              0.3333333333333333,
              "#9c179e"
             ],
             [
              0.4444444444444444,
              "#bd3786"
             ],
             [
              0.5555555555555556,
              "#d8576b"
             ],
             [
              0.6666666666666666,
              "#ed7953"
             ],
             [
              0.7777777777777778,
              "#fb9f3a"
             ],
             [
              0.8888888888888888,
              "#fdca26"
             ],
             [
              1,
              "#f0f921"
             ]
            ],
            "type": "surface"
           }
          ],
          "table": [
           {
            "cells": {
             "fill": {
              "color": "#506784"
             },
             "line": {
              "color": "rgb(17,17,17)"
             }
            },
            "header": {
             "fill": {
              "color": "#2a3f5f"
             },
             "line": {
              "color": "rgb(17,17,17)"
             }
            },
            "type": "table"
           }
          ]
         },
         "layout": {
          "annotationdefaults": {
           "arrowcolor": "#f2f5fa",
           "arrowhead": 0,
           "arrowwidth": 1
          },
          "autotypenumbers": "strict",
          "coloraxis": {
           "colorbar": {
            "outlinewidth": 0,
            "ticks": ""
           }
          },
          "colorscale": {
           "diverging": [
            [
             0,
             "#8e0152"
            ],
            [
             0.1,
             "#c51b7d"
            ],
            [
             0.2,
             "#de77ae"
            ],
            [
             0.3,
             "#f1b6da"
            ],
            [
             0.4,
             "#fde0ef"
            ],
            [
             0.5,
             "#f7f7f7"
            ],
            [
             0.6,
             "#e6f5d0"
            ],
            [
             0.7,
             "#b8e186"
            ],
            [
             0.8,
             "#7fbc41"
            ],
            [
             0.9,
             "#4d9221"
            ],
            [
             1,
             "#276419"
            ]
           ],
           "sequential": [
            [
             0,
             "#0d0887"
            ],
            [
             0.1111111111111111,
             "#46039f"
            ],
            [
             0.2222222222222222,
             "#7201a8"
            ],
            [
             0.3333333333333333,
             "#9c179e"
            ],
            [
             0.4444444444444444,
             "#bd3786"
            ],
            [
             0.5555555555555556,
             "#d8576b"
            ],
            [
             0.6666666666666666,
             "#ed7953"
            ],
            [
             0.7777777777777778,
             "#fb9f3a"
            ],
            [
             0.8888888888888888,
             "#fdca26"
            ],
            [
             1,
             "#f0f921"
            ]
           ],
           "sequentialminus": [
            [
             0,
             "#0d0887"
            ],
            [
             0.1111111111111111,
             "#46039f"
            ],
            [
             0.2222222222222222,
             "#7201a8"
            ],
            [
             0.3333333333333333,
             "#9c179e"
            ],
            [
             0.4444444444444444,
             "#bd3786"
            ],
            [
             0.5555555555555556,
             "#d8576b"
            ],
            [
             0.6666666666666666,
             "#ed7953"
            ],
            [
             0.7777777777777778,
             "#fb9f3a"
            ],
            [
             0.8888888888888888,
             "#fdca26"
            ],
            [
             1,
             "#f0f921"
            ]
           ]
          },
          "colorway": [
           "#636efa",
           "#EF553B",
           "#00cc96",
           "#ab63fa",
           "#FFA15A",
           "#19d3f3",
           "#FF6692",
           "#B6E880",
           "#FF97FF",
           "#FECB52"
          ],
          "font": {
           "color": "#f2f5fa"
          },
          "geo": {
           "bgcolor": "rgb(17,17,17)",
           "lakecolor": "rgb(17,17,17)",
           "landcolor": "rgb(17,17,17)",
           "showlakes": true,
           "showland": true,
           "subunitcolor": "#506784"
          },
          "hoverlabel": {
           "align": "left"
          },
          "hovermode": "closest",
          "mapbox": {
           "style": "dark"
          },
          "paper_bgcolor": "rgb(17,17,17)",
          "plot_bgcolor": "rgb(17,17,17)",
          "polar": {
           "angularaxis": {
            "gridcolor": "#506784",
            "linecolor": "#506784",
            "ticks": ""
           },
           "bgcolor": "rgb(17,17,17)",
           "radialaxis": {
            "gridcolor": "#506784",
            "linecolor": "#506784",
            "ticks": ""
           }
          },
          "scene": {
           "xaxis": {
            "backgroundcolor": "rgb(17,17,17)",
            "gridcolor": "#506784",
            "gridwidth": 2,
            "linecolor": "#506784",
            "showbackground": true,
            "ticks": "",
            "zerolinecolor": "#C8D4E3"
           },
           "yaxis": {
            "backgroundcolor": "rgb(17,17,17)",
            "gridcolor": "#506784",
            "gridwidth": 2,
            "linecolor": "#506784",
            "showbackground": true,
            "ticks": "",
            "zerolinecolor": "#C8D4E3"
           },
           "zaxis": {
            "backgroundcolor": "rgb(17,17,17)",
            "gridcolor": "#506784",
            "gridwidth": 2,
            "linecolor": "#506784",
            "showbackground": true,
            "ticks": "",
            "zerolinecolor": "#C8D4E3"
           }
          },
          "shapedefaults": {
           "line": {
            "color": "#f2f5fa"
           }
          },
          "sliderdefaults": {
           "bgcolor": "#C8D4E3",
           "bordercolor": "rgb(17,17,17)",
           "borderwidth": 1,
           "tickwidth": 0
          },
          "ternary": {
           "aaxis": {
            "gridcolor": "#506784",
            "linecolor": "#506784",
            "ticks": ""
           },
           "baxis": {
            "gridcolor": "#506784",
            "linecolor": "#506784",
            "ticks": ""
           },
           "bgcolor": "rgb(17,17,17)",
           "caxis": {
            "gridcolor": "#506784",
            "linecolor": "#506784",
            "ticks": ""
           }
          },
          "title": {
           "x": 0.05
          },
          "updatemenudefaults": {
           "bgcolor": "#506784",
           "borderwidth": 0
          },
          "xaxis": {
           "automargin": true,
           "gridcolor": "#283442",
           "linecolor": "#506784",
           "ticks": "",
           "title": {
            "standoff": 15
           },
           "zerolinecolor": "#283442",
           "zerolinewidth": 2
          },
          "yaxis": {
           "automargin": true,
           "gridcolor": "#283442",
           "linecolor": "#506784",
           "ticks": "",
           "title": {
            "standoff": 15
           },
           "zerolinecolor": "#283442",
           "zerolinewidth": 2
          }
         }
        },
        "xaxis": {
         "anchor": "y",
         "domain": [
          0,
          0.45
         ]
        },
        "xaxis2": {
         "anchor": "y2",
         "domain": [
          0.55,
          1
         ]
        },
        "yaxis": {
         "anchor": "x",
         "domain": [
          0,
          1
         ],
         "title": {
          "text": "Return %"
         }
        },
        "yaxis2": {
         "anchor": "x2",
         "domain": [
          0,
          1
         ],
         "title": {
          "text": "Return %"
         }
        }
       }
      }
     },
     "metadata": {},
     "output_type": "display_data"
    },
    {
     "data": {
      "application/vnd.plotly.v1+json": {
       "config": {
        "plotlyServerURL": "https://plot.ly"
       },
       "data": [
        {
         "marker": {
          "color": "green"
         },
         "name": "Gainers",
         "type": "bar",
         "x": [
          "BRUSDT",
          "BANANAS31USDT",
          "MOVEUSDT",
          "MILKUSDT",
          "HIPPOUSDT",
          "BIDUSDT",
          "AERGOUSDT",
          "1000000MOGUSDT",
          "TUTUSDT",
          "HAEDALUSDT"
         ],
         "xaxis": "x",
         "y": [
          50.97786128861323,
          43.312752297165595,
          35.17786579038884,
          27.39839129545289,
          27.20356782673142,
          24.840041086466496,
          24.097597568497793,
          22.92517727490863,
          22.533001139254146,
          22.349754690905225
         ],
         "yaxis": "y"
        },
        {
         "marker": {
          "color": "red"
         },
         "name": "Losers",
         "type": "bar",
         "x": [
          "PROMUSDT",
          "SIRENUSDT",
          "BTCDOMUSDT",
          "PAXGUSDT",
          "USDCUSDT",
          "GPSUSDT",
          "JELLYJELLYUSDT",
          "OBOLUSDT",
          "BCHUSDT",
          "PORT3USDT"
         ],
         "xaxis": "x2",
         "y": [
          -12.967782330853275,
          -10.970975099376611,
          -3.123864307013272,
          -0.9976383119956423,
          -0.04373855623399596,
          1.1274896672540438,
          1.486295535015897,
          1.5648683207940783,
          1.6696336087351482,
          1.8773745012426537
         ],
         "yaxis": "y2"
        }
       ],
       "layout": {
        "annotations": [
         {
          "font": {
           "size": 16
          },
          "showarrow": false,
          "text": "Top Gainers - 2025-06-23",
          "x": 0.225,
          "xanchor": "center",
          "xref": "paper",
          "y": 1,
          "yanchor": "bottom",
          "yref": "paper"
         },
         {
          "font": {
           "size": 16
          },
          "showarrow": false,
          "text": "Top Losers - 2025-06-23",
          "x": 0.775,
          "xanchor": "center",
          "xref": "paper",
          "y": 1,
          "yanchor": "bottom",
          "yref": "paper"
         }
        ],
        "height": 500,
        "showlegend": false,
        "template": {
         "data": {
          "bar": [
           {
            "error_x": {
             "color": "#f2f5fa"
            },
            "error_y": {
             "color": "#f2f5fa"
            },
            "marker": {
             "line": {
              "color": "rgb(17,17,17)",
              "width": 0.5
             },
             "pattern": {
              "fillmode": "overlay",
              "size": 10,
              "solidity": 0.2
             }
            },
            "type": "bar"
           }
          ],
          "barpolar": [
           {
            "marker": {
             "line": {
              "color": "rgb(17,17,17)",
              "width": 0.5
             },
             "pattern": {
              "fillmode": "overlay",
              "size": 10,
              "solidity": 0.2
             }
            },
            "type": "barpolar"
           }
          ],
          "carpet": [
           {
            "aaxis": {
             "endlinecolor": "#A2B1C6",
             "gridcolor": "#506784",
             "linecolor": "#506784",
             "minorgridcolor": "#506784",
             "startlinecolor": "#A2B1C6"
            },
            "baxis": {
             "endlinecolor": "#A2B1C6",
             "gridcolor": "#506784",
             "linecolor": "#506784",
             "minorgridcolor": "#506784",
             "startlinecolor": "#A2B1C6"
            },
            "type": "carpet"
           }
          ],
          "choropleth": [
           {
            "colorbar": {
             "outlinewidth": 0,
             "ticks": ""
            },
            "type": "choropleth"
           }
          ],
          "contour": [
           {
            "colorbar": {
             "outlinewidth": 0,
             "ticks": ""
            },
            "colorscale": [
             [
              0,
              "#0d0887"
             ],
             [
              0.1111111111111111,
              "#46039f"
             ],
             [
              0.2222222222222222,
              "#7201a8"
             ],
             [
              0.3333333333333333,
              "#9c179e"
             ],
             [
              0.4444444444444444,
              "#bd3786"
             ],
             [
              0.5555555555555556,
              "#d8576b"
             ],
             [
              0.6666666666666666,
              "#ed7953"
             ],
             [
              0.7777777777777778,
              "#fb9f3a"
             ],
             [
              0.8888888888888888,
              "#fdca26"
             ],
             [
              1,
              "#f0f921"
             ]
            ],
            "type": "contour"
           }
          ],
          "contourcarpet": [
           {
            "colorbar": {
             "outlinewidth": 0,
             "ticks": ""
            },
            "type": "contourcarpet"
           }
          ],
          "heatmap": [
           {
            "colorbar": {
             "outlinewidth": 0,
             "ticks": ""
            },
            "colorscale": [
             [
              0,
              "#0d0887"
             ],
             [
              0.1111111111111111,
              "#46039f"
             ],
             [
              0.2222222222222222,
              "#7201a8"
             ],
             [
              0.3333333333333333,
              "#9c179e"
             ],
             [
              0.4444444444444444,
              "#bd3786"
             ],
             [
              0.5555555555555556,
              "#d8576b"
             ],
             [
              0.6666666666666666,
              "#ed7953"
             ],
             [
              0.7777777777777778,
              "#fb9f3a"
             ],
             [
              0.8888888888888888,
              "#fdca26"
             ],
             [
              1,
              "#f0f921"
             ]
            ],
            "type": "heatmap"
           }
          ],
          "heatmapgl": [
           {
            "colorbar": {
             "outlinewidth": 0,
             "ticks": ""
            },
            "colorscale": [
             [
              0,
              "#0d0887"
             ],
             [
              0.1111111111111111,
              "#46039f"
             ],
             [
              0.2222222222222222,
              "#7201a8"
             ],
             [
              0.3333333333333333,
              "#9c179e"
             ],
             [
              0.4444444444444444,
              "#bd3786"
             ],
             [
              0.5555555555555556,
              "#d8576b"
             ],
             [
              0.6666666666666666,
              "#ed7953"
             ],
             [
              0.7777777777777778,
              "#fb9f3a"
             ],
             [
              0.8888888888888888,
              "#fdca26"
             ],
             [
              1,
              "#f0f921"
             ]
            ],
            "type": "heatmapgl"
           }
          ],
          "histogram": [
           {
            "marker": {
             "pattern": {
              "fillmode": "overlay",
              "size": 10,
              "solidity": 0.2
             }
            },
            "type": "histogram"
           }
          ],
          "histogram2d": [
           {
            "colorbar": {
             "outlinewidth": 0,
             "ticks": ""
            },
            "colorscale": [
             [
              0,
              "#0d0887"
             ],
             [
              0.1111111111111111,
              "#46039f"
             ],
             [
              0.2222222222222222,
              "#7201a8"
             ],
             [
              0.3333333333333333,
              "#9c179e"
             ],
             [
              0.4444444444444444,
              "#bd3786"
             ],
             [
              0.5555555555555556,
              "#d8576b"
             ],
             [
              0.6666666666666666,
              "#ed7953"
             ],
             [
              0.7777777777777778,
              "#fb9f3a"
             ],
             [
              0.8888888888888888,
              "#fdca26"
             ],
             [
              1,
              "#f0f921"
             ]
            ],
            "type": "histogram2d"
           }
          ],
          "histogram2dcontour": [
           {
            "colorbar": {
             "outlinewidth": 0,
             "ticks": ""
            },
            "colorscale": [
             [
              0,
              "#0d0887"
             ],
             [
              0.1111111111111111,
              "#46039f"
             ],
             [
              0.2222222222222222,
              "#7201a8"
             ],
             [
              0.3333333333333333,
              "#9c179e"
             ],
             [
              0.4444444444444444,
              "#bd3786"
             ],
             [
              0.5555555555555556,
              "#d8576b"
             ],
             [
              0.6666666666666666,
              "#ed7953"
             ],
             [
              0.7777777777777778,
              "#fb9f3a"
             ],
             [
              0.8888888888888888,
              "#fdca26"
             ],
             [
              1,
              "#f0f921"
             ]
            ],
            "type": "histogram2dcontour"
           }
          ],
          "mesh3d": [
           {
            "colorbar": {
             "outlinewidth": 0,
             "ticks": ""
            },
            "type": "mesh3d"
           }
          ],
          "parcoords": [
           {
            "line": {
             "colorbar": {
              "outlinewidth": 0,
              "ticks": ""
             }
            },
            "type": "parcoords"
           }
          ],
          "pie": [
           {
            "automargin": true,
            "type": "pie"
           }
          ],
          "scatter": [
           {
            "marker": {
             "line": {
              "color": "#283442"
             }
            },
            "type": "scatter"
           }
          ],
          "scatter3d": [
           {
            "line": {
             "colorbar": {
              "outlinewidth": 0,
              "ticks": ""
             }
            },
            "marker": {
             "colorbar": {
              "outlinewidth": 0,
              "ticks": ""
             }
            },
            "type": "scatter3d"
           }
          ],
          "scattercarpet": [
           {
            "marker": {
             "colorbar": {
              "outlinewidth": 0,
              "ticks": ""
             }
            },
            "type": "scattercarpet"
           }
          ],
          "scattergeo": [
           {
            "marker": {
             "colorbar": {
              "outlinewidth": 0,
              "ticks": ""
             }
            },
            "type": "scattergeo"
           }
          ],
          "scattergl": [
           {
            "marker": {
             "line": {
              "color": "#283442"
             }
            },
            "type": "scattergl"
           }
          ],
          "scattermapbox": [
           {
            "marker": {
             "colorbar": {
              "outlinewidth": 0,
              "ticks": ""
             }
            },
            "type": "scattermapbox"
           }
          ],
          "scatterpolar": [
           {
            "marker": {
             "colorbar": {
              "outlinewidth": 0,
              "ticks": ""
             }
            },
            "type": "scatterpolar"
           }
          ],
          "scatterpolargl": [
           {
            "marker": {
             "colorbar": {
              "outlinewidth": 0,
              "ticks": ""
             }
            },
            "type": "scatterpolargl"
           }
          ],
          "scatterternary": [
           {
            "marker": {
             "colorbar": {
              "outlinewidth": 0,
              "ticks": ""
             }
            },
            "type": "scatterternary"
           }
          ],
          "surface": [
           {
            "colorbar": {
             "outlinewidth": 0,
             "ticks": ""
            },
            "colorscale": [
             [
              0,
              "#0d0887"
             ],
             [
              0.1111111111111111,
              "#46039f"
             ],
             [
              0.2222222222222222,
              "#7201a8"
             ],
             [
              0.3333333333333333,
              "#9c179e"
             ],
             [
              0.4444444444444444,
              "#bd3786"
             ],
             [
              0.5555555555555556,
              "#d8576b"
             ],
             [
              0.6666666666666666,
              "#ed7953"
             ],
             [
              0.7777777777777778,
              "#fb9f3a"
             ],
             [
              0.8888888888888888,
              "#fdca26"
             ],
             [
              1,
              "#f0f921"
             ]
            ],
            "type": "surface"
           }
          ],
          "table": [
           {
            "cells": {
             "fill": {
              "color": "#506784"
             },
             "line": {
              "color": "rgb(17,17,17)"
             }
            },
            "header": {
             "fill": {
              "color": "#2a3f5f"
             },
             "line": {
              "color": "rgb(17,17,17)"
             }
            },
            "type": "table"
           }
          ]
         },
         "layout": {
          "annotationdefaults": {
           "arrowcolor": "#f2f5fa",
           "arrowhead": 0,
           "arrowwidth": 1
          },
          "autotypenumbers": "strict",
          "coloraxis": {
           "colorbar": {
            "outlinewidth": 0,
            "ticks": ""
           }
          },
          "colorscale": {
           "diverging": [
            [
             0,
             "#8e0152"
            ],
            [
             0.1,
             "#c51b7d"
            ],
            [
             0.2,
             "#de77ae"
            ],
            [
             0.3,
             "#f1b6da"
            ],
            [
             0.4,
             "#fde0ef"
            ],
            [
             0.5,
             "#f7f7f7"
            ],
            [
             0.6,
             "#e6f5d0"
            ],
            [
             0.7,
             "#b8e186"
            ],
            [
             0.8,
             "#7fbc41"
            ],
            [
             0.9,
             "#4d9221"
            ],
            [
             1,
             "#276419"
            ]
           ],
           "sequential": [
            [
             0,
             "#0d0887"
            ],
            [
             0.1111111111111111,
             "#46039f"
            ],
            [
             0.2222222222222222,
             "#7201a8"
            ],
            [
             0.3333333333333333,
             "#9c179e"
            ],
            [
             0.4444444444444444,
             "#bd3786"
            ],
            [
             0.5555555555555556,
             "#d8576b"
            ],
            [
             0.6666666666666666,
             "#ed7953"
            ],
            [
             0.7777777777777778,
             "#fb9f3a"
            ],
            [
             0.8888888888888888,
             "#fdca26"
            ],
            [
             1,
             "#f0f921"
            ]
           ],
           "sequentialminus": [
            [
             0,
             "#0d0887"
            ],
            [
             0.1111111111111111,
             "#46039f"
            ],
            [
             0.2222222222222222,
             "#7201a8"
            ],
            [
             0.3333333333333333,
             "#9c179e"
            ],
            [
             0.4444444444444444,
             "#bd3786"
            ],
            [
             0.5555555555555556,
             "#d8576b"
            ],
            [
             0.6666666666666666,
             "#ed7953"
            ],
            [
             0.7777777777777778,
             "#fb9f3a"
            ],
            [
             0.8888888888888888,
             "#fdca26"
            ],
            [
             1,
             "#f0f921"
            ]
           ]
          },
          "colorway": [
           "#636efa",
           "#EF553B",
           "#00cc96",
           "#ab63fa",
           "#FFA15A",
           "#19d3f3",
           "#FF6692",
           "#B6E880",
           "#FF97FF",
           "#FECB52"
          ],
          "font": {
           "color": "#f2f5fa"
          },
          "geo": {
           "bgcolor": "rgb(17,17,17)",
           "lakecolor": "rgb(17,17,17)",
           "landcolor": "rgb(17,17,17)",
           "showlakes": true,
           "showland": true,
           "subunitcolor": "#506784"
          },
          "hoverlabel": {
           "align": "left"
          },
          "hovermode": "closest",
          "mapbox": {
           "style": "dark"
          },
          "paper_bgcolor": "rgb(17,17,17)",
          "plot_bgcolor": "rgb(17,17,17)",
          "polar": {
           "angularaxis": {
            "gridcolor": "#506784",
            "linecolor": "#506784",
            "ticks": ""
           },
           "bgcolor": "rgb(17,17,17)",
           "radialaxis": {
            "gridcolor": "#506784",
            "linecolor": "#506784",
            "ticks": ""
           }
          },
          "scene": {
           "xaxis": {
            "backgroundcolor": "rgb(17,17,17)",
            "gridcolor": "#506784",
            "gridwidth": 2,
            "linecolor": "#506784",
            "showbackground": true,
            "ticks": "",
            "zerolinecolor": "#C8D4E3"
           },
           "yaxis": {
            "backgroundcolor": "rgb(17,17,17)",
            "gridcolor": "#506784",
            "gridwidth": 2,
            "linecolor": "#506784",
            "showbackground": true,
            "ticks": "",
            "zerolinecolor": "#C8D4E3"
           },
           "zaxis": {
            "backgroundcolor": "rgb(17,17,17)",
            "gridcolor": "#506784",
            "gridwidth": 2,
            "linecolor": "#506784",
            "showbackground": true,
            "ticks": "",
            "zerolinecolor": "#C8D4E3"
           }
          },
          "shapedefaults": {
           "line": {
            "color": "#f2f5fa"
           }
          },
          "sliderdefaults": {
           "bgcolor": "#C8D4E3",
           "bordercolor": "rgb(17,17,17)",
           "borderwidth": 1,
           "tickwidth": 0
          },
          "ternary": {
           "aaxis": {
            "gridcolor": "#506784",
            "linecolor": "#506784",
            "ticks": ""
           },
           "baxis": {
            "gridcolor": "#506784",
            "linecolor": "#506784",
            "ticks": ""
           },
           "bgcolor": "rgb(17,17,17)",
           "caxis": {
            "gridcolor": "#506784",
            "linecolor": "#506784",
            "ticks": ""
           }
          },
          "title": {
           "x": 0.05
          },
          "updatemenudefaults": {
           "bgcolor": "#506784",
           "borderwidth": 0
          },
          "xaxis": {
           "automargin": true,
           "gridcolor": "#283442",
           "linecolor": "#506784",
           "ticks": "",
           "title": {
            "standoff": 15
           },
           "zerolinecolor": "#283442",
           "zerolinewidth": 2
          },
          "yaxis": {
           "automargin": true,
           "gridcolor": "#283442",
           "linecolor": "#506784",
           "ticks": "",
           "title": {
            "standoff": 15
           },
           "zerolinecolor": "#283442",
           "zerolinewidth": 2
          }
         }
        },
        "xaxis": {
         "anchor": "y",
         "domain": [
          0,
          0.45
         ]
        },
        "xaxis2": {
         "anchor": "y2",
         "domain": [
          0.55,
          1
         ]
        },
        "yaxis": {
         "anchor": "x",
         "domain": [
          0,
          1
         ],
         "title": {
          "text": "Return %"
         }
        },
        "yaxis2": {
         "anchor": "x2",
         "domain": [
          0,
          1
         ],
         "title": {
          "text": "Return %"
         }
        }
       }
      }
     },
     "metadata": {},
     "output_type": "display_data"
    },
    {
     "data": {
      "application/vnd.plotly.v1+json": {
       "config": {
        "plotlyServerURL": "https://plot.ly"
       },
       "data": [
        {
         "hovertemplate": "<b>%{hovertext}</b><br><br>Trading Volume (USDT)=%{marker.size}<br>Weekly Return %=%{marker.color}<extra></extra>",
         "hovertext": [
          "1000000BOBUSDT",
          "1000000MOGUSDT",
          "1000BONKUSDT",
          "1000CATUSDT",
          "1000CHEEMSUSDT",
          "1000FLOKIUSDT",
          "1000LUNCUSDT",
          "1000PEPEUSDT",
          "1000RATSUSDT",
          "1000SATSUSDT",
          "1000SHIBUSDT",
          "1000WHYUSDT",
          "1000XECUSDT",
          "1000XUSDT",
          "1INCHUSDT",
          "1MBABYDOGEUSDT",
          "AAVEUSDT",
          "ACEUSDT",
          "ACHUSDT",
          "ACTUSDT",
          "ACXUSDT",
          "ADAUSDT",
          "AERGOUSDT",
          "AEROUSDT",
          "AEVOUSDT",
          "AGLDUSDT",
          "AGTUSDT",
          "AI16ZUSDT",
          "AIOTUSDT",
          "AIUSDT",
          "AIXBTUSDT",
          "AKTUSDT",
          "ALCHUSDT",
          "ALGOUSDT",
          "ALICEUSDT",
          "ALPHAUSDT",
          "ALPINEUSDT",
          "ALTUSDT",
          "ANIMEUSDT",
          "ANKRUSDT",
          "APEUSDT",
          "API3USDT",
          "APTUSDT",
          "ARBUSDT",
          "ARCUSDT",
          "ARKMUSDT",
          "ARKUSDT",
          "ARPAUSDT",
          "ARUSDT",
          "ASRUSDT",
          "ASTRUSDT",
          "ATAUSDT",
          "ATHUSDT",
          "ATOMUSDT",
          "AUCTIONUSDT",
          "AUSDT",
          "AVAAIUSDT",
          "AVAUSDT",
          "AVAXUSDT",
          "AWEUSDT",
          "AXLUSDT",
          "AXSUSDT",
          "B2USDT",
          "B3USDT",
          "BABYUSDT",
          "BAKEUSDT",
          "BANANAS31USDT",
          "BANANAUSDT",
          "BANDUSDT",
          "BANKUSDT",
          "BANUSDT",
          "BATUSDT",
          "BBUSDT",
          "BCHUSDT",
          "BDXNUSDT",
          "BEAMXUSDT",
          "BELUSDT",
          "BERAUSDT",
          "BICOUSDT",
          "BIDUSDT",
          "BIGTIMEUSDT",
          "BIOUSDT",
          "BLURUSDT",
          "BMTUSDT",
          "BNBUSDT",
          "BNTUSDT",
          "BOMEUSDT",
          "BRETTUSDT",
          "BROCCOLI714USDT",
          "BROCCOLIF3BUSDT",
          "BRUSDT",
          "BSVUSDT",
          "BSWUSDT",
          "BTCDOMUSDT",
          "BTCUSDT",
          "BUSDT",
          "C98USDT",
          "CAKEUSDT",
          "CATIUSDT",
          "CELOUSDT",
          "CELRUSDT",
          "CETUSUSDT",
          "CFXUSDT",
          "CGPTUSDT",
          "CHESSUSDT",
          "CHILLGUYUSDT",
          "CHRUSDT",
          "CHZUSDT",
          "CKBUSDT",
          "COMPUSDT",
          "COOKIEUSDT",
          "COSUSDT",
          "COTIUSDT",
          "COWUSDT",
          "CRVUSDT",
          "CTKUSDT",
          "CTSIUSDT",
          "CVCUSDT",
          "CYBERUSDT",
          "DASHUSDT",
          "DEEPUSDT",
          "DEFIUSDT",
          "DEGENUSDT",
          "DEGOUSDT",
          "DENTUSDT",
          "DEXEUSDT",
          "DFUSDT",
          "DIAUSDT",
          "DODOXUSDT",
          "DOGEUSDT",
          "DOGSUSDT",
          "DOLOUSDT",
          "DOODUSDT",
          "DOTUSDT",
          "DRIFTUSDT",
          "DUSDT",
          "DUSKUSDT",
          "DYDXUSDT",
          "DYMUSDT",
          "EDUUSDT",
          "EGLDUSDT",
          "EIGENUSDT",
          "ENAUSDT",
          "ENJUSDT",
          "ENSUSDT",
          "EPICUSDT",
          "EPTUSDT",
          "ETCUSDT",
          "ETHFIUSDT",
          "ETHUSDT",
          "ETHWUSDT",
          "FARTCOINUSDT",
          "FETUSDT",
          "FHEUSDT",
          "FIDAUSDT",
          "FILUSDT",
          "FIOUSDT",
          "FISUSDT",
          "FLMUSDT",
          "FLOWUSDT",
          "FLUXUSDT",
          "FORMUSDT",
          "FORTHUSDT",
          "FUNUSDT",
          "FXSUSDT",
          "GALAUSDT",
          "GASUSDT",
          "GHSTUSDT",
          "GLMUSDT",
          "GMTUSDT",
          "GMXUSDT",
          "GOATUSDT",
          "GPSUSDT",
          "GRASSUSDT",
          "GRIFFAINUSDT",
          "GRTUSDT",
          "GTCUSDT",
          "GUNUSDT",
          "GUSDT",
          "HAEDALUSDT",
          "HBARUSDT",
          "HEIUSDT",
          "HFTUSDT",
          "HIFIUSDT",
          "HIGHUSDT",
          "HIPPOUSDT",
          "HIVEUSDT",
          "HMSTRUSDT",
          "HOMEUSDT",
          "HOOKUSDT",
          "HOTUSDT",
          "HUMAUSDT",
          "HYPERUSDT",
          "HYPEUSDT",
          "ICPUSDT",
          "ICXUSDT",
          "IDUSDT",
          "ILVUSDT",
          "IMXUSDT",
          "INITUSDT",
          "INJUSDT",
          "IOSTUSDT",
          "IOTAUSDT",
          "IOTXUSDT",
          "IOUSDT",
          "IPUSDT",
          "JASMYUSDT",
          "JELLYJELLYUSDT",
          "JOEUSDT",
          "JSTUSDT",
          "JTOUSDT",
          "JUPUSDT",
          "KAIAUSDT",
          "KAITOUSDT",
          "KASUSDT",
          "KAVAUSDT",
          "KDAUSDT",
          "KERNELUSDT",
          "KMNOUSDT",
          "KNCUSDT",
          "KOMAUSDT",
          "KSMUSDT",
          "LAUSDT",
          "LAYERUSDT",
          "LDOUSDT",
          "LEVERUSDT",
          "LINKUSDT",
          "LISTAUSDT",
          "LOKAUSDT",
          "LPTUSDT",
          "LQTYUSDT",
          "LRCUSDT",
          "LSKUSDT",
          "LTCUSDT",
          "LUMIAUSDT",
          "LUNA2USDT",
          "MAGICUSDT",
          "MANAUSDT",
          "MANTAUSDT",
          "MASKUSDT",
          "MAVIAUSDT",
          "MAVUSDT",
          "MBOXUSDT",
          "MELANIAUSDT",
          "MEMEFIUSDT",
          "MEMEUSDT",
          "MERLUSDT",
          "METISUSDT",
          "MEUSDT",
          "MEWUSDT",
          "MILKUSDT",
          "MINAUSDT",
          "MKRUSDT",
          "MLNUSDT",
          "MOCAUSDT",
          "MOODENGUSDT",
          "MORPHOUSDT",
          "MOVEUSDT",
          "MOVRUSDT",
          "MTLUSDT",
          "MUBARAKUSDT",
          "MYROUSDT",
          "NEARUSDT",
          "NEIROETHUSDT",
          "NEIROUSDT",
          "NEOUSDT",
          "NFPUSDT",
          "NILUSDT",
          "NKNUSDT",
          "NMRUSDT",
          "NOTUSDT",
          "NTRNUSDT",
          "NXPCUSDT",
          "OBOLUSDT",
          "OGNUSDT",
          "OGUSDT",
          "OMNIUSDT",
          "OMUSDT",
          "ONDOUSDT",
          "ONEUSDT",
          "ONGUSDT",
          "ONTUSDT",
          "OPUSDT",
          "ORCAUSDT",
          "ORDIUSDT",
          "OXTUSDT",
          "PARTIUSDT",
          "PAXGUSDT",
          "PENDLEUSDT",
          "PENGUUSDT",
          "PEOPLEUSDT",
          "PERPUSDT",
          "PHAUSDT",
          "PHBUSDT",
          "PIPPINUSDT",
          "PIXELUSDT",
          "PLUMEUSDT",
          "PNUTUSDT",
          "POLUSDT",
          "POLYXUSDT",
          "PONKEUSDT",
          "POPCATUSDT",
          "PORT3USDT",
          "PORTALUSDT",
          "POWRUSDT",
          "PROMPTUSDT",
          "PROMUSDT",
          "PUFFERUSDT",
          "PUMPBTCUSDT",
          "PUNDIXUSDT",
          "PYTHUSDT",
          "QNTUSDT",
          "QTUMUSDT",
          "QUICKUSDT",
          "RAREUSDT",
          "RAYSOLUSDT",
          "RDNTUSDT",
          "REDUSDT",
          "REIUSDT",
          "RENDERUSDT",
          "RESOLVUSDT",
          "REZUSDT",
          "RIFUSDT",
          "RLCUSDT",
          "RONINUSDT",
          "ROSEUSDT",
          "RPLUSDT",
          "RSRUSDT",
          "RUNEUSDT",
          "RVNUSDT",
          "SAFEUSDT",
          "SAGAUSDT",
          "SANDUSDT",
          "SANTOSUSDT",
          "SCRTUSDT",
          "SCRUSDT",
          "SEIUSDT",
          "SFPUSDT",
          "SHELLUSDT",
          "SIGNUSDT",
          "SIRENUSDT",
          "SKATEUSDT",
          "SKLUSDT",
          "SKYAIUSDT",
          "SLERFUSDT",
          "SNXUSDT",
          "SOLUSDT",
          "SOLVUSDT",
          "SONICUSDT",
          "SOONUSDT",
          "SOPHUSDT",
          "SPELLUSDT",
          "SPXUSDT",
          "SQDUSDT",
          "SSVUSDT",
          "STEEMUSDT",
          "STGUSDT",
          "STORJUSDT",
          "STOUSDT",
          "STRKUSDT",
          "STXUSDT",
          "SUIUSDT",
          "SUNUSDT",
          "SUPERUSDT",
          "SUSDT",
          "SUSHIUSDT",
          "SWARMSUSDT",
          "SWELLUSDT",
          "SXPUSDT",
          "SXTUSDT",
          "SYNUSDT",
          "SYRUPUSDT",
          "SYSUSDT",
          "TAIKOUSDT",
          "TAOUSDT",
          "THETAUSDT",
          "THEUSDT",
          "TIAUSDT",
          "TLMUSDT",
          "TNSRUSDT",
          "TOKENUSDT",
          "TONUSDT",
          "TRBUSDT",
          "TRUMPUSDT",
          "TRUUSDT",
          "TRXUSDT",
          "TSTUSDT",
          "TURBOUSDT",
          "TUSDT",
          "TUTUSDT",
          "TWTUSDT",
          "UMAUSDT",
          "UNIUSDT",
          "USDCUSDT",
          "USTCUSDT",
          "USUALUSDT",
          "UXLINKUSDT",
          "VANAUSDT",
          "VANRYUSDT",
          "VELODROMEUSDT",
          "VETUSDT",
          "VICUSDT",
          "VINEUSDT",
          "VIRTUALUSDT",
          "VOXELUSDT",
          "VTHOUSDT",
          "VVVUSDT",
          "WALUSDT",
          "WAXPUSDT",
          "WCTUSDT",
          "WIFUSDT",
          "WLDUSDT",
          "WOOUSDT",
          "WUSDT",
          "XAIUSDT",
          "XCNUSDT",
          "XLMUSDT",
          "XMRUSDT",
          "XRPUSDT",
          "XTZUSDT",
          "XVGUSDT",
          "XVSUSDT",
          "YFIUSDT",
          "YGGUSDT",
          "ZECUSDT",
          "ZENUSDT",
          "ZEREBROUSDT",
          "ZETAUSDT",
          "ZILUSDT",
          "ZKJUSDT",
          "ZKUSDT",
          "ZROUSDT",
          "ZRXUSDT"
         ],
         "legendgroup": "",
         "marker": {
          "color": [
           -24.84323102200799,
           -2.1941082375022916,
           -5.3251948448435,
           -2.0386467365433827,
           -12.210692572973345,
           -6.9464000959271015,
           -7.5924269082924605,
           -6.721001240819847,
           -4.6685516897217685,
           -7.127698036016856,
           -2.502372340690634,
           -23.205891497216214,
           -3.407931365286289,
           -1.56031534316197,
           -7.595898581654151,
           -11.191071938169081,
           -6.830492161525687,
           -9.91989690567362,
           -0.7196151406493767,
           -5.7145550697354235,
           -7.298836016888053,
           -7.976496846886236,
           25.852604839116303,
           5.622003184964826,
           -8.773395766623064,
           -4.164985544216048,
           -7.100213437164193,
           -12.596711902420882,
           -1.0097654328012418,
           -11.370175947404766,
           -16.479258277686203,
           -8.914195152865025,
           6.1899591122095075,
           1.691133877116096,
           -7.098906124336356,
           -9.484860582890176,
           -4.493843667528958,
           -14.626397325498697,
           -18.644314943950533,
           -6.091516866915866,
           -8.077264389945457,
           -10.172494834492552,
           -8.191529899729334,
           -5.389269815424653,
           -12.265871571986736,
           -6.310555422991557,
           -2.1935637681164426,
           -5.991041370310279,
           -7.969059499384224,
           15.771393124311068,
           -9.236950487341826,
           -2.403961918614675,
           -13.502305138982102,
           -1.656554324575378,
           -5.546827432380118,
           -2.225361782271605,
           -7.242983784481439,
           -1.5298427570435624,
           -5.381352185023699,
           5.746059281069949,
           -13.627025454940984,
           -4.298469412764094,
           6.273641343340417,
           -7.748439585172416,
           -15.73799614279736,
           -5.246131117727389,
           70.6714091607336,
           -3.7361762740576925,
           -9.821652943692307,
           9.011282460973193,
           2.322685060981633,
           -3.215711163453152,
           -15.075747467601396,
           -0.31550539408196565,
           -7.9720030371084505,
           -11.84167561631528,
           -11.057765193511326,
           -13.65755350057507,
           -0.5333345975362569,
           48.000744540976996,
           -7.11644250004592,
           -6.012687613104754,
           -7.307551860845228,
           6.889017572306143,
           -1.6610751006792381,
           -8.11199008211139,
           -7.999104544119991,
           -2.041589432504235,
           6.114321333352834,
           -5.561704851648685,
           63.15986687315637,
           -0.032273681093427875,
           -1.4683244890541118,
           2.9878700166110645,
           -1.3763593224003996,
           1.3035456494556303,
           -18.51424331355959,
           -5.278293613757525,
           -1.2180418556870976,
           -8.546122941522803,
           -7.716592768092125,
           -3.9982716250260335,
           -7.965508286734069,
           -7.0237484089131055,
           2.985296314968127,
           -2.7785000056641067,
           -3.544674899574762,
           -4.348511193973881,
           -8.990701347584213,
           -16.019893061531715,
           -8.829260714567834,
           -3.372043736941995,
           -2.2750539968327956,
           -16.787461381813458,
           -4.227172036181985,
           0.5857757335642253,
           -13.396307836401295,
           -0.9482924740071343,
           -10.552063094117191,
           -2.157093921820236,
           -0.7306099399888737,
           -6.759124160151215,
           -19.86279701600255,
           0.4770599759048677,
           -5.59942693545746,
           -8.923568074294117,
           -1.6230722796308115,
           -7.443950804551868,
           -10.152246629548639,
           -9.3833951155021,
           -4.669811319720788,
           7.633969541895702,
           -16.18591973250984,
           -11.914902279433898,
           -14.042382877549501,
           -5.0720486385308785,
           -3.767469611198699,
           -4.614660263578166,
           -11.106592532537924,
           -5.930442951397287,
           -4.674186810391127,
           -2.904715205725733,
           -8.917675043447701,
           -4.12135947014796,
           -8.361414004113342,
           -11.74111916778304,
           -5.407774121872814,
           -3.2734672577951898,
           -10.398588816690278,
           -5.3603113550517305,
           -6.241931881408023,
           -12.42890046999145,
           -1.1312665967353048,
           -4.399387286902626,
           -9.016772573819038,
           -8.911745768829348,
           -0.8840588010122961,
           -9.395331375372788,
           -0.5917177028088663,
           -6.453852113757094,
           -6.065502111117359,
           7.923611079874878,
           -6.424604961822405,
           110.34490574687237,
           -9.274119776374704,
           -7.009458884026312,
           -4.817243533273958,
           -7.088932568704921,
           -1.9451873636065224,
           -7.939968975404904,
           -10.045008347325167,
           -4.457864086190989,
           24.139223290260894,
           -24.079483872667858,
           -8.107867047153032,
           -7.3888491969706624,
           -7.663322602091586,
           -11.58120368485123,
           -7.929162368752589,
           16.436663866897337,
           -1.2207278976700788,
           -5.788176733816083,
           -3.743652586166718,
           24.045758338162432,
           -5.2739668128757256,
           1.3687593929238986,
           -6.029064102601463,
           -16.009337919122068,
           -20.239928200827393,
           -15.01052409819593,
           -4.974999260322537,
           -4.1825819523636625,
           -10.624508006756049,
           -9.353447784627196,
           -8.447016509709915,
           3.3955097765490896,
           -7.203617889121748,
           -9.30800707240531,
           -8.067030344863523,
           -16.77357944175649,
           -6.392350259578183,
           -6.228513038647158,
           -4.606875208932877,
           0.26845653706690165,
           1.7434344049808352,
           -6.714580101615322,
           -2.981177896714687,
           2.106705688284377,
           -6.4332144085966565,
           5.434950374121296,
           -1.738042728546728,
           -2.7599749180255895,
           29.50315223727057,
           2.0259954855891014,
           -3.805389480802347,
           -1.725386705116522,
           -5.772293173495868,
           -5.445343349869312,
           -9.952959534703307,
           -7.126649408327691,
           -4.600423266492727,
           -5.2775715470072555,
           -36.89647058886379,
           11.000399310296253,
           -14.689189043619582,
           -5.701025471677966,
           -5.612634592673883,
           5.544924733152344,
           -7.150472204619474,
           -5.762255866146312,
           36.99669426715062,
           -2.358148912405184,
           -8.443508630957155,
           -2.075876291855649,
           -7.7660808969002595,
           -9.790774450317414,
           1.9499225051434106,
           -1.1041421900810668,
           -9.180754925312279,
           -7.838353286696059,
           -8.009402261902565,
           -12.681545065908594,
           -5.388147281958039,
           -16.642394286041405,
           -14.624550032014499,
           -9.137614537662294,
           -13.45175123237317,
           -10.95044025699525,
           -8.256573159297805,
           -7.117047344132239,
           6.794712257620265,
           -5.539526322156767,
           -7.434841931482243,
           -4.783667151963945,
           -6.34338612469794,
           -0.20039439137739024,
           -6.024888897102068,
           17.045731552496335,
           -3.578263933940409,
           -3.0771658666753208,
           2.0408871631207237,
           -13.798318428067885,
           -6.877282527635938,
           -6.426853697973832,
           -5.502219238231644,
           -1.6228621881380363,
           -13.0689496264722,
           -21.25614419836728,
           -2.897602998925864,
           -5.705096535755523,
           -13.5792829257297,
           -10.17463260448863,
           -20.367947800152763,
           16.335956087358756,
           -3.657770613992799,
           2.785020778878472,
           -11.064210995345865,
           -15.1957215468977,
           -4.7609560030244005,
           -9.219576856661563,
           -2.1810472572888653,
           -5.855330875157414,
           -6.373838392851107,
           -9.840869681902312,
           -7.560866711176951,
           1.6238048961666927,
           -10.607150040160501,
           -1.897164760002291,
           -12.678488446972604,
           -2.3537598396876263,
           -6.207763045989248,
           -6.993396231095012,
           -6.053405495840887,
           -6.863210697599202,
           -4.382929134002815,
           -12.266193212352631,
           -5.019740386691327,
           -2.9983118738918524,
           -9.627816369000222,
           -4.093660113318226,
           -9.19097179337032,
           -4.102137643697571,
           0.5203827875027287,
           -9.106388892287386,
           -3.3152207316900792,
           -7.770898432731599,
           -21.6125978655563,
           -13.259239602981582,
           -14.773919265580258,
           -2.19329940904988,
           -12.091000714465961,
           -7.140974186734216,
           -4.633652939584589,
           -11.453605037971972,
           -5.518919519042939,
           -5.019791071121228,
           -5.298637106387897,
           -5.612907767083437,
           -7.401651013326221,
           -6.354224244878264,
           -15.671959735502861,
           -13.263707150365457,
           -0.8343892398042474,
           -3.063273532244711,
           -12.881553496135322,
           -2.0881004321795515,
           -12.23366491341792,
           -4.152480022341457,
           -9.816571184395183,
           -17.425185914834564,
           -7.633594490227075,
           -7.547515676170374,
           -3.789539179481462,
           -14.856926998906307,
           -6.095732056079347,
           -7.598590697792211,
           32.61805505846654,
           -1.734025262553824,
           2.316179835261229,
           5.005871692105195,
           -109.35945068666783,
           -11.12882152911016,
           -6.0624621816435145,
           5.595032460070007,
           -6.978738935574068,
           -9.579969600892746,
           -4.243553867472347,
           5.121759948124074,
           -1.3027928532928392,
           6.299955194298359,
           -10.196289072452139,
           -4.723604884168944,
           -19.253428386882018,
           -24.608229394164965,
           -16.482313971803002,
           -3.643115474685077,
           -7.741406387846454,
           -0.44706434956689556,
           -2.9857033410523783,
           -4.949815828517298,
           -1.5800613127845793,
           -5.818410936906446,
           -6.3048157669933165,
           -10.207615809834035,
           -6.12156383821015,
           -5.262683645591926,
           -17.925524546080926,
           -4.840562273035374,
           4.424470179775723,
           -4.347329482146087,
           -22.351180762476076,
           -6.603266848958905,
           -7.506757303342258,
           -14.109213857959256,
           -4.943961960959621,
           -4.971506907688706,
           -5.656441322848238,
           -7.966938972109197,
           -6.750453523654244,
           -6.26030733881805,
           -7.039441341223995,
           -1.9554361780333744,
           -8.69701767619386,
           -3.835855122898465,
           -12.701837553975347,
           -0.5051809989709692,
           0.763445741031207,
           -4.403395937393366,
           16.472189946493877,
           36.348977649886244,
           -9.224919469796824,
           -2.2337698538394157,
           -9.124695971526586,
           -0.009710210293750715,
           -7.195989409035762,
           -21.8938920032178,
           -8.426357283570391,
           -11.311830416572779,
           -10.64834804024499,
           -9.552854425545997,
           -3.4415841884972167,
           -1.4379741369893235,
           -11.029091000711547,
           -7.545381911175163,
           -5.104486775493813,
           -6.550420609964832,
           -3.4821060654596376,
           -6.456767183208852,
           -4.1692902298670225,
           -14.595391262307977,
           -0.48065461439064094,
           -3.665749084401499,
           -9.374889923737252,
           -11.139042047765681,
           -8.982165320224857,
           -1.7857617400006518,
           -6.24820948474503,
           -2.943060533091434,
           -3.627493998985,
           -5.485836055204682,
           -2.7810722566179393,
           -3.7804604009839293,
           -1.220727897670093,
           -12.851202779653676,
           -3.6427868808792496,
           -12.474020067932097,
           1.0556883332622249,
           -8.761607035875432,
           -2.2759289145749193,
           -83.23847562596998,
           -8.25497923558282,
           -6.490486943422383,
           -4.310820748055649
          ],
          "coloraxis": "coloraxis",
          "size": [
           264377481.4615,
           115002597.8508,
           449584776.19574296,
           32497315.904900003,
           36013437.2581904,
           257727367.36584,
           55520957.50141,
           9277969303.541147,
           36730998.6506,
           188275455.79058918,
           794685606.5565609,
           28060834.703682303,
           19528504.08215,
           73482430.72914001,
           53815658.7258,
           74512834.6369593,
           2686799599.438,
           17652028.041883003,
           89900528.02787401,
           151931225.33091,
           12024360.77693,
           2713826917.1879,
           996321124.17479,
           751731594.42835,
           47173846.588,
           54799050.2431,
           137749507.307319,
           325141544.5836399,
           21094453.18819,
           35711086.29289,
           420912578.57124996,
           21146777.565399997,
           80809904.37774,
           230555419.73990002,
           52329719.4335,
           35301962.47541,
           8302402.8573900005,
           1099832903.28117,
           364820988.97185,
           34182360.32801,
           155605900.6795,
           58791768.0413,
           612827831.4393901,
           810771731.38541,
           99049876.00946999,
           145384115.26029998,
           15852442.832700001,
           20845222.74726,
           117318247.8666,
           30952724.370300002,
           15814239.667460002,
           22244847.3527,
           68208544.28277999,
           331516615.31722003,
           45963743.1721,
           117825425.98746002,
           57555005.96541,
           10948195.044200001,
           1909932321.767,
           27641610.745255,
           131207183.64759001,
           124094986.142,
           21865178.9454,
           45909036.94863899,
           95478029.94856,
           33802760.305,
           792458581.396486,
           42703984.0707,
           21121742.154349998,
           56248039.105818994,
           30698730.157870002,
           27151559.27465,
           34804136.11231,
           2568691968.01889,
           109501070.58311,
           40099341.796003,
           30656410.3341,
           161983997.5346,
           16181992.301900001,
           1480061718.6608598,
           56789732.753699996,
           43226247.13476001,
           48497266.36944,
           419457741.17423004,
           2359769960.479,
           14571889.47808,
           189073326.10876098,
           126782141.04611,
           38367590.57112999,
           25136817.518997,
           180109306.82756,
           39642594.543,
           12508261.10394,
           129237497.1482,
           144706135619.4563,
           112692471.26989001,
           49160694.8484,
           155305991.74389997,
           46946124.3672,
           83495855.35170001,
           26970516.67114,
           71695072.61957,
           54952647.372810006,
           19657963.691359997,
           113699621.77914,
           121454055.60961,
           23462009.5057,
           79576559.52190001,
           25952185.028049,
           167328434.41033003,
           261500235.6028,
           10865801.567864,
           33217321.456470005,
           45530850.1289,
           893243872.3574,
           25981547.702700004,
           20445449.5511,
           26405984.26234,
           96553276.63049999,
           24285476.09653,
           70440259.90209,
           9511244.140600001,
           42221479.258299,
           43906432.39275,
           26153728.446739,
           46752119.4641,
           21407295.993529998,
           8250626.0797,
           11287256.540307,
           4348111871.26727,
           91534492.82284991,
           16528686.191185001,
           35684762.53998839,
           1249295567.4573,
           33815561.2453,
           8433472.5781,
           18626810.5334,
           306083947.5035,
           32023903.801960003,
           17252436.6424,
           54599123.199,
           509576475.61875,
           2185450463.9384003,
           34351488.98768,
           245655088.02449998,
           76554601.27784,
           106081162.916548,
           596919939.5659901,
           764413090.7826699,
           128189642422.64758,
           9094625.8165,
           4517508709.64735,
           702379790.1685,
           25641769.22924,
           43381690.14475,
           1037374366.8544,
           8204290.86094,
           11826420.74573,
           82479053.0457,
           105219196.19909999,
           11656908.1881,
           100163410.73826,
           12120644.3661,
           7870687240.066193,
           34000098.37841,
           454022545.98866,
           30595967.8886,
           9964081.644000001,
           21920940.26237,
           94054645.66165,
           19722922.43457,
           248993040.40080997,
           388294011.77895,
           120449925.9383,
           127363802.17842999,
           93596712.32409999,
           27329416.117399998,
           72834714.77349,
           13449373.967139998,
           450750621.68848604,
           473902123.94693995,
           12326020.94576,
           19267817.56604,
           103863399.08140002,
           18542770.60314,
           70364927.818266,
           14683669.12247,
           126168346.28805201,
           498399201.423271,
           23748121.33983,
           25461099.939095,
           350616587.42257607,
           55438967.7796,
           4341025121.85749,
           259157434.487,
           103714505.0861,
           27937548.820240002,
           15233238.045799999,
           126893443.60849999,
           257050711.5109,
           806916312.8624,
           30290898.576518998,
           59494092.36548,
           62977393.95695001,
           171075159.71629998,
           611591147.916067,
           81305606.827536,
           94062801.87507,
           29095246.735929996,
           22042089.074102998,
           436395107.35040003,
           309486395.0328,
           878431169.6728,
           460950466.89273006,
           139415213.23215,
           70972854.33183,
           23660494.5355,
           98377428.2919,
           101922134.90876001,
           20279212.2564,
           12960852.32751,
           33083741.016400002,
           497787670.62869996,
           719521233.40248,
           511309667.2274,
           14903370.3952184,
           1967415238.56575,
           77778881.7635,
           11110642.789220002,
           378394212.77419996,
           328913129.93214,
           24151046.966300003,
           27990650.824999996,
           1198913576.21778,
           17617741.483289998,
           38125101.444,
           1229001089.81723,
           91010120.0032,
           72485043.25511,
           378556937.1982,
           15567763.603799999,
           16603590.41558,
           10509727.01602,
           74968833.241173,
           40879629.92904599,
           102901545.60674201,
           28947458.534149997,
           17880161.3858,
           72012920.16928,
           79986893.271704,
           104941010.47048001,
           63810505.640099995,
           746085251.0490999,
           11791653.030760001,
           26093403.41025,
           920059337.22658,
           31238272.61702,
           509062923.3975,
           13143017.773599999,
           23861720.949300002,
           283150252.20594996,
           19398411.9596,
           1119320507.467,
           129595032.56704,
           899006035.8221993,
           107498844.10298,
           19343952.508994002,
           53370198.4022,
           19633344.74051,
           24095797.249600004,
           91511023.583839,
           12482356.451200001,
           578854361.16682,
           375506781.97427,
           25020282.262399998,
           20000205.3121,
           46508228.56325,
           352813579.387746,
           899029179.84941,
           50581302.65039,
           10877575.05192,
           24886899.3125,
           1246405297.93501,
           44291729.941700004,
           348471962.39239997,
           12932677.07367,
           90139047.4908,
           471390849.03598994,
           369878449.19519997,
           357358154.754091,
           255974896.52977002,
           8973338.05558,
           20482451.68208,
           23001816.388400003,
           43177532.120859995,
           46437761.179469995,
           42384511.1463,
           930305481.00241,
           167318427.77881002,
           16012687.90536,
           27816948.612350002,
           568354985.9442,
           31753403.64516,
           55846457.331589006,
           13860516.738400001,
           27026161.7386,
           119654299.48130001,
           22356848.334829997,
           60287544.01605,
           28019700.8899,
           145542469.88836,
           65775193.624000005,
           40762233.222200006,
           78170575.25536999,
           47257071.768800005,
           513522343.14390993,
           15703468.760220002,
           36180152.3098,
           8968419.63428,
           260856671.70970005,
           921896116.97125,
           57904685.49666999,
           9321994.41031,
           22574173.065239996,
           21550207.45177,
           54637246.35237,
           68791737.5518,
           76509392.941065,
           130300059.40599999,
           716782789.5667201,
           17579151.9446,
           73378511.69354,
           197936091.86387998,
           8713632.5914,
           6542683.9004,
           23112793.0244,
           1617471882.5421,
           40049654.6163,
           34097230.453099996,
           130517904.10305,
           353638630.61806,
           172862990.34467003,
           15230144.07272,
           93706559.26978,
           6317353.96534,
           60914829.38509999,
           25973133982.4436,
           84557201.48227,
           24919214.245920002,
           124517399.52344,
           341090601.089499,
           36505763.4302274,
           1303241745.6462,
           88571401.35186,
           98506100.50558999,
           10125597.27189,
           16580670.0957,
           29747762.372199997,
           35347362.77551,
           151199588.98615003,
           138122133.6487,
           5404444529.664021,
           14147897.75397,
           50021978.8751,
           378181045.1992,
           145247642.1755,
           73144155.89798,
           27654023.017440002,
           112266548.31988001,
           68119903.5185,
           21196995.4729,
           636083318.72701,
           8468548.79108,
           37667403.798999995,
           1106466850.99649,
           112130251.17237002,
           45777089.366840005,
           840204015.7903,
           15212789.546427,
           25600447.020630002,
           20650797.93513,
           393706363.54972005,
           512053534.7147,
           1922647122.78683,
           18663345.27342,
           889576482.5070701,
           71662161.2147,
           248919594.2324174,
           705721769.2402501,
           182083241.39387,
           20060452.873800002,
           64795372.09300001,
           3048384813.302,
           47484822.997595996,
           75404829.92727399,
           150785259.4227,
           49457302.8709,
           79022676.8005,
           39432185.5571,
           16500158.57968,
           104662033.053513,
           10603908.9742,
           63371579.78381999,
           1585098225.92195,
           27196228.022019997,
           13808341.82682,
           47184466.12356,
           56323142.860700004,
           12788468.78788,
           432943565.7559,
           2443894133.89717,
           1260765839.8869002,
           25551024.137700003,
           91064006.93116198,
           81435195.38870001,
           96692996.48609999,
           415027576.45589,
           150702503.14202,
           10367824586.68902,
           81469979.7051,
           21491419.9703114,
           12100072.289,
           47618311.671,
           34491503.8442,
           36998585.45223,
           77881529.44669999,
           120607283.70812,
           34859589.2084,
           47007193.60167,
           1425249547.0300398,
           109155754.98435,
           182472679.35961,
           57437687.79828
          ],
          "sizemode": "area",
          "sizeref": 361765339.0486407,
          "symbol": "circle"
         },
         "mode": "markers",
         "name": "",
         "orientation": "v",
         "showlegend": false,
         "type": "scatter",
         "x": [
          264377481.4615,
          115002597.8508,
          449584776.19574296,
          32497315.904900003,
          36013437.2581904,
          257727367.36584,
          55520957.50141,
          9277969303.541147,
          36730998.6506,
          188275455.79058918,
          794685606.5565609,
          28060834.703682303,
          19528504.08215,
          73482430.72914001,
          53815658.7258,
          74512834.6369593,
          2686799599.438,
          17652028.041883003,
          89900528.02787401,
          151931225.33091,
          12024360.77693,
          2713826917.1879,
          996321124.17479,
          751731594.42835,
          47173846.588,
          54799050.2431,
          137749507.307319,
          325141544.5836399,
          21094453.18819,
          35711086.29289,
          420912578.57124996,
          21146777.565399997,
          80809904.37774,
          230555419.73990002,
          52329719.4335,
          35301962.47541,
          8302402.8573900005,
          1099832903.28117,
          364820988.97185,
          34182360.32801,
          155605900.6795,
          58791768.0413,
          612827831.4393901,
          810771731.38541,
          99049876.00946999,
          145384115.26029998,
          15852442.832700001,
          20845222.74726,
          117318247.8666,
          30952724.370300002,
          15814239.667460002,
          22244847.3527,
          68208544.28277999,
          331516615.31722003,
          45963743.1721,
          117825425.98746002,
          57555005.96541,
          10948195.044200001,
          1909932321.767,
          27641610.745255,
          131207183.64759001,
          124094986.142,
          21865178.9454,
          45909036.94863899,
          95478029.94856,
          33802760.305,
          792458581.396486,
          42703984.0707,
          21121742.154349998,
          56248039.105818994,
          30698730.157870002,
          27151559.27465,
          34804136.11231,
          2568691968.01889,
          109501070.58311,
          40099341.796003,
          30656410.3341,
          161983997.5346,
          16181992.301900001,
          1480061718.6608598,
          56789732.753699996,
          43226247.13476001,
          48497266.36944,
          419457741.17423004,
          2359769960.479,
          14571889.47808,
          189073326.10876098,
          126782141.04611,
          38367590.57112999,
          25136817.518997,
          180109306.82756,
          39642594.543,
          12508261.10394,
          129237497.1482,
          144706135619.4563,
          112692471.26989001,
          49160694.8484,
          155305991.74389997,
          46946124.3672,
          83495855.35170001,
          26970516.67114,
          71695072.61957,
          54952647.372810006,
          19657963.691359997,
          113699621.77914,
          121454055.60961,
          23462009.5057,
          79576559.52190001,
          25952185.028049,
          167328434.41033003,
          261500235.6028,
          10865801.567864,
          33217321.456470005,
          45530850.1289,
          893243872.3574,
          25981547.702700004,
          20445449.5511,
          26405984.26234,
          96553276.63049999,
          24285476.09653,
          70440259.90209,
          9511244.140600001,
          42221479.258299,
          43906432.39275,
          26153728.446739,
          46752119.4641,
          21407295.993529998,
          8250626.0797,
          11287256.540307,
          4348111871.26727,
          91534492.82284991,
          16528686.191185001,
          35684762.53998839,
          1249295567.4573,
          33815561.2453,
          8433472.5781,
          18626810.5334,
          306083947.5035,
          32023903.801960003,
          17252436.6424,
          54599123.199,
          509576475.61875,
          2185450463.9384003,
          34351488.98768,
          245655088.02449998,
          76554601.27784,
          106081162.916548,
          596919939.5659901,
          764413090.7826699,
          128189642422.64758,
          9094625.8165,
          4517508709.64735,
          702379790.1685,
          25641769.22924,
          43381690.14475,
          1037374366.8544,
          8204290.86094,
          11826420.74573,
          82479053.0457,
          105219196.19909999,
          11656908.1881,
          100163410.73826,
          12120644.3661,
          7870687240.066193,
          34000098.37841,
          454022545.98866,
          30595967.8886,
          9964081.644000001,
          21920940.26237,
          94054645.66165,
          19722922.43457,
          248993040.40080997,
          388294011.77895,
          120449925.9383,
          127363802.17842999,
          93596712.32409999,
          27329416.117399998,
          72834714.77349,
          13449373.967139998,
          450750621.68848604,
          473902123.94693995,
          12326020.94576,
          19267817.56604,
          103863399.08140002,
          18542770.60314,
          70364927.818266,
          14683669.12247,
          126168346.28805201,
          498399201.423271,
          23748121.33983,
          25461099.939095,
          350616587.42257607,
          55438967.7796,
          4341025121.85749,
          259157434.487,
          103714505.0861,
          27937548.820240002,
          15233238.045799999,
          126893443.60849999,
          257050711.5109,
          806916312.8624,
          30290898.576518998,
          59494092.36548,
          62977393.95695001,
          171075159.71629998,
          611591147.916067,
          81305606.827536,
          94062801.87507,
          29095246.735929996,
          22042089.074102998,
          436395107.35040003,
          309486395.0328,
          878431169.6728,
          460950466.89273006,
          139415213.23215,
          70972854.33183,
          23660494.5355,
          98377428.2919,
          101922134.90876001,
          20279212.2564,
          12960852.32751,
          33083741.016400002,
          497787670.62869996,
          719521233.40248,
          511309667.2274,
          14903370.3952184,
          1967415238.56575,
          77778881.7635,
          11110642.789220002,
          378394212.77419996,
          328913129.93214,
          24151046.966300003,
          27990650.824999996,
          1198913576.21778,
          17617741.483289998,
          38125101.444,
          1229001089.81723,
          91010120.0032,
          72485043.25511,
          378556937.1982,
          15567763.603799999,
          16603590.41558,
          10509727.01602,
          74968833.241173,
          40879629.92904599,
          102901545.60674201,
          28947458.534149997,
          17880161.3858,
          72012920.16928,
          79986893.271704,
          104941010.47048001,
          63810505.640099995,
          746085251.0490999,
          11791653.030760001,
          26093403.41025,
          920059337.22658,
          31238272.61702,
          509062923.3975,
          13143017.773599999,
          23861720.949300002,
          283150252.20594996,
          19398411.9596,
          1119320507.467,
          129595032.56704,
          899006035.8221993,
          107498844.10298,
          19343952.508994002,
          53370198.4022,
          19633344.74051,
          24095797.249600004,
          91511023.583839,
          12482356.451200001,
          578854361.16682,
          375506781.97427,
          25020282.262399998,
          20000205.3121,
          46508228.56325,
          352813579.387746,
          899029179.84941,
          50581302.65039,
          10877575.05192,
          24886899.3125,
          1246405297.93501,
          44291729.941700004,
          348471962.39239997,
          12932677.07367,
          90139047.4908,
          471390849.03598994,
          369878449.19519997,
          357358154.754091,
          255974896.52977002,
          8973338.05558,
          20482451.68208,
          23001816.388400003,
          43177532.120859995,
          46437761.179469995,
          42384511.1463,
          930305481.00241,
          167318427.77881002,
          16012687.90536,
          27816948.612350002,
          568354985.9442,
          31753403.64516,
          55846457.331589006,
          13860516.738400001,
          27026161.7386,
          119654299.48130001,
          22356848.334829997,
          60287544.01605,
          28019700.8899,
          145542469.88836,
          65775193.624000005,
          40762233.222200006,
          78170575.25536999,
          47257071.768800005,
          513522343.14390993,
          15703468.760220002,
          36180152.3098,
          8968419.63428,
          260856671.70970005,
          921896116.97125,
          57904685.49666999,
          9321994.41031,
          22574173.065239996,
          21550207.45177,
          54637246.35237,
          68791737.5518,
          76509392.941065,
          130300059.40599999,
          716782789.5667201,
          17579151.9446,
          73378511.69354,
          197936091.86387998,
          8713632.5914,
          6542683.9004,
          23112793.0244,
          1617471882.5421,
          40049654.6163,
          34097230.453099996,
          130517904.10305,
          353638630.61806,
          172862990.34467003,
          15230144.07272,
          93706559.26978,
          6317353.96534,
          60914829.38509999,
          25973133982.4436,
          84557201.48227,
          24919214.245920002,
          124517399.52344,
          341090601.089499,
          36505763.4302274,
          1303241745.6462,
          88571401.35186,
          98506100.50558999,
          10125597.27189,
          16580670.0957,
          29747762.372199997,
          35347362.77551,
          151199588.98615003,
          138122133.6487,
          5404444529.664021,
          14147897.75397,
          50021978.8751,
          378181045.1992,
          145247642.1755,
          73144155.89798,
          27654023.017440002,
          112266548.31988001,
          68119903.5185,
          21196995.4729,
          636083318.72701,
          8468548.79108,
          37667403.798999995,
          1106466850.99649,
          112130251.17237002,
          45777089.366840005,
          840204015.7903,
          15212789.546427,
          25600447.020630002,
          20650797.93513,
          393706363.54972005,
          512053534.7147,
          1922647122.78683,
          18663345.27342,
          889576482.5070701,
          71662161.2147,
          248919594.2324174,
          705721769.2402501,
          182083241.39387,
          20060452.873800002,
          64795372.09300001,
          3048384813.302,
          47484822.997595996,
          75404829.92727399,
          150785259.4227,
          49457302.8709,
          79022676.8005,
          39432185.5571,
          16500158.57968,
          104662033.053513,
          10603908.9742,
          63371579.78381999,
          1585098225.92195,
          27196228.022019997,
          13808341.82682,
          47184466.12356,
          56323142.860700004,
          12788468.78788,
          432943565.7559,
          2443894133.89717,
          1260765839.8869002,
          25551024.137700003,
          91064006.93116198,
          81435195.38870001,
          96692996.48609999,
          415027576.45589,
          150702503.14202,
          10367824586.68902,
          81469979.7051,
          21491419.9703114,
          12100072.289,
          47618311.671,
          34491503.8442,
          36998585.45223,
          77881529.44669999,
          120607283.70812,
          34859589.2084,
          47007193.60167,
          1425249547.0300398,
          109155754.98435,
          182472679.35961,
          57437687.79828
         ],
         "xaxis": "x",
         "y": [
          -24.84323102200799,
          -2.1941082375022916,
          -5.3251948448435,
          -2.0386467365433827,
          -12.210692572973345,
          -6.9464000959271015,
          -7.5924269082924605,
          -6.721001240819847,
          -4.6685516897217685,
          -7.127698036016856,
          -2.502372340690634,
          -23.205891497216214,
          -3.407931365286289,
          -1.56031534316197,
          -7.595898581654151,
          -11.191071938169081,
          -6.830492161525687,
          -9.91989690567362,
          -0.7196151406493767,
          -5.7145550697354235,
          -7.298836016888053,
          -7.976496846886236,
          25.852604839116303,
          5.622003184964826,
          -8.773395766623064,
          -4.164985544216048,
          -7.100213437164193,
          -12.596711902420882,
          -1.0097654328012418,
          -11.370175947404766,
          -16.479258277686203,
          -8.914195152865025,
          6.1899591122095075,
          1.691133877116096,
          -7.098906124336356,
          -9.484860582890176,
          -4.493843667528958,
          -14.626397325498697,
          -18.644314943950533,
          -6.091516866915866,
          -8.077264389945457,
          -10.172494834492552,
          -8.191529899729334,
          -5.389269815424653,
          -12.265871571986736,
          -6.310555422991557,
          -2.1935637681164426,
          -5.991041370310279,
          -7.969059499384224,
          15.771393124311068,
          -9.236950487341826,
          -2.403961918614675,
          -13.502305138982102,
          -1.656554324575378,
          -5.546827432380118,
          -2.225361782271605,
          -7.242983784481439,
          -1.5298427570435624,
          -5.381352185023699,
          5.746059281069949,
          -13.627025454940984,
          -4.298469412764094,
          6.273641343340417,
          -7.748439585172416,
          -15.73799614279736,
          -5.246131117727389,
          70.6714091607336,
          -3.7361762740576925,
          -9.821652943692307,
          9.011282460973193,
          2.322685060981633,
          -3.215711163453152,
          -15.075747467601396,
          -0.31550539408196565,
          -7.9720030371084505,
          -11.84167561631528,
          -11.057765193511326,
          -13.65755350057507,
          -0.5333345975362569,
          48.000744540976996,
          -7.11644250004592,
          -6.012687613104754,
          -7.307551860845228,
          6.889017572306143,
          -1.6610751006792381,
          -8.11199008211139,
          -7.999104544119991,
          -2.041589432504235,
          6.114321333352834,
          -5.561704851648685,
          63.15986687315637,
          -0.032273681093427875,
          -1.4683244890541118,
          2.9878700166110645,
          -1.3763593224003996,
          1.3035456494556303,
          -18.51424331355959,
          -5.278293613757525,
          -1.2180418556870976,
          -8.546122941522803,
          -7.716592768092125,
          -3.9982716250260335,
          -7.965508286734069,
          -7.0237484089131055,
          2.985296314968127,
          -2.7785000056641067,
          -3.544674899574762,
          -4.348511193973881,
          -8.990701347584213,
          -16.019893061531715,
          -8.829260714567834,
          -3.372043736941995,
          -2.2750539968327956,
          -16.787461381813458,
          -4.227172036181985,
          0.5857757335642253,
          -13.396307836401295,
          -0.9482924740071343,
          -10.552063094117191,
          -2.157093921820236,
          -0.7306099399888737,
          -6.759124160151215,
          -19.86279701600255,
          0.4770599759048677,
          -5.59942693545746,
          -8.923568074294117,
          -1.6230722796308115,
          -7.443950804551868,
          -10.152246629548639,
          -9.3833951155021,
          -4.669811319720788,
          7.633969541895702,
          -16.18591973250984,
          -11.914902279433898,
          -14.042382877549501,
          -5.0720486385308785,
          -3.767469611198699,
          -4.614660263578166,
          -11.106592532537924,
          -5.930442951397287,
          -4.674186810391127,
          -2.904715205725733,
          -8.917675043447701,
          -4.12135947014796,
          -8.361414004113342,
          -11.74111916778304,
          -5.407774121872814,
          -3.2734672577951898,
          -10.398588816690278,
          -5.3603113550517305,
          -6.241931881408023,
          -12.42890046999145,
          -1.1312665967353048,
          -4.399387286902626,
          -9.016772573819038,
          -8.911745768829348,
          -0.8840588010122961,
          -9.395331375372788,
          -0.5917177028088663,
          -6.453852113757094,
          -6.065502111117359,
          7.923611079874878,
          -6.424604961822405,
          110.34490574687237,
          -9.274119776374704,
          -7.009458884026312,
          -4.817243533273958,
          -7.088932568704921,
          -1.9451873636065224,
          -7.939968975404904,
          -10.045008347325167,
          -4.457864086190989,
          24.139223290260894,
          -24.079483872667858,
          -8.107867047153032,
          -7.3888491969706624,
          -7.663322602091586,
          -11.58120368485123,
          -7.929162368752589,
          16.436663866897337,
          -1.2207278976700788,
          -5.788176733816083,
          -3.743652586166718,
          24.045758338162432,
          -5.2739668128757256,
          1.3687593929238986,
          -6.029064102601463,
          -16.009337919122068,
          -20.239928200827393,
          -15.01052409819593,
          -4.974999260322537,
          -4.1825819523636625,
          -10.624508006756049,
          -9.353447784627196,
          -8.447016509709915,
          3.3955097765490896,
          -7.203617889121748,
          -9.30800707240531,
          -8.067030344863523,
          -16.77357944175649,
          -6.392350259578183,
          -6.228513038647158,
          -4.606875208932877,
          0.26845653706690165,
          1.7434344049808352,
          -6.714580101615322,
          -2.981177896714687,
          2.106705688284377,
          -6.4332144085966565,
          5.434950374121296,
          -1.738042728546728,
          -2.7599749180255895,
          29.50315223727057,
          2.0259954855891014,
          -3.805389480802347,
          -1.725386705116522,
          -5.772293173495868,
          -5.445343349869312,
          -9.952959534703307,
          -7.126649408327691,
          -4.600423266492727,
          -5.2775715470072555,
          -36.89647058886379,
          11.000399310296253,
          -14.689189043619582,
          -5.701025471677966,
          -5.612634592673883,
          5.544924733152344,
          -7.150472204619474,
          -5.762255866146312,
          36.99669426715062,
          -2.358148912405184,
          -8.443508630957155,
          -2.075876291855649,
          -7.7660808969002595,
          -9.790774450317414,
          1.9499225051434106,
          -1.1041421900810668,
          -9.180754925312279,
          -7.838353286696059,
          -8.009402261902565,
          -12.681545065908594,
          -5.388147281958039,
          -16.642394286041405,
          -14.624550032014499,
          -9.137614537662294,
          -13.45175123237317,
          -10.95044025699525,
          -8.256573159297805,
          -7.117047344132239,
          6.794712257620265,
          -5.539526322156767,
          -7.434841931482243,
          -4.783667151963945,
          -6.34338612469794,
          -0.20039439137739024,
          -6.024888897102068,
          17.045731552496335,
          -3.578263933940409,
          -3.0771658666753208,
          2.0408871631207237,
          -13.798318428067885,
          -6.877282527635938,
          -6.426853697973832,
          -5.502219238231644,
          -1.6228621881380363,
          -13.0689496264722,
          -21.25614419836728,
          -2.897602998925864,
          -5.705096535755523,
          -13.5792829257297,
          -10.17463260448863,
          -20.367947800152763,
          16.335956087358756,
          -3.657770613992799,
          2.785020778878472,
          -11.064210995345865,
          -15.1957215468977,
          -4.7609560030244005,
          -9.219576856661563,
          -2.1810472572888653,
          -5.855330875157414,
          -6.373838392851107,
          -9.840869681902312,
          -7.560866711176951,
          1.6238048961666927,
          -10.607150040160501,
          -1.897164760002291,
          -12.678488446972604,
          -2.3537598396876263,
          -6.207763045989248,
          -6.993396231095012,
          -6.053405495840887,
          -6.863210697599202,
          -4.382929134002815,
          -12.266193212352631,
          -5.019740386691327,
          -2.9983118738918524,
          -9.627816369000222,
          -4.093660113318226,
          -9.19097179337032,
          -4.102137643697571,
          0.5203827875027287,
          -9.106388892287386,
          -3.3152207316900792,
          -7.770898432731599,
          -21.6125978655563,
          -13.259239602981582,
          -14.773919265580258,
          -2.19329940904988,
          -12.091000714465961,
          -7.140974186734216,
          -4.633652939584589,
          -11.453605037971972,
          -5.518919519042939,
          -5.019791071121228,
          -5.298637106387897,
          -5.612907767083437,
          -7.401651013326221,
          -6.354224244878264,
          -15.671959735502861,
          -13.263707150365457,
          -0.8343892398042474,
          -3.063273532244711,
          -12.881553496135322,
          -2.0881004321795515,
          -12.23366491341792,
          -4.152480022341457,
          -9.816571184395183,
          -17.425185914834564,
          -7.633594490227075,
          -7.547515676170374,
          -3.789539179481462,
          -14.856926998906307,
          -6.095732056079347,
          -7.598590697792211,
          32.61805505846654,
          -1.734025262553824,
          2.316179835261229,
          5.005871692105195,
          -109.35945068666783,
          -11.12882152911016,
          -6.0624621816435145,
          5.595032460070007,
          -6.978738935574068,
          -9.579969600892746,
          -4.243553867472347,
          5.121759948124074,
          -1.3027928532928392,
          6.299955194298359,
          -10.196289072452139,
          -4.723604884168944,
          -19.253428386882018,
          -24.608229394164965,
          -16.482313971803002,
          -3.643115474685077,
          -7.741406387846454,
          -0.44706434956689556,
          -2.9857033410523783,
          -4.949815828517298,
          -1.5800613127845793,
          -5.818410936906446,
          -6.3048157669933165,
          -10.207615809834035,
          -6.12156383821015,
          -5.262683645591926,
          -17.925524546080926,
          -4.840562273035374,
          4.424470179775723,
          -4.347329482146087,
          -22.351180762476076,
          -6.603266848958905,
          -7.506757303342258,
          -14.109213857959256,
          -4.943961960959621,
          -4.971506907688706,
          -5.656441322848238,
          -7.966938972109197,
          -6.750453523654244,
          -6.26030733881805,
          -7.039441341223995,
          -1.9554361780333744,
          -8.69701767619386,
          -3.835855122898465,
          -12.701837553975347,
          -0.5051809989709692,
          0.763445741031207,
          -4.403395937393366,
          16.472189946493877,
          36.348977649886244,
          -9.224919469796824,
          -2.2337698538394157,
          -9.124695971526586,
          -0.009710210293750715,
          -7.195989409035762,
          -21.8938920032178,
          -8.426357283570391,
          -11.311830416572779,
          -10.64834804024499,
          -9.552854425545997,
          -3.4415841884972167,
          -1.4379741369893235,
          -11.029091000711547,
          -7.545381911175163,
          -5.104486775493813,
          -6.550420609964832,
          -3.4821060654596376,
          -6.456767183208852,
          -4.1692902298670225,
          -14.595391262307977,
          -0.48065461439064094,
          -3.665749084401499,
          -9.374889923737252,
          -11.139042047765681,
          -8.982165320224857,
          -1.7857617400006518,
          -6.24820948474503,
          -2.943060533091434,
          -3.627493998985,
          -5.485836055204682,
          -2.7810722566179393,
          -3.7804604009839293,
          -1.220727897670093,
          -12.851202779653676,
          -3.6427868808792496,
          -12.474020067932097,
          1.0556883332622249,
          -8.761607035875432,
          -2.2759289145749193,
          -83.23847562596998,
          -8.25497923558282,
          -6.490486943422383,
          -4.310820748055649
         ],
         "yaxis": "y"
        }
       ],
       "layout": {
        "coloraxis": {
         "colorbar": {
          "title": {
           "text": "Weekly Return %"
          }
         },
         "colorscale": [
          [
           0,
           "rgb(165,0,38)"
          ],
          [
           0.1,
           "rgb(215,48,39)"
          ],
          [
           0.2,
           "rgb(244,109,67)"
          ],
          [
           0.3,
           "rgb(253,174,97)"
          ],
          [
           0.4,
           "rgb(254,224,139)"
          ],
          [
           0.5,
           "rgb(255,255,191)"
          ],
          [
           0.6,
           "rgb(217,239,139)"
          ],
          [
           0.7,
           "rgb(166,217,106)"
          ],
          [
           0.8,
           "rgb(102,189,99)"
          ],
          [
           0.9,
           "rgb(26,152,80)"
          ],
          [
           1,
           "rgb(0,104,55)"
          ]
         ]
        },
        "height": 600,
        "hovermode": "closest",
        "legend": {
         "itemsizing": "constant",
         "tracegroupgap": 0
        },
        "template": {
         "data": {
          "bar": [
           {
            "error_x": {
             "color": "#f2f5fa"
            },
            "error_y": {
             "color": "#f2f5fa"
            },
            "marker": {
             "line": {
              "color": "rgb(17,17,17)",
              "width": 0.5
             },
             "pattern": {
              "fillmode": "overlay",
              "size": 10,
              "solidity": 0.2
             }
            },
            "type": "bar"
           }
          ],
          "barpolar": [
           {
            "marker": {
             "line": {
              "color": "rgb(17,17,17)",
              "width": 0.5
             },
             "pattern": {
              "fillmode": "overlay",
              "size": 10,
              "solidity": 0.2
             }
            },
            "type": "barpolar"
           }
          ],
          "carpet": [
           {
            "aaxis": {
             "endlinecolor": "#A2B1C6",
             "gridcolor": "#506784",
             "linecolor": "#506784",
             "minorgridcolor": "#506784",
             "startlinecolor": "#A2B1C6"
            },
            "baxis": {
             "endlinecolor": "#A2B1C6",
             "gridcolor": "#506784",
             "linecolor": "#506784",
             "minorgridcolor": "#506784",
             "startlinecolor": "#A2B1C6"
            },
            "type": "carpet"
           }
          ],
          "choropleth": [
           {
            "colorbar": {
             "outlinewidth": 0,
             "ticks": ""
            },
            "type": "choropleth"
           }
          ],
          "contour": [
           {
            "colorbar": {
             "outlinewidth": 0,
             "ticks": ""
            },
            "colorscale": [
             [
              0,
              "#0d0887"
             ],
             [
              0.1111111111111111,
              "#46039f"
             ],
             [
              0.2222222222222222,
              "#7201a8"
             ],
             [
              0.3333333333333333,
              "#9c179e"
             ],
             [
              0.4444444444444444,
              "#bd3786"
             ],
             [
              0.5555555555555556,
              "#d8576b"
             ],
             [
              0.6666666666666666,
              "#ed7953"
             ],
             [
              0.7777777777777778,
              "#fb9f3a"
             ],
             [
              0.8888888888888888,
              "#fdca26"
             ],
             [
              1,
              "#f0f921"
             ]
            ],
            "type": "contour"
           }
          ],
          "contourcarpet": [
           {
            "colorbar": {
             "outlinewidth": 0,
             "ticks": ""
            },
            "type": "contourcarpet"
           }
          ],
          "heatmap": [
           {
            "colorbar": {
             "outlinewidth": 0,
             "ticks": ""
            },
            "colorscale": [
             [
              0,
              "#0d0887"
             ],
             [
              0.1111111111111111,
              "#46039f"
             ],
             [
              0.2222222222222222,
              "#7201a8"
             ],
             [
              0.3333333333333333,
              "#9c179e"
             ],
             [
              0.4444444444444444,
              "#bd3786"
             ],
             [
              0.5555555555555556,
              "#d8576b"
             ],
             [
              0.6666666666666666,
              "#ed7953"
             ],
             [
              0.7777777777777778,
              "#fb9f3a"
             ],
             [
              0.8888888888888888,
              "#fdca26"
             ],
             [
              1,
              "#f0f921"
             ]
            ],
            "type": "heatmap"
           }
          ],
          "heatmapgl": [
           {
            "colorbar": {
             "outlinewidth": 0,
             "ticks": ""
            },
            "colorscale": [
             [
              0,
              "#0d0887"
             ],
             [
              0.1111111111111111,
              "#46039f"
             ],
             [
              0.2222222222222222,
              "#7201a8"
             ],
             [
              0.3333333333333333,
              "#9c179e"
             ],
             [
              0.4444444444444444,
              "#bd3786"
             ],
             [
              0.5555555555555556,
              "#d8576b"
             ],
             [
              0.6666666666666666,
              "#ed7953"
             ],
             [
              0.7777777777777778,
              "#fb9f3a"
             ],
             [
              0.8888888888888888,
              "#fdca26"
             ],
             [
              1,
              "#f0f921"
             ]
            ],
            "type": "heatmapgl"
           }
          ],
          "histogram": [
           {
            "marker": {
             "pattern": {
              "fillmode": "overlay",
              "size": 10,
              "solidity": 0.2
             }
            },
            "type": "histogram"
           }
          ],
          "histogram2d": [
           {
            "colorbar": {
             "outlinewidth": 0,
             "ticks": ""
            },
            "colorscale": [
             [
              0,
              "#0d0887"
             ],
             [
              0.1111111111111111,
              "#46039f"
             ],
             [
              0.2222222222222222,
              "#7201a8"
             ],
             [
              0.3333333333333333,
              "#9c179e"
             ],
             [
              0.4444444444444444,
              "#bd3786"
             ],
             [
              0.5555555555555556,
              "#d8576b"
             ],
             [
              0.6666666666666666,
              "#ed7953"
             ],
             [
              0.7777777777777778,
              "#fb9f3a"
             ],
             [
              0.8888888888888888,
              "#fdca26"
             ],
             [
              1,
              "#f0f921"
             ]
            ],
            "type": "histogram2d"
           }
          ],
          "histogram2dcontour": [
           {
            "colorbar": {
             "outlinewidth": 0,
             "ticks": ""
            },
            "colorscale": [
             [
              0,
              "#0d0887"
             ],
             [
              0.1111111111111111,
              "#46039f"
             ],
             [
              0.2222222222222222,
              "#7201a8"
             ],
             [
              0.3333333333333333,
              "#9c179e"
             ],
             [
              0.4444444444444444,
              "#bd3786"
             ],
             [
              0.5555555555555556,
              "#d8576b"
             ],
             [
              0.6666666666666666,
              "#ed7953"
             ],
             [
              0.7777777777777778,
              "#fb9f3a"
             ],
             [
              0.8888888888888888,
              "#fdca26"
             ],
             [
              1,
              "#f0f921"
             ]
            ],
            "type": "histogram2dcontour"
           }
          ],
          "mesh3d": [
           {
            "colorbar": {
             "outlinewidth": 0,
             "ticks": ""
            },
            "type": "mesh3d"
           }
          ],
          "parcoords": [
           {
            "line": {
             "colorbar": {
              "outlinewidth": 0,
              "ticks": ""
             }
            },
            "type": "parcoords"
           }
          ],
          "pie": [
           {
            "automargin": true,
            "type": "pie"
           }
          ],
          "scatter": [
           {
            "marker": {
             "line": {
              "color": "#283442"
             }
            },
            "type": "scatter"
           }
          ],
          "scatter3d": [
           {
            "line": {
             "colorbar": {
              "outlinewidth": 0,
              "ticks": ""
             }
            },
            "marker": {
             "colorbar": {
              "outlinewidth": 0,
              "ticks": ""
             }
            },
            "type": "scatter3d"
           }
          ],
          "scattercarpet": [
           {
            "marker": {
             "colorbar": {
              "outlinewidth": 0,
              "ticks": ""
             }
            },
            "type": "scattercarpet"
           }
          ],
          "scattergeo": [
           {
            "marker": {
             "colorbar": {
              "outlinewidth": 0,
              "ticks": ""
             }
            },
            "type": "scattergeo"
           }
          ],
          "scattergl": [
           {
            "marker": {
             "line": {
              "color": "#283442"
             }
            },
            "type": "scattergl"
           }
          ],
          "scattermapbox": [
           {
            "marker": {
             "colorbar": {
              "outlinewidth": 0,
              "ticks": ""
             }
            },
            "type": "scattermapbox"
           }
          ],
          "scatterpolar": [
           {
            "marker": {
             "colorbar": {
              "outlinewidth": 0,
              "ticks": ""
             }
            },
            "type": "scatterpolar"
           }
          ],
          "scatterpolargl": [
           {
            "marker": {
             "colorbar": {
              "outlinewidth": 0,
              "ticks": ""
             }
            },
            "type": "scatterpolargl"
           }
          ],
          "scatterternary": [
           {
            "marker": {
             "colorbar": {
              "outlinewidth": 0,
              "ticks": ""
             }
            },
            "type": "scatterternary"
           }
          ],
          "surface": [
           {
            "colorbar": {
             "outlinewidth": 0,
             "ticks": ""
            },
            "colorscale": [
             [
              0,
              "#0d0887"
             ],
             [
              0.1111111111111111,
              "#46039f"
             ],
             [
              0.2222222222222222,
              "#7201a8"
             ],
             [
              0.3333333333333333,
              "#9c179e"
             ],
             [
              0.4444444444444444,
              "#bd3786"
             ],
             [
              0.5555555555555556,
              "#d8576b"
             ],
             [
              0.6666666666666666,
              "#ed7953"
             ],
             [
              0.7777777777777778,
              "#fb9f3a"
             ],
             [
              0.8888888888888888,
              "#fdca26"
             ],
             [
              1,
              "#f0f921"
             ]
            ],
            "type": "surface"
           }
          ],
          "table": [
           {
            "cells": {
             "fill": {
              "color": "#506784"
             },
             "line": {
              "color": "rgb(17,17,17)"
             }
            },
            "header": {
             "fill": {
              "color": "#2a3f5f"
             },
             "line": {
              "color": "rgb(17,17,17)"
             }
            },
            "type": "table"
           }
          ]
         },
         "layout": {
          "annotationdefaults": {
           "arrowcolor": "#f2f5fa",
           "arrowhead": 0,
           "arrowwidth": 1
          },
          "autotypenumbers": "strict",
          "coloraxis": {
           "colorbar": {
            "outlinewidth": 0,
            "ticks": ""
           }
          },
          "colorscale": {
           "diverging": [
            [
             0,
             "#8e0152"
            ],
            [
             0.1,
             "#c51b7d"
            ],
            [
             0.2,
             "#de77ae"
            ],
            [
             0.3,
             "#f1b6da"
            ],
            [
             0.4,
             "#fde0ef"
            ],
            [
             0.5,
             "#f7f7f7"
            ],
            [
             0.6,
             "#e6f5d0"
            ],
            [
             0.7,
             "#b8e186"
            ],
            [
             0.8,
             "#7fbc41"
            ],
            [
             0.9,
             "#4d9221"
            ],
            [
             1,
             "#276419"
            ]
           ],
           "sequential": [
            [
             0,
             "#0d0887"
            ],
            [
             0.1111111111111111,
             "#46039f"
            ],
            [
             0.2222222222222222,
             "#7201a8"
            ],
            [
             0.3333333333333333,
             "#9c179e"
            ],
            [
             0.4444444444444444,
             "#bd3786"
            ],
            [
             0.5555555555555556,
             "#d8576b"
            ],
            [
             0.6666666666666666,
             "#ed7953"
            ],
            [
             0.7777777777777778,
             "#fb9f3a"
            ],
            [
             0.8888888888888888,
             "#fdca26"
            ],
            [
             1,
             "#f0f921"
            ]
           ],
           "sequentialminus": [
            [
             0,
             "#0d0887"
            ],
            [
             0.1111111111111111,
             "#46039f"
            ],
            [
             0.2222222222222222,
             "#7201a8"
            ],
            [
             0.3333333333333333,
             "#9c179e"
            ],
            [
             0.4444444444444444,
             "#bd3786"
            ],
            [
             0.5555555555555556,
             "#d8576b"
            ],
            [
             0.6666666666666666,
             "#ed7953"
            ],
            [
             0.7777777777777778,
             "#fb9f3a"
            ],
            [
             0.8888888888888888,
             "#fdca26"
            ],
            [
             1,
             "#f0f921"
            ]
           ]
          },
          "colorway": [
           "#636efa",
           "#EF553B",
           "#00cc96",
           "#ab63fa",
           "#FFA15A",
           "#19d3f3",
           "#FF6692",
           "#B6E880",
           "#FF97FF",
           "#FECB52"
          ],
          "font": {
           "color": "#f2f5fa"
          },
          "geo": {
           "bgcolor": "rgb(17,17,17)",
           "lakecolor": "rgb(17,17,17)",
           "landcolor": "rgb(17,17,17)",
           "showlakes": true,
           "showland": true,
           "subunitcolor": "#506784"
          },
          "hoverlabel": {
           "align": "left"
          },
          "hovermode": "closest",
          "mapbox": {
           "style": "dark"
          },
          "paper_bgcolor": "rgb(17,17,17)",
          "plot_bgcolor": "rgb(17,17,17)",
          "polar": {
           "angularaxis": {
            "gridcolor": "#506784",
            "linecolor": "#506784",
            "ticks": ""
           },
           "bgcolor": "rgb(17,17,17)",
           "radialaxis": {
            "gridcolor": "#506784",
            "linecolor": "#506784",
            "ticks": ""
           }
          },
          "scene": {
           "xaxis": {
            "backgroundcolor": "rgb(17,17,17)",
            "gridcolor": "#506784",
            "gridwidth": 2,
            "linecolor": "#506784",
            "showbackground": true,
            "ticks": "",
            "zerolinecolor": "#C8D4E3"
           },
           "yaxis": {
            "backgroundcolor": "rgb(17,17,17)",
            "gridcolor": "#506784",
            "gridwidth": 2,
            "linecolor": "#506784",
            "showbackground": true,
            "ticks": "",
            "zerolinecolor": "#C8D4E3"
           },
           "zaxis": {
            "backgroundcolor": "rgb(17,17,17)",
            "gridcolor": "#506784",
            "gridwidth": 2,
            "linecolor": "#506784",
            "showbackground": true,
            "ticks": "",
            "zerolinecolor": "#C8D4E3"
           }
          },
          "shapedefaults": {
           "line": {
            "color": "#f2f5fa"
           }
          },
          "sliderdefaults": {
           "bgcolor": "#C8D4E3",
           "bordercolor": "rgb(17,17,17)",
           "borderwidth": 1,
           "tickwidth": 0
          },
          "ternary": {
           "aaxis": {
            "gridcolor": "#506784",
            "linecolor": "#506784",
            "ticks": ""
           },
           "baxis": {
            "gridcolor": "#506784",
            "linecolor": "#506784",
            "ticks": ""
           },
           "bgcolor": "rgb(17,17,17)",
           "caxis": {
            "gridcolor": "#506784",
            "linecolor": "#506784",
            "ticks": ""
           }
          },
          "title": {
           "x": 0.05
          },
          "updatemenudefaults": {
           "bgcolor": "#506784",
           "borderwidth": 0
          },
          "xaxis": {
           "automargin": true,
           "gridcolor": "#283442",
           "linecolor": "#506784",
           "ticks": "",
           "title": {
            "standoff": 15
           },
           "zerolinecolor": "#283442",
           "zerolinewidth": 2
          },
          "yaxis": {
           "automargin": true,
           "gridcolor": "#283442",
           "linecolor": "#506784",
           "ticks": "",
           "title": {
            "standoff": 15
           },
           "zerolinecolor": "#283442",
           "zerolinewidth": 2
          }
         }
        },
        "title": {
         "text": "Weekly Performance vs Trading Volume"
        },
        "width": 1000,
        "xaxis": {
         "anchor": "y",
         "domain": [
          0,
          1
         ],
         "title": {
          "text": "Trading Volume (USDT)"
         },
         "type": "log"
        },
        "yaxis": {
         "anchor": "x",
         "domain": [
          0,
          1
         ],
         "title": {
          "text": "Weekly Return %"
         }
        }
       }
      }
     },
     "metadata": {},
     "output_type": "display_data"
    },
    {
     "data": {
      "application/vnd.plotly.v1+json": {
       "config": {
        "plotlyServerURL": "https://plot.ly"
       },
       "data": [
        {
         "mode": "lines+markers",
         "name": "1000000BOBUSDT",
         "type": "scatter",
         "x": [
          "2025-06-17",
          "2025-06-18",
          "2025-06-19",
          "2025-06-20",
          "2025-06-21",
          "2025-06-22",
          "2025-06-23"
         ],
         "y": [
          -1.273176342871344,
          4.540362780607947,
          -25.523340517465822,
          -47.788962704452544,
          -35.134819813758604,
          -42.56832295650745,
          -24.84323102200799
         ]
        },
        {
         "mode": "lines+markers",
         "name": "1000000MOGUSDT",
         "type": "scatter",
         "x": [
          "2025-06-17",
          "2025-06-18",
          "2025-06-19",
          "2025-06-20",
          "2025-06-21",
          "2025-06-22",
          "2025-06-23"
         ],
         "y": [
          -7.188458646143668,
          -4.883271826633404,
          -8.084089848350763,
          -16.026864726303867,
          -22.941316432780503,
          -25.119285512410922,
          -2.1941082375022916
         ]
        },
        {
         "mode": "lines+markers",
         "name": "1000BONKUSDT",
         "type": "scatter",
         "x": [
          "2025-06-17",
          "2025-06-18",
          "2025-06-19",
          "2025-06-20",
          "2025-06-21",
          "2025-06-22",
          "2025-06-23"
         ],
         "y": [
          -4.404713123541969,
          -2.798252873161285,
          -3.26063284785192,
          -8.30093367151229,
          -14.163278667136186,
          -18.63123818431783,
          -5.3251948448435
         ]
        },
        {
         "mode": "lines+markers",
         "name": "1000CATUSDT",
         "type": "scatter",
         "x": [
          "2025-06-17",
          "2025-06-18",
          "2025-06-19",
          "2025-06-20",
          "2025-06-21",
          "2025-06-22",
          "2025-06-23"
         ],
         "y": [
          -6.79179183433733,
          -4.4437650734530845,
          -5.242139986241858,
          -7.0746303890831586,
          -13.366445687257315,
          -16.52071277389904,
          -2.0386467365433827
         ]
        },
        {
         "mode": "lines+markers",
         "name": "1000CHEEMSUSDT",
         "type": "scatter",
         "x": [
          "2025-06-17",
          "2025-06-18",
          "2025-06-19",
          "2025-06-20",
          "2025-06-21",
          "2025-06-22",
          "2025-06-23"
         ],
         "y": [
          -2.2791132718607927,
          -2.0395443810777194,
          -3.25662507260278,
          -5.02141668344513,
          -7.447374301989182,
          -15.061844727495895,
          -12.210692572973345
         ]
        },
        {
         "mode": "lines+markers",
         "name": "1000FLOKIUSDT",
         "type": "scatter",
         "x": [
          "2025-06-17",
          "2025-06-18",
          "2025-06-19",
          "2025-06-20",
          "2025-06-21",
          "2025-06-22",
          "2025-06-23"
         ],
         "y": [
          -5.378711224139239,
          -3.1656941802931797,
          -3.9965754009773176,
          -8.328042338151661,
          -14.75566592636359,
          -19.292842585197086,
          -6.9464000959271015
         ]
        },
        {
         "mode": "lines+markers",
         "name": "1000LUNCUSDT",
         "type": "scatter",
         "x": [
          "2025-06-17",
          "2025-06-18",
          "2025-06-19",
          "2025-06-20",
          "2025-06-21",
          "2025-06-22",
          "2025-06-23"
         ],
         "y": [
          -3.3861167798073604,
          -3.3515087157830945,
          -4.080805228294389,
          -5.325889265463477,
          -8.900585098041379,
          -13.236092179446347,
          -7.5924269082924605
         ]
        },
        {
         "mode": "lines+markers",
         "name": "1000PEPEUSDT",
         "type": "scatter",
         "x": [
          "2025-06-17",
          "2025-06-18",
          "2025-06-19",
          "2025-06-20",
          "2025-06-21",
          "2025-06-22",
          "2025-06-23"
         ],
         "y": [
          -4.463681779488901,
          -2.409916415846994,
          -2.7850604427409555,
          -7.320818636402371,
          -13.299856108447724,
          -17.69654423571545,
          -6.721001240819847
         ]
        },
        {
         "mode": "lines+markers",
         "name": "1000RATSUSDT",
         "type": "scatter",
         "x": [
          "2025-06-17",
          "2025-06-18",
          "2025-06-19",
          "2025-06-20",
          "2025-06-21",
          "2025-06-22",
          "2025-06-23"
         ],
         "y": [
          -0.6100236782139354,
          -6.970679140304688,
          -7.6717803996092755,
          -12.574251724599492,
          -15.62525106427024,
          -15.879510036741666,
          -4.6685516897217685
         ]
        },
        {
         "mode": "lines+markers",
         "name": "1000SATSUSDT",
         "type": "scatter",
         "x": [
          "2025-06-17",
          "2025-06-18",
          "2025-06-19",
          "2025-06-20",
          "2025-06-21",
          "2025-06-22",
          "2025-06-23"
         ],
         "y": [
          -3.50035735733337,
          -5.817063285486812,
          -7.391898982300729,
          -10.891583186010338,
          -15.661070566812057,
          -18.873025509023325,
          -7.127698036016856
         ]
        },
        {
         "mode": "lines+markers",
         "name": "1000000BOBUSDT",
         "type": "scatter",
         "x": [
          "2025-06-17",
          "2025-06-18",
          "2025-06-19",
          "2025-06-20",
          "2025-06-21",
          "2025-06-22",
          "2025-06-23"
         ],
         "y": [
          -1.273176342871344,
          4.540362780607947,
          -25.523340517465822,
          -47.788962704452544,
          -35.134819813758604,
          -42.56832295650745,
          -24.84323102200799
         ]
        },
        {
         "mode": "lines+markers",
         "name": "1000000MOGUSDT",
         "type": "scatter",
         "x": [
          "2025-06-17",
          "2025-06-18",
          "2025-06-19",
          "2025-06-20",
          "2025-06-21",
          "2025-06-22",
          "2025-06-23"
         ],
         "y": [
          -7.188458646143668,
          -4.883271826633404,
          -8.084089848350763,
          -16.026864726303867,
          -22.941316432780503,
          -25.119285512410922,
          -2.1941082375022916
         ]
        },
        {
         "mode": "lines+markers",
         "name": "1000BONKUSDT",
         "type": "scatter",
         "x": [
          "2025-06-17",
          "2025-06-18",
          "2025-06-19",
          "2025-06-20",
          "2025-06-21",
          "2025-06-22",
          "2025-06-23"
         ],
         "y": [
          -4.404713123541969,
          -2.798252873161285,
          -3.26063284785192,
          -8.30093367151229,
          -14.163278667136186,
          -18.63123818431783,
          -5.3251948448435
         ]
        },
        {
         "mode": "lines+markers",
         "name": "1000CATUSDT",
         "type": "scatter",
         "x": [
          "2025-06-17",
          "2025-06-18",
          "2025-06-19",
          "2025-06-20",
          "2025-06-21",
          "2025-06-22",
          "2025-06-23"
         ],
         "y": [
          -6.79179183433733,
          -4.4437650734530845,
          -5.242139986241858,
          -7.0746303890831586,
          -13.366445687257315,
          -16.52071277389904,
          -2.0386467365433827
         ]
        },
        {
         "mode": "lines+markers",
         "name": "1000CHEEMSUSDT",
         "type": "scatter",
         "x": [
          "2025-06-17",
          "2025-06-18",
          "2025-06-19",
          "2025-06-20",
          "2025-06-21",
          "2025-06-22",
          "2025-06-23"
         ],
         "y": [
          -2.2791132718607927,
          -2.0395443810777194,
          -3.25662507260278,
          -5.02141668344513,
          -7.447374301989182,
          -15.061844727495895,
          -12.210692572973345
         ]
        },
        {
         "mode": "lines+markers",
         "name": "1000FLOKIUSDT",
         "type": "scatter",
         "x": [
          "2025-06-17",
          "2025-06-18",
          "2025-06-19",
          "2025-06-20",
          "2025-06-21",
          "2025-06-22",
          "2025-06-23"
         ],
         "y": [
          -5.378711224139239,
          -3.1656941802931797,
          -3.9965754009773176,
          -8.328042338151661,
          -14.75566592636359,
          -19.292842585197086,
          -6.9464000959271015
         ]
        },
        {
         "mode": "lines+markers",
         "name": "1000LUNCUSDT",
         "type": "scatter",
         "x": [
          "2025-06-17",
          "2025-06-18",
          "2025-06-19",
          "2025-06-20",
          "2025-06-21",
          "2025-06-22",
          "2025-06-23"
         ],
         "y": [
          -3.3861167798073604,
          -3.3515087157830945,
          -4.080805228294389,
          -5.325889265463477,
          -8.900585098041379,
          -13.236092179446347,
          -7.5924269082924605
         ]
        },
        {
         "mode": "lines+markers",
         "name": "1000PEPEUSDT",
         "type": "scatter",
         "x": [
          "2025-06-17",
          "2025-06-18",
          "2025-06-19",
          "2025-06-20",
          "2025-06-21",
          "2025-06-22",
          "2025-06-23"
         ],
         "y": [
          -4.463681779488901,
          -2.409916415846994,
          -2.7850604427409555,
          -7.320818636402371,
          -13.299856108447724,
          -17.69654423571545,
          -6.721001240819847
         ]
        },
        {
         "mode": "lines+markers",
         "name": "1000RATSUSDT",
         "type": "scatter",
         "x": [
          "2025-06-17",
          "2025-06-18",
          "2025-06-19",
          "2025-06-20",
          "2025-06-21",
          "2025-06-22",
          "2025-06-23"
         ],
         "y": [
          -0.6100236782139354,
          -6.970679140304688,
          -7.6717803996092755,
          -12.574251724599492,
          -15.62525106427024,
          -15.879510036741666,
          -4.6685516897217685
         ]
        },
        {
         "mode": "lines+markers",
         "name": "1000SATSUSDT",
         "type": "scatter",
         "x": [
          "2025-06-17",
          "2025-06-18",
          "2025-06-19",
          "2025-06-20",
          "2025-06-21",
          "2025-06-22",
          "2025-06-23"
         ],
         "y": [
          -3.50035735733337,
          -5.817063285486812,
          -7.391898982300729,
          -10.891583186010338,
          -15.661070566812057,
          -18.873025509023325,
          -7.127698036016856
         ]
        }
       ],
       "layout": {
        "height": 600,
        "hovermode": "x unified",
        "template": {
         "data": {
          "bar": [
           {
            "error_x": {
             "color": "#f2f5fa"
            },
            "error_y": {
             "color": "#f2f5fa"
            },
            "marker": {
             "line": {
              "color": "rgb(17,17,17)",
              "width": 0.5
             },
             "pattern": {
              "fillmode": "overlay",
              "size": 10,
              "solidity": 0.2
             }
            },
            "type": "bar"
           }
          ],
          "barpolar": [
           {
            "marker": {
             "line": {
              "color": "rgb(17,17,17)",
              "width": 0.5
             },
             "pattern": {
              "fillmode": "overlay",
              "size": 10,
              "solidity": 0.2
             }
            },
            "type": "barpolar"
           }
          ],
          "carpet": [
           {
            "aaxis": {
             "endlinecolor": "#A2B1C6",
             "gridcolor": "#506784",
             "linecolor": "#506784",
             "minorgridcolor": "#506784",
             "startlinecolor": "#A2B1C6"
            },
            "baxis": {
             "endlinecolor": "#A2B1C6",
             "gridcolor": "#506784",
             "linecolor": "#506784",
             "minorgridcolor": "#506784",
             "startlinecolor": "#A2B1C6"
            },
            "type": "carpet"
           }
          ],
          "choropleth": [
           {
            "colorbar": {
             "outlinewidth": 0,
             "ticks": ""
            },
            "type": "choropleth"
           }
          ],
          "contour": [
           {
            "colorbar": {
             "outlinewidth": 0,
             "ticks": ""
            },
            "colorscale": [
             [
              0,
              "#0d0887"
             ],
             [
              0.1111111111111111,
              "#46039f"
             ],
             [
              0.2222222222222222,
              "#7201a8"
             ],
             [
              0.3333333333333333,
              "#9c179e"
             ],
             [
              0.4444444444444444,
              "#bd3786"
             ],
             [
              0.5555555555555556,
              "#d8576b"
             ],
             [
              0.6666666666666666,
              "#ed7953"
             ],
             [
              0.7777777777777778,
              "#fb9f3a"
             ],
             [
              0.8888888888888888,
              "#fdca26"
             ],
             [
              1,
              "#f0f921"
             ]
            ],
            "type": "contour"
           }
          ],
          "contourcarpet": [
           {
            "colorbar": {
             "outlinewidth": 0,
             "ticks": ""
            },
            "type": "contourcarpet"
           }
          ],
          "heatmap": [
           {
            "colorbar": {
             "outlinewidth": 0,
             "ticks": ""
            },
            "colorscale": [
             [
              0,
              "#0d0887"
             ],
             [
              0.1111111111111111,
              "#46039f"
             ],
             [
              0.2222222222222222,
              "#7201a8"
             ],
             [
              0.3333333333333333,
              "#9c179e"
             ],
             [
              0.4444444444444444,
              "#bd3786"
             ],
             [
              0.5555555555555556,
              "#d8576b"
             ],
             [
              0.6666666666666666,
              "#ed7953"
             ],
             [
              0.7777777777777778,
              "#fb9f3a"
             ],
             [
              0.8888888888888888,
              "#fdca26"
             ],
             [
              1,
              "#f0f921"
             ]
            ],
            "type": "heatmap"
           }
          ],
          "heatmapgl": [
           {
            "colorbar": {
             "outlinewidth": 0,
             "ticks": ""
            },
            "colorscale": [
             [
              0,
              "#0d0887"
             ],
             [
              0.1111111111111111,
              "#46039f"
             ],
             [
              0.2222222222222222,
              "#7201a8"
             ],
             [
              0.3333333333333333,
              "#9c179e"
             ],
             [
              0.4444444444444444,
              "#bd3786"
             ],
             [
              0.5555555555555556,
              "#d8576b"
             ],
             [
              0.6666666666666666,
              "#ed7953"
             ],
             [
              0.7777777777777778,
              "#fb9f3a"
             ],
             [
              0.8888888888888888,
              "#fdca26"
             ],
             [
              1,
              "#f0f921"
             ]
            ],
            "type": "heatmapgl"
           }
          ],
          "histogram": [
           {
            "marker": {
             "pattern": {
              "fillmode": "overlay",
              "size": 10,
              "solidity": 0.2
             }
            },
            "type": "histogram"
           }
          ],
          "histogram2d": [
           {
            "colorbar": {
             "outlinewidth": 0,
             "ticks": ""
            },
            "colorscale": [
             [
              0,
              "#0d0887"
             ],
             [
              0.1111111111111111,
              "#46039f"
             ],
             [
              0.2222222222222222,
              "#7201a8"
             ],
             [
              0.3333333333333333,
              "#9c179e"
             ],
             [
              0.4444444444444444,
              "#bd3786"
             ],
             [
              0.5555555555555556,
              "#d8576b"
             ],
             [
              0.6666666666666666,
              "#ed7953"
             ],
             [
              0.7777777777777778,
              "#fb9f3a"
             ],
             [
              0.8888888888888888,
              "#fdca26"
             ],
             [
              1,
              "#f0f921"
             ]
            ],
            "type": "histogram2d"
           }
          ],
          "histogram2dcontour": [
           {
            "colorbar": {
             "outlinewidth": 0,
             "ticks": ""
            },
            "colorscale": [
             [
              0,
              "#0d0887"
             ],
             [
              0.1111111111111111,
              "#46039f"
             ],
             [
              0.2222222222222222,
              "#7201a8"
             ],
             [
              0.3333333333333333,
              "#9c179e"
             ],
             [
              0.4444444444444444,
              "#bd3786"
             ],
             [
              0.5555555555555556,
              "#d8576b"
             ],
             [
              0.6666666666666666,
              "#ed7953"
             ],
             [
              0.7777777777777778,
              "#fb9f3a"
             ],
             [
              0.8888888888888888,
              "#fdca26"
             ],
             [
              1,
              "#f0f921"
             ]
            ],
            "type": "histogram2dcontour"
           }
          ],
          "mesh3d": [
           {
            "colorbar": {
             "outlinewidth": 0,
             "ticks": ""
            },
            "type": "mesh3d"
           }
          ],
          "parcoords": [
           {
            "line": {
             "colorbar": {
              "outlinewidth": 0,
              "ticks": ""
             }
            },
            "type": "parcoords"
           }
          ],
          "pie": [
           {
            "automargin": true,
            "type": "pie"
           }
          ],
          "scatter": [
           {
            "marker": {
             "line": {
              "color": "#283442"
             }
            },
            "type": "scatter"
           }
          ],
          "scatter3d": [
           {
            "line": {
             "colorbar": {
              "outlinewidth": 0,
              "ticks": ""
             }
            },
            "marker": {
             "colorbar": {
              "outlinewidth": 0,
              "ticks": ""
             }
            },
            "type": "scatter3d"
           }
          ],
          "scattercarpet": [
           {
            "marker": {
             "colorbar": {
              "outlinewidth": 0,
              "ticks": ""
             }
            },
            "type": "scattercarpet"
           }
          ],
          "scattergeo": [
           {
            "marker": {
             "colorbar": {
              "outlinewidth": 0,
              "ticks": ""
             }
            },
            "type": "scattergeo"
           }
          ],
          "scattergl": [
           {
            "marker": {
             "line": {
              "color": "#283442"
             }
            },
            "type": "scattergl"
           }
          ],
          "scattermapbox": [
           {
            "marker": {
             "colorbar": {
              "outlinewidth": 0,
              "ticks": ""
             }
            },
            "type": "scattermapbox"
           }
          ],
          "scatterpolar": [
           {
            "marker": {
             "colorbar": {
              "outlinewidth": 0,
              "ticks": ""
             }
            },
            "type": "scatterpolar"
           }
          ],
          "scatterpolargl": [
           {
            "marker": {
             "colorbar": {
              "outlinewidth": 0,
              "ticks": ""
             }
            },
            "type": "scatterpolargl"
           }
          ],
          "scatterternary": [
           {
            "marker": {
             "colorbar": {
              "outlinewidth": 0,
              "ticks": ""
             }
            },
            "type": "scatterternary"
           }
          ],
          "surface": [
           {
            "colorbar": {
             "outlinewidth": 0,
             "ticks": ""
            },
            "colorscale": [
             [
              0,
              "#0d0887"
             ],
             [
              0.1111111111111111,
              "#46039f"
             ],
             [
              0.2222222222222222,
              "#7201a8"
             ],
             [
              0.3333333333333333,
              "#9c179e"
             ],
             [
              0.4444444444444444,
              "#bd3786"
             ],
             [
              0.5555555555555556,
              "#d8576b"
             ],
             [
              0.6666666666666666,
              "#ed7953"
             ],
             [
              0.7777777777777778,
              "#fb9f3a"
             ],
             [
              0.8888888888888888,
              "#fdca26"
             ],
             [
              1,
              "#f0f921"
             ]
            ],
            "type": "surface"
           }
          ],
          "table": [
           {
            "cells": {
             "fill": {
              "color": "#506784"
             },
             "line": {
              "color": "rgb(17,17,17)"
             }
            },
            "header": {
             "fill": {
              "color": "#2a3f5f"
             },
             "line": {
              "color": "rgb(17,17,17)"
             }
            },
            "type": "table"
           }
          ]
         },
         "layout": {
          "annotationdefaults": {
           "arrowcolor": "#f2f5fa",
           "arrowhead": 0,
           "arrowwidth": 1
          },
          "autotypenumbers": "strict",
          "coloraxis": {
           "colorbar": {
            "outlinewidth": 0,
            "ticks": ""
           }
          },
          "colorscale": {
           "diverging": [
            [
             0,
             "#8e0152"
            ],
            [
             0.1,
             "#c51b7d"
            ],
            [
             0.2,
             "#de77ae"
            ],
            [
             0.3,
             "#f1b6da"
            ],
            [
             0.4,
             "#fde0ef"
            ],
            [
             0.5,
             "#f7f7f7"
            ],
            [
             0.6,
             "#e6f5d0"
            ],
            [
             0.7,
             "#b8e186"
            ],
            [
             0.8,
             "#7fbc41"
            ],
            [
             0.9,
             "#4d9221"
            ],
            [
             1,
             "#276419"
            ]
           ],
           "sequential": [
            [
             0,
             "#0d0887"
            ],
            [
             0.1111111111111111,
             "#46039f"
            ],
            [
             0.2222222222222222,
             "#7201a8"
            ],
            [
             0.3333333333333333,
             "#9c179e"
            ],
            [
             0.4444444444444444,
             "#bd3786"
            ],
            [
             0.5555555555555556,
             "#d8576b"
            ],
            [
             0.6666666666666666,
             "#ed7953"
            ],
            [
             0.7777777777777778,
             "#fb9f3a"
            ],
            [
             0.8888888888888888,
             "#fdca26"
            ],
            [
             1,
             "#f0f921"
            ]
           ],
           "sequentialminus": [
            [
             0,
             "#0d0887"
            ],
            [
             0.1111111111111111,
             "#46039f"
            ],
            [
             0.2222222222222222,
             "#7201a8"
            ],
            [
             0.3333333333333333,
             "#9c179e"
            ],
            [
             0.4444444444444444,
             "#bd3786"
            ],
            [
             0.5555555555555556,
             "#d8576b"
            ],
            [
             0.6666666666666666,
             "#ed7953"
            ],
            [
             0.7777777777777778,
             "#fb9f3a"
            ],
            [
             0.8888888888888888,
             "#fdca26"
            ],
            [
             1,
             "#f0f921"
            ]
           ]
          },
          "colorway": [
           "#636efa",
           "#EF553B",
           "#00cc96",
           "#ab63fa",
           "#FFA15A",
           "#19d3f3",
           "#FF6692",
           "#B6E880",
           "#FF97FF",
           "#FECB52"
          ],
          "font": {
           "color": "#f2f5fa"
          },
          "geo": {
           "bgcolor": "rgb(17,17,17)",
           "lakecolor": "rgb(17,17,17)",
           "landcolor": "rgb(17,17,17)",
           "showlakes": true,
           "showland": true,
           "subunitcolor": "#506784"
          },
          "hoverlabel": {
           "align": "left"
          },
          "hovermode": "closest",
          "mapbox": {
           "style": "dark"
          },
          "paper_bgcolor": "rgb(17,17,17)",
          "plot_bgcolor": "rgb(17,17,17)",
          "polar": {
           "angularaxis": {
            "gridcolor": "#506784",
            "linecolor": "#506784",
            "ticks": ""
           },
           "bgcolor": "rgb(17,17,17)",
           "radialaxis": {
            "gridcolor": "#506784",
            "linecolor": "#506784",
            "ticks": ""
           }
          },
          "scene": {
           "xaxis": {
            "backgroundcolor": "rgb(17,17,17)",
            "gridcolor": "#506784",
            "gridwidth": 2,
            "linecolor": "#506784",
            "showbackground": true,
            "ticks": "",
            "zerolinecolor": "#C8D4E3"
           },
           "yaxis": {
            "backgroundcolor": "rgb(17,17,17)",
            "gridcolor": "#506784",
            "gridwidth": 2,
            "linecolor": "#506784",
            "showbackground": true,
            "ticks": "",
            "zerolinecolor": "#C8D4E3"
           },
           "zaxis": {
            "backgroundcolor": "rgb(17,17,17)",
            "gridcolor": "#506784",
            "gridwidth": 2,
            "linecolor": "#506784",
            "showbackground": true,
            "ticks": "",
            "zerolinecolor": "#C8D4E3"
           }
          },
          "shapedefaults": {
           "line": {
            "color": "#f2f5fa"
           }
          },
          "sliderdefaults": {
           "bgcolor": "#C8D4E3",
           "bordercolor": "rgb(17,17,17)",
           "borderwidth": 1,
           "tickwidth": 0
          },
          "ternary": {
           "aaxis": {
            "gridcolor": "#506784",
            "linecolor": "#506784",
            "ticks": ""
           },
           "baxis": {
            "gridcolor": "#506784",
            "linecolor": "#506784",
            "ticks": ""
           },
           "bgcolor": "rgb(17,17,17)",
           "caxis": {
            "gridcolor": "#506784",
            "linecolor": "#506784",
            "ticks": ""
           }
          },
          "title": {
           "x": 0.05
          },
          "updatemenudefaults": {
           "bgcolor": "#506784",
           "borderwidth": 0
          },
          "xaxis": {
           "automargin": true,
           "gridcolor": "#283442",
           "linecolor": "#506784",
           "ticks": "",
           "title": {
            "standoff": 15
           },
           "zerolinecolor": "#283442",
           "zerolinewidth": 2
          },
          "yaxis": {
           "automargin": true,
           "gridcolor": "#283442",
           "linecolor": "#506784",
           "ticks": "",
           "title": {
            "standoff": 15
           },
           "zerolinecolor": "#283442",
           "zerolinewidth": 2
          }
         }
        },
        "title": {
         "text": "Cumulative Returns of Top Performers"
        },
        "width": 1000,
        "xaxis": {
         "title": {
          "text": "Date"
         }
        },
        "yaxis": {
         "title": {
          "text": "Cumulative Return %"
         }
        }
       }
      }
     },
     "metadata": {},
     "output_type": "display_data"
    }
   ],
   "source": [
    "\n",
    "\n",
    "# 2. Top Movers Dashboard\n",
    "def create_movers_figure(date):\n",
    "    gainers = sorted(daily_metrics[date]['gainers'], key=lambda x: x[1], reverse=True)[:10]\n",
    "    losers = sorted(daily_metrics[date]['losers'], key=lambda x: x[1])[:10]\n",
    "    \n",
    "    fig = make_subplots(rows=1, cols=2, subplot_titles=(f\"Top Gainers - {date}\", f\"Top Losers - {date}\"))\n",
    "    \n",
    "    fig.add_trace(go.Bar(\n",
    "        x=[x[0] for x in gainers],\n",
    "        y=[x[1] for x in gainers],\n",
    "        marker_color='green',\n",
    "        name='Gainers'\n",
    "    ), row=1, col=1)\n",
    "    \n",
    "    fig.add_trace(go.Bar(\n",
    "        x=[x[0] for x in losers],\n",
    "        y=[x[1] for x in losers],\n",
    "        marker_color='red',\n",
    "        name='Losers'\n",
    "    ), row=1, col=2)\n",
    "    \n",
    "    fig.update_layout(\n",
    "        showlegend=False,\n",
    "        height=500,\n",
    "        template=\"plotly_dark\",\n",
    "        yaxis=dict(title=\"Return %\"),\n",
    "        yaxis2=dict(title=\"Return %\")\n",
    "    )\n",
    "    \n",
    "    return fig\n",
    "\n",
    "# Display movers for each day\n",
    "for date in date_list[-3:]:  # Show last 3 days for brevity\n",
    "    create_movers_figure(date).show()\n",
    "\n",
    "\n",
    "# 4. Weekly Performance Scatter Plot\n",
    "weekly_df = pd.DataFrame({\n",
    "    'Symbol': [x[0] for x in weekly_gainers],\n",
    "    'Return': [x[1] for x in weekly_gainers],\n",
    "    'Volume': [sum(volume_data.get(x[0], [0])) for x in weekly_gainers]\n",
    "})\n",
    "\n",
    "fig_scatter = px.scatter(\n",
    "    weekly_df,\n",
    "    x='Volume',\n",
    "    y='Return',\n",
    "    color='Return',\n",
    "    size='Volume',\n",
    "    hover_name='Symbol',\n",
    "    log_x=True,\n",
    "    title='Weekly Performance vs Trading Volume',\n",
    "    labels={'Return': 'Weekly Return %', 'Volume': 'Trading Volume (USDT)'},\n",
    "    color_continuous_scale='RdYlGn'\n",
    ")\n",
    "\n",
    "fig_scatter.update_layout(\n",
    "    height=600,\n",
    "    width=1000,\n",
    "    template=\"plotly_dark\",\n",
    "    hovermode='closest'\n",
    ")\n",
    "fig_scatter.show()\n",
    "\n",
    "# 5. Cumulative Returns Line Chart\n",
    "top_symbols = [x[0] for x in weekly_gainers[:10]] + [x[0] for x in weekly_losers[:10]]\n",
    "\n",
    "fig_lines = go.Figure()\n",
    "for symbol in top_symbols:\n",
    "    fig_lines.add_trace(go.Scatter(\n",
    "        x=date_list,\n",
    "        y=np.cumsum(returns_data.get(symbol, [0]*7)),\n",
    "        name=symbol,\n",
    "        mode='lines+markers'\n",
    "    ))\n",
    "\n",
    "fig_lines.update_layout(\n",
    "    title='Cumulative Returns of Top Performers',\n",
    "    yaxis=dict(title='Cumulative Return %'),\n",
    "    xaxis=dict(title='Date'),\n",
    "    height=600,\n",
    "    width=1000,\n",
    "    template=\"plotly_dark\",\n",
    "    hovermode='x unified'\n",
    ")\n",
    "fig_lines.show()"
   ]
  },
  {
   "cell_type": "code",
   "execution_count": 12,
   "id": "e0704144",
   "metadata": {},
   "outputs": [
    {
     "data": {
      "application/vnd.plotly.v1+json": {
       "config": {
        "plotlyServerURL": "https://plot.ly"
       },
       "data": [
        {
         "branchvalues": "total",
         "customdata": [
          [
           -24.84323102200799,
           264377481.4615,
           "Negative"
          ],
          [
           -6.993396231095012,
           8973338.05558,
           "Negative"
          ],
          [
           -6.207763045989248,
           255974896.52977002,
           "Negative"
          ],
          [
           -2.3537598396876263,
           357358154.754091,
           "Negative"
          ],
          [
           -12.678488446972604,
           369878449.19519997,
           "Negative"
          ],
          [
           -1.897164760002291,
           471390849.03598994,
           "Negative"
          ],
          [
           -10.607150040160501,
           90139047.4908,
           "Negative"
          ],
          [
           -7.560866711176951,
           348471962.39239997,
           "Negative"
          ],
          [
           -9.840869681902312,
           44291729.941700004,
           "Negative"
          ],
          [
           -6.373838392851107,
           1246405297.93501,
           "Negative"
          ],
          [
           -5.855330875157414,
           24886899.3125,
           "Negative"
          ],
          [
           -2.1810472572888653,
           10877575.05192,
           "Negative"
          ],
          [
           -9.219576856661563,
           50581302.65039,
           "Negative"
          ],
          [
           -4.7609560030244005,
           899029179.84941,
           "Negative"
          ],
          [
           -15.1957215468977,
           352813579.387746,
           "Negative"
          ],
          [
           -11.064210995345865,
           46508228.56325,
           "Negative"
          ],
          [
           -3.657770613992799,
           25020282.262399998,
           "Negative"
          ],
          [
           -20.367947800152763,
           578854361.16682,
           "Negative"
          ],
          [
           -10.17463260448863,
           12482356.451200001,
           "Negative"
          ],
          [
           -13.5792829257297,
           91511023.583839,
           "Negative"
          ],
          [
           -5.705096535755523,
           24095797.249600004,
           "Negative"
          ],
          [
           -2.897602998925864,
           19633344.74051,
           "Negative"
          ],
          [
           -6.053405495840887,
           20482451.68208,
           "Negative"
          ],
          [
           -21.25614419836728,
           53370198.4022,
           "Negative"
          ],
          [
           -6.863210697599202,
           23001816.388400003,
           "Negative"
          ],
          [
           -12.266193212352631,
           46437761.179469995,
           "Negative"
          ],
          [
           -5.612907767083437,
           36180152.3098,
           "Negative"
          ],
          [
           -5.298637106387897,
           15703468.760220002,
           "Negative"
          ],
          [
           -5.019791071121228,
           513522343.14390993,
           "Negative"
          ],
          [
           -5.518919519042939,
           47257071.768800005,
           "Negative"
          ],
          [
           -11.453605037971972,
           78170575.25536999,
           "Negative"
          ],
          [
           -4.633652939584589,
           40762233.222200006,
           "Negative"
          ],
          [
           -7.140974186734216,
           65775193.624000005,
           "Negative"
          ],
          [
           -12.091000714465961,
           145542469.88836,
           "Negative"
          ],
          [
           -2.19329940904988,
           28019700.8899,
           "Negative"
          ],
          [
           -14.773919265580258,
           60287544.01605,
           "Negative"
          ],
          [
           -13.259239602981582,
           22356848.334829997,
           "Negative"
          ],
          [
           -21.6125978655563,
           119654299.48130001,
           "Negative"
          ],
          [
           -7.770898432731599,
           27026161.7386,
           "Negative"
          ],
          [
           -3.3152207316900792,
           13860516.738400001,
           "Negative"
          ],
          [
           -9.106388892287386,
           55846457.331589006,
           "Negative"
          ],
          [
           -4.102137643697571,
           568354985.9442,
           "Negative"
          ],
          [
           -9.19097179337032,
           27816948.612350002,
           "Negative"
          ],
          [
           -4.093660113318226,
           16012687.90536,
           "Negative"
          ],
          [
           -9.627816369000222,
           167318427.77881002,
           "Negative"
          ],
          [
           -2.9983118738918524,
           930305481.00241,
           "Negative"
          ],
          [
           -5.019740386691327,
           42384511.1463,
           "Negative"
          ],
          [
           -4.382929134002815,
           43177532.120859995,
           "Negative"
          ],
          [
           -13.0689496264722,
           19343952.508994002,
           "Negative"
          ],
          [
           -1.6228621881380363,
           107498844.10298,
           "Negative"
          ],
          [
           -5.502219238231644,
           899006035.8221993,
           "Negative"
          ],
          [
           -2.075876291855649,
           1198913576.21778,
           "Negative"
          ],
          [
           -8.443508630957155,
           27990650.824999996,
           "Negative"
          ],
          [
           -2.358148912405184,
           24151046.966300003,
           "Negative"
          ],
          [
           -5.762255866146312,
           378394212.77419996,
           "Negative"
          ],
          [
           -7.150472204619474,
           11110642.789220002,
           "Negative"
          ],
          [
           -5.612634592673883,
           1967415238.56575,
           "Negative"
          ],
          [
           -5.701025471677966,
           14903370.3952184,
           "Negative"
          ],
          [
           -14.689189043619582,
           511309667.2274,
           "Negative"
          ],
          [
           -36.89647058886379,
           497787670.62869996,
           "Negative"
          ],
          [
           -5.2775715470072555,
           33083741.016400002,
           "Negative"
          ],
          [
           -4.600423266492727,
           12960852.32751,
           "Negative"
          ],
          [
           -7.126649408327691,
           20279212.2564,
           "Negative"
          ],
          [
           -9.952959534703307,
           101922134.90876001,
           "Negative"
          ],
          [
           -5.445343349869312,
           98377428.2919,
           "Negative"
          ],
          [
           -6.490486943422383,
           182472679.35961,
           "Negative"
          ],
          [
           -1.725386705116522,
           70972854.33183,
           "Negative"
          ],
          [
           -3.805389480802347,
           139415213.23215,
           "Negative"
          ],
          [
           -2.7599749180255895,
           309486395.0328,
           "Negative"
          ],
          [
           -1.738042728546728,
           436395107.35040003,
           "Negative"
          ],
          [
           -6.4332144085966565,
           29095246.735929996,
           "Negative"
          ],
          [
           -2.981177896714687,
           81305606.827536,
           "Negative"
          ],
          [
           -7.7660808969002595,
           17617741.483289998,
           "Negative"
          ],
          [
           -9.790774450317414,
           38125101.444,
           "Negative"
          ],
          [
           -1.1041421900810668,
           91010120.0032,
           "Negative"
          ],
          [
           -9.180754925312279,
           72485043.25511,
           "Negative"
          ],
          [
           -6.426853697973832,
           129595032.56704,
           "Negative"
          ],
          [
           -6.877282527635938,
           1119320507.467,
           "Negative"
          ],
          [
           -13.798318428067885,
           19398411.9596,
           "Negative"
          ],
          [
           -3.0771658666753208,
           23861720.949300002,
           "Negative"
          ],
          [
           -3.578263933940409,
           13143017.773599999,
           "Negative"
          ],
          [
           -6.024888897102068,
           31238272.61702,
           "Negative"
          ],
          [
           -0.20039439137739024,
           920059337.22658,
           "Negative"
          ],
          [
           -6.34338612469794,
           26093403.41025,
           "Negative"
          ],
          [
           -4.783667151963945,
           11791653.030760001,
           "Negative"
          ],
          [
           -7.434841931482243,
           746085251.0490999,
           "Negative"
          ],
          [
           -7.401651013326221,
           8968419.63428,
           "Negative"
          ],
          [
           -5.539526322156767,
           63810505.640099995,
           "Negative"
          ],
          [
           -8.256573159297805,
           72012920.16928,
           "Negative"
          ],
          [
           -10.95044025699525,
           17880161.3858,
           "Negative"
          ],
          [
           -13.45175123237317,
           28947458.534149997,
           "Negative"
          ],
          [
           -9.137614537662294,
           102901545.60674201,
           "Negative"
          ],
          [
           -14.624550032014499,
           40879629.92904599,
           "Negative"
          ],
          [
           -16.642394286041405,
           74968833.241173,
           "Negative"
          ],
          [
           -5.388147281958039,
           10509727.01602,
           "Negative"
          ],
          [
           -12.681545065908594,
           16603590.41558,
           "Negative"
          ],
          [
           -8.009402261902565,
           15567763.603799999,
           "Negative"
          ],
          [
           -7.838353286696059,
           378556937.1982,
           "Negative"
          ],
          [
           -7.117047344132239,
           79986893.271704,
           "Negative"
          ],
          [
           -6.354224244878264,
           260856671.70970005,
           "Negative"
          ],
          [
           -15.671959735502861,
           921896116.97125,
           "Negative"
          ],
          [
           -13.263707150365457,
           57904685.49666999,
           "Negative"
          ],
          [
           -7.545381911175163,
           1585098225.92195,
           "Negative"
          ],
          [
           -11.029091000711547,
           63371579.78381999,
           "Negative"
          ],
          [
           -1.4379741369893235,
           10603908.9742,
           "Negative"
          ],
          [
           -3.4415841884972167,
           104662033.053513,
           "Negative"
          ],
          [
           -9.552854425545997,
           16500158.57968,
           "Negative"
          ],
          [
           -10.64834804024499,
           39432185.5571,
           "Negative"
          ],
          [
           -11.311830416572779,
           79022676.8005,
           "Negative"
          ],
          [
           -8.426357283570391,
           49457302.8709,
           "Negative"
          ],
          [
           -21.8938920032178,
           150785259.4227,
           "Negative"
          ],
          [
           -7.195989409035762,
           75404829.92727399,
           "Negative"
          ],
          [
           -0.009710210293750715,
           47484822.997595996,
           "Negative"
          ],
          [
           -9.124695971526586,
           3048384813.302,
           "Negative"
          ],
          [
           -2.2337698538394157,
           64795372.09300001,
           "Negative"
          ],
          [
           -9.224919469796824,
           20060452.873800002,
           "Negative"
          ],
          [
           -4.403395937393366,
           248919594.2324174,
           "Negative"
          ],
          [
           -0.5051809989709692,
           889576482.5070701,
           "Negative"
          ],
          [
           -12.701837553975347,
           18663345.27342,
           "Negative"
          ],
          [
           -3.835855122898465,
           1922647122.78683,
           "Negative"
          ],
          [
           -8.69701767619386,
           512053534.7147,
           "Negative"
          ],
          [
           -1.9554361780333744,
           393706363.54972005,
           "Negative"
          ],
          [
           -7.039441341223995,
           20650797.93513,
           "Negative"
          ],
          [
           -5.104486775493813,
           27196228.022019997,
           "Negative"
          ],
          [
           -6.550420609964832,
           13808341.82682,
           "Negative"
          ],
          [
           -3.4821060654596376,
           47184466.12356,
           "Negative"
          ],
          [
           -6.456767183208852,
           56323142.860700004,
           "Negative"
          ],
          [
           -8.25497923558282,
           109155754.98435,
           "Negative"
          ],
          [
           -83.23847562596998,
           1425249547.0300398,
           "Negative"
          ],
          [
           -2.2759289145749193,
           47007193.60167,
           "Negative"
          ],
          [
           -8.761607035875432,
           34859589.2084,
           "Negative"
          ],
          [
           -12.474020067932097,
           77881529.44669999,
           "Negative"
          ],
          [
           -3.6427868808792496,
           36998585.45223,
           "Negative"
          ],
          [
           -12.851202779653676,
           34491503.8442,
           "Negative"
          ],
          [
           -1.220727897670093,
           47618311.671,
           "Negative"
          ],
          [
           -3.7804604009839293,
           12100072.289,
           "Negative"
          ],
          [
           -2.7810722566179393,
           21491419.9703114,
           "Negative"
          ],
          [
           -6.26030733881805,
           25600447.020630002,
           "Negative"
          ],
          [
           -5.485836055204682,
           81469979.7051,
           "Negative"
          ],
          [
           -2.943060533091434,
           150702503.14202,
           "Negative"
          ],
          [
           -6.24820948474503,
           415027576.45589,
           "Negative"
          ],
          [
           -1.7857617400006518,
           96692996.48609999,
           "Negative"
          ],
          [
           -8.982165320224857,
           81435195.38870001,
           "Negative"
          ],
          [
           -11.139042047765681,
           91064006.93116198,
           "Negative"
          ],
          [
           -9.374889923737252,
           25551024.137700003,
           "Negative"
          ],
          [
           -3.665749084401499,
           1260765839.8869002,
           "Negative"
          ],
          [
           -0.48065461439064094,
           2443894133.89717,
           "Negative"
          ],
          [
           -14.595391262307977,
           432943565.7559,
           "Negative"
          ],
          [
           -4.1692902298670225,
           12788468.78788,
           "Negative"
          ],
          [
           -3.627493998985,
           10367824586.68902,
           "Negative"
          ],
          [
           -6.714580101615322,
           611591147.916067,
           "Negative"
          ],
          [
           -6.750453523654244,
           15212789.546427,
           "Negative"
          ],
          [
           -5.656441322848238,
           45777089.366840005,
           "Negative"
          ],
          [
           -4.243553867472347,
           25973133982.4436,
           "Negative"
          ],
          [
           -9.579969600892746,
           60914829.38509999,
           "Negative"
          ],
          [
           -6.978738935574068,
           6317353.96534,
           "Negative"
          ],
          [
           -6.0624621816435145,
           15230144.07272,
           "Negative"
          ],
          [
           -11.12882152911016,
           172862990.34467003,
           "Negative"
          ],
          [
           -109.35945068666783,
           353638630.61806,
           "Negative"
          ],
          [
           -1.734025262553824,
           40049654.6163,
           "Negative"
          ],
          [
           -7.598590697792211,
           23112793.0244,
           "Negative"
          ],
          [
           -6.095732056079347,
           6542683.9004,
           "Negative"
          ],
          [
           -14.856926998906307,
           8713632.5914,
           "Negative"
          ],
          [
           -3.789539179481462,
           197936091.86387998,
           "Negative"
          ],
          [
           -7.547515676170374,
           73378511.69354,
           "Negative"
          ],
          [
           -7.633594490227075,
           17579151.9446,
           "Negative"
          ],
          [
           -17.425185914834564,
           716782789.5667201,
           "Negative"
          ],
          [
           -9.816571184395183,
           130300059.40599999,
           "Negative"
          ],
          [
           -4.152480022341457,
           76509392.941065,
           "Negative"
          ],
          [
           -12.23366491341792,
           68791737.5518,
           "Negative"
          ],
          [
           -2.0881004321795515,
           54637246.35237,
           "Negative"
          ],
          [
           -12.881553496135322,
           21550207.45177,
           "Negative"
          ],
          [
           -3.063273532244711,
           22574173.065239996,
           "Negative"
          ],
          [
           -0.8343892398042474,
           9321994.41031,
           "Negative"
          ],
          [
           -1.3027928532928392,
           24919214.245920002,
           "Negative"
          ],
          [
           -10.196289072452139,
           341090601.089499,
           "Negative"
          ],
          [
           -4.723604884168944,
           36505763.4302274,
           "Negative"
          ],
          [
           -19.253428386882018,
           1303241745.6462,
           "Negative"
          ],
          [
           -4.971506907688706,
           112130251.17237002,
           "Negative"
          ],
          [
           -4.943961960959621,
           1106466850.99649,
           "Negative"
          ],
          [
           -14.109213857959256,
           37667403.798999995,
           "Negative"
          ],
          [
           -7.506757303342258,
           8468548.79108,
           "Negative"
          ],
          [
           -6.603266848958905,
           636083318.72701,
           "Negative"
          ],
          [
           -22.351180762476076,
           21196995.4729,
           "Negative"
          ],
          [
           -4.347329482146087,
           68119903.5185,
           "Negative"
          ],
          [
           -4.840562273035374,
           27654023.017440002,
           "Negative"
          ],
          [
           -17.925524546080926,
           73144155.89798,
           "Negative"
          ],
          [
           -5.262683645591926,
           145247642.1755,
           "Negative"
          ],
          [
           -7.966938972109197,
           840204015.7903,
           "Negative"
          ],
          [
           -6.12156383821015,
           378181045.1992,
           "Negative"
          ],
          [
           -6.3048157669933165,
           14147897.75397,
           "Negative"
          ],
          [
           -5.818410936906446,
           5404444529.664021,
           "Negative"
          ],
          [
           -1.5800613127845793,
           138122133.6487,
           "Negative"
          ],
          [
           -4.949815828517298,
           151199588.98615003,
           "Negative"
          ],
          [
           -2.9857033410523783,
           35347362.77551,
           "Negative"
          ],
          [
           -0.44706434956689556,
           29747762.372199997,
           "Negative"
          ],
          [
           -7.741406387846454,
           16580670.0957,
           "Negative"
          ],
          [
           -3.643115474685077,
           10125597.27189,
           "Negative"
          ],
          [
           -16.482313971803002,
           98506100.50558999,
           "Negative"
          ],
          [
           -24.608229394164965,
           88571401.35186,
           "Negative"
          ],
          [
           -10.207615809834035,
           50021978.8751,
           "Negative"
          ],
          [
           -4.606875208932877,
           59494092.36548,
           "Negative"
          ],
          [
           -5.772293173495868,
           23660494.5355,
           "Negative"
          ],
          [
           -7.0237484089131055,
           19657963.691359997,
           "Negative"
          ],
          [
           -1.6610751006792381,
           2359769960.479,
           "Negative"
          ],
          [
           -7.307551860845228,
           48497266.36944,
           "Negative"
          ],
          [
           -6.012687613104754,
           43226247.13476001,
           "Negative"
          ],
          [
           -7.11644250004592,
           56789732.753699996,
           "Negative"
          ],
          [
           -0.5333345975362569,
           16181992.301900001,
           "Negative"
          ],
          [
           -13.65755350057507,
           161983997.5346,
           "Negative"
          ],
          [
           -11.057765193511326,
           30656410.3341,
           "Negative"
          ],
          [
           -11.84167561631528,
           40099341.796003,
           "Negative"
          ],
          [
           -7.9720030371084505,
           109501070.58311,
           "Negative"
          ],
          [
           -0.31550539408196565,
           2568691968.01889,
           "Negative"
          ],
          [
           -15.075747467601396,
           34804136.11231,
           "Negative"
          ],
          [
           -3.215711163453152,
           27151559.27465,
           "Negative"
          ],
          [
           -9.821652943692307,
           21121742.154349998,
           "Negative"
          ],
          [
           -3.7361762740576925,
           42703984.0707,
           "Negative"
          ],
          [
           -5.246131117727389,
           33802760.305,
           "Negative"
          ],
          [
           -15.73799614279736,
           95478029.94856,
           "Negative"
          ],
          [
           -7.748439585172416,
           45909036.94863899,
           "Negative"
          ],
          [
           -4.298469412764094,
           124094986.142,
           "Negative"
          ],
          [
           -13.627025454940984,
           131207183.64759001,
           "Negative"
          ],
          [
           -5.381352185023699,
           1909932321.767,
           "Negative"
          ],
          [
           -1.5298427570435624,
           10948195.044200001,
           "Negative"
          ],
          [
           -8.11199008211139,
           14571889.47808,
           "Negative"
          ],
          [
           -7.242983784481439,
           57555005.96541,
           "Negative"
          ],
          [
           -7.999104544119991,
           189073326.10876098,
           "Negative"
          ],
          [
           -5.561704851648685,
           25136817.518997,
           "Negative"
          ],
          [
           -4.227172036181985,
           893243872.3574,
           "Negative"
          ],
          [
           -16.787461381813458,
           45530850.1289,
           "Negative"
          ],
          [
           -2.2750539968327956,
           33217321.456470005,
           "Negative"
          ],
          [
           -3.372043736941995,
           10865801.567864,
           "Negative"
          ],
          [
           -8.829260714567834,
           261500235.6028,
           "Negative"
          ],
          [
           -16.019893061531715,
           167328434.41033003,
           "Negative"
          ],
          [
           -8.990701347584213,
           25952185.028049,
           "Negative"
          ],
          [
           -4.348511193973881,
           79576559.52190001,
           "Negative"
          ],
          [
           -3.544674899574762,
           23462009.5057,
           "Negative"
          ],
          [
           -2.7785000056641067,
           121454055.60961,
           "Negative"
          ],
          [
           -6.228513038647158,
           30290898.576518998,
           "Negative"
          ],
          [
           -7.965508286734069,
           54952647.372810006,
           "Negative"
          ],
          [
           -3.9982716250260335,
           71695072.61957,
           "Negative"
          ],
          [
           -7.716592768092125,
           26970516.67114,
           "Negative"
          ],
          [
           -8.546122941522803,
           83495855.35170001,
           "Negative"
          ],
          [
           -1.2180418556870976,
           46946124.3672,
           "Negative"
          ],
          [
           -5.278293613757525,
           155305991.74389997,
           "Negative"
          ],
          [
           -18.51424331355959,
           49160694.8484,
           "Negative"
          ],
          [
           -1.3763593224003996,
           144706135619.4563,
           "Negative"
          ],
          [
           -1.4683244890541118,
           12508261.10394,
           "Negative"
          ],
          [
           -0.032273681093427875,
           39642594.543,
           "Negative"
          ],
          [
           -2.041589432504235,
           126782141.04611,
           "Negative"
          ],
          [
           -2.225361782271605,
           117825425.98746002,
           "Negative"
          ],
          [
           -5.546827432380118,
           45963743.1721,
           "Negative"
          ],
          [
           -1.656554324575378,
           331516615.31722003,
           "Negative"
          ],
          [
           -7.976496846886236,
           2713826917.1879,
           "Negative"
          ],
          [
           -7.298836016888053,
           12024360.77693,
           "Negative"
          ],
          [
           -5.7145550697354235,
           151931225.33091,
           "Negative"
          ],
          [
           -0.7196151406493767,
           89900528.02787401,
           "Negative"
          ],
          [
           -9.91989690567362,
           17652028.041883003,
           "Negative"
          ],
          [
           -6.830492161525687,
           2686799599.438,
           "Negative"
          ],
          [
           -11.191071938169081,
           74512834.6369593,
           "Negative"
          ],
          [
           -7.595898581654151,
           53815658.7258,
           "Negative"
          ],
          [
           -1.56031534316197,
           73482430.72914001,
           "Negative"
          ],
          [
           -3.407931365286289,
           19528504.08215,
           "Negative"
          ],
          [
           -23.205891497216214,
           28060834.703682303,
           "Negative"
          ],
          [
           -2.502372340690634,
           794685606.5565609,
           "Negative"
          ],
          [
           -7.127698036016856,
           188275455.79058918,
           "Negative"
          ],
          [
           -4.6685516897217685,
           36730998.6506,
           "Negative"
          ],
          [
           -6.721001240819847,
           9277969303.541147,
           "Negative"
          ],
          [
           -7.5924269082924605,
           55520957.50141,
           "Negative"
          ],
          [
           -6.9464000959271015,
           257727367.36584,
           "Negative"
          ],
          [
           -12.210692572973345,
           36013437.2581904,
           "Negative"
          ],
          [
           -2.0386467365433827,
           32497315.904900003,
           "Negative"
          ],
          [
           -5.3251948448435,
           449584776.19574296,
           "Negative"
          ],
          [
           -2.1941082375022916,
           115002597.8508,
           "Negative"
          ],
          [
           -8.773395766623064,
           47173846.588,
           "Negative"
          ],
          [
           -4.164985544216048,
           54799050.2431,
           "Negative"
          ],
          [
           -7.100213437164193,
           137749507.307319,
           "Negative"
          ],
          [
           -12.596711902420882,
           325141544.5836399,
           "Negative"
          ],
          [
           -13.502305138982102,
           68208544.28277999,
           "Negative"
          ],
          [
           -2.403961918614675,
           22244847.3527,
           "Negative"
          ],
          [
           -9.236950487341826,
           15814239.667460002,
           "Negative"
          ],
          [
           -7.969059499384224,
           117318247.8666,
           "Negative"
          ],
          [
           -5.991041370310279,
           20845222.74726,
           "Negative"
          ],
          [
           -2.1935637681164426,
           15852442.832700001,
           "Negative"
          ],
          [
           -6.310555422991557,
           145384115.26029998,
           "Negative"
          ],
          [
           -12.265871571986736,
           99049876.00946999,
           "Negative"
          ],
          [
           -5.389269815424653,
           810771731.38541,
           "Negative"
          ],
          [
           -8.191529899729334,
           612827831.4393901,
           "Negative"
          ],
          [
           -13.396307836401295,
           20445449.5511,
           "Negative"
          ],
          [
           -10.172494834492552,
           58791768.0413,
           "Negative"
          ],
          [
           -6.091516866915866,
           34182360.32801,
           "Negative"
          ],
          [
           -18.644314943950533,
           364820988.97185,
           "Negative"
          ],
          [
           -14.626397325498697,
           1099832903.28117,
           "Negative"
          ],
          [
           -4.493843667528958,
           8302402.8573900005,
           "Negative"
          ],
          [
           -9.484860582890176,
           35301962.47541,
           "Negative"
          ],
          [
           -7.098906124336356,
           52329719.4335,
           "Negative"
          ],
          [
           -8.914195152865025,
           21146777.565399997,
           "Negative"
          ],
          [
           -16.479258277686203,
           420912578.57124996,
           "Negative"
          ],
          [
           -11.370175947404766,
           35711086.29289,
           "Negative"
          ],
          [
           -1.0097654328012418,
           21094453.18819,
           "Negative"
          ],
          [
           -8.077264389945457,
           155605900.6795,
           "Negative"
          ],
          [
           -0.9482924740071343,
           26405984.26234,
           "Negative"
          ],
          [
           -4.310820748055649,
           57437687.79828,
           "Negative"
          ],
          [
           -10.552063094117191,
           96553276.63049999,
           "Negative"
          ],
          [
           -0.8840588010122961,
           8204290.86094,
           "Negative"
          ],
          [
           -8.911745768829348,
           1037374366.8544,
           "Negative"
          ],
          [
           -6.029064102601463,
           14683669.12247,
           "Negative"
          ],
          [
           -9.016772573819038,
           43381690.14475,
           "Negative"
          ],
          [
           -4.399387286902626,
           25641769.22924,
           "Negative"
          ],
          [
           -16.009337919122068,
           126168346.28805201,
           "Negative"
          ],
          [
           -1.1312665967353048,
           702379790.1685,
           "Negative"
          ],
          [
           -9.395331375372788,
           11826420.74573,
           "Negative"
          ],
          [
           -12.42890046999145,
           4517508709.64735,
           "Negative"
          ],
          [
           -5.3603113550517305,
           128189642422.64758,
           "Negative"
          ],
          [
           -10.398588816690278,
           764413090.7826699,
           "Negative"
          ],
          [
           -3.2734672577951898,
           596919939.5659901,
           "Negative"
          ],
          [
           -7.929162368752589,
           13449373.967139998,
           "Negative"
          ],
          [
           -5.407774121872814,
           106081162.916548,
           "Negative"
          ],
          [
           -15.01052409819593,
           23748121.33983,
           "Negative"
          ],
          [
           -11.74111916778304,
           76554601.27784,
           "Negative"
          ],
          [
           -6.241931881408023,
           9094625.8165,
           "Negative"
          ],
          [
           -5.2739668128757256,
           18542770.60314,
           "Negative"
          ],
          [
           -0.5917177028088663,
           82479053.0457,
           "Negative"
          ],
          [
           -6.453852113757094,
           105219196.19909999,
           "Negative"
          ],
          [
           -7.663322602091586,
           27329416.117399998,
           "Negative"
          ],
          [
           -7.3888491969706624,
           93596712.32409999,
           "Negative"
          ],
          [
           -8.107867047153032,
           127363802.17842999,
           "Negative"
          ],
          [
           -24.079483872667858,
           120449925.9383,
           "Negative"
          ],
          [
           -1.2207278976700788,
           473902123.94693995,
           "Negative"
          ],
          [
           -4.457864086190989,
           248993040.40080997,
           "Negative"
          ],
          [
           -10.045008347325167,
           19722922.43457,
           "Negative"
          ],
          [
           -7.939968975404904,
           94054645.66165,
           "Negative"
          ],
          [
           -1.9451873636065224,
           21920940.26237,
           "Negative"
          ],
          [
           -7.088932568704921,
           9964081.644000001,
           "Negative"
          ],
          [
           -4.817243533273958,
           30595967.8886,
           "Negative"
          ],
          [
           -5.788176733816083,
           12326020.94576,
           "Negative"
          ],
          [
           -7.009458884026312,
           454022545.98866,
           "Negative"
          ],
          [
           -9.274119776374704,
           34000098.37841,
           "Negative"
          ],
          [
           -3.743652586166718,
           19267817.56604,
           "Negative"
          ],
          [
           -6.424604961822405,
           12120644.3661,
           "Negative"
          ],
          [
           -6.065502111117359,
           11656908.1881,
           "Negative"
          ],
          [
           -4.974999260322537,
           25461099.939095,
           "Negative"
          ],
          [
           -8.361414004113342,
           245655088.02449998,
           "Negative"
          ],
          [
           -20.239928200827393,
           498399201.423271,
           "Negative"
          ],
          [
           -10.624508006756049,
           55438967.7796,
           "Negative"
          ],
          [
           -4.1825819523636625,
           350616587.42257607,
           "Negative"
          ],
          [
           -11.914902279433898,
           1249295567.4573,
           "Negative"
          ],
          [
           -16.18591973250984,
           35684762.53998839,
           "Negative"
          ],
          [
           -4.669811319720788,
           91534492.82284991,
           "Negative"
          ],
          [
           -9.3833951155021,
           4348111871.26727,
           "Negative"
          ],
          [
           -16.77357944175649,
           257050711.5109,
           "Negative"
          ],
          [
           -10.152246629548639,
           11287256.540307,
           "Negative"
          ],
          [
           -5.0720486385308785,
           8433472.5781,
           "Negative"
          ],
          [
           -7.443950804551868,
           8250626.0797,
           "Negative"
          ],
          [
           -8.923568074294117,
           46752119.4641,
           "Negative"
          ],
          [
           -5.59942693545746,
           26153728.446739,
           "Negative"
          ],
          [
           -6.392350259578183,
           806916312.8624,
           "Negative"
          ],
          [
           -19.86279701600255,
           42221479.258299,
           "Negative"
          ],
          [
           -6.759124160151215,
           9511244.140600001,
           "Negative"
          ],
          [
           -0.7306099399888737,
           70440259.90209,
           "Negative"
          ],
          [
           -2.157093921820236,
           24285476.09653,
           "Negative"
          ],
          [
           -1.6230722796308115,
           21407295.993529998,
           "Negative"
          ],
          [
           -8.067030344863523,
           126893443.60849999,
           "Negative"
          ],
          [
           -14.042382877549501,
           33815561.2453,
           "Negative"
          ],
          [
           -3.767469611198699,
           18626810.5334,
           "Negative"
          ],
          [
           -4.12135947014796,
           34351488.98768,
           "Negative"
          ],
          [
           -9.353447784627196,
           4341025121.85749,
           "Negative"
          ],
          [
           -8.447016509709915,
           259157434.487,
           "Negative"
          ],
          [
           -8.917675043447701,
           2185450463.9384003,
           "Negative"
          ],
          [
           -2.904715205725733,
           509576475.61875,
           "Negative"
          ],
          [
           -4.674186810391127,
           54599123.199,
           "Negative"
          ],
          [
           -5.930442951397287,
           17252436.6424,
           "Negative"
          ],
          [
           -9.30800707240531,
           15233238.045799999,
           "Negative"
          ],
          [
           -7.203617889121748,
           27937548.820240002,
           "Negative"
          ],
          [
           -11.58120368485123,
           72834714.77349,
           "Negative"
          ],
          [
           -11.106592532537924,
           32023903.801960003,
           "Negative"
          ],
          [
           -4.614660263578166,
           306083947.5035,
           "Negative"
          ],
          [
           1.7434344049808352,
           171075159.71629998,
           "Positive"
          ],
          [
           1.3687593929238986,
           70364927.818266,
           "Positive"
          ],
          [
           25.852604839116303,
           996321124.17479,
           "Positive"
          ],
          [
           16.436663866897337,
           450750621.68848604,
           "Positive"
          ],
          [
           1.691133877116096,
           230555419.73990002,
           "Positive"
          ],
          [
           5.544924733152344,
           77778881.7635,
           "Positive"
          ],
          [
           6.1899591122095075,
           80809904.37774,
           "Positive"
          ],
          [
           36.99669426715062,
           328913129.93214,
           "Positive"
          ],
          [
           2.106705688284377,
           94062801.87507,
           "Positive"
          ],
          [
           29.50315223727057,
           878431169.6728,
           "Positive"
          ],
          [
           5.434950374121296,
           22042089.074102998,
           "Positive"
          ],
          [
           1.0556883332622249,
           120607283.70812,
           "Positive"
          ],
          [
           5.622003184964826,
           751731594.42835,
           "Positive"
          ],
          [
           24.045758338162432,
           103863399.08140002,
           "Positive"
          ],
          [
           11.000399310296253,
           719521233.40248,
           "Positive"
          ],
          [
           3.3955097765490896,
           103714505.0861,
           "Positive"
          ],
          [
           2.0259954855891014,
           460950466.89273006,
           "Positive"
          ],
          [
           4.424470179775723,
           112266548.31988001,
           "Positive"
          ],
          [
           36.348977649886244,
           182083241.39387,
           "Positive"
          ],
          [
           16.335956087358756,
           375506781.97427,
           "Positive"
          ],
          [
           6.889017572306143,
           419457741.17423004,
           "Positive"
          ],
          [
           5.005871692105195,
           130517904.10305,
           "Positive"
          ],
          [
           2.316179835261229,
           34097230.453099996,
           "Positive"
          ],
          [
           2.785020778878472,
           20000205.3121,
           "Positive"
          ],
          [
           32.61805505846654,
           1617471882.5421,
           "Positive"
          ],
          [
           6.114321333352834,
           38367590.57112999,
           "Positive"
          ],
          [
           63.15986687315637,
           180109306.82756,
           "Positive"
          ],
          [
           2.9878700166110645,
           129237497.1482,
           "Positive"
          ],
          [
           1.3035456494556303,
           112692471.26989001,
           "Positive"
          ],
          [
           1.6238048961666927,
           12932677.07367,
           "Positive"
          ],
          [
           7.633969541895702,
           16528686.191185001,
           "Positive"
          ],
          [
           2.985296314968127,
           113699621.77914,
           "Positive"
          ],
          [
           0.4770599759048677,
           43906432.39275,
           "Positive"
          ],
          [
           0.5857757335642253,
           25981547.702700004,
           "Positive"
          ],
          [
           5.595032460070007,
           93706559.26978,
           "Positive"
          ],
          [
           1.9499225051434106,
           1229001089.81723,
           "Positive"
          ],
          [
           48.000744540976996,
           1480061718.6608598,
           "Positive"
          ],
          [
           6.299955194298359,
           124517399.52344,
           "Positive"
          ],
          [
           16.472189946493877,
           705721769.2402501,
           "Positive"
          ],
          [
           0.763445741031207,
           71662161.2147,
           "Positive"
          ],
          [
           24.139223290260894,
           388294011.77895,
           "Positive"
          ],
          [
           15.771393124311068,
           30952724.370300002,
           "Positive"
          ],
          [
           6.794712257620265,
           104941010.47048001,
           "Positive"
          ],
          [
           110.34490574687237,
           7870687240.066193,
           "Positive"
          ],
          [
           7.923611079874878,
           100163410.73826,
           "Positive"
          ],
          [
           0.5203827875027287,
           31753403.64516,
           "Positive"
          ],
          [
           5.746059281069949,
           27641610.745255,
           "Positive"
          ],
          [
           17.045731552496335,
           509062923.3975,
           "Positive"
          ],
          [
           6.273641343340417,
           21865178.9454,
           "Positive"
          ],
          [
           2.0408871631207237,
           283150252.20594996,
           "Positive"
          ],
          [
           70.6714091607336,
           792458581.396486,
           "Positive"
          ],
          [
           9.011282460973193,
           56248039.105818994,
           "Positive"
          ],
          [
           2.322685060981633,
           30698730.157870002,
           "Positive"
          ],
          [
           5.121759948124074,
           84557201.48227,
           "Positive"
          ],
          [
           0.26845653706690165,
           62977393.95695001,
           "Positive"
          ]
         ],
         "domain": {
          "x": [
           0,
           1
          ],
          "y": [
           0,
           1
          ]
         },
         "hovertemplate": "<b>%{label}</b><br>Volume: %{value:,.0f} USDT<br>Weekly Return: %{customdata[0]:.2f}%<extra></extra>",
         "hovertext": [
          "1000000BOBUSDT",
          "PERPUSDT",
          "PEOPLEUSDT",
          "PENGUUSDT",
          "PENDLEUSDT",
          "PAXGUSDT",
          "PARTIUSDT",
          "ORDIUSDT",
          "ORCAUSDT",
          "OPUSDT",
          "ONTUSDT",
          "ONGUSDT",
          "ONEUSDT",
          "ONDOUSDT",
          "OMUSDT",
          "OMNIUSDT",
          "OGNUSDT",
          "NXPCUSDT",
          "NTRNUSDT",
          "NOTUSDT",
          "NMRUSDT",
          "NKNUSDT",
          "PHAUSDT",
          "NILUSDT",
          "PHBUSDT",
          "PIXELUSDT",
          "REDUSDT",
          "RDNTUSDT",
          "RAYSOLUSDT",
          "RAREUSDT",
          "QUICKUSDT",
          "QTUMUSDT",
          "QNTUSDT",
          "PYTHUSDT",
          "PUNDIXUSDT",
          "PUMPBTCUSDT",
          "PUFFERUSDT",
          "PROMUSDT",
          "PROMPTUSDT",
          "POWRUSDT",
          "PORTALUSDT",
          "POPCATUSDT",
          "PONKEUSDT",
          "POLYXUSDT",
          "POLUSDT",
          "PNUTUSDT",
          "PLUMEUSDT",
          "PIPPINUSDT",
          "NFPUSDT",
          "NEOUSDT",
          "NEIROUSDT",
          "LTCUSDT",
          "LSKUSDT",
          "LRCUSDT",
          "LPTUSDT",
          "LOKAUSDT",
          "LINKUSDT",
          "LEVERUSDT",
          "LDOUSDT",
          "LAUSDT",
          "KSMUSDT",
          "KOMAUSDT",
          "KNCUSDT",
          "KMNOUSDT",
          "KERNELUSDT",
          "ZROUSDT",
          "KAVAUSDT",
          "KASUSDT",
          "JUPUSDT",
          "JTOUSDT",
          "JOEUSDT",
          "JASMYUSDT",
          "LUMIAUSDT",
          "LUNA2USDT",
          "MANAUSDT",
          "MANTAUSDT",
          "NEIROETHUSDT",
          "NEARUSDT",
          "MYROUSDT",
          "MTLUSDT",
          "MOVRUSDT",
          "MORPHOUSDT",
          "MOODENGUSDT",
          "MOCAUSDT",
          "MLNUSDT",
          "MKRUSDT",
          "REIUSDT",
          "MINAUSDT",
          "MEUSDT",
          "METISUSDT",
          "MERLUSDT",
          "MEMEUSDT",
          "MEMEFIUSDT",
          "MELANIAUSDT",
          "MBOXUSDT",
          "MAVUSDT",
          "MAVIAUSDT",
          "MASKUSDT",
          "MEWUSDT",
          "RENDERUSDT",
          "RESOLVUSDT",
          "REZUSDT",
          "VIRTUALUSDT",
          "VINEUSDT",
          "VICUSDT",
          "VETUSDT",
          "VELODROMEUSDT",
          "VANRYUSDT",
          "VANAUSDT",
          "UXLINKUSDT",
          "USUALUSDT",
          "USTCUSDT",
          "USDCUSDT",
          "UNIUSDT",
          "UMAUSDT",
          "TWTUSDT",
          "TURBOUSDT",
          "TRXUSDT",
          "TRUUSDT",
          "TRUMPUSDT",
          "TRBUSDT",
          "TONUSDT",
          "TOKENUSDT",
          "VOXELUSDT",
          "VTHOUSDT",
          "VVVUSDT",
          "WALUSDT",
          "ZKUSDT",
          "ZKJUSDT",
          "ZILUSDT",
          "ZETAUSDT",
          "ZENUSDT",
          "ZECUSDT",
          "YGGUSDT",
          "YFIUSDT",
          "XVSUSDT",
          "XVGUSDT",
          "TNSRUSDT",
          "XTZUSDT",
          "XMRUSDT",
          "XLMUSDT",
          "XCNUSDT",
          "XAIUSDT",
          "WUSDT",
          "WOOUSDT",
          "WLDUSDT",
          "WIFUSDT",
          "WCTUSDT",
          "WAXPUSDT",
          "XRPUSDT",
          "IPUSDT",
          "TLMUSDT",
          "THEUSDT",
          "SOLUSDT",
          "SNXUSDT",
          "SLERFUSDT",
          "SKLUSDT",
          "SKATEUSDT",
          "SIRENUSDT",
          "SFPUSDT",
          "SCRUSDT",
          "SCRTUSDT",
          "SANTOSUSDT",
          "SANDUSDT",
          "SAGAUSDT",
          "SAFEUSDT",
          "RVNUSDT",
          "RUNEUSDT",
          "RSRUSDT",
          "RPLUSDT",
          "ROSEUSDT",
          "RONINUSDT",
          "RLCUSDT",
          "RIFUSDT",
          "SONICUSDT",
          "SOPHUSDT",
          "SPELLUSDT",
          "SPXUSDT",
          "THETAUSDT",
          "TAOUSDT",
          "TAIKOUSDT",
          "SYSUSDT",
          "SYRUPUSDT",
          "SYNUSDT",
          "SXTUSDT",
          "SWELLUSDT",
          "SWARMSUSDT",
          "SUSHIUSDT",
          "TIAUSDT",
          "SUSDT",
          "SUNUSDT",
          "SUIUSDT",
          "STXUSDT",
          "STRKUSDT",
          "STOUSDT",
          "STORJUSDT",
          "STGUSDT",
          "STEEMUSDT",
          "SSVUSDT",
          "SQDUSDT",
          "SUPERUSDT",
          "IOTAUSDT",
          "KDAUSDT",
          "CGPTUSDT",
          "BNBUSDT",
          "BLURUSDT",
          "BIOUSDT",
          "BIGTIMEUSDT",
          "BICOUSDT",
          "BERAUSDT",
          "BELUSDT",
          "BEAMXUSDT",
          "BDXNUSDT",
          "BCHUSDT",
          "BBUSDT",
          "BATUSDT",
          "BANDUSDT",
          "BANANAUSDT",
          "BAKEUSDT",
          "BABYUSDT",
          "B3USDT",
          "AXSUSDT",
          "AXLUSDT",
          "AVAXUSDT",
          "AVAUSDT",
          "BNTUSDT",
          "AVAAIUSDT",
          "BOMEUSDT",
          "BROCCOLIF3BUSDT",
          "CRVUSDT",
          "COWUSDT",
          "COTIUSDT",
          "COSUSDT",
          "COOKIEUSDT",
          "COMPUSDT",
          "CKBUSDT",
          "CHZUSDT",
          "CHRUSDT",
          "CHILLGUYUSDT",
          "IOSTUSDT",
          "CFXUSDT",
          "CETUSUSDT",
          "CELRUSDT",
          "CELOUSDT",
          "CATIUSDT",
          "CAKEUSDT",
          "C98USDT",
          "BTCUSDT",
          "BSWUSDT",
          "BSVUSDT",
          "BRETTUSDT",
          "AUSDT",
          "AUCTIONUSDT",
          "ATOMUSDT",
          "ADAUSDT",
          "ACXUSDT",
          "ACTUSDT",
          "ACHUSDT",
          "ACEUSDT",
          "AAVEUSDT",
          "1MBABYDOGEUSDT",
          "1INCHUSDT",
          "1000XUSDT",
          "1000XECUSDT",
          "1000WHYUSDT",
          "1000SHIBUSDT",
          "1000SATSUSDT",
          "1000RATSUSDT",
          "1000PEPEUSDT",
          "1000LUNCUSDT",
          "1000FLOKIUSDT",
          "1000CHEEMSUSDT",
          "1000CATUSDT",
          "1000BONKUSDT",
          "1000000MOGUSDT",
          "AEVOUSDT",
          "AGLDUSDT",
          "AGTUSDT",
          "AI16ZUSDT",
          "ATHUSDT",
          "ATAUSDT",
          "ASTRUSDT",
          "ARUSDT",
          "ARPAUSDT",
          "ARKUSDT",
          "ARKMUSDT",
          "ARCUSDT",
          "ARBUSDT",
          "APTUSDT",
          "CTSIUSDT",
          "API3USDT",
          "ANKRUSDT",
          "ANIMEUSDT",
          "ALTUSDT",
          "ALPINEUSDT",
          "ALPHAUSDT",
          "ALICEUSDT",
          "AKTUSDT",
          "AIXBTUSDT",
          "AIUSDT",
          "AIOTUSDT",
          "APEUSDT",
          "CVCUSDT",
          "ZRXUSDT",
          "CYBERUSDT",
          "FIOUSDT",
          "FILUSDT",
          "HIVEUSDT",
          "FIDAUSDT",
          "FHEUSDT",
          "HMSTRUSDT",
          "FETUSDT",
          "FISUSDT",
          "FARTCOINUSDT",
          "ETHUSDT",
          "ETHFIUSDT",
          "ETCUSDT",
          "GUSDT",
          "EPTUSDT",
          "HOOKUSDT",
          "EPICUSDT",
          "ETHWUSDT",
          "HIGHUSDT",
          "FLMUSDT",
          "FLOWUSDT",
          "GTCUSDT",
          "GRTUSDT",
          "GRIFFAINUSDT",
          "GRASSUSDT",
          "HBARUSDT",
          "GOATUSDT",
          "GMXUSDT",
          "GMTUSDT",
          "GLMUSDT",
          "GHSTUSDT",
          "GASUSDT",
          "HEIUSDT",
          "GALAUSDT",
          "FXSUSDT",
          "HFTUSDT",
          "FORTHUSDT",
          "FLUXUSDT",
          "HOTUSDT",
          "ENSUSDT",
          "HOMEUSDT",
          "HYPERUSDT",
          "HUMAUSDT",
          "DOTUSDT",
          "DOODUSDT",
          "DOGSUSDT",
          "DOGEUSDT",
          "INITUSDT",
          "DODOXUSDT",
          "DUSDT",
          "DIAUSDT",
          "DEXEUSDT",
          "DENTUSDT",
          "INJUSDT",
          "DEGENUSDT",
          "DEFIUSDT",
          "DEEPUSDT",
          "DASHUSDT",
          "DFUSDT",
          "IMXUSDT",
          "DRIFTUSDT",
          "DUSKUSDT",
          "ENJUSDT",
          "HYPEUSDT",
          "ICPUSDT",
          "ENAUSDT",
          "EIGENUSDT",
          "EGLDUSDT",
          "EDUUSDT",
          "ILVUSDT",
          "IDUSDT",
          "GUNUSDT",
          "DYMUSDT",
          "DYDXUSDT",
          "IOUSDT",
          "HIPPOUSDT",
          "AERGOUSDT",
          "HAEDALUSDT",
          "ALGOUSDT",
          "LISTAUSDT",
          "ALCHUSDT",
          "LQTYUSDT",
          "JELLYJELLYUSDT",
          "KAIAUSDT",
          "JSTUSDT",
          "ZEREBROUSDT",
          "AEROUSDT",
          "HIFIUSDT",
          "LAYERUSDT",
          "ICXUSDT",
          "KAITOUSDT",
          "SXPUSDT",
          "TUTUSDT",
          "OBOLUSDT",
          "BMTUSDT",
          "SIGNUSDT",
          "SHELLUSDT",
          "OGUSDT",
          "SEIUSDT",
          "BROCCOLI714USDT",
          "BRUSDT",
          "BTCDOMUSDT",
          "BUSDT",
          "OXTUSDT",
          "DOLOUSDT",
          "CHESSUSDT",
          "DEGOUSDT",
          "CTKUSDT",
          "SKYAIUSDT",
          "MAGICUSDT",
          "BIDUSDT",
          "SOONUSDT",
          "TUSDT",
          "TSTUSDT",
          "GPSUSDT",
          "ASRUSDT",
          "MILKUSDT",
          "FUNUSDT",
          "FORMUSDT",
          "PORT3USDT",
          "AWEUSDT",
          "MOVEUSDT",
          "B2USDT",
          "MUBARAKUSDT",
          "BANANAS31USDT",
          "BANKUSDT",
          "BANUSDT",
          "SOLVUSDT",
          "IOTXUSDT"
         ],
         "ids": [
          "1000000BOBUSDT",
          "PERPUSDT",
          "PEOPLEUSDT",
          "PENGUUSDT",
          "PENDLEUSDT",
          "PAXGUSDT",
          "PARTIUSDT",
          "ORDIUSDT",
          "ORCAUSDT",
          "OPUSDT",
          "ONTUSDT",
          "ONGUSDT",
          "ONEUSDT",
          "ONDOUSDT",
          "OMUSDT",
          "OMNIUSDT",
          "OGNUSDT",
          "NXPCUSDT",
          "NTRNUSDT",
          "NOTUSDT",
          "NMRUSDT",
          "NKNUSDT",
          "PHAUSDT",
          "NILUSDT",
          "PHBUSDT",
          "PIXELUSDT",
          "REDUSDT",
          "RDNTUSDT",
          "RAYSOLUSDT",
          "RAREUSDT",
          "QUICKUSDT",
          "QTUMUSDT",
          "QNTUSDT",
          "PYTHUSDT",
          "PUNDIXUSDT",
          "PUMPBTCUSDT",
          "PUFFERUSDT",
          "PROMUSDT",
          "PROMPTUSDT",
          "POWRUSDT",
          "PORTALUSDT",
          "POPCATUSDT",
          "PONKEUSDT",
          "POLYXUSDT",
          "POLUSDT",
          "PNUTUSDT",
          "PLUMEUSDT",
          "PIPPINUSDT",
          "NFPUSDT",
          "NEOUSDT",
          "NEIROUSDT",
          "LTCUSDT",
          "LSKUSDT",
          "LRCUSDT",
          "LPTUSDT",
          "LOKAUSDT",
          "LINKUSDT",
          "LEVERUSDT",
          "LDOUSDT",
          "LAUSDT",
          "KSMUSDT",
          "KOMAUSDT",
          "KNCUSDT",
          "KMNOUSDT",
          "KERNELUSDT",
          "ZROUSDT",
          "KAVAUSDT",
          "KASUSDT",
          "JUPUSDT",
          "JTOUSDT",
          "JOEUSDT",
          "JASMYUSDT",
          "LUMIAUSDT",
          "LUNA2USDT",
          "MANAUSDT",
          "MANTAUSDT",
          "NEIROETHUSDT",
          "NEARUSDT",
          "MYROUSDT",
          "MTLUSDT",
          "MOVRUSDT",
          "MORPHOUSDT",
          "MOODENGUSDT",
          "MOCAUSDT",
          "MLNUSDT",
          "MKRUSDT",
          "REIUSDT",
          "MINAUSDT",
          "MEUSDT",
          "METISUSDT",
          "MERLUSDT",
          "MEMEUSDT",
          "MEMEFIUSDT",
          "MELANIAUSDT",
          "MBOXUSDT",
          "MAVUSDT",
          "MAVIAUSDT",
          "MASKUSDT",
          "MEWUSDT",
          "RENDERUSDT",
          "RESOLVUSDT",
          "REZUSDT",
          "VIRTUALUSDT",
          "VINEUSDT",
          "VICUSDT",
          "VETUSDT",
          "VELODROMEUSDT",
          "VANRYUSDT",
          "VANAUSDT",
          "UXLINKUSDT",
          "USUALUSDT",
          "USTCUSDT",
          "USDCUSDT",
          "UNIUSDT",
          "UMAUSDT",
          "TWTUSDT",
          "TURBOUSDT",
          "TRXUSDT",
          "TRUUSDT",
          "TRUMPUSDT",
          "TRBUSDT",
          "TONUSDT",
          "TOKENUSDT",
          "VOXELUSDT",
          "VTHOUSDT",
          "VVVUSDT",
          "WALUSDT",
          "ZKUSDT",
          "ZKJUSDT",
          "ZILUSDT",
          "ZETAUSDT",
          "ZENUSDT",
          "ZECUSDT",
          "YGGUSDT",
          "YFIUSDT",
          "XVSUSDT",
          "XVGUSDT",
          "TNSRUSDT",
          "XTZUSDT",
          "XMRUSDT",
          "XLMUSDT",
          "XCNUSDT",
          "XAIUSDT",
          "WUSDT",
          "WOOUSDT",
          "WLDUSDT",
          "WIFUSDT",
          "WCTUSDT",
          "WAXPUSDT",
          "XRPUSDT",
          "IPUSDT",
          "TLMUSDT",
          "THEUSDT",
          "SOLUSDT",
          "SNXUSDT",
          "SLERFUSDT",
          "SKLUSDT",
          "SKATEUSDT",
          "SIRENUSDT",
          "SFPUSDT",
          "SCRUSDT",
          "SCRTUSDT",
          "SANTOSUSDT",
          "SANDUSDT",
          "SAGAUSDT",
          "SAFEUSDT",
          "RVNUSDT",
          "RUNEUSDT",
          "RSRUSDT",
          "RPLUSDT",
          "ROSEUSDT",
          "RONINUSDT",
          "RLCUSDT",
          "RIFUSDT",
          "SONICUSDT",
          "SOPHUSDT",
          "SPELLUSDT",
          "SPXUSDT",
          "THETAUSDT",
          "TAOUSDT",
          "TAIKOUSDT",
          "SYSUSDT",
          "SYRUPUSDT",
          "SYNUSDT",
          "SXTUSDT",
          "SWELLUSDT",
          "SWARMSUSDT",
          "SUSHIUSDT",
          "TIAUSDT",
          "SUSDT",
          "SUNUSDT",
          "SUIUSDT",
          "STXUSDT",
          "STRKUSDT",
          "STOUSDT",
          "STORJUSDT",
          "STGUSDT",
          "STEEMUSDT",
          "SSVUSDT",
          "SQDUSDT",
          "SUPERUSDT",
          "IOTAUSDT",
          "KDAUSDT",
          "CGPTUSDT",
          "BNBUSDT",
          "BLURUSDT",
          "BIOUSDT",
          "BIGTIMEUSDT",
          "BICOUSDT",
          "BERAUSDT",
          "BELUSDT",
          "BEAMXUSDT",
          "BDXNUSDT",
          "BCHUSDT",
          "BBUSDT",
          "BATUSDT",
          "BANDUSDT",
          "BANANAUSDT",
          "BAKEUSDT",
          "BABYUSDT",
          "B3USDT",
          "AXSUSDT",
          "AXLUSDT",
          "AVAXUSDT",
          "AVAUSDT",
          "BNTUSDT",
          "AVAAIUSDT",
          "BOMEUSDT",
          "BROCCOLIF3BUSDT",
          "CRVUSDT",
          "COWUSDT",
          "COTIUSDT",
          "COSUSDT",
          "COOKIEUSDT",
          "COMPUSDT",
          "CKBUSDT",
          "CHZUSDT",
          "CHRUSDT",
          "CHILLGUYUSDT",
          "IOSTUSDT",
          "CFXUSDT",
          "CETUSUSDT",
          "CELRUSDT",
          "CELOUSDT",
          "CATIUSDT",
          "CAKEUSDT",
          "C98USDT",
          "BTCUSDT",
          "BSWUSDT",
          "BSVUSDT",
          "BRETTUSDT",
          "AUSDT",
          "AUCTIONUSDT",
          "ATOMUSDT",
          "ADAUSDT",
          "ACXUSDT",
          "ACTUSDT",
          "ACHUSDT",
          "ACEUSDT",
          "AAVEUSDT",
          "1MBABYDOGEUSDT",
          "1INCHUSDT",
          "1000XUSDT",
          "1000XECUSDT",
          "1000WHYUSDT",
          "1000SHIBUSDT",
          "1000SATSUSDT",
          "1000RATSUSDT",
          "1000PEPEUSDT",
          "1000LUNCUSDT",
          "1000FLOKIUSDT",
          "1000CHEEMSUSDT",
          "1000CATUSDT",
          "1000BONKUSDT",
          "1000000MOGUSDT",
          "AEVOUSDT",
          "AGLDUSDT",
          "AGTUSDT",
          "AI16ZUSDT",
          "ATHUSDT",
          "ATAUSDT",
          "ASTRUSDT",
          "ARUSDT",
          "ARPAUSDT",
          "ARKUSDT",
          "ARKMUSDT",
          "ARCUSDT",
          "ARBUSDT",
          "APTUSDT",
          "CTSIUSDT",
          "API3USDT",
          "ANKRUSDT",
          "ANIMEUSDT",
          "ALTUSDT",
          "ALPINEUSDT",
          "ALPHAUSDT",
          "ALICEUSDT",
          "AKTUSDT",
          "AIXBTUSDT",
          "AIUSDT",
          "AIOTUSDT",
          "APEUSDT",
          "CVCUSDT",
          "ZRXUSDT",
          "CYBERUSDT",
          "FIOUSDT",
          "FILUSDT",
          "HIVEUSDT",
          "FIDAUSDT",
          "FHEUSDT",
          "HMSTRUSDT",
          "FETUSDT",
          "FISUSDT",
          "FARTCOINUSDT",
          "ETHUSDT",
          "ETHFIUSDT",
          "ETCUSDT",
          "GUSDT",
          "EPTUSDT",
          "HOOKUSDT",
          "EPICUSDT",
          "ETHWUSDT",
          "HIGHUSDT",
          "FLMUSDT",
          "FLOWUSDT",
          "GTCUSDT",
          "GRTUSDT",
          "GRIFFAINUSDT",
          "GRASSUSDT",
          "HBARUSDT",
          "GOATUSDT",
          "GMXUSDT",
          "GMTUSDT",
          "GLMUSDT",
          "GHSTUSDT",
          "GASUSDT",
          "HEIUSDT",
          "GALAUSDT",
          "FXSUSDT",
          "HFTUSDT",
          "FORTHUSDT",
          "FLUXUSDT",
          "HOTUSDT",
          "ENSUSDT",
          "HOMEUSDT",
          "HYPERUSDT",
          "HUMAUSDT",
          "DOTUSDT",
          "DOODUSDT",
          "DOGSUSDT",
          "DOGEUSDT",
          "INITUSDT",
          "DODOXUSDT",
          "DUSDT",
          "DIAUSDT",
          "DEXEUSDT",
          "DENTUSDT",
          "INJUSDT",
          "DEGENUSDT",
          "DEFIUSDT",
          "DEEPUSDT",
          "DASHUSDT",
          "DFUSDT",
          "IMXUSDT",
          "DRIFTUSDT",
          "DUSKUSDT",
          "ENJUSDT",
          "HYPEUSDT",
          "ICPUSDT",
          "ENAUSDT",
          "EIGENUSDT",
          "EGLDUSDT",
          "EDUUSDT",
          "ILVUSDT",
          "IDUSDT",
          "GUNUSDT",
          "DYMUSDT",
          "DYDXUSDT",
          "IOUSDT",
          "HIPPOUSDT",
          "AERGOUSDT",
          "HAEDALUSDT",
          "ALGOUSDT",
          "LISTAUSDT",
          "ALCHUSDT",
          "LQTYUSDT",
          "JELLYJELLYUSDT",
          "KAIAUSDT",
          "JSTUSDT",
          "ZEREBROUSDT",
          "AEROUSDT",
          "HIFIUSDT",
          "LAYERUSDT",
          "ICXUSDT",
          "KAITOUSDT",
          "SXPUSDT",
          "TUTUSDT",
          "OBOLUSDT",
          "BMTUSDT",
          "SIGNUSDT",
          "SHELLUSDT",
          "OGUSDT",
          "SEIUSDT",
          "BROCCOLI714USDT",
          "BRUSDT",
          "BTCDOMUSDT",
          "BUSDT",
          "OXTUSDT",
          "DOLOUSDT",
          "CHESSUSDT",
          "DEGOUSDT",
          "CTKUSDT",
          "SKYAIUSDT",
          "MAGICUSDT",
          "BIDUSDT",
          "SOONUSDT",
          "TUSDT",
          "TSTUSDT",
          "GPSUSDT",
          "ASRUSDT",
          "MILKUSDT",
          "FUNUSDT",
          "FORMUSDT",
          "PORT3USDT",
          "AWEUSDT",
          "MOVEUSDT",
          "B2USDT",
          "MUBARAKUSDT",
          "BANANAS31USDT",
          "BANKUSDT",
          "BANUSDT",
          "SOLVUSDT",
          "IOTXUSDT"
         ],
         "labels": [
          "1000000BOBUSDT",
          "PERPUSDT",
          "PEOPLEUSDT",
          "PENGUUSDT",
          "PENDLEUSDT",
          "PAXGUSDT",
          "PARTIUSDT",
          "ORDIUSDT",
          "ORCAUSDT",
          "OPUSDT",
          "ONTUSDT",
          "ONGUSDT",
          "ONEUSDT",
          "ONDOUSDT",
          "OMUSDT",
          "OMNIUSDT",
          "OGNUSDT",
          "NXPCUSDT",
          "NTRNUSDT",
          "NOTUSDT",
          "NMRUSDT",
          "NKNUSDT",
          "PHAUSDT",
          "NILUSDT",
          "PHBUSDT",
          "PIXELUSDT",
          "REDUSDT",
          "RDNTUSDT",
          "RAYSOLUSDT",
          "RAREUSDT",
          "QUICKUSDT",
          "QTUMUSDT",
          "QNTUSDT",
          "PYTHUSDT",
          "PUNDIXUSDT",
          "PUMPBTCUSDT",
          "PUFFERUSDT",
          "PROMUSDT",
          "PROMPTUSDT",
          "POWRUSDT",
          "PORTALUSDT",
          "POPCATUSDT",
          "PONKEUSDT",
          "POLYXUSDT",
          "POLUSDT",
          "PNUTUSDT",
          "PLUMEUSDT",
          "PIPPINUSDT",
          "NFPUSDT",
          "NEOUSDT",
          "NEIROUSDT",
          "LTCUSDT",
          "LSKUSDT",
          "LRCUSDT",
          "LPTUSDT",
          "LOKAUSDT",
          "LINKUSDT",
          "LEVERUSDT",
          "LDOUSDT",
          "LAUSDT",
          "KSMUSDT",
          "KOMAUSDT",
          "KNCUSDT",
          "KMNOUSDT",
          "KERNELUSDT",
          "ZROUSDT",
          "KAVAUSDT",
          "KASUSDT",
          "JUPUSDT",
          "JTOUSDT",
          "JOEUSDT",
          "JASMYUSDT",
          "LUMIAUSDT",
          "LUNA2USDT",
          "MANAUSDT",
          "MANTAUSDT",
          "NEIROETHUSDT",
          "NEARUSDT",
          "MYROUSDT",
          "MTLUSDT",
          "MOVRUSDT",
          "MORPHOUSDT",
          "MOODENGUSDT",
          "MOCAUSDT",
          "MLNUSDT",
          "MKRUSDT",
          "REIUSDT",
          "MINAUSDT",
          "MEUSDT",
          "METISUSDT",
          "MERLUSDT",
          "MEMEUSDT",
          "MEMEFIUSDT",
          "MELANIAUSDT",
          "MBOXUSDT",
          "MAVUSDT",
          "MAVIAUSDT",
          "MASKUSDT",
          "MEWUSDT",
          "RENDERUSDT",
          "RESOLVUSDT",
          "REZUSDT",
          "VIRTUALUSDT",
          "VINEUSDT",
          "VICUSDT",
          "VETUSDT",
          "VELODROMEUSDT",
          "VANRYUSDT",
          "VANAUSDT",
          "UXLINKUSDT",
          "USUALUSDT",
          "USTCUSDT",
          "USDCUSDT",
          "UNIUSDT",
          "UMAUSDT",
          "TWTUSDT",
          "TURBOUSDT",
          "TRXUSDT",
          "TRUUSDT",
          "TRUMPUSDT",
          "TRBUSDT",
          "TONUSDT",
          "TOKENUSDT",
          "VOXELUSDT",
          "VTHOUSDT",
          "VVVUSDT",
          "WALUSDT",
          "ZKUSDT",
          "ZKJUSDT",
          "ZILUSDT",
          "ZETAUSDT",
          "ZENUSDT",
          "ZECUSDT",
          "YGGUSDT",
          "YFIUSDT",
          "XVSUSDT",
          "XVGUSDT",
          "TNSRUSDT",
          "XTZUSDT",
          "XMRUSDT",
          "XLMUSDT",
          "XCNUSDT",
          "XAIUSDT",
          "WUSDT",
          "WOOUSDT",
          "WLDUSDT",
          "WIFUSDT",
          "WCTUSDT",
          "WAXPUSDT",
          "XRPUSDT",
          "IPUSDT",
          "TLMUSDT",
          "THEUSDT",
          "SOLUSDT",
          "SNXUSDT",
          "SLERFUSDT",
          "SKLUSDT",
          "SKATEUSDT",
          "SIRENUSDT",
          "SFPUSDT",
          "SCRUSDT",
          "SCRTUSDT",
          "SANTOSUSDT",
          "SANDUSDT",
          "SAGAUSDT",
          "SAFEUSDT",
          "RVNUSDT",
          "RUNEUSDT",
          "RSRUSDT",
          "RPLUSDT",
          "ROSEUSDT",
          "RONINUSDT",
          "RLCUSDT",
          "RIFUSDT",
          "SONICUSDT",
          "SOPHUSDT",
          "SPELLUSDT",
          "SPXUSDT",
          "THETAUSDT",
          "TAOUSDT",
          "TAIKOUSDT",
          "SYSUSDT",
          "SYRUPUSDT",
          "SYNUSDT",
          "SXTUSDT",
          "SWELLUSDT",
          "SWARMSUSDT",
          "SUSHIUSDT",
          "TIAUSDT",
          "SUSDT",
          "SUNUSDT",
          "SUIUSDT",
          "STXUSDT",
          "STRKUSDT",
          "STOUSDT",
          "STORJUSDT",
          "STGUSDT",
          "STEEMUSDT",
          "SSVUSDT",
          "SQDUSDT",
          "SUPERUSDT",
          "IOTAUSDT",
          "KDAUSDT",
          "CGPTUSDT",
          "BNBUSDT",
          "BLURUSDT",
          "BIOUSDT",
          "BIGTIMEUSDT",
          "BICOUSDT",
          "BERAUSDT",
          "BELUSDT",
          "BEAMXUSDT",
          "BDXNUSDT",
          "BCHUSDT",
          "BBUSDT",
          "BATUSDT",
          "BANDUSDT",
          "BANANAUSDT",
          "BAKEUSDT",
          "BABYUSDT",
          "B3USDT",
          "AXSUSDT",
          "AXLUSDT",
          "AVAXUSDT",
          "AVAUSDT",
          "BNTUSDT",
          "AVAAIUSDT",
          "BOMEUSDT",
          "BROCCOLIF3BUSDT",
          "CRVUSDT",
          "COWUSDT",
          "COTIUSDT",
          "COSUSDT",
          "COOKIEUSDT",
          "COMPUSDT",
          "CKBUSDT",
          "CHZUSDT",
          "CHRUSDT",
          "CHILLGUYUSDT",
          "IOSTUSDT",
          "CFXUSDT",
          "CETUSUSDT",
          "CELRUSDT",
          "CELOUSDT",
          "CATIUSDT",
          "CAKEUSDT",
          "C98USDT",
          "BTCUSDT",
          "BSWUSDT",
          "BSVUSDT",
          "BRETTUSDT",
          "AUSDT",
          "AUCTIONUSDT",
          "ATOMUSDT",
          "ADAUSDT",
          "ACXUSDT",
          "ACTUSDT",
          "ACHUSDT",
          "ACEUSDT",
          "AAVEUSDT",
          "1MBABYDOGEUSDT",
          "1INCHUSDT",
          "1000XUSDT",
          "1000XECUSDT",
          "1000WHYUSDT",
          "1000SHIBUSDT",
          "1000SATSUSDT",
          "1000RATSUSDT",
          "1000PEPEUSDT",
          "1000LUNCUSDT",
          "1000FLOKIUSDT",
          "1000CHEEMSUSDT",
          "1000CATUSDT",
          "1000BONKUSDT",
          "1000000MOGUSDT",
          "AEVOUSDT",
          "AGLDUSDT",
          "AGTUSDT",
          "AI16ZUSDT",
          "ATHUSDT",
          "ATAUSDT",
          "ASTRUSDT",
          "ARUSDT",
          "ARPAUSDT",
          "ARKUSDT",
          "ARKMUSDT",
          "ARCUSDT",
          "ARBUSDT",
          "APTUSDT",
          "CTSIUSDT",
          "API3USDT",
          "ANKRUSDT",
          "ANIMEUSDT",
          "ALTUSDT",
          "ALPINEUSDT",
          "ALPHAUSDT",
          "ALICEUSDT",
          "AKTUSDT",
          "AIXBTUSDT",
          "AIUSDT",
          "AIOTUSDT",
          "APEUSDT",
          "CVCUSDT",
          "ZRXUSDT",
          "CYBERUSDT",
          "FIOUSDT",
          "FILUSDT",
          "HIVEUSDT",
          "FIDAUSDT",
          "FHEUSDT",
          "HMSTRUSDT",
          "FETUSDT",
          "FISUSDT",
          "FARTCOINUSDT",
          "ETHUSDT",
          "ETHFIUSDT",
          "ETCUSDT",
          "GUSDT",
          "EPTUSDT",
          "HOOKUSDT",
          "EPICUSDT",
          "ETHWUSDT",
          "HIGHUSDT",
          "FLMUSDT",
          "FLOWUSDT",
          "GTCUSDT",
          "GRTUSDT",
          "GRIFFAINUSDT",
          "GRASSUSDT",
          "HBARUSDT",
          "GOATUSDT",
          "GMXUSDT",
          "GMTUSDT",
          "GLMUSDT",
          "GHSTUSDT",
          "GASUSDT",
          "HEIUSDT",
          "GALAUSDT",
          "FXSUSDT",
          "HFTUSDT",
          "FORTHUSDT",
          "FLUXUSDT",
          "HOTUSDT",
          "ENSUSDT",
          "HOMEUSDT",
          "HYPERUSDT",
          "HUMAUSDT",
          "DOTUSDT",
          "DOODUSDT",
          "DOGSUSDT",
          "DOGEUSDT",
          "INITUSDT",
          "DODOXUSDT",
          "DUSDT",
          "DIAUSDT",
          "DEXEUSDT",
          "DENTUSDT",
          "INJUSDT",
          "DEGENUSDT",
          "DEFIUSDT",
          "DEEPUSDT",
          "DASHUSDT",
          "DFUSDT",
          "IMXUSDT",
          "DRIFTUSDT",
          "DUSKUSDT",
          "ENJUSDT",
          "HYPEUSDT",
          "ICPUSDT",
          "ENAUSDT",
          "EIGENUSDT",
          "EGLDUSDT",
          "EDUUSDT",
          "ILVUSDT",
          "IDUSDT",
          "GUNUSDT",
          "DYMUSDT",
          "DYDXUSDT",
          "IOUSDT",
          "HIPPOUSDT",
          "AERGOUSDT",
          "HAEDALUSDT",
          "ALGOUSDT",
          "LISTAUSDT",
          "ALCHUSDT",
          "LQTYUSDT",
          "JELLYJELLYUSDT",
          "KAIAUSDT",
          "JSTUSDT",
          "ZEREBROUSDT",
          "AEROUSDT",
          "HIFIUSDT",
          "LAYERUSDT",
          "ICXUSDT",
          "KAITOUSDT",
          "SXPUSDT",
          "TUTUSDT",
          "OBOLUSDT",
          "BMTUSDT",
          "SIGNUSDT",
          "SHELLUSDT",
          "OGUSDT",
          "SEIUSDT",
          "BROCCOLI714USDT",
          "BRUSDT",
          "BTCDOMUSDT",
          "BUSDT",
          "OXTUSDT",
          "DOLOUSDT",
          "CHESSUSDT",
          "DEGOUSDT",
          "CTKUSDT",
          "SKYAIUSDT",
          "MAGICUSDT",
          "BIDUSDT",
          "SOONUSDT",
          "TUSDT",
          "TSTUSDT",
          "GPSUSDT",
          "ASRUSDT",
          "MILKUSDT",
          "FUNUSDT",
          "FORMUSDT",
          "PORT3USDT",
          "AWEUSDT",
          "MOVEUSDT",
          "B2USDT",
          "MUBARAKUSDT",
          "BANANAS31USDT",
          "BANKUSDT",
          "BANUSDT",
          "SOLVUSDT",
          "IOTXUSDT"
         ],
         "marker": {
          "colors": [
           "#FF4136",
           "#FF4136",
           "#FF4136",
           "#FF4136",
           "#FF4136",
           "#FF4136",
           "#FF4136",
           "#FF4136",
           "#FF4136",
           "#FF4136",
           "#FF4136",
           "#FF4136",
           "#FF4136",
           "#FF4136",
           "#FF4136",
           "#FF4136",
           "#FF4136",
           "#FF4136",
           "#FF4136",
           "#FF4136",
           "#FF4136",
           "#FF4136",
           "#FF4136",
           "#FF4136",
           "#FF4136",
           "#FF4136",
           "#FF4136",
           "#FF4136",
           "#FF4136",
           "#FF4136",
           "#FF4136",
           "#FF4136",
           "#FF4136",
           "#FF4136",
           "#FF4136",
           "#FF4136",
           "#FF4136",
           "#FF4136",
           "#FF4136",
           "#FF4136",
           "#FF4136",
           "#FF4136",
           "#FF4136",
           "#FF4136",
           "#FF4136",
           "#FF4136",
           "#FF4136",
           "#FF4136",
           "#FF4136",
           "#FF4136",
           "#FF4136",
           "#FF4136",
           "#FF4136",
           "#FF4136",
           "#FF4136",
           "#FF4136",
           "#FF4136",
           "#FF4136",
           "#FF4136",
           "#FF4136",
           "#FF4136",
           "#FF4136",
           "#FF4136",
           "#FF4136",
           "#FF4136",
           "#FF4136",
           "#FF4136",
           "#FF4136",
           "#FF4136",
           "#FF4136",
           "#FF4136",
           "#FF4136",
           "#FF4136",
           "#FF4136",
           "#FF4136",
           "#FF4136",
           "#FF4136",
           "#FF4136",
           "#FF4136",
           "#FF4136",
           "#FF4136",
           "#FF4136",
           "#FF4136",
           "#FF4136",
           "#FF4136",
           "#FF4136",
           "#FF4136",
           "#FF4136",
           "#FF4136",
           "#FF4136",
           "#FF4136",
           "#FF4136",
           "#FF4136",
           "#FF4136",
           "#FF4136",
           "#FF4136",
           "#FF4136",
           "#FF4136",
           "#FF4136",
           "#FF4136",
           "#FF4136",
           "#FF4136",
           "#FF4136",
           "#FF4136",
           "#FF4136",
           "#FF4136",
           "#FF4136",
           "#FF4136",
           "#FF4136",
           "#FF4136",
           "#FF4136",
           "#FF4136",
           "#FF4136",
           "#FF4136",
           "#FF4136",
           "#FF4136",
           "#FF4136",
           "#FF4136",
           "#FF4136",
           "#FF4136",
           "#FF4136",
           "#FF4136",
           "#FF4136",
           "#FF4136",
           "#FF4136",
           "#FF4136",
           "#FF4136",
           "#FF4136",
           "#FF4136",
           "#FF4136",
           "#FF4136",
           "#FF4136",
           "#FF4136",
           "#FF4136",
           "#FF4136",
           "#FF4136",
           "#FF4136",
           "#FF4136",
           "#FF4136",
           "#FF4136",
           "#FF4136",
           "#FF4136",
           "#FF4136",
           "#FF4136",
           "#FF4136",
           "#FF4136",
           "#FF4136",
           "#FF4136",
           "#FF4136",
           "#FF4136",
           "#FF4136",
           "#FF4136",
           "#FF4136",
           "#FF4136",
           "#FF4136",
           "#FF4136",
           "#FF4136",
           "#FF4136",
           "#FF4136",
           "#FF4136",
           "#FF4136",
           "#FF4136",
           "#FF4136",
           "#FF4136",
           "#FF4136",
           "#FF4136",
           "#FF4136",
           "#FF4136",
           "#FF4136",
           "#FF4136",
           "#FF4136",
           "#FF4136",
           "#FF4136",
           "#FF4136",
           "#FF4136",
           "#FF4136",
           "#FF4136",
           "#FF4136",
           "#FF4136",
           "#FF4136",
           "#FF4136",
           "#FF4136",
           "#FF4136",
           "#FF4136",
           "#FF4136",
           "#FF4136",
           "#FF4136",
           "#FF4136",
           "#FF4136",
           "#FF4136",
           "#FF4136",
           "#FF4136",
           "#FF4136",
           "#FF4136",
           "#FF4136",
           "#FF4136",
           "#FF4136",
           "#FF4136",
           "#FF4136",
           "#FF4136",
           "#FF4136",
           "#FF4136",
           "#FF4136",
           "#FF4136",
           "#FF4136",
           "#FF4136",
           "#FF4136",
           "#FF4136",
           "#FF4136",
           "#FF4136",
           "#FF4136",
           "#FF4136",
           "#FF4136",
           "#FF4136",
           "#FF4136",
           "#FF4136",
           "#FF4136",
           "#FF4136",
           "#FF4136",
           "#FF4136",
           "#FF4136",
           "#FF4136",
           "#FF4136",
           "#FF4136",
           "#FF4136",
           "#FF4136",
           "#FF4136",
           "#FF4136",
           "#FF4136",
           "#FF4136",
           "#FF4136",
           "#FF4136",
           "#FF4136",
           "#FF4136",
           "#FF4136",
           "#FF4136",
           "#FF4136",
           "#FF4136",
           "#FF4136",
           "#FF4136",
           "#FF4136",
           "#FF4136",
           "#FF4136",
           "#FF4136",
           "#FF4136",
           "#FF4136",
           "#FF4136",
           "#FF4136",
           "#FF4136",
           "#FF4136",
           "#FF4136",
           "#FF4136",
           "#FF4136",
           "#FF4136",
           "#FF4136",
           "#FF4136",
           "#FF4136",
           "#FF4136",
           "#FF4136",
           "#FF4136",
           "#FF4136",
           "#FF4136",
           "#FF4136",
           "#FF4136",
           "#FF4136",
           "#FF4136",
           "#FF4136",
           "#FF4136",
           "#FF4136",
           "#FF4136",
           "#FF4136",
           "#FF4136",
           "#FF4136",
           "#FF4136",
           "#FF4136",
           "#FF4136",
           "#FF4136",
           "#FF4136",
           "#FF4136",
           "#FF4136",
           "#FF4136",
           "#FF4136",
           "#FF4136",
           "#FF4136",
           "#FF4136",
           "#FF4136",
           "#FF4136",
           "#FF4136",
           "#FF4136",
           "#FF4136",
           "#FF4136",
           "#FF4136",
           "#FF4136",
           "#FF4136",
           "#FF4136",
           "#FF4136",
           "#FF4136",
           "#FF4136",
           "#FF4136",
           "#FF4136",
           "#FF4136",
           "#FF4136",
           "#FF4136",
           "#FF4136",
           "#FF4136",
           "#FF4136",
           "#FF4136",
           "#FF4136",
           "#FF4136",
           "#FF4136",
           "#FF4136",
           "#FF4136",
           "#FF4136",
           "#FF4136",
           "#FF4136",
           "#FF4136",
           "#FF4136",
           "#FF4136",
           "#FF4136",
           "#FF4136",
           "#FF4136",
           "#FF4136",
           "#FF4136",
           "#FF4136",
           "#FF4136",
           "#FF4136",
           "#FF4136",
           "#FF4136",
           "#FF4136",
           "#FF4136",
           "#FF4136",
           "#FF4136",
           "#FF4136",
           "#FF4136",
           "#FF4136",
           "#FF4136",
           "#FF4136",
           "#FF4136",
           "#FF4136",
           "#FF4136",
           "#FF4136",
           "#FF4136",
           "#FF4136",
           "#FF4136",
           "#FF4136",
           "#FF4136",
           "#FF4136",
           "#FF4136",
           "#FF4136",
           "#FF4136",
           "#FF4136",
           "#FF4136",
           "#FF4136",
           "#FF4136",
           "#FF4136",
           "#FF4136",
           "#FF4136",
           "#FF4136",
           "#FF4136",
           "#FF4136",
           "#FF4136",
           "#FF4136",
           "#FF4136",
           "#FF4136",
           "#FF4136",
           "#FF4136",
           "#FF4136",
           "#FF4136",
           "#FF4136",
           "#FF4136",
           "#FF4136",
           "#FF4136",
           "#FF4136",
           "#FF4136",
           "#FF4136",
           "#FF4136",
           "#FF4136",
           "#FF4136",
           "#3D9970",
           "#3D9970",
           "#3D9970",
           "#3D9970",
           "#3D9970",
           "#3D9970",
           "#3D9970",
           "#3D9970",
           "#3D9970",
           "#3D9970",
           "#3D9970",
           "#3D9970",
           "#3D9970",
           "#3D9970",
           "#3D9970",
           "#3D9970",
           "#3D9970",
           "#3D9970",
           "#3D9970",
           "#3D9970",
           "#3D9970",
           "#3D9970",
           "#3D9970",
           "#3D9970",
           "#3D9970",
           "#3D9970",
           "#3D9970",
           "#3D9970",
           "#3D9970",
           "#3D9970",
           "#3D9970",
           "#3D9970",
           "#3D9970",
           "#3D9970",
           "#3D9970",
           "#3D9970",
           "#3D9970",
           "#3D9970",
           "#3D9970",
           "#3D9970",
           "#3D9970",
           "#3D9970",
           "#3D9970",
           "#3D9970",
           "#3D9970",
           "#3D9970",
           "#3D9970",
           "#3D9970",
           "#3D9970",
           "#3D9970",
           "#3D9970",
           "#3D9970",
           "#3D9970",
           "#3D9970",
           "#3D9970"
          ]
         },
         "name": "",
         "parents": [
          "",
          "",
          "",
          "",
          "",
          "",
          "",
          "",
          "",
          "",
          "",
          "",
          "",
          "",
          "",
          "",
          "",
          "",
          "",
          "",
          "",
          "",
          "",
          "",
          "",
          "",
          "",
          "",
          "",
          "",
          "",
          "",
          "",
          "",
          "",
          "",
          "",
          "",
          "",
          "",
          "",
          "",
          "",
          "",
          "",
          "",
          "",
          "",
          "",
          "",
          "",
          "",
          "",
          "",
          "",
          "",
          "",
          "",
          "",
          "",
          "",
          "",
          "",
          "",
          "",
          "",
          "",
          "",
          "",
          "",
          "",
          "",
          "",
          "",
          "",
          "",
          "",
          "",
          "",
          "",
          "",
          "",
          "",
          "",
          "",
          "",
          "",
          "",
          "",
          "",
          "",
          "",
          "",
          "",
          "",
          "",
          "",
          "",
          "",
          "",
          "",
          "",
          "",
          "",
          "",
          "",
          "",
          "",
          "",
          "",
          "",
          "",
          "",
          "",
          "",
          "",
          "",
          "",
          "",
          "",
          "",
          "",
          "",
          "",
          "",
          "",
          "",
          "",
          "",
          "",
          "",
          "",
          "",
          "",
          "",
          "",
          "",
          "",
          "",
          "",
          "",
          "",
          "",
          "",
          "",
          "",
          "",
          "",
          "",
          "",
          "",
          "",
          "",
          "",
          "",
          "",
          "",
          "",
          "",
          "",
          "",
          "",
          "",
          "",
          "",
          "",
          "",
          "",
          "",
          "",
          "",
          "",
          "",
          "",
          "",
          "",
          "",
          "",
          "",
          "",
          "",
          "",
          "",
          "",
          "",
          "",
          "",
          "",
          "",
          "",
          "",
          "",
          "",
          "",
          "",
          "",
          "",
          "",
          "",
          "",
          "",
          "",
          "",
          "",
          "",
          "",
          "",
          "",
          "",
          "",
          "",
          "",
          "",
          "",
          "",
          "",
          "",
          "",
          "",
          "",
          "",
          "",
          "",
          "",
          "",
          "",
          "",
          "",
          "",
          "",
          "",
          "",
          "",
          "",
          "",
          "",
          "",
          "",
          "",
          "",
          "",
          "",
          "",
          "",
          "",
          "",
          "",
          "",
          "",
          "",
          "",
          "",
          "",
          "",
          "",
          "",
          "",
          "",
          "",
          "",
          "",
          "",
          "",
          "",
          "",
          "",
          "",
          "",
          "",
          "",
          "",
          "",
          "",
          "",
          "",
          "",
          "",
          "",
          "",
          "",
          "",
          "",
          "",
          "",
          "",
          "",
          "",
          "",
          "",
          "",
          "",
          "",
          "",
          "",
          "",
          "",
          "",
          "",
          "",
          "",
          "",
          "",
          "",
          "",
          "",
          "",
          "",
          "",
          "",
          "",
          "",
          "",
          "",
          "",
          "",
          "",
          "",
          "",
          "",
          "",
          "",
          "",
          "",
          "",
          "",
          "",
          "",
          "",
          "",
          "",
          "",
          "",
          "",
          "",
          "",
          "",
          "",
          "",
          "",
          "",
          "",
          "",
          "",
          "",
          "",
          "",
          "",
          "",
          "",
          "",
          "",
          "",
          "",
          "",
          "",
          "",
          "",
          "",
          "",
          "",
          "",
          "",
          "",
          "",
          "",
          "",
          "",
          "",
          "",
          "",
          "",
          "",
          "",
          "",
          "",
          "",
          "",
          "",
          "",
          "",
          "",
          "",
          "",
          "",
          "",
          "",
          "",
          "",
          "",
          "",
          "",
          "",
          "",
          "",
          "",
          "",
          "",
          "",
          "",
          "",
          "",
          "",
          "",
          "",
          "",
          "",
          "",
          "",
          "",
          "",
          "",
          "",
          "",
          "",
          "",
          "",
          "",
          "",
          "",
          "",
          "",
          "",
          "",
          "",
          "",
          "",
          "",
          "",
          "",
          "",
          "",
          "",
          ""
         ],
         "type": "treemap",
         "values": [
          264377481.4615,
          8973338.05558,
          255974896.52977002,
          357358154.754091,
          369878449.19519997,
          471390849.03598994,
          90139047.4908,
          348471962.39239997,
          44291729.941700004,
          1246405297.93501,
          24886899.3125,
          10877575.05192,
          50581302.65039,
          899029179.84941,
          352813579.387746,
          46508228.56325,
          25020282.262399998,
          578854361.16682,
          12482356.451200001,
          91511023.583839,
          24095797.249600004,
          19633344.74051,
          20482451.68208,
          53370198.4022,
          23001816.388400003,
          46437761.179469995,
          36180152.3098,
          15703468.760220002,
          513522343.14390993,
          47257071.768800005,
          78170575.25536999,
          40762233.222200006,
          65775193.624000005,
          145542469.88836,
          28019700.8899,
          60287544.01605,
          22356848.334829997,
          119654299.48130001,
          27026161.7386,
          13860516.738400001,
          55846457.331589006,
          568354985.9442,
          27816948.612350002,
          16012687.90536,
          167318427.77881002,
          930305481.00241,
          42384511.1463,
          43177532.120859995,
          19343952.508994002,
          107498844.10298,
          899006035.8221993,
          1198913576.21778,
          27990650.824999996,
          24151046.966300003,
          378394212.77419996,
          11110642.789220002,
          1967415238.56575,
          14903370.3952184,
          511309667.2274,
          497787670.62869996,
          33083741.016400002,
          12960852.32751,
          20279212.2564,
          101922134.90876001,
          98377428.2919,
          182472679.35961,
          70972854.33183,
          139415213.23215,
          309486395.0328,
          436395107.35040003,
          29095246.735929996,
          81305606.827536,
          17617741.483289998,
          38125101.444,
          91010120.0032,
          72485043.25511,
          129595032.56704,
          1119320507.467,
          19398411.9596,
          23861720.949300002,
          13143017.773599999,
          31238272.61702,
          920059337.22658,
          26093403.41025,
          11791653.030760001,
          746085251.0490999,
          8968419.63428,
          63810505.640099995,
          72012920.16928,
          17880161.3858,
          28947458.534149997,
          102901545.60674201,
          40879629.92904599,
          74968833.241173,
          10509727.01602,
          16603590.41558,
          15567763.603799999,
          378556937.1982,
          79986893.271704,
          260856671.70970005,
          921896116.97125,
          57904685.49666999,
          1585098225.92195,
          63371579.78381999,
          10603908.9742,
          104662033.053513,
          16500158.57968,
          39432185.5571,
          79022676.8005,
          49457302.8709,
          150785259.4227,
          75404829.92727399,
          47484822.997595996,
          3048384813.302,
          64795372.09300001,
          20060452.873800002,
          248919594.2324174,
          889576482.5070701,
          18663345.27342,
          1922647122.78683,
          512053534.7147,
          393706363.54972005,
          20650797.93513,
          27196228.022019997,
          13808341.82682,
          47184466.12356,
          56323142.860700004,
          109155754.98435,
          1425249547.0300398,
          47007193.60167,
          34859589.2084,
          77881529.44669999,
          36998585.45223,
          34491503.8442,
          47618311.671,
          12100072.289,
          21491419.9703114,
          25600447.020630002,
          81469979.7051,
          150702503.14202,
          415027576.45589,
          96692996.48609999,
          81435195.38870001,
          91064006.93116198,
          25551024.137700003,
          1260765839.8869002,
          2443894133.89717,
          432943565.7559,
          12788468.78788,
          10367824586.68902,
          611591147.916067,
          15212789.546427,
          45777089.366840005,
          25973133982.4436,
          60914829.38509999,
          6317353.96534,
          15230144.07272,
          172862990.34467003,
          353638630.61806,
          40049654.6163,
          23112793.0244,
          6542683.9004,
          8713632.5914,
          197936091.86387998,
          73378511.69354,
          17579151.9446,
          716782789.5667201,
          130300059.40599999,
          76509392.941065,
          68791737.5518,
          54637246.35237,
          21550207.45177,
          22574173.065239996,
          9321994.41031,
          24919214.245920002,
          341090601.089499,
          36505763.4302274,
          1303241745.6462,
          112130251.17237002,
          1106466850.99649,
          37667403.798999995,
          8468548.79108,
          636083318.72701,
          21196995.4729,
          68119903.5185,
          27654023.017440002,
          73144155.89798,
          145247642.1755,
          840204015.7903,
          378181045.1992,
          14147897.75397,
          5404444529.664021,
          138122133.6487,
          151199588.98615003,
          35347362.77551,
          29747762.372199997,
          16580670.0957,
          10125597.27189,
          98506100.50558999,
          88571401.35186,
          50021978.8751,
          59494092.36548,
          23660494.5355,
          19657963.691359997,
          2359769960.479,
          48497266.36944,
          43226247.13476001,
          56789732.753699996,
          16181992.301900001,
          161983997.5346,
          30656410.3341,
          40099341.796003,
          109501070.58311,
          2568691968.01889,
          34804136.11231,
          27151559.27465,
          21121742.154349998,
          42703984.0707,
          33802760.305,
          95478029.94856,
          45909036.94863899,
          124094986.142,
          131207183.64759001,
          1909932321.767,
          10948195.044200001,
          14571889.47808,
          57555005.96541,
          189073326.10876098,
          25136817.518997,
          893243872.3574,
          45530850.1289,
          33217321.456470005,
          10865801.567864,
          261500235.6028,
          167328434.41033003,
          25952185.028049,
          79576559.52190001,
          23462009.5057,
          121454055.60961,
          30290898.576518998,
          54952647.372810006,
          71695072.61957,
          26970516.67114,
          83495855.35170001,
          46946124.3672,
          155305991.74389997,
          49160694.8484,
          144706135619.4563,
          12508261.10394,
          39642594.543,
          126782141.04611,
          117825425.98746002,
          45963743.1721,
          331516615.31722003,
          2713826917.1879,
          12024360.77693,
          151931225.33091,
          89900528.02787401,
          17652028.041883003,
          2686799599.438,
          74512834.6369593,
          53815658.7258,
          73482430.72914001,
          19528504.08215,
          28060834.703682303,
          794685606.5565609,
          188275455.79058918,
          36730998.6506,
          9277969303.541147,
          55520957.50141,
          257727367.36584,
          36013437.2581904,
          32497315.904900003,
          449584776.19574296,
          115002597.8508,
          47173846.588,
          54799050.2431,
          137749507.307319,
          325141544.5836399,
          68208544.28277999,
          22244847.3527,
          15814239.667460002,
          117318247.8666,
          20845222.74726,
          15852442.832700001,
          145384115.26029998,
          99049876.00946999,
          810771731.38541,
          612827831.4393901,
          20445449.5511,
          58791768.0413,
          34182360.32801,
          364820988.97185,
          1099832903.28117,
          8302402.8573900005,
          35301962.47541,
          52329719.4335,
          21146777.565399997,
          420912578.57124996,
          35711086.29289,
          21094453.18819,
          155605900.6795,
          26405984.26234,
          57437687.79828,
          96553276.63049999,
          8204290.86094,
          1037374366.8544,
          14683669.12247,
          43381690.14475,
          25641769.22924,
          126168346.28805201,
          702379790.1685,
          11826420.74573,
          4517508709.64735,
          128189642422.64758,
          764413090.7826699,
          596919939.5659901,
          13449373.967139998,
          106081162.916548,
          23748121.33983,
          76554601.27784,
          9094625.8165,
          18542770.60314,
          82479053.0457,
          105219196.19909999,
          27329416.117399998,
          93596712.32409999,
          127363802.17842999,
          120449925.9383,
          473902123.94693995,
          248993040.40080997,
          19722922.43457,
          94054645.66165,
          21920940.26237,
          9964081.644000001,
          30595967.8886,
          12326020.94576,
          454022545.98866,
          34000098.37841,
          19267817.56604,
          12120644.3661,
          11656908.1881,
          25461099.939095,
          245655088.02449998,
          498399201.423271,
          55438967.7796,
          350616587.42257607,
          1249295567.4573,
          35684762.53998839,
          91534492.82284991,
          4348111871.26727,
          257050711.5109,
          11287256.540307,
          8433472.5781,
          8250626.0797,
          46752119.4641,
          26153728.446739,
          806916312.8624,
          42221479.258299,
          9511244.140600001,
          70440259.90209,
          24285476.09653,
          21407295.993529998,
          126893443.60849999,
          33815561.2453,
          18626810.5334,
          34351488.98768,
          4341025121.85749,
          259157434.487,
          2185450463.9384003,
          509576475.61875,
          54599123.199,
          17252436.6424,
          15233238.045799999,
          27937548.820240002,
          72834714.77349,
          32023903.801960003,
          306083947.5035,
          171075159.71629998,
          70364927.818266,
          996321124.17479,
          450750621.68848604,
          230555419.73990002,
          77778881.7635,
          80809904.37774,
          328913129.93214,
          94062801.87507,
          878431169.6728,
          22042089.074102998,
          120607283.70812,
          751731594.42835,
          103863399.08140002,
          719521233.40248,
          103714505.0861,
          460950466.89273006,
          112266548.31988001,
          182083241.39387,
          375506781.97427,
          419457741.17423004,
          130517904.10305,
          34097230.453099996,
          20000205.3121,
          1617471882.5421,
          38367590.57112999,
          180109306.82756,
          129237497.1482,
          112692471.26989001,
          12932677.07367,
          16528686.191185001,
          113699621.77914,
          43906432.39275,
          25981547.702700004,
          93706559.26978,
          1229001089.81723,
          1480061718.6608598,
          124517399.52344,
          705721769.2402501,
          71662161.2147,
          388294011.77895,
          30952724.370300002,
          104941010.47048001,
          7870687240.066193,
          100163410.73826,
          31753403.64516,
          27641610.745255,
          509062923.3975,
          21865178.9454,
          283150252.20594996,
          792458581.396486,
          56248039.105818994,
          30698730.157870002,
          84557201.48227,
          62977393.95695001
         ]
        }
       ],
       "layout": {
        "annotations": [
         {
          "font": {
           "size": 12
          },
          "showarrow": false,
          "text": "Color indicates daily performance: <span style='color:#3D9970'>Green = Positive</span>, <span style='color:#FF4136'>Red = Negative</span>",
          "x": 0.5,
          "xref": "paper",
          "y": 1.05,
          "yref": "paper"
         }
        ],
        "coloraxis": {
         "showscale": false
        },
        "height": 800,
        "legend": {
         "tracegroupgap": 0
        },
        "margin": {
         "b": 25,
         "l": 25,
         "r": 25,
         "t": 80
        },
        "template": {
         "data": {
          "bar": [
           {
            "error_x": {
             "color": "#f2f5fa"
            },
            "error_y": {
             "color": "#f2f5fa"
            },
            "marker": {
             "line": {
              "color": "rgb(17,17,17)",
              "width": 0.5
             },
             "pattern": {
              "fillmode": "overlay",
              "size": 10,
              "solidity": 0.2
             }
            },
            "type": "bar"
           }
          ],
          "barpolar": [
           {
            "marker": {
             "line": {
              "color": "rgb(17,17,17)",
              "width": 0.5
             },
             "pattern": {
              "fillmode": "overlay",
              "size": 10,
              "solidity": 0.2
             }
            },
            "type": "barpolar"
           }
          ],
          "carpet": [
           {
            "aaxis": {
             "endlinecolor": "#A2B1C6",
             "gridcolor": "#506784",
             "linecolor": "#506784",
             "minorgridcolor": "#506784",
             "startlinecolor": "#A2B1C6"
            },
            "baxis": {
             "endlinecolor": "#A2B1C6",
             "gridcolor": "#506784",
             "linecolor": "#506784",
             "minorgridcolor": "#506784",
             "startlinecolor": "#A2B1C6"
            },
            "type": "carpet"
           }
          ],
          "choropleth": [
           {
            "colorbar": {
             "outlinewidth": 0,
             "ticks": ""
            },
            "type": "choropleth"
           }
          ],
          "contour": [
           {
            "colorbar": {
             "outlinewidth": 0,
             "ticks": ""
            },
            "colorscale": [
             [
              0,
              "#0d0887"
             ],
             [
              0.1111111111111111,
              "#46039f"
             ],
             [
              0.2222222222222222,
              "#7201a8"
             ],
             [
              0.3333333333333333,
              "#9c179e"
             ],
             [
              0.4444444444444444,
              "#bd3786"
             ],
             [
              0.5555555555555556,
              "#d8576b"
             ],
             [
              0.6666666666666666,
              "#ed7953"
             ],
             [
              0.7777777777777778,
              "#fb9f3a"
             ],
             [
              0.8888888888888888,
              "#fdca26"
             ],
             [
              1,
              "#f0f921"
             ]
            ],
            "type": "contour"
           }
          ],
          "contourcarpet": [
           {
            "colorbar": {
             "outlinewidth": 0,
             "ticks": ""
            },
            "type": "contourcarpet"
           }
          ],
          "heatmap": [
           {
            "colorbar": {
             "outlinewidth": 0,
             "ticks": ""
            },
            "colorscale": [
             [
              0,
              "#0d0887"
             ],
             [
              0.1111111111111111,
              "#46039f"
             ],
             [
              0.2222222222222222,
              "#7201a8"
             ],
             [
              0.3333333333333333,
              "#9c179e"
             ],
             [
              0.4444444444444444,
              "#bd3786"
             ],
             [
              0.5555555555555556,
              "#d8576b"
             ],
             [
              0.6666666666666666,
              "#ed7953"
             ],
             [
              0.7777777777777778,
              "#fb9f3a"
             ],
             [
              0.8888888888888888,
              "#fdca26"
             ],
             [
              1,
              "#f0f921"
             ]
            ],
            "type": "heatmap"
           }
          ],
          "heatmapgl": [
           {
            "colorbar": {
             "outlinewidth": 0,
             "ticks": ""
            },
            "colorscale": [
             [
              0,
              "#0d0887"
             ],
             [
              0.1111111111111111,
              "#46039f"
             ],
             [
              0.2222222222222222,
              "#7201a8"
             ],
             [
              0.3333333333333333,
              "#9c179e"
             ],
             [
              0.4444444444444444,
              "#bd3786"
             ],
             [
              0.5555555555555556,
              "#d8576b"
             ],
             [
              0.6666666666666666,
              "#ed7953"
             ],
             [
              0.7777777777777778,
              "#fb9f3a"
             ],
             [
              0.8888888888888888,
              "#fdca26"
             ],
             [
              1,
              "#f0f921"
             ]
            ],
            "type": "heatmapgl"
           }
          ],
          "histogram": [
           {
            "marker": {
             "pattern": {
              "fillmode": "overlay",
              "size": 10,
              "solidity": 0.2
             }
            },
            "type": "histogram"
           }
          ],
          "histogram2d": [
           {
            "colorbar": {
             "outlinewidth": 0,
             "ticks": ""
            },
            "colorscale": [
             [
              0,
              "#0d0887"
             ],
             [
              0.1111111111111111,
              "#46039f"
             ],
             [
              0.2222222222222222,
              "#7201a8"
             ],
             [
              0.3333333333333333,
              "#9c179e"
             ],
             [
              0.4444444444444444,
              "#bd3786"
             ],
             [
              0.5555555555555556,
              "#d8576b"
             ],
             [
              0.6666666666666666,
              "#ed7953"
             ],
             [
              0.7777777777777778,
              "#fb9f3a"
             ],
             [
              0.8888888888888888,
              "#fdca26"
             ],
             [
              1,
              "#f0f921"
             ]
            ],
            "type": "histogram2d"
           }
          ],
          "histogram2dcontour": [
           {
            "colorbar": {
             "outlinewidth": 0,
             "ticks": ""
            },
            "colorscale": [
             [
              0,
              "#0d0887"
             ],
             [
              0.1111111111111111,
              "#46039f"
             ],
             [
              0.2222222222222222,
              "#7201a8"
             ],
             [
              0.3333333333333333,
              "#9c179e"
             ],
             [
              0.4444444444444444,
              "#bd3786"
             ],
             [
              0.5555555555555556,
              "#d8576b"
             ],
             [
              0.6666666666666666,
              "#ed7953"
             ],
             [
              0.7777777777777778,
              "#fb9f3a"
             ],
             [
              0.8888888888888888,
              "#fdca26"
             ],
             [
              1,
              "#f0f921"
             ]
            ],
            "type": "histogram2dcontour"
           }
          ],
          "mesh3d": [
           {
            "colorbar": {
             "outlinewidth": 0,
             "ticks": ""
            },
            "type": "mesh3d"
           }
          ],
          "parcoords": [
           {
            "line": {
             "colorbar": {
              "outlinewidth": 0,
              "ticks": ""
             }
            },
            "type": "parcoords"
           }
          ],
          "pie": [
           {
            "automargin": true,
            "type": "pie"
           }
          ],
          "scatter": [
           {
            "marker": {
             "line": {
              "color": "#283442"
             }
            },
            "type": "scatter"
           }
          ],
          "scatter3d": [
           {
            "line": {
             "colorbar": {
              "outlinewidth": 0,
              "ticks": ""
             }
            },
            "marker": {
             "colorbar": {
              "outlinewidth": 0,
              "ticks": ""
             }
            },
            "type": "scatter3d"
           }
          ],
          "scattercarpet": [
           {
            "marker": {
             "colorbar": {
              "outlinewidth": 0,
              "ticks": ""
             }
            },
            "type": "scattercarpet"
           }
          ],
          "scattergeo": [
           {
            "marker": {
             "colorbar": {
              "outlinewidth": 0,
              "ticks": ""
             }
            },
            "type": "scattergeo"
           }
          ],
          "scattergl": [
           {
            "marker": {
             "line": {
              "color": "#283442"
             }
            },
            "type": "scattergl"
           }
          ],
          "scattermapbox": [
           {
            "marker": {
             "colorbar": {
              "outlinewidth": 0,
              "ticks": ""
             }
            },
            "type": "scattermapbox"
           }
          ],
          "scatterpolar": [
           {
            "marker": {
             "colorbar": {
              "outlinewidth": 0,
              "ticks": ""
             }
            },
            "type": "scatterpolar"
           }
          ],
          "scatterpolargl": [
           {
            "marker": {
             "colorbar": {
              "outlinewidth": 0,
              "ticks": ""
             }
            },
            "type": "scatterpolargl"
           }
          ],
          "scatterternary": [
           {
            "marker": {
             "colorbar": {
              "outlinewidth": 0,
              "ticks": ""
             }
            },
            "type": "scatterternary"
           }
          ],
          "surface": [
           {
            "colorbar": {
             "outlinewidth": 0,
             "ticks": ""
            },
            "colorscale": [
             [
              0,
              "#0d0887"
             ],
             [
              0.1111111111111111,
              "#46039f"
             ],
             [
              0.2222222222222222,
              "#7201a8"
             ],
             [
              0.3333333333333333,
              "#9c179e"
             ],
             [
              0.4444444444444444,
              "#bd3786"
             ],
             [
              0.5555555555555556,
              "#d8576b"
             ],
             [
              0.6666666666666666,
              "#ed7953"
             ],
             [
              0.7777777777777778,
              "#fb9f3a"
             ],
             [
              0.8888888888888888,
              "#fdca26"
             ],
             [
              1,
              "#f0f921"
             ]
            ],
            "type": "surface"
           }
          ],
          "table": [
           {
            "cells": {
             "fill": {
              "color": "#506784"
             },
             "line": {
              "color": "rgb(17,17,17)"
             }
            },
            "header": {
             "fill": {
              "color": "#2a3f5f"
             },
             "line": {
              "color": "rgb(17,17,17)"
             }
            },
            "type": "table"
           }
          ]
         },
         "layout": {
          "annotationdefaults": {
           "arrowcolor": "#f2f5fa",
           "arrowhead": 0,
           "arrowwidth": 1
          },
          "autotypenumbers": "strict",
          "coloraxis": {
           "colorbar": {
            "outlinewidth": 0,
            "ticks": ""
           }
          },
          "colorscale": {
           "diverging": [
            [
             0,
             "#8e0152"
            ],
            [
             0.1,
             "#c51b7d"
            ],
            [
             0.2,
             "#de77ae"
            ],
            [
             0.3,
             "#f1b6da"
            ],
            [
             0.4,
             "#fde0ef"
            ],
            [
             0.5,
             "#f7f7f7"
            ],
            [
             0.6,
             "#e6f5d0"
            ],
            [
             0.7,
             "#b8e186"
            ],
            [
             0.8,
             "#7fbc41"
            ],
            [
             0.9,
             "#4d9221"
            ],
            [
             1,
             "#276419"
            ]
           ],
           "sequential": [
            [
             0,
             "#0d0887"
            ],
            [
             0.1111111111111111,
             "#46039f"
            ],
            [
             0.2222222222222222,
             "#7201a8"
            ],
            [
             0.3333333333333333,
             "#9c179e"
            ],
            [
             0.4444444444444444,
             "#bd3786"
            ],
            [
             0.5555555555555556,
             "#d8576b"
            ],
            [
             0.6666666666666666,
             "#ed7953"
            ],
            [
             0.7777777777777778,
             "#fb9f3a"
            ],
            [
             0.8888888888888888,
             "#fdca26"
            ],
            [
             1,
             "#f0f921"
            ]
           ],
           "sequentialminus": [
            [
             0,
             "#0d0887"
            ],
            [
             0.1111111111111111,
             "#46039f"
            ],
            [
             0.2222222222222222,
             "#7201a8"
            ],
            [
             0.3333333333333333,
             "#9c179e"
            ],
            [
             0.4444444444444444,
             "#bd3786"
            ],
            [
             0.5555555555555556,
             "#d8576b"
            ],
            [
             0.6666666666666666,
             "#ed7953"
            ],
            [
             0.7777777777777778,
             "#fb9f3a"
            ],
            [
             0.8888888888888888,
             "#fdca26"
            ],
            [
             1,
             "#f0f921"
            ]
           ]
          },
          "colorway": [
           "#636efa",
           "#EF553B",
           "#00cc96",
           "#ab63fa",
           "#FFA15A",
           "#19d3f3",
           "#FF6692",
           "#B6E880",
           "#FF97FF",
           "#FECB52"
          ],
          "font": {
           "color": "#f2f5fa"
          },
          "geo": {
           "bgcolor": "rgb(17,17,17)",
           "lakecolor": "rgb(17,17,17)",
           "landcolor": "rgb(17,17,17)",
           "showlakes": true,
           "showland": true,
           "subunitcolor": "#506784"
          },
          "hoverlabel": {
           "align": "left"
          },
          "hovermode": "closest",
          "mapbox": {
           "style": "dark"
          },
          "paper_bgcolor": "rgb(17,17,17)",
          "plot_bgcolor": "rgb(17,17,17)",
          "polar": {
           "angularaxis": {
            "gridcolor": "#506784",
            "linecolor": "#506784",
            "ticks": ""
           },
           "bgcolor": "rgb(17,17,17)",
           "radialaxis": {
            "gridcolor": "#506784",
            "linecolor": "#506784",
            "ticks": ""
           }
          },
          "scene": {
           "xaxis": {
            "backgroundcolor": "rgb(17,17,17)",
            "gridcolor": "#506784",
            "gridwidth": 2,
            "linecolor": "#506784",
            "showbackground": true,
            "ticks": "",
            "zerolinecolor": "#C8D4E3"
           },
           "yaxis": {
            "backgroundcolor": "rgb(17,17,17)",
            "gridcolor": "#506784",
            "gridwidth": 2,
            "linecolor": "#506784",
            "showbackground": true,
            "ticks": "",
            "zerolinecolor": "#C8D4E3"
           },
           "zaxis": {
            "backgroundcolor": "rgb(17,17,17)",
            "gridcolor": "#506784",
            "gridwidth": 2,
            "linecolor": "#506784",
            "showbackground": true,
            "ticks": "",
            "zerolinecolor": "#C8D4E3"
           }
          },
          "shapedefaults": {
           "line": {
            "color": "#f2f5fa"
           }
          },
          "sliderdefaults": {
           "bgcolor": "#C8D4E3",
           "bordercolor": "rgb(17,17,17)",
           "borderwidth": 1,
           "tickwidth": 0
          },
          "ternary": {
           "aaxis": {
            "gridcolor": "#506784",
            "linecolor": "#506784",
            "ticks": ""
           },
           "baxis": {
            "gridcolor": "#506784",
            "linecolor": "#506784",
            "ticks": ""
           },
           "bgcolor": "rgb(17,17,17)",
           "caxis": {
            "gridcolor": "#506784",
            "linecolor": "#506784",
            "ticks": ""
           }
          },
          "title": {
           "x": 0.05
          },
          "updatemenudefaults": {
           "bgcolor": "#506784",
           "borderwidth": 0
          },
          "xaxis": {
           "automargin": true,
           "gridcolor": "#283442",
           "linecolor": "#506784",
           "ticks": "",
           "title": {
            "standoff": 15
           },
           "zerolinecolor": "#283442",
           "zerolinewidth": 2
          },
          "yaxis": {
           "automargin": true,
           "gridcolor": "#283442",
           "linecolor": "#506784",
           "ticks": "",
           "title": {
            "standoff": 15
           },
           "zerolinecolor": "#283442",
           "zerolinewidth": 2
          }
         }
        },
        "title": {
         "text": "All Cryptocurrencies by Trading Volume (USDT) - Colored by Weekly Performance"
        },
        "uniformtext": {
         "minsize": 10,
         "mode": "hide"
        },
        "width": 1200
       }
      }
     },
     "metadata": {},
     "output_type": "display_data"
    }
   ],
   "source": [
    "# Prepare combined performance and volume data\n",
    "treemap_data = []\n",
    "for symbol in returns_data.keys():\n",
    "    weekly_return = sum(returns_data[symbol])\n",
    "    weekly_volume = sum(volume_data.get(symbol, [0]))\n",
    "    treemap_data.append({\n",
    "        'Symbol': symbol,\n",
    "        'USDT Volume': weekly_volume,\n",
    "        'Weekly Return': weekly_return,\n",
    "        'Performance': 'Positive' if weekly_return >= 0 else 'Negative'\n",
    "    })\n",
    "\n",
    "treemap_df = pd.DataFrame(treemap_data)\n",
    "\n",
    "# Create the treemap\n",
    "fig_volume = px.treemap(\n",
    "    treemap_df,\n",
    "    path=['Symbol'],\n",
    "    values='USDT Volume',\n",
    "    title='All Cryptocurrencies by Trading Volume (USDT) - Colored by Weekly Performance',\n",
    "    color='Performance',\n",
    "    color_discrete_map={'Positive':'#3D9970', 'Negative':'#FF4136'},  # Green and red\n",
    "    hover_data=['Weekly Return', 'USDT Volume'],\n",
    "    hover_name='Symbol',\n",
    "    width=1200,\n",
    "    height=800\n",
    ")\n",
    "\n",
    "# Format hover template\n",
    "fig_volume.update_traces(\n",
    "    hovertemplate=\"<b>%{label}</b><br>\" +\n",
    "                 \"Volume: %{value:,.0f} USDT<br>\" +\n",
    "                 \"Weekly Return: %{customdata[0]:.2f}%<extra></extra>\"\n",
    ")\n",
    "\n",
    "# Customize layout\n",
    "fig_volume.update_layout(\n",
    "    template=\"plotly_dark\",\n",
    "    margin=dict(t=80, l=25, r=25, b=25),\n",
    "    uniformtext=dict(minsize=12, mode='hide'),\n",
    "    coloraxis_showscale=False\n",
    ")\n",
    "\n",
    "# Add annotation about color meaning\n",
    "\n",
    "# Customize layout\n",
    "fig_volume.update_layout(\n",
    "    template=\"plotly_dark\",\n",
    "    margin=dict(t=80, l=25, r=25, b=25),\n",
    "    uniformtext=dict(minsize=10, mode='hide'),\n",
    "    annotations=[\n",
    "        dict(\n",
    "            x=0.5, y=1.05,\n",
    "            xref=\"paper\", yref=\"paper\",\n",
    "            text=\"Color indicates daily performance: <span style='color:#3D9970'>Green = Positive</span>, <span style='color:#FF4136'>Red = Negative</span>\",\n",
    "            showarrow=False,\n",
    "            font=dict(size=12)\n",
    "        )\n",
    "    ]\n",
    ")\n",
    "\n",
    "fig_volume.show()"
   ]
  },
  {
   "cell_type": "code",
   "execution_count": 13,
   "id": "24e942ed",
   "metadata": {},
   "outputs": [
    {
     "data": {
      "application/vnd.plotly.v1+json": {
       "config": {
        "plotlyServerURL": "https://plot.ly"
       },
       "data": [
        {
         "branchvalues": "total",
         "customdata": [
          [
           -12.967782330853275,
           111301833.35700001,
           "Negative"
          ],
          [
           -0.9976383119956423,
           136460985.17351997,
           "Negative"
          ],
          [
           -10.970975099376611,
           27174019.9248,
           "Negative"
          ],
          [
           -0.04373855623399596,
           9608032.5257,
           "Negative"
          ],
          [
           -3.123864307013272,
           19445532.4727,
           "Negative"
          ],
          [
           17.72509193449946,
           21905115.57765,
           "Positive"
          ],
          [
           9.593265103513057,
           8932575.57984,
           "Positive"
          ],
          [
           12.833605338167628,
           2937599.1371999998,
           "Positive"
          ],
          [
           7.33424294294375,
           4763206.555,
           "Positive"
          ],
          [
           10.86562468701463,
           1690863.8579,
           "Positive"
          ],
          [
           11.28793480718536,
           43249570.025,
           "Positive"
          ],
          [
           15.159246206796197,
           70067252.8143,
           "Positive"
          ],
          [
           9.280495928738763,
           62683454.34,
           "Positive"
          ],
          [
           6.564550314355231,
           9120613.4568,
           "Positive"
          ],
          [
           12.932991104217034,
           2592360.5376,
           "Positive"
          ],
          [
           11.304657643280825,
           58723704.358,
           "Positive"
          ],
          [
           10.19082041940105,
           6873029.0736,
           "Positive"
          ],
          [
           11.824017852148748,
           207837336.0396,
           "Positive"
          ],
          [
           9.942247631333911,
           4618961.93202,
           "Positive"
          ],
          [
           8.744488734647868,
           2061406.3878000001,
           "Positive"
          ],
          [
           14.946683051483179,
           10611807.156019999,
           "Positive"
          ],
          [
           11.561564981583167,
           194690768.03840002,
           "Positive"
          ],
          [
           9.346237523593105,
           66602993.19912,
           "Positive"
          ],
          [
           7.013708672422917,
           7046524.64824,
           "Positive"
          ],
          [
           4.969814731465455,
           2690821.1883000005,
           "Positive"
          ],
          [
           14.08409556732358,
           6648585.93,
           "Positive"
          ],
          [
           12.112090019534124,
           7096757.425059999,
           "Positive"
          ],
          [
           14.850763217756525,
           7966052.2722000005,
           "Positive"
          ],
          [
           4.932847760506965,
           33206309.42508,
           "Positive"
          ],
          [
           1.5648683207940783,
           31199198.063380003,
           "Positive"
          ],
          [
           12.556052026899062,
           8062829.95318,
           "Positive"
          ],
          [
           14.070652501033704,
           200760080.1216,
           "Positive"
          ],
          [
           13.491584676790328,
           56038500.160500005,
           "Positive"
          ],
          [
           11.163997114266946,
           1267290.64968,
           "Positive"
          ],
          [
           9.31701329221777,
           4506360.561,
           "Positive"
          ],
          [
           11.41500249006754,
           3395465.74015,
           "Positive"
          ],
          [
           10.697290434384692,
           37396648.971360005,
           "Positive"
          ],
          [
           9.964759101022743,
           6714266.90396,
           "Positive"
          ],
          [
           6.462309130972191,
           4109926.11315,
           "Positive"
          ],
          [
           9.854446602778832,
           8246164.7122,
           "Positive"
          ],
          [
           12.36198979531905,
           144599531.23072,
           "Positive"
          ],
          [
           8.41976024563804,
           11284447.28,
           "Positive"
          ],
          [
           9.018430403020743,
           3853280.4033000004,
           "Positive"
          ],
          [
           10.127530425705626,
           4316897.926,
           "Positive"
          ],
          [
           7.4339027983614425,
           1982369.5624799998,
           "Positive"
          ],
          [
           12.757104202254638,
           4791617.2458,
           "Positive"
          ],
          [
           8.479068766361825,
           2649632.6259,
           "Positive"
          ],
          [
           15.450384952896917,
           9389331.752024,
           "Positive"
          ],
          [
           1.8773745012426537,
           3063751.37776,
           "Positive"
          ],
          [
           15.226921172755276,
           116312215.5678,
           "Positive"
          ],
          [
           17.454100976282678,
           5856544.407000001,
           "Positive"
          ],
          [
           10.7538413520091,
           3273064.22448,
           "Positive"
          ],
          [
           10.655320531406653,
           21231942.46672,
           "Positive"
          ],
          [
           8.036279120608864,
           87923063.73318,
           "Positive"
          ],
          [
           12.599024176426843,
           2210247.9767,
           "Positive"
          ],
          [
           7.402353765373519,
           18878171.924586,
           "Positive"
          ],
          [
           12.635379646570478,
           2186498.38698,
           "Positive"
          ],
          [
           9.364379048353747,
           1983093.9554,
           "Positive"
          ],
          [
           10.533458171158596,
           52894966.28700001,
           "Positive"
          ],
          [
           13.109236702516377,
           12069571.3632,
           "Positive"
          ],
          [
           9.80704943924252,
           19218080.7156,
           "Positive"
          ],
          [
           6.776210210081874,
           71474998.4945,
           "Positive"
          ],
          [
           9.571898269889207,
           5353172.5404,
           "Positive"
          ],
          [
           12.814582269193004,
           2759595.11352,
           "Positive"
          ],
          [
           5.71029607186167,
           195760675.40603998,
           "Positive"
          ],
          [
           7.572677520796764,
           1774759.8375,
           "Positive"
          ],
          [
           11.815392862576306,
           4281773.42183,
           "Positive"
          ],
          [
           22.080077258690185,
           108735952.46801001,
           "Positive"
          ],
          [
           10.968466919772215,
           52647549.6399,
           "Positive"
          ],
          [
           12.053563575230806,
           1731740.88025,
           "Positive"
          ],
          [
           13.917581024419972,
           22129353.2512,
           "Positive"
          ],
          [
           9.571594162770497,
           390763646.84916,
           "Positive"
          ],
          [
           12.645690880116167,
           2510015.4325125,
           "Positive"
          ],
          [
           8.027777502141365,
           91179176.0579,
           "Positive"
          ],
          [
           4.064439828482866,
           150528057.99974,
           "Positive"
          ],
          [
           7.245507921542231,
           43456820.427,
           "Positive"
          ],
          [
           10.55432416924251,
           4782435.04,
           "Positive"
          ],
          [
           7.4762665235177925,
           2616105.70379,
           "Positive"
          ],
          [
           7.744704234099461,
           2223631.4773999997,
           "Positive"
          ],
          [
           12.281331076685946,
           1852833.01938,
           "Positive"
          ],
          [
           5.999924870415188,
           12792032.64087,
           "Positive"
          ],
          [
           3.834620500834872,
           3416360.400819,
           "Positive"
          ],
          [
           12.511884714659693,
           17440941.73703,
           "Positive"
          ],
          [
           7.394859182410466,
           3145619.8581000003,
           "Positive"
          ],
          [
           8.047910305467118,
           3137728.0920700002,
           "Positive"
          ],
          [
           10.330793737343898,
           9381774.66676,
           "Positive"
          ],
          [
           11.425868501634064,
           2828610.0997099997,
           "Positive"
          ],
          [
           10.372375607567154,
           18393135.64956,
           "Positive"
          ],
          [
           12.124204982817437,
           147236850.0117816,
           "Positive"
          ],
          [
           7.051222731248749,
           29312916.859,
           "Positive"
          ],
          [
           11.266883704815573,
           217565959.107,
           "Positive"
          ],
          [
           15.003328041631809,
           3213974.97351,
           "Positive"
          ],
          [
           16.562667822178447,
           53376224.794199996,
           "Positive"
          ],
          [
           8.668675436058221,
           2230524.5760000004,
           "Positive"
          ],
          [
           8.495864223945064,
           1226578.8946399998,
           "Positive"
          ],
          [
           9.529178070955968,
           2858590.4259999995,
           "Positive"
          ],
          [
           15.851557150476486,
           5864239.544070001,
           "Positive"
          ],
          [
           19.484955666617623,
           171127798.31854,
           "Positive"
          ],
          [
           9.594229107695254,
           3451822.5102899997,
           "Positive"
          ],
          [
           6.133225653387093,
           1963638.1422000001,
           "Positive"
          ],
          [
           12.851195957015577,
           149611934.8199,
           "Positive"
          ],
          [
           9.866282829952763,
           9321120.159,
           "Positive"
          ],
          [
           27.39839129545289,
           99227574.94342001,
           "Positive"
          ],
          [
           12.93035148974294,
           14296642.22268,
           "Positive"
          ],
          [
           9.22497336512188,
           8498026.60812,
           "Positive"
          ],
          [
           9.41535990719342,
           2990390.2691,
           "Positive"
          ],
          [
           10.9061314620653,
           4728516.66712,
           "Positive"
          ],
          [
           35.17786579038884,
           390404470.63379997,
           "Positive"
          ],
          [
           11.75374862383295,
           8800000.401239999,
           "Positive"
          ],
          [
           14.15425917472406,
           13280782.03604,
           "Positive"
          ],
          [
           10.840929850718496,
           11995084.43084,
           "Positive"
          ],
          [
           20.958262847892005,
           356551379.74071,
           "Positive"
          ],
          [
           12.39804107049566,
           11053470.02045,
           "Positive"
          ],
          [
           11.959512990840087,
           1767206.2763999999,
           "Positive"
          ],
          [
           10.656311175125865,
           20942512.227672,
           "Positive"
          ],
          [
           11.783763422045476,
           2315339.80069,
           "Positive"
          ],
          [
           13.064631288649966,
           8331861.077400001,
           "Positive"
          ],
          [
           11.207292959573035,
           15048826.297679998,
           "Positive"
          ],
          [
           7.844551838654633,
           6572239.2360000005,
           "Positive"
          ],
          [
           12.815128599356699,
           19466335.531499997,
           "Positive"
          ],
          [
           6.535518104412705,
           10519137.769000001,
           "Positive"
          ],
          [
           9.777647674050812,
           5243494.30697,
           "Positive"
          ],
          [
           8.267141117351551,
           465343704.888,
           "Positive"
          ],
          [
           6.089720081107502,
           2974284.0360999997,
           "Positive"
          ],
          [
           22.533001139254146,
           74515216.91908,
           "Positive"
          ],
          [
           3.6388323914032994,
           66595397.97492,
           "Positive"
          ],
          [
           15.471813881611709,
           46383185.531838,
           "Positive"
          ],
          [
           8.004270767353656,
           7860514.76184,
           "Positive"
          ],
          [
           3.45370421957255,
           154560446.75136,
           "Positive"
          ],
          [
           12.609138535982714,
           3683716.04988,
           "Positive"
          ],
          [
           6.164852188702584,
           327440725.34268,
           "Positive"
          ],
          [
           9.428809036185024,
           72279114.7793,
           "Positive"
          ],
          [
           6.275121056347545,
           62800783.515080005,
           "Positive"
          ],
          [
           8.898789658790722,
           8284937.134000001,
           "Positive"
          ],
          [
           7.986504044378946,
           2067731.013908,
           "Positive"
          ],
          [
           15.363973712688098,
           7935768.37485,
           "Positive"
          ],
          [
           12.398224844466894,
           12491547.750400001,
           "Positive"
          ],
          [
           14.373720026262756,
           16735462.11704,
           "Positive"
          ],
          [
           3.371966971657118,
           102093219.2698,
           "Positive"
          ],
          [
           9.356216887116862,
           7773171.77964,
           "Positive"
          ],
          [
           11.214568906399723,
           4805360.1018,
           "Positive"
          ],
          [
           8.405934532554866,
           13156490.98728,
           "Positive"
          ],
          [
           8.440078812483497,
           15200575.5696,
           "Positive"
          ],
          [
           8.388449530780893,
           5648518.288349999,
           "Positive"
          ],
          [
           10.061956536229555,
           6060268.007699999,
           "Positive"
          ],
          [
           8.14799523764006,
           8162555.424000001,
           "Positive"
          ],
          [
           7.962338104810445,
           1992327.8924,
           "Positive"
          ],
          [
           10.80951167632915,
           3462658.7602586,
           "Positive"
          ],
          [
           7.208572677295412,
           19062805.518400002,
           "Positive"
          ],
          [
           6.7884398171205325,
           2058448339.6160002,
           "Positive"
          ],
          [
           4.432795161107523,
           27093418.75796,
           "Positive"
          ],
          [
           7.1273433965344895,
           72441463.62816,
           "Positive"
          ],
          [
           11.83029212932556,
           14004074.35089,
           "Positive"
          ],
          [
           13.845056794416037,
           13498774.51732,
           "Positive"
          ],
          [
           11.459514282568751,
           14210859.783871999,
           "Positive"
          ],
          [
           11.739309609207416,
           3720334.8986000004,
           "Positive"
          ],
          [
           11.006130175033405,
           183664475.148,
           "Positive"
          ],
          [
           18.758714225555842,
           500730509.77096,
           "Positive"
          ],
          [
           7.345352186858299,
           39175083.458000004,
           "Positive"
          ],
          [
           7.93004089879613,
           1890562.238,
           "Positive"
          ],
          [
           17.42198222988467,
           3359637.3907,
           "Positive"
          ],
          [
           9.340117508840079,
           3822632.3356199996,
           "Positive"
          ],
          [
           11.41825900320763,
           2505903.73088,
           "Positive"
          ],
          [
           12.43820503926245,
           134119617.87979999,
           "Positive"
          ],
          [
           7.3955660829080605,
           13925665.8093,
           "Positive"
          ],
          [
           8.036654187325762,
           4639284.75125,
           "Positive"
          ],
          [
           4.389155938916783,
           18790165.463489998,
           "Positive"
          ],
          [
           9.258555206333462,
           5207884242.589,
           "Positive"
          ],
          [
           9.602857063981855,
           9450679.490200002,
           "Positive"
          ],
          [
           9.171011046036991,
           986838.2238000002,
           "Positive"
          ],
          [
           8.546015344703168,
           10934507.689,
           "Positive"
          ],
          [
           10.234574098973642,
           2631098.616,
           "Positive"
          ],
          [
           12.093902124551457,
           21644773.4362,
           "Positive"
          ],
          [
           3.2842948932312592,
           22993363.383759998,
           "Positive"
          ],
          [
           16.90763300439339,
           7842132.490499999,
           "Positive"
          ],
          [
           3.893065283576438,
           18449393.819199998,
           "Positive"
          ],
          [
           20.021467830800407,
           328557583.998,
           "Positive"
          ],
          [
           10.847207669304144,
           3954278.2976,
           "Positive"
          ],
          [
           10.529068081719602,
           1145893.5668,
           "Positive"
          ],
          [
           8.996733539382952,
           1224774.7512,
           "Positive"
          ],
          [
           9.590515230439884,
           28696982.39455,
           "Positive"
          ],
          [
           13.117972153722924,
           12480205.3175,
           "Positive"
          ],
          [
           9.088783981645527,
           2974370.333,
           "Positive"
          ],
          [
           8.125960684754144,
           60651783.7356,
           "Positive"
          ],
          [
           9.50907452132384,
           22971106.276,
           "Positive"
          ],
          [
           16.05437723380805,
           14361400.364454,
           "Positive"
          ],
          [
           13.983464585405228,
           9604643.328,
           "Positive"
          ],
          [
           13.658397008178163,
           61884843.34578,
           "Positive"
          ],
          [
           7.826005893672336,
           2722452.19713,
           "Positive"
          ],
          [
           9.113854736632627,
           3160468.5767406,
           "Positive"
          ],
          [
           10.243118364733313,
           12776633.990640001,
           "Positive"
          ],
          [
           8.162749405910791,
           4490541.407939999,
           "Positive"
          ],
          [
           11.169175973224228,
           15925417.1541,
           "Positive"
          ],
          [
           13.639975485882866,
           217115230.29099998,
           "Positive"
          ],
          [
           7.80936606970762,
           6229932.007,
           "Positive"
          ],
          [
           10.178269430994238,
           1574360.3728800002,
           "Positive"
          ],
          [
           12.13694173993362,
           138837724.08587998,
           "Positive"
          ],
          [
           7.255089065857547,
           3771168.123,
           "Positive"
          ],
          [
           15.563284776881417,
           16164949.20872,
           "Positive"
          ],
          [
           7.200749877511391,
           8056891.3164,
           "Positive"
          ],
          [
           8.418429799032696,
           3657193.14195,
           "Positive"
          ],
          [
           12.260232209233248,
           9280081.99014,
           "Positive"
          ],
          [
           12.34622289887452,
           23855397.43,
           "Positive"
          ],
          [
           18.282419565852067,
           106930203.096,
           "Positive"
          ],
          [
           13.724151616927745,
           9099340.845,
           "Positive"
          ],
          [
           3.850971649517726,
           2490920.9455589997,
           "Positive"
          ],
          [
           14.351468444311422,
           1127888705.51819,
           "Positive"
          ],
          [
           11.551613735220446,
           22920862.8558,
           "Positive"
          ],
          [
           11.091689784318408,
           26270436.73131,
           "Positive"
          ],
          [
           12.451753536875016,
           10729340.53632,
           "Positive"
          ],
          [
           10.24229923614465,
           4447494.203,
           "Positive"
          ],
          [
           6.106741139798749,
           2853607.0612,
           "Positive"
          ],
          [
           7.719063664482592,
           1741746.4917,
           "Positive"
          ],
          [
           8.681631212994569,
           14943294.919680001,
           "Positive"
          ],
          [
           14.657317935822409,
           235552454.2331,
           "Positive"
          ],
          [
           8.817969891172549,
           12539595.549,
           "Positive"
          ],
          [
           10.92193398795084,
           4026614.1801,
           "Positive"
          ],
          [
           4.768541244989338,
           10435128.67148,
           "Positive"
          ],
          [
           10.76951225168581,
           25157154.0635,
           "Positive"
          ],
          [
           9.346572800567717,
           3610672.7475,
           "Positive"
          ],
          [
           11.429708637942829,
           8602559.250428,
           "Positive"
          ],
          [
           15.105979546811366,
           11989526.73748,
           "Positive"
          ],
          [
           1.6696336087351482,
           285572155.33782,
           "Positive"
          ],
          [
           11.107448222566475,
           5628959.803950001,
           "Positive"
          ],
          [
           8.790304000011135,
           6204517.371359999,
           "Positive"
          ],
          [
           5.362325332313626,
           7475411.874,
           "Positive"
          ],
          [
           8.328842656110252,
           7143457.64592,
           "Positive"
          ],
          [
           11.942351538513698,
           3833150.5252800006,
           "Positive"
          ],
          [
           13.417190642387206,
           10599229.369099999,
           "Positive"
          ],
          [
           43.312752297165595,
           395693890.285544,
           "Positive"
          ],
          [
           11.284099936707642,
           6410766.0024,
           "Positive"
          ],
          [
           16.165606349662678,
           16151859.0369,
           "Positive"
          ],
          [
           7.595801077040979,
           2656216.71274,
           "Positive"
          ],
          [
           11.333940060684435,
           7883925.7752,
           "Positive"
          ],
          [
           10.073748081705153,
           22709735.216000002,
           "Positive"
          ],
          [
           5.492710015851288,
           13400657.35785,
           "Positive"
          ],
          [
           7.403345477672708,
           4342971.002662,
           "Positive"
          ],
          [
           8.905313542547283,
           370174654.905,
           "Positive"
          ],
          [
           12.234394084937295,
           1695444.6973599999,
           "Positive"
          ],
          [
           17.907655665062745,
           8313166.70145,
           "Positive"
          ],
          [
           7.363175841940146,
           19005846.11717,
           "Positive"
          ],
          [
           13.124218903038813,
           3483043.7675,
           "Positive"
          ],
          [
           8.113021526885099,
           9396666.18812,
           "Positive"
          ],
          [
           24.840041086466496,
           291994513.55108,
           "Positive"
          ],
          [
           13.524726202063208,
           7516607.98785,
           "Positive"
          ],
          [
           17.02518327066242,
           19613145.7872,
           "Positive"
          ],
          [
           7.9169360031357074,
           15281730.74736,
           "Positive"
          ],
          [
           14.279929955530429,
           4547509.55968,
           "Positive"
          ],
          [
           8.82815343587131,
           10484863.60765,
           "Positive"
          ],
          [
           14.486090997640419,
           13248646.97024,
           "Positive"
          ],
          [
           11.726449792114542,
           4507678.1009100005,
           "Positive"
          ],
          [
           8.128263343685695,
           23345271.1474,
           "Positive"
          ],
          [
           11.136982082167025,
           8532054.7104,
           "Positive"
          ],
          [
           7.537584382230812,
           23014169.5478,
           "Positive"
          ],
          [
           11.808574490646254,
           9026410.708,
           "Positive"
          ],
          [
           5.455405519055934,
           14477324.53438,
           "Positive"
          ],
          [
           4.255048860468593,
           31294776196.726902,
           "Positive"
          ],
          [
           10.730473222777714,
           1750840.1642,
           "Positive"
          ],
          [
           4.929061216153773,
           3941700.026,
           "Positive"
          ],
          [
           50.97786128861323,
           107046680.8764,
           "Positive"
          ],
          [
           13.449858612300517,
           3082127.90499,
           "Positive"
          ],
          [
           18.389890965929016,
           12161617.43375,
           "Positive"
          ],
          [
           18.64552335190956,
           21711872.18835,
           "Positive"
          ],
          [
           13.497155417150363,
           31239396.696652003,
           "Positive"
          ],
          [
           6.373457038316683,
           4844572.2241,
           "Positive"
          ],
          [
           3.870711112357275,
           449867229.1116,
           "Positive"
          ],
          [
           2.9992397308661602,
           43251076.7221,
           "Positive"
          ],
          [
           10.753373088084443,
           7225706.781199999,
           "Positive"
          ],
          [
           11.834122713054764,
           8565330.088000001,
           "Positive"
          ],
          [
           12.473368192099347,
           4073641.3328,
           "Positive"
          ],
          [
           9.124084856924961,
           57081043.516559996,
           "Positive"
          ],
          [
           10.779657045570739,
           3059000.7462,
           "Positive"
          ],
          [
           6.495150143157387,
           81067552.47615999,
           "Positive"
          ],
          [
           24.097597568497793,
           116084746.11552002,
           "Positive"
          ],
          [
           7.1611784475670595,
           522530004.1836,
           "Positive"
          ],
          [
           11.761986359107901,
           2022226.7175600003,
           "Positive"
          ],
          [
           6.159464527440335,
           13585898.57352,
           "Positive"
          ],
          [
           7.659895471909871,
           11759596.40874,
           "Positive"
          ],
          [
           9.807916891531827,
           2621639.22176,
           "Positive"
          ],
          [
           12.026772686000523,
           498708109.5659999,
           "Positive"
          ],
          [
           9.27878021965019,
           9943419.6527025,
           "Positive"
          ],
          [
           8.460608418838042,
           9355557.132,
           "Positive"
          ],
          [
           6.95546549086873,
           1834898.5173600002,
           "Positive"
          ],
          [
           7.587363257917379,
           2063525.3812499999,
           "Positive"
          ],
          [
           6.553404137907274,
           1998147.1889240001,
           "Positive"
          ],
          [
           8.771134595217228,
           148544450.198217,
           "Positive"
          ],
          [
           11.74532747300647,
           31670694.9227477,
           "Positive"
          ],
          [
           11.210958347019897,
           5152102.86175,
           "Positive"
          ],
          [
           10.975542994895603,
           1528860071.2869773,
           "Positive"
          ],
          [
           5.643665271153886,
           8519230.7866,
           "Positive"
          ],
          [
           12.346442489269984,
           47548574.02425,
           "Positive"
          ],
          [
           2.8511521545225507,
           7701311.208734999,
           "Positive"
          ],
          [
           14.482066037355656,
           8300432.15076,
           "Positive"
          ],
          [
           13.30604333947433,
           84474971.5761,
           "Positive"
          ],
          [
           22.92517727490863,
           32970305.229399998,
           "Positive"
          ],
          [
           11.824782767032843,
           8223060.6314699985,
           "Positive"
          ],
          [
           2.933883900594112,
           14241642.49346,
           "Positive"
          ],
          [
           9.165151993005423,
           4828934.3312,
           "Positive"
          ],
          [
           16.519130858897586,
           56477547.19765999,
           "Positive"
          ],
          [
           7.271529990953532,
           2927045.0035710004,
           "Positive"
          ],
          [
           9.400441248060035,
           6959287.5856,
           "Positive"
          ],
          [
           8.472566170877391,
           20264977.0524,
           "Positive"
          ],
          [
           10.68274368538386,
           2869992.79265,
           "Positive"
          ],
          [
           8.45072128329965,
           1793379.8475000001,
           "Positive"
          ],
          [
           12.802737872960405,
           25782831.538799997,
           "Positive"
          ],
          [
           17.58906664636642,
           15320586.9916,
           "Positive"
          ],
          [
           11.998206979773956,
           157204246.69351998,
           "Positive"
          ],
          [
           9.400576581204595,
           104042900.61349,
           "Positive"
          ],
          [
           10.20210116742341,
           7002635.8967,
           "Positive"
          ],
          [
           8.894748601649612,
           23056770.542,
           "Positive"
          ],
          [
           9.08037646298345,
           5225003.77178,
           "Positive"
          ],
          [
           7.613536248461659,
           40643020.022539996,
           "Positive"
          ],
          [
           9.314009893100312,
           41699939.51652,
           "Positive"
          ],
          [
           9.675494719750379,
           1798270.91868,
           "Positive"
          ],
          [
           10.423311982251809,
           5198749.1118,
           "Positive"
          ],
          [
           12.153666572483282,
           10331178.0096,
           "Positive"
          ],
          [
           11.165317528084659,
           43221138.22646,
           "Positive"
          ],
          [
           8.969505337204085,
           25213401.5861,
           "Positive"
          ],
          [
           12.546788164294076,
           4866704.7292,
           "Positive"
          ],
          [
           18.931518390043177,
           102090350.09646,
           "Positive"
          ],
          [
           10.463276369077166,
           5574906.10628,
           "Positive"
          ],
          [
           5.05038538502191,
           3010492.14954,
           "Positive"
          ],
          [
           16.698719279384797,
           9029042.36505,
           "Positive"
          ],
          [
           8.530343464447352,
           14365474.8588,
           "Positive"
          ],
          [
           8.843326082252926,
           7725429.642159999,
           "Positive"
          ],
          [
           0,
           0,
           "Positive"
          ],
          [
           10.341833233274729,
           16613153.056967,
           "Positive"
          ],
          [
           7.623229568093592,
           1895439.97164,
           "Positive"
          ],
          [
           27.20356782673142,
           16296294.650973,
           "Positive"
          ],
          [
           11.884208384353963,
           3406617.1271200003,
           "Positive"
          ],
          [
           14.514740357729938,
           16326380.1456,
           "Positive"
          ],
          [
           13.650575798980622,
           3737341.84201,
           "Positive"
          ],
          [
           5.385016027528419,
           1794414.13669,
           "Positive"
          ],
          [
           12.586333520519469,
           106160960.30615999,
           "Positive"
          ],
          [
           22.349754690905225,
           97836003.53241001,
           "Positive"
          ],
          [
           8.806056799826841,
           1823856.4449,
           "Positive"
          ],
          [
           9.695710486144671,
           12430061.8608,
           "Positive"
          ],
          [
           10.732902023049853,
           3877009.4113999996,
           "Positive"
          ],
          [
           10.704149840334138,
           17950809.57277,
           "Positive"
          ],
          [
           17.207585985142998,
           22803841.086,
           "Positive"
          ],
          [
           7.0136429617515885,
           24372917.704239998,
           "Positive"
          ],
          [
           1.1274896672540438,
           22931193.9304,
           "Positive"
          ],
          [
           15.115293007974467,
           41682030.45977,
           "Positive"
          ],
          [
           8.47000006923095,
           3455107.8375,
           "Positive"
          ],
          [
           8.8531904398652,
           13539789.48336,
           "Positive"
          ],
          [
           7.95810401447726,
           4088862.09039,
           "Positive"
          ],
          [
           8.866940845754938,
           1319652.6136,
           "Positive"
          ],
          [
           7.6327236269185,
           4518778.352,
           "Positive"
          ],
          [
           10.448223702737469,
           85951135.69614,
           "Positive"
          ],
          [
           14.31300493547733,
           80872776.512585,
           "Positive"
          ],
          [
           8.131018009056014,
           4272418.30167,
           "Positive"
          ],
          [
           11.506932978478709,
           2991306.0504,
           "Positive"
          ],
          [
           9.268735977962013,
           41195628.44743501,
           "Positive"
          ],
          [
           13.240041342708114,
           28092785.568679996,
           "Positive"
          ],
          [
           11.924799317583854,
           60743642.4222,
           "Positive"
          ],
          [
           10.727256212945187,
           121693363.6536,
           "Positive"
          ],
          [
           15.766518593594197,
           63733234.7346,
           "Positive"
          ],
          [
           6.3976144142713816,
           46317209.5268,
           "Positive"
          ],
          [
           4.391829670619254,
           3881602.6854800005,
           "Positive"
          ],
          [
           9.958398516527273,
           5640532.76286,
           "Positive"
          ],
          [
           1.486295535015897,
           13330245.37062,
           "Positive"
          ],
          [
           15.692907248482552,
           16976681.50143,
           "Positive"
          ],
          [
           16.630915507564502,
           121543807.13384399,
           "Positive"
          ],
          [
           14.368334765498982,
           24120273.03111,
           "Positive"
          ],
          [
           5.889466240175832,
           7018585.17552,
           "Positive"
          ],
          [
           9.289374689269643,
           11315585.6086,
           "Positive"
          ],
          [
           9.913617946347742,
           4051650.0007499997,
           "Positive"
          ],
          [
           11.442149513256677,
           155248412.9824,
           "Positive"
          ],
          [
           10.506505103756481,
           27062150.7552,
           "Positive"
          ],
          [
           14.380274063840313,
           25993272.494200002,
           "Positive"
          ],
          [
           10.854372924124057,
           3406005.9268,
           "Positive"
          ],
          [
           8.436888117489588,
           5683048.50448,
           "Positive"
          ],
          [
           7.410797215372184,
           14625246.0536,
           "Positive"
          ],
          [
           8.587520065013987,
           43313851.532000005,
           "Positive"
          ],
          [
           6.5518700111799335,
           769543152.8909999,
           "Positive"
          ],
          [
           9.481865853613485,
           8479242.3816,
           "Positive"
          ],
          [
           10.364852472147865,
           4755580.526877,
           "Positive"
          ],
          [
           15.789377081726277,
           2485105591.8549123,
           "Positive"
          ],
          [
           7.873206828363985,
           1754637.8168000001,
           "Positive"
          ],
          [
           15.297820371530774,
           25162678.46124,
           "Positive"
          ],
          [
           6.1003914632284095,
           2192516.016348,
           "Positive"
          ],
          [
           22.349309355188133,
           10516442.353074001,
           "Positive"
          ],
          [
           12.950904083257536,
           19075188.298390403,
           "Positive"
          ],
          [
           0,
           0,
           "Positive"
          ],
          [
           10.531614910132934,
           2024545.502595,
           "Positive"
          ],
          [
           11.352531851024533,
           1462238.431,
           "Positive"
          ],
          [
           9.983345855568034,
           6209828.58807,
           "Positive"
          ],
          [
           2.351570164355853,
           6953478.154379999,
           "Positive"
          ],
          [
           10.86624512595745,
           3306139.8699570005,
           "Positive"
          ],
          [
           2.8778964550043544,
           5095293.938040001,
           "Positive"
          ],
          [
           12.261606808022226,
           5496844.218237,
           "Positive"
          ],
          [
           10.156993192552894,
           1483380.5706,
           "Positive"
          ],
          [
           19.662902977077483,
           20387583.9011,
           "Positive"
          ],
          [
           7.582578314848533,
           5045663.99208,
           "Positive"
          ],
          [
           9.39500163750417,
           6973233.9464,
           "Positive"
          ],
          [
           7.5574898354072495,
           2345373.24536,
           "Positive"
          ],
          [
           11.325960306456611,
           2645007.7176,
           "Positive"
          ],
          [
           7.761206652407197,
           1364861.8673999999,
           "Positive"
          ],
          [
           7.716831650219314,
           169608716.34629998,
           "Positive"
          ],
          [
           11.169147205546674,
           10206008.099,
           "Positive"
          ],
          [
           12.021606647501642,
           4919836.13712,
           "Positive"
          ],
          [
           9.503856983456938,
           1643269.892045,
           "Positive"
          ],
          [
           17.35687656843599,
           43131678.225999996,
           "Positive"
          ],
          [
           8.016476159711152,
           230039211.96,
           "Positive"
          ],
          [
           8.084675333586295,
           4249877.454,
           "Positive"
          ],
          [
           10.696156395849481,
           1093913.0776,
           "Positive"
          ],
          [
           11.748774553169234,
           3040147.0356300003,
           "Positive"
          ],
          [
           11.256411978059164,
           1458412.7895,
           "Positive"
          ],
          [
           8.535984895115686,
           19874533.338000003,
           "Positive"
          ],
          [
           13.31075740125419,
           17043579.1019,
           "Positive"
          ],
          [
           12.353194217709778,
           1920210.69248,
           "Positive"
          ],
          [
           8.70113769896299,
           1574610.1044,
           "Positive"
          ],
          [
           8.664829075266073,
           175518354.10500002,
           "Positive"
          ],
          [
           10.999715694548334,
           6730882.61592,
           "Positive"
          ],
          [
           4.275744226964595,
           3076894.04939,
           "Positive"
          ],
          [
           16.21071809330776,
           128012484.8008,
           "Positive"
          ],
          [
           11.654996773529287,
           892601158.1831001,
           "Positive"
          ],
          [
           7.299528478268746,
           1387378.1751,
           "Positive"
          ],
          [
           10.449235238861352,
           32990121.6741,
           "Positive"
          ],
          [
           7.943407029219013,
           24392187553.96443,
           "Positive"
          ],
          [
           7.582845525341993,
           108316324.40594001,
           "Positive"
          ],
          [
           2.8793554442749585,
           5601491.294449,
           "Positive"
          ],
          [
           9.824779396217991,
           5541502.8277199995,
           "Positive"
          ],
          [
           9.734446432850511,
           42185722.20960001,
           "Positive"
          ],
          [
           11.225215359215253,
           6023246.29016,
           "Positive"
          ],
          [
           12.239230424004308,
           389441104.7787,
           "Positive"
          ],
          [
           13.4252023829219,
           69723305.99387999,
           "Positive"
          ],
          [
           11.733937992594768,
           9559883.7837,
           "Positive"
          ],
          [
           9.82534086348996,
           2361454.5168,
           "Positive"
          ],
          [
           12.397904439108338,
           4793921.73036,
           "Positive"
          ],
          [
           10.83309279869997,
           50864341.665800005,
           "Positive"
          ],
          [
           14.453991588635311,
           145677006.12796,
           "Positive"
          ],
          [
           9.27249684862871,
           9750577.154040001,
           "Positive"
          ]
         ],
         "domain": {
          "x": [
           0,
           1
          ],
          "y": [
           0,
           1
          ]
         },
         "hovertemplate": "<b>%{label}</b><br>Volume: $%{value:,.0f}<br>Daily Return: %{customdata[0]:.2f}%<extra></extra>",
         "ids": [
          "PROMUSDT",
          "PAXGUSDT",
          "SIRENUSDT",
          "USDCUSDT",
          "BTCDOMUSDT",
          "1000000BOBUSDT",
          "PIPPINUSDT",
          "PHBUSDT",
          "PHAUSDT",
          "PERPUSDT",
          "PEOPLEUSDT",
          "PENGUUSDT",
          "PENDLEUSDT",
          "PARTIUSDT",
          "OXTUSDT",
          "ORDIUSDT",
          "ORCAUSDT",
          "OPUSDT",
          "ONTUSDT",
          "ONGUSDT",
          "ONEUSDT",
          "ONDOUSDT",
          "OMUSDT",
          "OMNIUSDT",
          "OGUSDT",
          "OGNUSDT",
          "PIXELUSDT",
          "PLUMEUSDT",
          "POLUSDT",
          "OBOLUSDT",
          "REZUSDT",
          "RESOLVUSDT",
          "RENDERUSDT",
          "REIUSDT",
          "REDUSDT",
          "RDNTUSDT",
          "RAYSOLUSDT",
          "RAREUSDT",
          "QUICKUSDT",
          "QTUMUSDT",
          "PNUTUSDT",
          "QNTUSDT",
          "PUNDIXUSDT",
          "PUMPBTCUSDT",
          "PUFFERUSDT",
          "PROMPTUSDT",
          "POWRUSDT",
          "PORTALUSDT",
          "PORT3USDT",
          "POPCATUSDT",
          "PONKEUSDT",
          "POLYXUSDT",
          "PYTHUSDT",
          "NXPCUSDT",
          "NTRNUSDT",
          "NOTUSDT",
          "MAVUSDT",
          "MAVIAUSDT",
          "MASKUSDT",
          "MANTAUSDT",
          "MANAUSDT",
          "MAGICUSDT",
          "LUNA2USDT",
          "LUMIAUSDT",
          "LTCUSDT",
          "LSKUSDT",
          "LRCUSDT",
          "LQTYUSDT",
          "LPTUSDT",
          "LOKAUSDT",
          "LISTAUSDT",
          "LINKUSDT",
          "LEVERUSDT",
          "LDOUSDT",
          "LAYERUSDT",
          "LAUSDT",
          "KSMUSDT",
          "KOMAUSDT",
          "KNCUSDT",
          "MBOXUSDT",
          "MELANIAUSDT",
          "MEMEFIUSDT",
          "MEMEUSDT",
          "NMRUSDT",
          "NKNUSDT",
          "NILUSDT",
          "NFPUSDT",
          "NEOUSDT",
          "NEIROUSDT",
          "NEIROETHUSDT",
          "NEARUSDT",
          "MYROUSDT",
          "MUBARAKUSDT",
          "MTLUSDT",
          "RIFUSDT",
          "MOVRUSDT",
          "MORPHOUSDT",
          "MOODENGUSDT",
          "MOCAUSDT",
          "MLNUSDT",
          "MKRUSDT",
          "MINAUSDT",
          "MILKUSDT",
          "MEWUSDT",
          "MEUSDT",
          "METISUSDT",
          "MERLUSDT",
          "MOVEUSDT",
          "RLCUSDT",
          "ROSEUSDT",
          "KMNOUSDT",
          "VIRTUALUSDT",
          "VINEUSDT",
          "VICUSDT",
          "VETUSDT",
          "VELODROMEUSDT",
          "VANRYUSDT",
          "VANAUSDT",
          "UXLINKUSDT",
          "USUALUSDT",
          "USTCUSDT",
          "VOXELUSDT",
          "UNIUSDT",
          "TWTUSDT",
          "TUTUSDT",
          "TUSDT",
          "TURBOUSDT",
          "TSTUSDT",
          "TRXUSDT",
          "TRUUSDT",
          "TRUMPUSDT",
          "TRBUSDT",
          "TONUSDT",
          "UMAUSDT",
          "VTHOUSDT",
          "VVVUSDT",
          "WALUSDT",
          "ZKUSDT",
          "ZKJUSDT",
          "ZILUSDT",
          "ZETAUSDT",
          "ZEREBROUSDT",
          "ZENUSDT",
          "ZECUSDT",
          "YGGUSDT",
          "YFIUSDT",
          "XVSUSDT",
          "XVGUSDT",
          "XTZUSDT",
          "XRPUSDT",
          "XMRUSDT",
          "XLMUSDT",
          "XCNUSDT",
          "XAIUSDT",
          "WUSDT",
          "WOOUSDT",
          "WLDUSDT",
          "WIFUSDT",
          "WCTUSDT",
          "WAXPUSDT",
          "TOKENUSDT",
          "TNSRUSDT",
          "TLMUSDT",
          "TIAUSDT",
          "SOONUSDT",
          "SONICUSDT",
          "SOLVUSDT",
          "SOLUSDT",
          "SNXUSDT",
          "SLERFUSDT",
          "SKYAIUSDT",
          "SKLUSDT",
          "SKATEUSDT",
          "SIGNUSDT",
          "SHELLUSDT",
          "SFPUSDT",
          "SEIUSDT",
          "SCRUSDT",
          "SCRTUSDT",
          "SANTOSUSDT",
          "SANDUSDT",
          "SAGAUSDT",
          "SAFEUSDT",
          "RVNUSDT",
          "RUNEUSDT",
          "RSRUSDT",
          "RPLUSDT",
          "SOPHUSDT",
          "RONINUSDT",
          "SPELLUSDT",
          "SQDUSDT",
          "THEUSDT",
          "THETAUSDT",
          "TAOUSDT",
          "TAIKOUSDT",
          "SYSUSDT",
          "SYRUPUSDT",
          "SYNUSDT",
          "SXTUSDT",
          "SXPUSDT",
          "SWELLUSDT",
          "SWARMSUSDT",
          "SUSHIUSDT",
          "SUSDT",
          "SUPERUSDT",
          "SUNUSDT",
          "SUIUSDT",
          "STXUSDT",
          "STRKUSDT",
          "STOUSDT",
          "STORJUSDT",
          "STGUSDT",
          "STEEMUSDT",
          "SSVUSDT",
          "SPXUSDT",
          "KERNELUSDT",
          "KDAUSDT",
          "KAVAUSDT",
          "BERAUSDT",
          "BELUSDT",
          "BEAMXUSDT",
          "BDXNUSDT",
          "BCHUSDT",
          "BBUSDT",
          "BATUSDT",
          "BANUSDT",
          "BANKUSDT",
          "BANDUSDT",
          "BANANAUSDT",
          "BANANAS31USDT",
          "BAKEUSDT",
          "BABYUSDT",
          "B3USDT",
          "B2USDT",
          "AXSUSDT",
          "AXLUSDT",
          "AWEUSDT",
          "AVAXUSDT",
          "AVAUSDT",
          "AVAAIUSDT",
          "AUSDT",
          "BICOUSDT",
          "AUCTIONUSDT",
          "BIDUSDT",
          "BIOUSDT",
          "CHILLGUYUSDT",
          "CHESSUSDT",
          "CGPTUSDT",
          "CFXUSDT",
          "CETUSUSDT",
          "CELRUSDT",
          "CELOUSDT",
          "CATIUSDT",
          "CAKEUSDT",
          "C98USDT",
          "BUSDT",
          "BTCUSDT",
          "BSWUSDT",
          "BSVUSDT",
          "BRUSDT",
          "BROCCOLIF3BUSDT",
          "BROCCOLI714USDT",
          "BRETTUSDT",
          "BOMEUSDT",
          "BNTUSDT",
          "BNBUSDT",
          "BMTUSDT",
          "BLURUSDT",
          "BIGTIMEUSDT",
          "CHRUSDT",
          "ATOMUSDT",
          "ATAUSDT",
          "AEROUSDT",
          "AERGOUSDT",
          "ADAUSDT",
          "ACXUSDT",
          "ACTUSDT",
          "ACHUSDT",
          "ACEUSDT",
          "AAVEUSDT",
          "1MBABYDOGEUSDT",
          "1INCHUSDT",
          "1000XUSDT",
          "1000XECUSDT",
          "1000WHYUSDT",
          "1000SHIBUSDT",
          "1000SATSUSDT",
          "1000RATSUSDT",
          "1000PEPEUSDT",
          "1000LUNCUSDT",
          "1000FLOKIUSDT",
          "1000CHEEMSUSDT",
          "1000CATUSDT",
          "1000BONKUSDT",
          "1000000MOGUSDT",
          "AEVOUSDT",
          "ATHUSDT",
          "AGLDUSDT",
          "AI16ZUSDT",
          "ASTRUSDT",
          "ASRUSDT",
          "ARUSDT",
          "ARPAUSDT",
          "ARKUSDT",
          "ARKMUSDT",
          "ARCUSDT",
          "ARBUSDT",
          "APTUSDT",
          "API3USDT",
          "APEUSDT",
          "ANKRUSDT",
          "ANIMEUSDT",
          "ALTUSDT",
          "ALPINEUSDT",
          "ALPHAUSDT",
          "ALICEUSDT",
          "ALGOUSDT",
          "ALCHUSDT",
          "AKTUSDT",
          "AIXBTUSDT",
          "AIUSDT",
          "AIOTUSDT",
          "AGTUSDT",
          "CHZUSDT",
          "CKBUSDT",
          "COMPUSDT",
          "HMSTRUSDT",
          "HIVEUSDT",
          "HIPPOUSDT",
          "HIGHUSDT",
          "HIFIUSDT",
          "HFTUSDT",
          "HEIUSDT",
          "HBARUSDT",
          "HAEDALUSDT",
          "GUSDT",
          "GUNUSDT",
          "GTCUSDT",
          "GRTUSDT",
          "GRIFFAINUSDT",
          "GRASSUSDT",
          "GPSUSDT",
          "GOATUSDT",
          "GMXUSDT",
          "GMTUSDT",
          "GLMUSDT",
          "GHSTUSDT",
          "GASUSDT",
          "GALAUSDT",
          "HOMEUSDT",
          "FXSUSDT",
          "HOOKUSDT",
          "HUMAUSDT",
          "KASUSDT",
          "KAITOUSDT",
          "KAIAUSDT",
          "JUPUSDT",
          "JTOUSDT",
          "JSTUSDT",
          "JOEUSDT",
          "JELLYJELLYUSDT",
          "JASMYUSDT",
          "IPUSDT",
          "IOUSDT",
          "IOTXUSDT",
          "IOTAUSDT",
          "IOSTUSDT",
          "INJUSDT",
          "INITUSDT",
          "IMXUSDT",
          "ILVUSDT",
          "IDUSDT",
          "ICXUSDT",
          "ICPUSDT",
          "HYPEUSDT",
          "HYPERUSDT",
          "HOTUSDT",
          "FUNUSDT",
          "FORTHUSDT",
          "FORMUSDT",
          "DOODUSDT",
          "DOLOUSDT",
          "DOGSUSDT",
          "DOGEUSDT",
          "DODOXUSDT",
          "DIAUSDT",
          "DFUSDT",
          "DEXEUSDT",
          "DENTUSDT",
          "DEGOUSDT",
          "DEGENUSDT",
          "DEFIUSDT",
          "DEEPUSDT",
          "DASHUSDT",
          "CYBERUSDT",
          "CVCUSDT",
          "CTSIUSDT",
          "CTKUSDT",
          "CRVUSDT",
          "COWUSDT",
          "COTIUSDT",
          "COSUSDT",
          "COOKIEUSDT",
          "DOTUSDT",
          "DRIFTUSDT",
          "DUSDT",
          "DUSKUSDT",
          "FLUXUSDT",
          "FLOWUSDT",
          "FLMUSDT",
          "FISUSDT",
          "FIOUSDT",
          "FILUSDT",
          "FIDAUSDT",
          "FHEUSDT",
          "FETUSDT",
          "FARTCOINUSDT",
          "ETHWUSDT",
          "ZROUSDT",
          "ETHUSDT",
          "ETCUSDT",
          "EPTUSDT",
          "EPICUSDT",
          "ENSUSDT",
          "ENJUSDT",
          "ENAUSDT",
          "EIGENUSDT",
          "EGLDUSDT",
          "EDUUSDT",
          "DYMUSDT",
          "DYDXUSDT",
          "ETHFIUSDT",
          "ZRXUSDT"
         ],
         "labels": [
          "PROMUSDT",
          "PAXGUSDT",
          "SIRENUSDT",
          "USDCUSDT",
          "BTCDOMUSDT",
          "1000000BOBUSDT",
          "PIPPINUSDT",
          "PHBUSDT",
          "PHAUSDT",
          "PERPUSDT",
          "PEOPLEUSDT",
          "PENGUUSDT",
          "PENDLEUSDT",
          "PARTIUSDT",
          "OXTUSDT",
          "ORDIUSDT",
          "ORCAUSDT",
          "OPUSDT",
          "ONTUSDT",
          "ONGUSDT",
          "ONEUSDT",
          "ONDOUSDT",
          "OMUSDT",
          "OMNIUSDT",
          "OGUSDT",
          "OGNUSDT",
          "PIXELUSDT",
          "PLUMEUSDT",
          "POLUSDT",
          "OBOLUSDT",
          "REZUSDT",
          "RESOLVUSDT",
          "RENDERUSDT",
          "REIUSDT",
          "REDUSDT",
          "RDNTUSDT",
          "RAYSOLUSDT",
          "RAREUSDT",
          "QUICKUSDT",
          "QTUMUSDT",
          "PNUTUSDT",
          "QNTUSDT",
          "PUNDIXUSDT",
          "PUMPBTCUSDT",
          "PUFFERUSDT",
          "PROMPTUSDT",
          "POWRUSDT",
          "PORTALUSDT",
          "PORT3USDT",
          "POPCATUSDT",
          "PONKEUSDT",
          "POLYXUSDT",
          "PYTHUSDT",
          "NXPCUSDT",
          "NTRNUSDT",
          "NOTUSDT",
          "MAVUSDT",
          "MAVIAUSDT",
          "MASKUSDT",
          "MANTAUSDT",
          "MANAUSDT",
          "MAGICUSDT",
          "LUNA2USDT",
          "LUMIAUSDT",
          "LTCUSDT",
          "LSKUSDT",
          "LRCUSDT",
          "LQTYUSDT",
          "LPTUSDT",
          "LOKAUSDT",
          "LISTAUSDT",
          "LINKUSDT",
          "LEVERUSDT",
          "LDOUSDT",
          "LAYERUSDT",
          "LAUSDT",
          "KSMUSDT",
          "KOMAUSDT",
          "KNCUSDT",
          "MBOXUSDT",
          "MELANIAUSDT",
          "MEMEFIUSDT",
          "MEMEUSDT",
          "NMRUSDT",
          "NKNUSDT",
          "NILUSDT",
          "NFPUSDT",
          "NEOUSDT",
          "NEIROUSDT",
          "NEIROETHUSDT",
          "NEARUSDT",
          "MYROUSDT",
          "MUBARAKUSDT",
          "MTLUSDT",
          "RIFUSDT",
          "MOVRUSDT",
          "MORPHOUSDT",
          "MOODENGUSDT",
          "MOCAUSDT",
          "MLNUSDT",
          "MKRUSDT",
          "MINAUSDT",
          "MILKUSDT",
          "MEWUSDT",
          "MEUSDT",
          "METISUSDT",
          "MERLUSDT",
          "MOVEUSDT",
          "RLCUSDT",
          "ROSEUSDT",
          "KMNOUSDT",
          "VIRTUALUSDT",
          "VINEUSDT",
          "VICUSDT",
          "VETUSDT",
          "VELODROMEUSDT",
          "VANRYUSDT",
          "VANAUSDT",
          "UXLINKUSDT",
          "USUALUSDT",
          "USTCUSDT",
          "VOXELUSDT",
          "UNIUSDT",
          "TWTUSDT",
          "TUTUSDT",
          "TUSDT",
          "TURBOUSDT",
          "TSTUSDT",
          "TRXUSDT",
          "TRUUSDT",
          "TRUMPUSDT",
          "TRBUSDT",
          "TONUSDT",
          "UMAUSDT",
          "VTHOUSDT",
          "VVVUSDT",
          "WALUSDT",
          "ZKUSDT",
          "ZKJUSDT",
          "ZILUSDT",
          "ZETAUSDT",
          "ZEREBROUSDT",
          "ZENUSDT",
          "ZECUSDT",
          "YGGUSDT",
          "YFIUSDT",
          "XVSUSDT",
          "XVGUSDT",
          "XTZUSDT",
          "XRPUSDT",
          "XMRUSDT",
          "XLMUSDT",
          "XCNUSDT",
          "XAIUSDT",
          "WUSDT",
          "WOOUSDT",
          "WLDUSDT",
          "WIFUSDT",
          "WCTUSDT",
          "WAXPUSDT",
          "TOKENUSDT",
          "TNSRUSDT",
          "TLMUSDT",
          "TIAUSDT",
          "SOONUSDT",
          "SONICUSDT",
          "SOLVUSDT",
          "SOLUSDT",
          "SNXUSDT",
          "SLERFUSDT",
          "SKYAIUSDT",
          "SKLUSDT",
          "SKATEUSDT",
          "SIGNUSDT",
          "SHELLUSDT",
          "SFPUSDT",
          "SEIUSDT",
          "SCRUSDT",
          "SCRTUSDT",
          "SANTOSUSDT",
          "SANDUSDT",
          "SAGAUSDT",
          "SAFEUSDT",
          "RVNUSDT",
          "RUNEUSDT",
          "RSRUSDT",
          "RPLUSDT",
          "SOPHUSDT",
          "RONINUSDT",
          "SPELLUSDT",
          "SQDUSDT",
          "THEUSDT",
          "THETAUSDT",
          "TAOUSDT",
          "TAIKOUSDT",
          "SYSUSDT",
          "SYRUPUSDT",
          "SYNUSDT",
          "SXTUSDT",
          "SXPUSDT",
          "SWELLUSDT",
          "SWARMSUSDT",
          "SUSHIUSDT",
          "SUSDT",
          "SUPERUSDT",
          "SUNUSDT",
          "SUIUSDT",
          "STXUSDT",
          "STRKUSDT",
          "STOUSDT",
          "STORJUSDT",
          "STGUSDT",
          "STEEMUSDT",
          "SSVUSDT",
          "SPXUSDT",
          "KERNELUSDT",
          "KDAUSDT",
          "KAVAUSDT",
          "BERAUSDT",
          "BELUSDT",
          "BEAMXUSDT",
          "BDXNUSDT",
          "BCHUSDT",
          "BBUSDT",
          "BATUSDT",
          "BANUSDT",
          "BANKUSDT",
          "BANDUSDT",
          "BANANAUSDT",
          "BANANAS31USDT",
          "BAKEUSDT",
          "BABYUSDT",
          "B3USDT",
          "B2USDT",
          "AXSUSDT",
          "AXLUSDT",
          "AWEUSDT",
          "AVAXUSDT",
          "AVAUSDT",
          "AVAAIUSDT",
          "AUSDT",
          "BICOUSDT",
          "AUCTIONUSDT",
          "BIDUSDT",
          "BIOUSDT",
          "CHILLGUYUSDT",
          "CHESSUSDT",
          "CGPTUSDT",
          "CFXUSDT",
          "CETUSUSDT",
          "CELRUSDT",
          "CELOUSDT",
          "CATIUSDT",
          "CAKEUSDT",
          "C98USDT",
          "BUSDT",
          "BTCUSDT",
          "BSWUSDT",
          "BSVUSDT",
          "BRUSDT",
          "BROCCOLIF3BUSDT",
          "BROCCOLI714USDT",
          "BRETTUSDT",
          "BOMEUSDT",
          "BNTUSDT",
          "BNBUSDT",
          "BMTUSDT",
          "BLURUSDT",
          "BIGTIMEUSDT",
          "CHRUSDT",
          "ATOMUSDT",
          "ATAUSDT",
          "AEROUSDT",
          "AERGOUSDT",
          "ADAUSDT",
          "ACXUSDT",
          "ACTUSDT",
          "ACHUSDT",
          "ACEUSDT",
          "AAVEUSDT",
          "1MBABYDOGEUSDT",
          "1INCHUSDT",
          "1000XUSDT",
          "1000XECUSDT",
          "1000WHYUSDT",
          "1000SHIBUSDT",
          "1000SATSUSDT",
          "1000RATSUSDT",
          "1000PEPEUSDT",
          "1000LUNCUSDT",
          "1000FLOKIUSDT",
          "1000CHEEMSUSDT",
          "1000CATUSDT",
          "1000BONKUSDT",
          "1000000MOGUSDT",
          "AEVOUSDT",
          "ATHUSDT",
          "AGLDUSDT",
          "AI16ZUSDT",
          "ASTRUSDT",
          "ASRUSDT",
          "ARUSDT",
          "ARPAUSDT",
          "ARKUSDT",
          "ARKMUSDT",
          "ARCUSDT",
          "ARBUSDT",
          "APTUSDT",
          "API3USDT",
          "APEUSDT",
          "ANKRUSDT",
          "ANIMEUSDT",
          "ALTUSDT",
          "ALPINEUSDT",
          "ALPHAUSDT",
          "ALICEUSDT",
          "ALGOUSDT",
          "ALCHUSDT",
          "AKTUSDT",
          "AIXBTUSDT",
          "AIUSDT",
          "AIOTUSDT",
          "AGTUSDT",
          "CHZUSDT",
          "CKBUSDT",
          "COMPUSDT",
          "HMSTRUSDT",
          "HIVEUSDT",
          "HIPPOUSDT",
          "HIGHUSDT",
          "HIFIUSDT",
          "HFTUSDT",
          "HEIUSDT",
          "HBARUSDT",
          "HAEDALUSDT",
          "GUSDT",
          "GUNUSDT",
          "GTCUSDT",
          "GRTUSDT",
          "GRIFFAINUSDT",
          "GRASSUSDT",
          "GPSUSDT",
          "GOATUSDT",
          "GMXUSDT",
          "GMTUSDT",
          "GLMUSDT",
          "GHSTUSDT",
          "GASUSDT",
          "GALAUSDT",
          "HOMEUSDT",
          "FXSUSDT",
          "HOOKUSDT",
          "HUMAUSDT",
          "KASUSDT",
          "KAITOUSDT",
          "KAIAUSDT",
          "JUPUSDT",
          "JTOUSDT",
          "JSTUSDT",
          "JOEUSDT",
          "JELLYJELLYUSDT",
          "JASMYUSDT",
          "IPUSDT",
          "IOUSDT",
          "IOTXUSDT",
          "IOTAUSDT",
          "IOSTUSDT",
          "INJUSDT",
          "INITUSDT",
          "IMXUSDT",
          "ILVUSDT",
          "IDUSDT",
          "ICXUSDT",
          "ICPUSDT",
          "HYPEUSDT",
          "HYPERUSDT",
          "HOTUSDT",
          "FUNUSDT",
          "FORTHUSDT",
          "FORMUSDT",
          "DOODUSDT",
          "DOLOUSDT",
          "DOGSUSDT",
          "DOGEUSDT",
          "DODOXUSDT",
          "DIAUSDT",
          "DFUSDT",
          "DEXEUSDT",
          "DENTUSDT",
          "DEGOUSDT",
          "DEGENUSDT",
          "DEFIUSDT",
          "DEEPUSDT",
          "DASHUSDT",
          "CYBERUSDT",
          "CVCUSDT",
          "CTSIUSDT",
          "CTKUSDT",
          "CRVUSDT",
          "COWUSDT",
          "COTIUSDT",
          "COSUSDT",
          "COOKIEUSDT",
          "DOTUSDT",
          "DRIFTUSDT",
          "DUSDT",
          "DUSKUSDT",
          "FLUXUSDT",
          "FLOWUSDT",
          "FLMUSDT",
          "FISUSDT",
          "FIOUSDT",
          "FILUSDT",
          "FIDAUSDT",
          "FHEUSDT",
          "FETUSDT",
          "FARTCOINUSDT",
          "ETHWUSDT",
          "ZROUSDT",
          "ETHUSDT",
          "ETCUSDT",
          "EPTUSDT",
          "EPICUSDT",
          "ENSUSDT",
          "ENJUSDT",
          "ENAUSDT",
          "EIGENUSDT",
          "EGLDUSDT",
          "EDUUSDT",
          "DYMUSDT",
          "DYDXUSDT",
          "ETHFIUSDT",
          "ZRXUSDT"
         ],
         "marker": {
          "colors": [
           "#FF4136",
           "#FF4136",
           "#FF4136",
           "#FF4136",
           "#FF4136",
           "#3D9970",
           "#3D9970",
           "#3D9970",
           "#3D9970",
           "#3D9970",
           "#3D9970",
           "#3D9970",
           "#3D9970",
           "#3D9970",
           "#3D9970",
           "#3D9970",
           "#3D9970",
           "#3D9970",
           "#3D9970",
           "#3D9970",
           "#3D9970",
           "#3D9970",
           "#3D9970",
           "#3D9970",
           "#3D9970",
           "#3D9970",
           "#3D9970",
           "#3D9970",
           "#3D9970",
           "#3D9970",
           "#3D9970",
           "#3D9970",
           "#3D9970",
           "#3D9970",
           "#3D9970",
           "#3D9970",
           "#3D9970",
           "#3D9970",
           "#3D9970",
           "#3D9970",
           "#3D9970",
           "#3D9970",
           "#3D9970",
           "#3D9970",
           "#3D9970",
           "#3D9970",
           "#3D9970",
           "#3D9970",
           "#3D9970",
           "#3D9970",
           "#3D9970",
           "#3D9970",
           "#3D9970",
           "#3D9970",
           "#3D9970",
           "#3D9970",
           "#3D9970",
           "#3D9970",
           "#3D9970",
           "#3D9970",
           "#3D9970",
           "#3D9970",
           "#3D9970",
           "#3D9970",
           "#3D9970",
           "#3D9970",
           "#3D9970",
           "#3D9970",
           "#3D9970",
           "#3D9970",
           "#3D9970",
           "#3D9970",
           "#3D9970",
           "#3D9970",
           "#3D9970",
           "#3D9970",
           "#3D9970",
           "#3D9970",
           "#3D9970",
           "#3D9970",
           "#3D9970",
           "#3D9970",
           "#3D9970",
           "#3D9970",
           "#3D9970",
           "#3D9970",
           "#3D9970",
           "#3D9970",
           "#3D9970",
           "#3D9970",
           "#3D9970",
           "#3D9970",
           "#3D9970",
           "#3D9970",
           "#3D9970",
           "#3D9970",
           "#3D9970",
           "#3D9970",
           "#3D9970",
           "#3D9970",
           "#3D9970",
           "#3D9970",
           "#3D9970",
           "#3D9970",
           "#3D9970",
           "#3D9970",
           "#3D9970",
           "#3D9970",
           "#3D9970",
           "#3D9970",
           "#3D9970",
           "#3D9970",
           "#3D9970",
           "#3D9970",
           "#3D9970",
           "#3D9970",
           "#3D9970",
           "#3D9970",
           "#3D9970",
           "#3D9970",
           "#3D9970",
           "#3D9970",
           "#3D9970",
           "#3D9970",
           "#3D9970",
           "#3D9970",
           "#3D9970",
           "#3D9970",
           "#3D9970",
           "#3D9970",
           "#3D9970",
           "#3D9970",
           "#3D9970",
           "#3D9970",
           "#3D9970",
           "#3D9970",
           "#3D9970",
           "#3D9970",
           "#3D9970",
           "#3D9970",
           "#3D9970",
           "#3D9970",
           "#3D9970",
           "#3D9970",
           "#3D9970",
           "#3D9970",
           "#3D9970",
           "#3D9970",
           "#3D9970",
           "#3D9970",
           "#3D9970",
           "#3D9970",
           "#3D9970",
           "#3D9970",
           "#3D9970",
           "#3D9970",
           "#3D9970",
           "#3D9970",
           "#3D9970",
           "#3D9970",
           "#3D9970",
           "#3D9970",
           "#3D9970",
           "#3D9970",
           "#3D9970",
           "#3D9970",
           "#3D9970",
           "#3D9970",
           "#3D9970",
           "#3D9970",
           "#3D9970",
           "#3D9970",
           "#3D9970",
           "#3D9970",
           "#3D9970",
           "#3D9970",
           "#3D9970",
           "#3D9970",
           "#3D9970",
           "#3D9970",
           "#3D9970",
           "#3D9970",
           "#3D9970",
           "#3D9970",
           "#3D9970",
           "#3D9970",
           "#3D9970",
           "#3D9970",
           "#3D9970",
           "#3D9970",
           "#3D9970",
           "#3D9970",
           "#3D9970",
           "#3D9970",
           "#3D9970",
           "#3D9970",
           "#3D9970",
           "#3D9970",
           "#3D9970",
           "#3D9970",
           "#3D9970",
           "#3D9970",
           "#3D9970",
           "#3D9970",
           "#3D9970",
           "#3D9970",
           "#3D9970",
           "#3D9970",
           "#3D9970",
           "#3D9970",
           "#3D9970",
           "#3D9970",
           "#3D9970",
           "#3D9970",
           "#3D9970",
           "#3D9970",
           "#3D9970",
           "#3D9970",
           "#3D9970",
           "#3D9970",
           "#3D9970",
           "#3D9970",
           "#3D9970",
           "#3D9970",
           "#3D9970",
           "#3D9970",
           "#3D9970",
           "#3D9970",
           "#3D9970",
           "#3D9970",
           "#3D9970",
           "#3D9970",
           "#3D9970",
           "#3D9970",
           "#3D9970",
           "#3D9970",
           "#3D9970",
           "#3D9970",
           "#3D9970",
           "#3D9970",
           "#3D9970",
           "#3D9970",
           "#3D9970",
           "#3D9970",
           "#3D9970",
           "#3D9970",
           "#3D9970",
           "#3D9970",
           "#3D9970",
           "#3D9970",
           "#3D9970",
           "#3D9970",
           "#3D9970",
           "#3D9970",
           "#3D9970",
           "#3D9970",
           "#3D9970",
           "#3D9970",
           "#3D9970",
           "#3D9970",
           "#3D9970",
           "#3D9970",
           "#3D9970",
           "#3D9970",
           "#3D9970",
           "#3D9970",
           "#3D9970",
           "#3D9970",
           "#3D9970",
           "#3D9970",
           "#3D9970",
           "#3D9970",
           "#3D9970",
           "#3D9970",
           "#3D9970",
           "#3D9970",
           "#3D9970",
           "#3D9970",
           "#3D9970",
           "#3D9970",
           "#3D9970",
           "#3D9970",
           "#3D9970",
           "#3D9970",
           "#3D9970",
           "#3D9970",
           "#3D9970",
           "#3D9970",
           "#3D9970",
           "#3D9970",
           "#3D9970",
           "#3D9970",
           "#3D9970",
           "#3D9970",
           "#3D9970",
           "#3D9970",
           "#3D9970",
           "#3D9970",
           "#3D9970",
           "#3D9970",
           "#3D9970",
           "#3D9970",
           "#3D9970",
           "#3D9970",
           "#3D9970",
           "#3D9970",
           "#3D9970",
           "#3D9970",
           "#3D9970",
           "#3D9970",
           "#3D9970",
           "#3D9970",
           "#3D9970",
           "#3D9970",
           "#3D9970",
           "#3D9970",
           "#3D9970",
           "#3D9970",
           "#3D9970",
           "#3D9970",
           "#3D9970",
           "#3D9970",
           "#3D9970",
           "#3D9970",
           "#3D9970",
           "#3D9970",
           "#3D9970",
           "#3D9970",
           "#3D9970",
           "#3D9970",
           "#3D9970",
           "#3D9970",
           "#3D9970",
           "#3D9970",
           "#3D9970",
           "#3D9970",
           "#3D9970",
           "#3D9970",
           "#3D9970",
           "#3D9970",
           "#3D9970",
           "#3D9970",
           "#3D9970",
           "#3D9970",
           "#3D9970",
           "#3D9970",
           "#3D9970",
           "#3D9970",
           "#3D9970",
           "#3D9970",
           "#3D9970",
           "#3D9970",
           "#3D9970",
           "#3D9970",
           "#3D9970",
           "#3D9970",
           "#3D9970",
           "#3D9970",
           "#3D9970",
           "#3D9970",
           "#3D9970",
           "#3D9970",
           "#3D9970",
           "#3D9970",
           "#3D9970",
           "#3D9970",
           "#3D9970",
           "#3D9970",
           "#3D9970",
           "#3D9970",
           "#3D9970",
           "#3D9970",
           "#3D9970",
           "#3D9970",
           "#3D9970",
           "#3D9970",
           "#3D9970",
           "#3D9970",
           "#3D9970",
           "#3D9970",
           "#3D9970",
           "#3D9970",
           "#3D9970",
           "#3D9970",
           "#3D9970",
           "#3D9970",
           "#3D9970",
           "#3D9970",
           "#3D9970",
           "#3D9970",
           "#3D9970",
           "#3D9970",
           "#3D9970",
           "#3D9970",
           "#3D9970",
           "#3D9970",
           "#3D9970",
           "#3D9970",
           "#3D9970",
           "#3D9970",
           "#3D9970",
           "#3D9970",
           "#3D9970",
           "#3D9970",
           "#3D9970",
           "#3D9970",
           "#3D9970",
           "#3D9970",
           "#3D9970",
           "#3D9970",
           "#3D9970",
           "#3D9970",
           "#3D9970",
           "#3D9970",
           "#3D9970",
           "#3D9970",
           "#3D9970",
           "#3D9970",
           "#3D9970",
           "#3D9970",
           "#3D9970",
           "#3D9970",
           "#3D9970",
           "#3D9970",
           "#3D9970",
           "#3D9970",
           "#3D9970",
           "#3D9970",
           "#3D9970",
           "#3D9970",
           "#3D9970",
           "#3D9970",
           "#3D9970"
          ]
         },
         "name": "",
         "parents": [
          "",
          "",
          "",
          "",
          "",
          "",
          "",
          "",
          "",
          "",
          "",
          "",
          "",
          "",
          "",
          "",
          "",
          "",
          "",
          "",
          "",
          "",
          "",
          "",
          "",
          "",
          "",
          "",
          "",
          "",
          "",
          "",
          "",
          "",
          "",
          "",
          "",
          "",
          "",
          "",
          "",
          "",
          "",
          "",
          "",
          "",
          "",
          "",
          "",
          "",
          "",
          "",
          "",
          "",
          "",
          "",
          "",
          "",
          "",
          "",
          "",
          "",
          "",
          "",
          "",
          "",
          "",
          "",
          "",
          "",
          "",
          "",
          "",
          "",
          "",
          "",
          "",
          "",
          "",
          "",
          "",
          "",
          "",
          "",
          "",
          "",
          "",
          "",
          "",
          "",
          "",
          "",
          "",
          "",
          "",
          "",
          "",
          "",
          "",
          "",
          "",
          "",
          "",
          "",
          "",
          "",
          "",
          "",
          "",
          "",
          "",
          "",
          "",
          "",
          "",
          "",
          "",
          "",
          "",
          "",
          "",
          "",
          "",
          "",
          "",
          "",
          "",
          "",
          "",
          "",
          "",
          "",
          "",
          "",
          "",
          "",
          "",
          "",
          "",
          "",
          "",
          "",
          "",
          "",
          "",
          "",
          "",
          "",
          "",
          "",
          "",
          "",
          "",
          "",
          "",
          "",
          "",
          "",
          "",
          "",
          "",
          "",
          "",
          "",
          "",
          "",
          "",
          "",
          "",
          "",
          "",
          "",
          "",
          "",
          "",
          "",
          "",
          "",
          "",
          "",
          "",
          "",
          "",
          "",
          "",
          "",
          "",
          "",
          "",
          "",
          "",
          "",
          "",
          "",
          "",
          "",
          "",
          "",
          "",
          "",
          "",
          "",
          "",
          "",
          "",
          "",
          "",
          "",
          "",
          "",
          "",
          "",
          "",
          "",
          "",
          "",
          "",
          "",
          "",
          "",
          "",
          "",
          "",
          "",
          "",
          "",
          "",
          "",
          "",
          "",
          "",
          "",
          "",
          "",
          "",
          "",
          "",
          "",
          "",
          "",
          "",
          "",
          "",
          "",
          "",
          "",
          "",
          "",
          "",
          "",
          "",
          "",
          "",
          "",
          "",
          "",
          "",
          "",
          "",
          "",
          "",
          "",
          "",
          "",
          "",
          "",
          "",
          "",
          "",
          "",
          "",
          "",
          "",
          "",
          "",
          "",
          "",
          "",
          "",
          "",
          "",
          "",
          "",
          "",
          "",
          "",
          "",
          "",
          "",
          "",
          "",
          "",
          "",
          "",
          "",
          "",
          "",
          "",
          "",
          "",
          "",
          "",
          "",
          "",
          "",
          "",
          "",
          "",
          "",
          "",
          "",
          "",
          "",
          "",
          "",
          "",
          "",
          "",
          "",
          "",
          "",
          "",
          "",
          "",
          "",
          "",
          "",
          "",
          "",
          "",
          "",
          "",
          "",
          "",
          "",
          "",
          "",
          "",
          "",
          "",
          "",
          "",
          "",
          "",
          "",
          "",
          "",
          "",
          "",
          "",
          "",
          "",
          "",
          "",
          "",
          "",
          "",
          "",
          "",
          "",
          "",
          "",
          "",
          "",
          "",
          "",
          "",
          "",
          "",
          "",
          "",
          "",
          "",
          "",
          "",
          "",
          "",
          "",
          "",
          "",
          "",
          "",
          "",
          "",
          "",
          "",
          "",
          "",
          "",
          "",
          "",
          "",
          "",
          "",
          "",
          "",
          "",
          "",
          "",
          "",
          "",
          "",
          "",
          "",
          "",
          "",
          "",
          "",
          "",
          "",
          "",
          "",
          "",
          "",
          "",
          "",
          "",
          "",
          "",
          "",
          "",
          "",
          "",
          "",
          "",
          "",
          "",
          "",
          "",
          "",
          "",
          "",
          ""
         ],
         "type": "treemap",
         "values": [
          111301833.35700001,
          136460985.17351997,
          27174019.9248,
          9608032.5257,
          19445532.4727,
          21905115.57765,
          8932575.57984,
          2937599.1371999998,
          4763206.555,
          1690863.8579,
          43249570.025,
          70067252.8143,
          62683454.34,
          9120613.4568,
          2592360.5376,
          58723704.358,
          6873029.0736,
          207837336.0396,
          4618961.93202,
          2061406.3878000001,
          10611807.156019999,
          194690768.03840002,
          66602993.19912,
          7046524.64824,
          2690821.1883000005,
          6648585.93,
          7096757.425059999,
          7966052.2722000005,
          33206309.42508,
          31199198.063380003,
          8062829.95318,
          200760080.1216,
          56038500.160500005,
          1267290.64968,
          4506360.561,
          3395465.74015,
          37396648.971360005,
          6714266.90396,
          4109926.11315,
          8246164.7122,
          144599531.23072,
          11284447.28,
          3853280.4033000004,
          4316897.926,
          1982369.5624799998,
          4791617.2458,
          2649632.6259,
          9389331.752024,
          3063751.37776,
          116312215.5678,
          5856544.407000001,
          3273064.22448,
          21231942.46672,
          87923063.73318,
          2210247.9767,
          18878171.924586,
          2186498.38698,
          1983093.9554,
          52894966.28700001,
          12069571.3632,
          19218080.7156,
          71474998.4945,
          5353172.5404,
          2759595.11352,
          195760675.40603998,
          1774759.8375,
          4281773.42183,
          108735952.46801001,
          52647549.6399,
          1731740.88025,
          22129353.2512,
          390763646.84916,
          2510015.4325125,
          91179176.0579,
          150528057.99974,
          43456820.427,
          4782435.04,
          2616105.70379,
          2223631.4773999997,
          1852833.01938,
          12792032.64087,
          3416360.400819,
          17440941.73703,
          3145619.8581000003,
          3137728.0920700002,
          9381774.66676,
          2828610.0997099997,
          18393135.64956,
          147236850.0117816,
          29312916.859,
          217565959.107,
          3213974.97351,
          53376224.794199996,
          2230524.5760000004,
          1226578.8946399998,
          2858590.4259999995,
          5864239.544070001,
          171127798.31854,
          3451822.5102899997,
          1963638.1422000001,
          149611934.8199,
          9321120.159,
          99227574.94342001,
          14296642.22268,
          8498026.60812,
          2990390.2691,
          4728516.66712,
          390404470.63379997,
          8800000.401239999,
          13280782.03604,
          11995084.43084,
          356551379.74071,
          11053470.02045,
          1767206.2763999999,
          20942512.227672,
          2315339.80069,
          8331861.077400001,
          15048826.297679998,
          6572239.2360000005,
          19466335.531499997,
          10519137.769000001,
          5243494.30697,
          465343704.888,
          2974284.0360999997,
          74515216.91908,
          66595397.97492,
          46383185.531838,
          7860514.76184,
          154560446.75136,
          3683716.04988,
          327440725.34268,
          72279114.7793,
          62800783.515080005,
          8284937.134000001,
          2067731.013908,
          7935768.37485,
          12491547.750400001,
          16735462.11704,
          102093219.2698,
          7773171.77964,
          4805360.1018,
          13156490.98728,
          15200575.5696,
          5648518.288349999,
          6060268.007699999,
          8162555.424000001,
          1992327.8924,
          3462658.7602586,
          19062805.518400002,
          2058448339.6160002,
          27093418.75796,
          72441463.62816,
          14004074.35089,
          13498774.51732,
          14210859.783871999,
          3720334.8986000004,
          183664475.148,
          500730509.77096,
          39175083.458000004,
          1890562.238,
          3359637.3907,
          3822632.3356199996,
          2505903.73088,
          134119617.87979999,
          13925665.8093,
          4639284.75125,
          18790165.463489998,
          5207884242.589,
          9450679.490200002,
          986838.2238000002,
          10934507.689,
          2631098.616,
          21644773.4362,
          22993363.383759998,
          7842132.490499999,
          18449393.819199998,
          328557583.998,
          3954278.2976,
          1145893.5668,
          1224774.7512,
          28696982.39455,
          12480205.3175,
          2974370.333,
          60651783.7356,
          22971106.276,
          14361400.364454,
          9604643.328,
          61884843.34578,
          2722452.19713,
          3160468.5767406,
          12776633.990640001,
          4490541.407939999,
          15925417.1541,
          217115230.29099998,
          6229932.007,
          1574360.3728800002,
          138837724.08587998,
          3771168.123,
          16164949.20872,
          8056891.3164,
          3657193.14195,
          9280081.99014,
          23855397.43,
          106930203.096,
          9099340.845,
          2490920.9455589997,
          1127888705.51819,
          22920862.8558,
          26270436.73131,
          10729340.53632,
          4447494.203,
          2853607.0612,
          1741746.4917,
          14943294.919680001,
          235552454.2331,
          12539595.549,
          4026614.1801,
          10435128.67148,
          25157154.0635,
          3610672.7475,
          8602559.250428,
          11989526.73748,
          285572155.33782,
          5628959.803950001,
          6204517.371359999,
          7475411.874,
          7143457.64592,
          3833150.5252800006,
          10599229.369099999,
          395693890.285544,
          6410766.0024,
          16151859.0369,
          2656216.71274,
          7883925.7752,
          22709735.216000002,
          13400657.35785,
          4342971.002662,
          370174654.905,
          1695444.6973599999,
          8313166.70145,
          19005846.11717,
          3483043.7675,
          9396666.18812,
          291994513.55108,
          7516607.98785,
          19613145.7872,
          15281730.74736,
          4547509.55968,
          10484863.60765,
          13248646.97024,
          4507678.1009100005,
          23345271.1474,
          8532054.7104,
          23014169.5478,
          9026410.708,
          14477324.53438,
          31294776196.726902,
          1750840.1642,
          3941700.026,
          107046680.8764,
          3082127.90499,
          12161617.43375,
          21711872.18835,
          31239396.696652003,
          4844572.2241,
          449867229.1116,
          43251076.7221,
          7225706.781199999,
          8565330.088000001,
          4073641.3328,
          57081043.516559996,
          3059000.7462,
          81067552.47615999,
          116084746.11552002,
          522530004.1836,
          2022226.7175600003,
          13585898.57352,
          11759596.40874,
          2621639.22176,
          498708109.5659999,
          9943419.6527025,
          9355557.132,
          1834898.5173600002,
          2063525.3812499999,
          1998147.1889240001,
          148544450.198217,
          31670694.9227477,
          5152102.86175,
          1528860071.2869773,
          8519230.7866,
          47548574.02425,
          7701311.208734999,
          8300432.15076,
          84474971.5761,
          32970305.229399998,
          8223060.6314699985,
          14241642.49346,
          4828934.3312,
          56477547.19765999,
          2927045.0035710004,
          6959287.5856,
          20264977.0524,
          2869992.79265,
          1793379.8475000001,
          25782831.538799997,
          15320586.9916,
          157204246.69351998,
          104042900.61349,
          7002635.8967,
          23056770.542,
          5225003.77178,
          40643020.022539996,
          41699939.51652,
          1798270.91868,
          5198749.1118,
          10331178.0096,
          43221138.22646,
          25213401.5861,
          4866704.7292,
          102090350.09646,
          5574906.10628,
          3010492.14954,
          9029042.36505,
          14365474.8588,
          7725429.642159999,
          0,
          16613153.056967,
          1895439.97164,
          16296294.650973,
          3406617.1271200003,
          16326380.1456,
          3737341.84201,
          1794414.13669,
          106160960.30615999,
          97836003.53241001,
          1823856.4449,
          12430061.8608,
          3877009.4113999996,
          17950809.57277,
          22803841.086,
          24372917.704239998,
          22931193.9304,
          41682030.45977,
          3455107.8375,
          13539789.48336,
          4088862.09039,
          1319652.6136,
          4518778.352,
          85951135.69614,
          80872776.512585,
          4272418.30167,
          2991306.0504,
          41195628.44743501,
          28092785.568679996,
          60743642.4222,
          121693363.6536,
          63733234.7346,
          46317209.5268,
          3881602.6854800005,
          5640532.76286,
          13330245.37062,
          16976681.50143,
          121543807.13384399,
          24120273.03111,
          7018585.17552,
          11315585.6086,
          4051650.0007499997,
          155248412.9824,
          27062150.7552,
          25993272.494200002,
          3406005.9268,
          5683048.50448,
          14625246.0536,
          43313851.532000005,
          769543152.8909999,
          8479242.3816,
          4755580.526877,
          2485105591.8549123,
          1754637.8168000001,
          25162678.46124,
          2192516.016348,
          10516442.353074001,
          19075188.298390403,
          0,
          2024545.502595,
          1462238.431,
          6209828.58807,
          6953478.154379999,
          3306139.8699570005,
          5095293.938040001,
          5496844.218237,
          1483380.5706,
          20387583.9011,
          5045663.99208,
          6973233.9464,
          2345373.24536,
          2645007.7176,
          1364861.8673999999,
          169608716.34629998,
          10206008.099,
          4919836.13712,
          1643269.892045,
          43131678.225999996,
          230039211.96,
          4249877.454,
          1093913.0776,
          3040147.0356300003,
          1458412.7895,
          19874533.338000003,
          17043579.1019,
          1920210.69248,
          1574610.1044,
          175518354.10500002,
          6730882.61592,
          3076894.04939,
          128012484.8008,
          892601158.1831001,
          1387378.1751,
          32990121.6741,
          24392187553.96443,
          108316324.40594001,
          5601491.294449,
          5541502.8277199995,
          42185722.20960001,
          6023246.29016,
          389441104.7787,
          69723305.99387999,
          9559883.7837,
          2361454.5168,
          4793921.73036,
          50864341.665800005,
          145677006.12796,
          9750577.154040001
         ]
        }
       ],
       "layout": {
        "annotations": [
         {
          "font": {
           "size": 12
          },
          "showarrow": false,
          "text": "Color indicates daily performance: <span style='color:#3D9970'>Green = Positive</span>, <span style='color:#FF4136'>Red = Negative</span>",
          "x": 0.5,
          "xref": "paper",
          "y": 1.05,
          "yref": "paper"
         }
        ],
        "height": 800,
        "legend": {
         "tracegroupgap": 0
        },
        "margin": {
         "b": 25,
         "l": 25,
         "r": 25,
         "t": 80
        },
        "template": {
         "data": {
          "bar": [
           {
            "error_x": {
             "color": "#f2f5fa"
            },
            "error_y": {
             "color": "#f2f5fa"
            },
            "marker": {
             "line": {
              "color": "rgb(17,17,17)",
              "width": 0.5
             },
             "pattern": {
              "fillmode": "overlay",
              "size": 10,
              "solidity": 0.2
             }
            },
            "type": "bar"
           }
          ],
          "barpolar": [
           {
            "marker": {
             "line": {
              "color": "rgb(17,17,17)",
              "width": 0.5
             },
             "pattern": {
              "fillmode": "overlay",
              "size": 10,
              "solidity": 0.2
             }
            },
            "type": "barpolar"
           }
          ],
          "carpet": [
           {
            "aaxis": {
             "endlinecolor": "#A2B1C6",
             "gridcolor": "#506784",
             "linecolor": "#506784",
             "minorgridcolor": "#506784",
             "startlinecolor": "#A2B1C6"
            },
            "baxis": {
             "endlinecolor": "#A2B1C6",
             "gridcolor": "#506784",
             "linecolor": "#506784",
             "minorgridcolor": "#506784",
             "startlinecolor": "#A2B1C6"
            },
            "type": "carpet"
           }
          ],
          "choropleth": [
           {
            "colorbar": {
             "outlinewidth": 0,
             "ticks": ""
            },
            "type": "choropleth"
           }
          ],
          "contour": [
           {
            "colorbar": {
             "outlinewidth": 0,
             "ticks": ""
            },
            "colorscale": [
             [
              0,
              "#0d0887"
             ],
             [
              0.1111111111111111,
              "#46039f"
             ],
             [
              0.2222222222222222,
              "#7201a8"
             ],
             [
              0.3333333333333333,
              "#9c179e"
             ],
             [
              0.4444444444444444,
              "#bd3786"
             ],
             [
              0.5555555555555556,
              "#d8576b"
             ],
             [
              0.6666666666666666,
              "#ed7953"
             ],
             [
              0.7777777777777778,
              "#fb9f3a"
             ],
             [
              0.8888888888888888,
              "#fdca26"
             ],
             [
              1,
              "#f0f921"
             ]
            ],
            "type": "contour"
           }
          ],
          "contourcarpet": [
           {
            "colorbar": {
             "outlinewidth": 0,
             "ticks": ""
            },
            "type": "contourcarpet"
           }
          ],
          "heatmap": [
           {
            "colorbar": {
             "outlinewidth": 0,
             "ticks": ""
            },
            "colorscale": [
             [
              0,
              "#0d0887"
             ],
             [
              0.1111111111111111,
              "#46039f"
             ],
             [
              0.2222222222222222,
              "#7201a8"
             ],
             [
              0.3333333333333333,
              "#9c179e"
             ],
             [
              0.4444444444444444,
              "#bd3786"
             ],
             [
              0.5555555555555556,
              "#d8576b"
             ],
             [
              0.6666666666666666,
              "#ed7953"
             ],
             [
              0.7777777777777778,
              "#fb9f3a"
             ],
             [
              0.8888888888888888,
              "#fdca26"
             ],
             [
              1,
              "#f0f921"
             ]
            ],
            "type": "heatmap"
           }
          ],
          "heatmapgl": [
           {
            "colorbar": {
             "outlinewidth": 0,
             "ticks": ""
            },
            "colorscale": [
             [
              0,
              "#0d0887"
             ],
             [
              0.1111111111111111,
              "#46039f"
             ],
             [
              0.2222222222222222,
              "#7201a8"
             ],
             [
              0.3333333333333333,
              "#9c179e"
             ],
             [
              0.4444444444444444,
              "#bd3786"
             ],
             [
              0.5555555555555556,
              "#d8576b"
             ],
             [
              0.6666666666666666,
              "#ed7953"
             ],
             [
              0.7777777777777778,
              "#fb9f3a"
             ],
             [
              0.8888888888888888,
              "#fdca26"
             ],
             [
              1,
              "#f0f921"
             ]
            ],
            "type": "heatmapgl"
           }
          ],
          "histogram": [
           {
            "marker": {
             "pattern": {
              "fillmode": "overlay",
              "size": 10,
              "solidity": 0.2
             }
            },
            "type": "histogram"
           }
          ],
          "histogram2d": [
           {
            "colorbar": {
             "outlinewidth": 0,
             "ticks": ""
            },
            "colorscale": [
             [
              0,
              "#0d0887"
             ],
             [
              0.1111111111111111,
              "#46039f"
             ],
             [
              0.2222222222222222,
              "#7201a8"
             ],
             [
              0.3333333333333333,
              "#9c179e"
             ],
             [
              0.4444444444444444,
              "#bd3786"
             ],
             [
              0.5555555555555556,
              "#d8576b"
             ],
             [
              0.6666666666666666,
              "#ed7953"
             ],
             [
              0.7777777777777778,
              "#fb9f3a"
             ],
             [
              0.8888888888888888,
              "#fdca26"
             ],
             [
              1,
              "#f0f921"
             ]
            ],
            "type": "histogram2d"
           }
          ],
          "histogram2dcontour": [
           {
            "colorbar": {
             "outlinewidth": 0,
             "ticks": ""
            },
            "colorscale": [
             [
              0,
              "#0d0887"
             ],
             [
              0.1111111111111111,
              "#46039f"
             ],
             [
              0.2222222222222222,
              "#7201a8"
             ],
             [
              0.3333333333333333,
              "#9c179e"
             ],
             [
              0.4444444444444444,
              "#bd3786"
             ],
             [
              0.5555555555555556,
              "#d8576b"
             ],
             [
              0.6666666666666666,
              "#ed7953"
             ],
             [
              0.7777777777777778,
              "#fb9f3a"
             ],
             [
              0.8888888888888888,
              "#fdca26"
             ],
             [
              1,
              "#f0f921"
             ]
            ],
            "type": "histogram2dcontour"
           }
          ],
          "mesh3d": [
           {
            "colorbar": {
             "outlinewidth": 0,
             "ticks": ""
            },
            "type": "mesh3d"
           }
          ],
          "parcoords": [
           {
            "line": {
             "colorbar": {
              "outlinewidth": 0,
              "ticks": ""
             }
            },
            "type": "parcoords"
           }
          ],
          "pie": [
           {
            "automargin": true,
            "type": "pie"
           }
          ],
          "scatter": [
           {
            "marker": {
             "line": {
              "color": "#283442"
             }
            },
            "type": "scatter"
           }
          ],
          "scatter3d": [
           {
            "line": {
             "colorbar": {
              "outlinewidth": 0,
              "ticks": ""
             }
            },
            "marker": {
             "colorbar": {
              "outlinewidth": 0,
              "ticks": ""
             }
            },
            "type": "scatter3d"
           }
          ],
          "scattercarpet": [
           {
            "marker": {
             "colorbar": {
              "outlinewidth": 0,
              "ticks": ""
             }
            },
            "type": "scattercarpet"
           }
          ],
          "scattergeo": [
           {
            "marker": {
             "colorbar": {
              "outlinewidth": 0,
              "ticks": ""
             }
            },
            "type": "scattergeo"
           }
          ],
          "scattergl": [
           {
            "marker": {
             "line": {
              "color": "#283442"
             }
            },
            "type": "scattergl"
           }
          ],
          "scattermapbox": [
           {
            "marker": {
             "colorbar": {
              "outlinewidth": 0,
              "ticks": ""
             }
            },
            "type": "scattermapbox"
           }
          ],
          "scatterpolar": [
           {
            "marker": {
             "colorbar": {
              "outlinewidth": 0,
              "ticks": ""
             }
            },
            "type": "scatterpolar"
           }
          ],
          "scatterpolargl": [
           {
            "marker": {
             "colorbar": {
              "outlinewidth": 0,
              "ticks": ""
             }
            },
            "type": "scatterpolargl"
           }
          ],
          "scatterternary": [
           {
            "marker": {
             "colorbar": {
              "outlinewidth": 0,
              "ticks": ""
             }
            },
            "type": "scatterternary"
           }
          ],
          "surface": [
           {
            "colorbar": {
             "outlinewidth": 0,
             "ticks": ""
            },
            "colorscale": [
             [
              0,
              "#0d0887"
             ],
             [
              0.1111111111111111,
              "#46039f"
             ],
             [
              0.2222222222222222,
              "#7201a8"
             ],
             [
              0.3333333333333333,
              "#9c179e"
             ],
             [
              0.4444444444444444,
              "#bd3786"
             ],
             [
              0.5555555555555556,
              "#d8576b"
             ],
             [
              0.6666666666666666,
              "#ed7953"
             ],
             [
              0.7777777777777778,
              "#fb9f3a"
             ],
             [
              0.8888888888888888,
              "#fdca26"
             ],
             [
              1,
              "#f0f921"
             ]
            ],
            "type": "surface"
           }
          ],
          "table": [
           {
            "cells": {
             "fill": {
              "color": "#506784"
             },
             "line": {
              "color": "rgb(17,17,17)"
             }
            },
            "header": {
             "fill": {
              "color": "#2a3f5f"
             },
             "line": {
              "color": "rgb(17,17,17)"
             }
            },
            "type": "table"
           }
          ]
         },
         "layout": {
          "annotationdefaults": {
           "arrowcolor": "#f2f5fa",
           "arrowhead": 0,
           "arrowwidth": 1
          },
          "autotypenumbers": "strict",
          "coloraxis": {
           "colorbar": {
            "outlinewidth": 0,
            "ticks": ""
           }
          },
          "colorscale": {
           "diverging": [
            [
             0,
             "#8e0152"
            ],
            [
             0.1,
             "#c51b7d"
            ],
            [
             0.2,
             "#de77ae"
            ],
            [
             0.3,
             "#f1b6da"
            ],
            [
             0.4,
             "#fde0ef"
            ],
            [
             0.5,
             "#f7f7f7"
            ],
            [
             0.6,
             "#e6f5d0"
            ],
            [
             0.7,
             "#b8e186"
            ],
            [
             0.8,
             "#7fbc41"
            ],
            [
             0.9,
             "#4d9221"
            ],
            [
             1,
             "#276419"
            ]
           ],
           "sequential": [
            [
             0,
             "#0d0887"
            ],
            [
             0.1111111111111111,
             "#46039f"
            ],
            [
             0.2222222222222222,
             "#7201a8"
            ],
            [
             0.3333333333333333,
             "#9c179e"
            ],
            [
             0.4444444444444444,
             "#bd3786"
            ],
            [
             0.5555555555555556,
             "#d8576b"
            ],
            [
             0.6666666666666666,
             "#ed7953"
            ],
            [
             0.7777777777777778,
             "#fb9f3a"
            ],
            [
             0.8888888888888888,
             "#fdca26"
            ],
            [
             1,
             "#f0f921"
            ]
           ],
           "sequentialminus": [
            [
             0,
             "#0d0887"
            ],
            [
             0.1111111111111111,
             "#46039f"
            ],
            [
             0.2222222222222222,
             "#7201a8"
            ],
            [
             0.3333333333333333,
             "#9c179e"
            ],
            [
             0.4444444444444444,
             "#bd3786"
            ],
            [
             0.5555555555555556,
             "#d8576b"
            ],
            [
             0.6666666666666666,
             "#ed7953"
            ],
            [
             0.7777777777777778,
             "#fb9f3a"
            ],
            [
             0.8888888888888888,
             "#fdca26"
            ],
            [
             1,
             "#f0f921"
            ]
           ]
          },
          "colorway": [
           "#636efa",
           "#EF553B",
           "#00cc96",
           "#ab63fa",
           "#FFA15A",
           "#19d3f3",
           "#FF6692",
           "#B6E880",
           "#FF97FF",
           "#FECB52"
          ],
          "font": {
           "color": "#f2f5fa"
          },
          "geo": {
           "bgcolor": "rgb(17,17,17)",
           "lakecolor": "rgb(17,17,17)",
           "landcolor": "rgb(17,17,17)",
           "showlakes": true,
           "showland": true,
           "subunitcolor": "#506784"
          },
          "hoverlabel": {
           "align": "left"
          },
          "hovermode": "closest",
          "mapbox": {
           "style": "dark"
          },
          "paper_bgcolor": "rgb(17,17,17)",
          "plot_bgcolor": "rgb(17,17,17)",
          "polar": {
           "angularaxis": {
            "gridcolor": "#506784",
            "linecolor": "#506784",
            "ticks": ""
           },
           "bgcolor": "rgb(17,17,17)",
           "radialaxis": {
            "gridcolor": "#506784",
            "linecolor": "#506784",
            "ticks": ""
           }
          },
          "scene": {
           "xaxis": {
            "backgroundcolor": "rgb(17,17,17)",
            "gridcolor": "#506784",
            "gridwidth": 2,
            "linecolor": "#506784",
            "showbackground": true,
            "ticks": "",
            "zerolinecolor": "#C8D4E3"
           },
           "yaxis": {
            "backgroundcolor": "rgb(17,17,17)",
            "gridcolor": "#506784",
            "gridwidth": 2,
            "linecolor": "#506784",
            "showbackground": true,
            "ticks": "",
            "zerolinecolor": "#C8D4E3"
           },
           "zaxis": {
            "backgroundcolor": "rgb(17,17,17)",
            "gridcolor": "#506784",
            "gridwidth": 2,
            "linecolor": "#506784",
            "showbackground": true,
            "ticks": "",
            "zerolinecolor": "#C8D4E3"
           }
          },
          "shapedefaults": {
           "line": {
            "color": "#f2f5fa"
           }
          },
          "sliderdefaults": {
           "bgcolor": "#C8D4E3",
           "bordercolor": "rgb(17,17,17)",
           "borderwidth": 1,
           "tickwidth": 0
          },
          "ternary": {
           "aaxis": {
            "gridcolor": "#506784",
            "linecolor": "#506784",
            "ticks": ""
           },
           "baxis": {
            "gridcolor": "#506784",
            "linecolor": "#506784",
            "ticks": ""
           },
           "bgcolor": "rgb(17,17,17)",
           "caxis": {
            "gridcolor": "#506784",
            "linecolor": "#506784",
            "ticks": ""
           }
          },
          "title": {
           "x": 0.05
          },
          "updatemenudefaults": {
           "bgcolor": "#506784",
           "borderwidth": 0
          },
          "xaxis": {
           "automargin": true,
           "gridcolor": "#283442",
           "linecolor": "#506784",
           "ticks": "",
           "title": {
            "standoff": 15
           },
           "zerolinecolor": "#283442",
           "zerolinewidth": 2
          },
          "yaxis": {
           "automargin": true,
           "gridcolor": "#283442",
           "linecolor": "#506784",
           "ticks": "",
           "title": {
            "standoff": 15
           },
           "zerolinecolor": "#283442",
           "zerolinewidth": 2
          }
         }
        },
        "title": {
         "text": "Cryptocurrencies by Trading Volume (USDT) - 2025-06-23"
        },
        "uniformtext": {
         "minsize": 10,
         "mode": "hide"
        },
        "width": 1200
       }
      }
     },
     "metadata": {},
     "output_type": "display_data"
    }
   ],
   "source": [
    "# Get yesterday's date\n",
    "yesterday = datetime.now().date() - timedelta(days=1)\n",
    "\n",
    "# Prepare yesterday's data\n",
    "treemap_data = []\n",
    "for symbol in returns_data.keys():\n",
    "    # Find yesterday's index in date_list\n",
    "    if yesterday in date_list:\n",
    "        idx = date_list.index(yesterday)\n",
    "        daily_return = returns_data[symbol][idx] if idx < len(returns_data[symbol]) else 0\n",
    "        daily_volume = volume_data.get(symbol, [0]*7)[idx] if idx < len(volume_data.get(symbol, [])) else 0\n",
    "        \n",
    "        treemap_data.append({\n",
    "            'Symbol': symbol,\n",
    "            'USDT Volume': daily_volume,\n",
    "            'Daily Return': daily_return,\n",
    "            'Performance': 'Positive' if daily_return >= 0 else 'Negative'\n",
    "        })\n",
    "\n",
    "treemap_df = pd.DataFrame(treemap_data)\n",
    "\n",
    "# Create the treemap\n",
    "fig_volume = px.treemap(\n",
    "    treemap_df,\n",
    "    path=['Symbol'],\n",
    "    values='USDT Volume',\n",
    "    title=f'Cryptocurrencies by Trading Volume (USDT) - {yesterday.strftime(\"%Y-%m-%d\")}',\n",
    "    color='Performance',\n",
    "    color_discrete_map={'Positive':'#3D9970', 'Negative':'#FF4136'},\n",
    "    hover_data=['Daily Return', 'USDT Volume'],\n",
    "    width=1200,\n",
    "    height=800\n",
    ")\n",
    "\n",
    "# Format hover template\n",
    "fig_volume.update_traces(\n",
    "    hovertemplate=\"<b>%{label}</b><br>\" +\n",
    "                 \"Volume: $%{value:,.0f}<br>\" +\n",
    "                 \"Daily Return: %{customdata[0]:.2f}%<extra></extra>\"\n",
    ")\n",
    "\n",
    "# Customize layout\n",
    "fig_volume.update_layout(\n",
    "    template=\"plotly_dark\",\n",
    "    margin=dict(t=80, l=25, r=25, b=25),\n",
    "    uniformtext=dict(minsize=10, mode='hide'),\n",
    "    annotations=[\n",
    "        dict(\n",
    "            x=0.5, y=1.05,\n",
    "            xref=\"paper\", yref=\"paper\",\n",
    "            text=\"Color indicates daily performance: <span style='color:#3D9970'>Green = Positive</span>, <span style='color:#FF4136'>Red = Negative</span>\",\n",
    "            showarrow=False,\n",
    "            font=dict(size=12)\n",
    "        )\n",
    "    ]\n",
    ")\n",
    "\n",
    "fig_volume.show()"
   ]
  },
  {
   "cell_type": "code",
   "execution_count": 14,
   "id": "0f52f9c5",
   "metadata": {},
   "outputs": [
    {
     "data": {
      "text/html": [
       "<h2>📊 Market Health Dashboard</h2>"
      ],
      "text/plain": [
       "<IPython.core.display.HTML object>"
      ]
     },
     "metadata": {},
     "output_type": "display_data"
    },
    {
     "data": {
      "text/html": [
       "<div>\n",
       "<style scoped>\n",
       "    .dataframe tbody tr th:only-of-type {\n",
       "        vertical-align: middle;\n",
       "    }\n",
       "\n",
       "    .dataframe tbody tr th {\n",
       "        vertical-align: top;\n",
       "    }\n",
       "\n",
       "    .dataframe thead th {\n",
       "        text-align: right;\n",
       "    }\n",
       "</style>\n",
       "<table border=\"1\" class=\"dataframe\">\n",
       "  <thead>\n",
       "    <tr style=\"text-align: right;\">\n",
       "      <th></th>\n",
       "      <th>Value</th>\n",
       "    </tr>\n",
       "  </thead>\n",
       "  <tbody>\n",
       "    <tr>\n",
       "      <th>Total Weekly Volume (USDT)</th>\n",
       "      <td>$444,055,321,259</td>\n",
       "    </tr>\n",
       "    <tr>\n",
       "      <th>Avg Daily Return %</th>\n",
       "      <td>-0.75%</td>\n",
       "    </tr>\n",
       "    <tr>\n",
       "      <th>Positive Days %</th>\n",
       "      <td>32.1%</td>\n",
       "    </tr>\n",
       "    <tr>\n",
       "      <th>Top Gainer</th>\n",
       "      <td>FUNUSDT</td>\n",
       "    </tr>\n",
       "    <tr>\n",
       "      <th>Top Gainer Return</th>\n",
       "      <td>110.34%</td>\n",
       "    </tr>\n",
       "  </tbody>\n",
       "</table>\n",
       "</div>"
      ],
      "text/plain": [
       "                                       Value\n",
       "Total Weekly Volume (USDT)  $444,055,321,259\n",
       "Avg Daily Return %                    -0.75%\n",
       "Positive Days %                        32.1%\n",
       "Top Gainer                           FUNUSDT\n",
       "Top Gainer Return                    110.34%"
      ]
     },
     "metadata": {},
     "output_type": "display_data"
    }
   ],
   "source": [
    "# Calculate market-wide metrics\n",
    "total_volume = sum([sum(v) for v in volume_data.values()])\n",
    "avg_daily_return = heatmap_df.mean().mean()\n",
    "positive_days = (heatmap_df > 0).sum().sum()\n",
    "market_metrics = {\n",
    "    'Total Weekly Volume (USDT)': f\"${total_volume:,.0f}\",\n",
    "    'Avg Daily Return %': f\"{avg_daily_return:.2f}%\",\n",
    "    'Positive Days %': f\"{(positive_days/(heatmap_df.size))*100:.1f}%\",\n",
    "    'Top Gainer': weekly_gainers_df.iloc[0]['Symbol'],\n",
    "    'Top Gainer Return': f\"{weekly_gainers_df.iloc[0]['Weekly Return (%)']:.2f}%\"\n",
    "}\n",
    "\n",
    "display(HTML(\"<h2>📊 Market Health Dashboard</h2>\"))\n",
    "display(pd.DataFrame.from_dict(market_metrics, orient='index', columns=['Value']))\n",
    "\n"
   ]
  },
  {
   "cell_type": "code",
   "execution_count": 15,
   "id": "65a28378",
   "metadata": {},
   "outputs": [
    {
     "data": {
      "application/vnd.plotly.v1+json": {
       "config": {
        "plotlyServerURL": "https://plot.ly"
       },
       "data": [
        {
         "colorscale": [
          [
           0,
           "rgb(103,0,31)"
          ],
          [
           0.1,
           "rgb(178,24,43)"
          ],
          [
           0.2,
           "rgb(214,96,77)"
          ],
          [
           0.3,
           "rgb(244,165,130)"
          ],
          [
           0.4,
           "rgb(253,219,199)"
          ],
          [
           0.5,
           "rgb(247,247,247)"
          ],
          [
           0.6,
           "rgb(209,229,240)"
          ],
          [
           0.7,
           "rgb(146,197,222)"
          ],
          [
           0.8,
           "rgb(67,147,195)"
          ],
          [
           0.9,
           "rgb(33,102,172)"
          ],
          [
           1,
           "rgb(5,48,97)"
          ]
         ],
         "type": "heatmap",
         "x": [
          "1000PEPEUSDT",
          "1000SHIBUSDT",
          "AAVEUSDT",
          "ADAUSDT",
          "AERGOUSDT",
          "AEROUSDT",
          "ALTUSDT",
          "ARBUSDT",
          "AVAXUSDT",
          "BANANAS31USDT",
          "BCHUSDT",
          "BIDUSDT",
          "BNBUSDT",
          "BTCUSDT",
          "CRVUSDT",
          "DOGEUSDT",
          "DOTUSDT",
          "ENAUSDT",
          "ETHFIUSDT",
          "ETHUSDT",
          "FARTCOINUSDT",
          "FILUSDT",
          "FUNUSDT",
          "HYPEUSDT",
          "INJUSDT",
          "KAIAUSDT",
          "LINKUSDT",
          "LTCUSDT",
          "MAGICUSDT",
          "MOODENGUSDT",
          "NEARUSDT",
          "NEIROUSDT",
          "ONDOUSDT",
          "OPUSDT",
          "PNUTUSDT",
          "RESOLVUSDT",
          "SEIUSDT",
          "SOLUSDT",
          "SPXUSDT",
          "SUIUSDT",
          "TAOUSDT",
          "TIAUSDT",
          "TRUMPUSDT",
          "TRXUSDT",
          "UNIUSDT",
          "VIRTUALUSDT",
          "WIFUSDT",
          "WLDUSDT",
          "XRPUSDT",
          "ZKJUSDT"
         ],
         "y": [
          "1000PEPEUSDT",
          "1000SHIBUSDT",
          "AAVEUSDT",
          "ADAUSDT",
          "AERGOUSDT",
          "AEROUSDT",
          "ALTUSDT",
          "ARBUSDT",
          "AVAXUSDT",
          "BANANAS31USDT",
          "BCHUSDT",
          "BIDUSDT",
          "BNBUSDT",
          "BTCUSDT",
          "CRVUSDT",
          "DOGEUSDT",
          "DOTUSDT",
          "ENAUSDT",
          "ETHFIUSDT",
          "ETHUSDT",
          "FARTCOINUSDT",
          "FILUSDT",
          "FUNUSDT",
          "HYPEUSDT",
          "INJUSDT",
          "KAIAUSDT",
          "LINKUSDT",
          "LTCUSDT",
          "MAGICUSDT",
          "MOODENGUSDT",
          "NEARUSDT",
          "NEIROUSDT",
          "ONDOUSDT",
          "OPUSDT",
          "PNUTUSDT",
          "RESOLVUSDT",
          "SEIUSDT",
          "SOLUSDT",
          "SPXUSDT",
          "SUIUSDT",
          "TAOUSDT",
          "TIAUSDT",
          "TRUMPUSDT",
          "TRXUSDT",
          "UNIUSDT",
          "VIRTUALUSDT",
          "WIFUSDT",
          "WLDUSDT",
          "XRPUSDT",
          "ZKJUSDT"
         ],
         "z": [
          [
           1,
           0.9846255083118859,
           0.9231990721742088,
           0.9747899491485995,
           0.5296127692555724,
           0.637791715791495,
           0.6677220553657278,
           0.9760097568278531,
           0.9154330691674836,
           0.587771848519125,
           0.39376000562957447,
           0.7570475583498779,
           0.9096347043146878,
           0.9687583833694468,
           0.959088307325955,
           0.60817976304542,
           0.9214093919155427,
           0.9959409119782604,
           0.9744253635840328,
           0.9716790652224825,
           0.7521306342318373,
           0.9544297888630369,
           0.052794602700212113,
           0.43135530187414994,
           0.9867053925612491,
           0.7907930340816205,
           0.9903406468275929,
           0.9561323192480734,
           0.18597958807765697,
           0.9902046047763706,
           0.9912158691385395,
           0.8772498600667741,
           0.9814217891409717,
           0.9915486177298061,
           0.9341922547786793,
           0.56758642917887,
           0.8353333141197524,
           0.9528777512831902,
           0.7455802833563031,
           0.979559539914223,
           0.9714800431399718,
           0.9838101207166351,
           0.9254844475189011,
           0.8885358317197246,
           0.8804826632268953,
           0.9645307649132958,
           0.972823361489086,
           0.9413368928017796,
           0.9827041401216544,
           0.43316636616932064
          ],
          [
           0.9846255083118859,
           1,
           0.9678147458797436,
           0.9758338789709954,
           0.5840470028629465,
           0.5103617630161983,
           0.6749535227367727,
           0.9801251298041908,
           0.9517998633281535,
           0.6671480554529094,
           0.3105180416866678,
           0.6822038370322963,
           0.9466840876409773,
           0.9683578974980162,
           0.9353447613192298,
           0.5680557177449304,
           0.9633630655739225,
           0.9829189613693615,
           0.9722279401670365,
           0.9693208844943371,
           0.7573912007571381,
           0.9728691961198882,
           -0.01436614413225793,
           0.4594456002556262,
           0.9533243656375604,
           0.7039024477950747,
           0.9801727346748963,
           0.9338924719584499,
           0.28557855113464686,
           0.9804763259463599,
           0.9686185017085808,
           0.8361259402154677,
           0.9508582419096147,
           0.9869056415462786,
           0.9421745535645177,
           0.6313688937717296,
           0.8170820127547733,
           0.9636670896087732,
           0.6999023071631958,
           0.9871820903471693,
           0.9742820399697323,
           0.9929736752872157,
           0.9650093531417057,
           0.8763526428018493,
           0.8487440159482061,
           0.9768140175146213,
           0.9660640848403426,
           0.9194487456569134,
           0.976689438425506,
           0.40626013562991814
          ],
          [
           0.9231990721742088,
           0.9678147458797436,
           1,
           0.9627097567204389,
           0.5975870457491869,
           0.33695348163846517,
           0.5211876109679542,
           0.942844813529408,
           0.9871690281705651,
           0.7814793686148531,
           0.3039152715626105,
           0.6539856121402932,
           0.9464765658626629,
           0.938509315787265,
           0.8412368341480151,
           0.6521486905259419,
           0.9688409396097581,
           0.9247247186021761,
           0.9555905661167825,
           0.9278585552049952,
           0.7230552131659477,
           0.9286506405800478,
           -0.09236672256913214,
           0.48017035638487277,
           0.8721463864313146,
           0.573460977111635,
           0.9375880311658538,
           0.898932231677761,
           0.31382509300195466,
           0.935668224987046,
           0.9080715945945396,
           0.7912037072209943,
           0.8684544746791377,
           0.952794450350593,
           0.8982049490799313,
           0.6547149700496363,
           0.751750846565816,
           0.960655075477914,
           0.5919228971263149,
           0.9695900088963186,
           0.9106063869996928,
           0.941231230980643,
           0.983320025032227,
           0.8070629315406666,
           0.7852844210654252,
           0.9719773709793895,
           0.9386474504222654,
           0.817195083934192,
           0.9402027002741326,
           0.4202237287063392
          ],
          [
           0.9747899491485995,
           0.9758338789709954,
           0.9627097567204389,
           1,
           0.4707495122545002,
           0.5424406824269948,
           0.5316181730477791,
           0.9790605496478862,
           0.9756931112439168,
           0.7240124057340094,
           0.44939583617704293,
           0.7939010020274925,
           0.9054975612934368,
           0.9757254390803962,
           0.9231057058197037,
           0.753394700206426,
           0.9434654924998284,
           0.9823627395807701,
           0.9855609392161627,
           0.9699166270903194,
           0.7806299282684921,
           0.944986586206165,
           0.06984420200690947,
           0.5273719025762267,
           0.9385196399919983,
           0.6766724476699942,
           0.9907226908266481,
           0.9575534956092037,
           0.15272464769489819,
           0.9777193452151337,
           0.9752704882930057,
           0.8460294599492668,
           0.9400038124479626,
           0.9819775802010241,
           0.8799291640324886,
           0.6249268137056918,
           0.7976313887617111,
           0.9907316038655531,
           0.7214236120070903,
           0.9873721322434175,
           0.9269618809694602,
           0.9536934308341992,
           0.9576234710282259,
           0.8631544010967009,
           0.8634508466349047,
           0.985671975808788,
           0.9685512789225404,
           0.8991286535465597,
           0.97792289067982,
           0.4242288439376398
          ],
          [
           0.5296127692555724,
           0.5840470028629465,
           0.5975870457491869,
           0.4707495122545002,
           1,
           -0.04409184497949919,
           0.39300851713102025,
           0.46976194474451965,
           0.4766480848984588,
           0.221292706197452,
           -0.05122553502297941,
           0.2187309773459328,
           0.7279833925804079,
           0.5415679362720403,
           0.43100517866927585,
           -0.5287926594531887,
           0.6521313490957005,
           0.4727802217016737,
           0.4807350787956782,
           0.4257309602682675,
           0.06581326548817619,
           0.5837328973225566,
           -0.37621726849571024,
           -0.2381712778233205,
           0.5191030057324791,
           0.4608744911586921,
           0.4840001763039782,
           0.398535228589295,
           0.7056019885197754,
           0.4891903350347042,
           0.49200579458735866,
           0.4473909138308126,
           0.4856002732147195,
           0.5681533417005992,
           0.7625173871687351,
           0.31319837453331506,
           0.7066596088126745,
           0.4319145858463363,
           -0.025447775347296024,
           0.5973288464442932,
           0.5837343320249457,
           0.5759803997863051,
           0.6222102975896027,
           0.5913005412476032,
           0.23243507740530864,
           0.486779669705631,
           0.5406069486828154,
           0.41457208315553545,
           0.5740518301387988,
           0.6194921573048942
          ],
          [
           0.637791715791495,
           0.5103617630161983,
           0.33695348163846517,
           0.5424406824269948,
           -0.04409184497949919,
           1,
           0.47584228420879865,
           0.589576326472004,
           0.3693580640598018,
           0.08994836974262833,
           0.32345615663089755,
           0.6953858774989291,
           0.28756313143796586,
           0.560102759577209,
           0.6904425418907615,
           0.7393558201997299,
           0.306923277556802,
           0.6352542188872472,
           0.5920376521106256,
           0.5662303443988402,
           0.6120779580659668,
           0.4409001137605901,
           0.42332302231314994,
           0.3393680067925967,
           0.7239026112439936,
           0.8375990751549264,
           0.6144217758716427,
           0.6984093436919334,
           -0.4806221087403478,
           0.6438662810973773,
           0.6681714146239066,
           0.7409816273920864,
           0.734914219662771,
           0.570733442396644,
           0.49022647713039313,
           0.17814901080869258,
           0.4409887144088346,
           0.47546680988798945,
           0.8132688518294295,
           0.5042846647601573,
           0.6117385551439866,
           0.5636388857077916,
           0.30811172466028713,
           0.43235639232087253,
           0.6448773846990894,
           0.539013433451971,
           0.6177602224501485,
           0.6867789546589671,
           0.5822343132692533,
           0.3000793135656941
          ],
          [
           0.6677220553657278,
           0.6749535227367727,
           0.5211876109679542,
           0.5316181730477791,
           0.39300851713102025,
           0.47584228420879865,
           1,
           0.6236023686939551,
           0.46456473770176315,
           0.12370764461225447,
           -0.0969553795302769,
           0.10433390541768794,
           0.6168658943081593,
           0.5455834823837322,
           0.6904267470517823,
           0.123487030440261,
           0.5686787015365793,
           0.6570626200565685,
           0.5570958454495699,
           0.6664588369551256,
           0.5040787663929469,
           0.6814992301405232,
           -0.12003723602369824,
           0.1900729391459424,
           0.6762570274482395,
           0.5779544507164154,
           0.5938307783130993,
           0.5342634083074075,
           0.37825100719574795,
           0.6370110267619058,
           0.6065433129947267,
           0.4789206235937034,
           0.6646175587110137,
           0.6161976755212706,
           0.682727921002098,
           0.3173611932959252,
           0.4730902611186667,
           0.5309213502760984,
           0.576116173941345,
           0.5629647850106063,
           0.743379520812727,
           0.7375199875419776,
           0.5411500113097858,
           0.5883194175846534,
           0.6452442759328446,
           0.557446970312245,
           0.5590381323188618,
           0.7156707964606135,
           0.5690776445739187,
           -0.07095060952103073
          ],
          [
           0.9760097568278531,
           0.9801251298041908,
           0.942844813529408,
           0.9790605496478862,
           0.46976194474451965,
           0.589576326472004,
           0.6236023686939551,
           1,
           0.9488790348868673,
           0.7332943660094199,
           0.287976097274719,
           0.7630322455656333,
           0.8695359176033208,
           0.9865053574232913,
           0.9662514166880304,
           0.7002284158804731,
           0.9330888041340396,
           0.9856978406895378,
           0.9742938445138516,
           0.9484410979447959,
           0.8589660980980871,
           0.9505045319774575,
           0.1678630557740779,
           0.6016226117431982,
           0.9481894420281077,
           0.6936462672571936,
           0.9908406167280874,
           0.9610875579979877,
           0.1227539301609415,
           0.9827272673215304,
           0.9829756560805523,
           0.85367482097257,
           0.9690125461806194,
           0.9650000211770459,
           0.8855881026178263,
           0.7169925251331303,
           0.8057953187479562,
           0.9571984008505502,
           0.8092334455471888,
           0.9762107141020275,
           0.965970814604537,
           0.972410537270935,
           0.9245813977772902,
           0.8415140367250277,
           0.8214333327980607,
           0.9824827018544342,
           0.9745984866526474,
           0.9539400649011935,
           0.9826228586089504,
           0.4414395864092426
          ],
          [
           0.9154330691674836,
           0.9517998633281535,
           0.9871690281705651,
           0.9756931112439168,
           0.4766480848984588,
           0.3693580640598018,
           0.46456473770176315,
           0.9488790348868673,
           1,
           0.827365927446056,
           0.3764819596424476,
           0.70862208010881,
           0.9050962594951181,
           0.9409040736765065,
           0.8497204608427101,
           0.7997664479166867,
           0.9537968861409342,
           0.9291665516883192,
           0.9561873789547563,
           0.9342291003668884,
           0.7717040615804605,
           0.9198489479721818,
           0.0019271718900436983,
           0.5733841110756966,
           0.8561639220725644,
           0.5304877683092211,
           0.9452330654351503,
           0.907563218241814,
           0.21828673907901983,
           0.9311284478112932,
           0.9118087822740457,
           0.7724696197325949,
           0.8615896351267078,
           0.9400037256774444,
           0.8357357519879643,
           0.6777069955323621,
           0.7263757206262782,
           0.9806740965870718,
           0.6448705616948728,
           0.9612164279626295,
           0.8800622627781207,
           0.9172468084171118,
           0.9716168030889094,
           0.8015180321279802,
           0.802263466415168,
           0.9732744867527761,
           0.928355689029133,
           0.8252785080282655,
           0.933962441965323,
           0.3764670640676448
          ],
          [
           0.587771848519125,
           0.6671480554529094,
           0.7814793686148531,
           0.7240124057340094,
           0.221292706197452,
           0.08994836974262833,
           0.12370764461225447,
           0.7332943660094199,
           0.827365927446056,
           1,
           0.0593867200865271,
           0.5622312057866604,
           0.5644262445476264,
           0.7260441282828797,
           0.597127412525432,
           0.0572219792235147,
           0.7278257762913233,
           0.6304904054322874,
           0.6952294548079516,
           0.603899135174204,
           0.7892269772474116,
           0.6401514511412099,
           0.26030683535432114,
           0.81908856088715,
           0.5030116311135356,
           0.11355808218502828,
           0.6791521269082739,
           0.6663461319342231,
           0.0028873021762402164,
           0.6439774409235322,
           0.628393160529575,
           0.5011962602664546,
           0.5682627487371822,
           0.6133738339452022,
           0.4765036034547471,
           0.8550038208323142,
           0.45588567947013003,
           0.7281846751037289,
           0.565015728748852,
           0.6943908763651234,
           0.5949185033473805,
           0.6126333707026722,
           0.7171499291018668,
           0.4546224827452808,
           0.4095008145936009,
           0.7527299587660528,
           0.6779647938599186,
           0.5854391644720732,
           0.676159163043302,
           0.34892187900645916
          ],
          [
           0.39376000562957447,
           0.3105180416866678,
           0.3039152715626105,
           0.44939583617704293,
           -0.05122553502297941,
           0.32345615663089755,
           -0.0969553795302769,
           0.287976097274719,
           0.3764819596424476,
           0.0593867200865271,
           1,
           0.5611212821598642,
           0.36840348338417517,
           0.3256141174842246,
           0.285543471938875,
           0.38826839608398434,
           0.310999067203332,
           0.40054371159621466,
           0.3815150447364662,
           0.4660214406846865,
           0.02654394431788761,
           0.33711537515119816,
           -0.0737087763822002,
           -0.05349888002710369,
           0.36589866645890373,
           0.2988468374091336,
           0.40003811476169215,
           0.3549929547361399,
           -0.030732672641529263,
           0.3485907003234428,
           0.3905507787492969,
           0.2758976618820002,
           0.3026409936774618,
           0.417764925751146,
           0.22166172497239153,
           -0.19575108551508402,
           0.3275139999937493,
           0.4907175427214257,
           0.10744870763321382,
           0.38053481235521874,
           0.17163054285811635,
           0.2565626355511596,
           0.39184030859774777,
           0.4989975285674959,
           0.5653166785219889,
           0.32552900391041545,
           0.30826161225255955,
           0.2394671233102304,
           0.34873228143167767,
           0.017940278047665556
          ],
          [
           0.7570475583498779,
           0.6822038370322963,
           0.6539856121402932,
           0.7939010020274925,
           0.2187309773459328,
           0.6953858774989291,
           0.10433390541768794,
           0.7630322455656333,
           0.70862208010881,
           0.5622312057866604,
           0.5611212821598642,
           1,
           0.5399262037411072,
           0.8153626956619723,
           0.7646715380798399,
           0.511184720769407,
           0.6369150663600215,
           0.7662694377345248,
           0.7773893919710013,
           0.6766414622802087,
           0.6570896472976064,
           0.6469926235783073,
           0.45700995691299473,
           0.48948918036928724,
           0.7643535161386872,
           0.6677380195295942,
           0.805128764634929,
           0.8245353832832426,
           -0.2985485721353383,
           0.7624987561078138,
           0.8233910850276295,
           0.7843915624628536,
           0.7932610098196156,
           0.7448090264320787,
           0.598561279543657,
           0.5046193963118102,
           0.730388927843646,
           0.7393887699749925,
           0.6850450405937497,
           0.7678712359098914,
           0.6608434370934113,
           0.6505998084317404,
           0.638409975459993,
           0.6646036894039484,
           0.5953700673485391,
           0.7526570389076662,
           0.7985550713674469,
           0.7329627113475917,
           0.8094417571430161,
           0.666654883806472
          ],
          [
           0.9096347043146878,
           0.9466840876409773,
           0.9464765658626629,
           0.9054975612934368,
           0.7279833925804079,
           0.28756313143796586,
           0.6168658943081593,
           0.8695359176033208,
           0.9050962594951181,
           0.5644262445476264,
           0.36840348338417517,
           0.5399262037411072,
           1,
           0.8765020875302667,
           0.8019374980213348,
           0.030815538029607705,
           0.9585612771213617,
           0.893911358952595,
           0.88863251463817,
           0.9140609079312643,
           0.5228855843384606,
           0.9380543919931813,
           -0.27262523431980845,
           0.2170775836280674,
           0.8615220355482857,
           0.6095141214746789,
           0.8886974541800835,
           0.8059318230088988,
           0.5341464824372196,
           0.8858541468297559,
           0.8672852891486587,
           0.7144999288525866,
           0.827288100088557,
           0.9388730147136889,
           0.9355234716464889,
           0.483684906201813,
           0.7996470035066658,
           0.9132121709634732,
           0.43658238517693726,
           0.9380941178501512,
           0.8825664798206064,
           0.9260402556242626,
           0.9746302544175726,
           0.8831815109775245,
           0.7908068993106209,
           0.8912603789317753,
           0.8714398700378108,
           0.7780233028880549,
           0.8971864018241523,
           0.36068541828643547
          ],
          [
           0.9687583833694468,
           0.9683578974980162,
           0.938509315787265,
           0.9757254390803962,
           0.5415679362720403,
           0.560102759577209,
           0.5455834823837322,
           0.9865053574232913,
           0.9409040736765065,
           0.7260441282828797,
           0.3256141174842246,
           0.8153626956619723,
           0.8765020875302667,
           1,
           0.9593558212320559,
           0.4616179865405885,
           0.9465967137413458,
           0.9736537183910366,
           0.960460698183752,
           0.9171664866256478,
           0.8026055947372577,
           0.9513474835153969,
           0.19510214003766133,
           0.5471852343310997,
           0.9389705292093438,
           0.6951901259967601,
           0.9885947704729052,
           0.9440953086262477,
           0.15267727612633097,
           0.9652749447614363,
           0.9853887641553598,
           0.8453390593256699,
           0.9614009210306935,
           0.9610356167559126,
           0.8911416374850512,
           0.7268459314481217,
           0.8783644588079701,
           0.9460417692437673,
           0.7516547352724606,
           0.9868311707104371,
           0.9454269477203776,
           0.9499972512858703,
           0.9307002175693126,
           0.8775456966266363,
           0.7634461058038303,
           0.9666331169665352,
           0.9730084525747827,
           0.9429114253315042,
           0.9957650679692809,
           0.5547507320502554
          ],
          [
           0.959088307325955,
           0.9353447613192298,
           0.8412368341480151,
           0.9231057058197037,
           0.43100517866927585,
           0.6904425418907615,
           0.6904267470517823,
           0.9662514166880304,
           0.8497204608427101,
           0.597127412525432,
           0.285543471938875,
           0.7646715380798399,
           0.8019374980213348,
           0.9593558212320559,
           1,
           0.40941403062192183,
           0.8783080862702058,
           0.9689592420260754,
           0.9064620850784224,
           0.9042638362324937,
           0.8292225988204156,
           0.9396266206291176,
           0.298207455213912,
           0.5623367644692505,
           0.9423178210114305,
           0.7321025752045333,
           0.9643715766797182,
           0.9092074836333646,
           0.10102604240427862,
           0.9414213366129179,
           0.9746383316674939,
           0.8023733908584008,
           0.972634248840911,
           0.9183865777015491,
           0.8448248197243678,
           0.6954249646255743,
           0.856886461814194,
           0.893173976400221,
           0.8504260558090644,
           0.9288644326646396,
           0.9423209328121672,
           0.937845682788309,
           0.8472630673821898,
           0.8805698956894318,
           0.7826402554980109,
           0.9068152126166795,
           0.921943651856788,
           0.9976754009428731,
           0.9552163620521545,
           0.43392880053197225
          ],
          [
           0.60817976304542,
           0.5680557177449304,
           0.6521486905259419,
           0.753394700206426,
           -0.5287926594531887,
           0.7393558201997299,
           0.123487030440261,
           0.7002284158804731,
           0.7997664479166867,
           0.0572219792235147,
           0.38826839608398434,
           0.511184720769407,
           0.030815538029607705,
           0.4616179865405885,
           0.40941403062192183,
           1,
           -0.1855492337772724,
           0.6505303117411895,
           0.8703706305014469,
           0.7229257274818951,
           0.6064413896406307,
           0.08211689769255366,
           0.07771096402223394,
           0.3078602299592781,
           0.6422796797148377,
           0.5817018696126148,
           0.6581938060635134,
           0.8758384122632876,
           -0.7409128429755654,
           0.7896479290538935,
           0.5967722375321177,
           0.7621524586672508,
           0.6156375898780249,
           0.649031051220702,
           0.2690443544213389,
           -0.3408690769495598,
           -0.2355199372928916,
           0.6983564394806747,
           0.6462524743458588,
           0.5041156911962793,
           0.5305870048776201,
           0.5720597492223461,
           0.18110526707807856,
           -0.09425787202628857,
           0.7909178191443559,
           0.9095372499430817,
           0.7269323854107447,
           0.35286036621324335,
           0.49942910581641387,
           -0.10195627443688304
          ],
          [
           0.9214093919155427,
           0.9633630655739225,
           0.9688409396097581,
           0.9434654924998284,
           0.6521313490957005,
           0.306923277556802,
           0.5686787015365793,
           0.9330888041340396,
           0.9537968861409342,
           0.7278257762913233,
           0.310999067203332,
           0.6369150663600215,
           0.9585612771213617,
           0.9465967137413458,
           0.8783080862702058,
           -0.1855492337772724,
           1,
           0.9249887220372275,
           0.9053759659124846,
           0.9078210012000849,
           0.6722762486959093,
           0.9783525189350843,
           -0.021644422881914066,
           0.44105750805295146,
           0.8551577356621386,
           0.534313906065909,
           0.9341349712530699,
           0.8362814878911092,
           0.434989880147398,
           0.9024020109073989,
           0.9107042317700458,
           0.6984695374420778,
           0.8608115079620781,
           0.9335182709586802,
           0.8865856827786057,
           0.6998415479924214,
           0.8572770726479193,
           0.9459691649556063,
           0.5658961206914189,
           0.9687362148989928,
           0.8957905578297963,
           0.9301934611478578,
           0.9890126096933923,
           0.9086482786207447,
           0.7301461722904385,
           0.9251963131376398,
           0.8982224014678928,
           0.8622317031870458,
           0.9426063044246705,
           0.42627544470585227
          ],
          [
           0.9959409119782604,
           0.9829189613693615,
           0.9247247186021761,
           0.9823627395807701,
           0.4727802217016737,
           0.6352542188872472,
           0.6570626200565685,
           0.9856978406895378,
           0.9291665516883192,
           0.6304904054322874,
           0.40054371159621466,
           0.7662694377345248,
           0.893911358952595,
           0.9736537183910366,
           0.9689592420260754,
           0.6505303117411895,
           0.9249887220372275,
           1,
           0.9738267846964654,
           0.9767189762088732,
           0.7913333785419265,
           0.9603087162214899,
           0.10414591357960852,
           0.5000362100956919,
           0.9739551246255786,
           0.7489323086978669,
           0.9955270920012438,
           0.9564890611486028,
           0.15717786531304045,
           0.988103225360517,
           0.9923024320253384,
           0.855429834852704,
           0.9768014102632,
           0.9837466151714691,
           0.9027319852819162,
           0.6073228157176334,
           0.8223176227001069,
           0.9661732158583785,
           0.7789072280628987,
           0.9776202908580464,
           0.9620109859394684,
           0.9779440404645057,
           0.927078593743643,
           0.8878441969716265,
           0.8825097458691711,
           0.9685791286264619,
           0.9664751241433259,
           0.9532916083901471,
           0.980587897016809,
           0.3975613905588137
          ],
          [
           0.9744253635840328,
           0.9722279401670365,
           0.9555905661167825,
           0.9855609392161627,
           0.4807350787956782,
           0.5920376521106256,
           0.5570958454495699,
           0.9742938445138516,
           0.9561873789547563,
           0.6952294548079516,
           0.3815150447364662,
           0.7773893919710013,
           0.88863251463817,
           0.960460698183752,
           0.9064620850784224,
           0.8703706305014469,
           0.9053759659124846,
           0.9738267846964654,
           1,
           0.9624694870135803,
           0.7944015003417523,
           0.9058586384492384,
           0.023683122317649904,
           0.5033181724011374,
           0.9603264706708383,
           0.7490865385998174,
           0.9800168930914852,
           0.985747194653032,
           0.09352841002518396,
           0.992798586124361,
           0.9696029805285024,
           0.9151390509753251,
           0.9555507221772775,
           0.9854653106276505,
           0.9099246250020796,
           0.5816761607001983,
           0.7479028803727352,
           0.963508388210211,
           0.7395255944066031,
           0.9745873116406755,
           0.9521534749017906,
           0.965145164357765,
           0.926845924913227,
           0.7952920966129301,
           0.8767823461273679,
           0.9951376173326922,
           0.9895034059553169,
           0.8812578287722858,
           0.9710195790634677,
           0.44869838111683075
          ],
          [
           0.9716790652224825,
           0.9693208844943371,
           0.9278585552049952,
           0.9699166270903194,
           0.4257309602682675,
           0.5662303443988402,
           0.6664588369551256,
           0.9484410979447959,
           0.9342291003668884,
           0.603899135174204,
           0.4660214406846865,
           0.6766414622802087,
           0.9140609079312643,
           0.9171664866256478,
           0.9042638362324937,
           0.7229257274818951,
           0.9078210012000849,
           0.9767189762088732,
           0.9624694870135803,
           1,
           0.7369087398527605,
           0.9386643445754105,
           -0.05611063898394622,
           0.4501349081744308,
           0.9407015430644721,
           0.6958833074955432,
           0.9626580399985581,
           0.926693247123417,
           0.21221127329965575,
           0.9675673370839959,
           0.9461459530790179,
           0.813136230611662,
           0.9220386922664942,
           0.9742826761581731,
           0.8796597530456384,
           0.49945820729850854,
           0.7222821000984266,
           0.9768010449012875,
           0.7102119783685206,
           0.9491558240362568,
           0.9254575616329105,
           0.9631641719423794,
           0.9353857825086638,
           0.8544307495747859,
           0.946752112914771,
           0.9550623480223824,
           0.9272815627895765,
           0.8844486365050936,
           0.930681063490485,
           0.23880362229012272
          ],
          [
           0.7521306342318373,
           0.7573912007571381,
           0.7230552131659477,
           0.7806299282684921,
           0.06581326548817619,
           0.6120779580659668,
           0.5040787663929469,
           0.8589660980980871,
           0.7717040615804605,
           0.7892269772474116,
           0.02654394431788761,
           0.6570896472976064,
           0.5228855843384606,
           0.8026055947372577,
           0.8292225988204156,
           0.6064413896406307,
           0.6722762486959093,
           0.7913333785419265,
           0.7944015003417523,
           0.7369087398527605,
           1,
           0.7053778503300838,
           0.46357864421519,
           0.8905687837600311,
           0.7347671575382511,
           0.4843475333608874,
           0.8016758286764422,
           0.8361074398054192,
           -0.25582614013217414,
           0.8034935822226412,
           0.7915192494777221,
           0.7163775221916426,
           0.8050226184008049,
           0.7151363433589171,
           0.581915288768965,
           0.7968022265044085,
           0.4962927939220126,
           0.7529799654586729,
           0.9458897186332954,
           0.7355155230451568,
           0.7874865287896609,
           0.7650735881209211,
           0.6486261032926456,
           0.5126648911588924,
           0.6368708796549414,
           0.8218552955046105,
           0.794930860356837,
           0.8356321389392659,
           0.7697577289091679,
           0.27535389152680995
          ],
          [
           0.9544297888630369,
           0.9728691961198882,
           0.9286506405800478,
           0.944986586206165,
           0.5837328973225566,
           0.4409001137605901,
           0.6814992301405232,
           0.9505045319774575,
           0.9198489479721818,
           0.6401514511412099,
           0.33711537515119816,
           0.6469926235783073,
           0.9380543919931813,
           0.9513474835153969,
           0.9396266206291176,
           0.08211689769255366,
           0.9783525189350843,
           0.9603087162214899,
           0.9058586384492384,
           0.9386643445754105,
           0.7053778503300838,
           1,
           0.047829499831627126,
           0.44904235731137343,
           0.8996354792610961,
           0.6058653233851048,
           0.9551916980534862,
           0.8513411515391138,
           0.39025221809575017,
           0.9237206073600369,
           0.9426097710589522,
           0.7090278386461792,
           0.9066848509112271,
           0.9438815412348142,
           0.8871106211842252,
           0.6696285602810583,
           0.8734444590110529,
           0.9464042600177596,
           0.6582744881185923,
           0.9638793125232906,
           0.9236426485735497,
           0.9538328670051948,
           0.9611996379421721,
           0.9476443635465669,
           0.7901062333631184,
           0.9169489946961127,
           0.8988925012728156,
           0.9306398464888848,
           0.9503237117173214,
           0.3588366898284297
          ],
          [
           0.052794602700212113,
           -0.01436614413225793,
           -0.09236672256913214,
           0.06984420200690947,
           -0.37621726849571024,
           0.42332302231314994,
           -0.12003723602369824,
           0.1678630557740779,
           0.0019271718900436983,
           0.26030683535432114,
           -0.0737087763822002,
           0.45700995691299473,
           -0.27262523431980845,
           0.19510214003766133,
           0.298207455213912,
           0.07771096402223394,
           -0.021644422881914066,
           0.10414591357960852,
           0.023683122317649904,
           -0.05611063898394622,
           0.46357864421519,
           0.047829499831627126,
           1,
           0.6252580298279196,
           0.05589200870857308,
           0.012217823091279719,
           0.1380901739704725,
           0.13070249444480497,
           -0.5932546751014124,
           0.05466968253402217,
           0.17246130361710613,
           0.053607982286990374,
           0.1810027940460201,
           -0.03970146003856905,
           -0.18209342387162125,
           0.5220389869653139,
           0.21277083999133295,
           0.0169298874249386,
           0.5494019478667342,
           0.039304471360672014,
           0.036633853031866614,
           -0.024320111269983454,
           -0.11271610179893789,
           0.0707177952135163,
           -0.15313209874888115,
           0.041010659347137844,
           0.08097738381281429,
           0.32481547266078753,
           0.13277008744123078,
           0.2884640808694101
          ],
          [
           0.43135530187414994,
           0.4594456002556262,
           0.48017035638487277,
           0.5273719025762267,
           -0.2381712778233205,
           0.3393680067925967,
           0.1900729391459424,
           0.6016226117431982,
           0.5733841110756966,
           0.81908856088715,
           -0.05349888002710369,
           0.48948918036928724,
           0.2170775836280674,
           0.5471852343310997,
           0.5623367644692505,
           0.3078602299592781,
           0.44105750805295146,
           0.5000362100956919,
           0.5033181724011374,
           0.4501349081744308,
           0.8905687837600311,
           0.44904235731137343,
           0.6252580298279196,
           1,
           0.3765109118056799,
           0.05920508102830716,
           0.5266181801738016,
           0.5440231806040866,
           -0.3739608064323138,
           0.4917979652585728,
           0.497323829094367,
           0.36437245953440095,
           0.4796478622628877,
           0.39355995838355023,
           0.1945696790101847,
           0.8064312331173525,
           0.23628682185666425,
           0.5263354353030955,
           0.7886262324905112,
           0.45423508080452996,
           0.4493800066903487,
           0.4395474645263421,
           0.4071256466933757,
           0.26043180136215416,
           0.3378191513909523,
           0.5549864195058983,
           0.4871765400649407,
           0.5772392296577751,
           0.4815607645851776,
           0.09001944799086602
          ],
          [
           0.9867053925612491,
           0.9533243656375604,
           0.8721463864313146,
           0.9385196399919983,
           0.5191030057324791,
           0.7239026112439936,
           0.6762570274482395,
           0.9481894420281077,
           0.8561639220725644,
           0.5030116311135356,
           0.36589866645890373,
           0.7643535161386872,
           0.8615220355482857,
           0.9389705292093438,
           0.9423178210114305,
           0.6422796797148377,
           0.8551577356621386,
           0.9739551246255786,
           0.9603264706708383,
           0.9407015430644721,
           0.7347671575382511,
           0.8996354792610961,
           0.05589200870857308,
           0.3765109118056799,
           1,
           0.8772404444429797,
           0.9654130813665963,
           0.962288032460687,
           0.10360609616765927,
           0.9825475623235458,
           0.9783039475194789,
           0.9275223890841284,
           0.9895821466603291,
           0.974185580902876,
           0.9389170843239436,
           0.49596848210261685,
           0.8064955781303638,
           0.9005104244067096,
           0.7603712495951589,
           0.946129751534731,
           0.9707212915789952,
           0.9673800671206645,
           0.8619119507406812,
           0.8345980391876736,
           0.8756897408669371,
           0.9396624024697309,
           0.9698893993727007,
           0.9239284382275733,
           0.9619906139437651,
           0.4722409161423022
          ],
          [
           0.7907930340816205,
           0.7039024477950747,
           0.573460977111635,
           0.6766724476699942,
           0.4608744911586921,
           0.8375990751549264,
           0.5779544507164154,
           0.6936462672571936,
           0.5304877683092211,
           0.11355808218502828,
           0.2988468374091336,
           0.6677380195295942,
           0.6095141214746789,
           0.6951901259967601,
           0.7321025752045333,
           0.5817018696126148,
           0.534313906065909,
           0.7489323086978669,
           0.7490865385998174,
           0.6958833074955432,
           0.4843475333608874,
           0.6058653233851048,
           0.012217823091279719,
           0.05920508102830716,
           0.8772404444429797,
           1,
           0.7320866792297558,
           0.799506385227485,
           -0.08087324008471877,
           0.7878968502688662,
           0.7808946272876484,
           0.9020513974347577,
           0.8432032157425492,
           0.7709792059311279,
           0.8144219073630875,
           0.15307321513051012,
           0.6402687841193776,
           0.6003660701255479,
           0.6134000443440183,
           0.7004265021395378,
           0.7949766771936585,
           0.7536466410419373,
           0.548923268991222,
           0.5928713071020547,
           0.7170484539232245,
           0.6939526218112644,
           0.7904450211601796,
           0.7114451090079756,
           0.7465317122783399,
           0.5311255216826033
          ],
          [
           0.9903406468275929,
           0.9801727346748963,
           0.9375880311658538,
           0.9907226908266481,
           0.4840001763039782,
           0.6144217758716427,
           0.5938307783130993,
           0.9908406167280874,
           0.9452330654351503,
           0.6791521269082739,
           0.40003811476169215,
           0.805128764634929,
           0.8886974541800835,
           0.9885947704729052,
           0.9643715766797182,
           0.6581938060635134,
           0.9341349712530699,
           0.9955270920012438,
           0.9800168930914852,
           0.9626580399985581,
           0.8016758286764422,
           0.9551916980534862,
           0.1380901739704725,
           0.5266181801738016,
           0.9654130813665963,
           0.7320866792297558,
           1,
           0.9642544957242746,
           0.13375152204311336,
           0.9868789548370783,
           0.9955052457719739,
           0.863879510907111,
           0.9742575025074204,
           0.9825511438661526,
           0.8967161517787072,
           0.6458206929403543,
           0.8377752630829158,
           0.9700950497260068,
           0.7725336421993645,
           0.9872143048814206,
           0.9545038786742388,
           0.9680843354229662,
           0.9340792654617999,
           0.8815710283209242,
           0.8511187090119172,
           0.977712499831283,
           0.9771378344707896,
           0.9461479585512298,
           0.9914658763910131,
           0.4592978562145286
          ],
          [
           0.9561323192480734,
           0.9338924719584499,
           0.898932231677761,
           0.9575534956092037,
           0.398535228589295,
           0.6984093436919334,
           0.5342634083074075,
           0.9610875579979877,
           0.907563218241814,
           0.6663461319342231,
           0.3549929547361399,
           0.8245353832832426,
           0.8059318230088988,
           0.9440953086262477,
           0.9092074836333646,
           0.8758384122632876,
           0.8362814878911092,
           0.9564890611486028,
           0.985747194653032,
           0.926693247123417,
           0.8361074398054192,
           0.8513411515391138,
           0.13070249444480497,
           0.5440231806040866,
           0.962288032460687,
           0.799506385227485,
           0.9642544957242746,
           1,
           -0.058389347713986496,
           0.9837221504451207,
           0.9643347767753037,
           0.9530681161869368,
           0.9668281994593394,
           0.9559465395825059,
           0.8738158507677536,
           0.5734351407735211,
           0.7162261148025344,
           0.9199379606332327,
           0.8109547948139296,
           0.9392301528888448,
           0.9408983227566988,
           0.9368935340754705,
           0.8542328457254094,
           0.7364176187900217,
           0.8586164784410178,
           0.9749630258044077,
           0.9855345033250574,
           0.8858716219547865,
           0.9540237247621404,
           0.48462093549509905
          ],
          [
           0.18597958807765697,
           0.28557855113464686,
           0.31382509300195466,
           0.15272464769489819,
           0.7056019885197754,
           -0.4806221087403478,
           0.37825100719574795,
           0.1227539301609415,
           0.21828673907901983,
           0.0028873021762402164,
           -0.030732672641529263,
           -0.2985485721353383,
           0.5341464824372196,
           0.15267727612633097,
           0.10102604240427862,
           -0.7409128429755654,
           0.434989880147398,
           0.15717786531304045,
           0.09352841002518396,
           0.21221127329965575,
           -0.25582614013217414,
           0.39025221809575017,
           -0.5932546751014124,
           -0.3739608064323138,
           0.10360609616765927,
           -0.08087324008471877,
           0.13375152204311336,
           -0.058389347713986496,
           1,
           0.10692849189036052,
           0.10465591861335961,
           -0.137544488914757,
           0.052606537752536306,
           0.2219364229886673,
           0.36588123205289974,
           0.07598861895682014,
           0.35730439565097794,
           0.20753769902080652,
           -0.3596407100452232,
           0.2491099631753929,
           0.1980088758016961,
           0.2595832909239213,
           0.41614676389206595,
           0.44033778575038013,
           0.07792358859605529,
           0.1200212952293031,
           0.08217540289890482,
           0.10353944905004026,
           0.17078997049179592,
           -0.05038414713813781
          ],
          [
           0.9902046047763706,
           0.9804763259463599,
           0.935668224987046,
           0.9777193452151337,
           0.4891903350347042,
           0.6438662810973773,
           0.6370110267619058,
           0.9827272673215304,
           0.9311284478112932,
           0.6439774409235322,
           0.3485907003234428,
           0.7624987561078138,
           0.8858541468297559,
           0.9652749447614363,
           0.9414213366129179,
           0.7896479290538935,
           0.9024020109073989,
           0.988103225360517,
           0.992798586124361,
           0.9675673370839959,
           0.8034935822226412,
           0.9237206073600369,
           0.05466968253402217,
           0.4917979652585728,
           0.9825475623235458,
           0.7878968502688662,
           0.9868789548370783,
           0.9837221504451207,
           0.10692849189036052,
           1,
           0.9839297719364558,
           0.9154093796139863,
           0.9805300634012467,
           0.988151065838822,
           0.9254434301205654,
           0.584960976243113,
           0.7753788469261604,
           0.9516932976235897,
           0.776263795060015,
           0.9732399050191456,
           0.9761259997532491,
           0.9826897268054413,
           0.9137001177678177,
           0.8211330906240547,
           0.8833616200894189,
           0.9859038635364925,
           0.9892922765775769,
           0.922024048136406,
           0.9774661149141826,
           0.43750173837371364
          ],
          [
           0.9912158691385395,
           0.9686185017085808,
           0.9080715945945396,
           0.9752704882930057,
           0.49200579458735866,
           0.6681714146239066,
           0.6065433129947267,
           0.9829756560805523,
           0.9118087822740457,
           0.628393160529575,
           0.3905507787492969,
           0.8233910850276295,
           0.8672852891486587,
           0.9853887641553598,
           0.9746383316674939,
           0.5967722375321177,
           0.9107042317700458,
           0.9923024320253384,
           0.9696029805285024,
           0.9461459530790179,
           0.7915192494777221,
           0.9426097710589522,
           0.17246130361710613,
           0.497323829094367,
           0.9783039475194789,
           0.7808946272876484,
           0.9955052457719739,
           0.9643347767753037,
           0.10465591861335961,
           0.9839297719364558,
           1,
           0.8819051041994395,
           0.9881324399536031,
           0.9762544877537878,
           0.9023973111722533,
           0.6274833724699223,
           0.8577775494547731,
           0.9447681056290985,
           0.7870836446215291,
           0.9775264857160865,
           0.958468382173914,
           0.9628382610246621,
           0.905188053923698,
           0.8821372237577033,
           0.8385307703485089,
           0.9618393622678321,
           0.9767976411716348,
           0.9576262346697588,
           0.9914250402785487,
           0.4988533292682359
          ],
          [
           0.8772498600667741,
           0.8361259402154677,
           0.7912037072209943,
           0.8460294599492668,
           0.4473909138308126,
           0.7409816273920864,
           0.4789206235937034,
           0.85367482097257,
           0.7724696197325949,
           0.5011962602664546,
           0.2758976618820002,
           0.7843915624628536,
           0.7144999288525866,
           0.8453390593256699,
           0.8023733908584008,
           0.7621524586672508,
           0.6984695374420778,
           0.855429834852704,
           0.9151390509753251,
           0.813136230611662,
           0.7163775221916426,
           0.7090278386461792,
           0.053607982286990374,
           0.36437245953440095,
           0.9275223890841284,
           0.9020513974347577,
           0.863879510907111,
           0.9530681161869368,
           -0.137544488914757,
           0.9154093796139863,
           0.8819051041994395,
           1,
           0.9160650968612972,
           0.8841354259806437,
           0.8670690776351585,
           0.4120194405117086,
           0.6434757892783183,
           0.7799184254622826,
           0.7217460505458936,
           0.8451608457132301,
           0.8895049689068962,
           0.8594869374366466,
           0.7237676845031901,
           0.6003321103024033,
           0.777904587224897,
           0.8877090211228552,
           0.9381951868006903,
           0.7740969539429244,
           0.8739520253266754,
           0.5889116602214077
          ],
          [
           0.9814217891409717,
           0.9508582419096147,
           0.8684544746791377,
           0.9400038124479626,
           0.4856002732147195,
           0.734914219662771,
           0.6646175587110137,
           0.9690125461806194,
           0.8615896351267078,
           0.5682627487371822,
           0.3026409936774618,
           0.7932610098196156,
           0.827288100088557,
           0.9614009210306935,
           0.972634248840911,
           0.6156375898780249,
           0.8608115079620781,
           0.9768014102632,
           0.9555507221772775,
           0.9220386922664942,
           0.8050226184008049,
           0.9066848509112271,
           0.1810027940460201,
           0.4796478622628877,
           0.9895821466603291,
           0.8432032157425492,
           0.9742575025074204,
           0.9668281994593394,
           0.052606537752536306,
           0.9805300634012467,
           0.9881324399536031,
           0.9160650968612972,
           1,
           0.9584865738495719,
           0.9115178611167295,
           0.6004624680628213,
           0.8253081701559274,
           0.8965298904198966,
           0.8235434853470708,
           0.947198937874518,
           0.974716140306657,
           0.9625852229178999,
           0.8513774066382233,
           0.8304465733035192,
           0.829897636360134,
           0.9437852472481191,
           0.9737763523328976,
           0.9598620923456818,
           0.9728146866051968,
           0.5060900114476039
          ],
          [
           0.9915486177298061,
           0.9869056415462786,
           0.952794450350593,
           0.9819775802010241,
           0.5681533417005992,
           0.570733442396644,
           0.6161976755212706,
           0.9650000211770459,
           0.9400037256774444,
           0.6133738339452022,
           0.417764925751146,
           0.7448090264320787,
           0.9388730147136889,
           0.9610356167559126,
           0.9183865777015491,
           0.649031051220702,
           0.9335182709586802,
           0.9837466151714691,
           0.9854653106276505,
           0.9742826761581731,
           0.7151363433589171,
           0.9438815412348142,
           -0.03970146003856905,
           0.39355995838355023,
           0.974185580902876,
           0.7709792059311279,
           0.9825511438661526,
           0.9559465395825059,
           0.2219364229886673,
           0.988151065838822,
           0.9762544877537878,
           0.8841354259806437,
           0.9584865738495719,
           1,
           0.9474927598141564,
           0.5371591147572062,
           0.8131199226687634,
           0.9643222973423059,
           0.6800566163415424,
           0.9868838901196753,
           0.9600563019262706,
           0.9797388455427922,
           0.9503075295989883,
           0.8703070195345342,
           0.8838274884148215,
           0.9759763184382905,
           0.9773348342072962,
           0.894018004846522,
           0.9784648981967136,
           0.44335144022995776
          ],
          [
           0.9341922547786793,
           0.9421745535645177,
           0.8982049490799313,
           0.8799291640324886,
           0.7625173871687351,
           0.49022647713039313,
           0.682727921002098,
           0.8855881026178263,
           0.8357357519879643,
           0.4765036034547471,
           0.22166172497239153,
           0.598561279543657,
           0.9355234716464889,
           0.8911416374850512,
           0.8448248197243678,
           0.2690443544213389,
           0.8865856827786057,
           0.9027319852819162,
           0.9099246250020796,
           0.8796597530456384,
           0.581915288768965,
           0.8871106211842252,
           -0.18209342387162125,
           0.1945696790101847,
           0.9389170843239436,
           0.8144219073630875,
           0.8967161517787072,
           0.8738158507677536,
           0.36588123205289974,
           0.9254434301205654,
           0.9023973111722533,
           0.8670690776351585,
           0.9115178611167295,
           0.9474927598141564,
           1,
           0.4701499778397658,
           0.8139376405979676,
           0.8435205727035092,
           0.547479463415726,
           0.928836659459528,
           0.9548476681184307,
           0.9535937756685642,
           0.890203850414617,
           0.8125483335422671,
           0.7702290563757684,
           0.89962410743984,
           0.9303611675959753,
           0.8244637730189811,
           0.9231454147830498,
           0.5264182352176681
          ],
          [
           0.56758642917887,
           0.6313688937717296,
           0.6547149700496363,
           0.6249268137056918,
           0.31319837453331506,
           0.17814901080869258,
           0.3173611932959252,
           0.7169925251331303,
           0.6777069955323621,
           0.8550038208323142,
           -0.19575108551508402,
           0.5046193963118102,
           0.483684906201813,
           0.7268459314481217,
           0.6954249646255743,
           -0.3408690769495598,
           0.6998415479924214,
           0.6073228157176334,
           0.5816761607001983,
           0.49945820729850854,
           0.7968022265044085,
           0.6696285602810583,
           0.5220389869653139,
           0.8064312331173525,
           0.49596848210261685,
           0.15307321513051012,
           0.6458206929403543,
           0.5734351407735211,
           0.07598861895682014,
           0.584960976243113,
           0.6274833724699223,
           0.4120194405117086,
           0.6004624680628213,
           0.5371591147572062,
           0.4701499778397658,
           1,
           0.6163184864932308,
           0.6002980839087035,
           0.650769549456948,
           0.6446796381299555,
           0.6213482068011934,
           0.5992059616748349,
           0.6168049153287257,
           0.530285929608631,
           0.23659537149037632,
           0.6468486224601879,
           0.61896941250746,
           0.7117618273837164,
           0.667142899822788,
           0.4497169108013988
          ],
          [
           0.8353333141197524,
           0.8170820127547733,
           0.751750846565816,
           0.7976313887617111,
           0.7066596088126745,
           0.4409887144088346,
           0.4730902611186667,
           0.8057953187479562,
           0.7263757206262782,
           0.45588567947013003,
           0.3275139999937493,
           0.730388927843646,
           0.7996470035066658,
           0.8783644588079701,
           0.856886461814194,
           -0.2355199372928916,
           0.8572770726479193,
           0.8223176227001069,
           0.7479028803727352,
           0.7222821000984266,
           0.4962927939220126,
           0.8734444590110529,
           0.21277083999133295,
           0.23628682185666425,
           0.8064955781303638,
           0.6402687841193776,
           0.8377752630829158,
           0.7162261148025344,
           0.35730439565097794,
           0.7753788469261604,
           0.8577775494547731,
           0.6434757892783183,
           0.8253081701559274,
           0.8131199226687634,
           0.8139376405979676,
           0.6163184864932308,
           1,
           0.7575970583428162,
           0.5040723347828452,
           0.8624098252705212,
           0.7915951977191189,
           0.7904437079514716,
           0.8053873970571698,
           0.9320405450677921,
           0.5254536284091319,
           0.7449483237463667,
           0.7961102515778278,
           0.8452609953486094,
           0.8802609588491092,
           0.6732825019976948
          ],
          [
           0.9528777512831902,
           0.9636670896087732,
           0.960655075477914,
           0.9907316038655531,
           0.4319145858463363,
           0.47546680988798945,
           0.5309213502760984,
           0.9571984008505502,
           0.9806740965870718,
           0.7281846751037289,
           0.4907175427214257,
           0.7393887699749925,
           0.9132121709634732,
           0.9460417692437673,
           0.893173976400221,
           0.6983564394806747,
           0.9459691649556063,
           0.9661732158583785,
           0.963508388210211,
           0.9768010449012875,
           0.7529799654586729,
           0.9464042600177596,
           0.0169298874249386,
           0.5263354353030955,
           0.9005104244067096,
           0.6003660701255479,
           0.9700950497260068,
           0.9199379606332327,
           0.20753769902080652,
           0.9516932976235897,
           0.9447681056290985,
           0.7799184254622826,
           0.8965298904198966,
           0.9643222973423059,
           0.8435205727035092,
           0.6002980839087035,
           0.7575970583428162,
           1,
           0.6819091743876586,
           0.9688586094301889,
           0.8915580454641064,
           0.9348933972845476,
           0.9676051913594299,
           0.8662497045758326,
           0.8796926956746425,
           0.9670984811774039,
           0.9292846505449094,
           0.8694259225014335,
           0.9460266568414183,
           0.31779051415053555
          ],
          [
           0.7455802833563031,
           0.6999023071631958,
           0.5919228971263149,
           0.7214236120070903,
           -0.025447775347296024,
           0.8132688518294295,
           0.576116173941345,
           0.8092334455471888,
           0.6448705616948728,
           0.565015728748852,
           0.10744870763321382,
           0.6850450405937497,
           0.43658238517693726,
           0.7516547352724606,
           0.8504260558090644,
           0.6462524743458588,
           0.5658961206914189,
           0.7789072280628987,
           0.7395255944066031,
           0.7102119783685206,
           0.9458897186332954,
           0.6582744881185923,
           0.5494019478667342,
           0.7886262324905112,
           0.7603712495951589,
           0.6134000443440183,
           0.7725336421993645,
           0.8109547948139296,
           -0.3596407100452232,
           0.776263795060015,
           0.7870836446215291,
           0.7217460505458936,
           0.8235434853470708,
           0.6800566163415424,
           0.547479463415726,
           0.650769549456948,
           0.5040723347828452,
           0.6819091743876586,
           1,
           0.6731373441717108,
           0.7622897054996159,
           0.7281849625821971,
           0.5381980282881709,
           0.5249336022611722,
           0.6679953700871987,
           0.7428016538634074,
           0.7491121530708414,
           0.8614872961353958,
           0.7309183964805602,
           0.24035322592476369
          ],
          [
           0.979559539914223,
           0.9871820903471693,
           0.9695900088963186,
           0.9873721322434175,
           0.5973288464442932,
           0.5042846647601573,
           0.5629647850106063,
           0.9762107141020275,
           0.9612164279626295,
           0.6943908763651234,
           0.38053481235521874,
           0.7678712359098914,
           0.9380941178501512,
           0.9868311707104371,
           0.9288644326646396,
           0.5041156911962793,
           0.9687362148989928,
           0.9776202908580464,
           0.9745873116406755,
           0.9491558240362568,
           0.7355155230451568,
           0.9638793125232906,
           0.039304471360672014,
           0.45423508080452996,
           0.946129751534731,
           0.7004265021395378,
           0.9872143048814206,
           0.9392301528888448,
           0.2491099631753929,
           0.9732399050191456,
           0.9775264857160865,
           0.8451608457132301,
           0.947198937874518,
           0.9868838901196753,
           0.928836659459528,
           0.6446796381299555,
           0.8624098252705212,
           0.9688586094301889,
           0.6731373441717108,
           1,
           0.948594012212904,
           0.967246845678882,
           0.9697805581847484,
           0.8932012788721744,
           0.8127305323167319,
           0.9765644740352687,
           0.9743709908655405,
           0.9066687254858423,
           0.9924343084743719,
           0.5063920611319979
          ],
          [
           0.9714800431399718,
           0.9742820399697323,
           0.9106063869996928,
           0.9269618809694602,
           0.5837343320249457,
           0.6117385551439866,
           0.743379520812727,
           0.965970814604537,
           0.8800622627781207,
           0.5949185033473805,
           0.17163054285811635,
           0.6608434370934113,
           0.8825664798206064,
           0.9454269477203776,
           0.9423209328121672,
           0.5305870048776201,
           0.8957905578297963,
           0.9620109859394684,
           0.9521534749017906,
           0.9254575616329105,
           0.7874865287896609,
           0.9236426485735497,
           0.036633853031866614,
           0.4493800066903487,
           0.9707212915789952,
           0.7949766771936585,
           0.9545038786742388,
           0.9408983227566988,
           0.1980088758016961,
           0.9761259997532491,
           0.958468382173914,
           0.8895049689068962,
           0.974716140306657,
           0.9600563019262706,
           0.9548476681184307,
           0.6213482068011934,
           0.7915951977191189,
           0.8915580454641064,
           0.7622897054996159,
           0.948594012212904,
           1,
           0.9908487822347822,
           0.8861306604536475,
           0.8072765592552344,
           0.8154159573624481,
           0.9523185059563393,
           0.9677005740044029,
           0.9330565642363058,
           0.9590289182035004,
           0.45520722700726596
          ],
          [
           0.9838101207166351,
           0.9929736752872157,
           0.941231230980643,
           0.9536934308341992,
           0.5759803997863051,
           0.5636388857077916,
           0.7375199875419776,
           0.972410537270935,
           0.9172468084171118,
           0.6126333707026722,
           0.2565626355511596,
           0.6505998084317404,
           0.9260402556242626,
           0.9499972512858703,
           0.937845682788309,
           0.5720597492223461,
           0.9301934611478578,
           0.9779440404645057,
           0.965145164357765,
           0.9631641719423794,
           0.7650735881209211,
           0.9538328670051948,
           -0.024320111269983454,
           0.4395474645263421,
           0.9673800671206645,
           0.7536466410419373,
           0.9680843354229662,
           0.9368935340754705,
           0.2595832909239213,
           0.9826897268054413,
           0.9628382610246621,
           0.8594869374366466,
           0.9625852229178999,
           0.9797388455427922,
           0.9535937756685642,
           0.5992059616748349,
           0.7904437079514716,
           0.9348933972845476,
           0.7281849625821971,
           0.967246845678882,
           0.9908487822347822,
           1,
           0.9309087915558363,
           0.8464459937608143,
           0.8599298617292578,
           0.9658625623391206,
           0.9639316203280626,
           0.9253613910651882,
           0.9635730295720987,
           0.38765860602391766
          ],
          [
           0.9254844475189011,
           0.9650093531417057,
           0.983320025032227,
           0.9576234710282259,
           0.6222102975896027,
           0.30811172466028713,
           0.5411500113097858,
           0.9245813977772902,
           0.9716168030889094,
           0.7171499291018668,
           0.39184030859774777,
           0.638409975459993,
           0.9746302544175726,
           0.9307002175693126,
           0.8472630673821898,
           0.18110526707807856,
           0.9890126096933923,
           0.927078593743643,
           0.926845924913227,
           0.9353857825086638,
           0.6486261032926456,
           0.9611996379421721,
           -0.11271610179893789,
           0.4071256466933757,
           0.8619119507406812,
           0.548923268991222,
           0.9340792654617999,
           0.8542328457254094,
           0.41614676389206595,
           0.9137001177678177,
           0.905188053923698,
           0.7237676845031901,
           0.8513774066382233,
           0.9503075295989883,
           0.890203850414617,
           0.6168049153287257,
           0.8053873970571698,
           0.9676051913594299,
           0.5381980282881709,
           0.9697805581847484,
           0.8861306604536475,
           0.9309087915558363,
           1,
           0.8865912289077785,
           0.7911084720582409,
           0.9397477546439417,
           0.9044385059584958,
           0.8239386792733281,
           0.9338495349062128,
           0.37803937521474174
          ],
          [
           0.8885358317197246,
           0.8763526428018493,
           0.8070629315406666,
           0.8631544010967009,
           0.5913005412476032,
           0.43235639232087253,
           0.5883194175846534,
           0.8415140367250277,
           0.8015180321279802,
           0.4546224827452808,
           0.4989975285674959,
           0.6646036894039484,
           0.8831815109775245,
           0.8775456966266363,
           0.8805698956894318,
           -0.09425787202628857,
           0.9086482786207447,
           0.8878441969716265,
           0.7952920966129301,
           0.8544307495747859,
           0.5126648911588924,
           0.9476443635465669,
           0.0707177952135163,
           0.26043180136215416,
           0.8345980391876736,
           0.5928713071020547,
           0.8815710283209242,
           0.7364176187900217,
           0.44033778575038013,
           0.8211330906240547,
           0.8821372237577033,
           0.6003321103024033,
           0.8304465733035192,
           0.8703070195345342,
           0.8125483335422671,
           0.530285929608631,
           0.9320405450677921,
           0.8662497045758326,
           0.5249336022611722,
           0.8932012788721744,
           0.8072765592552344,
           0.8464459937608143,
           0.8865912289077785,
           1,
           0.7166929518402486,
           0.7897559221107594,
           0.7941756268113229,
           0.8680633698974807,
           0.8829326632192276,
           0.3849700809043127
          ],
          [
           0.8804826632268953,
           0.8487440159482061,
           0.7852844210654252,
           0.8634508466349047,
           0.23243507740530864,
           0.6448773846990894,
           0.6452442759328446,
           0.8214333327980607,
           0.802263466415168,
           0.4095008145936009,
           0.5653166785219889,
           0.5953700673485391,
           0.7908068993106209,
           0.7634461058038303,
           0.7826402554980109,
           0.7909178191443559,
           0.7301461722904385,
           0.8825097458691711,
           0.8767823461273679,
           0.946752112914771,
           0.6368708796549414,
           0.7901062333631184,
           -0.15313209874888115,
           0.3378191513909523,
           0.8756897408669371,
           0.7170484539232245,
           0.8511187090119172,
           0.8586164784410178,
           0.07792358859605529,
           0.8833616200894189,
           0.8385307703485089,
           0.777904587224897,
           0.829897636360134,
           0.8838274884148215,
           0.7702290563757684,
           0.23659537149037632,
           0.5254536284091319,
           0.8796926956746425,
           0.6679953700871987,
           0.8127305323167319,
           0.8154159573624481,
           0.8599298617292578,
           0.7911084720582409,
           0.7166929518402486,
           1,
           0.8474894415460986,
           0.8185191556814132,
           0.7590787544460124,
           0.7929552315266072,
           0.046073876565413514
          ],
          [
           0.9645307649132958,
           0.9768140175146213,
           0.9719773709793895,
           0.985671975808788,
           0.486779669705631,
           0.539013433451971,
           0.557446970312245,
           0.9824827018544342,
           0.9732744867527761,
           0.7527299587660528,
           0.32552900391041545,
           0.7526570389076662,
           0.8912603789317753,
           0.9666331169665352,
           0.9068152126166795,
           0.9095372499430817,
           0.9251963131376398,
           0.9685791286264619,
           0.9951376173326922,
           0.9550623480223824,
           0.8218552955046105,
           0.9169489946961127,
           0.041010659347137844,
           0.5549864195058983,
           0.9396624024697309,
           0.6939526218112644,
           0.977712499831283,
           0.9749630258044077,
           0.1200212952293031,
           0.9859038635364925,
           0.9618393622678321,
           0.8877090211228552,
           0.9437852472481191,
           0.9759763184382905,
           0.89962410743984,
           0.6468486224601879,
           0.7449483237463667,
           0.9670984811774039,
           0.7428016538634074,
           0.9765644740352687,
           0.9523185059563393,
           0.9658625623391206,
           0.9397477546439417,
           0.7897559221107594,
           0.8474894415460986,
           1,
           0.9847505350485519,
           0.8847372725164211,
           0.9701623490147833,
           0.44093793772868717
          ],
          [
           0.972823361489086,
           0.9660640848403426,
           0.9386474504222654,
           0.9685512789225404,
           0.5406069486828154,
           0.6177602224501485,
           0.5590381323188618,
           0.9745984866526474,
           0.928355689029133,
           0.6779647938599186,
           0.30826161225255955,
           0.7985550713674469,
           0.8714398700378108,
           0.9730084525747827,
           0.921943651856788,
           0.7269323854107447,
           0.8982224014678928,
           0.9664751241433259,
           0.9895034059553169,
           0.9272815627895765,
           0.794930860356837,
           0.8988925012728156,
           0.08097738381281429,
           0.4871765400649407,
           0.9698893993727007,
           0.7904450211601796,
           0.9771378344707896,
           0.9855345033250574,
           0.08217540289890482,
           0.9892922765775769,
           0.9767976411716348,
           0.9381951868006903,
           0.9737763523328976,
           0.9773348342072962,
           0.9303611675959753,
           0.61896941250746,
           0.7961102515778278,
           0.9292846505449094,
           0.7491121530708414,
           0.9743709908655405,
           0.9677005740044029,
           0.9639316203280626,
           0.9044385059584958,
           0.7941756268113229,
           0.8185191556814132,
           0.9847505350485519,
           1,
           0.8992925977745264,
           0.983541898810283,
           0.5537977125042542
          ],
          [
           0.9413368928017796,
           0.9194487456569134,
           0.817195083934192,
           0.8991286535465597,
           0.41457208315553545,
           0.6867789546589671,
           0.7156707964606135,
           0.9539400649011935,
           0.8252785080282655,
           0.5854391644720732,
           0.2394671233102304,
           0.7329627113475917,
           0.7780233028880549,
           0.9429114253315042,
           0.9976754009428731,
           0.35286036621324335,
           0.8622317031870458,
           0.9532916083901471,
           0.8812578287722858,
           0.8844486365050936,
           0.8356321389392659,
           0.9306398464888848,
           0.32481547266078753,
           0.5772392296577751,
           0.9239284382275733,
           0.7114451090079756,
           0.9461479585512298,
           0.8858716219547865,
           0.10353944905004026,
           0.922024048136406,
           0.9576262346697588,
           0.7740969539429244,
           0.9598620923456818,
           0.894018004846522,
           0.8244637730189811,
           0.7117618273837164,
           0.8452609953486094,
           0.8694259225014335,
           0.8614872961353958,
           0.9066687254858423,
           0.9330565642363058,
           0.9253613910651882,
           0.8239386792733281,
           0.8680633698974807,
           0.7590787544460124,
           0.8847372725164211,
           0.8992925977745264,
           1,
           0.9360351279359409,
           0.40945838062265905
          ],
          [
           0.9827041401216544,
           0.976689438425506,
           0.9402027002741326,
           0.97792289067982,
           0.5740518301387988,
           0.5822343132692533,
           0.5690776445739187,
           0.9826228586089504,
           0.933962441965323,
           0.676159163043302,
           0.34873228143167767,
           0.8094417571430161,
           0.8971864018241523,
           0.9957650679692809,
           0.9552163620521545,
           0.49942910581641387,
           0.9426063044246705,
           0.980587897016809,
           0.9710195790634677,
           0.930681063490485,
           0.7697577289091679,
           0.9503237117173214,
           0.13277008744123078,
           0.4815607645851776,
           0.9619906139437651,
           0.7465317122783399,
           0.9914658763910131,
           0.9540237247621404,
           0.17078997049179592,
           0.9774661149141826,
           0.9914250402785487,
           0.8739520253266754,
           0.9728146866051968,
           0.9784648981967136,
           0.9231454147830498,
           0.667142899822788,
           0.8802609588491092,
           0.9460266568414183,
           0.7309183964805602,
           0.9924343084743719,
           0.9590289182035004,
           0.9635730295720987,
           0.9338495349062128,
           0.8829326632192276,
           0.7929552315266072,
           0.9701623490147833,
           0.983541898810283,
           0.9360351279359409,
           1,
           0.5586584459774516
          ],
          [
           0.43316636616932064,
           0.40626013562991814,
           0.4202237287063392,
           0.4242288439376398,
           0.6194921573048942,
           0.3000793135656941,
           -0.07095060952103073,
           0.4414395864092426,
           0.3764670640676448,
           0.34892187900645916,
           0.017940278047665556,
           0.666654883806472,
           0.36068541828643547,
           0.5547507320502554,
           0.43392880053197225,
           -0.10195627443688304,
           0.42627544470585227,
           0.3975613905588137,
           0.44869838111683075,
           0.23880362229012272,
           0.27535389152680995,
           0.3588366898284297,
           0.2884640808694101,
           0.09001944799086602,
           0.4722409161423022,
           0.5311255216826033,
           0.4592978562145286,
           0.48462093549509905,
           -0.05038414713813781,
           0.43750173837371364,
           0.4988533292682359,
           0.5889116602214077,
           0.5060900114476039,
           0.44335144022995776,
           0.5264182352176681,
           0.4497169108013988,
           0.6732825019976948,
           0.31779051415053555,
           0.24035322592476369,
           0.5063920611319979,
           0.45520722700726596,
           0.38765860602391766,
           0.37803937521474174,
           0.3849700809043127,
           0.046073876565413514,
           0.44093793772868717,
           0.5537977125042542,
           0.40945838062265905,
           0.5586584459774516,
           1
          ]
         ],
         "zmax": 1,
         "zmin": -1
        }
       ],
       "layout": {
        "height": 800,
        "template": {
         "data": {
          "bar": [
           {
            "error_x": {
             "color": "#2a3f5f"
            },
            "error_y": {
             "color": "#2a3f5f"
            },
            "marker": {
             "line": {
              "color": "#E5ECF6",
              "width": 0.5
             },
             "pattern": {
              "fillmode": "overlay",
              "size": 10,
              "solidity": 0.2
             }
            },
            "type": "bar"
           }
          ],
          "barpolar": [
           {
            "marker": {
             "line": {
              "color": "#E5ECF6",
              "width": 0.5
             },
             "pattern": {
              "fillmode": "overlay",
              "size": 10,
              "solidity": 0.2
             }
            },
            "type": "barpolar"
           }
          ],
          "carpet": [
           {
            "aaxis": {
             "endlinecolor": "#2a3f5f",
             "gridcolor": "white",
             "linecolor": "white",
             "minorgridcolor": "white",
             "startlinecolor": "#2a3f5f"
            },
            "baxis": {
             "endlinecolor": "#2a3f5f",
             "gridcolor": "white",
             "linecolor": "white",
             "minorgridcolor": "white",
             "startlinecolor": "#2a3f5f"
            },
            "type": "carpet"
           }
          ],
          "choropleth": [
           {
            "colorbar": {
             "outlinewidth": 0,
             "ticks": ""
            },
            "type": "choropleth"
           }
          ],
          "contour": [
           {
            "colorbar": {
             "outlinewidth": 0,
             "ticks": ""
            },
            "colorscale": [
             [
              0,
              "#0d0887"
             ],
             [
              0.1111111111111111,
              "#46039f"
             ],
             [
              0.2222222222222222,
              "#7201a8"
             ],
             [
              0.3333333333333333,
              "#9c179e"
             ],
             [
              0.4444444444444444,
              "#bd3786"
             ],
             [
              0.5555555555555556,
              "#d8576b"
             ],
             [
              0.6666666666666666,
              "#ed7953"
             ],
             [
              0.7777777777777778,
              "#fb9f3a"
             ],
             [
              0.8888888888888888,
              "#fdca26"
             ],
             [
              1,
              "#f0f921"
             ]
            ],
            "type": "contour"
           }
          ],
          "contourcarpet": [
           {
            "colorbar": {
             "outlinewidth": 0,
             "ticks": ""
            },
            "type": "contourcarpet"
           }
          ],
          "heatmap": [
           {
            "colorbar": {
             "outlinewidth": 0,
             "ticks": ""
            },
            "colorscale": [
             [
              0,
              "#0d0887"
             ],
             [
              0.1111111111111111,
              "#46039f"
             ],
             [
              0.2222222222222222,
              "#7201a8"
             ],
             [
              0.3333333333333333,
              "#9c179e"
             ],
             [
              0.4444444444444444,
              "#bd3786"
             ],
             [
              0.5555555555555556,
              "#d8576b"
             ],
             [
              0.6666666666666666,
              "#ed7953"
             ],
             [
              0.7777777777777778,
              "#fb9f3a"
             ],
             [
              0.8888888888888888,
              "#fdca26"
             ],
             [
              1,
              "#f0f921"
             ]
            ],
            "type": "heatmap"
           }
          ],
          "heatmapgl": [
           {
            "colorbar": {
             "outlinewidth": 0,
             "ticks": ""
            },
            "colorscale": [
             [
              0,
              "#0d0887"
             ],
             [
              0.1111111111111111,
              "#46039f"
             ],
             [
              0.2222222222222222,
              "#7201a8"
             ],
             [
              0.3333333333333333,
              "#9c179e"
             ],
             [
              0.4444444444444444,
              "#bd3786"
             ],
             [
              0.5555555555555556,
              "#d8576b"
             ],
             [
              0.6666666666666666,
              "#ed7953"
             ],
             [
              0.7777777777777778,
              "#fb9f3a"
             ],
             [
              0.8888888888888888,
              "#fdca26"
             ],
             [
              1,
              "#f0f921"
             ]
            ],
            "type": "heatmapgl"
           }
          ],
          "histogram": [
           {
            "marker": {
             "pattern": {
              "fillmode": "overlay",
              "size": 10,
              "solidity": 0.2
             }
            },
            "type": "histogram"
           }
          ],
          "histogram2d": [
           {
            "colorbar": {
             "outlinewidth": 0,
             "ticks": ""
            },
            "colorscale": [
             [
              0,
              "#0d0887"
             ],
             [
              0.1111111111111111,
              "#46039f"
             ],
             [
              0.2222222222222222,
              "#7201a8"
             ],
             [
              0.3333333333333333,
              "#9c179e"
             ],
             [
              0.4444444444444444,
              "#bd3786"
             ],
             [
              0.5555555555555556,
              "#d8576b"
             ],
             [
              0.6666666666666666,
              "#ed7953"
             ],
             [
              0.7777777777777778,
              "#fb9f3a"
             ],
             [
              0.8888888888888888,
              "#fdca26"
             ],
             [
              1,
              "#f0f921"
             ]
            ],
            "type": "histogram2d"
           }
          ],
          "histogram2dcontour": [
           {
            "colorbar": {
             "outlinewidth": 0,
             "ticks": ""
            },
            "colorscale": [
             [
              0,
              "#0d0887"
             ],
             [
              0.1111111111111111,
              "#46039f"
             ],
             [
              0.2222222222222222,
              "#7201a8"
             ],
             [
              0.3333333333333333,
              "#9c179e"
             ],
             [
              0.4444444444444444,
              "#bd3786"
             ],
             [
              0.5555555555555556,
              "#d8576b"
             ],
             [
              0.6666666666666666,
              "#ed7953"
             ],
             [
              0.7777777777777778,
              "#fb9f3a"
             ],
             [
              0.8888888888888888,
              "#fdca26"
             ],
             [
              1,
              "#f0f921"
             ]
            ],
            "type": "histogram2dcontour"
           }
          ],
          "mesh3d": [
           {
            "colorbar": {
             "outlinewidth": 0,
             "ticks": ""
            },
            "type": "mesh3d"
           }
          ],
          "parcoords": [
           {
            "line": {
             "colorbar": {
              "outlinewidth": 0,
              "ticks": ""
             }
            },
            "type": "parcoords"
           }
          ],
          "pie": [
           {
            "automargin": true,
            "type": "pie"
           }
          ],
          "scatter": [
           {
            "fillpattern": {
             "fillmode": "overlay",
             "size": 10,
             "solidity": 0.2
            },
            "type": "scatter"
           }
          ],
          "scatter3d": [
           {
            "line": {
             "colorbar": {
              "outlinewidth": 0,
              "ticks": ""
             }
            },
            "marker": {
             "colorbar": {
              "outlinewidth": 0,
              "ticks": ""
             }
            },
            "type": "scatter3d"
           }
          ],
          "scattercarpet": [
           {
            "marker": {
             "colorbar": {
              "outlinewidth": 0,
              "ticks": ""
             }
            },
            "type": "scattercarpet"
           }
          ],
          "scattergeo": [
           {
            "marker": {
             "colorbar": {
              "outlinewidth": 0,
              "ticks": ""
             }
            },
            "type": "scattergeo"
           }
          ],
          "scattergl": [
           {
            "marker": {
             "colorbar": {
              "outlinewidth": 0,
              "ticks": ""
             }
            },
            "type": "scattergl"
           }
          ],
          "scattermapbox": [
           {
            "marker": {
             "colorbar": {
              "outlinewidth": 0,
              "ticks": ""
             }
            },
            "type": "scattermapbox"
           }
          ],
          "scatterpolar": [
           {
            "marker": {
             "colorbar": {
              "outlinewidth": 0,
              "ticks": ""
             }
            },
            "type": "scatterpolar"
           }
          ],
          "scatterpolargl": [
           {
            "marker": {
             "colorbar": {
              "outlinewidth": 0,
              "ticks": ""
             }
            },
            "type": "scatterpolargl"
           }
          ],
          "scatterternary": [
           {
            "marker": {
             "colorbar": {
              "outlinewidth": 0,
              "ticks": ""
             }
            },
            "type": "scatterternary"
           }
          ],
          "surface": [
           {
            "colorbar": {
             "outlinewidth": 0,
             "ticks": ""
            },
            "colorscale": [
             [
              0,
              "#0d0887"
             ],
             [
              0.1111111111111111,
              "#46039f"
             ],
             [
              0.2222222222222222,
              "#7201a8"
             ],
             [
              0.3333333333333333,
              "#9c179e"
             ],
             [
              0.4444444444444444,
              "#bd3786"
             ],
             [
              0.5555555555555556,
              "#d8576b"
             ],
             [
              0.6666666666666666,
              "#ed7953"
             ],
             [
              0.7777777777777778,
              "#fb9f3a"
             ],
             [
              0.8888888888888888,
              "#fdca26"
             ],
             [
              1,
              "#f0f921"
             ]
            ],
            "type": "surface"
           }
          ],
          "table": [
           {
            "cells": {
             "fill": {
              "color": "#EBF0F8"
             },
             "line": {
              "color": "white"
             }
            },
            "header": {
             "fill": {
              "color": "#C8D4E3"
             },
             "line": {
              "color": "white"
             }
            },
            "type": "table"
           }
          ]
         },
         "layout": {
          "annotationdefaults": {
           "arrowcolor": "#2a3f5f",
           "arrowhead": 0,
           "arrowwidth": 1
          },
          "autotypenumbers": "strict",
          "coloraxis": {
           "colorbar": {
            "outlinewidth": 0,
            "ticks": ""
           }
          },
          "colorscale": {
           "diverging": [
            [
             0,
             "#8e0152"
            ],
            [
             0.1,
             "#c51b7d"
            ],
            [
             0.2,
             "#de77ae"
            ],
            [
             0.3,
             "#f1b6da"
            ],
            [
             0.4,
             "#fde0ef"
            ],
            [
             0.5,
             "#f7f7f7"
            ],
            [
             0.6,
             "#e6f5d0"
            ],
            [
             0.7,
             "#b8e186"
            ],
            [
             0.8,
             "#7fbc41"
            ],
            [
             0.9,
             "#4d9221"
            ],
            [
             1,
             "#276419"
            ]
           ],
           "sequential": [
            [
             0,
             "#0d0887"
            ],
            [
             0.1111111111111111,
             "#46039f"
            ],
            [
             0.2222222222222222,
             "#7201a8"
            ],
            [
             0.3333333333333333,
             "#9c179e"
            ],
            [
             0.4444444444444444,
             "#bd3786"
            ],
            [
             0.5555555555555556,
             "#d8576b"
            ],
            [
             0.6666666666666666,
             "#ed7953"
            ],
            [
             0.7777777777777778,
             "#fb9f3a"
            ],
            [
             0.8888888888888888,
             "#fdca26"
            ],
            [
             1,
             "#f0f921"
            ]
           ],
           "sequentialminus": [
            [
             0,
             "#0d0887"
            ],
            [
             0.1111111111111111,
             "#46039f"
            ],
            [
             0.2222222222222222,
             "#7201a8"
            ],
            [
             0.3333333333333333,
             "#9c179e"
            ],
            [
             0.4444444444444444,
             "#bd3786"
            ],
            [
             0.5555555555555556,
             "#d8576b"
            ],
            [
             0.6666666666666666,
             "#ed7953"
            ],
            [
             0.7777777777777778,
             "#fb9f3a"
            ],
            [
             0.8888888888888888,
             "#fdca26"
            ],
            [
             1,
             "#f0f921"
            ]
           ]
          },
          "colorway": [
           "#636efa",
           "#EF553B",
           "#00cc96",
           "#ab63fa",
           "#FFA15A",
           "#19d3f3",
           "#FF6692",
           "#B6E880",
           "#FF97FF",
           "#FECB52"
          ],
          "font": {
           "color": "#2a3f5f"
          },
          "geo": {
           "bgcolor": "white",
           "lakecolor": "white",
           "landcolor": "#E5ECF6",
           "showlakes": true,
           "showland": true,
           "subunitcolor": "white"
          },
          "hoverlabel": {
           "align": "left"
          },
          "hovermode": "closest",
          "mapbox": {
           "style": "light"
          },
          "paper_bgcolor": "white",
          "plot_bgcolor": "#E5ECF6",
          "polar": {
           "angularaxis": {
            "gridcolor": "white",
            "linecolor": "white",
            "ticks": ""
           },
           "bgcolor": "#E5ECF6",
           "radialaxis": {
            "gridcolor": "white",
            "linecolor": "white",
            "ticks": ""
           }
          },
          "scene": {
           "xaxis": {
            "backgroundcolor": "#E5ECF6",
            "gridcolor": "white",
            "gridwidth": 2,
            "linecolor": "white",
            "showbackground": true,
            "ticks": "",
            "zerolinecolor": "white"
           },
           "yaxis": {
            "backgroundcolor": "#E5ECF6",
            "gridcolor": "white",
            "gridwidth": 2,
            "linecolor": "white",
            "showbackground": true,
            "ticks": "",
            "zerolinecolor": "white"
           },
           "zaxis": {
            "backgroundcolor": "#E5ECF6",
            "gridcolor": "white",
            "gridwidth": 2,
            "linecolor": "white",
            "showbackground": true,
            "ticks": "",
            "zerolinecolor": "white"
           }
          },
          "shapedefaults": {
           "line": {
            "color": "#2a3f5f"
           }
          },
          "ternary": {
           "aaxis": {
            "gridcolor": "white",
            "linecolor": "white",
            "ticks": ""
           },
           "baxis": {
            "gridcolor": "white",
            "linecolor": "white",
            "ticks": ""
           },
           "bgcolor": "#E5ECF6",
           "caxis": {
            "gridcolor": "white",
            "linecolor": "white",
            "ticks": ""
           }
          },
          "title": {
           "x": 0.05
          },
          "xaxis": {
           "automargin": true,
           "gridcolor": "white",
           "linecolor": "white",
           "ticks": "",
           "title": {
            "standoff": 15
           },
           "zerolinecolor": "white",
           "zerolinewidth": 2
          },
          "yaxis": {
           "automargin": true,
           "gridcolor": "white",
           "linecolor": "white",
           "ticks": "",
           "title": {
            "standoff": 15
           },
           "zerolinecolor": "white",
           "zerolinewidth": 2
          }
         }
        },
        "title": {
         "text": "Top 25 Coins Correlation Matrix"
        },
        "width": 800
       }
      }
     },
     "metadata": {},
     "output_type": "display_data"
    }
   ],
   "source": [
    "# Calculate correlation between top 20 coins\n",
    "corr_matrix = heatmap_df[heatmap_df.index.isin(weekly_volume_df.head(100)['Symbol'])].T.corr()\n",
    "\n",
    "fig = go.Figure(go.Heatmap(\n",
    "    z=corr_matrix.values,\n",
    "    x=corr_matrix.columns,\n",
    "    y=corr_matrix.index,\n",
    "    colorscale='RdBu',\n",
    "    zmin=-1,\n",
    "    zmax=1\n",
    "))\n",
    "fig.update_layout(title='Top 25 Coins Correlation Matrix',\n",
    "                 height=800,\n",
    "                 width=800)\n",
    "fig.show()"
   ]
  },
  {
   "cell_type": "code",
   "execution_count": null,
   "id": "ef1a9065",
   "metadata": {},
   "outputs": [],
   "source": []
  }
 ],
 "metadata": {
  "kernelspec": {
   "display_name": "Python 3",
   "language": "python",
   "name": "python3"
  },
  "language_info": {
   "codemirror_mode": {
    "name": "ipython",
    "version": 3
   },
   "file_extension": ".py",
   "mimetype": "text/x-python",
   "name": "python",
   "nbconvert_exporter": "python",
   "pygments_lexer": "ipython3",
   "version": "3.12.5"
  }
 },
 "nbformat": 4,
 "nbformat_minor": 5
}
