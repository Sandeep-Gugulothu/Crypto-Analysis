{
 "cells": [
  {
   "cell_type": "code",
   "execution_count": 1,
   "id": "d97b75b9",
   "metadata": {},
   "outputs": [],
   "source": [
    "import os\n",
    "import pandas as pd\n",
    "import numpy as np\n",
    "from binance.client import Client\n",
    "from datetime import datetime ,timedelta\n",
    "import matplotlib.pyplot as plt\n",
    "import plotly.express as px\n",
    "import plotly.graph_objects as go\n",
    "from plotly.subplots import make_subplots"
   ]
  },
  {
   "cell_type": "code",
   "execution_count": 2,
   "id": "2d1c6424",
   "metadata": {},
   "outputs": [],
   "source": [
    "client=Client(api_key=os.environ.get('api_key'),api_secret=os.environ.get('secret_key'),tld=\"com\")"
   ]
  },
  {
   "cell_type": "code",
   "execution_count": 3,
   "id": "45996d61",
   "metadata": {},
   "outputs": [],
   "source": [
    "def get_history(symbol, interval, start, end=None):\n",
    "    # Fetch historical data using Binance API\n",
    "    bars = client.futures_klines(\n",
    "        symbol=symbol, interval=interval, start_str=start, end_str=end,# limit=1000\n",
    "    )\n",
    "    \n",
    "    # Create DataFrame from the raw data\n",
    "    df = pd.DataFrame(bars)\n",
    "    \n",
    "    # Rename columns for clarity\n",
    "    df.columns = [\n",
    "        \"open Time\", \"open\", \"high\", \"low\", \"close\", \"volume\", \"close Time\",\n",
    "        \"Quote Asset volume\", \"No. of Trades\", \"Taker Buy Base Asset volume\",\n",
    "        \"Taker Buy Quote Asset volume\", \"Ignore\"\n",
    "    ]\n",
    "    \n",
    "    # Convert 'open Time' to datetime including time\n",
    "    df[\"datetime\"] = pd.to_datetime(df[\"open Time\"], unit=\"ms\")\n",
    "    \n",
    "    # Select relevant columns and set 'datetime' as the index\n",
    "    df = df[[\"datetime\", \"open\", \"high\", \"low\", \"close\", \"volume\"]].copy()\n",
    "    df.set_index(\"datetime\", inplace=True)\n",
    "    \n",
    "    # Convert columns to numeric for accurate processing\n",
    "    for column in [\"open\", \"high\", \"low\", \"close\", \"volume\"]:\n",
    "        df[column] = pd.to_numeric(df[column], errors=\"coerce\")\n",
    "    \n",
    "    # Format index to display full datetime\n",
    "    df.index = df.index.strftime('%Y-%m-%d %H:%M:%S')\n",
    "    \n",
    "    return df\n",
    "\n",
    "\n"
   ]
  },
  {
   "cell_type": "code",
   "execution_count": 4,
   "id": "757df90b",
   "metadata": {},
   "outputs": [
    {
     "name": "stdout",
     "output_type": "stream",
     "text": [
      "Total USDT perpetual symbols: 441\n",
      "['BTCUSDT', 'ETHUSDT', 'BCHUSDT', 'XRPUSDT', 'LTCUSDT', 'TRXUSDT', 'ETCUSDT', 'LINKUSDT', 'XLMUSDT', 'ADAUSDT', 'XMRUSDT', 'DASHUSDT', 'ZECUSDT', 'XTZUSDT', 'BNBUSDT', 'ATOMUSDT', 'ONTUSDT', 'IOTAUSDT', 'BATUSDT', 'VETUSDT', 'NEOUSDT', 'QTUMUSDT', 'IOSTUSDT', 'THETAUSDT', 'ALGOUSDT', 'ZILUSDT', 'KNCUSDT', 'ZRXUSDT', 'COMPUSDT', 'DOGEUSDT', 'SXPUSDT', 'KAVAUSDT', 'BANDUSDT', 'RLCUSDT', 'MKRUSDT', 'SNXUSDT', 'DOTUSDT', 'DEFIUSDT', 'YFIUSDT', 'CRVUSDT', 'TRBUSDT', 'RUNEUSDT', 'SUSHIUSDT', 'EGLDUSDT', 'SOLUSDT', 'ICXUSDT', 'STORJUSDT', 'UNIUSDT', 'AVAXUSDT', 'ENJUSDT', 'FLMUSDT', 'KSMUSDT', 'NEARUSDT', 'AAVEUSDT', 'FILUSDT', 'RSRUSDT', 'LRCUSDT', 'BELUSDT', 'AXSUSDT', 'ALPHAUSDT', 'ZENUSDT', 'SKLUSDT', 'GRTUSDT', '1INCHUSDT', 'CHZUSDT', 'SANDUSDT', 'ANKRUSDT', 'RVNUSDT', 'SFPUSDT', 'COTIUSDT', 'CHRUSDT', 'MANAUSDT', 'ALICEUSDT', 'HBARUSDT', 'ONEUSDT', 'DENTUSDT', 'CELRUSDT', 'HOTUSDT', 'MTLUSDT', 'OGNUSDT', 'NKNUSDT', '1000SHIBUSDT', 'BAKEUSDT', 'GTCUSDT', 'BTCDOMUSDT', 'IOTXUSDT', 'C98USDT', 'MASKUSDT', 'ATAUSDT', 'DYDXUSDT', '1000XECUSDT', 'GALAUSDT', 'CELOUSDT', 'ARUSDT', 'ARPAUSDT', 'CTSIUSDT', 'LPTUSDT', 'ENSUSDT', 'PEOPLEUSDT', 'ROSEUSDT', 'DUSKUSDT', 'FLOWUSDT', 'IMXUSDT', 'API3USDT', 'GMTUSDT', 'APEUSDT', 'WOOUSDT', 'JASMYUSDT', 'OPUSDT', 'INJUSDT', 'STGUSDT', 'SPELLUSDT', '1000LUNCUSDT', 'LUNA2USDT', 'LDOUSDT', 'ICPUSDT', 'APTUSDT', 'QNTUSDT', 'FETUSDT', 'FXSUSDT', 'HOOKUSDT', 'MAGICUSDT', 'TUSDT', 'HIGHUSDT', 'MINAUSDT', 'ASTRUSDT', 'PHBUSDT', 'GMXUSDT', 'CFXUSDT', 'STXUSDT', 'ACHUSDT', 'SSVUSDT', 'CKBUSDT', 'PERPUSDT', 'TRUUSDT', 'LQTYUSDT', 'USDCUSDT', 'IDUSDT', 'ARBUSDT', 'JOEUSDT', 'TLMUSDT', 'LEVERUSDT', 'RDNTUSDT', 'HFTUSDT', 'XVSUSDT', 'BLURUSDT', 'EDUUSDT', 'SUIUSDT', '1000PEPEUSDT', '1000FLOKIUSDT', 'UMAUSDT', 'NMRUSDT', 'MAVUSDT', 'XVGUSDT', 'WLDUSDT', 'PENDLEUSDT', 'ARKMUSDT', 'AGLDUSDT', 'YGGUSDT', 'DODOXUSDT', 'BNTUSDT', 'OXTUSDT', 'SEIUSDT', 'CYBERUSDT', 'HIFIUSDT', 'ARKUSDT', 'BICOUSDT', 'BIGTIMEUSDT', 'WAXPUSDT', 'BSVUSDT', 'RIFUSDT', 'POLYXUSDT', 'GASUSDT', 'POWRUSDT', 'TIAUSDT', 'CAKEUSDT', 'MEMEUSDT', 'TWTUSDT', 'TOKENUSDT', 'ORDIUSDT', 'STEEMUSDT', 'ILVUSDT', 'NTRNUSDT', 'KASUSDT', 'BEAMXUSDT', '1000BONKUSDT', 'PYTHUSDT', 'SUPERUSDT', 'USTCUSDT', 'ONGUSDT', 'ETHWUSDT', 'JTOUSDT', '1000SATSUSDT', 'AUCTIONUSDT', '1000RATSUSDT', 'ACEUSDT', 'MOVRUSDT', 'NFPUSDT', 'AIUSDT', 'XAIUSDT', 'WIFUSDT', 'MANTAUSDT', 'ONDOUSDT', 'LSKUSDT', 'ALTUSDT', 'JUPUSDT', 'ZETAUSDT', 'RONINUSDT', 'DYMUSDT', 'OMUSDT', 'PIXELUSDT', 'STRKUSDT', 'GLMUSDT', 'PORTALUSDT', 'TONUSDT', 'AXLUSDT', 'MYROUSDT', 'METISUSDT', 'AEVOUSDT', 'VANRYUSDT', 'BOMEUSDT', 'ETHFIUSDT', 'ENAUSDT', 'WUSDT', 'TNSRUSDT', 'SAGAUSDT', 'TAOUSDT', 'OMNIUSDT', 'REZUSDT', 'BBUSDT', 'NOTUSDT', 'TURBOUSDT', 'IOUSDT', 'ZKUSDT', 'MEWUSDT', 'LISTAUSDT', 'ZROUSDT', 'RENDERUSDT', 'BANANAUSDT', 'RAREUSDT', 'GUSDT', 'SYNUSDT', 'SYSUSDT', 'VOXELUSDT', 'BRETTUSDT', 'POPCATUSDT', 'SUNUSDT', 'DOGSUSDT', 'MBOXUSDT', 'CHESSUSDT', 'FLUXUSDT', 'BSWUSDT', 'QUICKUSDT', 'NEIROETHUSDT', 'RPLUSDT', 'POLUSDT', 'UXLINKUSDT', '1MBABYDOGEUSDT', 'NEIROUSDT', 'KDAUSDT', 'FIDAUSDT', 'FIOUSDT', 'CATIUSDT', 'GHSTUSDT', 'LOKAUSDT', 'HMSTRUSDT', 'REIUSDT', 'COSUSDT', 'EIGENUSDT', 'DIAUSDT', '1000CATUSDT', 'SCRUSDT', 'GOATUSDT', 'MOODENGUSDT', 'SAFEUSDT', 'SANTOSUSDT', 'PONKEUSDT', 'COWUSDT', 'CETUSUSDT', '1000000MOGUSDT', 'GRASSUSDT', 'DRIFTUSDT', 'SWELLUSDT', 'ACTUSDT', 'PNUTUSDT', 'HIPPOUSDT', '1000XUSDT', 'DEGENUSDT', 'BANUSDT', 'AKTUSDT', 'SLERFUSDT', 'SCRTUSDT', '1000CHEEMSUSDT', '1000WHYUSDT', 'THEUSDT', 'MORPHOUSDT', 'CHILLGUYUSDT', 'KAIAUSDT', 'AEROUSDT', 'ACXUSDT', 'ORCAUSDT', 'MOVEUSDT', 'RAYSOLUSDT', 'KOMAUSDT', 'VIRTUALUSDT', 'SPXUSDT', 'MEUSDT', 'AVAUSDT', 'DEGOUSDT', 'VELODROMEUSDT', 'MOCAUSDT', 'VANAUSDT', 'PENGUUSDT', 'LUMIAUSDT', 'USUALUSDT', 'AIXBTUSDT', 'FARTCOINUSDT', 'KMNOUSDT', 'CGPTUSDT', 'HIVEUSDT', 'DEXEUSDT', 'PHAUSDT', 'DFUSDT', 'GRIFFAINUSDT', 'AI16ZUSDT', 'ZEREBROUSDT', 'BIOUSDT', 'COOKIEUSDT', 'ALCHUSDT', 'SWARMSUSDT', 'SONICUSDT', 'DUSDT', 'PROMUSDT', 'SUSDT', 'SOLVUSDT', 'ARCUSDT', 'AVAAIUSDT', 'TRUMPUSDT', 'MELANIAUSDT', 'VTHOUSDT', 'ANIMEUSDT', 'VINEUSDT', 'PIPPINUSDT', 'VVVUSDT', 'BERAUSDT', 'TSTUSDT', 'LAYERUSDT', 'HEIUSDT', 'B3USDT', 'IPUSDT', 'GPSUSDT', 'SHELLUSDT', 'KAITOUSDT', 'REDUSDT', 'VICUSDT', 'EPICUSDT', 'BMTUSDT', 'MUBARAKUSDT', 'FORMUSDT', 'BIDUSDT', 'TUTUSDT', 'BROCCOLI714USDT', 'BROCCOLIF3BUSDT', 'SIRENUSDT', 'BANANAS31USDT', 'BRUSDT', 'PLUMEUSDT', 'NILUSDT', 'PARTIUSDT', 'JELLYJELLYUSDT', 'MAVIAUSDT', 'PAXGUSDT', 'WALUSDT', 'FUNUSDT', 'MLNUSDT', 'GUNUSDT', 'ATHUSDT', 'BABYUSDT', 'FORTHUSDT', 'PROMPTUSDT', 'XCNUSDT', 'STOUSDT', 'FHEUSDT', 'KERNELUSDT', 'WCTUSDT', 'INITUSDT', 'AERGOUSDT', 'BANKUSDT', 'EPTUSDT', 'DEEPUSDT', 'HYPERUSDT', 'MEMEFIUSDT', 'FISUSDT', 'JSTUSDT', 'SIGNUSDT', 'PUNDIXUSDT', 'CTKUSDT', 'AIOTUSDT', 'DOLOUSDT', 'HAEDALUSDT', 'SXTUSDT', 'ASRUSDT', 'ALPINEUSDT', 'B2USDT', 'MILKUSDT', 'SYRUPUSDT', 'OBOLUSDT', 'DOODUSDT', 'OGUSDT', 'ZKJUSDT', 'SKYAIUSDT', 'NXPCUSDT', 'CVCUSDT', 'AGTUSDT', 'AWEUSDT', 'BUSDT', 'SOONUSDT', 'HUMAUSDT', 'AUSDT', 'SOPHUSDT', 'MERLUSDT', 'HYPEUSDT', 'BDXNUSDT', 'PUFFERUSDT', 'PORT3USDT', '1000000BOBUSDT', 'LAUSDT', 'SKATEUSDT', 'HOMEUSDT', 'RESOLVUSDT', 'TAIKOUSDT', 'SQDUSDT', 'PUMPBTCUSDT', 'SPKUSDT', 'MYXUSDT', 'FUSDT', 'NEWTUSDT', 'DMCUSDT', 'HUSDT', 'OLUSDT']\n"
     ]
    }
   ],
   "source": [
    "def get_usdt_futures_symbols(client):\n",
    "    exchange_info = client.futures_exchange_info()  # for USD-M Futures\n",
    "    symbols = [\n",
    "        s['symbol']\n",
    "        for s in exchange_info['symbols']\n",
    "        if s['contractType'] == 'PERPETUAL' and s['quoteAsset'] == 'USDT' and s['status'] == 'TRADING'\n",
    "    ]\n",
    "    return symbols\n",
    "\n",
    "symbols = get_usdt_futures_symbols(client)\n",
    "print(f\"Total USDT perpetual symbols: {len(symbols)}\")\n",
    "print(symbols[:-1])\n",
    "\n"
   ]
  },
  {
   "cell_type": "code",
   "execution_count": 5,
   "id": "cb599499",
   "metadata": {},
   "outputs": [],
   "source": [
    "# Make a data directory\n",
    "os.makedirs(\"data\", exist_ok=True)\n",
    "\n",
    "# Get date strings\n",
    "end_date = datetime.now() - timedelta(days=1)  # yesterday\n",
    "start_date = end_date - timedelta(days=365)\n",
    "\n",
    "start_str = start_date.strftime('%Y-%m-%d')\n",
    "end_str = end_date.strftime('%Y-%m-%d')"
   ]
  },
  {
   "cell_type": "code",
   "execution_count": 6,
   "id": "e39af48e",
   "metadata": {},
   "outputs": [
    {
     "name": "stdout",
     "output_type": "stream",
     "text": [
      "[SKIP] DMCUSDT: Not enough data\n",
      "[SKIP] HUSDT: Not enough data\n",
      "[SKIP] OLUSDT: Not enough data\n",
      "[SKIP] SAHARAUSDT: Not enough data\n"
     ]
    }
   ],
   "source": [
    "symbols = [\n",
    "    s['symbol'] for s in client.futures_exchange_info()['symbols']\n",
    "    if s['contractType'] == 'PERPETUAL' and s['quoteAsset'] == 'USDT' and s['status'] == 'TRADING'\n",
    "]\n",
    "\n",
    "for symbol in symbols:\n",
    "    try:\n",
    "        df = get_history(symbol, \"1d\", start=start_str, end=end_str)\n",
    "        if df.empty or len(df) < 10:\n",
    "            print(f\"[SKIP] {symbol}: Not enough data\")\n",
    "            continue\n",
    "        df.to_csv(f\"data/{symbol}.csv\")\n",
    "        # print(f\"[OK] Saved: {symbol}\")\n",
    "    except Exception as e:\n",
    "        print(f\"[ERROR] {symbol}: {e}\")\n"
   ]
  },
  {
   "cell_type": "code",
   "execution_count": 7,
   "id": "53e18a7a",
   "metadata": {},
   "outputs": [
    {
     "data": {
      "application/vnd.plotly.v1+json": {
       "config": {
        "plotlyServerURL": "https://plot.ly"
       },
       "data": [
        {
         "coloraxis": "coloraxis",
         "hovertemplate": "Day: %{x}<br>Asset: %{y}<br>% Return: %{z}<extra></extra>",
         "name": "0",
         "texttemplate": "%{z:.2f}",
         "type": "heatmap",
         "x": [
          "D1",
          "D2",
          "D3",
          "D4",
          "D5",
          "D6",
          "D7"
         ],
         "xaxis": "x",
         "y": [
          "1000000BOBUSDT",
          "1000000MOGUSDT",
          "1000BONKUSDT",
          "1000CATUSDT",
          "1000CHEEMSUSDT",
          "1000FLOKIUSDT",
          "1000LUNCUSDT",
          "1000PEPEUSDT",
          "1000RATSUSDT",
          "1000SATSUSDT",
          "1000SHIBUSDT",
          "1000WHYUSDT",
          "1000XECUSDT",
          "1000XUSDT",
          "1INCHUSDT",
          "1MBABYDOGEUSDT",
          "AAVEUSDT",
          "ACEUSDT",
          "ACHUSDT",
          "ACTUSDT",
          "ACXUSDT",
          "ADAUSDT",
          "AERGOUSDT",
          "AEROUSDT",
          "AEVOUSDT",
          "AGLDUSDT",
          "AGTUSDT",
          "AI16ZUSDT",
          "AIOTUSDT",
          "AIUSDT",
          "AIXBTUSDT",
          "AKTUSDT",
          "ALCHUSDT",
          "ALGOUSDT",
          "ALICEUSDT",
          "ALPHAUSDT",
          "ALPINEUSDT",
          "ALTUSDT",
          "ANIMEUSDT",
          "ANKRUSDT",
          "APEUSDT",
          "API3USDT",
          "APTUSDT",
          "ARBUSDT",
          "ARCUSDT",
          "ARKMUSDT",
          "ARKUSDT",
          "ARPAUSDT",
          "ARUSDT",
          "ASRUSDT",
          "ASTRUSDT",
          "ATAUSDT",
          "ATHUSDT",
          "ATOMUSDT",
          "AUCTIONUSDT",
          "AUSDT",
          "AVAAIUSDT",
          "AVAUSDT",
          "AVAXUSDT",
          "AWEUSDT",
          "AXLUSDT",
          "AXSUSDT",
          "B2USDT",
          "B3USDT",
          "BABYUSDT",
          "BAKEUSDT",
          "BANANAS31USDT",
          "BANANAUSDT",
          "BANDUSDT",
          "BANKUSDT",
          "BANUSDT",
          "BATUSDT",
          "BBUSDT",
          "BCHUSDT",
          "BDXNUSDT",
          "BEAMXUSDT",
          "BELUSDT",
          "BERAUSDT",
          "BICOUSDT",
          "BIDUSDT",
          "BIGTIMEUSDT",
          "BIOUSDT",
          "BLURUSDT",
          "BMTUSDT",
          "BNBUSDT",
          "BNTUSDT",
          "BOMEUSDT",
          "BRETTUSDT",
          "BROCCOLI714USDT",
          "BROCCOLIF3BUSDT",
          "BRUSDT",
          "BSVUSDT",
          "BSWUSDT",
          "BTCDOMUSDT",
          "BTCUSDT",
          "BUSDT",
          "C98USDT",
          "CAKEUSDT",
          "CATIUSDT",
          "CELOUSDT",
          "CELRUSDT",
          "CETUSUSDT",
          "CFXUSDT",
          "CGPTUSDT",
          "CHESSUSDT",
          "CHILLGUYUSDT",
          "CHRUSDT",
          "CHZUSDT",
          "CKBUSDT",
          "COMPUSDT",
          "COOKIEUSDT",
          "COSUSDT",
          "COTIUSDT",
          "COWUSDT",
          "CRVUSDT",
          "CTKUSDT",
          "CTSIUSDT",
          "CVCUSDT",
          "CYBERUSDT",
          "DASHUSDT",
          "DEEPUSDT",
          "DEFIUSDT",
          "DEGENUSDT",
          "DEGOUSDT",
          "DENTUSDT",
          "DEXEUSDT",
          "DFUSDT",
          "DIAUSDT",
          "DODOXUSDT",
          "DOGEUSDT",
          "DOGSUSDT",
          "DOLOUSDT",
          "DOODUSDT",
          "DOTUSDT",
          "DRIFTUSDT",
          "DUSDT",
          "DUSKUSDT",
          "DYDXUSDT",
          "DYMUSDT",
          "EDUUSDT",
          "EGLDUSDT",
          "EIGENUSDT",
          "ENAUSDT",
          "ENJUSDT",
          "ENSUSDT",
          "EPICUSDT",
          "EPTUSDT",
          "ETCUSDT",
          "ETHFIUSDT",
          "ETHUSDT",
          "ETHWUSDT",
          "FARTCOINUSDT",
          "FETUSDT",
          "FHEUSDT",
          "FIDAUSDT",
          "FILUSDT",
          "FIOUSDT",
          "FISUSDT",
          "FLMUSDT",
          "FLOWUSDT",
          "FLUXUSDT",
          "FORMUSDT",
          "FORTHUSDT",
          "FUNUSDT",
          "FUSDT",
          "FXSUSDT",
          "GALAUSDT",
          "GASUSDT",
          "GHSTUSDT",
          "GLMUSDT",
          "GMTUSDT",
          "GMXUSDT",
          "GOATUSDT",
          "GPSUSDT",
          "GRASSUSDT",
          "GRIFFAINUSDT",
          "GRTUSDT",
          "GTCUSDT",
          "GUNUSDT",
          "GUSDT",
          "HAEDALUSDT",
          "HBARUSDT",
          "HEIUSDT",
          "HFTUSDT",
          "HIFIUSDT",
          "HIGHUSDT",
          "HIPPOUSDT",
          "HIVEUSDT",
          "HMSTRUSDT",
          "HOMEUSDT",
          "HOOKUSDT",
          "HOTUSDT",
          "HUMAUSDT",
          "HYPERUSDT",
          "HYPEUSDT",
          "ICPUSDT",
          "ICXUSDT",
          "IDUSDT",
          "ILVUSDT",
          "IMXUSDT",
          "INITUSDT",
          "INJUSDT",
          "IOSTUSDT",
          "IOTAUSDT",
          "IOTXUSDT",
          "IOUSDT",
          "IPUSDT",
          "JASMYUSDT",
          "JELLYJELLYUSDT",
          "JOEUSDT",
          "JSTUSDT",
          "JTOUSDT",
          "JUPUSDT",
          "KAIAUSDT",
          "KAITOUSDT",
          "KASUSDT",
          "KAVAUSDT",
          "KDAUSDT",
          "KERNELUSDT",
          "KMNOUSDT",
          "KNCUSDT",
          "KOMAUSDT",
          "KSMUSDT",
          "LAUSDT",
          "LAYERUSDT",
          "LDOUSDT",
          "LEVERUSDT",
          "LINKUSDT",
          "LISTAUSDT",
          "LOKAUSDT",
          "LPTUSDT",
          "LQTYUSDT",
          "LRCUSDT",
          "LSKUSDT",
          "LTCUSDT",
          "LUMIAUSDT",
          "LUNA2USDT",
          "MAGICUSDT",
          "MANAUSDT",
          "MANTAUSDT",
          "MASKUSDT",
          "MAVIAUSDT",
          "MAVUSDT",
          "MBOXUSDT",
          "MELANIAUSDT",
          "MEMEFIUSDT",
          "MEMEUSDT",
          "MERLUSDT",
          "METISUSDT",
          "MEUSDT",
          "MEWUSDT",
          "MILKUSDT",
          "MINAUSDT",
          "MKRUSDT",
          "MLNUSDT",
          "MOCAUSDT",
          "MOODENGUSDT",
          "MORPHOUSDT",
          "MOVEUSDT",
          "MOVRUSDT",
          "MTLUSDT",
          "MUBARAKUSDT",
          "MYROUSDT",
          "MYXUSDT",
          "NEARUSDT",
          "NEIROETHUSDT",
          "NEIROUSDT",
          "NEOUSDT",
          "NEWTUSDT",
          "NFPUSDT",
          "NILUSDT",
          "NKNUSDT",
          "NMRUSDT",
          "NOTUSDT",
          "NTRNUSDT",
          "NXPCUSDT",
          "OBOLUSDT",
          "OGNUSDT",
          "OGUSDT",
          "OMNIUSDT",
          "OMUSDT",
          "ONDOUSDT",
          "ONEUSDT",
          "ONGUSDT",
          "ONTUSDT",
          "OPUSDT",
          "ORCAUSDT",
          "ORDIUSDT",
          "OXTUSDT",
          "PARTIUSDT",
          "PAXGUSDT",
          "PENDLEUSDT",
          "PENGUUSDT",
          "PEOPLEUSDT",
          "PERPUSDT",
          "PHAUSDT",
          "PHBUSDT",
          "PIPPINUSDT",
          "PIXELUSDT",
          "PLUMEUSDT",
          "PNUTUSDT",
          "POLUSDT",
          "POLYXUSDT",
          "PONKEUSDT",
          "POPCATUSDT",
          "PORT3USDT",
          "PORTALUSDT",
          "POWRUSDT",
          "PROMPTUSDT",
          "PROMUSDT",
          "PUFFERUSDT",
          "PUMPBTCUSDT",
          "PUMPUSDT",
          "PUNDIXUSDT",
          "PYTHUSDT",
          "QNTUSDT",
          "QTUMUSDT",
          "QUICKUSDT",
          "RAREUSDT",
          "RAYSOLUSDT",
          "RDNTUSDT",
          "REDUSDT",
          "REIUSDT",
          "RENDERUSDT",
          "RESOLVUSDT",
          "REZUSDT",
          "RIFUSDT",
          "RLCUSDT",
          "RONINUSDT",
          "ROSEUSDT",
          "RPLUSDT",
          "RSRUSDT",
          "RUNEUSDT",
          "RVNUSDT",
          "SAFEUSDT",
          "SAGAUSDT",
          "SANDUSDT",
          "SANTOSUSDT",
          "SCRTUSDT",
          "SCRUSDT",
          "SEIUSDT",
          "SFPUSDT",
          "SHELLUSDT",
          "SIGNUSDT",
          "SIRENUSDT",
          "SKATEUSDT",
          "SKLUSDT",
          "SKYAIUSDT",
          "SLERFUSDT",
          "SNXUSDT",
          "SOLUSDT",
          "SOLVUSDT",
          "SONICUSDT",
          "SOONUSDT",
          "SOPHUSDT",
          "SPELLUSDT",
          "SPKUSDT",
          "SPXUSDT",
          "SQDUSDT",
          "SSVUSDT",
          "STEEMUSDT",
          "STGUSDT",
          "STORJUSDT",
          "STOUSDT",
          "STRKUSDT",
          "STXUSDT",
          "SUIUSDT",
          "SUNUSDT",
          "SUPERUSDT",
          "SUSDT",
          "SUSHIUSDT",
          "SWARMSUSDT",
          "SWELLUSDT",
          "SXPUSDT",
          "SXTUSDT",
          "SYNUSDT",
          "SYRUPUSDT",
          "SYSUSDT",
          "TAIKOUSDT",
          "TAOUSDT",
          "THETAUSDT",
          "THEUSDT",
          "TIAUSDT",
          "TLMUSDT",
          "TNSRUSDT",
          "TOKENUSDT",
          "TONUSDT",
          "TRBUSDT",
          "TRUMPUSDT",
          "TRUUSDT",
          "TRXUSDT",
          "TSTUSDT",
          "TURBOUSDT",
          "TUSDT",
          "TUTUSDT",
          "TWTUSDT",
          "UMAUSDT",
          "UNIUSDT",
          "USDCUSDT",
          "USTCUSDT",
          "USUALUSDT",
          "UXLINKUSDT",
          "VANAUSDT",
          "VANRYUSDT",
          "VELODROMEUSDT",
          "VETUSDT",
          "VICUSDT",
          "VINEUSDT",
          "VIRTUALUSDT",
          "VOXELUSDT",
          "VTHOUSDT",
          "VVVUSDT",
          "WALUSDT",
          "WAXPUSDT",
          "WCTUSDT",
          "WIFUSDT",
          "WLDUSDT",
          "WOOUSDT",
          "WUSDT",
          "XAIUSDT",
          "XCNUSDT",
          "XLMUSDT",
          "XMRUSDT",
          "XRPUSDT",
          "XTZUSDT",
          "XVGUSDT",
          "XVSUSDT",
          "YFIUSDT",
          "YGGUSDT",
          "ZECUSDT",
          "ZENUSDT",
          "ZEREBROUSDT",
          "ZETAUSDT",
          "ZILUSDT",
          "ZKJUSDT",
          "ZKUSDT",
          "ZROUSDT",
          "ZRXUSDT"
         ],
         "yaxis": "y",
         "z": [
          [
           17.72509193449946,
           -12.736034240977547,
           -6.65017704860833,
           -7.535199253514081,
           11.227571396262169,
           3.9699869846684663,
           2.9764900096478093
          ],
          [
           22.92517727490863,
           1.0277582758240449,
           0.8680330986373717,
           -5.776114119941422,
           -0.7375083068276581,
           4.498142228923044,
           1.7483717533357301
          ],
          [
           13.30604333947433,
           1.7832876395501276,
           -3.241902567528851,
           -4.7060500005185695,
           1.8731665512108242,
           9.881414231972798,
           -2.040747395344867
          ],
          [
           14.482066037355656,
           3.975678860655395,
           -3.8964960233563826,
           -3.5447564990884204,
           1.6268457054291319,
           18.856847711825107,
           1.6829390775372846
          ],
          [
           2.8511521545225507,
           -6.5844254276154714,
           3.6044804979884977,
           6.266047943940325,
           2.97440557836657,
           -0.8677295777775578,
           -0.4962442474422353
          ],
          [
           12.346442489269984,
           2.8825163529054234,
           -4.207963033100401,
           -2.7625279443654187,
           1.7035699370413357,
           4.71327706326995,
           1.438486859849887
          ],
          [
           5.643665271153886,
           0.5221003848339186,
           -0.16173963450406367,
           -1.175952040690625,
           0.815591290360766,
           0.8626940635523064,
           -0.053700887355136194
          ],
          [
           10.975542994895603,
           1.5536356125340431,
           -6.117117915622517,
           -3.2539969465171943,
           0.17243641588835062,
           4.041234537966494,
           0.8259941627499896
          ],
          [
           11.210958347019897,
           0.5899722127188322,
           -14.851050695099724,
           -0.949374219225115,
           -2.848889255214023,
           2.210928558810097,
           1.4297304700824394
          ],
          [
           11.74532747300647,
           1.8301164382404662,
           -3.6943515191684324,
           -0.5390848634876534,
           -0.2706361597742803,
           3.2002731086173735,
           0.5235614053945163
          ],
          [
           8.771134595217228,
           1.1693022918639575,
           -0.7378207801843668,
           -3.6479274985560792,
           1.092518749697684,
           1.9941189025651662,
           -0.23408047447720445
          ],
          [
           6.553404137907274,
           1.4815085785140683,
           -3.3648034118232877,
           -0.7633624855071095,
           0,
           0.7633624855070985,
           4.09740742103057
          ],
          [
           7.587363257917379,
           2.215280464113328,
           0.1563721976182759,
           -1.9458936364674724,
           -1.1752272014901515,
           0.7494681762260382,
           -0.05334756061436338
          ],
          [
           6.95546549086873,
           0.14285716715256921,
           -1.5283944017396267,
           -4.7305490434348165,
           2.1611289268089324,
           1.0908862919173463,
           0.20207593906823285
          ],
          [
           8.460608418838042,
           0.8791265411170723,
           -1.543580812983925,
           -3.5051638058918657,
           1.9938000248870589,
           0.8424649659251403,
           0.5577259298106215
          ],
          [
           9.27878021965019,
           -0.1574252555309207,
           -3.618288127462847,
           -2.3135154672060003,
           2.964806778902466,
           3.821106940927295,
           2.1548672574192196
          ],
          [
           12.026772686000523,
           2.7111713563414805,
           -3.1324709847557317,
           -2.221435221357952,
           3.5070645654585406,
           0.2466852931516587,
           5.117779649525868
          ],
          [
           9.807916891531827,
           2.708397403868773,
           -4.602582239528206,
           0.3817181932807759,
           0.8982992834153967,
           2.2596501272478267,
           1.101353997964131
          ],
          [
           7.659895471909871,
           -1.651621851157417,
           -3.8673908700966577,
           -0.5545710752593529,
           0.7203444458191145,
           1.349074477612668,
           1.0889399799268318
          ],
          [
           6.159464527440335,
           -0.4874095758245407,
           -3.8662469744664114,
           -3.544550240905768,
           2.4258615315908543,
           3.319208020214749,
           1.3161177048581063
          ],
          [
           11.761986359107901,
           0,
           -4.199217412665926,
           -0.06809669994163468,
           -8.08377557022407,
           -1.188721278404648,
           0.7446050784078532
          ],
          [
           7.1611784475670595,
           0.9410626383590063,
           -3.535896948378061,
           -2.284182106924145,
           0.7910864700878799,
           1.210409936220969,
           -1.1925032301116993
          ],
          [
           24.097597568497793,
           -8.026815590517968,
           6.6650485677925575,
           -8.028977986928847,
           1.4747766197181942,
           0.4185262949752677,
           0.5030666166783376
          ],
          [
           6.495150143157387,
           2.8184110694174493,
           -8.51603815513784,
           -1.2050631018888345,
           -2.664065478592857,
           -1.146786442487187,
           3.4016441889370883
          ],
          [
           11.824782767032843,
           1.9632532407121004,
           -4.727248289466138,
           -1.153119759918968,
           2.040887163120725,
           2.493894834725193,
           1.2240054894502006
          ],
          [
           9.165151993005423,
           0.6414747976250684,
           -4.797731697120495,
           -3.9564946231644424,
           1.6551686920450788,
           1.0687351241732974,
           0.9551170984342766
          ],
          [
           16.698719279384797,
           -4.369280254363041,
           3.978525158422719,
           -5.013923065384939,
           8.298385994449363,
           4.780591379750893,
           2.023814351669097
          ],
          [
           16.519130858897586,
           -1.5028460681002158,
           -11.204244662070058,
           -4.843736825820513,
           0.884961527698238,
           5.846283274331388,
           3.135907948673331
          ],
          [
           5.05038538502191,
           -0.10590251729537671,
           -4.298245428263158,
           -8.788127416583624,
           2.2965298757574217,
           2.5500045075248803,
           4.770989351303609
          ],
          [
           10.463276369077166,
           -0.684112658755857,
           -2.903473525592985,
           -2.208496553256607,
           1.7946457763480177,
           3.103134126905992,
           0.1428444131827724
          ],
          [
           18.931518390043177,
           -0.7545608947552012,
           -7.410252705798355,
           -1.45898310928041,
           -0.9715983314697674,
           5.700218824987912,
           -1.0606440985117986
          ],
          [
           12.546788164294076,
           1.3618004368440497,
           -3.3000244719668634,
           -2.2621134234401334,
           1.7950411123842986,
           2.130696631293056,
           -1.570471076426077
          ],
          [
           8.969505337204085,
           -4.55857547061552,
           -0.5089474206594484,
           -0.6639227683230619,
           1.6950232740620055,
           0.7076613900626543,
           2.4075165189984102
          ],
          [
           11.165317528084659,
           2.101847286928761,
           -3.906746819090951,
           -2.186508280424795,
           1.501182925367814,
           1.0829401930209184,
           2.2976634200244725
          ],
          [
           12.153666572483282,
           2.156417791584064,
           -3.252319170556006,
           -1.3869847864150502,
           1.6620881236040281,
           1.9048194970694412,
           0.8053734807096823
          ],
          [
           10.423311982251809,
           0.6577306787761905,
           -12.32822435985615,
           -13.606087053475344,
           -0.5242475964849983,
           -5.260821896885952,
           -3.667547855840657
          ],
          [
           9.675494719750379,
           3.289436618244443,
           -4.863336961985941,
           -1.49267754488252,
           2.668023962280129,
           1.7302484435336076,
           -0.21829303582158793
          ],
          [
           9.314009893100312,
           -4.0171606385292264,
           -7.481493577454179,
           -3.1331125878118358,
           4.494706997043379,
           1.6763290659244157,
           -0.592813888739541
          ],
          [
           7.613536248461659,
           -4.056389669974889,
           -6.439516223832189,
           -4.455602155023289,
           2.369779142982318,
           3.678575681651091,
           1.0106767669774384
          ],
          [
           9.08037646298345,
           1.6795356308841651,
           -3.0294673205766562,
           -1.6588912693083824,
           0.3629768050578731,
           1.7241806434506173,
           0
          ],
          [
           8.894748601649612,
           2.5849581461325313,
           -2.470457438440152,
           -1.681543083378554,
           0.39820858991219416,
           0.5778931297792974,
           0.9340502156993814
          ],
          [
           10.20210116742341,
           2.44345864886074,
           -3.687948265288755,
           -2.6886482184584772,
           1.7117383877982764,
           3.0640555432854324,
           -0.22617134035388428
          ],
          [
           9.400576581204595,
           13.881497785993322,
           -1.3550920952714818,
           -0.34627988991358805,
           -0.7540674831212344,
           0.2251671629005744,
           -0.15074393942077813
          ],
          [
           11.998206979773956,
           4.410572184992309,
           -2.0837426475610514,
           -1.6658885986638756,
           0.62387330901753,
           1.7843133567584106,
           11.010807060696107
          ],
          [
           17.58906664636642,
           3.953083875663522,
           -12.521012549999874,
           -4.785210588115909,
           4.304825356851384,
           7.979573311066081,
           0.29596765962966165
          ],
          [
           12.802737872960405,
           3.5308168993514153,
           -3.9359491212692865,
           -2.998965733765712,
           2.274652924780716,
           3.8547715623214893,
           0.19652806849536014
          ],
          [
           8.45072128329965,
           3.7666609240876747,
           -2.2429294120410828,
           -2.523882726631395,
           0.8863531937692669,
           1.637529532862134,
           -0.08404538945483958
          ],
          [
           10.68274368538386,
           0.9976454496372791,
           -2.9156584291455694,
           -2.9478116954462616,
           1.9204979836050047,
           1.77758518410573,
           0.47936177012365044
          ],
          [
           8.472566170877391,
           -3.730036141320873,
           -5.158504007074175,
           -2.340644547693376,
           1.1033424044882083,
           3.7888808983412936,
           6.489400447168571
          ],
          [
           9.400441248060035,
           9.229645716483537,
           0.19837340367655143,
           -3.4680895015851614,
           -3.3378150689074966,
           -1.6684879036434113,
           1.2433171951326365
          ],
          [
           7.271529990953532,
           3.801093862782317,
           -4.078210299052232,
           -3.782204729041311,
           1.5992478786841946,
           1.4081640826640798,
           0.0480548708489611
          ],
          [
           10.779657045570739,
           1.4493007302566825,
           -2.427303635620653,
           -1.2361096823573976,
           1.4815085785140683,
           2.421425812059453,
           2.5975486403260737
          ],
          [
           2.933883900594112,
           -4.302429209119529,
           -4.943013268513279,
           -4.440475794086919,
           2.5966246351331455,
           2.0848566121543732,
           1.332214408428457
          ],
          [
           9.124084856924961,
           0.04911591454338582,
           -1.9085967879968504,
           -2.7398974188114504,
           0.9216655104924047,
           1.718081674610096,
           1.1952333523841172
          ],
          [
           8.113021526885099,
           1.8507892909930743,
           -3.601405442772205,
           -2.7020967901211463,
           3.0165624580683,
           0.8930624213695634,
           0.520978842827796
          ],
          [
           7.363175841940146,
           -0.47187908795372907,
           -0.5984269827239083,
           -2.7300258479403685,
           0.09126586377769225,
           1.2650492015791897,
           -0.27461255819562164
          ],
          [
           17.907655665062745,
           3.8956767441214133,
           -10.270109338163106,
           -4.971437865296344,
           5.3556104468962085,
           3.0957549549341206,
           0.629981701841649
          ],
          [
           12.234394084937295,
           1.2550921491859455,
           -5.815152689896798,
           -0.8198367215698545,
           -0.17655718171521,
           0.8407518485192482,
           -0.3510828650062859
          ],
          [
           8.905313542547283,
           0.9538321798502076,
           -3.6717264673580345,
           -1.983450575727239,
           1.994834910894362,
           2.2289435182564965,
           0.27793236345744415
          ],
          [
           7.403345477672708,
           0.6213633454116972,
           4.9231224277507,
           -4.152259265210733,
           -1.677778861015275,
           1.6723709709023025,
           -0.5785274574094471
          ],
          [
           5.492710015851288,
           -1.017820491575604,
           -6.395140546839211,
           -3.79733847565316,
           2.178735418490723,
           1.8606606640043766,
           1.6187403818657269
          ],
          [
           10.073748081705153,
           1.365960872858356,
           -2.750838936410862,
           -2.7823915765042915,
           0.5994945323630738,
           1.4605462733951846,
           2.2402370560799345
          ],
          [
           11.333940060684435,
           -3.7112035218959916,
           5.015280552277866,
           8.41428209944996,
           0.29126234182948274,
           13.619386545473697,
           -0.8282939996347808
          ],
          [
           7.595801077040979,
           2.0979790469194683,
           -8.405883534666435,
           -3.057173510744851,
           -0.34985458425132815,
           4.156937871050076,
           -0.5619044565295711
          ],
          [
           16.165606349662678,
           -0.884402479645266,
           -6.668408121760747,
           6.159501171013602,
           0.9310266151095901,
           2.495969837785914,
           -0.18505197015148417
          ],
          [
           11.284099936707642,
           2.706932196821791,
           -5.0720810050178775,
           -1.467531578421422,
           1.9864741026439754,
           2.957890294607481,
           0.8008050803342751
          ],
          [
           43.312752297165595,
           9.884289883814194,
           15.725682313276183,
           -65.08505157395199,
           35.841395683991,
           5.471622271586673,
           -0.8035464685997359
          ],
          [
           13.417190642387206,
           3.7246615063554005,
           -5.552050052681391,
           1.474168793924498,
           0.34126660871047393,
           1.6714471624474228,
           3.403477425161922
          ],
          [
           11.942351538513698,
           0.6619730530017768,
           -3.10994911155842,
           -2.4378525795138875,
           1.8251591967636358,
           0.665035702710027,
           0.7299302481611535
          ],
          [
           8.328842656110252,
           -7.837125118163148,
           2.001890418175092,
           -3.18861320602785,
           8.403818853480669,
           9.956709235107752,
           -0.06974716934883327
          ],
          [
           5.362325332313626,
           -10.744128818573934,
           6.718602646614482,
           0,
           0.4063968840950012,
           0.29932234690486914,
           -0.01758241762771929
          ],
          [
           8.790304000011135,
           2.0219047053306216,
           -1.9402387146750366,
           -2.0619287202735705,
           1.8985299911080784,
           4.242332821756264,
           0.07833921278042992
          ],
          [
           11.107448222566475,
           -0.257310083487964,
           -6.921038464317188,
           -3.798653530513781,
           -0.22185979736487446,
           3.832082897148765,
           0.4891825371254158
          ],
          [
           1.6696336087351482,
           -1.8679064970945496,
           6.221759492693613,
           1.249977664081216,
           3.17231173059197,
           -2.743477093419395,
           0.13643261429841938
          ],
          [
           15.105979546811366,
           22.158451759913696,
           -6.444251038429316,
           -25.725700106770887,
           1.4464420491566494,
           0.16305237592542765,
           8.611491794259278
          ],
          [
           11.429708637942829,
           4.161648504585952,
           -3.299743070906161,
           3.110849928227953,
           2.686227548554313,
           1.3346939151029387,
           2.899791510801858
          ],
          [
           9.346572800567717,
           0.43859719432542676,
           -5.117813345001332,
           -4.0419035645389965,
           0.04795013278159738,
           3.4396794954089676,
           5.759576350797378
          ],
          [
           10.76951225168581,
           -2.5856079853669547,
           -2.7140308899553727,
           -0.5397314451719187,
           -1.0275097955912604,
           4.745849040635809,
           1.2093438490683337
          ],
          [
           13.124218903038813,
           2.3256862164267185,
           -4.816340137862278,
           -2.6668247082161294,
           1.1198325310029535,
           2.7459166200652505,
           1.7186244705410862
          ],
          [
           24.840041086466496,
           -17.754912699214216,
           -10.731416160377616,
           14.765342784807784,
           1.84049095613818,
           14.570188608045889,
           10.473844065603
          ],
          [
           11.834122713054764,
           1.1770516983916466,
           -3.5337986387829625,
           -1.8452188198308246,
           1.9643846730587289,
           3.5488223964129033,
           -1.7196829934719684
          ],
          [
           13.524726202063208,
           1.387147376540796,
           -4.240778103034229,
           -3.083491977700728,
           2.6778119081392884,
           4.199204145561107,
           2.6729790593443212
          ],
          [
           10.753373088084443,
           3.128852778532768,
           -4.542205943649028,
           -2.816290283478035,
           0.700853902190004,
           3.8584601746534686,
           -1.006141765939259
          ],
          [
           2.9992397308661602,
           -10.735947686397346,
           13.843172429489146,
           -4.6722472667398325,
           -0.8506944819415833,
           0.945581536978877,
           -3.074430075689615
          ],
          [
           3.870711112357275,
           0.5111752551508152,
           0.43431121471652284,
           -0.6288108286836913,
           0.5451974890338799,
           0.4358787060867371,
           -0.04627987062532202
          ],
          [
           6.373457038316683,
           3.1417271497378643,
           -3.401076485294067,
           0.008713913511204457,
           1.1470678332764963,
           1.477556123506952,
           -0.5600634282618403
          ],
          [
           13.497155417150363,
           1.7970533518307976,
           -4.520162388163458,
           -3.941396854087674,
           3.1793564501186413,
           6.397334059082225,
           0.7797310460031711
          ],
          [
           18.64552335190956,
           -2.036825652740014,
           -7.30896421268212,
           -0.9716261557411158,
           2.7121165540922547,
           5.213065313219827,
           0.5680488647542693
          ],
          [
           18.389890965929016,
           2.7006551308188573,
           10.782014472792646,
           -4.106365716038728,
           5.0443235304485485,
           17.239815556022776,
           1.8266715424795306
          ],
          [
           13.449858612300517,
           0.7394553050210463,
           1.270336816185075,
           -8.771182063255667,
           5.4872075011596415,
           2.8014257730770096,
           1.905833569350513
          ],
          [
           50.97786128861323,
           0.2009293656036139,
           -0.08785692438363472,
           0.0627628213661262,
           0.012547838651254646,
           -0.16324484067257902,
           0.23849882641393208
          ],
          [
           4.929061216153773,
           -0.6151873052313593,
           2.0572888873067288,
           -2.970835208089791,
           1.108225162281858,
           -0.1622060371868055,
           -0.3252035386377343
          ],
          [
           10.730473222777714,
           0.8035757526783238,
           -14.728236879030543,
           26.50159985525556,
           -15.811108104335517,
           7.059652322148616,
           -3.1108751714367786
          ],
          [
           -3.123864307013272,
           -0.5617585083155388,
           2.333142821650887,
           0.9980563500421757,
           -0.939488076398231,
           -1.1958875967750524,
           0.1614755625731396
          ],
          [
           4.255048860468593,
           0.7041289553310563,
           1.1673953767671232,
           -0.3420271997629541,
           0.09068624864459277,
           0.2149808740819314,
           0.13902920361302085
          ],
          [
           5.455405519055934,
           4.581522120516992,
           -0.2830838388614356,
           0.11781538011772631,
           -0.050475310232931225,
           -8.246251475496967,
           6.257573716631786
          ],
          [
           11.808574490646254,
           4.033761572657513,
           1.8433701688837967,
           -2.7779564107075707,
           -1.1806512586989064,
           2.347525642136645,
           0.9237940984936139
          ],
          [
           7.537584382230812,
           1.4706819080835716,
           -1.259255621668125,
           -2.0455733085326546,
           1.1554897233252386,
           2.6558525907937183,
           2.186318289061961
          ],
          [
           11.136982082167025,
           1.3390340059584258,
           -6.4941665670344335,
           2.5479085300984967,
           -1.5209418663528909,
           4.00554172500598,
           0.8552281815317158
          ],
          [
           8.128263343685695,
           2.568948611531087,
           -5.205636195605315,
           -0.38240964384033943,
           -1.1560822401075972,
           1.1560822401076005,
           0
          ],
          [
           11.726449792114542,
           1.646127705407193,
           -3.0389078798540727,
           -1.4124528603631088,
           0.7087201883054831,
           1.819504359122934,
           -0.13879252748481916
          ],
          [
           14.486090997640419,
           2.2705863752080506,
           -4.981067446181868,
           -3.97854669291854,
           0.11205738510089427,
           3.542724725410215,
           -0.531080205590457
          ],
          [
           8.82815343587131,
           3.951410059010018,
           -2.9203254552559605,
           0.1565948074289138,
           1.2159063981015235,
           2.017179059452091,
           1.6391570389805628
          ],
          [
           14.279929955530429,
           5.310783714553852,
           -3.891020915031435,
           -5.780062306166773,
           1.6841246056515893,
           8.695215457985247,
           2.127054088905555
          ],
          [
           7.9169360031357074,
           -3.2522066370843326,
           -5.46378659187701,
           17.246778939605054,
           -1.0684533797570157,
           -4.722434912075255,
           -0.11930802767390512
          ],
          [
           17.02518327066242,
           -0.457393658116131,
           -9.04783399751289,
           -3.6214109437380273,
           4.165422730398342,
           9.948390716884123,
           3.4183109938820864
          ],
          [
           12.473368192099347,
           0.5141399500418652,
           -1.6807118316381173,
           -1.3123547929807453,
           1.0512580389086987,
           0.261096754072034,
           2.4469991061950362
          ],
          [
           8.530343464447352,
           1.5548016388484835,
           0.30808034450085103,
           -4.95874617924991,
           1.7189061235248868,
           1.9734660192231899,
           0.19804787913442473
          ],
          [
           8.843326082252926,
           2.3317873736147647,
           -4.026995255104692,
           -1.9077035772355417,
           1.2154510008862347,
           2.8288323675387295,
           0.7604599385219213
          ],
          [
           6.390169307346468,
           -3.5521705012662808,
           -1.868401082192269,
           -0.39551798429279433,
           1.247144487441998,
           -0.6325683651673378,
           0.17490166242615524
          ],
          [
           17.35687656843599,
           -1.2161565039275521,
           -6.4316076469764765,
           -3.255260303774834,
           0.793412767542003,
           4.4002342183376895,
           0.058156442464946514
          ],
          [
           9.503856983456938,
           -0.47651553747946496,
           -2.8375606212984104,
           1.7052788382719481,
           -0.5536346321160251,
           5.567300242624158,
           0.16396134186387246
          ],
          [
           12.021606647501642,
           0.6327883484058984,
           -1.6296068097080663,
           -2.2696009653772165,
           1.928406454751281,
           1.7734847606559327,
           4.329178426554094
          ],
          [
           11.169147205546674,
           0.06882312728645312,
           -4.108002574346452,
           -1.8083675433295463,
           0.3642991278501009,
           1.9446057493863549,
           1.3812863496519157
          ],
          [
           7.716831650219314,
           -1.5666116744399463,
           -8.796877294595703,
           -3.70774177828996,
           1.577942010396521,
           0.9737175277858244,
           0
          ],
          [
           7.761206652407197,
           1.490710834913816,
           6.21466369680152,
           3.529108409008618,
           -3.799849243503607,
           11.649121271481633,
           24.02999134752716
          ],
          [
           11.325960306456611,
           2.220415731101059,
           -2.220415731101052,
           -3.3365693843800295,
           2.6433257068155647,
           2.4056142854236255,
           1.1814483413763055
          ],
          [
           7.5574898354072495,
           1.931155032846749,
           -3.292023776003327,
           -2.4327674695942925,
           -0.20734945800102658,
           2.2349847056774417,
           -0.8152219061550271
          ],
          [
           9.39500163750417,
           1.3519092578543763,
           -3.8652154434279224,
           -3.8498478132884477,
           0.17050302510837476,
           0.9326053181189864,
           0.8403410796379379
          ],
          [
           7.582578314848533,
           1.908646589054092,
           -2.1116923440922806,
           -2.2091830890314137,
           0.9821738298499944,
           2.137485958473339,
           0.6524489895282126
          ],
          [
           19.662902977077483,
           -2.9029826429852656,
           -2.799327284581375,
           -5.966420334251534,
           7.169294466309342,
           3.7054944182895886,
           -0.2975436717479777
          ],
          [
           10.156993192552894,
           1.7716081064478966,
           -3.6710004405654515,
           -2.229854872245557,
           1.314847284350614,
           2.0589666788343797,
           1.1153992003781543
          ],
          [
           12.261606808022226,
           1.4126745680756265,
           -6.138472982734395,
           -2.7896280456134113,
           0.0340773559269918,
           6.974216480221002,
           1.2630417352929606
          ],
          [
           2.8778964550043544,
           -2.141086270289565,
           -3.927791757329171,
           0.8589676153698335,
           3.942109236215132,
           -1.1501481285247765,
           0.05734493132390911
          ],
          [
           10.86624512595745,
           1.041676085825558,
           -3.6943515191684204,
           -3.0939683534829427,
           1.4679162663049075,
           4.974382499856891,
           0.5185837032365416
          ],
          [
           2.351570164355853,
           9.320641600714309,
           -7.876974106552059,
           9.338166789473231,
           -1.6311740259061263,
           0.5767615649175027,
           -8.565911173961606
          ],
          [
           9.983345855568034,
           -5.200196732297685,
           -7.054298209365033,
           -13.08075230479787,
           -0.7851209471263986,
           0.4786333923811172,
           -2.03280040272526
          ],
          [
           11.352531851024533,
           -0.13663070850747894,
           7.65659824039909,
           -9.840513648470768,
           5.094387616532942,
           0.318218247846277,
           2.8964842867872735
          ],
          [
           10.531614910132934,
           0.04258377090405878,
           -1.9046148111957397,
           -2.6659451169328765,
           1.2813769357625533,
           3.129400262837504,
           0.8518820674689895
          ],
          [
           7.962539000221951,
           1.1720188811116379,
           -0.684540004603761,
           -2.823513912854969,
           0.6481792715358887,
           1.6023021052296138,
           0.1832397287698333
          ],
          [
           12.950904083257536,
           1.2461220437811815,
           -4.188680271340463,
           -3.7833459531226388,
           3.621795029457173,
           4.272801845415449,
           0.30935832869957935
          ],
          [
           22.349309355188133,
           -3.251386040230364,
           -5.119390620940019,
           -0.9869950581366338,
           7.761683261794722,
           -1.9445401917581189,
           2.318066629731191
          ],
          [
           6.1003914632284095,
           3.592787108669492,
           -6.17147772383767,
           -2.277025667364124,
           6.4997083940590406,
           0.9812861181394859,
           5.426331097179966
          ],
          [
           8.016476159711152,
           0.7005282588408592,
           -2.563109820548426,
           -1.6245844665579243,
           1.8332594565755103,
           1.3899380946126505,
           0.49802358685262177
          ],
          [
           8.084675333586295,
           2.605357784838235,
           -3.8825143527869943,
           -2.7627506440723084,
           1.1560822401075788,
           1.7351205732003894,
           8.62836839583527
          ],
          [
           10.696156395849481,
           2.13669507889662,
           -4.186353609580375,
           -2.5026669717246297,
           2.836111762169787,
           0.6966357580916513,
           2.0936322453639984
          ],
          [
           11.748774553169234,
           1.6403414078404182,
           -3.2279913466078822,
           -1.7963950625004177,
           1.0131798930406954,
           3.720254899704406,
           2.1522737015738267
          ],
          [
           10.83309279869997,
           2.6343975339602066,
           -4.709160753385057,
           -0.8421102396408284,
           2.7113235408560885,
           3.23914957912355,
           1.9724505347778574
          ],
          [
           12.397904439108338,
           1.1635554672747759,
           -4.110766799741567,
           -1.4841738592349139,
           0.5422516675857408,
           3.715597688809127,
           1.036726348160641
          ],
          [
           9.82534086348996,
           1.7631733113405081,
           -2.4616627635356143,
           -1.0176213060452406,
           2.2560272260174172,
           1.375117161282442,
           1.8045602469174773
          ],
          [
           11.733937992594768,
           1.708565852102345,
           -3.733213846541316,
           -1.8740549990572335,
           0.39141997094333814,
           3.010525745232186,
           0.7036284260879935
          ],
          [
           13.4252023829219,
           1.1238987499601294,
           -4.330745692811099,
           -4.198600175549418,
           -0.6009972076122355,
           3.5893224946988997,
           3.1572626476815655
          ],
          [
           12.239230424004308,
           0,
           -4.4063337629069315,
           -3.0359122412313555,
           1.5097624871593467,
           4.434889073190905,
           0.9012453041081531
          ],
          [
           11.225215359215253,
           0.5036256352634187,
           -2.715797212574603,
           -1.6083601196697341,
           0.9649683356941928,
           2.2724713302073987,
           1.056266996192725
          ],
          [
           9.734446432850511,
           1.150809508040247,
           -2.4662294041283133,
           -1.3165242919682076,
           1.0892760608535266,
           0.8790672760594972,
           0.5728833764728153
          ],
          [
           9.824779396217991,
           -3.103658333906457,
           -5.973339459514016,
           1.7433855599682573,
           0.1559033715072727,
           -1.205560110223614,
           0.5443013135641362
          ],
          [
           2.8793554442749585,
           -11.44406364957272,
           -3.4195262403644726,
           -4.312442663375457,
           -0.21815546162611346,
           3.0587808775994296,
           6.514142243442535
          ],
          [
           7.582845525341993,
           0.2987351711066343,
           -1.3174613793000718,
           -0.680822088827303,
           0.47088067179718013,
           0.5424745148822405,
           1.4768072145751918
          ],
          [
           14.453991588635311,
           1.6288840399345768,
           -6.735384786185379,
           0.5852406429813156,
           -3.0167372946136264,
           2.4532334194605356,
           2.8919226408373104
          ],
          [
           7.943407029219013,
           1.5311221166713795,
           -1.2456840201147712,
           -0.11341483307340736,
           0.31096249678369386,
           0.5246199898629232,
           -0.0780656201693735
          ],
          [
           7.299528478268746,
           1.8096983463265808,
           -2.2197216998087197,
           -2.207866906465959,
           1.175392437024333,
           2.295107960156559,
           -0.08267879759939627
          ],
          [
           11.654996773529287,
           -1.0403715839897234,
           -3.698828869244329,
           -5.059545027451634,
           6.347437834949732,
           8.369105416178197,
           2.9485282045823524
          ],
          [
           16.21071809330776,
           -1.1589655141502764,
           -3.0564176872536755,
           0.953902304675891,
           1.2876356974715972,
           1.9154851158959614,
           -0.6295313961043946
          ],
          [
           4.275744226964595,
           -3.896596853338372,
           -0.8823786294279558,
           -0.17741389846286731,
           1.5855064838372672,
           -0.3906518068358451,
           1.977880860406288
          ],
          [
           10.999715694548334,
           1.6579369080701154,
           -2.9034038768212924,
           -0.6859409550893255,
           1.205422642799716,
           9.330628922982907,
           -2.357966282724968
          ],
          [
           8.664829075266073,
           1.9341262256853908,
           -1.9785213429517376,
           -2.4725916874970633,
           0.5899722127188322,
           2.5464855995730407,
           0.8346193847227004
          ],
          [
           8.70113769896299,
           1.6260520871780326,
           -2.655927307235494,
           -2.0921265160639684,
           0.42194155427082897,
           1.6011480242910694,
           2.1858793812499235
          ],
          [
           12.353194217709778,
           -0.3456545784123217,
           -8.141190104147174,
           -6.2754903311173,
           13.822940943871986,
           -5.247672647833074,
           -1.7801079332537089
          ],
          [
           13.31075740125419,
           1.1799546931155032,
           -5.733093173910843,
           4.553138480795356,
           -1.7964554975298883,
           7.561740640257638,
           -4.000533461369937
          ],
          [
           8.535984895115686,
           0,
           -1.526747213078842,
           -2.177379954956062,
           1.2500162764231468,
           1.8462062839735351,
           -0.3053437486890343
          ],
          [
           11.256411978059164,
           1.3857034661426282,
           -4.856083266974557,
           2.4314094159183495,
           -1.261183295628891,
           2.3001536805424663,
           0.6695878738598122
          ],
          [
           15.297820371530774,
           -3.5014756581489483,
           3.836783099366745,
           -0.4747550368907341,
           1.1738476479444533,
           -0.9236956395726522,
           2.9886554436104564
          ],
          [
           7.873206828363985,
           4.16553349880432,
           -3.7834485508456845,
           -0.7656353861993037,
           -0.5995735306334268,
           1.3652089168327264,
           0.29617114943283274
          ],
          [
           15.789377081726277,
           -3.529597628532255,
           3.7103750203376995,
           0.29056680931507906,
           -0.030019512908701296,
           -0.01000850723949256,
           0.010008507239485754
          ],
          [
           5.800414743101913,
           -2.4514400565679835,
           -1.4131622033589213,
           2.3251454361890054,
           0.9720472215217737,
           5.1890589511754595,
           -2.37260350363729
          ],
          [
           8.131018009056014,
           -0.0640656053689127,
           -13.271386578058324,
           -1.6478889340241327,
           0.019837333927388283,
           -0.1488760138008871,
           -0.7627345733862599
          ],
          [
           10.448223702737469,
           2.1337936173657797,
           -5.1256256664625495,
           -1.342302033214066,
           1.5642777070453542,
           3.271829462296748,
           0.8547060578458348
          ],
          [
           7.6327236269185,
           1.2173440701096485,
           -1.5059445590231373,
           -2.0438667677273847,
           0.5515733785302263,
           1.4561596941337434,
           -0.03614675622223034
          ],
          [
           8.866940845754938,
           2.029381933981368,
           -0.671895024874498,
           -1.5570024377385687,
           -0.572247627406621,
           4.104004821971161,
           0.7408457536475386
          ],
          [
           7.95810401447726,
           1.9319315033922362,
           -3.4435011019679136,
           -1.0066967731822962,
           0.2629941304071881,
           2.579115460550364,
           -0.013472549700407658
          ],
          [
           8.8531904398652,
           1.7943890701554488,
           -2.1897843986308905,
           -2.596935363495958,
           1.8483938566648532,
           1.6533151073322003,
           0.06926007433739223
          ],
          [
           8.47000006923095,
           2.31175281804833,
           -3.545716391350126,
           -1.5275246095004884,
           0.23427787273078965,
           2.1557547790265943,
           -1.8345162754283082
          ],
          [
           15.115293007974467,
           -0.6461405619913739,
           -7.626848246877778,
           -3.2214270659528226,
           2.728302402214518,
           7.153093463330223,
           0
          ],
          [
           1.1274896672540438,
           0.8283857923979341,
           13.657553500575089,
           -13.263781737071175,
           2.3306139633386262,
           -2.9757774914874964,
           3.8099846232270385
          ],
          [
           7.0136429617515885,
           1.2768409393127804,
           1.301148713596243,
           -3.519231869026837,
           -3.8387517801089266,
           2.142293826984602,
           -1.121347080503594
          ],
          [
           17.207585985142998,
           12.237093380787712,
           -18.159795236116363,
           -3.9047125973790218,
           2.0494674247703144,
           7.826058647821397,
           -2.6564252385797142
          ],
          [
           10.704149840334138,
           3.073814117341221,
           -3.714920985886214,
           -2.4287623490172354,
           2.6017727727955093,
           3.946287897157255,
           0.3554506112118233
          ],
          [
           10.732902023049853,
           0.8810629682154906,
           -1.324522675002068,
           -1.7937700686667317,
           1.793770068666725,
           0.88496152769826,
           0.8771986072837041
          ],
          [
           9.695710486144671,
           -0.08442381252805362,
           -7.3133914477434665,
           -2.1585223810127703,
           4.493608271591054,
           2.5850289360023764,
           2.730545069026744
          ],
          [
           8.806056799826841,
           2.3674933028268565,
           -4.067757976081575,
           -1.5461881474158297,
           0.6395636236405244,
           4.974382499856891,
           -1.7482962780347568
          ],
          [
           22.349754690905225,
           -11.229073484991329,
           0.5369472404336522,
           -7.244022313303041,
           2.693251145071078,
           4.284652516741039,
           0.05343989534911246
          ],
          [
           12.586333520519469,
           1.617850909079517,
           -2.7534343842234996,
           -4.815922720714365,
           2.2315548333447297,
           1.219319626140297,
           0.5132372152066861
          ],
          [
           5.385016027528419,
           1.8710223228059906,
           -8.08420043350659,
           -1.7476851681798082,
           0.21134210050277147,
           -4.755939478329934,
           1.6105765414853355
          ],
          [
           13.650575798980622,
           5.329396194384769,
           -5.215023326408069,
           -1.4971488856078359,
           0.6169288894082121,
           8.613008672372446,
           14.653935004750993
          ],
          [
           14.514740357729938,
           26.159729523649,
           -7.890666665388396,
           -10.290351196477419,
           24.13811388639906,
           -1.6194685919980607,
           4.391923393483558
          ],
          [
           11.884208384353963,
           2.1623517103115972,
           -3.550436658780518,
           -2.2209675267821427,
           1.7807026571389983,
           2.299863461825357,
           0.019598236221467658
          ],
          [
           27.20356782673142,
           -8.449341668720182,
           -5.222801949065949,
           1.8530486993488497,
           -0.8604847193518527,
           3.696270518218584,
           -0.41728823591950115
          ],
          [
           7.623229568093592,
           2.3523549129719847,
           -1.361364739715982,
           -2.3496454197614964,
           0.779348792204388,
           0.5842859140307517,
           0.21388254566003626
          ],
          [
           10.341833233274729,
           -4.825195102403942,
           -5.218575317057019,
           -2.105340919783238,
           1.956420564636469,
           2.356515525066753,
           0.14545457109943616
          ],
          [
           14.31300493547733,
           -7.344012425953453,
           -3.0229132588260565,
           3.5526888343974763,
           -1.6546237182419272,
           4.810122166887841,
           7.563285009006574
          ],
          [
           11.506932978478709,
           2.9980832211935855,
           -5.195973893071098,
           -1.1173300598125189,
           0.7834399332610592,
           3.2897703507059015,
           -2.401862186592912
          ],
          [
           10.364852472147865,
           1.5303418139886706,
           -3.8099846232270402,
           -2.5815815962709956,
           1.8507622655985454,
           2.1766276481954505,
           -0.2395210725954933
          ],
          [
           9.268735977962013,
           -8.729047571724847,
           -9.04293280624008,
           -1.7514357665603635,
           1.5035497299017175,
           3.1390285050434867,
           6.300553060183425
          ],
          [
           9.481865853613485,
           0.2945510229756745,
           -3.4916265106227757,
           -4.889169216586427,
           1.0604553248797066,
           5.240027639353177,
           5.7380833769691275
          ],
          [
           6.5518700111799335,
           -1.7519969317410817,
           -1.331063018258682,
           -3.3318562826292566,
           2.261746394111621,
           3.160703845332368,
           0.7958090959809465
          ],
          [
           8.587520065013987,
           -0.02017145745619801,
           -2.927237967755656,
           -1.7603136857038495,
           0.5902209376924136,
           2.0799418699214676,
           1.1461443519006598
          ],
          [
           7.410797215372184,
           1.6172859245600968,
           -5.576631266535849,
           -4.6289255278497805,
           0.7585371389256564,
           6.106903334882137,
           -1.5923903356722908
          ],
          [
           8.436888117489588,
           2.499726475890839,
           -4.929424628806251,
           -2.3185907468810374,
           0.9692247056001878,
           4.359494297347492,
           0.013004746750887386
          ],
          [
           10.854372924124057,
           3.1638052111524733,
           -6.691240234129735,
           -0.5904862034024577,
           -0.5744624142289674,
           2.1254785268323326,
           -1.298906990416644
          ],
          [
           14.380274063840313,
           1.548202889914995,
           -1.6682941737126038,
           -3.3230519130277534,
           2.9136594086655245,
           4.043581957820927,
           1.700408617070574
          ],
          [
           10.506505103756481,
           5.686286189454324,
           -9.388740683133799,
           -4.926175649236772,
           1.2485156176339018,
           2.264781867290561,
           0.604653004986601
          ],
          [
           11.442149513256677,
           6.29743675316472,
           -4.421243284984448,
           -4.163814148704784,
           -1.0686186139315634,
           4.134667145677203,
           1.3320843975660774
          ],
          [
           9.913617946347742,
           1.3874124199211544,
           -2.4799783060416467,
           -0.8827295654406415,
           0.0633111765370336,
           2.6851441493578867,
           1.255182558968286
          ],
          [
           9.289374689269643,
           1.2943169903891552,
           -4.189421641971673,
           -2.784252365558657,
           1.2398201228113055,
           2.8134848071518395,
           -0.9502763939172182
          ],
          [
           5.889466240175832,
           2.1658305150910575,
           -4.471017334601333,
           -4.345462924628567,
           0.6663518230770915,
           0.9442940800282087,
           -0.32948958968525377
          ],
          [
           14.368334765498982,
           0.38491743297903214,
           -1.245631396740405,
           -5.752289630008691,
           4.7968683495275215,
           3.698044338406482,
           1.378180093044389
          ],
          [
           16.630915507564502,
           -8.706697424313967,
           0.44883605111435676,
           -3.0206369837219373,
           2.9615797501789687,
           0.02416399308317396,
           4.286339936767252
          ],
          [
           15.692907248482552,
           5.8540404990588355,
           -3.486338226517064,
           -3.651678261524332,
           1.9198342107737711,
           2.661942630728456,
           -0.05270092348589629
          ],
          [
           1.486295535015897,
           -1.9757727726887282,
           6.275823275183519,
           -3.788213172670355,
           -12.744184869868,
           2.6114880596324266,
           -0.851068966790862
          ],
          [
           9.958398516527273,
           0.9856342626145903,
           -4.229313014423246,
           -2.868665176730245,
           1.6390242901239378,
           2.3811494953314543,
           0.6301659279626541
          ],
          [
           4.391829670619254,
           1.66234045419242,
           -6.018187036474751,
           -0.6798654428375417,
           1.4265833688825829,
           0.5401247698960521,
           -0.5371490665139652
          ],
          [
           6.3976144142713816,
           -1.421075303681468,
           -5.056531115655217,
           -2.532550262997079,
           -0.922472979677361,
           15.29888054527878,
           -1.2653020171064204
          ],
          [
           15.766518593594197,
           3.4083143243728387,
           -1.9333613317666059,
           -4.135084753178792,
           3.0062384101516795,
           10.46445634725983,
           -0.02222963219113539
          ],
          [
           10.727256212945187,
           -0.047766898448239406,
           -8.004270767353649,
           -7.634011593766275,
           -1.0106767669774357,
           -4.030482203170689,
           -2.3782333717925916
          ],
          [
           11.924799317583854,
           2.5137216643592053,
           -3.5428419051103535,
           -3.9158365656654843,
           5.050090862009019,
           5.724402994516866,
           5.620974135862035
          ],
          [
           13.240041342708114,
           1.0866719265919988,
           4.024901224000167,
           -4.702686115057989,
           1.4985093095864548,
           4.172738648554281,
           -1.515082396623376
          ],
          [
           4.768541244989338,
           -2.04331176409212,
           -2.429662763262538,
           -1.287146483200856,
           0.4226233760882333,
           0.24777019613079224,
           -0.7451599308420823
          ],
          [
           10.92193398795084,
           2.216585596260021,
           -3.872122028105698,
           -1.2800174766961787,
           1.86126085682848,
           5.68363856450613,
           -0.9251222374562478
          ],
          [
           8.817969891172549,
           2.625773308873593,
           -7.900065324355077,
           0,
           0.9624713374209692,
           1.3320843975660555,
           4.707837493212225
          ],
          [
           10.840929850718496,
           -2.7943350857093843,
           -3.6361577516543724,
           -3.8792742914456335,
           1.9930729667460623,
           3.6874452095343013,
           -0.16697282222954216
          ],
          [
           7.744704234099461,
           1.3046499467998935,
           -1.2062085934851263,
           -3.504446713948793,
           0.6433067724798461,
           -0.5753950550989818,
           -0.510465631168295
          ],
          [
           7.4762665235177925,
           3.0169885998300874,
           -5.37003834084951,
           -2.409755157906053,
           0.5931215489964927,
           3.486698338727151,
           5.391691991577762
          ],
          [
           10.55432416924251,
           -0.05005899915026576,
           -6.387112348682725,
           -2.8696040711089585,
           1.8965281632852204,
           3.5399248989992755,
           -1.640916449895841
          ],
          [
           7.245507921542231,
           -6.477749831638814,
           1.706202527672155,
           -0.7547205635382966,
           -7.878087785311434,
           4.409531986522438,
           2.3256862164267185
          ],
          [
           4.064439828482866,
           -6.664544141398186,
           -1.6365567670225636,
           -4.651312333737989,
           -0.8068857053085697,
           2.1772858881714585,
           -1.7501955501387605
          ],
          [
           8.027777502141365,
           1.8720859676636428,
           -3.593200922606344,
           -1.0238751208460828,
           1.052565409380294,
           3.2734299655935097,
           1.6247087384334804
          ],
          [
           12.645690880116167,
           -0.19412769988767514,
           -6.109534225515246,
           -19.589113255047856,
           1.0621780588054919,
           -12.601289274347721,
           8.542393508293966
          ],
          [
           9.571594162770497,
           4.477733860588754,
           -2.0499625084899775,
           -1.5577953819256716,
           0.8778065143306653,
           2.6179901776008463,
           -0.5166422333755466
          ],
          [
           13.917581024419972,
           -1.1320875624482312,
           -2.8387761422353157,
           -0.7347571630394522,
           6.518359326978655,
           3.5742325320173975,
           0.5761150435071442
          ],
          [
           12.053563575230806,
           2.8223534874609943,
           -5.337122730142174,
           1.0442949283980327,
           0.05769785716369744,
           3.3093688429913013,
           2.025478929456308
          ],
          [
           10.968466919772215,
           -0.7730937427210217,
           -6.868625686374907,
           -2.271808642027269,
           8.97517235061405,
           -2.410561983651866,
           10.585175384199276
          ],
          [
           22.080077258690185,
           0.8757262416658456,
           5.485086195189308,
           5.127953818866312,
           5.658832048534086,
           -13.188321252050144,
           3.30534160547158
          ],
          [
           11.815392862576306,
           1.5486327284723833,
           -2.742366898686199,
           -3.2233044467284846,
           2.3448982742211584,
           1.5159725765627659,
           -0.5071202598078844
          ],
          [
           7.572677520796764,
           2.523129905218859,
           -3.2443831988296292,
           -2.6900141223525527,
           1.231711206124179,
           1.3510067685956006,
           0.6420567802922762
          ],
          [
           5.71029607186167,
           -0.07072969763214867,
           -0.21248975059358727,
           -0.48569662500206956,
           0.6863932274011006,
           1.7304301772575705,
           0.35869289253472275
          ],
          [
           12.814582269193004,
           -0.5167970158442561,
           -3.3365693843800295,
           -4.520285625940275,
           2.9454499291263505,
           3.563851544735867,
           0.8280718487476616
          ],
          [
           9.571898269889207,
           1.55461055902774,
           -1.6909432318141655,
           -2.0676132838427304,
           1.039150327601842,
           2.181408925374412,
           -0.2024975379771279
          ],
          [
           6.776210210081874,
           -1.5989217937783655,
           -7.945890241438389,
           -4.02531123583311,
           2.1102776067736038,
           0.3859518492177903,
           0.2308581248470025
          ],
          [
           9.80704943924252,
           0.11478861027017395,
           -2.164754033923441,
           -3.742474968299843,
           0.5663445558399994,
           1.401985711500226,
           0.11926059851231062
          ],
          [
           13.109236702516377,
           0.0534045406551155,
           -4.756294100764405,
           -3.533131021280601,
           2.066663680855891,
           4.770732703059997,
           1.6653621523711515
          ],
          [
           10.533458171158596,
           -0.08561977561382063,
           -3.6881137813971407,
           -2.453709426464706,
           1.23438038688147,
           1.3404481952514595,
           1.2031909006261414
          ],
          [
           9.364379048353747,
           -1.749708163996759,
           -4.0171606385292264,
           -3.4510973353388437,
           1.2359299453665455,
           2.144471027890322,
           -2.651534772786329
          ],
          [
           12.635379646570478,
           4.087554061006472,
           -6.962030568433393,
           -2.817743759179256,
           0.7998160726833429,
           4.333056052491184,
           2.196915162051711
          ],
          [
           12.281331076685946,
           1.7490607666224627,
           -3.6191063573413182,
           5.465841253786419,
           0.6574087932998168,
           3.223737618653781,
           0.3473289833547356
          ],
          [
           5.999924870415188,
           -3.095650286494943,
           -3.5342742445660056,
           -5.444540545047675,
           -0.8765201773966028,
           4.753169711212508,
           0.24660924951934682
          ],
          [
           3.834620500834872,
           -0.5263170044274533,
           -1.7746694681335358,
           -7.4314590839673444,
           4.062911188873822,
           1.4706147389695488,
           0.9082714574319226
          ],
          [
           12.511884714659693,
           3.9731699367772113,
           -4.572971801632587,
           -3.745756253490044,
           2.8729746138410035,
           4.997752691984453,
           2.0318159280010386
          ],
          [
           10.9061314620653,
           5.728463830042372,
           -5.275056538552885,
           -1.1012799835402154,
           1.4340589928076706,
           2.8424628453080905,
           1.146670057422113
          ],
          [
           9.41535990719342,
           2.8851380565600997,
           -3.8427377133885283,
           -2.7876369528254905,
           0.07064641763270316,
           2.922963831493831,
           -0.13726838119721355
          ],
          [
           9.22497336512188,
           0.3824096438403476,
           -1.4416395761349021,
           -0.8471684581285768,
           1.4400691953268383,
           1.5821388395313052,
           -0.7197695228253211
          ],
          [
           12.93035148974294,
           0.908408972034275,
           -4.193728590752978,
           -4.049460869313718,
           3.2605021417974203,
           7.732767725389259,
           -1.3284328198734283
          ],
          [
           27.39839129545289,
           -6.843212783993372,
           -13.353139262452263,
           9.898280113331992,
           2.6593358368956626,
           -11.582895589438587,
           -1.2152607672676008
          ],
          [
           9.866282829952763,
           4.590593720045208,
           -3.713651531893964,
           -3.3139127128807297,
           1.670683250172582,
           1.7595761890379442,
           0.7529719908107455
          ],
          [
           12.851195957015577,
           0.1656834821088488,
           -4.977891408372892,
           -3.629344005876127,
           3.5660528645228924,
           1.1488048288251198,
           3.4852089878687424
          ],
          [
           6.133225653387093,
           0.6877606202103329,
           -4.557395720231645,
           -1.1689288161373699,
           2.4519114894091874,
           0.056641179650825754,
           -0.6248245263939195
          ],
          [
           9.594229107695254,
           5.802771211581987,
           1.53311233059442,
           -7.724401190393277,
           3.038711722767539,
           0.5856940463402934,
           1.3122641518826024
          ],
          [
           19.484955666617623,
           -3.0284443998626047,
           -7.980373580716828,
           -2.1836044874763627,
           1.988369601354318,
           7.015027902356325,
           -0.9014871096215427
          ],
          [
           15.851557150476486,
           2.758346230849539,
           -0.9831086320692116,
           -2.2092692508334966,
           -1.2015274712413226,
           2.6652538384254902,
           0.30467923460499113
          ],
          [
           35.17786579038884,
           -6.538275926285163,
           11.878353598996682,
           4.305948946044701,
           1.2510361694363736,
           -3.8010634782708803,
           2.932436952674845
          ],
          [
           9.529178070955968,
           1.3160489707171703,
           -2.8549687454416945,
           -2.2867858437453386,
           1.743458980214652,
           0.823203900407141,
           1.5713420639594318
          ],
          [
           8.668675436058221,
           2.382115284023049,
           -1.9070550081632616,
           -2.7172729377925133,
           1.1048163835317641,
           1.8048069871702848,
           0.029559562733704983
          ],
          [
           16.562667822178447,
           1.5314234973042575,
           -5.684963392444118,
           -7.3096042542639905,
           6.6346200334576375,
           8.32991555987606,
           2.9892804898261174
          ],
          [
           15.003328041631809,
           1.7689476956483967,
           -4.393770303142011,
           -4.8435617099595065,
           2.2693399493025432,
           7.700596073006269,
           1.5599202105633414
          ],
          [
           24.182991080431172,
           -7.8369621459051855,
           5.1910864269769315,
           17.473454616600222,
           -4.902324031382456,
           15.32398427843058,
           6.3398806933777685
          ],
          [
           11.266883704815573,
           3.2013868245863963,
           -2.4966622730460943,
           -4.2071213920687045,
           3.0298061688922204,
           2.47965921180515,
           -0.1387283459486239
          ],
          [
           7.051222731248749,
           -11.47755145924283,
           3.3842056450155713,
           -3.613944099603487,
           -5.192566505855281,
           6.196961193176735,
           0.7561472700576488
          ],
          [
           12.124204982817437,
           6.641127315108128,
           -9.118281545458421,
           -6.432279467788438,
           2.0777750461600024,
           3.351650102737281,
           0.8138948889321681
          ],
          [
           10.372375607567154,
           1.3394253287664823,
           -3.52053687383833,
           -2.1546152969314134,
           0.43091401573726584,
           2.747476219394094,
           0.5441696722314658
          ],
          [
           -3.1257477621304366,
           52.93823331693247,
           -20.262449811941472,
           -12.579561989353916,
           1.7423402665874541,
           0.28317691725248784,
           2.763517223432621
          ],
          [
           11.425868501634064,
           1.1905960274754874,
           -4.461236386241336,
           -2.3737213938796247,
           2.52137738231606,
           2.5852522984722732,
           0.3050697745100089
          ],
          [
           10.330793737343898,
           0.4966310313917164,
           -3.933395381812504,
           -0.29487673412526866,
           0.9917436657346145,
           0.03654302982380061,
           6.677387253939073
          ],
          [
           8.047910305467118,
           2.2696574504415477,
           -4.30390172290596,
           1.0629699432669912,
           -1.805547612951946,
           1.1527505171067414,
           0.12272449893771939
          ],
          [
           7.394859182410466,
           1.7255974603589168,
           -3.1306424846625074,
           -0.8017484398331606,
           0.6334926514007411,
           1.5594857957906418,
           -0.34599716200152003
          ],
          [
           7.402353765373519,
           0.8199007395221962,
           -3.4896922345600934,
           -5.147132008306265,
           3.0969463038875076,
           4.390125333590113,
           -0.6629858538669576
          ],
          [
           12.599024176426843,
           -0.11280317044985255,
           -4.501625595302657,
           -1.54672922933076,
           -1.2062872449275095,
           5.547144694303112,
           0.8004616782614039
          ],
          [
           8.036279120608864,
           -2.574285276654899,
           -5.280776973438331,
           -1.8395626827197702,
           1.957233263114251,
           1.1428317603003262,
           2.7638768019922417
          ],
          [
           1.5648683207940783,
           -2.8275380785617403,
           -0.2772349385408981,
           -1.79563827688439,
           -0.5158957854394306,
           3.802359003045953,
           -3.904399828226504
          ],
          [
           14.08409556732358,
           0.5865119452398058,
           -2.9675768146116663,
           -1.82375875497809,
           1.6227536621756755,
           3.3633239358536278,
           5.488605447877036
          ],
          [
           4.969814731465455,
           -0.743141380002541,
           -1.2103754640239142,
           -5.224229224016972,
           0.7414069497697273,
           1.7422483363968646,
           -0.025034422461450375
          ],
          [
           7.013708672422917,
           -0.8037137544648942,
           -5.486069413546244,
           -5.5270130267641076,
           0.7594099319593676,
           7.803031489568724,
           -0.5102051883895511
          ],
          [
           9.346237523593105,
           -0.28459802824707103,
           -5.066253346667272,
           -4.631381535024035,
           2.125588595652865,
           1.703074691493834,
           1.8913318004986448
          ],
          [
           11.561564981583167,
           3.732310194090824,
           -3.150990020900838,
           -3.457862592296881,
           1.7840721879491408,
           1.8711978514914265,
           0.7335636772389353
          ],
          [
           14.946683051483179,
           1.7946643190837042,
           -4.032804538697189,
           -3.2412664875059436,
           1.6860251867574647,
           3.893934570563842,
           -0.40282028286047755
          ],
          [
           8.744488734647868,
           2.947779638014735,
           -2.7453624706102326,
           -2.621184621286272,
           0.14642184301063194,
           0.741014080740135,
           0.591289281557219
          ],
          [
           9.942247631333911,
           3.0517832231906157,
           -3.4714229493671636,
           -1.867626440422586,
           1.3617231691830853,
           2.3392879574705376,
           -0.662802757841334
          ],
          [
           11.824017852148748,
           1.5959714886422032,
           -3.032195771030595,
           -1.9098127739797928,
           0.9969047105426306,
           3.1140240735723226,
           3.704127168034886
          ],
          [
           10.19082041940105,
           0.05018820682511819,
           -4.726097772436559,
           -2.5574116203069437,
           0.053951984044073135,
           4.843051662014991,
           0.7168489478612496
          ],
          [
           11.304657643280825,
           1.2536391183576838,
           -4.563373099025971,
           -2.412491061164678,
           1.3978262115903477,
           2.3793984665522645,
           2.9974996220794723
          ],
          [
           12.932991104217034,
           -3.0445075606016405,
           -7.899809066604885,
           1.5930547405437159,
           0.6750447535256406,
           -0.35570570127054324,
           0.5424122528938347
          ],
          [
           6.564550314355231,
           -1.28849313038604,
           -5.377374315229884,
           -3.559829067130467,
           0.7847280656389041,
           0.571578589123147,
           10.84128473687989
          ],
          [
           -0.9976383119956423,
           -0.7051538617731321,
           0.2640462718740461,
           -0.624199711235778,
           -1.0883089703548927,
           -0.20595327464213842,
           -0.19266743748184273
          ],
          [
           9.280495928738763,
           -1.2903404835907955,
           -5.394175075568205,
           -0.5977304108459415,
           3.093151799088912,
           3.5572247048234718,
           0.4421690242239756
          ],
          [
           15.159246206796197,
           1.3747310407703506,
           -3.006289474013629,
           -5.169630718593841,
           15.761532606967593,
           25.721135258550593,
           1.9382108810453453
          ],
          [
           11.28793480718536,
           1.283857991718659,
           -3.6141708849034324,
           -4.709522416383841,
           1.4956904611827522,
           3.5582639834255456,
           2.992038039503803
          ],
          [
           10.86562468701463,
           3.5358348801209525,
           -1.6851840035491585,
           -1.5322516992364439,
           -1.0041161499490616,
           2.4916351264534637,
           1.5979035057889193
          ],
          [
           7.33424294294375,
           3.2713669304081905,
           -4.251210776245666,
           -2.5934573388415774,
           2.313214278271382,
           2.3320179503024874,
           0.4053511833182637
          ],
          [
           12.833605338167628,
           1.8413292637745424,
           -5.190123409865701,
           -2.2882041522998797,
           1.824958169663751,
           3.3640846466618184,
           0.753299230754501
          ],
          [
           9.593265103513057,
           1.4210928063295312,
           -8.045178929102288,
           -0.8681189745046703,
           0.6684516868723506,
           3.9835498766169235,
           -0.06404098841991698
          ],
          [
           12.112090019534124,
           0.49474436104672403,
           -5.7775507349194895,
           -2.6491615446976224,
           2.48562921062455,
           4.41813211090862,
           1.5537913592535875
          ],
          [
           14.850763217756525,
           -5.285097203253346,
           -5.092870788536537,
           -2.8344473009142437,
           0.24968801985871458,
           -1.0025146619378706,
           -1.2674440896727937
          ],
          [
           12.36198979531905,
           -0.29849418390990967,
           -7.31816172935912,
           -4.21020532120026,
           3.2110785848432473,
           8.434983468211673,
           -0.05883018610675165
          ],
          [
           4.932847760506965,
           1.5988951470551265,
           -3.701769858299168,
           -2.656160722769991,
           0.8989860578994912,
           2.066728872942753,
           0.8505451084983277
          ],
          [
           10.7538413520091,
           0.5476856171500197,
           -2.8177661940692875,
           -2.983322517134294,
           -0.02516884110773455,
           3.9081934757950023,
           -0.11303085330639534
          ],
          [
           17.454100976282678,
           4.431025085305511,
           -8.86140907638142,
           -3.972218175036493,
           3.1271173977971043,
           9.870243005222035,
           0.23693789425270573
          ],
          [
           15.226921172755276,
           -1.3045844833300024,
           -9.679275976454752,
           -3.9339414560032453,
           5.003864962517933,
           11.070401188423194,
           -0.9904339795135685
          ],
          [
           1.8773745012426537,
           -3.1637084943182585,
           -5.482395593444008,
           -0.11796627532937075,
           0.21223920241505123,
           -0.6380737706727764,
           -0.2135992268149311
          ],
          [
           15.450384952896917,
           2.214996272687655,
           -9.691003793598588,
           -0.2612672942751824,
           -4.139442778608047,
           3.285578805933516,
           -0.19808524139611036
          ],
          [
           8.479068766361825,
           1.4435946232941592,
           -2.1067270268323135,
           -2.2200709980192532,
           0.5427421735365016,
           2.2081860764592647,
           0.4621995682835528
          ],
          [
           12.757104202254638,
           1.4326892620761702,
           -5.782803803840262,
           -1.595172449583131,
           1.141999468594906,
           2.6150163978015653,
           1.899253582727432
          ],
          [
           -12.967782330853275,
           0.25608208616736505,
           4.322784030400173,
           0.9087949060158955,
           5.453164632042154,
           8.852506571981202,
           5.216306328458592
          ],
          [
           7.4339027983614425,
           -0.2568682300761399,
           -0.4085871730690593,
           -2.1584258810954835,
           -1.7006771052205147,
           3.436189305639164,
           1.2883941536391454
          ],
          [
           10.127530425705626,
           0.9689744532475351,
           -6.62600960208697,
           1.8759170793123972,
           3.094556090928879,
           0.5285424566464,
           2.241428212235959
          ],
          [
           null,
           null,
           null,
           null,
           null,
           null,
           null
          ],
          [
           9.018430403020743,
           2.0554634120377258,
           -3.117044506803334,
           -3.3276126274061277,
           -0.36846025473755945,
           1.3929844010178891,
           1.94670891648348
          ],
          [
           10.655320531406653,
           1.6067116634267458,
           -5.335448744617601,
           1.2692039985095611,
           0.6982143408781872,
           7.115993582143168,
           1.435170869641835
          ],
          [
           8.41976024563804,
           1.4977005311489953,
           -2.0395410430271066,
           -0.2771648851263356,
           5.451076901031552,
           6.792152977259777,
           -0.9228445045241859
          ],
          [
           9.854446602778832,
           1.651275949085017,
           -2.005079704556108,
           -2.201266256275903,
           -0.41493835468114776,
           2.006756305080939,
           0.2543883335737681
          ],
          [
           6.462309130972191,
           -18.63041066495723,
           4.190139138482825,
           -11.370002928328269,
           2.4866146066081694,
           1.1677415072438218,
           1.1020841014279046
          ],
          [
           9.964759101022743,
           1.4187551638571112,
           -4.831049156229747,
           12.794478591588277,
           -3.355054447642986,
           1.3363227812166938,
           0.8429168681916047
          ],
          [
           10.697290434384692,
           0.6837219022109378,
           -4.063475065873961,
           -3.8530428529381364,
           4.8346704077309175,
           4.120268457040597,
           1.9606614054810863
          ],
          [
           11.41500249006754,
           1.2334122208444245,
           -3.1611827634347542,
           -3.7684181327769304,
           -0.45581238705315713,
           1.0101095986503918,
           1.8915446992535545
          ],
          [
           9.31701329221777,
           0.723592158617684,
           -2.3710758789681754,
           -3.3023638761688705,
           4.986151826360857,
           5.163806253438912,
           0.8238975544552641
          ],
          [
           11.163997114266946,
           0.8288220860102071,
           -5.146039272531091,
           -1.8212982360545267,
           1.8212982360545207,
           2.8987536873252404,
           0
          ],
          [
           13.491584676790328,
           -0.2189211194905357,
           -3.2132556089888076,
           -3.7889559441115264,
           4.7221887831422995,
           3.5555105859623466,
           0.7698267425752336
          ],
          [
           14.070652501033704,
           -23.23035666634604,
           -7.596444995404098,
           -7.250447890029142,
           6.309754694197259,
           -3.3737517753098514,
           2.9988029708757225
          ],
          [
           12.556052026899062,
           1.4201422106167947,
           -5.681285939440772,
           -0.49875415110390514,
           1.857638557293524,
           2.663595724861289,
           2.127739844728488
          ],
          [
           8.495864223945064,
           2.292308790233231,
           -1.9421819980077564,
           2.4361039747886037,
           -0.932895866155529,
           1.706849705885248,
           -0.3013184953994276
          ],
          [
           11.75374862383295,
           1.063955319353765,
           -2.625971458355577,
           -1.7107813676662333,
           0.9652151254148909,
           2.819259508721111,
           2.106019601376359
          ],
          [
           7.826005893672336,
           1.209692170882853,
           -3.1210131535440464,
           -0.9231544904454383,
           0.5549147187523039,
           0.9180693355529121,
           0.5922568564858565
          ],
          [
           14.15425917472406,
           -0.5809144967014204,
           -4.293964645464103,
           -1.4879924434185305,
           0.9653431700642781,
           3.7707980702441724,
           0.3358525407134224
          ],
          [
           13.983464585405228,
           -5.184827052825276,
           -5.549328440771164,
           -2.0442249050551675,
           0.6176671891729136,
           3.310758577450474,
           1.32164858997336
          ],
          [
           16.05437723380805,
           4.433109406717799,
           -5.191450888182531,
           -2.6286238425649433,
           4.323057481412483,
           5.222458505569478,
           -0.4358571479420022
          ],
          [
           9.50907452132384,
           0.9464941427300793,
           -3.390155167568123,
           -1.9682694458425027,
           0.7616183045308509,
           2.0278576973486824,
           -0.4470946344767011
          ],
          [
           8.125960684754144,
           -4.079555662946851,
           -5.362669262879024,
           -3.7659867750273563,
           0.8651820370513685,
           0,
           1.3547444273381792
          ],
          [
           9.088783981645527,
           2.560736565549962,
           -3.5985891923444076,
           -1.3835731852650137,
           0.8733679968754632,
           2.998083221193564,
           2.209220924473354
          ],
          [
           13.117972153722924,
           1.1954979664687397,
           -5.565788319853153,
           -5.352448041570466,
           1.944640764930642,
           5.571297875330901,
           1.446679841775348
          ],
          [
           9.590515230439884,
           0.05867970828523587,
           -3.66023216859347,
           -3.555214330229416,
           0.2854266544887646,
           1.2785714437293472,
           -1.3246882037962213
          ],
          [
           8.996733539382952,
           2.6169717733384603,
           -3.431972209530924,
           -0.7117467768863879,
           -0.9939341902557776,
           1.7056809671421769,
           0.43549333933728307
          ],
          [
           10.529068081719602,
           2.114506642605119,
           -4.6607931587299145,
           -1.7561426929947068,
           2.9737162095762177,
           0.2544530634994795,
           0.5701630903663453
          ],
          [
           10.847207669304144,
           4.816340137862273,
           -4.038126093656784,
           -2.4784416069787834,
           0.5006268278144222,
           3.7169890503512866,
           2.690035621669777
          ],
          [
           20.021467830800407,
           22.83843101156247,
           -9.055183559171157,
           -8.857326719391207,
           12.233174711886655,
           0.1382170226951674,
           3.2945754347091833
          ],
          [
           3.893065283576438,
           -4.963309612858376,
           -3.606050228966504,
           3.134192258767084,
           -1.269282679841896,
           0.7725555352211032,
           1.3712702227237532
          ],
          [
           16.90763300439339,
           -2.2472855852058626,
           -4.2200354490376535,
           -2.767838742214461,
           10.173504463037744,
           1.5227040319033351,
           -0.06572461623382686
          ],
          [
           3.2842948932312592,
           -5.265156516692321,
           -0.015273004993412794,
           -0.9360921573828038,
           1.1801807606459276,
           0.47123291579537335,
           -0.7305968570550494
          ],
          [
           -10.970975099376611,
           -6.817390111023845,
           4.432556184355596,
           1.294447782672568,
           4.1504873259944866,
           2.7333372456205245,
           7.669129990381656
          ],
          [
           12.093902124551457,
           5.662980275323746,
           -11.792349495853154,
           7.146768272002042,
           -3.0837868485693978,
           0.5085372383279431,
           8.137960626837803
          ],
          [
           10.234574098973642,
           3.3140392502304175,
           -3.1511285435512364,
           -3.8157794800298452,
           0.16896652851266736,
           2.4459251572956484,
           1.2008877942215197
          ],
          [
           8.546015344703168,
           0.14461318499997133,
           4.4099853460297105,
           -10.640580120816175,
           6.057033840271873,
           1.6367917461808417,
           4.183543695180371
          ],
          [
           9.171011046036991,
           1.0820530980351886,
           -2.7804481723208694,
           -2.2379842690629217,
           1.3854901428971065,
           5.270645226618948,
           1.2109128789749617
          ],
          [
           9.602857063981855,
           5.245957990081219,
           -1.0274062976185228,
           -2.969650535385233,
           2.451961717431866,
           2.054866822738776,
           0.16934805063331476
          ],
          [
           9.258555206333462,
           0.9785083587000177,
           -1.6245907061392089,
           -3.186561477790052,
           2.1849070414015697,
           5.891290651299992,
           0.17903920435253928
          ],
          [
           4.389155938916783,
           -1.720071420298663,
           -6.40926896544843,
           1.985943467765874,
           1.3455064098101637,
           -1.3236604239231604,
           0.17459629053376274
          ],
          [
           8.036654187325762,
           1.4943637931067288,
           -4.902942724031853,
           -6.863399834475435,
           1.9190354372239833,
           2.7598731626176103,
           2.5356328043615397
          ],
          [
           7.3955660829080605,
           23.765351803120243,
           -10.38746312834018,
           -4.681858759884664,
           7.431787979513066,
           -4.610738453270018,
           -7.379449809921191
          ],
          [
           13.658397008178163,
           -4.605647394013688,
           -6.016161129991341,
           -5.231836189340694,
           1.6540033596455974,
           2.159622907734639,
           0.9348235030421701
          ],
          [
           9.113854736632627,
           1.1316769306994843,
           -2.5645241050740077,
           -2.1091201378634663,
           0.8355022069804773,
           3.708215642625603,
           -0.5867668687691283
          ],
          [
           19.33231238317566,
           -19.478832555908472,
           -8.275491937947596,
           2.257313693411652,
           -2.336984392088737,
           5.227580837447096,
           6.869025384203329
          ],
          [
           14.657317935822409,
           9.298260448255236,
           -4.044429973372781,
           -9.007307865994939,
           -1.765689039843608,
           10.115460290199708,
           -1.288402598914257
          ],
          [
           10.243118364733313,
           -12.871942943291756,
           5.053143635597558,
           4.114312886833313,
           -4.955117288857636,
           3.2613436093513797,
           11.342677037554395
          ],
          [
           8.681631212994569,
           0.5617240930430127,
           -5.764493639044865,
           -1.8105847804922848,
           2.7527277263481977,
           2.036504543458589,
           0.09594956530786697
          ],
          [
           7.719063664482592,
           2.774191458865296,
           -1.6408754666392098,
           -1.6845048724923453,
           1.0993563149795722,
           1.3574146463261898,
           1.776496963201428
          ],
          [
           6.106741139798749,
           1.5969678257132538,
           -2.762784138452205,
           -1.0478157425524608,
           0.26298502993889433,
           1.4341836436684057,
           -0.38910554929665647
          ],
          [
           10.24229923614465,
           1.9363251203153347,
           -1.570396677836387,
           -4.0162715139426535,
           1.3845406822053135,
           2.1843027922452216,
           -0.08156607303766494
          ],
          [
           12.451753536875016,
           1.9596379059413793,
           -2.1951766362420715,
           -10.398971352404764,
           3.968235815647869,
           3.660007700411546,
           3.075437213382666
          ],
          [
           11.091689784318408,
           1.7346488723853786,
           -5.751253044918856,
           -0.731264684628649,
           0.9132483563272474,
           3.484050466072018,
           3.366740076434987
          ],
          [
           11.551613735220446,
           5.439407206579876,
           1.2143166978331064,
           -2.4282921528941674,
           0.6391742960010093,
           1.05629471643174,
           0.5538521754642594
          ],
          [
           14.351468444311422,
           -1.0458262652565695,
           -2.388389266943422,
           -4.908868885533649,
           4.519906117145046,
           2.938138135178624,
           -0.28960137511052825
          ],
          [
           3.850971649517726,
           0.13760509515236327,
           -1.2029496680341538,
           -0.8873819854069227,
           0.34129725962399426,
           0.012167670514503693,
           -0.15829531463687108
          ],
          [
           13.724151616927745,
           6.335756657442432,
           -6.12995998045346,
           0.01713062102689966,
           3.0698986888806687,
           5.431198935373994,
           4.114919082837271
          ],
          [
           18.282419565852067,
           9.833210530155334,
           -12.05622998718834,
           -3.0982422687104854,
           1.3489265239587676,
           1.717197549518187,
           1.846010409673913
          ],
          [
           12.34622289887452,
           0.7876640657304774,
           -3.933840559690855,
           -2.530908955046913,
           1.3336995126702471,
           2.933159330189997,
           1.4102266061470259
          ],
          [
           12.260232209233248,
           1.141564908367671,
           -9.208044075861215,
           -5.434382731588153,
           4.810160979338149,
           3.264841867961379,
           1.0250315856167664
          ],
          [
           8.418429799032696,
           1.2607616854574633,
           7.986746891027373,
           -6.404792996538075,
           0.5589729478786812,
           -0.22321437839408942,
           1.9912162320112967
          ],
          [
           7.200749877511391,
           2.1409268423679495,
           -1.8565934122535277,
           -3.7609292144357784,
           1.3470189031000839,
           0.2324231145080344,
           -0.6404679826242302
          ],
          [
           15.563284776881417,
           7.100879611940098,
           -8.344346559470637,
           -5.371581388007638,
           2.25882293739634,
           -1.41680599713409,
           2.742282829638932
          ],
          [
           7.255089065857547,
           0,
           -8.55057305320425,
           -9.902821654485283,
           4.1220586168394195,
           5.680411799921851,
           -0.9077218151116652
          ],
          [
           12.13694173993362,
           13.881716557054286,
           2.6405910418547087,
           2.7647283894722396,
           -1.716408737044148,
           6.807689564030309,
           -4.565807658427154
          ],
          [
           10.178269430994238,
           1.6294242891539676,
           -3.5595203928586776,
           -2.123483390059916,
           2.3971645704644597,
           3.4326605572841977,
           0.672615490924331
          ],
          [
           7.80936606970762,
           -1.3989865471668117,
           -3.126910822869548,
           -3.8133820858454874,
           2.8396118811369697,
           1.6711979243371748,
           1.0106469001342797
          ],
          [
           13.639975485882866,
           -1.1448750065416122,
           -6.789822584658857,
           -1.05834269308441,
           1.961485149992805,
           1.119853033362017,
           3.0893025254680984
          ],
          [
           11.169175973224228,
           3.119735053567456,
           -2.7318485460517348,
           -3.0846110515055134,
           1.4331698268358657,
           1.7109827566460405,
           1.2569481568371228
          ],
          [
           8.162749405910791,
           1.5711242265145224,
           -2.0871007631989458,
           2.5148673108772663,
           1.3107358046763753,
           0.6109220986411087,
           -0.15238098186662155
          ],
          [
           12.43820503926245,
           5.903313020867915,
           -6.472070873585238,
           -10.08008581976855,
           0.9696284680645382,
           2.6511125548332077,
           -0.9100232581165336
          ],
          [
           11.41825900320763,
           2.679586158444649,
           -2.582639955989854,
           -2.2043508288615783,
           0.370782775552573,
           2.8218851252488184,
           0.9548890889773852
          ],
          [
           9.340117508840079,
           3.575000904356086,
           -5.597128629079357,
           -1.1204599012863132,
           -0.18796998015775193,
           6.200709777417246,
           1.83973651397161
          ],
          [
           17.42198222988467,
           -1.1993089075561043,
           -5.694969350356859,
           -3.672945377947529,
           2.006240129426353,
           3.158157205029905,
           -0.519481687710391
          ],
          [
           6.275121056347545,
           -0.0757132568777191,
           -2.510066939340766,
           -0.6872392346432719,
           1.2785820349267916,
           0.06665848300570597,
           0.8103715450157334
          ],
          [
           9.428809036185024,
           -1.0383929045615772,
           -4.360956973775012,
           0.33450349242554617,
           0.5677335990670525,
           -0.16616503189958895,
           2.7587585596127333
          ],
          [
           6.164852188702584,
           0.11842602449911045,
           -3.972869668487515,
           0.2906653807196772,
           0.534403409427151,
           1.1591452852341624,
           -0.5392628486775126
          ],
          [
           12.609138535982714,
           3.5676395712302265,
           -4.7971632569339615,
           -3.7819633268585977,
           1.347060425829944,
           1.9526422350355237,
           -1.776740694517565
          ],
          [
           3.45370421957255,
           0.410196883401733,
           -0.21953905634356152,
           -0.8091254146839888,
           0.8347631535758545,
           0.5623736702896146,
           0.39976794045827835
          ],
          [
           8.004270767353656,
           0.4985379351214509,
           -9.710638661293466,
           -0.40587378147890035,
           1.5194974215071704,
           -0.709390536973943,
           -0.07121662022064075
          ],
          [
           15.471813881611709,
           1.0974421518999684,
           -5.408079651446077,
           -2.810455395148036,
           1.7473052283879982,
           7.2608926375735185,
           -0.04310809421212099
          ],
          [
           3.6388323914032994,
           -3.4074846884502525,
           5.725469266349571,
           -5.034620231968402,
           2.9954203342123864,
           -1.0072832788294956,
           -2.3905520853554365
          ],
          [
           22.533001139254146,
           6.679623064923678,
           12.958022950925708,
           -8.479801404973626,
           8.446406847976027,
           -0.6030169026591188,
           3.060872587616914
          ],
          [
           6.089720081107502,
           -1.3596017392572552,
           -3.82230646703349,
           -0.4008021397538822,
           2.0318720221854245,
           -0.10207802563367001,
           0.8571273510710801
          ],
          [
           8.898789658790722,
           2.233769853839406,
           -3.106375739820106,
           -4.7563922446187625,
           1.3692591837614432,
           1.0820664640716622,
           0.8928630744301398
          ],
          [
           8.267141117351551,
           3.798564849532536,
           -1.2263093932057667,
           -2.410455023881706,
           1.4879924434185237,
           3.1078766459614715,
           0.9916974911915954
          ],
          [
           -0.04373855623399596,
           0.015015390803744236,
           -0.00540528096081291,
           0.006005849699420554,
           0.015113125778476942,
           -0.004003254646555863,
           -0.006805900718558302
          ],
          [
           6.535518104412705,
           0.1305270213056054,
           -2.7104617457333915,
           2.0314947625812154,
           3.413135371864783,
           -0.2939426148217815,
           -0.3746367619581694
          ],
          [
           12.815128599356699,
           -3.269658707633807,
           -5.190193713305913,
           -8.080403241529599,
           4.359043607486155,
           3.4164813491075794,
           0
          ],
          [
           7.844551838654633,
           2.681125745065655,
           -0.49922100560170307,
           -3.404177916805027,
           4.801933240383034,
           -0.4637510243659644,
           -0.40366457545037765
          ],
          [
           11.207292959573035,
           3.240974722560328,
           -4.205471458478498,
           -4.068433879700113,
           0.2749142624921935,
           1.2730337868826378,
           3.003897011219239
          ],
          [
           13.064631288649966,
           0.3738322110607158,
           -4.191089561563695,
           -4.333812749820969,
           1.7720963127909333,
           2.6395071838544872,
           0.7360095204599854
          ],
          [
           11.783763422045476,
           1.0211930134289138,
           -2.717082132470707,
           -2.1100670633927057,
           0.2718624238993464,
           1.860414522982777,
           0.6640130639277557
          ],
          [
           10.656311175125865,
           0.5393856655764099,
           -2.6026742732513157,
           -3.250745748796344,
           0.3876829785116894,
           3.772762969684325,
           -0.5201695182682488
          ],
          [
           11.959512990840087,
           2.118459286827731,
           -2.307554836397724,
           -2.556049697953522,
           0.323102058144654,
           3.112350292066182,
           0.37453227301621134
          ],
          [
           12.39804107049566,
           3.118292743668806,
           -6.986080152841696,
           -1.8255344492746062,
           2.4746532088573674,
           5.285569649406263,
           -1.580788931451595
          ],
          [
           20.958262847892005,
           -5.80384246099139,
           -10.84623740305592,
           0.6540973846200631,
           1.1584738579654403,
           4.044347780751454,
           3.715977927484962
          ],
          [
           9.777647674050812,
           0.26873401185761503,
           -6.459357357503165,
           1.0296947151310198,
           -1.692534084086534,
           3.4211855998050633,
           1.846598157304423
          ],
          [
           7.986504044378946,
           2.993134964216082,
           -2.833347979486555,
           -2.206169649783301,
           0.6507615156738215,
           4.440475794086911,
           -0.9350717482433794
          ],
          [
           15.363973712688098,
           -1.3031734492846523,
           -5.098449262674292,
           -0.6194226400166162,
           -1.1025470011707823,
           5.5000383591578546,
           1.7337466172889802
          ],
          [
           12.398224844466894,
           -2.0259821345692215,
           -3.11807737565332,
           -8.209079752229732,
           4.252629829878832,
           -0.30698412442886025,
           2.054085152387392
          ],
          [
           7.93004089879613,
           0.985229644301164,
           -0.8862687257845541,
           -3.012275945510836,
           1.9182819416774122,
           0.8464078412129363,
           -1.2974233890015479
          ],
          [
           7.345352186858299,
           -1.8715073001142315,
           -5.6375378353927585,
           -3.636764417087495,
           8.278340082636863,
           -0.6590326692815026,
           2.8861584357184387
          ],
          [
           18.758714225555842,
           4.556140822622188,
           -8.976682020607388,
           -5.0213813360729995,
           2.2643464661181896,
           7.117331473070143,
           0.024102193416270398
          ],
          [
           11.006130175033405,
           0.6687545148312437,
           -5.094255415235324,
           -2.3926503412031543,
           1.1977570348499393,
           2.4427314302781866,
           0.9008568958559062
          ],
          [
           11.739309609207416,
           2.7086913021593793,
           -4.376183139859463,
           -2.7337286863518213,
           3.1769076326706003,
           3.90263213560028,
           1.4625213568571651
          ],
          [
           11.459514282568751,
           3.8155291069292128,
           -5.460494336906518,
           11.80622170982146,
           -1.0476001225282572,
           16.098322405134656,
           -3.1087890783761
          ],
          [
           13.845056794416037,
           0.3082854079380325,
           -5.25293509172006,
           -1.9656652549551714,
           1.0899850843962338,
           4.694760043797916,
           0.6807378228024886
          ],
          [
           11.83029212932556,
           1.6495219369110845,
           6.849286011263938,
           -4.824925383599267,
           0.06677796575364688,
           -1.276470136636503,
           1.4098924379501676
          ],
          [
           7.1273433965344895,
           1.234608569882927,
           -2.9890755791214585,
           -3.0683579644270247,
           1.172784751712919,
           0.8497085574937934,
           -1.4981395553096706
          ],
          [
           4.432795161107523,
           0.8456642550487609,
           -0.9001592957460033,
           -0.05452475398485479,
           -1.226613184283674,
           0.8891821579248103,
           0.16725101193783384
          ],
          [
           6.7884398171205325,
           1.4403304470648324,
           -0.1829157268736124,
           -3.735135201436915,
           1.7006651788783176,
           2.01158201348658,
           -0.13285385741324773
          ],
          [
           7.208572677295412,
           0.7490671729157659,
           -1.6933612529439626,
           -0.9532960658723638,
           1.142869582362285,
           1.1299555253933466,
           0.18709079358116024
          ],
          [
           10.80951167632915,
           2.1467230846609873,
           -3.333308099926547,
           -3.02116541720828,
           7.299615656155057,
           0.5119681032118267,
           1.9382985782678421
          ],
          [
           7.962338104810445,
           1.6864966926584715,
           -1.8949748779662232,
           -1.612938192988353,
           1.9428282395376906,
           1.1032692496748093,
           0.5471034333938167
          ],
          [
           8.14799523764006,
           2.7934231606180018,
           -2.0434689845164047,
           -1.6453934493859907,
           -0.4005613206800482,
           0.8393334645871858,
           0.6150202899416906
          ],
          [
           10.061956536229555,
           1.9496415861449834,
           -5.122321484724365,
           -2.1963334154518552,
           1.422499093134726,
           3.878602503515645,
           2.1506205220963683
          ],
          [
           8.388449530780893,
           2.9668724091897003,
           -3.280541383944745,
           -5.539724988058498,
           -1.5444322427473631,
           1.0322672307418959,
           1.1487043987130778
          ],
          [
           8.440078812483497,
           -0.27994419402159204,
           -4.073300279642659,
           0.3054285312028152,
           1.2809210327733527,
           0.8856246998495934,
           2.253314221228781
          ],
          [
           8.405934532554866,
           -0.4413519301445828,
           -5.777906554414039,
           0.3598420579533312,
           1.532733623928011,
           3.1682371389140678,
           2.068922363055126
          ],
          [
           11.214568906399723,
           1.386215710052675,
           -4.045495469231375,
           -2.0858230120409695,
           1.6260520871780326,
           2.4467792445539627,
           0.11235956238264877
          ],
          [
           9.356216887116862,
           1.8248681588399314,
           -2.564243061333767,
           -2.0619287202735705,
           0.7547205635382904,
           1.5851147737618563,
           -0.5565877077445229
          ],
          [
           3.371966971657118,
           -20.22628523326161,
           0.7352974305258954,
           -6.967992063798994,
           -0.39350764009910616,
           0.2461236782690441,
           7.389724620204122
          ],
          [
           14.373720026262756,
           3.276098193815051,
           -4.966660263950564,
           4.2938416650682685,
           -3.862855401934003,
           5.397191282825835,
           2.142863366687002
          ],
          [
           10.449235238861352,
           3.6295854085054953,
           -4.038011858150892,
           -6.233952417343003,
           4.2636684464317804,
           4.133189937574219,
           5.315144515829625
          ],
          [
           9.27249684862871,
           2.2452671976955734,
           -3.524992157842622,
           -2.798690125097179,
           0.6600684031352093,
           2.551750608840893,
           0.04579803148518966
          ]
         ]
        }
       ],
       "layout": {
        "coloraxis": {
         "cmax": 15,
         "cmin": -15,
         "colorbar": {
          "title": {
           "text": "% Return"
          }
         },
         "colorscale": [
          [
           0,
           "rgb(165,0,38)"
          ],
          [
           0.1,
           "rgb(215,48,39)"
          ],
          [
           0.2,
           "rgb(244,109,67)"
          ],
          [
           0.3,
           "rgb(253,174,97)"
          ],
          [
           0.4,
           "rgb(254,224,139)"
          ],
          [
           0.5,
           "rgb(255,255,191)"
          ],
          [
           0.6,
           "rgb(217,239,139)"
          ],
          [
           0.7,
           "rgb(166,217,106)"
          ],
          [
           0.8,
           "rgb(102,189,99)"
          ],
          [
           0.9,
           "rgb(26,152,80)"
          ],
          [
           1,
           "rgb(0,104,55)"
          ]
         ]
        },
        "height": 16000,
        "template": {
         "data": {
          "bar": [
           {
            "error_x": {
             "color": "#f2f5fa"
            },
            "error_y": {
             "color": "#f2f5fa"
            },
            "marker": {
             "line": {
              "color": "rgb(17,17,17)",
              "width": 0.5
             },
             "pattern": {
              "fillmode": "overlay",
              "size": 10,
              "solidity": 0.2
             }
            },
            "type": "bar"
           }
          ],
          "barpolar": [
           {
            "marker": {
             "line": {
              "color": "rgb(17,17,17)",
              "width": 0.5
             },
             "pattern": {
              "fillmode": "overlay",
              "size": 10,
              "solidity": 0.2
             }
            },
            "type": "barpolar"
           }
          ],
          "carpet": [
           {
            "aaxis": {
             "endlinecolor": "#A2B1C6",
             "gridcolor": "#506784",
             "linecolor": "#506784",
             "minorgridcolor": "#506784",
             "startlinecolor": "#A2B1C6"
            },
            "baxis": {
             "endlinecolor": "#A2B1C6",
             "gridcolor": "#506784",
             "linecolor": "#506784",
             "minorgridcolor": "#506784",
             "startlinecolor": "#A2B1C6"
            },
            "type": "carpet"
           }
          ],
          "choropleth": [
           {
            "colorbar": {
             "outlinewidth": 0,
             "ticks": ""
            },
            "type": "choropleth"
           }
          ],
          "contour": [
           {
            "colorbar": {
             "outlinewidth": 0,
             "ticks": ""
            },
            "colorscale": [
             [
              0,
              "#0d0887"
             ],
             [
              0.1111111111111111,
              "#46039f"
             ],
             [
              0.2222222222222222,
              "#7201a8"
             ],
             [
              0.3333333333333333,
              "#9c179e"
             ],
             [
              0.4444444444444444,
              "#bd3786"
             ],
             [
              0.5555555555555556,
              "#d8576b"
             ],
             [
              0.6666666666666666,
              "#ed7953"
             ],
             [
              0.7777777777777778,
              "#fb9f3a"
             ],
             [
              0.8888888888888888,
              "#fdca26"
             ],
             [
              1,
              "#f0f921"
             ]
            ],
            "type": "contour"
           }
          ],
          "contourcarpet": [
           {
            "colorbar": {
             "outlinewidth": 0,
             "ticks": ""
            },
            "type": "contourcarpet"
           }
          ],
          "heatmap": [
           {
            "colorbar": {
             "outlinewidth": 0,
             "ticks": ""
            },
            "colorscale": [
             [
              0,
              "#0d0887"
             ],
             [
              0.1111111111111111,
              "#46039f"
             ],
             [
              0.2222222222222222,
              "#7201a8"
             ],
             [
              0.3333333333333333,
              "#9c179e"
             ],
             [
              0.4444444444444444,
              "#bd3786"
             ],
             [
              0.5555555555555556,
              "#d8576b"
             ],
             [
              0.6666666666666666,
              "#ed7953"
             ],
             [
              0.7777777777777778,
              "#fb9f3a"
             ],
             [
              0.8888888888888888,
              "#fdca26"
             ],
             [
              1,
              "#f0f921"
             ]
            ],
            "type": "heatmap"
           }
          ],
          "heatmapgl": [
           {
            "colorbar": {
             "outlinewidth": 0,
             "ticks": ""
            },
            "colorscale": [
             [
              0,
              "#0d0887"
             ],
             [
              0.1111111111111111,
              "#46039f"
             ],
             [
              0.2222222222222222,
              "#7201a8"
             ],
             [
              0.3333333333333333,
              "#9c179e"
             ],
             [
              0.4444444444444444,
              "#bd3786"
             ],
             [
              0.5555555555555556,
              "#d8576b"
             ],
             [
              0.6666666666666666,
              "#ed7953"
             ],
             [
              0.7777777777777778,
              "#fb9f3a"
             ],
             [
              0.8888888888888888,
              "#fdca26"
             ],
             [
              1,
              "#f0f921"
             ]
            ],
            "type": "heatmapgl"
           }
          ],
          "histogram": [
           {
            "marker": {
             "pattern": {
              "fillmode": "overlay",
              "size": 10,
              "solidity": 0.2
             }
            },
            "type": "histogram"
           }
          ],
          "histogram2d": [
           {
            "colorbar": {
             "outlinewidth": 0,
             "ticks": ""
            },
            "colorscale": [
             [
              0,
              "#0d0887"
             ],
             [
              0.1111111111111111,
              "#46039f"
             ],
             [
              0.2222222222222222,
              "#7201a8"
             ],
             [
              0.3333333333333333,
              "#9c179e"
             ],
             [
              0.4444444444444444,
              "#bd3786"
             ],
             [
              0.5555555555555556,
              "#d8576b"
             ],
             [
              0.6666666666666666,
              "#ed7953"
             ],
             [
              0.7777777777777778,
              "#fb9f3a"
             ],
             [
              0.8888888888888888,
              "#fdca26"
             ],
             [
              1,
              "#f0f921"
             ]
            ],
            "type": "histogram2d"
           }
          ],
          "histogram2dcontour": [
           {
            "colorbar": {
             "outlinewidth": 0,
             "ticks": ""
            },
            "colorscale": [
             [
              0,
              "#0d0887"
             ],
             [
              0.1111111111111111,
              "#46039f"
             ],
             [
              0.2222222222222222,
              "#7201a8"
             ],
             [
              0.3333333333333333,
              "#9c179e"
             ],
             [
              0.4444444444444444,
              "#bd3786"
             ],
             [
              0.5555555555555556,
              "#d8576b"
             ],
             [
              0.6666666666666666,
              "#ed7953"
             ],
             [
              0.7777777777777778,
              "#fb9f3a"
             ],
             [
              0.8888888888888888,
              "#fdca26"
             ],
             [
              1,
              "#f0f921"
             ]
            ],
            "type": "histogram2dcontour"
           }
          ],
          "mesh3d": [
           {
            "colorbar": {
             "outlinewidth": 0,
             "ticks": ""
            },
            "type": "mesh3d"
           }
          ],
          "parcoords": [
           {
            "line": {
             "colorbar": {
              "outlinewidth": 0,
              "ticks": ""
             }
            },
            "type": "parcoords"
           }
          ],
          "pie": [
           {
            "automargin": true,
            "type": "pie"
           }
          ],
          "scatter": [
           {
            "marker": {
             "line": {
              "color": "#283442"
             }
            },
            "type": "scatter"
           }
          ],
          "scatter3d": [
           {
            "line": {
             "colorbar": {
              "outlinewidth": 0,
              "ticks": ""
             }
            },
            "marker": {
             "colorbar": {
              "outlinewidth": 0,
              "ticks": ""
             }
            },
            "type": "scatter3d"
           }
          ],
          "scattercarpet": [
           {
            "marker": {
             "colorbar": {
              "outlinewidth": 0,
              "ticks": ""
             }
            },
            "type": "scattercarpet"
           }
          ],
          "scattergeo": [
           {
            "marker": {
             "colorbar": {
              "outlinewidth": 0,
              "ticks": ""
             }
            },
            "type": "scattergeo"
           }
          ],
          "scattergl": [
           {
            "marker": {
             "line": {
              "color": "#283442"
             }
            },
            "type": "scattergl"
           }
          ],
          "scattermapbox": [
           {
            "marker": {
             "colorbar": {
              "outlinewidth": 0,
              "ticks": ""
             }
            },
            "type": "scattermapbox"
           }
          ],
          "scatterpolar": [
           {
            "marker": {
             "colorbar": {
              "outlinewidth": 0,
              "ticks": ""
             }
            },
            "type": "scatterpolar"
           }
          ],
          "scatterpolargl": [
           {
            "marker": {
             "colorbar": {
              "outlinewidth": 0,
              "ticks": ""
             }
            },
            "type": "scatterpolargl"
           }
          ],
          "scatterternary": [
           {
            "marker": {
             "colorbar": {
              "outlinewidth": 0,
              "ticks": ""
             }
            },
            "type": "scatterternary"
           }
          ],
          "surface": [
           {
            "colorbar": {
             "outlinewidth": 0,
             "ticks": ""
            },
            "colorscale": [
             [
              0,
              "#0d0887"
             ],
             [
              0.1111111111111111,
              "#46039f"
             ],
             [
              0.2222222222222222,
              "#7201a8"
             ],
             [
              0.3333333333333333,
              "#9c179e"
             ],
             [
              0.4444444444444444,
              "#bd3786"
             ],
             [
              0.5555555555555556,
              "#d8576b"
             ],
             [
              0.6666666666666666,
              "#ed7953"
             ],
             [
              0.7777777777777778,
              "#fb9f3a"
             ],
             [
              0.8888888888888888,
              "#fdca26"
             ],
             [
              1,
              "#f0f921"
             ]
            ],
            "type": "surface"
           }
          ],
          "table": [
           {
            "cells": {
             "fill": {
              "color": "#506784"
             },
             "line": {
              "color": "rgb(17,17,17)"
             }
            },
            "header": {
             "fill": {
              "color": "#2a3f5f"
             },
             "line": {
              "color": "rgb(17,17,17)"
             }
            },
            "type": "table"
           }
          ]
         },
         "layout": {
          "annotationdefaults": {
           "arrowcolor": "#f2f5fa",
           "arrowhead": 0,
           "arrowwidth": 1
          },
          "autotypenumbers": "strict",
          "coloraxis": {
           "colorbar": {
            "outlinewidth": 0,
            "ticks": ""
           }
          },
          "colorscale": {
           "diverging": [
            [
             0,
             "#8e0152"
            ],
            [
             0.1,
             "#c51b7d"
            ],
            [
             0.2,
             "#de77ae"
            ],
            [
             0.3,
             "#f1b6da"
            ],
            [
             0.4,
             "#fde0ef"
            ],
            [
             0.5,
             "#f7f7f7"
            ],
            [
             0.6,
             "#e6f5d0"
            ],
            [
             0.7,
             "#b8e186"
            ],
            [
             0.8,
             "#7fbc41"
            ],
            [
             0.9,
             "#4d9221"
            ],
            [
             1,
             "#276419"
            ]
           ],
           "sequential": [
            [
             0,
             "#0d0887"
            ],
            [
             0.1111111111111111,
             "#46039f"
            ],
            [
             0.2222222222222222,
             "#7201a8"
            ],
            [
             0.3333333333333333,
             "#9c179e"
            ],
            [
             0.4444444444444444,
             "#bd3786"
            ],
            [
             0.5555555555555556,
             "#d8576b"
            ],
            [
             0.6666666666666666,
             "#ed7953"
            ],
            [
             0.7777777777777778,
             "#fb9f3a"
            ],
            [
             0.8888888888888888,
             "#fdca26"
            ],
            [
             1,
             "#f0f921"
            ]
           ],
           "sequentialminus": [
            [
             0,
             "#0d0887"
            ],
            [
             0.1111111111111111,
             "#46039f"
            ],
            [
             0.2222222222222222,
             "#7201a8"
            ],
            [
             0.3333333333333333,
             "#9c179e"
            ],
            [
             0.4444444444444444,
             "#bd3786"
            ],
            [
             0.5555555555555556,
             "#d8576b"
            ],
            [
             0.6666666666666666,
             "#ed7953"
            ],
            [
             0.7777777777777778,
             "#fb9f3a"
            ],
            [
             0.8888888888888888,
             "#fdca26"
            ],
            [
             1,
             "#f0f921"
            ]
           ]
          },
          "colorway": [
           "#636efa",
           "#EF553B",
           "#00cc96",
           "#ab63fa",
           "#FFA15A",
           "#19d3f3",
           "#FF6692",
           "#B6E880",
           "#FF97FF",
           "#FECB52"
          ],
          "font": {
           "color": "#f2f5fa"
          },
          "geo": {
           "bgcolor": "rgb(17,17,17)",
           "lakecolor": "rgb(17,17,17)",
           "landcolor": "rgb(17,17,17)",
           "showlakes": true,
           "showland": true,
           "subunitcolor": "#506784"
          },
          "hoverlabel": {
           "align": "left"
          },
          "hovermode": "closest",
          "mapbox": {
           "style": "dark"
          },
          "paper_bgcolor": "rgb(17,17,17)",
          "plot_bgcolor": "rgb(17,17,17)",
          "polar": {
           "angularaxis": {
            "gridcolor": "#506784",
            "linecolor": "#506784",
            "ticks": ""
           },
           "bgcolor": "rgb(17,17,17)",
           "radialaxis": {
            "gridcolor": "#506784",
            "linecolor": "#506784",
            "ticks": ""
           }
          },
          "scene": {
           "xaxis": {
            "backgroundcolor": "rgb(17,17,17)",
            "gridcolor": "#506784",
            "gridwidth": 2,
            "linecolor": "#506784",
            "showbackground": true,
            "ticks": "",
            "zerolinecolor": "#C8D4E3"
           },
           "yaxis": {
            "backgroundcolor": "rgb(17,17,17)",
            "gridcolor": "#506784",
            "gridwidth": 2,
            "linecolor": "#506784",
            "showbackground": true,
            "ticks": "",
            "zerolinecolor": "#C8D4E3"
           },
           "zaxis": {
            "backgroundcolor": "rgb(17,17,17)",
            "gridcolor": "#506784",
            "gridwidth": 2,
            "linecolor": "#506784",
            "showbackground": true,
            "ticks": "",
            "zerolinecolor": "#C8D4E3"
           }
          },
          "shapedefaults": {
           "line": {
            "color": "#f2f5fa"
           }
          },
          "sliderdefaults": {
           "bgcolor": "#C8D4E3",
           "bordercolor": "rgb(17,17,17)",
           "borderwidth": 1,
           "tickwidth": 0
          },
          "ternary": {
           "aaxis": {
            "gridcolor": "#506784",
            "linecolor": "#506784",
            "ticks": ""
           },
           "baxis": {
            "gridcolor": "#506784",
            "linecolor": "#506784",
            "ticks": ""
           },
           "bgcolor": "rgb(17,17,17)",
           "caxis": {
            "gridcolor": "#506784",
            "linecolor": "#506784",
            "ticks": ""
           }
          },
          "title": {
           "x": 0.05
          },
          "updatemenudefaults": {
           "bgcolor": "#506784",
           "borderwidth": 0
          },
          "xaxis": {
           "automargin": true,
           "gridcolor": "#283442",
           "linecolor": "#506784",
           "ticks": "",
           "title": {
            "standoff": 15
           },
           "zerolinecolor": "#283442",
           "zerolinewidth": 2
          },
          "yaxis": {
           "automargin": true,
           "gridcolor": "#283442",
           "linecolor": "#506784",
           "ticks": "",
           "title": {
            "standoff": 15
           },
           "zerolinecolor": "#283442",
           "zerolinewidth": 2
          }
         }
        },
        "title": {
         "text": "7-Day Coin Performance Heatmap"
        },
        "width": 1000,
        "xaxis": {
         "anchor": "y",
         "domain": [
          0,
          1
         ],
         "title": {
          "text": "Day"
         }
        },
        "yaxis": {
         "anchor": "x",
         "automargin": true,
         "autorange": "reversed",
         "domain": [
          0,
          1
         ],
         "nticks": 438,
         "tickfont": {
          "size": 10
         },
         "title": {
          "text": "Asset"
         }
        }
       }
      }
     },
     "metadata": {},
     "output_type": "display_data"
    }
   ],
   "source": [
    "\n",
    "# Set the data directory path (adjust as needed)\n",
    "data_path = \"data/\"\n",
    "\n",
    "# List all CSV files in the folder\n",
    "files = [f for f in os.listdir(data_path) if f.endswith(\".csv\")]\n",
    "\n",
    "# Setup date range: last 7 days ending yesterday\n",
    "today = datetime.now().date()\n",
    "date_list = [today - timedelta(days=i) for i in range(1, 8)]\n",
    "date_list.sort()\n",
    "\n",
    "returns_data = {}\n",
    "\n",
    "# Process each file\n",
    "for file in files:\n",
    "    symbol = file.replace(\".csv\", \"\")\n",
    "    df = pd.read_csv(os.path.join(data_path, file), parse_dates=[\"datetime\"])\n",
    "    df.set_index(\"datetime\", inplace=True)\n",
    "    df = df.sort_index()\n",
    "    \n",
    "    df[\"log_return\"] = np.log(df[\"close\"] / df[\"close\"].shift(1))\n",
    "    df[\"pct_return\"] = df[\"log_return\"] * 100\n",
    "    df[\"date\"] = df.index.date\n",
    "    \n",
    "    # Get returns for the last 7 days\n",
    "    row = []\n",
    "    for date in date_list:\n",
    "        val = df[df[\"date\"] == date][\"pct_return\"]\n",
    "        row.append(val.iloc[0] if not val.empty else np.nan)\n",
    "    \n",
    "    returns_data[symbol] = row\n",
    "\n",
    "# Create DataFrame\n",
    "heatmap_df = pd.DataFrame(returns_data, index=[d.strftime('%Y-%m-%d') for d in date_list]).T\n",
    "heatmap_df.columns = [f\"D{i+1}\" for i in range(7)]  # Label columns as D1 to D7\n",
    "\n",
    "# Plot scrollable heatmap using Plotly\n",
    "fig = px.imshow(\n",
    "    heatmap_df,\n",
    "    text_auto=\".2f\",\n",
    "    color_continuous_scale=\"RdYlGn\",\n",
    "    labels=dict(x=\"Day\", y=\"Asset\", color=\"% Return\"),\n",
    "    aspect=\"auto\",\n",
    "    title=\"7-Day Coin Performance Heatmap\",\n",
    "    zmin=-15,  # Set the minimum value for color scale\n",
    "    zmax=15    # Set the maximum value for color scale\n",
    ")\n",
    "fig.update_layout(\n",
    "    template=\"plotly_dark\",\n",
    "    height=16000,  # Enough height to show boxes clearly\n",
    "    width=1000,\n",
    "    yaxis_nticks=len(heatmap_df),\n",
    ")\n",
    "fig.update_yaxes(tickfont=dict(size=10), automargin=True)\n",
    "fig.show()"
   ]
  },
  {
   "cell_type": "code",
   "execution_count": 8,
   "id": "11f5ebd8",
   "metadata": {},
   "outputs": [],
   "source": [
    "# # --- Setup Weekly and Monthly Ranges ---\n",
    "\n",
    "# # Get last 5 completed weeks (Monday to Sunday)\n",
    "# week_ends = []\n",
    "# for i in range(1, 6):\n",
    "#     end_of_week = today - timedelta(days=today.weekday() + 1 + (7 * (i - 1)))  # Last Sunday\n",
    "#     start_of_week = end_of_week - timedelta(days=6)\n",
    "#     week_ends.append((start_of_week, end_of_week))\n",
    "\n",
    "# # Get last 7 completed months\n",
    "# month_ranges = []\n",
    "# for i in range(1, 8):\n",
    "#     month = (today.replace(day=1) - pd.DateOffset(months=i)).date()\n",
    "#     start_of_month = month\n",
    "#     end_of_month = (month.replace(day=1) + pd.DateOffset(months=1) - pd.DateOffset(days=1)).date()\n",
    "#     month_ranges.append((start_of_month, end_of_month))\n",
    "\n",
    "# # --- Function to calculate period returns ---\n",
    "# def compute_period_returns(ranges, label_prefix):\n",
    "#     period_data = {}\n",
    "    \n",
    "#     for file in files:\n",
    "#         symbol = file.replace(\".csv\", \"\")\n",
    "#         df = pd.read_csv(os.path.join(data_path, file), parse_dates=[\"datetime\"])\n",
    "#         df.set_index(\"datetime\", inplace=True)\n",
    "#         df = df.sort_index()\n",
    "#         df[\"close\"] = pd.to_numeric(df[\"close\"], errors=\"coerce\")\n",
    "#         df[\"date\"] = df.index.date\n",
    "\n",
    "#         row = []\n",
    "#         for start_date, end_date in ranges:\n",
    "#             df_period = df[(df[\"date\"] >= start_date) & (df[\"date\"] <= end_date)]\n",
    "#             if len(df_period) >= 2:\n",
    "#                 start_price = df_period[\"close\"].iloc[0]\n",
    "#                 end_price = df_period[\"close\"].iloc[-1]\n",
    "#                 ret = np.log(end_price / start_price) * 100\n",
    "#                 row.append(ret)\n",
    "#             else:\n",
    "#                 row.append(np.nan)\n",
    "#         period_data[symbol] = row\n",
    "\n",
    "#     col_labels = [f\"{label_prefix}{i+1}\" for i in range(len(ranges))]\n",
    "#     return pd.DataFrame(period_data, index=col_labels).T\n",
    "\n",
    "# # --- Compute Weekly Returns ---\n",
    "# weekly_df = compute_period_returns(week_ends, \"W\")\n",
    "\n",
    "# # --- Compute Monthly Returns ---\n",
    "# monthly_df = compute_period_returns(month_ranges, \"M\")\n",
    "\n",
    "# # --- Plot Weekly Heatmap ---\n",
    "# fig_w = px.imshow(\n",
    "#     weekly_df,\n",
    "#     text_auto=\".2f\",\n",
    "#     color_continuous_scale=\"RdYlGn\",\n",
    "#     labels=dict(x=\"Week\", y=\"Asset\", color=\"% Return\"),\n",
    "#     title=\"5-Week Coin Performance Heatmap\",\n",
    "#     zmin=-50,\n",
    "#     zmax=50,\n",
    "#     aspect=\"auto\"\n",
    "# )\n",
    "# fig_w.update_layout(template=\"plotly_dark\", height=16000, width=1000, yaxis_nticks=len(weekly_df))\n",
    "# fig_w.update_yaxes(tickfont=dict(size=10), automargin=True)\n",
    "# fig_w.show()\n",
    "\n",
    "# # --- Plot Monthly Heatmap ---\n",
    "# fig_m = px.imshow(\n",
    "#     monthly_df,\n",
    "#     text_auto=\".2f\",\n",
    "#     color_continuous_scale=\"RdYlGn\",\n",
    "#     labels=dict(x=\"Month\", y=\"Asset\", color=\"% Return\"),\n",
    "#     title=\"7-Month Coin Performance Heatmap\",\n",
    "#     zmin=-100,\n",
    "#     zmax=100,\n",
    "#     aspect=\"auto\"\n",
    "# )\n",
    "# fig_m.update_layout(template=\"plotly_dark\", height=16000, width=1000, yaxis_nticks=len(monthly_df))\n",
    "# fig_m.update_yaxes(tickfont=dict(size=10), automargin=True)\n",
    "# fig_m.show()\n"
   ]
  },
  {
   "cell_type": "code",
   "execution_count": 9,
   "id": "a5c31e19",
   "metadata": {},
   "outputs": [],
   "source": [
    "from IPython.display import display, HTML\n",
    "\n",
    "# Set the data directory path\n",
    "data_path = \"data/\"\n",
    "os.makedirs(data_path, exist_ok=True)\n",
    "\n",
    "# List all CSV files in the folder\n",
    "files = [f for f in os.listdir(data_path) if f.endswith(\".csv\")]\n",
    "\n",
    "# Setup date range: last 7 days ending yesterday\n",
    "today = datetime.now().date()\n",
    "date_list = [today - timedelta(days=i) for i in range(1, 8)]\n",
    "date_list.sort()\n",
    "\n",
    "# Data structures to store all metrics\n",
    "returns_data = {}\n",
    "volume_data = {}\n",
    "daily_metrics = {date: {'gainers': [], 'losers': [], 'volume_leaders': []} for date in date_list}\n",
    "\n",
    "# Process each file\n",
    "for file in files:\n",
    "    symbol = file.replace(\".csv\", \"\")\n",
    "    try:\n",
    "        df = pd.read_csv(os.path.join(data_path, file), parse_dates=[\"datetime\"])\n",
    "        df.set_index(\"datetime\", inplace=True)\n",
    "        df = df.sort_index()\n",
    "        \n",
    "        # Calculate returns\n",
    "        df[\"log_return\"] = np.log(df[\"close\"] / df[\"close\"].shift(1))\n",
    "        df[\"pct_return\"] = df[\"log_return\"] * 100\n",
    "        df[\"date\"] = df.index.date\n",
    "        \n",
    "        # Get daily metrics\n",
    "        for date in date_list:\n",
    "            daily_df = df[df[\"date\"] == date]\n",
    "            if not daily_df.empty:\n",
    "                # Get return for heatmap\n",
    "                returns_data.setdefault(symbol, []).append(daily_df[\"pct_return\"].iloc[0])\n",
    "                \n",
    "                # Calculate volume in USDT terms (volume * closing price)\n",
    "                volume_usdt = daily_df[\"volume\"].sum() * daily_df[\"close\"].iloc[-1]\n",
    "                volume_data.setdefault(symbol, []).append(volume_usdt)\n",
    "                \n",
    "                # Store metrics for daily analysis\n",
    "                daily_metrics[date]['gainers'].append((symbol, daily_df[\"pct_return\"].iloc[0]))\n",
    "                daily_metrics[date]['losers'].append((symbol, daily_df[\"pct_return\"].iloc[0]))\n",
    "                daily_metrics[date]['volume_leaders'].append((symbol, volume_usdt))\n",
    "    except Exception as e:\n",
    "        print(f\"Error processing {file}: {e}\")\n",
    "\n",
    "# Generate daily reports\n",
    "for date in date_list:\n",
    "    date_str = date.strftime('%Y-%m-%d')\n",
    "    \n",
    "    # Get top gainers/losers\n",
    "    gainers = sorted(daily_metrics[date]['gainers'], key=lambda x: x[1], reverse=True)[:10]\n",
    "    losers = sorted(daily_metrics[date]['losers'], key=lambda x: x[1])[:10]\n",
    "    volume_leaders = sorted(daily_metrics[date]['volume_leaders'], key=lambda x: x[1], reverse=True)[:10]\n",
    "    \n",
    "    # Create DataFrames for display\n",
    "    gainers_df = pd.DataFrame(gainers, columns=['Symbol', 'Return (%)'])\n",
    "    losers_df = pd.DataFrame(losers, columns=['Symbol', 'Return (%)'])\n",
    "    volume_df = pd.DataFrame(volume_leaders, columns=['Symbol', 'Volume (USDT)'])\n",
    "    \n",
    "    # # Display daily report\n",
    "    # display(HTML(f\"<h2>Daily Report - {date_str}</h2>\"))\n",
    "    # display(HTML(\"<h3>Top 10 Gainers</h3>\"))\n",
    "    # display(gainers_df.style.format({'Return (%)': '{:.2f}%'}))\n",
    "    \n",
    "    # display(HTML(\"<h3>Top 10 Losers</h3>\"))\n",
    "    # display(losers_df.style.format({'Return (%)': '{:.2f}%'}))\n",
    "    \n",
    "    # display(HTML(\"<h3>Top 10 Volume Leaders (USDT)</h3>\"))\n",
    "    # display(volume_df.style.format({'Volume (USDT)': '${:,.0f}'}))\n",
    "\n",
    "# Generate weekly summary\n",
    "weekly_gainers = []\n",
    "weekly_losers = []\n",
    "weekly_volume = []\n",
    "\n",
    "for symbol in returns_data:\n",
    "    weekly_return = sum(returns_data[symbol])\n",
    "    weekly_volume_sum = sum(volume_data.get(symbol, [0]))\n",
    "    weekly_gainers.append((symbol, weekly_return))\n",
    "    weekly_losers.append((symbol, weekly_return))\n",
    "    weekly_volume.append((symbol, weekly_volume_sum))\n",
    "\n",
    "# Get top weekly performers\n",
    "top_weekly_gainers = sorted(weekly_gainers, key=lambda x: x[1], reverse=True)[:10]\n",
    "top_weekly_losers = sorted(weekly_losers, key=lambda x: x[1])[:10]\n",
    "top_weekly_volume = sorted(weekly_volume, key=lambda x: x[1], reverse=True)[:50]\n",
    "\n",
    "# Create DataFrames for weekly summary\n",
    "weekly_gainers_df = pd.DataFrame(top_weekly_gainers, columns=['Symbol', 'Weekly Return (%)'])\n",
    "weekly_losers_df = pd.DataFrame(top_weekly_losers, columns=['Symbol', 'Weekly Return (%)'])\n",
    "weekly_volume_df = pd.DataFrame(top_weekly_volume, columns=['Symbol', 'Weekly Volume (USDT)'])\n",
    "\n",
    "# # Display weekly summary\n",
    "# display(HTML(\"<h2>Weekly Summary</h2>\"))\n",
    "# display(HTML(\"<h3>Top 10 Weekly Gainers</h3>\"))\n",
    "# display(weekly_gainers_df.style.format({'Weekly Return (%)': '{:.2f}%'}))\n",
    "\n",
    "# display(HTML(\"<h3>Top 10 Weekly Losers</h3>\"))\n",
    "# display(weekly_losers_df.style.format({'Weekly Return (%)': '{:.2f}%'}))\n",
    "\n",
    "# display(HTML(\"<h3>Top 10 Weekly Volume Leaders (USDT)</h3>\"))\n",
    "# display(weekly_volume_df.style.format({'Weekly Volume (USDT)': '${:,.0f}'}))"
   ]
  },
  {
   "cell_type": "code",
   "execution_count": 10,
   "id": "693937e9",
   "metadata": {},
   "outputs": [
    {
     "data": {
      "application/vnd.plotly.v1+json": {
       "config": {
        "plotlyServerURL": "https://plot.ly"
       },
       "data": [
        {
         "marker": {
          "color": "green"
         },
         "name": "Gainers",
         "type": "bar",
         "x": [
          "BANANAS31USDT",
          "HIFIUSDT",
          "PENGUUSDT",
          "FISUSDT",
          "SEIUSDT",
          "1000000BOBUSDT",
          "SHELLUSDT",
          "LPTUSDT",
          "TUTUSDT",
          "BANKUSDT"
         ],
         "xaxis": "x",
         "y": [
          35.841395683991,
          24.13811388639906,
          15.761532606967593,
          13.822940943871986,
          12.233174711886655,
          11.227571396262169,
          10.173504463037744,
          8.97517235061405,
          8.446406847976027,
          8.403818853480669
         ],
         "yaxis": "y"
        },
        {
         "marker": {
          "color": "red"
         },
         "name": "Losers",
         "type": "bar",
         "x": [
          "BSWUSDT",
          "JELLYJELLYUSDT",
          "ACXUSDT",
          "LAUSDT",
          "NEIROETHUSDT",
          "SQDUSDT",
          "MYXUSDT",
          "PORTALUSDT",
          "ZKUSDT",
          "GRASSUSDT"
         ],
         "xaxis": "x2",
         "y": [
          -15.811108104335517,
          -12.744184869868,
          -8.08377557022407,
          -7.878087785311434,
          -5.192566505855281,
          -4.955117288857636,
          -4.902324031382456,
          -4.139442778608047,
          -3.862855401934003,
          -3.8387517801089266
         ],
         "yaxis": "y2"
        }
       ],
       "layout": {
        "annotations": [
         {
          "font": {
           "size": 16
          },
          "showarrow": false,
          "text": "Top Gainers - 2025-06-27",
          "x": 0.225,
          "xanchor": "center",
          "xref": "paper",
          "y": 1,
          "yanchor": "bottom",
          "yref": "paper"
         },
         {
          "font": {
           "size": 16
          },
          "showarrow": false,
          "text": "Top Losers - 2025-06-27",
          "x": 0.775,
          "xanchor": "center",
          "xref": "paper",
          "y": 1,
          "yanchor": "bottom",
          "yref": "paper"
         }
        ],
        "height": 500,
        "showlegend": false,
        "template": {
         "data": {
          "bar": [
           {
            "error_x": {
             "color": "#f2f5fa"
            },
            "error_y": {
             "color": "#f2f5fa"
            },
            "marker": {
             "line": {
              "color": "rgb(17,17,17)",
              "width": 0.5
             },
             "pattern": {
              "fillmode": "overlay",
              "size": 10,
              "solidity": 0.2
             }
            },
            "type": "bar"
           }
          ],
          "barpolar": [
           {
            "marker": {
             "line": {
              "color": "rgb(17,17,17)",
              "width": 0.5
             },
             "pattern": {
              "fillmode": "overlay",
              "size": 10,
              "solidity": 0.2
             }
            },
            "type": "barpolar"
           }
          ],
          "carpet": [
           {
            "aaxis": {
             "endlinecolor": "#A2B1C6",
             "gridcolor": "#506784",
             "linecolor": "#506784",
             "minorgridcolor": "#506784",
             "startlinecolor": "#A2B1C6"
            },
            "baxis": {
             "endlinecolor": "#A2B1C6",
             "gridcolor": "#506784",
             "linecolor": "#506784",
             "minorgridcolor": "#506784",
             "startlinecolor": "#A2B1C6"
            },
            "type": "carpet"
           }
          ],
          "choropleth": [
           {
            "colorbar": {
             "outlinewidth": 0,
             "ticks": ""
            },
            "type": "choropleth"
           }
          ],
          "contour": [
           {
            "colorbar": {
             "outlinewidth": 0,
             "ticks": ""
            },
            "colorscale": [
             [
              0,
              "#0d0887"
             ],
             [
              0.1111111111111111,
              "#46039f"
             ],
             [
              0.2222222222222222,
              "#7201a8"
             ],
             [
              0.3333333333333333,
              "#9c179e"
             ],
             [
              0.4444444444444444,
              "#bd3786"
             ],
             [
              0.5555555555555556,
              "#d8576b"
             ],
             [
              0.6666666666666666,
              "#ed7953"
             ],
             [
              0.7777777777777778,
              "#fb9f3a"
             ],
             [
              0.8888888888888888,
              "#fdca26"
             ],
             [
              1,
              "#f0f921"
             ]
            ],
            "type": "contour"
           }
          ],
          "contourcarpet": [
           {
            "colorbar": {
             "outlinewidth": 0,
             "ticks": ""
            },
            "type": "contourcarpet"
           }
          ],
          "heatmap": [
           {
            "colorbar": {
             "outlinewidth": 0,
             "ticks": ""
            },
            "colorscale": [
             [
              0,
              "#0d0887"
             ],
             [
              0.1111111111111111,
              "#46039f"
             ],
             [
              0.2222222222222222,
              "#7201a8"
             ],
             [
              0.3333333333333333,
              "#9c179e"
             ],
             [
              0.4444444444444444,
              "#bd3786"
             ],
             [
              0.5555555555555556,
              "#d8576b"
             ],
             [
              0.6666666666666666,
              "#ed7953"
             ],
             [
              0.7777777777777778,
              "#fb9f3a"
             ],
             [
              0.8888888888888888,
              "#fdca26"
             ],
             [
              1,
              "#f0f921"
             ]
            ],
            "type": "heatmap"
           }
          ],
          "heatmapgl": [
           {
            "colorbar": {
             "outlinewidth": 0,
             "ticks": ""
            },
            "colorscale": [
             [
              0,
              "#0d0887"
             ],
             [
              0.1111111111111111,
              "#46039f"
             ],
             [
              0.2222222222222222,
              "#7201a8"
             ],
             [
              0.3333333333333333,
              "#9c179e"
             ],
             [
              0.4444444444444444,
              "#bd3786"
             ],
             [
              0.5555555555555556,
              "#d8576b"
             ],
             [
              0.6666666666666666,
              "#ed7953"
             ],
             [
              0.7777777777777778,
              "#fb9f3a"
             ],
             [
              0.8888888888888888,
              "#fdca26"
             ],
             [
              1,
              "#f0f921"
             ]
            ],
            "type": "heatmapgl"
           }
          ],
          "histogram": [
           {
            "marker": {
             "pattern": {
              "fillmode": "overlay",
              "size": 10,
              "solidity": 0.2
             }
            },
            "type": "histogram"
           }
          ],
          "histogram2d": [
           {
            "colorbar": {
             "outlinewidth": 0,
             "ticks": ""
            },
            "colorscale": [
             [
              0,
              "#0d0887"
             ],
             [
              0.1111111111111111,
              "#46039f"
             ],
             [
              0.2222222222222222,
              "#7201a8"
             ],
             [
              0.3333333333333333,
              "#9c179e"
             ],
             [
              0.4444444444444444,
              "#bd3786"
             ],
             [
              0.5555555555555556,
              "#d8576b"
             ],
             [
              0.6666666666666666,
              "#ed7953"
             ],
             [
              0.7777777777777778,
              "#fb9f3a"
             ],
             [
              0.8888888888888888,
              "#fdca26"
             ],
             [
              1,
              "#f0f921"
             ]
            ],
            "type": "histogram2d"
           }
          ],
          "histogram2dcontour": [
           {
            "colorbar": {
             "outlinewidth": 0,
             "ticks": ""
            },
            "colorscale": [
             [
              0,
              "#0d0887"
             ],
             [
              0.1111111111111111,
              "#46039f"
             ],
             [
              0.2222222222222222,
              "#7201a8"
             ],
             [
              0.3333333333333333,
              "#9c179e"
             ],
             [
              0.4444444444444444,
              "#bd3786"
             ],
             [
              0.5555555555555556,
              "#d8576b"
             ],
             [
              0.6666666666666666,
              "#ed7953"
             ],
             [
              0.7777777777777778,
              "#fb9f3a"
             ],
             [
              0.8888888888888888,
              "#fdca26"
             ],
             [
              1,
              "#f0f921"
             ]
            ],
            "type": "histogram2dcontour"
           }
          ],
          "mesh3d": [
           {
            "colorbar": {
             "outlinewidth": 0,
             "ticks": ""
            },
            "type": "mesh3d"
           }
          ],
          "parcoords": [
           {
            "line": {
             "colorbar": {
              "outlinewidth": 0,
              "ticks": ""
             }
            },
            "type": "parcoords"
           }
          ],
          "pie": [
           {
            "automargin": true,
            "type": "pie"
           }
          ],
          "scatter": [
           {
            "marker": {
             "line": {
              "color": "#283442"
             }
            },
            "type": "scatter"
           }
          ],
          "scatter3d": [
           {
            "line": {
             "colorbar": {
              "outlinewidth": 0,
              "ticks": ""
             }
            },
            "marker": {
             "colorbar": {
              "outlinewidth": 0,
              "ticks": ""
             }
            },
            "type": "scatter3d"
           }
          ],
          "scattercarpet": [
           {
            "marker": {
             "colorbar": {
              "outlinewidth": 0,
              "ticks": ""
             }
            },
            "type": "scattercarpet"
           }
          ],
          "scattergeo": [
           {
            "marker": {
             "colorbar": {
              "outlinewidth": 0,
              "ticks": ""
             }
            },
            "type": "scattergeo"
           }
          ],
          "scattergl": [
           {
            "marker": {
             "line": {
              "color": "#283442"
             }
            },
            "type": "scattergl"
           }
          ],
          "scattermapbox": [
           {
            "marker": {
             "colorbar": {
              "outlinewidth": 0,
              "ticks": ""
             }
            },
            "type": "scattermapbox"
           }
          ],
          "scatterpolar": [
           {
            "marker": {
             "colorbar": {
              "outlinewidth": 0,
              "ticks": ""
             }
            },
            "type": "scatterpolar"
           }
          ],
          "scatterpolargl": [
           {
            "marker": {
             "colorbar": {
              "outlinewidth": 0,
              "ticks": ""
             }
            },
            "type": "scatterpolargl"
           }
          ],
          "scatterternary": [
           {
            "marker": {
             "colorbar": {
              "outlinewidth": 0,
              "ticks": ""
             }
            },
            "type": "scatterternary"
           }
          ],
          "surface": [
           {
            "colorbar": {
             "outlinewidth": 0,
             "ticks": ""
            },
            "colorscale": [
             [
              0,
              "#0d0887"
             ],
             [
              0.1111111111111111,
              "#46039f"
             ],
             [
              0.2222222222222222,
              "#7201a8"
             ],
             [
              0.3333333333333333,
              "#9c179e"
             ],
             [
              0.4444444444444444,
              "#bd3786"
             ],
             [
              0.5555555555555556,
              "#d8576b"
             ],
             [
              0.6666666666666666,
              "#ed7953"
             ],
             [
              0.7777777777777778,
              "#fb9f3a"
             ],
             [
              0.8888888888888888,
              "#fdca26"
             ],
             [
              1,
              "#f0f921"
             ]
            ],
            "type": "surface"
           }
          ],
          "table": [
           {
            "cells": {
             "fill": {
              "color": "#506784"
             },
             "line": {
              "color": "rgb(17,17,17)"
             }
            },
            "header": {
             "fill": {
              "color": "#2a3f5f"
             },
             "line": {
              "color": "rgb(17,17,17)"
             }
            },
            "type": "table"
           }
          ]
         },
         "layout": {
          "annotationdefaults": {
           "arrowcolor": "#f2f5fa",
           "arrowhead": 0,
           "arrowwidth": 1
          },
          "autotypenumbers": "strict",
          "coloraxis": {
           "colorbar": {
            "outlinewidth": 0,
            "ticks": ""
           }
          },
          "colorscale": {
           "diverging": [
            [
             0,
             "#8e0152"
            ],
            [
             0.1,
             "#c51b7d"
            ],
            [
             0.2,
             "#de77ae"
            ],
            [
             0.3,
             "#f1b6da"
            ],
            [
             0.4,
             "#fde0ef"
            ],
            [
             0.5,
             "#f7f7f7"
            ],
            [
             0.6,
             "#e6f5d0"
            ],
            [
             0.7,
             "#b8e186"
            ],
            [
             0.8,
             "#7fbc41"
            ],
            [
             0.9,
             "#4d9221"
            ],
            [
             1,
             "#276419"
            ]
           ],
           "sequential": [
            [
             0,
             "#0d0887"
            ],
            [
             0.1111111111111111,
             "#46039f"
            ],
            [
             0.2222222222222222,
             "#7201a8"
            ],
            [
             0.3333333333333333,
             "#9c179e"
            ],
            [
             0.4444444444444444,
             "#bd3786"
            ],
            [
             0.5555555555555556,
             "#d8576b"
            ],
            [
             0.6666666666666666,
             "#ed7953"
            ],
            [
             0.7777777777777778,
             "#fb9f3a"
            ],
            [
             0.8888888888888888,
             "#fdca26"
            ],
            [
             1,
             "#f0f921"
            ]
           ],
           "sequentialminus": [
            [
             0,
             "#0d0887"
            ],
            [
             0.1111111111111111,
             "#46039f"
            ],
            [
             0.2222222222222222,
             "#7201a8"
            ],
            [
             0.3333333333333333,
             "#9c179e"
            ],
            [
             0.4444444444444444,
             "#bd3786"
            ],
            [
             0.5555555555555556,
             "#d8576b"
            ],
            [
             0.6666666666666666,
             "#ed7953"
            ],
            [
             0.7777777777777778,
             "#fb9f3a"
            ],
            [
             0.8888888888888888,
             "#fdca26"
            ],
            [
             1,
             "#f0f921"
            ]
           ]
          },
          "colorway": [
           "#636efa",
           "#EF553B",
           "#00cc96",
           "#ab63fa",
           "#FFA15A",
           "#19d3f3",
           "#FF6692",
           "#B6E880",
           "#FF97FF",
           "#FECB52"
          ],
          "font": {
           "color": "#f2f5fa"
          },
          "geo": {
           "bgcolor": "rgb(17,17,17)",
           "lakecolor": "rgb(17,17,17)",
           "landcolor": "rgb(17,17,17)",
           "showlakes": true,
           "showland": true,
           "subunitcolor": "#506784"
          },
          "hoverlabel": {
           "align": "left"
          },
          "hovermode": "closest",
          "mapbox": {
           "style": "dark"
          },
          "paper_bgcolor": "rgb(17,17,17)",
          "plot_bgcolor": "rgb(17,17,17)",
          "polar": {
           "angularaxis": {
            "gridcolor": "#506784",
            "linecolor": "#506784",
            "ticks": ""
           },
           "bgcolor": "rgb(17,17,17)",
           "radialaxis": {
            "gridcolor": "#506784",
            "linecolor": "#506784",
            "ticks": ""
           }
          },
          "scene": {
           "xaxis": {
            "backgroundcolor": "rgb(17,17,17)",
            "gridcolor": "#506784",
            "gridwidth": 2,
            "linecolor": "#506784",
            "showbackground": true,
            "ticks": "",
            "zerolinecolor": "#C8D4E3"
           },
           "yaxis": {
            "backgroundcolor": "rgb(17,17,17)",
            "gridcolor": "#506784",
            "gridwidth": 2,
            "linecolor": "#506784",
            "showbackground": true,
            "ticks": "",
            "zerolinecolor": "#C8D4E3"
           },
           "zaxis": {
            "backgroundcolor": "rgb(17,17,17)",
            "gridcolor": "#506784",
            "gridwidth": 2,
            "linecolor": "#506784",
            "showbackground": true,
            "ticks": "",
            "zerolinecolor": "#C8D4E3"
           }
          },
          "shapedefaults": {
           "line": {
            "color": "#f2f5fa"
           }
          },
          "sliderdefaults": {
           "bgcolor": "#C8D4E3",
           "bordercolor": "rgb(17,17,17)",
           "borderwidth": 1,
           "tickwidth": 0
          },
          "ternary": {
           "aaxis": {
            "gridcolor": "#506784",
            "linecolor": "#506784",
            "ticks": ""
           },
           "baxis": {
            "gridcolor": "#506784",
            "linecolor": "#506784",
            "ticks": ""
           },
           "bgcolor": "rgb(17,17,17)",
           "caxis": {
            "gridcolor": "#506784",
            "linecolor": "#506784",
            "ticks": ""
           }
          },
          "title": {
           "x": 0.05
          },
          "updatemenudefaults": {
           "bgcolor": "#506784",
           "borderwidth": 0
          },
          "xaxis": {
           "automargin": true,
           "gridcolor": "#283442",
           "linecolor": "#506784",
           "ticks": "",
           "title": {
            "standoff": 15
           },
           "zerolinecolor": "#283442",
           "zerolinewidth": 2
          },
          "yaxis": {
           "automargin": true,
           "gridcolor": "#283442",
           "linecolor": "#506784",
           "ticks": "",
           "title": {
            "standoff": 15
           },
           "zerolinecolor": "#283442",
           "zerolinewidth": 2
          }
         }
        },
        "xaxis": {
         "anchor": "y",
         "domain": [
          0,
          0.45
         ]
        },
        "xaxis2": {
         "anchor": "y2",
         "domain": [
          0.55,
          1
         ]
        },
        "yaxis": {
         "anchor": "x",
         "domain": [
          0,
          1
         ],
         "title": {
          "text": "Return %"
         }
        },
        "yaxis2": {
         "anchor": "x2",
         "domain": [
          0,
          1
         ],
         "title": {
          "text": "Return %"
         }
        }
       }
      }
     },
     "metadata": {},
     "output_type": "display_data"
    },
    {
     "data": {
      "application/vnd.plotly.v1+json": {
       "config": {
        "plotlyServerURL": "https://plot.ly"
       },
       "data": [
        {
         "marker": {
          "color": "green"
         },
         "name": "Gainers",
         "type": "bar",
         "x": [
          "PENGUUSDT",
          "1000CATUSDT",
          "BROCCOLI714USDT",
          "WUSDT",
          "MYXUSDT",
          "JTOUSDT",
          "BIDUSDT",
          "B2USDT",
          "CTKUSDT",
          "POPCATUSDT"
         ],
         "xaxis": "x",
         "y": [
          25.721135258550593,
          18.856847711825107,
          17.239815556022776,
          16.098322405134656,
          15.32398427843058,
          15.29888054527878,
          14.570188608045889,
          13.619386545473697,
          11.649121271481633,
          11.070401188423194
         ],
         "yaxis": "y"
        },
        {
         "marker": {
          "color": "red"
         },
         "name": "Losers",
         "type": "bar",
         "x": [
          "LQTYUSDT",
          "LEVERUSDT",
          "MILKUSDT",
          "BUSDT",
          "ALPHAUSDT",
          "FISUSDT",
          "HEIUSDT",
          "CHESSUSDT",
          "SOONUSDT",
          "KAIAUSDT"
         ],
         "xaxis": "x2",
         "y": [
          -13.188321252050144,
          -12.601289274347721,
          -11.582895589438587,
          -8.246251475496967,
          -5.260821896885952,
          -5.247672647833074,
          -4.755939478329934,
          -4.722434912075255,
          -4.610738453270018,
          -4.030482203170689
         ],
         "yaxis": "y2"
        }
       ],
       "layout": {
        "annotations": [
         {
          "font": {
           "size": 16
          },
          "showarrow": false,
          "text": "Top Gainers - 2025-06-28",
          "x": 0.225,
          "xanchor": "center",
          "xref": "paper",
          "y": 1,
          "yanchor": "bottom",
          "yref": "paper"
         },
         {
          "font": {
           "size": 16
          },
          "showarrow": false,
          "text": "Top Losers - 2025-06-28",
          "x": 0.775,
          "xanchor": "center",
          "xref": "paper",
          "y": 1,
          "yanchor": "bottom",
          "yref": "paper"
         }
        ],
        "height": 500,
        "showlegend": false,
        "template": {
         "data": {
          "bar": [
           {
            "error_x": {
             "color": "#f2f5fa"
            },
            "error_y": {
             "color": "#f2f5fa"
            },
            "marker": {
             "line": {
              "color": "rgb(17,17,17)",
              "width": 0.5
             },
             "pattern": {
              "fillmode": "overlay",
              "size": 10,
              "solidity": 0.2
             }
            },
            "type": "bar"
           }
          ],
          "barpolar": [
           {
            "marker": {
             "line": {
              "color": "rgb(17,17,17)",
              "width": 0.5
             },
             "pattern": {
              "fillmode": "overlay",
              "size": 10,
              "solidity": 0.2
             }
            },
            "type": "barpolar"
           }
          ],
          "carpet": [
           {
            "aaxis": {
             "endlinecolor": "#A2B1C6",
             "gridcolor": "#506784",
             "linecolor": "#506784",
             "minorgridcolor": "#506784",
             "startlinecolor": "#A2B1C6"
            },
            "baxis": {
             "endlinecolor": "#A2B1C6",
             "gridcolor": "#506784",
             "linecolor": "#506784",
             "minorgridcolor": "#506784",
             "startlinecolor": "#A2B1C6"
            },
            "type": "carpet"
           }
          ],
          "choropleth": [
           {
            "colorbar": {
             "outlinewidth": 0,
             "ticks": ""
            },
            "type": "choropleth"
           }
          ],
          "contour": [
           {
            "colorbar": {
             "outlinewidth": 0,
             "ticks": ""
            },
            "colorscale": [
             [
              0,
              "#0d0887"
             ],
             [
              0.1111111111111111,
              "#46039f"
             ],
             [
              0.2222222222222222,
              "#7201a8"
             ],
             [
              0.3333333333333333,
              "#9c179e"
             ],
             [
              0.4444444444444444,
              "#bd3786"
             ],
             [
              0.5555555555555556,
              "#d8576b"
             ],
             [
              0.6666666666666666,
              "#ed7953"
             ],
             [
              0.7777777777777778,
              "#fb9f3a"
             ],
             [
              0.8888888888888888,
              "#fdca26"
             ],
             [
              1,
              "#f0f921"
             ]
            ],
            "type": "contour"
           }
          ],
          "contourcarpet": [
           {
            "colorbar": {
             "outlinewidth": 0,
             "ticks": ""
            },
            "type": "contourcarpet"
           }
          ],
          "heatmap": [
           {
            "colorbar": {
             "outlinewidth": 0,
             "ticks": ""
            },
            "colorscale": [
             [
              0,
              "#0d0887"
             ],
             [
              0.1111111111111111,
              "#46039f"
             ],
             [
              0.2222222222222222,
              "#7201a8"
             ],
             [
              0.3333333333333333,
              "#9c179e"
             ],
             [
              0.4444444444444444,
              "#bd3786"
             ],
             [
              0.5555555555555556,
              "#d8576b"
             ],
             [
              0.6666666666666666,
              "#ed7953"
             ],
             [
              0.7777777777777778,
              "#fb9f3a"
             ],
             [
              0.8888888888888888,
              "#fdca26"
             ],
             [
              1,
              "#f0f921"
             ]
            ],
            "type": "heatmap"
           }
          ],
          "heatmapgl": [
           {
            "colorbar": {
             "outlinewidth": 0,
             "ticks": ""
            },
            "colorscale": [
             [
              0,
              "#0d0887"
             ],
             [
              0.1111111111111111,
              "#46039f"
             ],
             [
              0.2222222222222222,
              "#7201a8"
             ],
             [
              0.3333333333333333,
              "#9c179e"
             ],
             [
              0.4444444444444444,
              "#bd3786"
             ],
             [
              0.5555555555555556,
              "#d8576b"
             ],
             [
              0.6666666666666666,
              "#ed7953"
             ],
             [
              0.7777777777777778,
              "#fb9f3a"
             ],
             [
              0.8888888888888888,
              "#fdca26"
             ],
             [
              1,
              "#f0f921"
             ]
            ],
            "type": "heatmapgl"
           }
          ],
          "histogram": [
           {
            "marker": {
             "pattern": {
              "fillmode": "overlay",
              "size": 10,
              "solidity": 0.2
             }
            },
            "type": "histogram"
           }
          ],
          "histogram2d": [
           {
            "colorbar": {
             "outlinewidth": 0,
             "ticks": ""
            },
            "colorscale": [
             [
              0,
              "#0d0887"
             ],
             [
              0.1111111111111111,
              "#46039f"
             ],
             [
              0.2222222222222222,
              "#7201a8"
             ],
             [
              0.3333333333333333,
              "#9c179e"
             ],
             [
              0.4444444444444444,
              "#bd3786"
             ],
             [
              0.5555555555555556,
              "#d8576b"
             ],
             [
              0.6666666666666666,
              "#ed7953"
             ],
             [
              0.7777777777777778,
              "#fb9f3a"
             ],
             [
              0.8888888888888888,
              "#fdca26"
             ],
             [
              1,
              "#f0f921"
             ]
            ],
            "type": "histogram2d"
           }
          ],
          "histogram2dcontour": [
           {
            "colorbar": {
             "outlinewidth": 0,
             "ticks": ""
            },
            "colorscale": [
             [
              0,
              "#0d0887"
             ],
             [
              0.1111111111111111,
              "#46039f"
             ],
             [
              0.2222222222222222,
              "#7201a8"
             ],
             [
              0.3333333333333333,
              "#9c179e"
             ],
             [
              0.4444444444444444,
              "#bd3786"
             ],
             [
              0.5555555555555556,
              "#d8576b"
             ],
             [
              0.6666666666666666,
              "#ed7953"
             ],
             [
              0.7777777777777778,
              "#fb9f3a"
             ],
             [
              0.8888888888888888,
              "#fdca26"
             ],
             [
              1,
              "#f0f921"
             ]
            ],
            "type": "histogram2dcontour"
           }
          ],
          "mesh3d": [
           {
            "colorbar": {
             "outlinewidth": 0,
             "ticks": ""
            },
            "type": "mesh3d"
           }
          ],
          "parcoords": [
           {
            "line": {
             "colorbar": {
              "outlinewidth": 0,
              "ticks": ""
             }
            },
            "type": "parcoords"
           }
          ],
          "pie": [
           {
            "automargin": true,
            "type": "pie"
           }
          ],
          "scatter": [
           {
            "marker": {
             "line": {
              "color": "#283442"
             }
            },
            "type": "scatter"
           }
          ],
          "scatter3d": [
           {
            "line": {
             "colorbar": {
              "outlinewidth": 0,
              "ticks": ""
             }
            },
            "marker": {
             "colorbar": {
              "outlinewidth": 0,
              "ticks": ""
             }
            },
            "type": "scatter3d"
           }
          ],
          "scattercarpet": [
           {
            "marker": {
             "colorbar": {
              "outlinewidth": 0,
              "ticks": ""
             }
            },
            "type": "scattercarpet"
           }
          ],
          "scattergeo": [
           {
            "marker": {
             "colorbar": {
              "outlinewidth": 0,
              "ticks": ""
             }
            },
            "type": "scattergeo"
           }
          ],
          "scattergl": [
           {
            "marker": {
             "line": {
              "color": "#283442"
             }
            },
            "type": "scattergl"
           }
          ],
          "scattermapbox": [
           {
            "marker": {
             "colorbar": {
              "outlinewidth": 0,
              "ticks": ""
             }
            },
            "type": "scattermapbox"
           }
          ],
          "scatterpolar": [
           {
            "marker": {
             "colorbar": {
              "outlinewidth": 0,
              "ticks": ""
             }
            },
            "type": "scatterpolar"
           }
          ],
          "scatterpolargl": [
           {
            "marker": {
             "colorbar": {
              "outlinewidth": 0,
              "ticks": ""
             }
            },
            "type": "scatterpolargl"
           }
          ],
          "scatterternary": [
           {
            "marker": {
             "colorbar": {
              "outlinewidth": 0,
              "ticks": ""
             }
            },
            "type": "scatterternary"
           }
          ],
          "surface": [
           {
            "colorbar": {
             "outlinewidth": 0,
             "ticks": ""
            },
            "colorscale": [
             [
              0,
              "#0d0887"
             ],
             [
              0.1111111111111111,
              "#46039f"
             ],
             [
              0.2222222222222222,
              "#7201a8"
             ],
             [
              0.3333333333333333,
              "#9c179e"
             ],
             [
              0.4444444444444444,
              "#bd3786"
             ],
             [
              0.5555555555555556,
              "#d8576b"
             ],
             [
              0.6666666666666666,
              "#ed7953"
             ],
             [
              0.7777777777777778,
              "#fb9f3a"
             ],
             [
              0.8888888888888888,
              "#fdca26"
             ],
             [
              1,
              "#f0f921"
             ]
            ],
            "type": "surface"
           }
          ],
          "table": [
           {
            "cells": {
             "fill": {
              "color": "#506784"
             },
             "line": {
              "color": "rgb(17,17,17)"
             }
            },
            "header": {
             "fill": {
              "color": "#2a3f5f"
             },
             "line": {
              "color": "rgb(17,17,17)"
             }
            },
            "type": "table"
           }
          ]
         },
         "layout": {
          "annotationdefaults": {
           "arrowcolor": "#f2f5fa",
           "arrowhead": 0,
           "arrowwidth": 1
          },
          "autotypenumbers": "strict",
          "coloraxis": {
           "colorbar": {
            "outlinewidth": 0,
            "ticks": ""
           }
          },
          "colorscale": {
           "diverging": [
            [
             0,
             "#8e0152"
            ],
            [
             0.1,
             "#c51b7d"
            ],
            [
             0.2,
             "#de77ae"
            ],
            [
             0.3,
             "#f1b6da"
            ],
            [
             0.4,
             "#fde0ef"
            ],
            [
             0.5,
             "#f7f7f7"
            ],
            [
             0.6,
             "#e6f5d0"
            ],
            [
             0.7,
             "#b8e186"
            ],
            [
             0.8,
             "#7fbc41"
            ],
            [
             0.9,
             "#4d9221"
            ],
            [
             1,
             "#276419"
            ]
           ],
           "sequential": [
            [
             0,
             "#0d0887"
            ],
            [
             0.1111111111111111,
             "#46039f"
            ],
            [
             0.2222222222222222,
             "#7201a8"
            ],
            [
             0.3333333333333333,
             "#9c179e"
            ],
            [
             0.4444444444444444,
             "#bd3786"
            ],
            [
             0.5555555555555556,
             "#d8576b"
            ],
            [
             0.6666666666666666,
             "#ed7953"
            ],
            [
             0.7777777777777778,
             "#fb9f3a"
            ],
            [
             0.8888888888888888,
             "#fdca26"
            ],
            [
             1,
             "#f0f921"
            ]
           ],
           "sequentialminus": [
            [
             0,
             "#0d0887"
            ],
            [
             0.1111111111111111,
             "#46039f"
            ],
            [
             0.2222222222222222,
             "#7201a8"
            ],
            [
             0.3333333333333333,
             "#9c179e"
            ],
            [
             0.4444444444444444,
             "#bd3786"
            ],
            [
             0.5555555555555556,
             "#d8576b"
            ],
            [
             0.6666666666666666,
             "#ed7953"
            ],
            [
             0.7777777777777778,
             "#fb9f3a"
            ],
            [
             0.8888888888888888,
             "#fdca26"
            ],
            [
             1,
             "#f0f921"
            ]
           ]
          },
          "colorway": [
           "#636efa",
           "#EF553B",
           "#00cc96",
           "#ab63fa",
           "#FFA15A",
           "#19d3f3",
           "#FF6692",
           "#B6E880",
           "#FF97FF",
           "#FECB52"
          ],
          "font": {
           "color": "#f2f5fa"
          },
          "geo": {
           "bgcolor": "rgb(17,17,17)",
           "lakecolor": "rgb(17,17,17)",
           "landcolor": "rgb(17,17,17)",
           "showlakes": true,
           "showland": true,
           "subunitcolor": "#506784"
          },
          "hoverlabel": {
           "align": "left"
          },
          "hovermode": "closest",
          "mapbox": {
           "style": "dark"
          },
          "paper_bgcolor": "rgb(17,17,17)",
          "plot_bgcolor": "rgb(17,17,17)",
          "polar": {
           "angularaxis": {
            "gridcolor": "#506784",
            "linecolor": "#506784",
            "ticks": ""
           },
           "bgcolor": "rgb(17,17,17)",
           "radialaxis": {
            "gridcolor": "#506784",
            "linecolor": "#506784",
            "ticks": ""
           }
          },
          "scene": {
           "xaxis": {
            "backgroundcolor": "rgb(17,17,17)",
            "gridcolor": "#506784",
            "gridwidth": 2,
            "linecolor": "#506784",
            "showbackground": true,
            "ticks": "",
            "zerolinecolor": "#C8D4E3"
           },
           "yaxis": {
            "backgroundcolor": "rgb(17,17,17)",
            "gridcolor": "#506784",
            "gridwidth": 2,
            "linecolor": "#506784",
            "showbackground": true,
            "ticks": "",
            "zerolinecolor": "#C8D4E3"
           },
           "zaxis": {
            "backgroundcolor": "rgb(17,17,17)",
            "gridcolor": "#506784",
            "gridwidth": 2,
            "linecolor": "#506784",
            "showbackground": true,
            "ticks": "",
            "zerolinecolor": "#C8D4E3"
           }
          },
          "shapedefaults": {
           "line": {
            "color": "#f2f5fa"
           }
          },
          "sliderdefaults": {
           "bgcolor": "#C8D4E3",
           "bordercolor": "rgb(17,17,17)",
           "borderwidth": 1,
           "tickwidth": 0
          },
          "ternary": {
           "aaxis": {
            "gridcolor": "#506784",
            "linecolor": "#506784",
            "ticks": ""
           },
           "baxis": {
            "gridcolor": "#506784",
            "linecolor": "#506784",
            "ticks": ""
           },
           "bgcolor": "rgb(17,17,17)",
           "caxis": {
            "gridcolor": "#506784",
            "linecolor": "#506784",
            "ticks": ""
           }
          },
          "title": {
           "x": 0.05
          },
          "updatemenudefaults": {
           "bgcolor": "#506784",
           "borderwidth": 0
          },
          "xaxis": {
           "automargin": true,
           "gridcolor": "#283442",
           "linecolor": "#506784",
           "ticks": "",
           "title": {
            "standoff": 15
           },
           "zerolinecolor": "#283442",
           "zerolinewidth": 2
          },
          "yaxis": {
           "automargin": true,
           "gridcolor": "#283442",
           "linecolor": "#506784",
           "ticks": "",
           "title": {
            "standoff": 15
           },
           "zerolinecolor": "#283442",
           "zerolinewidth": 2
          }
         }
        },
        "xaxis": {
         "anchor": "y",
         "domain": [
          0,
          0.45
         ]
        },
        "xaxis2": {
         "anchor": "y2",
         "domain": [
          0.55,
          1
         ]
        },
        "yaxis": {
         "anchor": "x",
         "domain": [
          0,
          1
         ],
         "title": {
          "text": "Return %"
         }
        },
        "yaxis2": {
         "anchor": "x2",
         "domain": [
          0,
          1
         ],
         "title": {
          "text": "Return %"
         }
        }
       }
      }
     },
     "metadata": {},
     "output_type": "display_data"
    },
    {
     "data": {
      "application/vnd.plotly.v1+json": {
       "config": {
        "plotlyServerURL": "https://plot.ly"
       },
       "data": [
        {
         "marker": {
          "color": "green"
         },
         "name": "Gainers",
         "type": "bar",
         "x": [
          "CTKUSDT",
          "HFTUSDT",
          "SQDUSDT",
          "ARBUSDT",
          "PARTIUSDT",
          "LPTUSDT",
          "BIDUSDT",
          "DRIFTUSDT",
          "BDXNUSDT",
          "LEVERUSDT"
         ],
         "xaxis": "x",
         "y": [
          24.02999134752716,
          14.653935004750993,
          11.342677037554395,
          11.010807060696107,
          10.84128473687989,
          10.585175384199276,
          10.473844065603,
          8.62836839583527,
          8.611491794259278,
          8.542393508293966
         ],
         "yaxis": "y"
        },
        {
         "marker": {
          "color": "red"
         },
         "name": "Losers",
         "type": "bar",
         "x": [
          "DEXEUSDT",
          "SOONUSDT",
          "SYRUPUSDT",
          "FLMUSDT",
          "OBOLUSDT",
          "ALPHAUSDT",
          "BSWUSDT",
          "WUSDT",
          "BMTUSDT",
          "GRIFFAINUSDT"
         ],
         "xaxis": "x2",
         "y": [
          -8.565911173961606,
          -7.379449809921191,
          -4.565807658427154,
          -4.000533461369937,
          -3.904399828226504,
          -3.667547855840657,
          -3.1108751714367786,
          -3.1087890783761,
          -3.074430075689615,
          -2.6564252385797142
         ],
         "yaxis": "y2"
        }
       ],
       "layout": {
        "annotations": [
         {
          "font": {
           "size": 16
          },
          "showarrow": false,
          "text": "Top Gainers - 2025-06-29",
          "x": 0.225,
          "xanchor": "center",
          "xref": "paper",
          "y": 1,
          "yanchor": "bottom",
          "yref": "paper"
         },
         {
          "font": {
           "size": 16
          },
          "showarrow": false,
          "text": "Top Losers - 2025-06-29",
          "x": 0.775,
          "xanchor": "center",
          "xref": "paper",
          "y": 1,
          "yanchor": "bottom",
          "yref": "paper"
         }
        ],
        "height": 500,
        "showlegend": false,
        "template": {
         "data": {
          "bar": [
           {
            "error_x": {
             "color": "#f2f5fa"
            },
            "error_y": {
             "color": "#f2f5fa"
            },
            "marker": {
             "line": {
              "color": "rgb(17,17,17)",
              "width": 0.5
             },
             "pattern": {
              "fillmode": "overlay",
              "size": 10,
              "solidity": 0.2
             }
            },
            "type": "bar"
           }
          ],
          "barpolar": [
           {
            "marker": {
             "line": {
              "color": "rgb(17,17,17)",
              "width": 0.5
             },
             "pattern": {
              "fillmode": "overlay",
              "size": 10,
              "solidity": 0.2
             }
            },
            "type": "barpolar"
           }
          ],
          "carpet": [
           {
            "aaxis": {
             "endlinecolor": "#A2B1C6",
             "gridcolor": "#506784",
             "linecolor": "#506784",
             "minorgridcolor": "#506784",
             "startlinecolor": "#A2B1C6"
            },
            "baxis": {
             "endlinecolor": "#A2B1C6",
             "gridcolor": "#506784",
             "linecolor": "#506784",
             "minorgridcolor": "#506784",
             "startlinecolor": "#A2B1C6"
            },
            "type": "carpet"
           }
          ],
          "choropleth": [
           {
            "colorbar": {
             "outlinewidth": 0,
             "ticks": ""
            },
            "type": "choropleth"
           }
          ],
          "contour": [
           {
            "colorbar": {
             "outlinewidth": 0,
             "ticks": ""
            },
            "colorscale": [
             [
              0,
              "#0d0887"
             ],
             [
              0.1111111111111111,
              "#46039f"
             ],
             [
              0.2222222222222222,
              "#7201a8"
             ],
             [
              0.3333333333333333,
              "#9c179e"
             ],
             [
              0.4444444444444444,
              "#bd3786"
             ],
             [
              0.5555555555555556,
              "#d8576b"
             ],
             [
              0.6666666666666666,
              "#ed7953"
             ],
             [
              0.7777777777777778,
              "#fb9f3a"
             ],
             [
              0.8888888888888888,
              "#fdca26"
             ],
             [
              1,
              "#f0f921"
             ]
            ],
            "type": "contour"
           }
          ],
          "contourcarpet": [
           {
            "colorbar": {
             "outlinewidth": 0,
             "ticks": ""
            },
            "type": "contourcarpet"
           }
          ],
          "heatmap": [
           {
            "colorbar": {
             "outlinewidth": 0,
             "ticks": ""
            },
            "colorscale": [
             [
              0,
              "#0d0887"
             ],
             [
              0.1111111111111111,
              "#46039f"
             ],
             [
              0.2222222222222222,
              "#7201a8"
             ],
             [
              0.3333333333333333,
              "#9c179e"
             ],
             [
              0.4444444444444444,
              "#bd3786"
             ],
             [
              0.5555555555555556,
              "#d8576b"
             ],
             [
              0.6666666666666666,
              "#ed7953"
             ],
             [
              0.7777777777777778,
              "#fb9f3a"
             ],
             [
              0.8888888888888888,
              "#fdca26"
             ],
             [
              1,
              "#f0f921"
             ]
            ],
            "type": "heatmap"
           }
          ],
          "heatmapgl": [
           {
            "colorbar": {
             "outlinewidth": 0,
             "ticks": ""
            },
            "colorscale": [
             [
              0,
              "#0d0887"
             ],
             [
              0.1111111111111111,
              "#46039f"
             ],
             [
              0.2222222222222222,
              "#7201a8"
             ],
             [
              0.3333333333333333,
              "#9c179e"
             ],
             [
              0.4444444444444444,
              "#bd3786"
             ],
             [
              0.5555555555555556,
              "#d8576b"
             ],
             [
              0.6666666666666666,
              "#ed7953"
             ],
             [
              0.7777777777777778,
              "#fb9f3a"
             ],
             [
              0.8888888888888888,
              "#fdca26"
             ],
             [
              1,
              "#f0f921"
             ]
            ],
            "type": "heatmapgl"
           }
          ],
          "histogram": [
           {
            "marker": {
             "pattern": {
              "fillmode": "overlay",
              "size": 10,
              "solidity": 0.2
             }
            },
            "type": "histogram"
           }
          ],
          "histogram2d": [
           {
            "colorbar": {
             "outlinewidth": 0,
             "ticks": ""
            },
            "colorscale": [
             [
              0,
              "#0d0887"
             ],
             [
              0.1111111111111111,
              "#46039f"
             ],
             [
              0.2222222222222222,
              "#7201a8"
             ],
             [
              0.3333333333333333,
              "#9c179e"
             ],
             [
              0.4444444444444444,
              "#bd3786"
             ],
             [
              0.5555555555555556,
              "#d8576b"
             ],
             [
              0.6666666666666666,
              "#ed7953"
             ],
             [
              0.7777777777777778,
              "#fb9f3a"
             ],
             [
              0.8888888888888888,
              "#fdca26"
             ],
             [
              1,
              "#f0f921"
             ]
            ],
            "type": "histogram2d"
           }
          ],
          "histogram2dcontour": [
           {
            "colorbar": {
             "outlinewidth": 0,
             "ticks": ""
            },
            "colorscale": [
             [
              0,
              "#0d0887"
             ],
             [
              0.1111111111111111,
              "#46039f"
             ],
             [
              0.2222222222222222,
              "#7201a8"
             ],
             [
              0.3333333333333333,
              "#9c179e"
             ],
             [
              0.4444444444444444,
              "#bd3786"
             ],
             [
              0.5555555555555556,
              "#d8576b"
             ],
             [
              0.6666666666666666,
              "#ed7953"
             ],
             [
              0.7777777777777778,
              "#fb9f3a"
             ],
             [
              0.8888888888888888,
              "#fdca26"
             ],
             [
              1,
              "#f0f921"
             ]
            ],
            "type": "histogram2dcontour"
           }
          ],
          "mesh3d": [
           {
            "colorbar": {
             "outlinewidth": 0,
             "ticks": ""
            },
            "type": "mesh3d"
           }
          ],
          "parcoords": [
           {
            "line": {
             "colorbar": {
              "outlinewidth": 0,
              "ticks": ""
             }
            },
            "type": "parcoords"
           }
          ],
          "pie": [
           {
            "automargin": true,
            "type": "pie"
           }
          ],
          "scatter": [
           {
            "marker": {
             "line": {
              "color": "#283442"
             }
            },
            "type": "scatter"
           }
          ],
          "scatter3d": [
           {
            "line": {
             "colorbar": {
              "outlinewidth": 0,
              "ticks": ""
             }
            },
            "marker": {
             "colorbar": {
              "outlinewidth": 0,
              "ticks": ""
             }
            },
            "type": "scatter3d"
           }
          ],
          "scattercarpet": [
           {
            "marker": {
             "colorbar": {
              "outlinewidth": 0,
              "ticks": ""
             }
            },
            "type": "scattercarpet"
           }
          ],
          "scattergeo": [
           {
            "marker": {
             "colorbar": {
              "outlinewidth": 0,
              "ticks": ""
             }
            },
            "type": "scattergeo"
           }
          ],
          "scattergl": [
           {
            "marker": {
             "line": {
              "color": "#283442"
             }
            },
            "type": "scattergl"
           }
          ],
          "scattermapbox": [
           {
            "marker": {
             "colorbar": {
              "outlinewidth": 0,
              "ticks": ""
             }
            },
            "type": "scattermapbox"
           }
          ],
          "scatterpolar": [
           {
            "marker": {
             "colorbar": {
              "outlinewidth": 0,
              "ticks": ""
             }
            },
            "type": "scatterpolar"
           }
          ],
          "scatterpolargl": [
           {
            "marker": {
             "colorbar": {
              "outlinewidth": 0,
              "ticks": ""
             }
            },
            "type": "scatterpolargl"
           }
          ],
          "scatterternary": [
           {
            "marker": {
             "colorbar": {
              "outlinewidth": 0,
              "ticks": ""
             }
            },
            "type": "scatterternary"
           }
          ],
          "surface": [
           {
            "colorbar": {
             "outlinewidth": 0,
             "ticks": ""
            },
            "colorscale": [
             [
              0,
              "#0d0887"
             ],
             [
              0.1111111111111111,
              "#46039f"
             ],
             [
              0.2222222222222222,
              "#7201a8"
             ],
             [
              0.3333333333333333,
              "#9c179e"
             ],
             [
              0.4444444444444444,
              "#bd3786"
             ],
             [
              0.5555555555555556,
              "#d8576b"
             ],
             [
              0.6666666666666666,
              "#ed7953"
             ],
             [
              0.7777777777777778,
              "#fb9f3a"
             ],
             [
              0.8888888888888888,
              "#fdca26"
             ],
             [
              1,
              "#f0f921"
             ]
            ],
            "type": "surface"
           }
          ],
          "table": [
           {
            "cells": {
             "fill": {
              "color": "#506784"
             },
             "line": {
              "color": "rgb(17,17,17)"
             }
            },
            "header": {
             "fill": {
              "color": "#2a3f5f"
             },
             "line": {
              "color": "rgb(17,17,17)"
             }
            },
            "type": "table"
           }
          ]
         },
         "layout": {
          "annotationdefaults": {
           "arrowcolor": "#f2f5fa",
           "arrowhead": 0,
           "arrowwidth": 1
          },
          "autotypenumbers": "strict",
          "coloraxis": {
           "colorbar": {
            "outlinewidth": 0,
            "ticks": ""
           }
          },
          "colorscale": {
           "diverging": [
            [
             0,
             "#8e0152"
            ],
            [
             0.1,
             "#c51b7d"
            ],
            [
             0.2,
             "#de77ae"
            ],
            [
             0.3,
             "#f1b6da"
            ],
            [
             0.4,
             "#fde0ef"
            ],
            [
             0.5,
             "#f7f7f7"
            ],
            [
             0.6,
             "#e6f5d0"
            ],
            [
             0.7,
             "#b8e186"
            ],
            [
             0.8,
             "#7fbc41"
            ],
            [
             0.9,
             "#4d9221"
            ],
            [
             1,
             "#276419"
            ]
           ],
           "sequential": [
            [
             0,
             "#0d0887"
            ],
            [
             0.1111111111111111,
             "#46039f"
            ],
            [
             0.2222222222222222,
             "#7201a8"
            ],
            [
             0.3333333333333333,
             "#9c179e"
            ],
            [
             0.4444444444444444,
             "#bd3786"
            ],
            [
             0.5555555555555556,
             "#d8576b"
            ],
            [
             0.6666666666666666,
             "#ed7953"
            ],
            [
             0.7777777777777778,
             "#fb9f3a"
            ],
            [
             0.8888888888888888,
             "#fdca26"
            ],
            [
             1,
             "#f0f921"
            ]
           ],
           "sequentialminus": [
            [
             0,
             "#0d0887"
            ],
            [
             0.1111111111111111,
             "#46039f"
            ],
            [
             0.2222222222222222,
             "#7201a8"
            ],
            [
             0.3333333333333333,
             "#9c179e"
            ],
            [
             0.4444444444444444,
             "#bd3786"
            ],
            [
             0.5555555555555556,
             "#d8576b"
            ],
            [
             0.6666666666666666,
             "#ed7953"
            ],
            [
             0.7777777777777778,
             "#fb9f3a"
            ],
            [
             0.8888888888888888,
             "#fdca26"
            ],
            [
             1,
             "#f0f921"
            ]
           ]
          },
          "colorway": [
           "#636efa",
           "#EF553B",
           "#00cc96",
           "#ab63fa",
           "#FFA15A",
           "#19d3f3",
           "#FF6692",
           "#B6E880",
           "#FF97FF",
           "#FECB52"
          ],
          "font": {
           "color": "#f2f5fa"
          },
          "geo": {
           "bgcolor": "rgb(17,17,17)",
           "lakecolor": "rgb(17,17,17)",
           "landcolor": "rgb(17,17,17)",
           "showlakes": true,
           "showland": true,
           "subunitcolor": "#506784"
          },
          "hoverlabel": {
           "align": "left"
          },
          "hovermode": "closest",
          "mapbox": {
           "style": "dark"
          },
          "paper_bgcolor": "rgb(17,17,17)",
          "plot_bgcolor": "rgb(17,17,17)",
          "polar": {
           "angularaxis": {
            "gridcolor": "#506784",
            "linecolor": "#506784",
            "ticks": ""
           },
           "bgcolor": "rgb(17,17,17)",
           "radialaxis": {
            "gridcolor": "#506784",
            "linecolor": "#506784",
            "ticks": ""
           }
          },
          "scene": {
           "xaxis": {
            "backgroundcolor": "rgb(17,17,17)",
            "gridcolor": "#506784",
            "gridwidth": 2,
            "linecolor": "#506784",
            "showbackground": true,
            "ticks": "",
            "zerolinecolor": "#C8D4E3"
           },
           "yaxis": {
            "backgroundcolor": "rgb(17,17,17)",
            "gridcolor": "#506784",
            "gridwidth": 2,
            "linecolor": "#506784",
            "showbackground": true,
            "ticks": "",
            "zerolinecolor": "#C8D4E3"
           },
           "zaxis": {
            "backgroundcolor": "rgb(17,17,17)",
            "gridcolor": "#506784",
            "gridwidth": 2,
            "linecolor": "#506784",
            "showbackground": true,
            "ticks": "",
            "zerolinecolor": "#C8D4E3"
           }
          },
          "shapedefaults": {
           "line": {
            "color": "#f2f5fa"
           }
          },
          "sliderdefaults": {
           "bgcolor": "#C8D4E3",
           "bordercolor": "rgb(17,17,17)",
           "borderwidth": 1,
           "tickwidth": 0
          },
          "ternary": {
           "aaxis": {
            "gridcolor": "#506784",
            "linecolor": "#506784",
            "ticks": ""
           },
           "baxis": {
            "gridcolor": "#506784",
            "linecolor": "#506784",
            "ticks": ""
           },
           "bgcolor": "rgb(17,17,17)",
           "caxis": {
            "gridcolor": "#506784",
            "linecolor": "#506784",
            "ticks": ""
           }
          },
          "title": {
           "x": 0.05
          },
          "updatemenudefaults": {
           "bgcolor": "#506784",
           "borderwidth": 0
          },
          "xaxis": {
           "automargin": true,
           "gridcolor": "#283442",
           "linecolor": "#506784",
           "ticks": "",
           "title": {
            "standoff": 15
           },
           "zerolinecolor": "#283442",
           "zerolinewidth": 2
          },
          "yaxis": {
           "automargin": true,
           "gridcolor": "#283442",
           "linecolor": "#506784",
           "ticks": "",
           "title": {
            "standoff": 15
           },
           "zerolinecolor": "#283442",
           "zerolinewidth": 2
          }
         }
        },
        "xaxis": {
         "anchor": "y",
         "domain": [
          0,
          0.45
         ]
        },
        "xaxis2": {
         "anchor": "y2",
         "domain": [
          0.55,
          1
         ]
        },
        "yaxis": {
         "anchor": "x",
         "domain": [
          0,
          1
         ],
         "title": {
          "text": "Return %"
         }
        },
        "yaxis2": {
         "anchor": "x2",
         "domain": [
          0,
          1
         ],
         "title": {
          "text": "Return %"
         }
        }
       }
      }
     },
     "metadata": {},
     "output_type": "display_data"
    },
    {
     "data": {
      "application/vnd.plotly.v1+json": {
       "config": {
        "plotlyServerURL": "https://plot.ly"
       },
       "data": [
        {
         "hovertemplate": "<b>%{hovertext}</b><br><br>Trading Volume (USDT)=%{marker.size}<br>Weekly Return %=%{marker.color}<extra></extra>",
         "hovertext": [
          "1000000BOBUSDT",
          "1000000MOGUSDT",
          "1000BONKUSDT",
          "1000CATUSDT",
          "1000CHEEMSUSDT",
          "1000FLOKIUSDT",
          "1000LUNCUSDT",
          "1000PEPEUSDT",
          "1000RATSUSDT",
          "1000SATSUSDT",
          "1000SHIBUSDT",
          "1000WHYUSDT",
          "1000XECUSDT",
          "1000XUSDT",
          "1INCHUSDT",
          "1MBABYDOGEUSDT",
          "AAVEUSDT",
          "ACEUSDT",
          "ACHUSDT",
          "ACTUSDT",
          "ACXUSDT",
          "ADAUSDT",
          "AERGOUSDT",
          "AEROUSDT",
          "AEVOUSDT",
          "AGLDUSDT",
          "AGTUSDT",
          "AI16ZUSDT",
          "AIOTUSDT",
          "AIUSDT",
          "AIXBTUSDT",
          "AKTUSDT",
          "ALCHUSDT",
          "ALGOUSDT",
          "ALICEUSDT",
          "ALPHAUSDT",
          "ALPINEUSDT",
          "ALTUSDT",
          "ANIMEUSDT",
          "ANKRUSDT",
          "APEUSDT",
          "API3USDT",
          "APTUSDT",
          "ARBUSDT",
          "ARCUSDT",
          "ARKMUSDT",
          "ARKUSDT",
          "ARPAUSDT",
          "ARUSDT",
          "ASRUSDT",
          "ASTRUSDT",
          "ATAUSDT",
          "ATHUSDT",
          "ATOMUSDT",
          "AUCTIONUSDT",
          "AUSDT",
          "AVAAIUSDT",
          "AVAUSDT",
          "AVAXUSDT",
          "AWEUSDT",
          "AXLUSDT",
          "AXSUSDT",
          "B2USDT",
          "B3USDT",
          "BABYUSDT",
          "BAKEUSDT",
          "BANANAS31USDT",
          "BANANAUSDT",
          "BANDUSDT",
          "BANKUSDT",
          "BANUSDT",
          "BATUSDT",
          "BBUSDT",
          "BCHUSDT",
          "BDXNUSDT",
          "BEAMXUSDT",
          "BELUSDT",
          "BERAUSDT",
          "BICOUSDT",
          "BIDUSDT",
          "BIGTIMEUSDT",
          "BIOUSDT",
          "BLURUSDT",
          "BMTUSDT",
          "BNBUSDT",
          "BNTUSDT",
          "BOMEUSDT",
          "BRETTUSDT",
          "BROCCOLI714USDT",
          "BROCCOLIF3BUSDT",
          "BRUSDT",
          "BSVUSDT",
          "BSWUSDT",
          "BTCDOMUSDT",
          "BTCUSDT",
          "BUSDT",
          "C98USDT",
          "CAKEUSDT",
          "CATIUSDT",
          "CELOUSDT",
          "CELRUSDT",
          "CETUSUSDT",
          "CFXUSDT",
          "CGPTUSDT",
          "CHESSUSDT",
          "CHILLGUYUSDT",
          "CHRUSDT",
          "CHZUSDT",
          "CKBUSDT",
          "COMPUSDT",
          "COOKIEUSDT",
          "COSUSDT",
          "COTIUSDT",
          "COWUSDT",
          "CRVUSDT",
          "CTKUSDT",
          "CTSIUSDT",
          "CVCUSDT",
          "CYBERUSDT",
          "DASHUSDT",
          "DEEPUSDT",
          "DEFIUSDT",
          "DEGENUSDT",
          "DEGOUSDT",
          "DENTUSDT",
          "DEXEUSDT",
          "DFUSDT",
          "DIAUSDT",
          "DODOXUSDT",
          "DOGEUSDT",
          "DOGSUSDT",
          "DOLOUSDT",
          "DOODUSDT",
          "DOTUSDT",
          "DRIFTUSDT",
          "DUSDT",
          "DUSKUSDT",
          "DYDXUSDT",
          "DYMUSDT",
          "EDUUSDT",
          "EGLDUSDT",
          "EIGENUSDT",
          "ENAUSDT",
          "ENJUSDT",
          "ENSUSDT",
          "EPICUSDT",
          "EPTUSDT",
          "ETCUSDT",
          "ETHFIUSDT",
          "ETHUSDT",
          "ETHWUSDT",
          "FARTCOINUSDT",
          "FETUSDT",
          "FHEUSDT",
          "FIDAUSDT",
          "FILUSDT",
          "FIOUSDT",
          "FISUSDT",
          "FLMUSDT",
          "FLOWUSDT",
          "FLUXUSDT",
          "FORMUSDT",
          "FORTHUSDT",
          "FUNUSDT",
          "FUSDT",
          "FXSUSDT",
          "GALAUSDT",
          "GASUSDT",
          "GHSTUSDT",
          "GLMUSDT",
          "GMTUSDT",
          "GMXUSDT",
          "GOATUSDT",
          "GPSUSDT",
          "GRASSUSDT",
          "GRIFFAINUSDT",
          "GRTUSDT",
          "GTCUSDT",
          "GUNUSDT",
          "GUSDT",
          "HAEDALUSDT",
          "HBARUSDT",
          "HEIUSDT",
          "HFTUSDT",
          "HIFIUSDT",
          "HIGHUSDT",
          "HIPPOUSDT",
          "HIVEUSDT",
          "HMSTRUSDT",
          "HOMEUSDT",
          "HOOKUSDT",
          "HOTUSDT",
          "HUMAUSDT",
          "HYPERUSDT",
          "HYPEUSDT",
          "ICPUSDT",
          "ICXUSDT",
          "IDUSDT",
          "ILVUSDT",
          "IMXUSDT",
          "INITUSDT",
          "INJUSDT",
          "IOSTUSDT",
          "IOTAUSDT",
          "IOTXUSDT",
          "IOUSDT",
          "IPUSDT",
          "JASMYUSDT",
          "JELLYJELLYUSDT",
          "JOEUSDT",
          "JSTUSDT",
          "JTOUSDT",
          "JUPUSDT",
          "KAIAUSDT",
          "KAITOUSDT",
          "KASUSDT",
          "KAVAUSDT",
          "KDAUSDT",
          "KERNELUSDT",
          "KMNOUSDT",
          "KNCUSDT",
          "KOMAUSDT",
          "KSMUSDT",
          "LAUSDT",
          "LAYERUSDT",
          "LDOUSDT",
          "LEVERUSDT",
          "LINKUSDT",
          "LISTAUSDT",
          "LOKAUSDT",
          "LPTUSDT",
          "LQTYUSDT",
          "LRCUSDT",
          "LSKUSDT",
          "LTCUSDT",
          "LUMIAUSDT",
          "LUNA2USDT",
          "MAGICUSDT",
          "MANAUSDT",
          "MANTAUSDT",
          "MASKUSDT",
          "MAVIAUSDT",
          "MAVUSDT",
          "MBOXUSDT",
          "MELANIAUSDT",
          "MEMEFIUSDT",
          "MEMEUSDT",
          "MERLUSDT",
          "METISUSDT",
          "MEUSDT",
          "MEWUSDT",
          "MILKUSDT",
          "MINAUSDT",
          "MKRUSDT",
          "MLNUSDT",
          "MOCAUSDT",
          "MOODENGUSDT",
          "MORPHOUSDT",
          "MOVEUSDT",
          "MOVRUSDT",
          "MTLUSDT",
          "MUBARAKUSDT",
          "MYROUSDT",
          "MYXUSDT",
          "NEARUSDT",
          "NEIROETHUSDT",
          "NEIROUSDT",
          "NEOUSDT",
          "NEWTUSDT",
          "NFPUSDT",
          "NILUSDT",
          "NKNUSDT",
          "NMRUSDT",
          "NOTUSDT",
          "NTRNUSDT",
          "NXPCUSDT",
          "OBOLUSDT",
          "OGNUSDT",
          "OGUSDT",
          "OMNIUSDT",
          "OMUSDT",
          "ONDOUSDT",
          "ONEUSDT",
          "ONGUSDT",
          "ONTUSDT",
          "OPUSDT",
          "ORCAUSDT",
          "ORDIUSDT",
          "OXTUSDT",
          "PARTIUSDT",
          "PAXGUSDT",
          "PENDLEUSDT",
          "PENGUUSDT",
          "PEOPLEUSDT",
          "PERPUSDT",
          "PHAUSDT",
          "PHBUSDT",
          "PIPPINUSDT",
          "PIXELUSDT",
          "PLUMEUSDT",
          "PNUTUSDT",
          "POLUSDT",
          "POLYXUSDT",
          "PONKEUSDT",
          "POPCATUSDT",
          "PORT3USDT",
          "PORTALUSDT",
          "POWRUSDT",
          "PROMPTUSDT",
          "PROMUSDT",
          "PUFFERUSDT",
          "PUMPBTCUSDT",
          "PUNDIXUSDT",
          "PYTHUSDT",
          "QNTUSDT",
          "QTUMUSDT",
          "QUICKUSDT",
          "RAREUSDT",
          "RAYSOLUSDT",
          "RDNTUSDT",
          "REDUSDT",
          "REIUSDT",
          "RENDERUSDT",
          "RESOLVUSDT",
          "REZUSDT",
          "RIFUSDT",
          "RLCUSDT",
          "RONINUSDT",
          "ROSEUSDT",
          "RPLUSDT",
          "RSRUSDT",
          "RUNEUSDT",
          "RVNUSDT",
          "SAFEUSDT",
          "SAGAUSDT",
          "SANDUSDT",
          "SANTOSUSDT",
          "SCRTUSDT",
          "SCRUSDT",
          "SEIUSDT",
          "SFPUSDT",
          "SHELLUSDT",
          "SIGNUSDT",
          "SIRENUSDT",
          "SKATEUSDT",
          "SKLUSDT",
          "SKYAIUSDT",
          "SLERFUSDT",
          "SNXUSDT",
          "SOLUSDT",
          "SOLVUSDT",
          "SONICUSDT",
          "SOONUSDT",
          "SOPHUSDT",
          "SPELLUSDT",
          "SPKUSDT",
          "SPXUSDT",
          "SQDUSDT",
          "SSVUSDT",
          "STEEMUSDT",
          "STGUSDT",
          "STORJUSDT",
          "STOUSDT",
          "STRKUSDT",
          "STXUSDT",
          "SUIUSDT",
          "SUNUSDT",
          "SUPERUSDT",
          "SUSDT",
          "SUSHIUSDT",
          "SWARMSUSDT",
          "SWELLUSDT",
          "SXPUSDT",
          "SXTUSDT",
          "SYNUSDT",
          "SYRUPUSDT",
          "SYSUSDT",
          "TAIKOUSDT",
          "TAOUSDT",
          "THETAUSDT",
          "THEUSDT",
          "TIAUSDT",
          "TLMUSDT",
          "TNSRUSDT",
          "TOKENUSDT",
          "TONUSDT",
          "TRBUSDT",
          "TRUMPUSDT",
          "TRUUSDT",
          "TRXUSDT",
          "TSTUSDT",
          "TURBOUSDT",
          "TUSDT",
          "TUTUSDT",
          "TWTUSDT",
          "UMAUSDT",
          "UNIUSDT",
          "USDCUSDT",
          "USTCUSDT",
          "USUALUSDT",
          "UXLINKUSDT",
          "VANAUSDT",
          "VANRYUSDT",
          "VELODROMEUSDT",
          "VETUSDT",
          "VICUSDT",
          "VINEUSDT",
          "VIRTUALUSDT",
          "VOXELUSDT",
          "VTHOUSDT",
          "VVVUSDT",
          "WALUSDT",
          "WAXPUSDT",
          "WCTUSDT",
          "WIFUSDT",
          "WLDUSDT",
          "WOOUSDT",
          "WUSDT",
          "XAIUSDT",
          "XCNUSDT",
          "XLMUSDT",
          "XMRUSDT",
          "XRPUSDT",
          "XTZUSDT",
          "XVGUSDT",
          "XVSUSDT",
          "YFIUSDT",
          "YGGUSDT",
          "ZECUSDT",
          "ZENUSDT",
          "ZEREBROUSDT",
          "ZETAUSDT",
          "ZILUSDT",
          "ZKJUSDT",
          "ZKUSDT",
          "ZROUSDT",
          "ZRXUSDT"
         ],
         "legendgroup": "",
         "marker": {
          "color": [
           8.977729781977946,
           24.553860204859742,
           16.855211798815795,
           33.18312487035777,
           7.747686921982679,
           16.11380172487076,
           6.4526584473510535,
           8.197728861894769,
           -3.207724580907597,
           12.79520588282846,
           8.407245786126385,
           8.767516725628614,
           7.534015697303035,
           4.2934703706413675,
           7.684981261702145,
           12.130332346699403,
           18.255567344364387,
           12.554753657780525,
           4.744670578755057,
           5.322444992907325,
           -1.033219523720525,
           3.0911552068210084,
           17.10322209021534,
           -0.8167477765947941,
           13.666455445655957,
           4.731421384998207,
           26.39683284392889,
           8.835456053609757,
           1.475633757465662,
           9.707817947908499,
           12.975698075215558,
           10.701717372982406,
           8.048260860729124,
           12.05569625391088,
           14.043061508479441,
           -24.305886101515103,
           10.788896201118508,
           0.26046526353332544,
           -0.2789402087578605,
           8.158710952491068,
           9.237858161354309,
           10.81858592326674,
           20.90105812237141,
           26.07814164501339,
           16.816293711461284,
           15.724592472874386,
           9.890407405891407,
           9.994363948263693,
           8.62500522478704,
           11.597385089216692,
           6.267675657839542,
           15.066027488748965,
           -4.738338715409637,
           8.359687102146664,
           8.090912307250482,
           4.644546430483401,
           15.643132309396686,
           7.167608624454339,
           8.70567947192052,
           8.211636638101954,
           -0.05945303385585943,
           10.206756303486548,
           34.13465407818467,
           1.4759019088183378,
           18.01424140201429,
           13.196589027675863,
           44.34714440728193,
           18.480162086305533,
           10.276648048077984,
           17.595775669333936,
           2.024935973726324,
           13.029243296037922,
           4.2298517811568495,
           7.838731519886421,
           15.315466380866212,
           22.323176974309686,
           9.872659064340757,
           9.857825025304447,
           13.551113894996412,
           38.00357864146952,
           11.42568102883229,
           17.137598610913763,
           10.076901950394362,
           -1.5453258134341938,
           5.122183078036217,
           8.187382144793295,
           17.189071081934067,
           16.82133806281266,
           51.877005482452645,
           16.882935513838135,
           51.24149837559194,
           4.02114317659667,
           11.445080998057374,
           -2.3283237542358917,
           6.229242319143362,
           7.832506111731105,
           16.99841830341134,
           11.701097963294522,
           11.86958609137432,
           5.1091661157711314,
           11.310648777248153,
           10.920765138668711,
           14.888075343588458,
           22.426024601428466,
           10.537525394273244,
           21.430669112459924,
           13.75379541669812,
           9.324899290429277,
           10.04515793047434,
           1.363557524295939,
           11.705655542101765,
           13.072686615323017,
           16.786256862783564,
           9.0117914420455,
           -3.8027395589239497,
           50.874952968636336,
           14.219779255692085,
           4.976266964177769,
           4.975297061507474,
           8.942458248630476,
           18.57141792811026,
           10.51695914975293,
           13.017515919191,
           0.5172920817697169,
           12.080483808529985,
           3.513080813041105,
           -17.691189348363096,
           17.34107588561187,
           11.266298018977425,
           8.060225069410194,
           14.428955106147816,
           21.12674733564891,
           14.152000790074599,
           8.250531269486444,
           15.564339330708465,
           11.770210659066535,
           15.250438046220282,
           15.83914299439179,
           13.261094951962143,
           13.544934739466951,
           11.940809141362081,
           12.165343199289744,
           11.642881284324426,
           11.698390324328651,
           9.643728958180077,
           1.9858117376135702,
           -6.941909449621841,
           8.373459629575864,
           12.261150251050044,
           8.872947159179455,
           8.069459817902144,
           19.521322748553885,
           15.522826613842863,
           2.4920903831431103,
           17.246393053765487,
           10.118919467517237,
           9.788104922653382,
           4.386019566818184,
           15.075509082612019,
           7.62273653878843,
           11.925999851918974,
           18.397180227840096,
           8.551462925755452,
           16.230701769938094,
           8.049460588423957,
           -7.744096361655116,
           11.804902847614569,
           7.271842686719365,
           12.940028265335318,
           8.26847468397643,
           9.431828786228246,
           6.264028262757741,
           13.502272998697233,
           5.5144683182340595,
           3.254595712005856,
           14.599272366447323,
           14.537791903936496,
           12.051602451245234,
           9.948555121480556,
           9.425253824618952,
           11.444949690205737,
           10.598938999352834,
           -5.509868087693815,
           36.15167234788114,
           49.404020707397684,
           12.375320264288723,
           17.802970471241366,
           7.842091573483273,
           2.6511125548331878,
           18.217551542747785,
           9.863060344162726,
           9.291496907837002,
           0.6884511285653536,
           13.434187490581968,
           6.355213113975848,
           7.696104113612824,
           4.095576483682154,
           9.030322967391704,
           6.98856081993106,
           19.594780850571976,
           5.9958254507513,
           13.552661762043883,
           11.941960379649817,
           6.7130462081743945,
           0.5199728094570356,
           17.628423952707312,
           12.62450083067235,
           18.938007177516322,
           -8.985632912186103,
           8.496394301406418,
           0.7856767177640506,
           10.498563280432617,
           26.554851958242015,
           -12.378185388563692,
           23.37531050355514,
           17.805093939759647,
           -1.0663461241892325,
           14.606157263287345,
           10.546071103890316,
           6.044708075959926,
           3.8961449596780056,
           12.184973503893723,
           5.043085362689214,
           0.5763704716749976,
           -9.267768780951744,
           11.233491539759864,
           -16.243802007582875,
           13.420724591499566,
           19.88066705920017,
           15.975634890558965,
           18.20472459981048,
           29.34469591636717,
           10.752104836610046,
           7.386184859845495,
           7.716896295827259,
           11.778303565638323,
           10.386014028259178,
           -4.066825480129593,
           6.102199913141948,
           13.375974657413526,
           8.084034670442,
           0.8752791109594562,
           14.272946667190537,
           20.105602135061844,
           -1.9512814223581838,
           0.543972329581832,
           18.06886983014077,
           15.681450665552447,
           8.526465165468823,
           9.62101348673157,
           15.260408049023772,
           6.961498842528718,
           11.612543735244548,
           12.609710706092159,
           2.978389879894505,
           14.14238138046882,
           14.394443592650928,
           17.185931100212475,
           45.20630205298541,
           9.84147739706733,
           9.36564570756125,
           23.053339755934413,
           19.064799957050845,
           55.77211091852902,
           13.13522389903592,
           -2.8955252252028947,
           9.458091322508157,
           9.759208672926718,
           21.759508160779205,
           11.193206204286932,
           14.304826602295329,
           6.546563379362213,
           7.0350470034635775,
           6.409516045640021,
           11.57918530898058,
           4.2055960132026815,
           -3.953479583812932,
           20.353954988879966,
           0.25068952712716863,
           3.249148710786211,
           5.083999701300071,
           13.073856279155775,
           14.64441581882458,
           7.804446486074086,
           10.693189833547068,
           16.2930367479304,
           8.571351827402978,
           12.357156901669944,
           4.443480522703156,
           8.536445193250781,
           -3.5498752956093806,
           9.09079548687018,
           51.7789358015226,
           12.294091981728847,
           14.269446346643301,
           8.81152517015683,
           13.138949086856655,
           6.689020581304986,
           12.637674781750494,
           -0.38192280669955103,
           12.122360427797927,
           3.990072365833504,
           9.270432039336413,
           22.285797107442118,
           15.392951428394834,
           -7.52612965692164,
           6.66116092364016,
           8.808993183083738,
           12.468086660031318,
           12.041856224212108,
           7.633927868178554,
           12.210939115989826,
           7.600469743612818,
           17.44516624138855,
           18.921140222400737,
           9.145582875005397,
           -14.59152510855059,
           18.171128902003694,
           14.380094688036133,
           8.16465572555107,
           15.34102132995344,
           9.745533615071297,
           15.317978115879336,
           -18.071791160982446,
           14.445128273854483,
           11.75473033528943,
           14.371445352677265,
           7.056771331356775,
           12.863381370161877,
           6.45515854335037,
           21.777070748818335,
           7.4395254180461245,
           -2.8623245517095395,
           12.74803031212845,
           12.357852240804934,
           2.6730583343241245,
           8.61722644252778,
           10.024971236042143,
           16.054631606366335,
           40.613355733091524,
           -0.6675592213783985,
           19.302957106642666,
           -2.011409966451027,
           2.491593318624374,
           18.674012192620438,
           10.397484805652814,
           14.337403036549759,
           13.101679951179406,
           15.527934811863275,
           13.68114827815832,
           -1.5577987026436693,
           4.9792168261283365,
           11.53319571412532,
           2.5532020652548484,
           9.528838405231589,
           3.59492341229293,
           17.965209196151772,
           16.18753530192057,
           6.553458721615087,
           11.40114270872352,
           5.2011722088179795,
           10.079233566093814,
           12.52092418361164,
           14.107859825990532,
           18.02636667463627,
           13.176826903790923,
           2.09341470673064,
           26.56309562203555,
           17.87329232325944,
           12.3462228988745,
           7.859404743067845,
           13.588120180475348,
           4.663128128173922,
           12.532536211244423,
           -2.303557040182381,
           31.949450896873863,
           12.627130555902598,
           4.9915433194341965,
           10.817575910420906,
           12.873552169553463,
           11.930917101554495,
           4.50007913155779,
           13.458411366579625,
           14.050006194061599,
           11.499674240770043,
           5.1577136884340185,
           7.524289777054178,
           3.7553597714176576,
           9.120613489768283,
           4.63214139627048,
           -0.8748134759846722,
           17.31581075866696,
           0.5197817073616706,
           44.59510828306372,
           3.2939310826857096,
           6.613980250454504,
           14.016508130368205,
           -0.023818626278281303,
           8.731634137650964,
           4.050397893481115,
           10.55679630188025,
           10.72620740454882,
           10.061174205431424,
           10.774097250420859,
           8.982553248582379,
           13.024352366543619,
           12.884153138860198,
           13.881079934666614,
           8.191968716559234,
           10.096286940842523,
           14.474166335988594,
           5.044816439851986,
           6.483992265690706,
           6.705008483337613,
           18.722571824102246,
           8.729324294410203,
           15.880150210283555,
           33.562703966643205,
           13.400224806675478,
           15.704374960968627,
           2.8288721767659757,
           4.1535953520043964,
           7.890112670826485,
           7.770898432731644,
           16.351643581490034,
           9.734122649120657,
           8.306348398204493,
           12.144665340945057,
           3.171594954674963,
           8.812122823873787,
           9.31641123184678,
           10.654657029294695,
           8.33816089390508,
           -15.844672236503529,
           20.65419886877435,
           17.51885927170858,
           8.451698806845775
          ],
          "coloraxis": "coloraxis",
          "size": [
           144906080.29411995,
           102502756.85405001,
           378889703.54485697,
           130280927.10182598,
           72750214.0931578,
           213606123.70199,
           37188413.08892,
           6359280504.375875,
           38427647.16792,
           136557296.606935,
           553428363.7885469,
           9386424.6978907,
           12407259.143199997,
           13513659.137020001,
           41438680.15320001,
           42118707.203505605,
           2169336420.148,
           12450360.518295,
           52262530.014822,
           60481545.62670001,
           21754501.75896,
           1890802947.2877998,
           345006925.76456,
           228193583.56958997,
           35677524.34924,
           27510011.9939,
           75888842.46757598,
           273770105.2085099,
           11185825.8811,
           24700598.385089997,
           355625186.09349,
           18114918.0918,
           56405112.91157,
           178890364.2455,
           38218460.8137,
           172598250.6603,
           10487194.507329999,
           151869653.18859002,
           180570977.45364,
           20362683.140759997,
           140576135.6571,
           30523725.411689997,
           1377607890.17016,
           890548547.47458,
           81071616.71601,
           110766132.247,
           11935013.196799997,
           13591700.371070001,
           130177835.3419,
           39326035.2446,
           13166806.002692001,
           16733688.3109,
           45976097.38087001,
           258479466.86881,
           37245418.64249001,
           77187635.0427,
           47665229.18369,
           13012809.70005,
           1405341761.1149998,
           21312250.281259,
           60520300.855390005,
           84854163.015,
           69071324.8468,
           13019094.498569999,
           76252765.88729,
           31164249.0782,
           3602591012.333795,
           38696585.94579999,
           19191844.10472,
           28527153.233031,
           25047762.537750002,
           23260500.14183,
           31271255.74007,
           1708488110.20437,
           134603365.33393002,
           52872890.823509,
           24539667.1937,
           148655139.52069998,
           17260523.7258,
           688006621.86715,
           62586760.69648,
           38765442.137499996,
           40607920.45707,
           226258203.04888,
           1592072402.6442997,
           16265631.114720002,
           149885651.418867,
           93267194.96936001,
           184173812.94639,
           38144404.807142,
           275060069.05518997,
           24603020.159999996,
           694349354.5616401,
           80351841.66660002,
           99296753254.94402,
           102292986.77452,
           57938342.98229999,
           99307501.3193,
           35331685.3353,
           81643692.14590001,
           21788418.384940002,
           66847293.442619994,
           64491836.53729001,
           28506756.85687,
           119327654.01219001,
           111684732.53612,
           27801934.737,
           82422562.03127001,
           22808619.562217,
           136341081.10093004,
           179966114.3563,
           15477281.634143002,
           27084993.13827,
           30583442.7278,
           697267582.6363,
           322613780.1087,
           14702557.7194,
           8912499.0265,
           26950166.3788,
           19607455.77202,
           57933493.24583,
           7211918.249600001,
           25576724.508863,
           33121517.276740007,
           17118066.057222,
           276759279.01743,
           33599692.650589995,
           17892144.9107,
           9008618.86291,
           5212578267.23777,
           81075149.55900961,
           21987738.095357,
           17246786.5439226,
           819198872.8639001,
           34409608.826799996,
           13596418.7223,
           16284812.528,
           234190689.64099997,
           24121310.152080003,
           14073472.189399999,
           44173312.21870001,
           308263643.83689,
           1526224600.7833998,
           23758541.45463,
           170668886.9876,
           18990648.55432,
           37543763.656495005,
           382776326.04693997,
           573010273.0239,
           85210916418.96866,
           6611778.284100001,
           3434044512.63016,
           551201429.7796999,
           9850646.958449999,
           43906470.14694,
           676682516.1423,
           7394421.517460001,
           32254690.647749998,
           82958176.98110001,
           84811132.1601,
           9833114.563000001,
           72464554.54800999,
           7860214.4984,
           4658186023.201106,
           77524007.10052499,
           35345005.9616,
           374443426.22349006,
           18549049.323000003,
           7243925.6879,
           20646209.019369997,
           64560890.90671001,
           14629228.188310001,
           169765890.61012998,
           264783516.02413002,
           122366458.52399999,
           189144019.71461,
           78660741.81854999,
           18161436.0739,
           47431332.65287001,
           9414193.616109999,
           214408535.30748302,
           378640316.26343995,
           18675815.72632,
           44236102.897259995,
           694339818.6855,
           15577554.259480003,
           48402164.44606501,
           10275443.989540001,
           69777027.546455,
           376185242.256341,
           16048863.34605,
           24176279.969227,
           216548340.904996,
           40451486.94800001,
           2443622319.23479,
           180716515.115,
           62355333.713,
           25989554.300299995,
           14078237.4914,
           104563453.66590002,
           149460353.2026,
           692829624.9467999,
           21572080.852555998,
           48714332.09187,
           27308411.084500004,
           105730829.60652,
           292601219.454106,
           102440513.518774,
           81352189.15885,
           18627821.61998,
           19186187.873905998,
           318909219.01900005,
           333806350.45750004,
           452423325.4484999,
           361873698.28081,
           118247090.94398001,
           49304113.172570005,
           20663449.889099997,
           52114318.087000005,
           46304164.72339,
           13360142.145999998,
           18022083.32856,
           30166840.3331,
           252116352.9081,
           403251140.85919005,
           378557072.9676,
           127247649.70709631,
           1665360053.7233498,
           125200587.3396,
           16529757.842300002,
           796320850.7654,
           517201853.40959,
           20147182.176469997,
           9065894.246599998,
           919587585.6249499,
           12800934.463280002,
           24527110.1143,
           215472842.80489,
           74372418.3416,
           52148785.69529,
           182608251.1818,
           11810002.906100001,
           14796883.67689,
           38900606.681049995,
           163204572.64186502,
           27867260.75925,
           77324158.15976399,
           20969599.104150005,
           18373294.1418,
           41163406.17688999,
           68575083.82090701,
           247234616.64918002,
           58477971.9335,
           497456647.9716,
           8575072.59628,
           90046697.66723998,
           681020322.1909399,
           30045002.04131,
           1844803879.5178003,
           13219010.970989998,
           10457577.447700001,
           268467477.66179997,
           23735641.602110002,
           1213111669.69619,
           803355866.749,
           82838005.54029,
           691845972.2598387,
           75601414.24688,
           2265773029.9114,
           10522957.940661998,
           37307046.08312,
           27411162.677270003,
           17432456.993800003,
           82408927.37494001,
           10683473.530199999,
           303944424.12841,
           88048354.40105999,
           75142977.8545,
           12286891.2347,
           36712851.86858,
           296993999.742815,
           624183540.3498201,
           42074990.1348,
           8304612.325300001,
           16812313.57538,
           824960432.17503,
           32566488.6773,
           254575904.1545,
           12784993.68245,
           61920408.706499994,
           397506281.78134,
           233707454.4722,
           1944546479.189733,
           203908589.39312,
           14840851.05167,
           17501262.58168,
           14218463.216799999,
           32161510.61193,
           37544563.56347,
           31334916.0667,
           741774542.5670501,
           133204657.94221,
           22419009.23314,
           31273025.66438,
           486410063.7626,
           14186507.624390002,
           56485178.421628006,
           12295670.7228,
           18335947.5721,
           189254672.7637,
           14117324.547980001,
           20295583.97775,
           18257927.4795,
           119766432.35993999,
           52800736.067999996,
           34984603.064500004,
           92433721.62394,
           294012837.71088,
           129090767.4316,
           14272627.616740001,
           19889252.555,
           8640194.12059,
           236257730.8379,
           871149396.6302001,
           45068004.19553,
           9423477.618309999,
           19819196.74295,
           12336391.95127,
           47292582.63081,
           34246631.329299994,
           88733331.46223299,
           98399902.84599999,
           245065291.62038,
           14284234.353799999,
           59286068.43789,
           137250165.5323,
           5584886.586100001,
           7950963.3059,
           14678610.587399999,
           3609825783.4281006,
           39870301.8162,
           59977736.9605,
           94837791.81436999,
           108417103.18933001,
           125404611.14328,
           13855030.83672,
           39079656.897819996,
           5544228.85685,
           85469705.20879999,
           20476369106.851303,
           58636055.72707,
           20739544.80322,
           203142997.01860002,
           179044785.56029,
           17339040.511727102,
           818079902.89923,
           942806597.7456001,
           99429941.23804998,
           59353851.57724,
           9539683.44392,
           13296312.6661,
           23444134.1422,
           40361171.91235,
           110651011.26098,
           186454701.4449,
           4615178572.42217,
           10449118.461565,
           61004881.2707,
           352021000.2455,
           110746974.3134,
           55236103.73883,
           26553880.3454,
           32523426.577220004,
           84878512.82073,
           22846713.7575,
           905268781.0980102,
           8963588.085579999,
           21475104.507600002,
           910968717.8744501,
           74949035.94196999,
           41594992.17945,
           694474114.1515999,
           12904707.335712,
           22621565.08189,
           17852939.62193,
           239761217.36110002,
           327065314.9334,
           1415968045.5930502,
           18550060.60064,
           551049895.0495299,
           43010760.499409996,
           192600708.1363665,
           268472305.18008995,
           396143049.65143,
           13292904.548799999,
           51054558.482,
           1821465418.756,
           34245404.113702,
           36857845.304459,
           106666068.4546,
           56981881.0235,
           56973327.87008001,
           29927975.11203,
           8950719.85962,
           87458943.330828,
           9554674.4712,
           76856671.54986,
           1374858643.6089501,
           38685004.35951,
           8483533.786857,
           35070318.507570006,
           58513208.25760001,
           11708359.6653,
           230708371.1471,
           2475139070.12929,
           749944766.0152001,
           17589037.8688,
           571290045.989955,
           57687362.14167,
           74631767.06011999,
           286429452.75236,
           143900415.78528,
           8490191795.28509,
           76962561.9596,
           29914156.9708504,
           11085490.121600002,
           34740881.508,
           29429505.8759,
           32426654.067309998,
           75198535.86410001,
           55632540.95901,
           19895159.922300003,
           37221621.5458,
           335286907.60455996,
           98006017.85055,
           162034578.66049,
           45971777.01884001
          ],
          "sizemode": "area",
          "sizeref": 248241883.13736004,
          "symbol": "circle"
         },
         "mode": "markers",
         "name": "",
         "orientation": "v",
         "showlegend": false,
         "type": "scatter",
         "x": [
          144906080.29411995,
          102502756.85405001,
          378889703.54485697,
          130280927.10182598,
          72750214.0931578,
          213606123.70199,
          37188413.08892,
          6359280504.375875,
          38427647.16792,
          136557296.606935,
          553428363.7885469,
          9386424.6978907,
          12407259.143199997,
          13513659.137020001,
          41438680.15320001,
          42118707.203505605,
          2169336420.148,
          12450360.518295,
          52262530.014822,
          60481545.62670001,
          21754501.75896,
          1890802947.2877998,
          345006925.76456,
          228193583.56958997,
          35677524.34924,
          27510011.9939,
          75888842.46757598,
          273770105.2085099,
          11185825.8811,
          24700598.385089997,
          355625186.09349,
          18114918.0918,
          56405112.91157,
          178890364.2455,
          38218460.8137,
          172598250.6603,
          10487194.507329999,
          151869653.18859002,
          180570977.45364,
          20362683.140759997,
          140576135.6571,
          30523725.411689997,
          1377607890.17016,
          890548547.47458,
          81071616.71601,
          110766132.247,
          11935013.196799997,
          13591700.371070001,
          130177835.3419,
          39326035.2446,
          13166806.002692001,
          16733688.3109,
          45976097.38087001,
          258479466.86881,
          37245418.64249001,
          77187635.0427,
          47665229.18369,
          13012809.70005,
          1405341761.1149998,
          21312250.281259,
          60520300.855390005,
          84854163.015,
          69071324.8468,
          13019094.498569999,
          76252765.88729,
          31164249.0782,
          3602591012.333795,
          38696585.94579999,
          19191844.10472,
          28527153.233031,
          25047762.537750002,
          23260500.14183,
          31271255.74007,
          1708488110.20437,
          134603365.33393002,
          52872890.823509,
          24539667.1937,
          148655139.52069998,
          17260523.7258,
          688006621.86715,
          62586760.69648,
          38765442.137499996,
          40607920.45707,
          226258203.04888,
          1592072402.6442997,
          16265631.114720002,
          149885651.418867,
          93267194.96936001,
          184173812.94639,
          38144404.807142,
          275060069.05518997,
          24603020.159999996,
          694349354.5616401,
          80351841.66660002,
          99296753254.94402,
          102292986.77452,
          57938342.98229999,
          99307501.3193,
          35331685.3353,
          81643692.14590001,
          21788418.384940002,
          66847293.442619994,
          64491836.53729001,
          28506756.85687,
          119327654.01219001,
          111684732.53612,
          27801934.737,
          82422562.03127001,
          22808619.562217,
          136341081.10093004,
          179966114.3563,
          15477281.634143002,
          27084993.13827,
          30583442.7278,
          697267582.6363,
          322613780.1087,
          14702557.7194,
          8912499.0265,
          26950166.3788,
          19607455.77202,
          57933493.24583,
          7211918.249600001,
          25576724.508863,
          33121517.276740007,
          17118066.057222,
          276759279.01743,
          33599692.650589995,
          17892144.9107,
          9008618.86291,
          5212578267.23777,
          81075149.55900961,
          21987738.095357,
          17246786.5439226,
          819198872.8639001,
          34409608.826799996,
          13596418.7223,
          16284812.528,
          234190689.64099997,
          24121310.152080003,
          14073472.189399999,
          44173312.21870001,
          308263643.83689,
          1526224600.7833998,
          23758541.45463,
          170668886.9876,
          18990648.55432,
          37543763.656495005,
          382776326.04693997,
          573010273.0239,
          85210916418.96866,
          6611778.284100001,
          3434044512.63016,
          551201429.7796999,
          9850646.958449999,
          43906470.14694,
          676682516.1423,
          7394421.517460001,
          32254690.647749998,
          82958176.98110001,
          84811132.1601,
          9833114.563000001,
          72464554.54800999,
          7860214.4984,
          4658186023.201106,
          77524007.10052499,
          35345005.9616,
          374443426.22349006,
          18549049.323000003,
          7243925.6879,
          20646209.019369997,
          64560890.90671001,
          14629228.188310001,
          169765890.61012998,
          264783516.02413002,
          122366458.52399999,
          189144019.71461,
          78660741.81854999,
          18161436.0739,
          47431332.65287001,
          9414193.616109999,
          214408535.30748302,
          378640316.26343995,
          18675815.72632,
          44236102.897259995,
          694339818.6855,
          15577554.259480003,
          48402164.44606501,
          10275443.989540001,
          69777027.546455,
          376185242.256341,
          16048863.34605,
          24176279.969227,
          216548340.904996,
          40451486.94800001,
          2443622319.23479,
          180716515.115,
          62355333.713,
          25989554.300299995,
          14078237.4914,
          104563453.66590002,
          149460353.2026,
          692829624.9467999,
          21572080.852555998,
          48714332.09187,
          27308411.084500004,
          105730829.60652,
          292601219.454106,
          102440513.518774,
          81352189.15885,
          18627821.61998,
          19186187.873905998,
          318909219.01900005,
          333806350.45750004,
          452423325.4484999,
          361873698.28081,
          118247090.94398001,
          49304113.172570005,
          20663449.889099997,
          52114318.087000005,
          46304164.72339,
          13360142.145999998,
          18022083.32856,
          30166840.3331,
          252116352.9081,
          403251140.85919005,
          378557072.9676,
          127247649.70709631,
          1665360053.7233498,
          125200587.3396,
          16529757.842300002,
          796320850.7654,
          517201853.40959,
          20147182.176469997,
          9065894.246599998,
          919587585.6249499,
          12800934.463280002,
          24527110.1143,
          215472842.80489,
          74372418.3416,
          52148785.69529,
          182608251.1818,
          11810002.906100001,
          14796883.67689,
          38900606.681049995,
          163204572.64186502,
          27867260.75925,
          77324158.15976399,
          20969599.104150005,
          18373294.1418,
          41163406.17688999,
          68575083.82090701,
          247234616.64918002,
          58477971.9335,
          497456647.9716,
          8575072.59628,
          90046697.66723998,
          681020322.1909399,
          30045002.04131,
          1844803879.5178003,
          13219010.970989998,
          10457577.447700001,
          268467477.66179997,
          23735641.602110002,
          1213111669.69619,
          803355866.749,
          82838005.54029,
          691845972.2598387,
          75601414.24688,
          2265773029.9114,
          10522957.940661998,
          37307046.08312,
          27411162.677270003,
          17432456.993800003,
          82408927.37494001,
          10683473.530199999,
          303944424.12841,
          88048354.40105999,
          75142977.8545,
          12286891.2347,
          36712851.86858,
          296993999.742815,
          624183540.3498201,
          42074990.1348,
          8304612.325300001,
          16812313.57538,
          824960432.17503,
          32566488.6773,
          254575904.1545,
          12784993.68245,
          61920408.706499994,
          397506281.78134,
          233707454.4722,
          1944546479.189733,
          203908589.39312,
          14840851.05167,
          17501262.58168,
          14218463.216799999,
          32161510.61193,
          37544563.56347,
          31334916.0667,
          741774542.5670501,
          133204657.94221,
          22419009.23314,
          31273025.66438,
          486410063.7626,
          14186507.624390002,
          56485178.421628006,
          12295670.7228,
          18335947.5721,
          189254672.7637,
          14117324.547980001,
          20295583.97775,
          18257927.4795,
          119766432.35993999,
          52800736.067999996,
          34984603.064500004,
          92433721.62394,
          294012837.71088,
          129090767.4316,
          14272627.616740001,
          19889252.555,
          8640194.12059,
          236257730.8379,
          871149396.6302001,
          45068004.19553,
          9423477.618309999,
          19819196.74295,
          12336391.95127,
          47292582.63081,
          34246631.329299994,
          88733331.46223299,
          98399902.84599999,
          245065291.62038,
          14284234.353799999,
          59286068.43789,
          137250165.5323,
          5584886.586100001,
          7950963.3059,
          14678610.587399999,
          3609825783.4281006,
          39870301.8162,
          59977736.9605,
          94837791.81436999,
          108417103.18933001,
          125404611.14328,
          13855030.83672,
          39079656.897819996,
          5544228.85685,
          85469705.20879999,
          20476369106.851303,
          58636055.72707,
          20739544.80322,
          203142997.01860002,
          179044785.56029,
          17339040.511727102,
          818079902.89923,
          942806597.7456001,
          99429941.23804998,
          59353851.57724,
          9539683.44392,
          13296312.6661,
          23444134.1422,
          40361171.91235,
          110651011.26098,
          186454701.4449,
          4615178572.42217,
          10449118.461565,
          61004881.2707,
          352021000.2455,
          110746974.3134,
          55236103.73883,
          26553880.3454,
          32523426.577220004,
          84878512.82073,
          22846713.7575,
          905268781.0980102,
          8963588.085579999,
          21475104.507600002,
          910968717.8744501,
          74949035.94196999,
          41594992.17945,
          694474114.1515999,
          12904707.335712,
          22621565.08189,
          17852939.62193,
          239761217.36110002,
          327065314.9334,
          1415968045.5930502,
          18550060.60064,
          551049895.0495299,
          43010760.499409996,
          192600708.1363665,
          268472305.18008995,
          396143049.65143,
          13292904.548799999,
          51054558.482,
          1821465418.756,
          34245404.113702,
          36857845.304459,
          106666068.4546,
          56981881.0235,
          56973327.87008001,
          29927975.11203,
          8950719.85962,
          87458943.330828,
          9554674.4712,
          76856671.54986,
          1374858643.6089501,
          38685004.35951,
          8483533.786857,
          35070318.507570006,
          58513208.25760001,
          11708359.6653,
          230708371.1471,
          2475139070.12929,
          749944766.0152001,
          17589037.8688,
          571290045.989955,
          57687362.14167,
          74631767.06011999,
          286429452.75236,
          143900415.78528,
          8490191795.28509,
          76962561.9596,
          29914156.9708504,
          11085490.121600002,
          34740881.508,
          29429505.8759,
          32426654.067309998,
          75198535.86410001,
          55632540.95901,
          19895159.922300003,
          37221621.5458,
          335286907.60455996,
          98006017.85055,
          162034578.66049,
          45971777.01884001
         ],
         "xaxis": "x",
         "y": [
          8.977729781977946,
          24.553860204859742,
          16.855211798815795,
          33.18312487035777,
          7.747686921982679,
          16.11380172487076,
          6.4526584473510535,
          8.197728861894769,
          -3.207724580907597,
          12.79520588282846,
          8.407245786126385,
          8.767516725628614,
          7.534015697303035,
          4.2934703706413675,
          7.684981261702145,
          12.130332346699403,
          18.255567344364387,
          12.554753657780525,
          4.744670578755057,
          5.322444992907325,
          -1.033219523720525,
          3.0911552068210084,
          17.10322209021534,
          -0.8167477765947941,
          13.666455445655957,
          4.731421384998207,
          26.39683284392889,
          8.835456053609757,
          1.475633757465662,
          9.707817947908499,
          12.975698075215558,
          10.701717372982406,
          8.048260860729124,
          12.05569625391088,
          14.043061508479441,
          -24.305886101515103,
          10.788896201118508,
          0.26046526353332544,
          -0.2789402087578605,
          8.158710952491068,
          9.237858161354309,
          10.81858592326674,
          20.90105812237141,
          26.07814164501339,
          16.816293711461284,
          15.724592472874386,
          9.890407405891407,
          9.994363948263693,
          8.62500522478704,
          11.597385089216692,
          6.267675657839542,
          15.066027488748965,
          -4.738338715409637,
          8.359687102146664,
          8.090912307250482,
          4.644546430483401,
          15.643132309396686,
          7.167608624454339,
          8.70567947192052,
          8.211636638101954,
          -0.05945303385585943,
          10.206756303486548,
          34.13465407818467,
          1.4759019088183378,
          18.01424140201429,
          13.196589027675863,
          44.34714440728193,
          18.480162086305533,
          10.276648048077984,
          17.595775669333936,
          2.024935973726324,
          13.029243296037922,
          4.2298517811568495,
          7.838731519886421,
          15.315466380866212,
          22.323176974309686,
          9.872659064340757,
          9.857825025304447,
          13.551113894996412,
          38.00357864146952,
          11.42568102883229,
          17.137598610913763,
          10.076901950394362,
          -1.5453258134341938,
          5.122183078036217,
          8.187382144793295,
          17.189071081934067,
          16.82133806281266,
          51.877005482452645,
          16.882935513838135,
          51.24149837559194,
          4.02114317659667,
          11.445080998057374,
          -2.3283237542358917,
          6.229242319143362,
          7.832506111731105,
          16.99841830341134,
          11.701097963294522,
          11.86958609137432,
          5.1091661157711314,
          11.310648777248153,
          10.920765138668711,
          14.888075343588458,
          22.426024601428466,
          10.537525394273244,
          21.430669112459924,
          13.75379541669812,
          9.324899290429277,
          10.04515793047434,
          1.363557524295939,
          11.705655542101765,
          13.072686615323017,
          16.786256862783564,
          9.0117914420455,
          -3.8027395589239497,
          50.874952968636336,
          14.219779255692085,
          4.976266964177769,
          4.975297061507474,
          8.942458248630476,
          18.57141792811026,
          10.51695914975293,
          13.017515919191,
          0.5172920817697169,
          12.080483808529985,
          3.513080813041105,
          -17.691189348363096,
          17.34107588561187,
          11.266298018977425,
          8.060225069410194,
          14.428955106147816,
          21.12674733564891,
          14.152000790074599,
          8.250531269486444,
          15.564339330708465,
          11.770210659066535,
          15.250438046220282,
          15.83914299439179,
          13.261094951962143,
          13.544934739466951,
          11.940809141362081,
          12.165343199289744,
          11.642881284324426,
          11.698390324328651,
          9.643728958180077,
          1.9858117376135702,
          -6.941909449621841,
          8.373459629575864,
          12.261150251050044,
          8.872947159179455,
          8.069459817902144,
          19.521322748553885,
          15.522826613842863,
          2.4920903831431103,
          17.246393053765487,
          10.118919467517237,
          9.788104922653382,
          4.386019566818184,
          15.075509082612019,
          7.62273653878843,
          11.925999851918974,
          18.397180227840096,
          8.551462925755452,
          16.230701769938094,
          8.049460588423957,
          -7.744096361655116,
          11.804902847614569,
          7.271842686719365,
          12.940028265335318,
          8.26847468397643,
          9.431828786228246,
          6.264028262757741,
          13.502272998697233,
          5.5144683182340595,
          3.254595712005856,
          14.599272366447323,
          14.537791903936496,
          12.051602451245234,
          9.948555121480556,
          9.425253824618952,
          11.444949690205737,
          10.598938999352834,
          -5.509868087693815,
          36.15167234788114,
          49.404020707397684,
          12.375320264288723,
          17.802970471241366,
          7.842091573483273,
          2.6511125548331878,
          18.217551542747785,
          9.863060344162726,
          9.291496907837002,
          0.6884511285653536,
          13.434187490581968,
          6.355213113975848,
          7.696104113612824,
          4.095576483682154,
          9.030322967391704,
          6.98856081993106,
          19.594780850571976,
          5.9958254507513,
          13.552661762043883,
          11.941960379649817,
          6.7130462081743945,
          0.5199728094570356,
          17.628423952707312,
          12.62450083067235,
          18.938007177516322,
          -8.985632912186103,
          8.496394301406418,
          0.7856767177640506,
          10.498563280432617,
          26.554851958242015,
          -12.378185388563692,
          23.37531050355514,
          17.805093939759647,
          -1.0663461241892325,
          14.606157263287345,
          10.546071103890316,
          6.044708075959926,
          3.8961449596780056,
          12.184973503893723,
          5.043085362689214,
          0.5763704716749976,
          -9.267768780951744,
          11.233491539759864,
          -16.243802007582875,
          13.420724591499566,
          19.88066705920017,
          15.975634890558965,
          18.20472459981048,
          29.34469591636717,
          10.752104836610046,
          7.386184859845495,
          7.716896295827259,
          11.778303565638323,
          10.386014028259178,
          -4.066825480129593,
          6.102199913141948,
          13.375974657413526,
          8.084034670442,
          0.8752791109594562,
          14.272946667190537,
          20.105602135061844,
          -1.9512814223581838,
          0.543972329581832,
          18.06886983014077,
          15.681450665552447,
          8.526465165468823,
          9.62101348673157,
          15.260408049023772,
          6.961498842528718,
          11.612543735244548,
          12.609710706092159,
          2.978389879894505,
          14.14238138046882,
          14.394443592650928,
          17.185931100212475,
          45.20630205298541,
          9.84147739706733,
          9.36564570756125,
          23.053339755934413,
          19.064799957050845,
          55.77211091852902,
          13.13522389903592,
          -2.8955252252028947,
          9.458091322508157,
          9.759208672926718,
          21.759508160779205,
          11.193206204286932,
          14.304826602295329,
          6.546563379362213,
          7.0350470034635775,
          6.409516045640021,
          11.57918530898058,
          4.2055960132026815,
          -3.953479583812932,
          20.353954988879966,
          0.25068952712716863,
          3.249148710786211,
          5.083999701300071,
          13.073856279155775,
          14.64441581882458,
          7.804446486074086,
          10.693189833547068,
          16.2930367479304,
          8.571351827402978,
          12.357156901669944,
          4.443480522703156,
          8.536445193250781,
          -3.5498752956093806,
          9.09079548687018,
          51.7789358015226,
          12.294091981728847,
          14.269446346643301,
          8.81152517015683,
          13.138949086856655,
          6.689020581304986,
          12.637674781750494,
          -0.38192280669955103,
          12.122360427797927,
          3.990072365833504,
          9.270432039336413,
          22.285797107442118,
          15.392951428394834,
          -7.52612965692164,
          6.66116092364016,
          8.808993183083738,
          12.468086660031318,
          12.041856224212108,
          7.633927868178554,
          12.210939115989826,
          7.600469743612818,
          17.44516624138855,
          18.921140222400737,
          9.145582875005397,
          -14.59152510855059,
          18.171128902003694,
          14.380094688036133,
          8.16465572555107,
          15.34102132995344,
          9.745533615071297,
          15.317978115879336,
          -18.071791160982446,
          14.445128273854483,
          11.75473033528943,
          14.371445352677265,
          7.056771331356775,
          12.863381370161877,
          6.45515854335037,
          21.777070748818335,
          7.4395254180461245,
          -2.8623245517095395,
          12.74803031212845,
          12.357852240804934,
          2.6730583343241245,
          8.61722644252778,
          10.024971236042143,
          16.054631606366335,
          40.613355733091524,
          -0.6675592213783985,
          19.302957106642666,
          -2.011409966451027,
          2.491593318624374,
          18.674012192620438,
          10.397484805652814,
          14.337403036549759,
          13.101679951179406,
          15.527934811863275,
          13.68114827815832,
          -1.5577987026436693,
          4.9792168261283365,
          11.53319571412532,
          2.5532020652548484,
          9.528838405231589,
          3.59492341229293,
          17.965209196151772,
          16.18753530192057,
          6.553458721615087,
          11.40114270872352,
          5.2011722088179795,
          10.079233566093814,
          12.52092418361164,
          14.107859825990532,
          18.02636667463627,
          13.176826903790923,
          2.09341470673064,
          26.56309562203555,
          17.87329232325944,
          12.3462228988745,
          7.859404743067845,
          13.588120180475348,
          4.663128128173922,
          12.532536211244423,
          -2.303557040182381,
          31.949450896873863,
          12.627130555902598,
          4.9915433194341965,
          10.817575910420906,
          12.873552169553463,
          11.930917101554495,
          4.50007913155779,
          13.458411366579625,
          14.050006194061599,
          11.499674240770043,
          5.1577136884340185,
          7.524289777054178,
          3.7553597714176576,
          9.120613489768283,
          4.63214139627048,
          -0.8748134759846722,
          17.31581075866696,
          0.5197817073616706,
          44.59510828306372,
          3.2939310826857096,
          6.613980250454504,
          14.016508130368205,
          -0.023818626278281303,
          8.731634137650964,
          4.050397893481115,
          10.55679630188025,
          10.72620740454882,
          10.061174205431424,
          10.774097250420859,
          8.982553248582379,
          13.024352366543619,
          12.884153138860198,
          13.881079934666614,
          8.191968716559234,
          10.096286940842523,
          14.474166335988594,
          5.044816439851986,
          6.483992265690706,
          6.705008483337613,
          18.722571824102246,
          8.729324294410203,
          15.880150210283555,
          33.562703966643205,
          13.400224806675478,
          15.704374960968627,
          2.8288721767659757,
          4.1535953520043964,
          7.890112670826485,
          7.770898432731644,
          16.351643581490034,
          9.734122649120657,
          8.306348398204493,
          12.144665340945057,
          3.171594954674963,
          8.812122823873787,
          9.31641123184678,
          10.654657029294695,
          8.33816089390508,
          -15.844672236503529,
          20.65419886877435,
          17.51885927170858,
          8.451698806845775
         ],
         "yaxis": "y"
        }
       ],
       "layout": {
        "coloraxis": {
         "colorbar": {
          "title": {
           "text": "Weekly Return %"
          }
         },
         "colorscale": [
          [
           0,
           "rgb(165,0,38)"
          ],
          [
           0.1,
           "rgb(215,48,39)"
          ],
          [
           0.2,
           "rgb(244,109,67)"
          ],
          [
           0.3,
           "rgb(253,174,97)"
          ],
          [
           0.4,
           "rgb(254,224,139)"
          ],
          [
           0.5,
           "rgb(255,255,191)"
          ],
          [
           0.6,
           "rgb(217,239,139)"
          ],
          [
           0.7,
           "rgb(166,217,106)"
          ],
          [
           0.8,
           "rgb(102,189,99)"
          ],
          [
           0.9,
           "rgb(26,152,80)"
          ],
          [
           1,
           "rgb(0,104,55)"
          ]
         ]
        },
        "height": 600,
        "hovermode": "closest",
        "legend": {
         "itemsizing": "constant",
         "tracegroupgap": 0
        },
        "template": {
         "data": {
          "bar": [
           {
            "error_x": {
             "color": "#f2f5fa"
            },
            "error_y": {
             "color": "#f2f5fa"
            },
            "marker": {
             "line": {
              "color": "rgb(17,17,17)",
              "width": 0.5
             },
             "pattern": {
              "fillmode": "overlay",
              "size": 10,
              "solidity": 0.2
             }
            },
            "type": "bar"
           }
          ],
          "barpolar": [
           {
            "marker": {
             "line": {
              "color": "rgb(17,17,17)",
              "width": 0.5
             },
             "pattern": {
              "fillmode": "overlay",
              "size": 10,
              "solidity": 0.2
             }
            },
            "type": "barpolar"
           }
          ],
          "carpet": [
           {
            "aaxis": {
             "endlinecolor": "#A2B1C6",
             "gridcolor": "#506784",
             "linecolor": "#506784",
             "minorgridcolor": "#506784",
             "startlinecolor": "#A2B1C6"
            },
            "baxis": {
             "endlinecolor": "#A2B1C6",
             "gridcolor": "#506784",
             "linecolor": "#506784",
             "minorgridcolor": "#506784",
             "startlinecolor": "#A2B1C6"
            },
            "type": "carpet"
           }
          ],
          "choropleth": [
           {
            "colorbar": {
             "outlinewidth": 0,
             "ticks": ""
            },
            "type": "choropleth"
           }
          ],
          "contour": [
           {
            "colorbar": {
             "outlinewidth": 0,
             "ticks": ""
            },
            "colorscale": [
             [
              0,
              "#0d0887"
             ],
             [
              0.1111111111111111,
              "#46039f"
             ],
             [
              0.2222222222222222,
              "#7201a8"
             ],
             [
              0.3333333333333333,
              "#9c179e"
             ],
             [
              0.4444444444444444,
              "#bd3786"
             ],
             [
              0.5555555555555556,
              "#d8576b"
             ],
             [
              0.6666666666666666,
              "#ed7953"
             ],
             [
              0.7777777777777778,
              "#fb9f3a"
             ],
             [
              0.8888888888888888,
              "#fdca26"
             ],
             [
              1,
              "#f0f921"
             ]
            ],
            "type": "contour"
           }
          ],
          "contourcarpet": [
           {
            "colorbar": {
             "outlinewidth": 0,
             "ticks": ""
            },
            "type": "contourcarpet"
           }
          ],
          "heatmap": [
           {
            "colorbar": {
             "outlinewidth": 0,
             "ticks": ""
            },
            "colorscale": [
             [
              0,
              "#0d0887"
             ],
             [
              0.1111111111111111,
              "#46039f"
             ],
             [
              0.2222222222222222,
              "#7201a8"
             ],
             [
              0.3333333333333333,
              "#9c179e"
             ],
             [
              0.4444444444444444,
              "#bd3786"
             ],
             [
              0.5555555555555556,
              "#d8576b"
             ],
             [
              0.6666666666666666,
              "#ed7953"
             ],
             [
              0.7777777777777778,
              "#fb9f3a"
             ],
             [
              0.8888888888888888,
              "#fdca26"
             ],
             [
              1,
              "#f0f921"
             ]
            ],
            "type": "heatmap"
           }
          ],
          "heatmapgl": [
           {
            "colorbar": {
             "outlinewidth": 0,
             "ticks": ""
            },
            "colorscale": [
             [
              0,
              "#0d0887"
             ],
             [
              0.1111111111111111,
              "#46039f"
             ],
             [
              0.2222222222222222,
              "#7201a8"
             ],
             [
              0.3333333333333333,
              "#9c179e"
             ],
             [
              0.4444444444444444,
              "#bd3786"
             ],
             [
              0.5555555555555556,
              "#d8576b"
             ],
             [
              0.6666666666666666,
              "#ed7953"
             ],
             [
              0.7777777777777778,
              "#fb9f3a"
             ],
             [
              0.8888888888888888,
              "#fdca26"
             ],
             [
              1,
              "#f0f921"
             ]
            ],
            "type": "heatmapgl"
           }
          ],
          "histogram": [
           {
            "marker": {
             "pattern": {
              "fillmode": "overlay",
              "size": 10,
              "solidity": 0.2
             }
            },
            "type": "histogram"
           }
          ],
          "histogram2d": [
           {
            "colorbar": {
             "outlinewidth": 0,
             "ticks": ""
            },
            "colorscale": [
             [
              0,
              "#0d0887"
             ],
             [
              0.1111111111111111,
              "#46039f"
             ],
             [
              0.2222222222222222,
              "#7201a8"
             ],
             [
              0.3333333333333333,
              "#9c179e"
             ],
             [
              0.4444444444444444,
              "#bd3786"
             ],
             [
              0.5555555555555556,
              "#d8576b"
             ],
             [
              0.6666666666666666,
              "#ed7953"
             ],
             [
              0.7777777777777778,
              "#fb9f3a"
             ],
             [
              0.8888888888888888,
              "#fdca26"
             ],
             [
              1,
              "#f0f921"
             ]
            ],
            "type": "histogram2d"
           }
          ],
          "histogram2dcontour": [
           {
            "colorbar": {
             "outlinewidth": 0,
             "ticks": ""
            },
            "colorscale": [
             [
              0,
              "#0d0887"
             ],
             [
              0.1111111111111111,
              "#46039f"
             ],
             [
              0.2222222222222222,
              "#7201a8"
             ],
             [
              0.3333333333333333,
              "#9c179e"
             ],
             [
              0.4444444444444444,
              "#bd3786"
             ],
             [
              0.5555555555555556,
              "#d8576b"
             ],
             [
              0.6666666666666666,
              "#ed7953"
             ],
             [
              0.7777777777777778,
              "#fb9f3a"
             ],
             [
              0.8888888888888888,
              "#fdca26"
             ],
             [
              1,
              "#f0f921"
             ]
            ],
            "type": "histogram2dcontour"
           }
          ],
          "mesh3d": [
           {
            "colorbar": {
             "outlinewidth": 0,
             "ticks": ""
            },
            "type": "mesh3d"
           }
          ],
          "parcoords": [
           {
            "line": {
             "colorbar": {
              "outlinewidth": 0,
              "ticks": ""
             }
            },
            "type": "parcoords"
           }
          ],
          "pie": [
           {
            "automargin": true,
            "type": "pie"
           }
          ],
          "scatter": [
           {
            "marker": {
             "line": {
              "color": "#283442"
             }
            },
            "type": "scatter"
           }
          ],
          "scatter3d": [
           {
            "line": {
             "colorbar": {
              "outlinewidth": 0,
              "ticks": ""
             }
            },
            "marker": {
             "colorbar": {
              "outlinewidth": 0,
              "ticks": ""
             }
            },
            "type": "scatter3d"
           }
          ],
          "scattercarpet": [
           {
            "marker": {
             "colorbar": {
              "outlinewidth": 0,
              "ticks": ""
             }
            },
            "type": "scattercarpet"
           }
          ],
          "scattergeo": [
           {
            "marker": {
             "colorbar": {
              "outlinewidth": 0,
              "ticks": ""
             }
            },
            "type": "scattergeo"
           }
          ],
          "scattergl": [
           {
            "marker": {
             "line": {
              "color": "#283442"
             }
            },
            "type": "scattergl"
           }
          ],
          "scattermapbox": [
           {
            "marker": {
             "colorbar": {
              "outlinewidth": 0,
              "ticks": ""
             }
            },
            "type": "scattermapbox"
           }
          ],
          "scatterpolar": [
           {
            "marker": {
             "colorbar": {
              "outlinewidth": 0,
              "ticks": ""
             }
            },
            "type": "scatterpolar"
           }
          ],
          "scatterpolargl": [
           {
            "marker": {
             "colorbar": {
              "outlinewidth": 0,
              "ticks": ""
             }
            },
            "type": "scatterpolargl"
           }
          ],
          "scatterternary": [
           {
            "marker": {
             "colorbar": {
              "outlinewidth": 0,
              "ticks": ""
             }
            },
            "type": "scatterternary"
           }
          ],
          "surface": [
           {
            "colorbar": {
             "outlinewidth": 0,
             "ticks": ""
            },
            "colorscale": [
             [
              0,
              "#0d0887"
             ],
             [
              0.1111111111111111,
              "#46039f"
             ],
             [
              0.2222222222222222,
              "#7201a8"
             ],
             [
              0.3333333333333333,
              "#9c179e"
             ],
             [
              0.4444444444444444,
              "#bd3786"
             ],
             [
              0.5555555555555556,
              "#d8576b"
             ],
             [
              0.6666666666666666,
              "#ed7953"
             ],
             [
              0.7777777777777778,
              "#fb9f3a"
             ],
             [
              0.8888888888888888,
              "#fdca26"
             ],
             [
              1,
              "#f0f921"
             ]
            ],
            "type": "surface"
           }
          ],
          "table": [
           {
            "cells": {
             "fill": {
              "color": "#506784"
             },
             "line": {
              "color": "rgb(17,17,17)"
             }
            },
            "header": {
             "fill": {
              "color": "#2a3f5f"
             },
             "line": {
              "color": "rgb(17,17,17)"
             }
            },
            "type": "table"
           }
          ]
         },
         "layout": {
          "annotationdefaults": {
           "arrowcolor": "#f2f5fa",
           "arrowhead": 0,
           "arrowwidth": 1
          },
          "autotypenumbers": "strict",
          "coloraxis": {
           "colorbar": {
            "outlinewidth": 0,
            "ticks": ""
           }
          },
          "colorscale": {
           "diverging": [
            [
             0,
             "#8e0152"
            ],
            [
             0.1,
             "#c51b7d"
            ],
            [
             0.2,
             "#de77ae"
            ],
            [
             0.3,
             "#f1b6da"
            ],
            [
             0.4,
             "#fde0ef"
            ],
            [
             0.5,
             "#f7f7f7"
            ],
            [
             0.6,
             "#e6f5d0"
            ],
            [
             0.7,
             "#b8e186"
            ],
            [
             0.8,
             "#7fbc41"
            ],
            [
             0.9,
             "#4d9221"
            ],
            [
             1,
             "#276419"
            ]
           ],
           "sequential": [
            [
             0,
             "#0d0887"
            ],
            [
             0.1111111111111111,
             "#46039f"
            ],
            [
             0.2222222222222222,
             "#7201a8"
            ],
            [
             0.3333333333333333,
             "#9c179e"
            ],
            [
             0.4444444444444444,
             "#bd3786"
            ],
            [
             0.5555555555555556,
             "#d8576b"
            ],
            [
             0.6666666666666666,
             "#ed7953"
            ],
            [
             0.7777777777777778,
             "#fb9f3a"
            ],
            [
             0.8888888888888888,
             "#fdca26"
            ],
            [
             1,
             "#f0f921"
            ]
           ],
           "sequentialminus": [
            [
             0,
             "#0d0887"
            ],
            [
             0.1111111111111111,
             "#46039f"
            ],
            [
             0.2222222222222222,
             "#7201a8"
            ],
            [
             0.3333333333333333,
             "#9c179e"
            ],
            [
             0.4444444444444444,
             "#bd3786"
            ],
            [
             0.5555555555555556,
             "#d8576b"
            ],
            [
             0.6666666666666666,
             "#ed7953"
            ],
            [
             0.7777777777777778,
             "#fb9f3a"
            ],
            [
             0.8888888888888888,
             "#fdca26"
            ],
            [
             1,
             "#f0f921"
            ]
           ]
          },
          "colorway": [
           "#636efa",
           "#EF553B",
           "#00cc96",
           "#ab63fa",
           "#FFA15A",
           "#19d3f3",
           "#FF6692",
           "#B6E880",
           "#FF97FF",
           "#FECB52"
          ],
          "font": {
           "color": "#f2f5fa"
          },
          "geo": {
           "bgcolor": "rgb(17,17,17)",
           "lakecolor": "rgb(17,17,17)",
           "landcolor": "rgb(17,17,17)",
           "showlakes": true,
           "showland": true,
           "subunitcolor": "#506784"
          },
          "hoverlabel": {
           "align": "left"
          },
          "hovermode": "closest",
          "mapbox": {
           "style": "dark"
          },
          "paper_bgcolor": "rgb(17,17,17)",
          "plot_bgcolor": "rgb(17,17,17)",
          "polar": {
           "angularaxis": {
            "gridcolor": "#506784",
            "linecolor": "#506784",
            "ticks": ""
           },
           "bgcolor": "rgb(17,17,17)",
           "radialaxis": {
            "gridcolor": "#506784",
            "linecolor": "#506784",
            "ticks": ""
           }
          },
          "scene": {
           "xaxis": {
            "backgroundcolor": "rgb(17,17,17)",
            "gridcolor": "#506784",
            "gridwidth": 2,
            "linecolor": "#506784",
            "showbackground": true,
            "ticks": "",
            "zerolinecolor": "#C8D4E3"
           },
           "yaxis": {
            "backgroundcolor": "rgb(17,17,17)",
            "gridcolor": "#506784",
            "gridwidth": 2,
            "linecolor": "#506784",
            "showbackground": true,
            "ticks": "",
            "zerolinecolor": "#C8D4E3"
           },
           "zaxis": {
            "backgroundcolor": "rgb(17,17,17)",
            "gridcolor": "#506784",
            "gridwidth": 2,
            "linecolor": "#506784",
            "showbackground": true,
            "ticks": "",
            "zerolinecolor": "#C8D4E3"
           }
          },
          "shapedefaults": {
           "line": {
            "color": "#f2f5fa"
           }
          },
          "sliderdefaults": {
           "bgcolor": "#C8D4E3",
           "bordercolor": "rgb(17,17,17)",
           "borderwidth": 1,
           "tickwidth": 0
          },
          "ternary": {
           "aaxis": {
            "gridcolor": "#506784",
            "linecolor": "#506784",
            "ticks": ""
           },
           "baxis": {
            "gridcolor": "#506784",
            "linecolor": "#506784",
            "ticks": ""
           },
           "bgcolor": "rgb(17,17,17)",
           "caxis": {
            "gridcolor": "#506784",
            "linecolor": "#506784",
            "ticks": ""
           }
          },
          "title": {
           "x": 0.05
          },
          "updatemenudefaults": {
           "bgcolor": "#506784",
           "borderwidth": 0
          },
          "xaxis": {
           "automargin": true,
           "gridcolor": "#283442",
           "linecolor": "#506784",
           "ticks": "",
           "title": {
            "standoff": 15
           },
           "zerolinecolor": "#283442",
           "zerolinewidth": 2
          },
          "yaxis": {
           "automargin": true,
           "gridcolor": "#283442",
           "linecolor": "#506784",
           "ticks": "",
           "title": {
            "standoff": 15
           },
           "zerolinecolor": "#283442",
           "zerolinewidth": 2
          }
         }
        },
        "title": {
         "text": "Weekly Performance vs Trading Volume"
        },
        "width": 1000,
        "xaxis": {
         "anchor": "y",
         "domain": [
          0,
          1
         ],
         "title": {
          "text": "Trading Volume (USDT)"
         },
         "type": "log"
        },
        "yaxis": {
         "anchor": "x",
         "domain": [
          0,
          1
         ],
         "title": {
          "text": "Weekly Return %"
         }
        }
       }
      }
     },
     "metadata": {},
     "output_type": "display_data"
    },
    {
     "data": {
      "application/vnd.plotly.v1+json": {
       "config": {
        "plotlyServerURL": "https://plot.ly"
       },
       "data": [
        {
         "mode": "lines+markers",
         "name": "1000000BOBUSDT",
         "type": "scatter",
         "x": [
          "2025-06-23",
          "2025-06-24",
          "2025-06-25",
          "2025-06-26",
          "2025-06-27",
          "2025-06-28",
          "2025-06-29"
         ],
         "y": [
          17.72509193449946,
          4.989057693521913,
          -1.6611193550864174,
          -9.1963186086005,
          2.0312527876616695,
          6.001239772330136,
          8.977729781977946
         ]
        },
        {
         "mode": "lines+markers",
         "name": "1000000MOGUSDT",
         "type": "scatter",
         "x": [
          "2025-06-23",
          "2025-06-24",
          "2025-06-25",
          "2025-06-26",
          "2025-06-27",
          "2025-06-28",
          "2025-06-29"
         ],
         "y": [
          22.92517727490863,
          23.952935550732676,
          24.820968649370048,
          19.044854529428626,
          18.30734622260097,
          22.805488451524013,
          24.553860204859742
         ]
        },
        {
         "mode": "lines+markers",
         "name": "1000BONKUSDT",
         "type": "scatter",
         "x": [
          "2025-06-23",
          "2025-06-24",
          "2025-06-25",
          "2025-06-26",
          "2025-06-27",
          "2025-06-28",
          "2025-06-29"
         ],
         "y": [
          13.30604333947433,
          15.089330979024458,
          11.847428411495606,
          7.141378410977037,
          9.01454496218786,
          18.89595919416066,
          16.855211798815795
         ]
        },
        {
         "mode": "lines+markers",
         "name": "1000CATUSDT",
         "type": "scatter",
         "x": [
          "2025-06-23",
          "2025-06-24",
          "2025-06-25",
          "2025-06-26",
          "2025-06-27",
          "2025-06-28",
          "2025-06-29"
         ],
         "y": [
          14.482066037355656,
          18.45774489801105,
          14.561248874654668,
          11.016492375566248,
          12.64333808099538,
          31.50018579282049,
          33.18312487035777
         ]
        },
        {
         "mode": "lines+markers",
         "name": "1000CHEEMSUSDT",
         "type": "scatter",
         "x": [
          "2025-06-23",
          "2025-06-24",
          "2025-06-25",
          "2025-06-26",
          "2025-06-27",
          "2025-06-28",
          "2025-06-29"
         ],
         "y": [
          2.8511521545225507,
          -3.733273273092921,
          -0.1287927751044231,
          6.137255168835902,
          9.111660747202473,
          8.243931169424915,
          7.747686921982679
         ]
        },
        {
         "mode": "lines+markers",
         "name": "1000FLOKIUSDT",
         "type": "scatter",
         "x": [
          "2025-06-23",
          "2025-06-24",
          "2025-06-25",
          "2025-06-26",
          "2025-06-27",
          "2025-06-28",
          "2025-06-29"
         ],
         "y": [
          12.346442489269984,
          15.228958842175407,
          11.020995809075007,
          8.258467864709589,
          9.962037801750924,
          14.675314865020873,
          16.11380172487076
         ]
        },
        {
         "mode": "lines+markers",
         "name": "1000LUNCUSDT",
         "type": "scatter",
         "x": [
          "2025-06-23",
          "2025-06-24",
          "2025-06-25",
          "2025-06-26",
          "2025-06-27",
          "2025-06-28",
          "2025-06-29"
         ],
         "y": [
          5.643665271153886,
          6.165765655987805,
          6.0040260214837415,
          4.828073980793117,
          5.643665271153883,
          6.50635933470619,
          6.4526584473510535
         ]
        },
        {
         "mode": "lines+markers",
         "name": "1000PEPEUSDT",
         "type": "scatter",
         "x": [
          "2025-06-23",
          "2025-06-24",
          "2025-06-25",
          "2025-06-26",
          "2025-06-27",
          "2025-06-28",
          "2025-06-29"
         ],
         "y": [
          10.975542994895603,
          12.529178607429646,
          6.412060691807129,
          3.158063745289935,
          3.3305001611782856,
          7.371734699144779,
          8.197728861894769
         ]
        },
        {
         "mode": "lines+markers",
         "name": "1000RATSUSDT",
         "type": "scatter",
         "x": [
          "2025-06-23",
          "2025-06-24",
          "2025-06-25",
          "2025-06-26",
          "2025-06-27",
          "2025-06-28",
          "2025-06-29"
         ],
         "y": [
          11.210958347019897,
          11.80093055973873,
          -3.050120135360995,
          -3.99949435458611,
          -6.848383609800133,
          -4.637455050990036,
          -3.207724580907597
         ]
        },
        {
         "mode": "lines+markers",
         "name": "1000SATSUSDT",
         "type": "scatter",
         "x": [
          "2025-06-23",
          "2025-06-24",
          "2025-06-25",
          "2025-06-26",
          "2025-06-27",
          "2025-06-28",
          "2025-06-29"
         ],
         "y": [
          11.74532747300647,
          13.575443911246936,
          9.881092392078504,
          9.34200752859085,
          9.07137136881657,
          12.271644477433943,
          12.79520588282846
         ]
        },
        {
         "mode": "lines+markers",
         "name": "1000000BOBUSDT",
         "type": "scatter",
         "x": [
          "2025-06-23",
          "2025-06-24",
          "2025-06-25",
          "2025-06-26",
          "2025-06-27",
          "2025-06-28",
          "2025-06-29"
         ],
         "y": [
          17.72509193449946,
          4.989057693521913,
          -1.6611193550864174,
          -9.1963186086005,
          2.0312527876616695,
          6.001239772330136,
          8.977729781977946
         ]
        },
        {
         "mode": "lines+markers",
         "name": "1000000MOGUSDT",
         "type": "scatter",
         "x": [
          "2025-06-23",
          "2025-06-24",
          "2025-06-25",
          "2025-06-26",
          "2025-06-27",
          "2025-06-28",
          "2025-06-29"
         ],
         "y": [
          22.92517727490863,
          23.952935550732676,
          24.820968649370048,
          19.044854529428626,
          18.30734622260097,
          22.805488451524013,
          24.553860204859742
         ]
        },
        {
         "mode": "lines+markers",
         "name": "1000BONKUSDT",
         "type": "scatter",
         "x": [
          "2025-06-23",
          "2025-06-24",
          "2025-06-25",
          "2025-06-26",
          "2025-06-27",
          "2025-06-28",
          "2025-06-29"
         ],
         "y": [
          13.30604333947433,
          15.089330979024458,
          11.847428411495606,
          7.141378410977037,
          9.01454496218786,
          18.89595919416066,
          16.855211798815795
         ]
        },
        {
         "mode": "lines+markers",
         "name": "1000CATUSDT",
         "type": "scatter",
         "x": [
          "2025-06-23",
          "2025-06-24",
          "2025-06-25",
          "2025-06-26",
          "2025-06-27",
          "2025-06-28",
          "2025-06-29"
         ],
         "y": [
          14.482066037355656,
          18.45774489801105,
          14.561248874654668,
          11.016492375566248,
          12.64333808099538,
          31.50018579282049,
          33.18312487035777
         ]
        },
        {
         "mode": "lines+markers",
         "name": "1000CHEEMSUSDT",
         "type": "scatter",
         "x": [
          "2025-06-23",
          "2025-06-24",
          "2025-06-25",
          "2025-06-26",
          "2025-06-27",
          "2025-06-28",
          "2025-06-29"
         ],
         "y": [
          2.8511521545225507,
          -3.733273273092921,
          -0.1287927751044231,
          6.137255168835902,
          9.111660747202473,
          8.243931169424915,
          7.747686921982679
         ]
        },
        {
         "mode": "lines+markers",
         "name": "1000FLOKIUSDT",
         "type": "scatter",
         "x": [
          "2025-06-23",
          "2025-06-24",
          "2025-06-25",
          "2025-06-26",
          "2025-06-27",
          "2025-06-28",
          "2025-06-29"
         ],
         "y": [
          12.346442489269984,
          15.228958842175407,
          11.020995809075007,
          8.258467864709589,
          9.962037801750924,
          14.675314865020873,
          16.11380172487076
         ]
        },
        {
         "mode": "lines+markers",
         "name": "1000LUNCUSDT",
         "type": "scatter",
         "x": [
          "2025-06-23",
          "2025-06-24",
          "2025-06-25",
          "2025-06-26",
          "2025-06-27",
          "2025-06-28",
          "2025-06-29"
         ],
         "y": [
          5.643665271153886,
          6.165765655987805,
          6.0040260214837415,
          4.828073980793117,
          5.643665271153883,
          6.50635933470619,
          6.4526584473510535
         ]
        },
        {
         "mode": "lines+markers",
         "name": "1000PEPEUSDT",
         "type": "scatter",
         "x": [
          "2025-06-23",
          "2025-06-24",
          "2025-06-25",
          "2025-06-26",
          "2025-06-27",
          "2025-06-28",
          "2025-06-29"
         ],
         "y": [
          10.975542994895603,
          12.529178607429646,
          6.412060691807129,
          3.158063745289935,
          3.3305001611782856,
          7.371734699144779,
          8.197728861894769
         ]
        },
        {
         "mode": "lines+markers",
         "name": "1000RATSUSDT",
         "type": "scatter",
         "x": [
          "2025-06-23",
          "2025-06-24",
          "2025-06-25",
          "2025-06-26",
          "2025-06-27",
          "2025-06-28",
          "2025-06-29"
         ],
         "y": [
          11.210958347019897,
          11.80093055973873,
          -3.050120135360995,
          -3.99949435458611,
          -6.848383609800133,
          -4.637455050990036,
          -3.207724580907597
         ]
        },
        {
         "mode": "lines+markers",
         "name": "1000SATSUSDT",
         "type": "scatter",
         "x": [
          "2025-06-23",
          "2025-06-24",
          "2025-06-25",
          "2025-06-26",
          "2025-06-27",
          "2025-06-28",
          "2025-06-29"
         ],
         "y": [
          11.74532747300647,
          13.575443911246936,
          9.881092392078504,
          9.34200752859085,
          9.07137136881657,
          12.271644477433943,
          12.79520588282846
         ]
        }
       ],
       "layout": {
        "height": 600,
        "hovermode": "x unified",
        "template": {
         "data": {
          "bar": [
           {
            "error_x": {
             "color": "#f2f5fa"
            },
            "error_y": {
             "color": "#f2f5fa"
            },
            "marker": {
             "line": {
              "color": "rgb(17,17,17)",
              "width": 0.5
             },
             "pattern": {
              "fillmode": "overlay",
              "size": 10,
              "solidity": 0.2
             }
            },
            "type": "bar"
           }
          ],
          "barpolar": [
           {
            "marker": {
             "line": {
              "color": "rgb(17,17,17)",
              "width": 0.5
             },
             "pattern": {
              "fillmode": "overlay",
              "size": 10,
              "solidity": 0.2
             }
            },
            "type": "barpolar"
           }
          ],
          "carpet": [
           {
            "aaxis": {
             "endlinecolor": "#A2B1C6",
             "gridcolor": "#506784",
             "linecolor": "#506784",
             "minorgridcolor": "#506784",
             "startlinecolor": "#A2B1C6"
            },
            "baxis": {
             "endlinecolor": "#A2B1C6",
             "gridcolor": "#506784",
             "linecolor": "#506784",
             "minorgridcolor": "#506784",
             "startlinecolor": "#A2B1C6"
            },
            "type": "carpet"
           }
          ],
          "choropleth": [
           {
            "colorbar": {
             "outlinewidth": 0,
             "ticks": ""
            },
            "type": "choropleth"
           }
          ],
          "contour": [
           {
            "colorbar": {
             "outlinewidth": 0,
             "ticks": ""
            },
            "colorscale": [
             [
              0,
              "#0d0887"
             ],
             [
              0.1111111111111111,
              "#46039f"
             ],
             [
              0.2222222222222222,
              "#7201a8"
             ],
             [
              0.3333333333333333,
              "#9c179e"
             ],
             [
              0.4444444444444444,
              "#bd3786"
             ],
             [
              0.5555555555555556,
              "#d8576b"
             ],
             [
              0.6666666666666666,
              "#ed7953"
             ],
             [
              0.7777777777777778,
              "#fb9f3a"
             ],
             [
              0.8888888888888888,
              "#fdca26"
             ],
             [
              1,
              "#f0f921"
             ]
            ],
            "type": "contour"
           }
          ],
          "contourcarpet": [
           {
            "colorbar": {
             "outlinewidth": 0,
             "ticks": ""
            },
            "type": "contourcarpet"
           }
          ],
          "heatmap": [
           {
            "colorbar": {
             "outlinewidth": 0,
             "ticks": ""
            },
            "colorscale": [
             [
              0,
              "#0d0887"
             ],
             [
              0.1111111111111111,
              "#46039f"
             ],
             [
              0.2222222222222222,
              "#7201a8"
             ],
             [
              0.3333333333333333,
              "#9c179e"
             ],
             [
              0.4444444444444444,
              "#bd3786"
             ],
             [
              0.5555555555555556,
              "#d8576b"
             ],
             [
              0.6666666666666666,
              "#ed7953"
             ],
             [
              0.7777777777777778,
              "#fb9f3a"
             ],
             [
              0.8888888888888888,
              "#fdca26"
             ],
             [
              1,
              "#f0f921"
             ]
            ],
            "type": "heatmap"
           }
          ],
          "heatmapgl": [
           {
            "colorbar": {
             "outlinewidth": 0,
             "ticks": ""
            },
            "colorscale": [
             [
              0,
              "#0d0887"
             ],
             [
              0.1111111111111111,
              "#46039f"
             ],
             [
              0.2222222222222222,
              "#7201a8"
             ],
             [
              0.3333333333333333,
              "#9c179e"
             ],
             [
              0.4444444444444444,
              "#bd3786"
             ],
             [
              0.5555555555555556,
              "#d8576b"
             ],
             [
              0.6666666666666666,
              "#ed7953"
             ],
             [
              0.7777777777777778,
              "#fb9f3a"
             ],
             [
              0.8888888888888888,
              "#fdca26"
             ],
             [
              1,
              "#f0f921"
             ]
            ],
            "type": "heatmapgl"
           }
          ],
          "histogram": [
           {
            "marker": {
             "pattern": {
              "fillmode": "overlay",
              "size": 10,
              "solidity": 0.2
             }
            },
            "type": "histogram"
           }
          ],
          "histogram2d": [
           {
            "colorbar": {
             "outlinewidth": 0,
             "ticks": ""
            },
            "colorscale": [
             [
              0,
              "#0d0887"
             ],
             [
              0.1111111111111111,
              "#46039f"
             ],
             [
              0.2222222222222222,
              "#7201a8"
             ],
             [
              0.3333333333333333,
              "#9c179e"
             ],
             [
              0.4444444444444444,
              "#bd3786"
             ],
             [
              0.5555555555555556,
              "#d8576b"
             ],
             [
              0.6666666666666666,
              "#ed7953"
             ],
             [
              0.7777777777777778,
              "#fb9f3a"
             ],
             [
              0.8888888888888888,
              "#fdca26"
             ],
             [
              1,
              "#f0f921"
             ]
            ],
            "type": "histogram2d"
           }
          ],
          "histogram2dcontour": [
           {
            "colorbar": {
             "outlinewidth": 0,
             "ticks": ""
            },
            "colorscale": [
             [
              0,
              "#0d0887"
             ],
             [
              0.1111111111111111,
              "#46039f"
             ],
             [
              0.2222222222222222,
              "#7201a8"
             ],
             [
              0.3333333333333333,
              "#9c179e"
             ],
             [
              0.4444444444444444,
              "#bd3786"
             ],
             [
              0.5555555555555556,
              "#d8576b"
             ],
             [
              0.6666666666666666,
              "#ed7953"
             ],
             [
              0.7777777777777778,
              "#fb9f3a"
             ],
             [
              0.8888888888888888,
              "#fdca26"
             ],
             [
              1,
              "#f0f921"
             ]
            ],
            "type": "histogram2dcontour"
           }
          ],
          "mesh3d": [
           {
            "colorbar": {
             "outlinewidth": 0,
             "ticks": ""
            },
            "type": "mesh3d"
           }
          ],
          "parcoords": [
           {
            "line": {
             "colorbar": {
              "outlinewidth": 0,
              "ticks": ""
             }
            },
            "type": "parcoords"
           }
          ],
          "pie": [
           {
            "automargin": true,
            "type": "pie"
           }
          ],
          "scatter": [
           {
            "marker": {
             "line": {
              "color": "#283442"
             }
            },
            "type": "scatter"
           }
          ],
          "scatter3d": [
           {
            "line": {
             "colorbar": {
              "outlinewidth": 0,
              "ticks": ""
             }
            },
            "marker": {
             "colorbar": {
              "outlinewidth": 0,
              "ticks": ""
             }
            },
            "type": "scatter3d"
           }
          ],
          "scattercarpet": [
           {
            "marker": {
             "colorbar": {
              "outlinewidth": 0,
              "ticks": ""
             }
            },
            "type": "scattercarpet"
           }
          ],
          "scattergeo": [
           {
            "marker": {
             "colorbar": {
              "outlinewidth": 0,
              "ticks": ""
             }
            },
            "type": "scattergeo"
           }
          ],
          "scattergl": [
           {
            "marker": {
             "line": {
              "color": "#283442"
             }
            },
            "type": "scattergl"
           }
          ],
          "scattermapbox": [
           {
            "marker": {
             "colorbar": {
              "outlinewidth": 0,
              "ticks": ""
             }
            },
            "type": "scattermapbox"
           }
          ],
          "scatterpolar": [
           {
            "marker": {
             "colorbar": {
              "outlinewidth": 0,
              "ticks": ""
             }
            },
            "type": "scatterpolar"
           }
          ],
          "scatterpolargl": [
           {
            "marker": {
             "colorbar": {
              "outlinewidth": 0,
              "ticks": ""
             }
            },
            "type": "scatterpolargl"
           }
          ],
          "scatterternary": [
           {
            "marker": {
             "colorbar": {
              "outlinewidth": 0,
              "ticks": ""
             }
            },
            "type": "scatterternary"
           }
          ],
          "surface": [
           {
            "colorbar": {
             "outlinewidth": 0,
             "ticks": ""
            },
            "colorscale": [
             [
              0,
              "#0d0887"
             ],
             [
              0.1111111111111111,
              "#46039f"
             ],
             [
              0.2222222222222222,
              "#7201a8"
             ],
             [
              0.3333333333333333,
              "#9c179e"
             ],
             [
              0.4444444444444444,
              "#bd3786"
             ],
             [
              0.5555555555555556,
              "#d8576b"
             ],
             [
              0.6666666666666666,
              "#ed7953"
             ],
             [
              0.7777777777777778,
              "#fb9f3a"
             ],
             [
              0.8888888888888888,
              "#fdca26"
             ],
             [
              1,
              "#f0f921"
             ]
            ],
            "type": "surface"
           }
          ],
          "table": [
           {
            "cells": {
             "fill": {
              "color": "#506784"
             },
             "line": {
              "color": "rgb(17,17,17)"
             }
            },
            "header": {
             "fill": {
              "color": "#2a3f5f"
             },
             "line": {
              "color": "rgb(17,17,17)"
             }
            },
            "type": "table"
           }
          ]
         },
         "layout": {
          "annotationdefaults": {
           "arrowcolor": "#f2f5fa",
           "arrowhead": 0,
           "arrowwidth": 1
          },
          "autotypenumbers": "strict",
          "coloraxis": {
           "colorbar": {
            "outlinewidth": 0,
            "ticks": ""
           }
          },
          "colorscale": {
           "diverging": [
            [
             0,
             "#8e0152"
            ],
            [
             0.1,
             "#c51b7d"
            ],
            [
             0.2,
             "#de77ae"
            ],
            [
             0.3,
             "#f1b6da"
            ],
            [
             0.4,
             "#fde0ef"
            ],
            [
             0.5,
             "#f7f7f7"
            ],
            [
             0.6,
             "#e6f5d0"
            ],
            [
             0.7,
             "#b8e186"
            ],
            [
             0.8,
             "#7fbc41"
            ],
            [
             0.9,
             "#4d9221"
            ],
            [
             1,
             "#276419"
            ]
           ],
           "sequential": [
            [
             0,
             "#0d0887"
            ],
            [
             0.1111111111111111,
             "#46039f"
            ],
            [
             0.2222222222222222,
             "#7201a8"
            ],
            [
             0.3333333333333333,
             "#9c179e"
            ],
            [
             0.4444444444444444,
             "#bd3786"
            ],
            [
             0.5555555555555556,
             "#d8576b"
            ],
            [
             0.6666666666666666,
             "#ed7953"
            ],
            [
             0.7777777777777778,
             "#fb9f3a"
            ],
            [
             0.8888888888888888,
             "#fdca26"
            ],
            [
             1,
             "#f0f921"
            ]
           ],
           "sequentialminus": [
            [
             0,
             "#0d0887"
            ],
            [
             0.1111111111111111,
             "#46039f"
            ],
            [
             0.2222222222222222,
             "#7201a8"
            ],
            [
             0.3333333333333333,
             "#9c179e"
            ],
            [
             0.4444444444444444,
             "#bd3786"
            ],
            [
             0.5555555555555556,
             "#d8576b"
            ],
            [
             0.6666666666666666,
             "#ed7953"
            ],
            [
             0.7777777777777778,
             "#fb9f3a"
            ],
            [
             0.8888888888888888,
             "#fdca26"
            ],
            [
             1,
             "#f0f921"
            ]
           ]
          },
          "colorway": [
           "#636efa",
           "#EF553B",
           "#00cc96",
           "#ab63fa",
           "#FFA15A",
           "#19d3f3",
           "#FF6692",
           "#B6E880",
           "#FF97FF",
           "#FECB52"
          ],
          "font": {
           "color": "#f2f5fa"
          },
          "geo": {
           "bgcolor": "rgb(17,17,17)",
           "lakecolor": "rgb(17,17,17)",
           "landcolor": "rgb(17,17,17)",
           "showlakes": true,
           "showland": true,
           "subunitcolor": "#506784"
          },
          "hoverlabel": {
           "align": "left"
          },
          "hovermode": "closest",
          "mapbox": {
           "style": "dark"
          },
          "paper_bgcolor": "rgb(17,17,17)",
          "plot_bgcolor": "rgb(17,17,17)",
          "polar": {
           "angularaxis": {
            "gridcolor": "#506784",
            "linecolor": "#506784",
            "ticks": ""
           },
           "bgcolor": "rgb(17,17,17)",
           "radialaxis": {
            "gridcolor": "#506784",
            "linecolor": "#506784",
            "ticks": ""
           }
          },
          "scene": {
           "xaxis": {
            "backgroundcolor": "rgb(17,17,17)",
            "gridcolor": "#506784",
            "gridwidth": 2,
            "linecolor": "#506784",
            "showbackground": true,
            "ticks": "",
            "zerolinecolor": "#C8D4E3"
           },
           "yaxis": {
            "backgroundcolor": "rgb(17,17,17)",
            "gridcolor": "#506784",
            "gridwidth": 2,
            "linecolor": "#506784",
            "showbackground": true,
            "ticks": "",
            "zerolinecolor": "#C8D4E3"
           },
           "zaxis": {
            "backgroundcolor": "rgb(17,17,17)",
            "gridcolor": "#506784",
            "gridwidth": 2,
            "linecolor": "#506784",
            "showbackground": true,
            "ticks": "",
            "zerolinecolor": "#C8D4E3"
           }
          },
          "shapedefaults": {
           "line": {
            "color": "#f2f5fa"
           }
          },
          "sliderdefaults": {
           "bgcolor": "#C8D4E3",
           "bordercolor": "rgb(17,17,17)",
           "borderwidth": 1,
           "tickwidth": 0
          },
          "ternary": {
           "aaxis": {
            "gridcolor": "#506784",
            "linecolor": "#506784",
            "ticks": ""
           },
           "baxis": {
            "gridcolor": "#506784",
            "linecolor": "#506784",
            "ticks": ""
           },
           "bgcolor": "rgb(17,17,17)",
           "caxis": {
            "gridcolor": "#506784",
            "linecolor": "#506784",
            "ticks": ""
           }
          },
          "title": {
           "x": 0.05
          },
          "updatemenudefaults": {
           "bgcolor": "#506784",
           "borderwidth": 0
          },
          "xaxis": {
           "automargin": true,
           "gridcolor": "#283442",
           "linecolor": "#506784",
           "ticks": "",
           "title": {
            "standoff": 15
           },
           "zerolinecolor": "#283442",
           "zerolinewidth": 2
          },
          "yaxis": {
           "automargin": true,
           "gridcolor": "#283442",
           "linecolor": "#506784",
           "ticks": "",
           "title": {
            "standoff": 15
           },
           "zerolinecolor": "#283442",
           "zerolinewidth": 2
          }
         }
        },
        "title": {
         "text": "Cumulative Returns of Top Performers"
        },
        "width": 1000,
        "xaxis": {
         "title": {
          "text": "Date"
         }
        },
        "yaxis": {
         "title": {
          "text": "Cumulative Return %"
         }
        }
       }
      }
     },
     "metadata": {},
     "output_type": "display_data"
    }
   ],
   "source": [
    "\n",
    "\n",
    "# 2. Top Movers Dashboard\n",
    "def create_movers_figure(date):\n",
    "    gainers = sorted(daily_metrics[date]['gainers'], key=lambda x: x[1], reverse=True)[:10]\n",
    "    losers = sorted(daily_metrics[date]['losers'], key=lambda x: x[1])[:10]\n",
    "    \n",
    "    fig = make_subplots(rows=1, cols=2, subplot_titles=(f\"Top Gainers - {date}\", f\"Top Losers - {date}\"))\n",
    "    \n",
    "    fig.add_trace(go.Bar(\n",
    "        x=[x[0] for x in gainers],\n",
    "        y=[x[1] for x in gainers],\n",
    "        marker_color='green',\n",
    "        name='Gainers'\n",
    "    ), row=1, col=1)\n",
    "    \n",
    "    fig.add_trace(go.Bar(\n",
    "        x=[x[0] for x in losers],\n",
    "        y=[x[1] for x in losers],\n",
    "        marker_color='red',\n",
    "        name='Losers'\n",
    "    ), row=1, col=2)\n",
    "    \n",
    "    fig.update_layout(\n",
    "        showlegend=False,\n",
    "        height=500,\n",
    "        template=\"plotly_dark\",\n",
    "        yaxis=dict(title=\"Return %\"),\n",
    "        yaxis2=dict(title=\"Return %\")\n",
    "    )\n",
    "    \n",
    "    return fig\n",
    "\n",
    "# Display movers for each day\n",
    "for date in date_list[-3:]:  # Show last 3 days for brevity\n",
    "    create_movers_figure(date).show()\n",
    "\n",
    "\n",
    "# 4. Weekly Performance Scatter Plot\n",
    "weekly_df = pd.DataFrame({\n",
    "    'Symbol': [x[0] for x in weekly_gainers],\n",
    "    'Return': [x[1] for x in weekly_gainers],\n",
    "    'Volume': [sum(volume_data.get(x[0], [0])) for x in weekly_gainers]\n",
    "})\n",
    "\n",
    "fig_scatter = px.scatter(\n",
    "    weekly_df,\n",
    "    x='Volume',\n",
    "    y='Return',\n",
    "    color='Return',\n",
    "    size='Volume',\n",
    "    hover_name='Symbol',\n",
    "    log_x=True,\n",
    "    title='Weekly Performance vs Trading Volume',\n",
    "    labels={'Return': 'Weekly Return %', 'Volume': 'Trading Volume (USDT)'},\n",
    "    color_continuous_scale='RdYlGn'\n",
    ")\n",
    "\n",
    "fig_scatter.update_layout(\n",
    "    height=600,\n",
    "    width=1000,\n",
    "    template=\"plotly_dark\",\n",
    "    hovermode='closest'\n",
    ")\n",
    "fig_scatter.show()\n",
    "\n",
    "# 5. Cumulative Returns Line Chart\n",
    "top_symbols = [x[0] for x in weekly_gainers[:10]] + [x[0] for x in weekly_losers[:10]]\n",
    "\n",
    "fig_lines = go.Figure()\n",
    "for symbol in top_symbols:\n",
    "    fig_lines.add_trace(go.Scatter(\n",
    "        x=date_list,\n",
    "        y=np.cumsum(returns_data.get(symbol, [0]*7)),\n",
    "        name=symbol,\n",
    "        mode='lines+markers'\n",
    "    ))\n",
    "\n",
    "fig_lines.update_layout(\n",
    "    title='Cumulative Returns of Top Performers',\n",
    "    yaxis=dict(title='Cumulative Return %'),\n",
    "    xaxis=dict(title='Date'),\n",
    "    height=600,\n",
    "    width=1000,\n",
    "    template=\"plotly_dark\",\n",
    "    hovermode='x unified'\n",
    ")\n",
    "fig_lines.show()"
   ]
  },
  {
   "cell_type": "code",
   "execution_count": 11,
   "id": "e0704144",
   "metadata": {},
   "outputs": [
    {
     "data": {
      "application/vnd.plotly.v1+json": {
       "config": {
        "plotlyServerURL": "https://plot.ly"
       },
       "data": [
        {
         "branchvalues": "total",
         "customdata": [
          [
           -16.243802007582875,
           127247649.70709631,
           "Negative"
          ],
          [
           -0.023818626278281303,
           34245404.113702,
           "Negative"
          ],
          [
           -2.8955252252028947,
           82838005.54029,
           "Negative"
          ],
          [
           -0.8748134759846722,
           43010760.499409996,
           "Negative"
          ],
          [
           -5.509868087693815,
           18675815.72632,
           "Negative"
          ],
          [
           -4.738338715409637,
           45976097.38087001,
           "Negative"
          ],
          [
           -3.953479583812932,
           88048354.40105999,
           "Negative"
          ],
          [
           -2.303557040182381,
           22846713.7575,
           "Negative"
          ],
          [
           -7.744096361655116,
           35345005.9616,
           "Negative"
          ],
          [
           -3.5498752956093806,
           397506281.78134,
           "Negative"
          ],
          [
           -1.5453258134341938,
           226258203.04888,
           "Negative"
          ],
          [
           -0.38192280669955103,
           31334916.0667,
           "Negative"
          ],
          [
           -6.941909449621841,
           37543763.656495005,
           "Negative"
          ],
          [
           -2.3283237542358917,
           80351841.66660002,
           "Negative"
          ],
          [
           -1.5577987026436693,
           58636055.72707,
           "Negative"
          ],
          [
           -7.52612965692164,
           14186507.624390002,
           "Negative"
          ],
          [
           -2.011409966451027,
           94837791.81436999,
           "Negative"
          ],
          [
           -0.6675592213783985,
           39870301.8162,
           "Negative"
          ],
          [
           -14.59152510855059,
           92433721.62394,
           "Negative"
          ],
          [
           -2.8623245517095395,
           245065291.62038,
           "Negative"
          ],
          [
           -3.8027395589239497,
           697267582.6363,
           "Negative"
          ],
          [
           -17.691189348363096,
           33599692.650589995,
           "Negative"
          ],
          [
           -0.2789402087578605,
           180570977.45364,
           "Negative"
          ],
          [
           -24.305886101515103,
           172598250.6603,
           "Negative"
          ],
          [
           -0.05945303385585943,
           60520300.855390005,
           "Negative"
          ],
          [
           -18.071791160982446,
           871149396.6302001,
           "Negative"
          ],
          [
           -1.9512814223581838,
           163204572.64186502,
           "Negative"
          ],
          [
           -12.378185388563692,
           452423325.4484999,
           "Negative"
          ],
          [
           -9.267768780951744,
           403251140.85919005,
           "Negative"
          ],
          [
           -1.033219523720525,
           21754501.75896,
           "Negative"
          ],
          [
           -4.066825480129593,
           215472842.80489,
           "Negative"
          ],
          [
           -15.844672236503529,
           335286907.60455996,
           "Negative"
          ],
          [
           -3.207724580907597,
           38427647.16792,
           "Negative"
          ],
          [
           -0.8167477765947941,
           228193583.56958997,
           "Negative"
          ],
          [
           -8.985632912186103,
           81352189.15885,
           "Negative"
          ],
          [
           -1.0663461241892325,
           49304113.172570005,
           "Negative"
          ],
          [
           7.716896295827259,
           919587585.6249499,
           "Positive"
          ],
          [
           3.990072365833504,
           133204657.94221,
           "Positive"
          ],
          [
           11.778303565638323,
           12800934.463280002,
           "Positive"
          ],
          [
           12.122360427797927,
           741774542.5670501,
           "Positive"
          ],
          [
           12.637674781750494,
           37544563.56347,
           "Positive"
          ],
          [
           8.81152517015683,
           17501262.58168,
           "Positive"
          ],
          [
           13.138949086856655,
           14218463.216799999,
           "Positive"
          ],
          [
           14.269446346643301,
           14840851.05167,
           "Positive"
          ],
          [
           10.386014028259178,
           24527110.1143,
           "Positive"
          ],
          [
           12.294091981728847,
           203908589.39312,
           "Positive"
          ],
          [
           51.7789358015226,
           1944546479.189733,
           "Positive"
          ],
          [
           9.09079548687018,
           233707454.4722,
           "Positive"
          ],
          [
           8.536445193250781,
           61920408.706499994,
           "Positive"
          ],
          [
           4.443480522703156,
           12784993.68245,
           "Positive"
          ],
          [
           6.689020581304986,
           32161510.61193,
           "Positive"
          ],
          [
           9.270432039336413,
           22419009.23314,
           "Positive"
          ],
          [
           7.386184859845495,
           9065894.246599998,
           "Positive"
          ],
          [
           15.392951428394834,
           486410063.7626,
           "Positive"
          ],
          [
           9.745533615071297,
           8640194.12059,
           "Positive"
          ],
          [
           15.34102132995344,
           19889252.555,
           "Positive"
          ],
          [
           8.16465572555107,
           14272627.616740001,
           "Positive"
          ],
          [
           14.380094688036133,
           129090767.4316,
           "Positive"
          ],
          [
           18.171128902003694,
           294012837.71088,
           "Positive"
          ],
          [
           15.975634890558965,
           16529757.842300002,
           "Positive"
          ],
          [
           18.20472459981048,
           796320850.7654,
           "Positive"
          ],
          [
           9.145582875005397,
           34984603.064500004,
           "Positive"
          ],
          [
           18.921140222400737,
           52800736.067999996,
           "Positive"
          ],
          [
           17.44516624138855,
           119766432.35993999,
           "Positive"
          ],
          [
           7.600469743612818,
           18257927.4795,
           "Positive"
          ],
          [
           12.210939115989826,
           20295583.97775,
           "Positive"
          ],
          [
           7.633927868178554,
           14117324.547980001,
           "Positive"
          ],
          [
           29.34469591636717,
           517201853.40959,
           "Positive"
          ],
          [
           12.041856224212108,
           189254672.7637,
           "Positive"
          ],
          [
           10.752104836610046,
           20147182.176469997,
           "Positive"
          ],
          [
           12.468086660031318,
           18335947.5721,
           "Positive"
          ],
          [
           8.808993183083738,
           12295670.7228,
           "Positive"
          ],
          [
           6.66116092364016,
           56485178.421628006,
           "Positive"
          ],
          [
           22.285797107442118,
           31273025.66438,
           "Positive"
          ],
          [
           12.357156901669944,
           254575904.1545,
           "Positive"
          ],
          [
           0.543972329581832,
           27867260.75925,
           "Positive"
          ],
          [
           16.2930367479304,
           824960432.17503,
           "Positive"
          ],
          [
           19.064799957050845,
           23735641.602110002,
           "Positive"
          ],
          [
           23.053339755934413,
           268467477.66179997,
           "Positive"
          ],
          [
           14.272946667190537,
           14796883.67689,
           "Positive"
          ],
          [
           9.36564570756125,
           10457577.447700001,
           "Positive"
          ],
          [
           9.84147739706733,
           13219010.970989998,
           "Positive"
          ],
          [
           45.20630205298541,
           1844803879.5178003,
           "Positive"
          ],
          [
           17.185931100212475,
           30045002.04131,
           "Positive"
          ],
          [
           20.105602135061844,
           38900606.681049995,
           "Positive"
          ],
          [
           14.394443592650928,
           681020322.1909399,
           "Positive"
          ],
          [
           14.14238138046882,
           90046697.66723998,
           "Positive"
          ],
          [
           2.978389879894505,
           8575072.59628,
           "Positive"
          ],
          [
           12.609710706092159,
           497456647.9716,
           "Positive"
          ],
          [
           11.612543735244548,
           58477971.9335,
           "Positive"
          ],
          [
           6.961498842528718,
           247234616.64918002,
           "Positive"
          ],
          [
           15.260408049023772,
           68575083.82090701,
           "Positive"
          ],
          [
           9.62101348673157,
           41163406.17688999,
           "Positive"
          ],
          [
           8.526465165468823,
           18373294.1418,
           "Positive"
          ],
          [
           15.681450665552447,
           20969599.104150005,
           "Positive"
          ],
          [
           18.06886983014077,
           77324158.15976399,
           "Positive"
          ],
          [
           55.77211091852902,
           1213111669.69619,
           "Positive"
          ],
          [
           13.13522389903592,
           803355866.749,
           "Positive"
          ],
          [
           9.458091322508157,
           691845972.2598387,
           "Positive"
          ],
          [
           0.8752791109594562,
           11810002.906100001,
           "Positive"
          ],
          [
           7.804446486074086,
           8304612.325300001,
           "Positive"
          ],
          [
           14.64441581882458,
           42074990.1348,
           "Positive"
          ],
          [
           13.073856279155775,
           624183540.3498201,
           "Positive"
          ],
          [
           6.102199913141948,
           74372418.3416,
           "Positive"
          ],
          [
           5.083999701300071,
           296993999.742815,
           "Positive"
          ],
          [
           3.249148710786211,
           36712851.86858,
           "Positive"
          ],
          [
           0.25068952712716863,
           12286891.2347,
           "Positive"
          ],
          [
           20.353954988879966,
           75142977.8545,
           "Positive"
          ],
          [
           13.375974657413526,
           52148785.69529,
           "Positive"
          ],
          [
           8.571351827402978,
           32566488.6773,
           "Positive"
          ],
          [
           4.2055960132026815,
           303944424.12841,
           "Positive"
          ],
          [
           15.317978115879336,
           236257730.8379,
           "Positive"
          ],
          [
           6.409516045640021,
           82408927.37494001,
           "Positive"
          ],
          [
           7.0350470034635775,
           17432456.993800003,
           "Positive"
          ],
          [
           6.546563379362213,
           27411162.677270003,
           "Positive"
          ],
          [
           14.304826602295329,
           37307046.08312,
           "Positive"
          ],
          [
           11.193206204286932,
           10522957.940661998,
           "Positive"
          ],
          [
           21.759508160779205,
           2265773029.9114,
           "Positive"
          ],
          [
           9.759208672926718,
           75601414.24688,
           "Positive"
          ],
          [
           8.084034670442,
           182608251.1818,
           "Positive"
          ],
          [
           11.57918530898058,
           10683473.530199999,
           "Positive"
          ],
          [
           10.693189833547068,
           16812313.57538,
           "Positive"
          ],
          [
           8.977729781977946,
           144906080.29411995,
           "Positive"
          ],
          [
           11.75473033528943,
           9423477.618309999,
           "Positive"
          ],
          [
           13.881079934666614,
           1374858643.6089501,
           "Positive"
          ],
          [
           12.884153138860198,
           76856671.54986,
           "Positive"
          ],
          [
           13.024352366543619,
           9554674.4712,
           "Positive"
          ],
          [
           8.982553248582379,
           87458943.330828,
           "Positive"
          ],
          [
           10.774097250420859,
           8950719.85962,
           "Positive"
          ],
          [
           10.061174205431424,
           29927975.11203,
           "Positive"
          ],
          [
           10.72620740454882,
           56973327.87008001,
           "Positive"
          ],
          [
           10.55679630188025,
           56981881.0235,
           "Positive"
          ],
          [
           4.050397893481115,
           106666068.4546,
           "Positive"
          ],
          [
           8.731634137650964,
           36857845.304459,
           "Positive"
          ],
          [
           8.191968716559234,
           38685004.35951,
           "Positive"
          ],
          [
           14.016508130368205,
           1821465418.756,
           "Positive"
          ],
          [
           3.2939310826857096,
           13292904.548799999,
           "Positive"
          ],
          [
           44.59510828306372,
           396143049.65143,
           "Positive"
          ],
          [
           0.5197817073616706,
           268472305.18008995,
           "Positive"
          ],
          [
           17.31581075866696,
           192600708.1363665,
           "Positive"
          ],
          [
           4.63214139627048,
           551049895.0495299,
           "Positive"
          ],
          [
           9.120613489768283,
           18550060.60064,
           "Positive"
          ],
          [
           3.7553597714176576,
           1415968045.5930502,
           "Positive"
          ],
          [
           7.524289777054178,
           327065314.9334,
           "Positive"
          ],
          [
           5.1577136884340185,
           239761217.36110002,
           "Positive"
          ],
          [
           11.499674240770043,
           17852939.62193,
           "Positive"
          ],
          [
           6.613980250454504,
           51054558.482,
           "Positive"
          ],
          [
           14.050006194061599,
           22621565.08189,
           "Positive"
          ],
          [
           10.096286940842523,
           8483533.786857,
           "Positive"
          ],
          [
           5.044816439851986,
           58513208.25760001,
           "Positive"
          ],
          [
           20.65419886877435,
           98006017.85055,
           "Positive"
          ],
          [
           8.33816089390508,
           37221621.5458,
           "Positive"
          ],
          [
           10.654657029294695,
           19895159.922300003,
           "Positive"
          ],
          [
           9.31641123184678,
           55632540.95901,
           "Positive"
          ],
          [
           8.812122823873787,
           75198535.86410001,
           "Positive"
          ],
          [
           3.171594954674963,
           32426654.067309998,
           "Positive"
          ],
          [
           12.144665340945057,
           29429505.8759,
           "Positive"
          ],
          [
           8.306348398204493,
           34740881.508,
           "Positive"
          ],
          [
           9.734122649120657,
           11085490.121600002,
           "Positive"
          ],
          [
           16.351643581490034,
           29914156.9708504,
           "Positive"
          ],
          [
           14.474166335988594,
           35070318.507570006,
           "Positive"
          ],
          [
           7.770898432731644,
           76962561.9596,
           "Positive"
          ],
          [
           4.1535953520043964,
           143900415.78528,
           "Positive"
          ],
          [
           2.8288721767659757,
           286429452.75236,
           "Positive"
          ],
          [
           15.704374960968627,
           74631767.06011999,
           "Positive"
          ],
          [
           13.400224806675478,
           57687362.14167,
           "Positive"
          ],
          [
           33.562703966643205,
           571290045.989955,
           "Positive"
          ],
          [
           15.880150210283555,
           17589037.8688,
           "Positive"
          ],
          [
           8.729324294410203,
           749944766.0152001,
           "Positive"
          ],
          [
           18.722571824102246,
           2475139070.12929,
           "Positive"
          ],
          [
           6.705008483337613,
           230708371.1471,
           "Positive"
          ],
          [
           6.483992265690706,
           11708359.6653,
           "Positive"
          ],
          [
           7.890112670826485,
           8490191795.28509,
           "Positive"
          ],
          [
           13.458411366579625,
           12904707.335712,
           "Positive"
          ],
          [
           4.50007913155779,
           694474114.1515999,
           "Positive"
          ],
          [
           11.930917101554495,
           41594992.17945,
           "Positive"
          ],
          [
           4.9792168261283365,
           20739544.80322,
           "Positive"
          ],
          [
           13.68114827815832,
           20476369106.851303,
           "Positive"
          ],
          [
           15.527934811863275,
           85469705.20879999,
           "Positive"
          ],
          [
           13.101679951179406,
           5544228.85685,
           "Positive"
          ],
          [
           14.337403036549759,
           39079656.897819996,
           "Positive"
          ],
          [
           10.397484805652814,
           13855030.83672,
           "Positive"
          ],
          [
           18.674012192620438,
           125404611.14328,
           "Positive"
          ],
          [
           2.491593318624374,
           108417103.18933001,
           "Positive"
          ],
          [
           19.302957106642666,
           59977736.9605,
           "Positive"
          ],
          [
           40.613355733091524,
           3609825783.4281006,
           "Positive"
          ],
          [
           11.53319571412532,
           203142997.01860002,
           "Positive"
          ],
          [
           16.054631606366335,
           14678610.587399999,
           "Positive"
          ],
          [
           8.61722644252778,
           5584886.586100001,
           "Positive"
          ],
          [
           2.6730583343241245,
           137250165.5323,
           "Positive"
          ],
          [
           12.357852240804934,
           59286068.43789,
           "Positive"
          ],
          [
           12.74803031212845,
           14284234.353799999,
           "Positive"
          ],
          [
           19.88066705920017,
           125200587.3396,
           "Positive"
          ],
          [
           21.777070748818335,
           88733331.46223299,
           "Positive"
          ],
          [
           6.45515854335037,
           34246631.329299994,
           "Positive"
          ],
          [
           12.863381370161877,
           47292582.63081,
           "Positive"
          ],
          [
           7.056771331356775,
           12336391.95127,
           "Positive"
          ],
          [
           14.371445352677265,
           19819196.74295,
           "Positive"
          ],
          [
           10.024971236042143,
           7950963.3059,
           "Positive"
          ],
          [
           2.5532020652548484,
           179044785.56029,
           "Positive"
          ],
          [
           9.528838405231589,
           17339040.511727102,
           "Positive"
          ],
          [
           3.59492341229293,
           818079902.89923,
           "Positive"
          ],
          [
           12.873552169553463,
           74949035.94196999,
           "Positive"
          ],
          [
           10.817575910420906,
           910968717.8744501,
           "Positive"
          ],
          [
           4.9915433194341965,
           21475104.507600002,
           "Positive"
          ],
          [
           12.627130555902598,
           8963588.085579999,
           "Positive"
          ],
          [
           31.949450896873863,
           905268781.0980102,
           "Positive"
          ],
          [
           12.532536211244423,
           84878512.82073,
           "Positive"
          ],
          [
           4.663128128173922,
           32523426.577220004,
           "Positive"
          ],
          [
           13.588120180475348,
           26553880.3454,
           "Positive"
          ],
          [
           7.859404743067845,
           55236103.73883,
           "Positive"
          ],
          [
           12.3462228988745,
           110746974.3134,
           "Positive"
          ],
          [
           17.87329232325944,
           352021000.2455,
           "Positive"
          ],
          [
           26.56309562203555,
           61004881.2707,
           "Positive"
          ],
          [
           2.09341470673064,
           10449118.461565,
           "Positive"
          ],
          [
           13.176826903790923,
           4615178572.42217,
           "Positive"
          ],
          [
           18.02636667463627,
           186454701.4449,
           "Positive"
          ],
          [
           14.107859825990532,
           110651011.26098,
           "Positive"
          ],
          [
           12.52092418361164,
           40361171.91235,
           "Positive"
          ],
          [
           10.079233566093814,
           23444134.1422,
           "Positive"
          ],
          [
           5.2011722088179795,
           13296312.6661,
           "Positive"
          ],
          [
           11.40114270872352,
           9539683.44392,
           "Positive"
          ],
          [
           6.553458721615087,
           59353851.57724,
           "Positive"
          ],
          [
           16.18753530192057,
           99429941.23804998,
           "Positive"
          ],
          [
           17.965209196151772,
           942806597.7456001,
           "Positive"
          ],
          [
           14.445128273854483,
           45068004.19553,
           "Positive"
          ],
          [
           7.4395254180461245,
           98399902.84599999,
           "Positive"
          ],
          [
           10.546071103890316,
           52114318.087000005,
           "Positive"
          ],
          [
           11.233491539759864,
           378557072.9676,
           "Positive"
          ],
          [
           10.076901950394362,
           40607920.45707,
           "Positive"
          ],
          [
           17.137598610913763,
           38765442.137499996,
           "Positive"
          ],
          [
           11.42568102883229,
           62586760.69648,
           "Positive"
          ],
          [
           38.00357864146952,
           688006621.86715,
           "Positive"
          ],
          [
           13.551113894996412,
           17260523.7258,
           "Positive"
          ],
          [
           9.857825025304447,
           148655139.52069998,
           "Positive"
          ],
          [
           9.872659064340757,
           24539667.1937,
           "Positive"
          ],
          [
           22.323176974309686,
           52872890.823509,
           "Positive"
          ],
          [
           15.315466380866212,
           134603365.33393002,
           "Positive"
          ],
          [
           7.838731519886421,
           1708488110.20437,
           "Positive"
          ],
          [
           5.122183078036217,
           1592072402.6442997,
           "Positive"
          ],
          [
           4.2298517811568495,
           31271255.74007,
           "Positive"
          ],
          [
           2.024935973726324,
           25047762.537750002,
           "Positive"
          ],
          [
           17.595775669333936,
           28527153.233031,
           "Positive"
          ],
          [
           10.276648048077984,
           19191844.10472,
           "Positive"
          ],
          [
           18.480162086305533,
           38696585.94579999,
           "Positive"
          ],
          [
           44.34714440728193,
           3602591012.333795,
           "Positive"
          ],
          [
           13.196589027675863,
           31164249.0782,
           "Positive"
          ],
          [
           18.01424140201429,
           76252765.88729,
           "Positive"
          ],
          [
           1.4759019088183378,
           13019094.498569999,
           "Positive"
          ],
          [
           34.13465407818467,
           69071324.8468,
           "Positive"
          ],
          [
           10.206756303486548,
           84854163.015,
           "Positive"
          ],
          [
           13.029243296037922,
           23260500.14183,
           "Positive"
          ],
          [
           8.211636638101954,
           21312250.281259,
           "Positive"
          ],
          [
           8.187382144793295,
           16265631.114720002,
           "Positive"
          ],
          [
           16.82133806281266,
           93267194.96936001,
           "Positive"
          ],
          [
           11.705655542101765,
           179966114.3563,
           "Positive"
          ],
          [
           1.363557524295939,
           136341081.10093004,
           "Positive"
          ],
          [
           10.04515793047434,
           22808619.562217,
           "Positive"
          ],
          [
           9.324899290429277,
           82422562.03127001,
           "Positive"
          ],
          [
           13.75379541669812,
           27801934.737,
           "Positive"
          ],
          [
           21.430669112459924,
           111684732.53612,
           "Positive"
          ],
          [
           10.537525394273244,
           119327654.01219001,
           "Positive"
          ],
          [
           22.426024601428466,
           28506756.85687,
           "Positive"
          ],
          [
           14.888075343588458,
           64491836.53729001,
           "Positive"
          ],
          [
           10.920765138668711,
           66847293.442619994,
           "Positive"
          ],
          [
           17.189071081934067,
           149885651.418867,
           "Positive"
          ],
          [
           11.310648777248153,
           21788418.384940002,
           "Positive"
          ],
          [
           11.86958609137432,
           35331685.3353,
           "Positive"
          ],
          [
           11.701097963294522,
           99307501.3193,
           "Positive"
          ],
          [
           16.99841830341134,
           57938342.98229999,
           "Positive"
          ],
          [
           7.832506111731105,
           102292986.77452,
           "Positive"
          ],
          [
           6.229242319143362,
           99296753254.94402,
           "Positive"
          ],
          [
           11.445080998057374,
           694349354.5616401,
           "Positive"
          ],
          [
           4.02114317659667,
           24603020.159999996,
           "Positive"
          ],
          [
           51.24149837559194,
           275060069.05518997,
           "Positive"
          ],
          [
           16.882935513838135,
           38144404.807142,
           "Positive"
          ],
          [
           51.877005482452645,
           184173812.94639,
           "Positive"
          ],
          [
           5.1091661157711314,
           81643692.14590001,
           "Positive"
          ],
          [
           8.70567947192052,
           1405341761.1149998,
           "Positive"
          ],
          [
           7.167608624454339,
           13012809.70005,
           "Positive"
          ],
          [
           15.643132309396686,
           47665229.18369,
           "Positive"
          ],
          [
           4.731421384998207,
           27510011.9939,
           "Positive"
          ],
          [
           13.666455445655957,
           35677524.34924,
           "Positive"
          ],
          [
           17.10322209021534,
           345006925.76456,
           "Positive"
          ],
          [
           3.0911552068210084,
           1890802947.2877998,
           "Positive"
          ],
          [
           5.322444992907325,
           60481545.62670001,
           "Positive"
          ],
          [
           4.744670578755057,
           52262530.014822,
           "Positive"
          ],
          [
           12.554753657780525,
           12450360.518295,
           "Positive"
          ],
          [
           18.255567344364387,
           2169336420.148,
           "Positive"
          ],
          [
           12.130332346699403,
           42118707.203505605,
           "Positive"
          ],
          [
           7.684981261702145,
           41438680.15320001,
           "Positive"
          ],
          [
           26.39683284392889,
           75888842.46757598,
           "Positive"
          ],
          [
           4.2934703706413675,
           13513659.137020001,
           "Positive"
          ],
          [
           8.767516725628614,
           9386424.6978907,
           "Positive"
          ],
          [
           8.407245786126385,
           553428363.7885469,
           "Positive"
          ],
          [
           12.79520588282846,
           136557296.606935,
           "Positive"
          ],
          [
           8.197728861894769,
           6359280504.375875,
           "Positive"
          ],
          [
           6.4526584473510535,
           37188413.08892,
           "Positive"
          ],
          [
           16.11380172487076,
           213606123.70199,
           "Positive"
          ],
          [
           7.747686921982679,
           72750214.0931578,
           "Positive"
          ],
          [
           33.18312487035777,
           130280927.10182598,
           "Positive"
          ],
          [
           16.855211798815795,
           378889703.54485697,
           "Positive"
          ],
          [
           24.553860204859742,
           102502756.85405001,
           "Positive"
          ],
          [
           7.534015697303035,
           12407259.143199997,
           "Positive"
          ],
          [
           8.835456053609757,
           273770105.2085099,
           "Positive"
          ],
          [
           1.475633757465662,
           11185825.8811,
           "Positive"
          ],
          [
           9.707817947908499,
           24700598.385089997,
           "Positive"
          ],
          [
           4.644546430483401,
           77187635.0427,
           "Positive"
          ],
          [
           8.090912307250482,
           37245418.64249001,
           "Positive"
          ],
          [
           8.359687102146664,
           258479466.86881,
           "Positive"
          ],
          [
           15.066027488748965,
           16733688.3109,
           "Positive"
          ],
          [
           6.267675657839542,
           13166806.002692001,
           "Positive"
          ],
          [
           11.597385089216692,
           39326035.2446,
           "Positive"
          ],
          [
           8.62500522478704,
           130177835.3419,
           "Positive"
          ],
          [
           9.994363948263693,
           13591700.371070001,
           "Positive"
          ],
          [
           9.890407405891407,
           11935013.196799997,
           "Positive"
          ],
          [
           15.724592472874386,
           110766132.247,
           "Positive"
          ],
          [
           16.816293711461284,
           81071616.71601,
           "Positive"
          ],
          [
           26.07814164501339,
           890548547.47458,
           "Positive"
          ],
          [
           20.90105812237141,
           1377607890.17016,
           "Positive"
          ],
          [
           10.81858592326674,
           30523725.411689997,
           "Positive"
          ],
          [
           9.237858161354309,
           140576135.6571,
           "Positive"
          ],
          [
           8.158710952491068,
           20362683.140759997,
           "Positive"
          ],
          [
           0.26046526353332544,
           151869653.18859002,
           "Positive"
          ],
          [
           10.788896201118508,
           10487194.507329999,
           "Positive"
          ],
          [
           14.043061508479441,
           38218460.8137,
           "Positive"
          ],
          [
           12.05569625391088,
           178890364.2455,
           "Positive"
          ],
          [
           8.048260860729124,
           56405112.91157,
           "Positive"
          ],
          [
           10.701717372982406,
           18114918.0918,
           "Positive"
          ],
          [
           12.975698075215558,
           355625186.09349,
           "Positive"
          ],
          [
           13.072686615323017,
           15477281.634143002,
           "Positive"
          ],
          [
           13.420724591499566,
           1665360053.7233498,
           "Positive"
          ],
          [
           16.786256862783564,
           27084993.13827,
           "Positive"
          ],
          [
           50.874952968636336,
           322613780.1087,
           "Positive"
          ],
          [
           6.355213113975848,
           2443622319.23479,
           "Positive"
          ],
          [
           13.434187490581968,
           40451486.94800001,
           "Positive"
          ],
          [
           0.6884511285653536,
           216548340.904996,
           "Positive"
          ],
          [
           9.291496907837002,
           24176279.969227,
           "Positive"
          ],
          [
           9.863060344162726,
           16048863.34605,
           "Positive"
          ],
          [
           18.217551542747785,
           376185242.256341,
           "Positive"
          ],
          [
           2.6511125548331878,
           69777027.546455,
           "Positive"
          ],
          [
           7.842091573483273,
           10275443.989540001,
           "Positive"
          ],
          [
           17.802970471241366,
           48402164.44606501,
           "Positive"
          ],
          [
           12.375320264288723,
           15577554.259480003,
           "Positive"
          ],
          [
           7.696104113612824,
           180716515.115,
           "Positive"
          ],
          [
           49.404020707397684,
           694339818.6855,
           "Positive"
          ],
          [
           10.598938999352834,
           378640316.26343995,
           "Positive"
          ],
          [
           11.444949690205737,
           214408535.30748302,
           "Positive"
          ],
          [
           9.425253824618952,
           9414193.616109999,
           "Positive"
          ],
          [
           9.948555121480556,
           47431332.65287001,
           "Positive"
          ],
          [
           12.051602451245234,
           18161436.0739,
           "Positive"
          ],
          [
           14.537791903936496,
           78660741.81854999,
           "Positive"
          ],
          [
           14.599272366447323,
           189144019.71461,
           "Positive"
          ],
          [
           3.254595712005856,
           122366458.52399999,
           "Positive"
          ],
          [
           5.5144683182340595,
           264783516.02413002,
           "Positive"
          ],
          [
           13.502272998697233,
           169765890.61012998,
           "Positive"
          ],
          [
           36.15167234788114,
           44236102.897259995,
           "Positive"
          ],
          [
           6.264028262757741,
           14629228.188310001,
           "Positive"
          ],
          [
           4.095576483682154,
           62355333.713,
           "Positive"
          ],
          [
           6.98856081993106,
           14078237.4914,
           "Positive"
          ],
          [
           0.5763704716749976,
           252116352.9081,
           "Positive"
          ],
          [
           5.043085362689214,
           30166840.3331,
           "Positive"
          ],
          [
           12.184973503893723,
           18022083.32856,
           "Positive"
          ],
          [
           3.8961449596780056,
           13360142.145999998,
           "Positive"
          ],
          [
           6.044708075959926,
           46304164.72339,
           "Positive"
          ],
          [
           17.51885927170858,
           162034578.66049,
           "Positive"
          ],
          [
           14.606157263287345,
           20663449.889099997,
           "Positive"
          ],
          [
           17.805093939759647,
           118247090.94398001,
           "Positive"
          ],
          [
           23.37531050355514,
           361873698.28081,
           "Positive"
          ],
          [
           26.554851958242015,
           333806350.45750004,
           "Positive"
          ],
          [
           9.030322967391704,
           25989554.300299995,
           "Positive"
          ],
          [
           10.498563280432617,
           318909219.01900005,
           "Positive"
          ],
          [
           8.496394301406418,
           18627821.61998,
           "Positive"
          ],
          [
           18.938007177516322,
           102440513.518774,
           "Positive"
          ],
          [
           12.62450083067235,
           292601219.454106,
           "Positive"
          ],
          [
           17.628423952707312,
           105730829.60652,
           "Positive"
          ],
          [
           0.5199728094570356,
           27308411.084500004,
           "Positive"
          ],
          [
           6.7130462081743945,
           48714332.09187,
           "Positive"
          ],
          [
           11.941960379649817,
           21572080.852555998,
           "Positive"
          ],
          [
           13.552661762043883,
           692829624.9467999,
           "Positive"
          ],
          [
           5.9958254507513,
           149460353.2026,
           "Positive"
          ],
          [
           19.594780850571976,
           104563453.66590002,
           "Positive"
          ],
          [
           0.7856767177640506,
           19186187.873905998,
           "Positive"
          ],
          [
           9.431828786228246,
           64560890.90671001,
           "Positive"
          ],
          [
           8.26847468397643,
           20646209.019369997,
           "Positive"
          ],
          [
           12.940028265335318,
           7243925.6879,
           "Positive"
          ],
          [
           13.261094951962143,
           24121310.152080003,
           "Positive"
          ],
          [
           15.83914299439179,
           234190689.64099997,
           "Positive"
          ],
          [
           15.250438046220282,
           16284812.528,
           "Positive"
          ],
          [
           11.770210659066535,
           13596418.7223,
           "Positive"
          ],
          [
           15.564339330708465,
           34409608.826799996,
           "Positive"
          ],
          [
           8.250531269486444,
           819198872.8639001,
           "Positive"
          ],
          [
           14.152000790074599,
           17246786.5439226,
           "Positive"
          ],
          [
           21.12674733564891,
           21987738.095357,
           "Positive"
          ],
          [
           14.428955106147816,
           81075149.55900961,
           "Positive"
          ],
          [
           8.060225069410194,
           5212578267.23777,
           "Positive"
          ],
          [
           13.544934739466951,
           14073472.189399999,
           "Positive"
          ],
          [
           11.266298018977425,
           9008618.86291,
           "Positive"
          ],
          [
           3.513080813041105,
           276759279.01743,
           "Positive"
          ],
          [
           12.080483808529985,
           17118066.057222,
           "Positive"
          ],
          [
           0.5172920817697169,
           33121517.276740007,
           "Positive"
          ],
          [
           13.017515919191,
           25576724.508863,
           "Positive"
          ],
          [
           10.51695914975293,
           7211918.249600001,
           "Positive"
          ],
          [
           18.57141792811026,
           57933493.24583,
           "Positive"
          ],
          [
           8.942458248630476,
           19607455.77202,
           "Positive"
          ],
          [
           4.975297061507474,
           26950166.3788,
           "Positive"
          ],
          [
           4.976266964177769,
           8912499.0265,
           "Positive"
          ],
          [
           14.219779255692085,
           14702557.7194,
           "Positive"
          ],
          [
           17.34107588561187,
           17892144.9107,
           "Positive"
          ],
          [
           11.940809141362081,
           44173312.21870001,
           "Positive"
          ],
          [
           12.165343199289744,
           308263643.83689,
           "Positive"
          ],
          [
           11.642881284324426,
           1526224600.7833998,
           "Positive"
          ],
          [
           7.271842686719365,
           18549049.323000003,
           "Positive"
          ],
          [
           11.804902847614569,
           374443426.22349006,
           "Positive"
          ],
          [
           8.049460588423957,
           77524007.10052499,
           "Positive"
          ],
          [
           16.230701769938094,
           4658186023.201106,
           "Positive"
          ],
          [
           8.551462925755452,
           7860214.4984,
           "Positive"
          ],
          [
           18.397180227840096,
           72464554.54800999,
           "Positive"
          ],
          [
           11.925999851918974,
           9833114.563000001,
           "Positive"
          ],
          [
           7.62273653878843,
           84811132.1601,
           "Positive"
          ],
          [
           15.075509082612019,
           82958176.98110001,
           "Positive"
          ],
          [
           4.386019566818184,
           32254690.647749998,
           "Positive"
          ],
          [
           9.788104922653382,
           7394421.517460001,
           "Positive"
          ],
          [
           10.118919467517237,
           676682516.1423,
           "Positive"
          ],
          [
           17.246393053765487,
           43906470.14694,
           "Positive"
          ],
          [
           2.4920903831431103,
           9850646.958449999,
           "Positive"
          ],
          [
           15.522826613842863,
           551201429.7796999,
           "Positive"
          ],
          [
           19.521322748553885,
           3434044512.63016,
           "Positive"
          ],
          [
           8.069459817902144,
           6611778.284100001,
           "Positive"
          ],
          [
           8.872947159179455,
           85210916418.96866,
           "Positive"
          ],
          [
           12.261150251050044,
           573010273.0239,
           "Positive"
          ],
          [
           8.373459629575864,
           382776326.04693997,
           "Positive"
          ],
          [
           1.9858117376135702,
           18990648.55432,
           "Positive"
          ],
          [
           9.643728958180077,
           170668886.9876,
           "Positive"
          ],
          [
           11.698390324328651,
           23758541.45463,
           "Positive"
          ],
          [
           9.0117914420455,
           30583442.7278,
           "Positive"
          ],
          [
           8.451698806845775,
           45971777.01884001,
           "Positive"
          ]
         ],
         "domain": {
          "x": [
           0,
           1
          ],
          "y": [
           0,
           1
          ]
         },
         "hovertemplate": "<b>%{label}</b><br>Volume: %{value:,.0f} USDT<br>Weekly Return: %{customdata[0]:.2f}%<extra></extra>",
         "hovertext": [
          "LEVERUSDT",
          "USDCUSDT",
          "NEIROETHUSDT",
          "TSTUSDT",
          "HEIUSDT",
          "ATHUSDT",
          "OBOLUSDT",
          "SYNUSDT",
          "FXSUSDT",
          "PAXGUSDT",
          "BMTUSDT",
          "PLUMEUSDT",
          "EPTUSDT",
          "BTCDOMUSDT",
          "SOLVUSDT",
          "PORT3USDT",
          "SIGNUSDT",
          "SFPUSDT",
          "QUICKUSDT",
          "RVNUSDT",
          "CRVUSDT",
          "DFUSDT",
          "ANIMEUSDT",
          "ALPHAUSDT",
          "AXLUSDT",
          "RESOLVUSDT",
          "MELANIAUSDT",
          "KAIAUSDT",
          "LAYERUSDT",
          "ACXUSDT",
          "MAGICUSDT",
          "ZKJUSDT",
          "1000RATSUSDT",
          "AEROUSDT",
          "JELLYJELLYUSDT",
          "KAVAUSDT",
          "LTCUSDT",
          "POLUSDT",
          "LUMIAUSDT",
          "PNUTUSDT",
          "PIXELUSDT",
          "PHAUSDT",
          "PHBUSDT",
          "PERPUSDT",
          "LUNA2USDT",
          "PEOPLEUSDT",
          "PENGUUSDT",
          "PENDLEUSDT",
          "PARTIUSDT",
          "OXTUSDT",
          "PIPPINUSDT",
          "POLYXUSDT",
          "LSKUSDT",
          "POPCATUSDT",
          "REIUSDT",
          "REDUSDT",
          "RDNTUSDT",
          "RAYSOLUSDT",
          "RAREUSDT",
          "LOKAUSDT",
          "LPTUSDT",
          "QTUMUSDT",
          "QNTUSDT",
          "PYTHUSDT",
          "PUNDIXUSDT",
          "PUMPBTCUSDT",
          "PUFFERUSDT",
          "LQTYUSDT",
          "PROMUSDT",
          "LRCUSDT",
          "PROMPTUSDT",
          "POWRUSDT",
          "PORTALUSDT",
          "PONKEUSDT",
          "ORDIUSDT",
          "MEMEFIUSDT",
          "OPUSDT",
          "MYROUSDT",
          "MUBARAKUSDT",
          "MAVUSDT",
          "MTLUSDT",
          "MOVRUSDT",
          "MOVEUSDT",
          "MORPHOUSDT",
          "MBOXUSDT",
          "MOODENGUSDT",
          "MOCAUSDT",
          "MLNUSDT",
          "MKRUSDT",
          "MINAUSDT",
          "MILKUSDT",
          "MEWUSDT",
          "MEUSDT",
          "METISUSDT",
          "MERLUSDT",
          "MEMEUSDT",
          "MYXUSDT",
          "NEARUSDT",
          "NEIROUSDT",
          "MAVIAUSDT",
          "ONGUSDT",
          "ONEUSDT",
          "ONDOUSDT",
          "MANAUSDT",
          "OMUSDT",
          "OMNIUSDT",
          "OGUSDT",
          "OGNUSDT",
          "MANTAUSDT",
          "ORCAUSDT",
          "NXPCUSDT",
          "RENDERUSDT",
          "NOTUSDT",
          "NMRUSDT",
          "NKNUSDT",
          "NILUSDT",
          "NFPUSDT",
          "NEWTUSDT",
          "NEOUSDT",
          "MASKUSDT",
          "NTRNUSDT",
          "ONTUSDT",
          "1000000BOBUSDT",
          "RIFUSDT",
          "VIRTUALUSDT",
          "VINEUSDT",
          "VICUSDT",
          "VETUSDT",
          "VELODROMEUSDT",
          "VANRYUSDT",
          "VANAUSDT",
          "UXLINKUSDT",
          "USUALUSDT",
          "USTCUSDT",
          "VOXELUSDT",
          "UNIUSDT",
          "TWTUSDT",
          "TUTUSDT",
          "TUSDT",
          "TURBOUSDT",
          "TRXUSDT",
          "TRUUSDT",
          "TRUMPUSDT",
          "TRBUSDT",
          "TONUSDT",
          "TOKENUSDT",
          "UMAUSDT",
          "TNSRUSDT",
          "VTHOUSDT",
          "WALUSDT",
          "ZKUSDT",
          "ZILUSDT",
          "ZETAUSDT",
          "ZEREBROUSDT",
          "ZENUSDT",
          "ZECUSDT",
          "YGGUSDT",
          "YFIUSDT",
          "XVSUSDT",
          "XVGUSDT",
          "VVVUSDT",
          "XTZUSDT",
          "XMRUSDT",
          "XLMUSDT",
          "XCNUSDT",
          "XAIUSDT",
          "WUSDT",
          "WOOUSDT",
          "WLDUSDT",
          "WIFUSDT",
          "WCTUSDT",
          "WAXPUSDT",
          "XRPUSDT",
          "TLMUSDT",
          "TIAUSDT",
          "THEUSDT",
          "SONICUSDT",
          "SOLUSDT",
          "SNXUSDT",
          "SLERFUSDT",
          "SKYAIUSDT",
          "SKLUSDT",
          "SKATEUSDT",
          "SIRENUSDT",
          "SHELLUSDT",
          "SEIUSDT",
          "SOONUSDT",
          "SCRUSDT",
          "SANTOSUSDT",
          "SANDUSDT",
          "SAGAUSDT",
          "SAFEUSDT",
          "LISTAUSDT",
          "RSRUSDT",
          "RPLUSDT",
          "ROSEUSDT",
          "RONINUSDT",
          "RLCUSDT",
          "SCRTUSDT",
          "SOPHUSDT",
          "SPELLUSDT",
          "SPKUSDT",
          "THETAUSDT",
          "TAOUSDT",
          "TAIKOUSDT",
          "SYSUSDT",
          "SYRUPUSDT",
          "SXTUSDT",
          "SXPUSDT",
          "SWELLUSDT",
          "SWARMSUSDT",
          "SUSHIUSDT",
          "SUSDT",
          "SUPERUSDT",
          "SUNUSDT",
          "SUIUSDT",
          "STXUSDT",
          "STRKUSDT",
          "STOUSDT",
          "STORJUSDT",
          "STGUSDT",
          "STEEMUSDT",
          "SSVUSDT",
          "SQDUSDT",
          "SPXUSDT",
          "REZUSDT",
          "RUNEUSDT",
          "KERNELUSDT",
          "LDOUSDT",
          "BLURUSDT",
          "BIOUSDT",
          "BIGTIMEUSDT",
          "BIDUSDT",
          "BICOUSDT",
          "BERAUSDT",
          "BELUSDT",
          "BEAMXUSDT",
          "BDXNUSDT",
          "BCHUSDT",
          "BNBUSDT",
          "BBUSDT",
          "BANUSDT",
          "BANKUSDT",
          "BANDUSDT",
          "BANANAUSDT",
          "BANANAS31USDT",
          "BAKEUSDT",
          "BABYUSDT",
          "B3USDT",
          "B2USDT",
          "AXSUSDT",
          "BATUSDT",
          "AWEUSDT",
          "BNTUSDT",
          "BRETTUSDT",
          "COOKIEUSDT",
          "COMPUSDT",
          "CKBUSDT",
          "CHZUSDT",
          "CHRUSDT",
          "CHILLGUYUSDT",
          "CHESSUSDT",
          "CGPTUSDT",
          "CFXUSDT",
          "CETUSUSDT",
          "BOMEUSDT",
          "CELRUSDT",
          "CATIUSDT",
          "CAKEUSDT",
          "C98USDT",
          "BUSDT",
          "BTCUSDT",
          "BSWUSDT",
          "BSVUSDT",
          "BRUSDT",
          "BROCCOLIF3BUSDT",
          "BROCCOLI714USDT",
          "CELOUSDT",
          "AVAXUSDT",
          "AVAUSDT",
          "AVAAIUSDT",
          "AGLDUSDT",
          "AEVOUSDT",
          "AERGOUSDT",
          "ADAUSDT",
          "ACTUSDT",
          "ACHUSDT",
          "ACEUSDT",
          "AAVEUSDT",
          "1MBABYDOGEUSDT",
          "1INCHUSDT",
          "AGTUSDT",
          "1000XUSDT",
          "1000WHYUSDT",
          "1000SHIBUSDT",
          "1000SATSUSDT",
          "1000PEPEUSDT",
          "1000LUNCUSDT",
          "1000FLOKIUSDT",
          "1000CHEEMSUSDT",
          "1000CATUSDT",
          "1000BONKUSDT",
          "1000000MOGUSDT",
          "1000XECUSDT",
          "AI16ZUSDT",
          "AIOTUSDT",
          "AIUSDT",
          "AUSDT",
          "AUCTIONUSDT",
          "ATOMUSDT",
          "ATAUSDT",
          "ASTRUSDT",
          "ASRUSDT",
          "ARUSDT",
          "ARPAUSDT",
          "ARKUSDT",
          "ARKMUSDT",
          "ARCUSDT",
          "ARBUSDT",
          "APTUSDT",
          "API3USDT",
          "APEUSDT",
          "ANKRUSDT",
          "ALTUSDT",
          "ALPINEUSDT",
          "ALICEUSDT",
          "ALGOUSDT",
          "ALCHUSDT",
          "AKTUSDT",
          "AIXBTUSDT",
          "COSUSDT",
          "LINKUSDT",
          "COTIUSDT",
          "CTKUSDT",
          "HYPEUSDT",
          "HYPERUSDT",
          "HUMAUSDT",
          "HOTUSDT",
          "HOOKUSDT",
          "HOMEUSDT",
          "HMSTRUSDT",
          "HIVEUSDT",
          "HIPPOUSDT",
          "HIGHUSDT",
          "ICPUSDT",
          "HIFIUSDT",
          "HBARUSDT",
          "HAEDALUSDT",
          "GUSDT",
          "GUNUSDT",
          "GTCUSDT",
          "GRTUSDT",
          "GRIFFAINUSDT",
          "GRASSUSDT",
          "GPSUSDT",
          "GOATUSDT",
          "HFTUSDT",
          "GMXUSDT",
          "ICXUSDT",
          "ILVUSDT",
          "LAUSDT",
          "KSMUSDT",
          "KOMAUSDT",
          "KNCUSDT",
          "KMNOUSDT",
          "ZROUSDT",
          "KDAUSDT",
          "KASUSDT",
          "KAITOUSDT",
          "JUPUSDT",
          "IDUSDT",
          "JTOUSDT",
          "JOEUSDT",
          "JASMYUSDT",
          "IPUSDT",
          "IOUSDT",
          "IOTXUSDT",
          "IOTAUSDT",
          "IOSTUSDT",
          "INJUSDT",
          "INITUSDT",
          "IMXUSDT",
          "JSTUSDT",
          "GMTUSDT",
          "GLMUSDT",
          "GHSTUSDT",
          "DYMUSDT",
          "DYDXUSDT",
          "DUSKUSDT",
          "DUSDT",
          "DRIFTUSDT",
          "DOTUSDT",
          "DOODUSDT",
          "DOLOUSDT",
          "DOGSUSDT",
          "DOGEUSDT",
          "EDUUSDT",
          "DODOXUSDT",
          "DEXEUSDT",
          "DENTUSDT",
          "DEGOUSDT",
          "DEGENUSDT",
          "DEFIUSDT",
          "DEEPUSDT",
          "DASHUSDT",
          "CYBERUSDT",
          "CVCUSDT",
          "CTSIUSDT",
          "DIAUSDT",
          "EGLDUSDT",
          "EIGENUSDT",
          "ENAUSDT",
          "GASUSDT",
          "GALAUSDT",
          "FUSDT",
          "FUNUSDT",
          "FORTHUSDT",
          "FORMUSDT",
          "FLUXUSDT",
          "FLOWUSDT",
          "FLMUSDT",
          "FISUSDT",
          "FIOUSDT",
          "FILUSDT",
          "FIDAUSDT",
          "FHEUSDT",
          "FETUSDT",
          "FARTCOINUSDT",
          "ETHWUSDT",
          "ETHUSDT",
          "ETHFIUSDT",
          "ETCUSDT",
          "EPICUSDT",
          "ENSUSDT",
          "ENJUSDT",
          "COWUSDT",
          "ZRXUSDT"
         ],
         "ids": [
          "LEVERUSDT",
          "USDCUSDT",
          "NEIROETHUSDT",
          "TSTUSDT",
          "HEIUSDT",
          "ATHUSDT",
          "OBOLUSDT",
          "SYNUSDT",
          "FXSUSDT",
          "PAXGUSDT",
          "BMTUSDT",
          "PLUMEUSDT",
          "EPTUSDT",
          "BTCDOMUSDT",
          "SOLVUSDT",
          "PORT3USDT",
          "SIGNUSDT",
          "SFPUSDT",
          "QUICKUSDT",
          "RVNUSDT",
          "CRVUSDT",
          "DFUSDT",
          "ANIMEUSDT",
          "ALPHAUSDT",
          "AXLUSDT",
          "RESOLVUSDT",
          "MELANIAUSDT",
          "KAIAUSDT",
          "LAYERUSDT",
          "ACXUSDT",
          "MAGICUSDT",
          "ZKJUSDT",
          "1000RATSUSDT",
          "AEROUSDT",
          "JELLYJELLYUSDT",
          "KAVAUSDT",
          "LTCUSDT",
          "POLUSDT",
          "LUMIAUSDT",
          "PNUTUSDT",
          "PIXELUSDT",
          "PHAUSDT",
          "PHBUSDT",
          "PERPUSDT",
          "LUNA2USDT",
          "PEOPLEUSDT",
          "PENGUUSDT",
          "PENDLEUSDT",
          "PARTIUSDT",
          "OXTUSDT",
          "PIPPINUSDT",
          "POLYXUSDT",
          "LSKUSDT",
          "POPCATUSDT",
          "REIUSDT",
          "REDUSDT",
          "RDNTUSDT",
          "RAYSOLUSDT",
          "RAREUSDT",
          "LOKAUSDT",
          "LPTUSDT",
          "QTUMUSDT",
          "QNTUSDT",
          "PYTHUSDT",
          "PUNDIXUSDT",
          "PUMPBTCUSDT",
          "PUFFERUSDT",
          "LQTYUSDT",
          "PROMUSDT",
          "LRCUSDT",
          "PROMPTUSDT",
          "POWRUSDT",
          "PORTALUSDT",
          "PONKEUSDT",
          "ORDIUSDT",
          "MEMEFIUSDT",
          "OPUSDT",
          "MYROUSDT",
          "MUBARAKUSDT",
          "MAVUSDT",
          "MTLUSDT",
          "MOVRUSDT",
          "MOVEUSDT",
          "MORPHOUSDT",
          "MBOXUSDT",
          "MOODENGUSDT",
          "MOCAUSDT",
          "MLNUSDT",
          "MKRUSDT",
          "MINAUSDT",
          "MILKUSDT",
          "MEWUSDT",
          "MEUSDT",
          "METISUSDT",
          "MERLUSDT",
          "MEMEUSDT",
          "MYXUSDT",
          "NEARUSDT",
          "NEIROUSDT",
          "MAVIAUSDT",
          "ONGUSDT",
          "ONEUSDT",
          "ONDOUSDT",
          "MANAUSDT",
          "OMUSDT",
          "OMNIUSDT",
          "OGUSDT",
          "OGNUSDT",
          "MANTAUSDT",
          "ORCAUSDT",
          "NXPCUSDT",
          "RENDERUSDT",
          "NOTUSDT",
          "NMRUSDT",
          "NKNUSDT",
          "NILUSDT",
          "NFPUSDT",
          "NEWTUSDT",
          "NEOUSDT",
          "MASKUSDT",
          "NTRNUSDT",
          "ONTUSDT",
          "1000000BOBUSDT",
          "RIFUSDT",
          "VIRTUALUSDT",
          "VINEUSDT",
          "VICUSDT",
          "VETUSDT",
          "VELODROMEUSDT",
          "VANRYUSDT",
          "VANAUSDT",
          "UXLINKUSDT",
          "USUALUSDT",
          "USTCUSDT",
          "VOXELUSDT",
          "UNIUSDT",
          "TWTUSDT",
          "TUTUSDT",
          "TUSDT",
          "TURBOUSDT",
          "TRXUSDT",
          "TRUUSDT",
          "TRUMPUSDT",
          "TRBUSDT",
          "TONUSDT",
          "TOKENUSDT",
          "UMAUSDT",
          "TNSRUSDT",
          "VTHOUSDT",
          "WALUSDT",
          "ZKUSDT",
          "ZILUSDT",
          "ZETAUSDT",
          "ZEREBROUSDT",
          "ZENUSDT",
          "ZECUSDT",
          "YGGUSDT",
          "YFIUSDT",
          "XVSUSDT",
          "XVGUSDT",
          "VVVUSDT",
          "XTZUSDT",
          "XMRUSDT",
          "XLMUSDT",
          "XCNUSDT",
          "XAIUSDT",
          "WUSDT",
          "WOOUSDT",
          "WLDUSDT",
          "WIFUSDT",
          "WCTUSDT",
          "WAXPUSDT",
          "XRPUSDT",
          "TLMUSDT",
          "TIAUSDT",
          "THEUSDT",
          "SONICUSDT",
          "SOLUSDT",
          "SNXUSDT",
          "SLERFUSDT",
          "SKYAIUSDT",
          "SKLUSDT",
          "SKATEUSDT",
          "SIRENUSDT",
          "SHELLUSDT",
          "SEIUSDT",
          "SOONUSDT",
          "SCRUSDT",
          "SANTOSUSDT",
          "SANDUSDT",
          "SAGAUSDT",
          "SAFEUSDT",
          "LISTAUSDT",
          "RSRUSDT",
          "RPLUSDT",
          "ROSEUSDT",
          "RONINUSDT",
          "RLCUSDT",
          "SCRTUSDT",
          "SOPHUSDT",
          "SPELLUSDT",
          "SPKUSDT",
          "THETAUSDT",
          "TAOUSDT",
          "TAIKOUSDT",
          "SYSUSDT",
          "SYRUPUSDT",
          "SXTUSDT",
          "SXPUSDT",
          "SWELLUSDT",
          "SWARMSUSDT",
          "SUSHIUSDT",
          "SUSDT",
          "SUPERUSDT",
          "SUNUSDT",
          "SUIUSDT",
          "STXUSDT",
          "STRKUSDT",
          "STOUSDT",
          "STORJUSDT",
          "STGUSDT",
          "STEEMUSDT",
          "SSVUSDT",
          "SQDUSDT",
          "SPXUSDT",
          "REZUSDT",
          "RUNEUSDT",
          "KERNELUSDT",
          "LDOUSDT",
          "BLURUSDT",
          "BIOUSDT",
          "BIGTIMEUSDT",
          "BIDUSDT",
          "BICOUSDT",
          "BERAUSDT",
          "BELUSDT",
          "BEAMXUSDT",
          "BDXNUSDT",
          "BCHUSDT",
          "BNBUSDT",
          "BBUSDT",
          "BANUSDT",
          "BANKUSDT",
          "BANDUSDT",
          "BANANAUSDT",
          "BANANAS31USDT",
          "BAKEUSDT",
          "BABYUSDT",
          "B3USDT",
          "B2USDT",
          "AXSUSDT",
          "BATUSDT",
          "AWEUSDT",
          "BNTUSDT",
          "BRETTUSDT",
          "COOKIEUSDT",
          "COMPUSDT",
          "CKBUSDT",
          "CHZUSDT",
          "CHRUSDT",
          "CHILLGUYUSDT",
          "CHESSUSDT",
          "CGPTUSDT",
          "CFXUSDT",
          "CETUSUSDT",
          "BOMEUSDT",
          "CELRUSDT",
          "CATIUSDT",
          "CAKEUSDT",
          "C98USDT",
          "BUSDT",
          "BTCUSDT",
          "BSWUSDT",
          "BSVUSDT",
          "BRUSDT",
          "BROCCOLIF3BUSDT",
          "BROCCOLI714USDT",
          "CELOUSDT",
          "AVAXUSDT",
          "AVAUSDT",
          "AVAAIUSDT",
          "AGLDUSDT",
          "AEVOUSDT",
          "AERGOUSDT",
          "ADAUSDT",
          "ACTUSDT",
          "ACHUSDT",
          "ACEUSDT",
          "AAVEUSDT",
          "1MBABYDOGEUSDT",
          "1INCHUSDT",
          "AGTUSDT",
          "1000XUSDT",
          "1000WHYUSDT",
          "1000SHIBUSDT",
          "1000SATSUSDT",
          "1000PEPEUSDT",
          "1000LUNCUSDT",
          "1000FLOKIUSDT",
          "1000CHEEMSUSDT",
          "1000CATUSDT",
          "1000BONKUSDT",
          "1000000MOGUSDT",
          "1000XECUSDT",
          "AI16ZUSDT",
          "AIOTUSDT",
          "AIUSDT",
          "AUSDT",
          "AUCTIONUSDT",
          "ATOMUSDT",
          "ATAUSDT",
          "ASTRUSDT",
          "ASRUSDT",
          "ARUSDT",
          "ARPAUSDT",
          "ARKUSDT",
          "ARKMUSDT",
          "ARCUSDT",
          "ARBUSDT",
          "APTUSDT",
          "API3USDT",
          "APEUSDT",
          "ANKRUSDT",
          "ALTUSDT",
          "ALPINEUSDT",
          "ALICEUSDT",
          "ALGOUSDT",
          "ALCHUSDT",
          "AKTUSDT",
          "AIXBTUSDT",
          "COSUSDT",
          "LINKUSDT",
          "COTIUSDT",
          "CTKUSDT",
          "HYPEUSDT",
          "HYPERUSDT",
          "HUMAUSDT",
          "HOTUSDT",
          "HOOKUSDT",
          "HOMEUSDT",
          "HMSTRUSDT",
          "HIVEUSDT",
          "HIPPOUSDT",
          "HIGHUSDT",
          "ICPUSDT",
          "HIFIUSDT",
          "HBARUSDT",
          "HAEDALUSDT",
          "GUSDT",
          "GUNUSDT",
          "GTCUSDT",
          "GRTUSDT",
          "GRIFFAINUSDT",
          "GRASSUSDT",
          "GPSUSDT",
          "GOATUSDT",
          "HFTUSDT",
          "GMXUSDT",
          "ICXUSDT",
          "ILVUSDT",
          "LAUSDT",
          "KSMUSDT",
          "KOMAUSDT",
          "KNCUSDT",
          "KMNOUSDT",
          "ZROUSDT",
          "KDAUSDT",
          "KASUSDT",
          "KAITOUSDT",
          "JUPUSDT",
          "IDUSDT",
          "JTOUSDT",
          "JOEUSDT",
          "JASMYUSDT",
          "IPUSDT",
          "IOUSDT",
          "IOTXUSDT",
          "IOTAUSDT",
          "IOSTUSDT",
          "INJUSDT",
          "INITUSDT",
          "IMXUSDT",
          "JSTUSDT",
          "GMTUSDT",
          "GLMUSDT",
          "GHSTUSDT",
          "DYMUSDT",
          "DYDXUSDT",
          "DUSKUSDT",
          "DUSDT",
          "DRIFTUSDT",
          "DOTUSDT",
          "DOODUSDT",
          "DOLOUSDT",
          "DOGSUSDT",
          "DOGEUSDT",
          "EDUUSDT",
          "DODOXUSDT",
          "DEXEUSDT",
          "DENTUSDT",
          "DEGOUSDT",
          "DEGENUSDT",
          "DEFIUSDT",
          "DEEPUSDT",
          "DASHUSDT",
          "CYBERUSDT",
          "CVCUSDT",
          "CTSIUSDT",
          "DIAUSDT",
          "EGLDUSDT",
          "EIGENUSDT",
          "ENAUSDT",
          "GASUSDT",
          "GALAUSDT",
          "FUSDT",
          "FUNUSDT",
          "FORTHUSDT",
          "FORMUSDT",
          "FLUXUSDT",
          "FLOWUSDT",
          "FLMUSDT",
          "FISUSDT",
          "FIOUSDT",
          "FILUSDT",
          "FIDAUSDT",
          "FHEUSDT",
          "FETUSDT",
          "FARTCOINUSDT",
          "ETHWUSDT",
          "ETHUSDT",
          "ETHFIUSDT",
          "ETCUSDT",
          "EPICUSDT",
          "ENSUSDT",
          "ENJUSDT",
          "COWUSDT",
          "ZRXUSDT"
         ],
         "labels": [
          "LEVERUSDT",
          "USDCUSDT",
          "NEIROETHUSDT",
          "TSTUSDT",
          "HEIUSDT",
          "ATHUSDT",
          "OBOLUSDT",
          "SYNUSDT",
          "FXSUSDT",
          "PAXGUSDT",
          "BMTUSDT",
          "PLUMEUSDT",
          "EPTUSDT",
          "BTCDOMUSDT",
          "SOLVUSDT",
          "PORT3USDT",
          "SIGNUSDT",
          "SFPUSDT",
          "QUICKUSDT",
          "RVNUSDT",
          "CRVUSDT",
          "DFUSDT",
          "ANIMEUSDT",
          "ALPHAUSDT",
          "AXLUSDT",
          "RESOLVUSDT",
          "MELANIAUSDT",
          "KAIAUSDT",
          "LAYERUSDT",
          "ACXUSDT",
          "MAGICUSDT",
          "ZKJUSDT",
          "1000RATSUSDT",
          "AEROUSDT",
          "JELLYJELLYUSDT",
          "KAVAUSDT",
          "LTCUSDT",
          "POLUSDT",
          "LUMIAUSDT",
          "PNUTUSDT",
          "PIXELUSDT",
          "PHAUSDT",
          "PHBUSDT",
          "PERPUSDT",
          "LUNA2USDT",
          "PEOPLEUSDT",
          "PENGUUSDT",
          "PENDLEUSDT",
          "PARTIUSDT",
          "OXTUSDT",
          "PIPPINUSDT",
          "POLYXUSDT",
          "LSKUSDT",
          "POPCATUSDT",
          "REIUSDT",
          "REDUSDT",
          "RDNTUSDT",
          "RAYSOLUSDT",
          "RAREUSDT",
          "LOKAUSDT",
          "LPTUSDT",
          "QTUMUSDT",
          "QNTUSDT",
          "PYTHUSDT",
          "PUNDIXUSDT",
          "PUMPBTCUSDT",
          "PUFFERUSDT",
          "LQTYUSDT",
          "PROMUSDT",
          "LRCUSDT",
          "PROMPTUSDT",
          "POWRUSDT",
          "PORTALUSDT",
          "PONKEUSDT",
          "ORDIUSDT",
          "MEMEFIUSDT",
          "OPUSDT",
          "MYROUSDT",
          "MUBARAKUSDT",
          "MAVUSDT",
          "MTLUSDT",
          "MOVRUSDT",
          "MOVEUSDT",
          "MORPHOUSDT",
          "MBOXUSDT",
          "MOODENGUSDT",
          "MOCAUSDT",
          "MLNUSDT",
          "MKRUSDT",
          "MINAUSDT",
          "MILKUSDT",
          "MEWUSDT",
          "MEUSDT",
          "METISUSDT",
          "MERLUSDT",
          "MEMEUSDT",
          "MYXUSDT",
          "NEARUSDT",
          "NEIROUSDT",
          "MAVIAUSDT",
          "ONGUSDT",
          "ONEUSDT",
          "ONDOUSDT",
          "MANAUSDT",
          "OMUSDT",
          "OMNIUSDT",
          "OGUSDT",
          "OGNUSDT",
          "MANTAUSDT",
          "ORCAUSDT",
          "NXPCUSDT",
          "RENDERUSDT",
          "NOTUSDT",
          "NMRUSDT",
          "NKNUSDT",
          "NILUSDT",
          "NFPUSDT",
          "NEWTUSDT",
          "NEOUSDT",
          "MASKUSDT",
          "NTRNUSDT",
          "ONTUSDT",
          "1000000BOBUSDT",
          "RIFUSDT",
          "VIRTUALUSDT",
          "VINEUSDT",
          "VICUSDT",
          "VETUSDT",
          "VELODROMEUSDT",
          "VANRYUSDT",
          "VANAUSDT",
          "UXLINKUSDT",
          "USUALUSDT",
          "USTCUSDT",
          "VOXELUSDT",
          "UNIUSDT",
          "TWTUSDT",
          "TUTUSDT",
          "TUSDT",
          "TURBOUSDT",
          "TRXUSDT",
          "TRUUSDT",
          "TRUMPUSDT",
          "TRBUSDT",
          "TONUSDT",
          "TOKENUSDT",
          "UMAUSDT",
          "TNSRUSDT",
          "VTHOUSDT",
          "WALUSDT",
          "ZKUSDT",
          "ZILUSDT",
          "ZETAUSDT",
          "ZEREBROUSDT",
          "ZENUSDT",
          "ZECUSDT",
          "YGGUSDT",
          "YFIUSDT",
          "XVSUSDT",
          "XVGUSDT",
          "VVVUSDT",
          "XTZUSDT",
          "XMRUSDT",
          "XLMUSDT",
          "XCNUSDT",
          "XAIUSDT",
          "WUSDT",
          "WOOUSDT",
          "WLDUSDT",
          "WIFUSDT",
          "WCTUSDT",
          "WAXPUSDT",
          "XRPUSDT",
          "TLMUSDT",
          "TIAUSDT",
          "THEUSDT",
          "SONICUSDT",
          "SOLUSDT",
          "SNXUSDT",
          "SLERFUSDT",
          "SKYAIUSDT",
          "SKLUSDT",
          "SKATEUSDT",
          "SIRENUSDT",
          "SHELLUSDT",
          "SEIUSDT",
          "SOONUSDT",
          "SCRUSDT",
          "SANTOSUSDT",
          "SANDUSDT",
          "SAGAUSDT",
          "SAFEUSDT",
          "LISTAUSDT",
          "RSRUSDT",
          "RPLUSDT",
          "ROSEUSDT",
          "RONINUSDT",
          "RLCUSDT",
          "SCRTUSDT",
          "SOPHUSDT",
          "SPELLUSDT",
          "SPKUSDT",
          "THETAUSDT",
          "TAOUSDT",
          "TAIKOUSDT",
          "SYSUSDT",
          "SYRUPUSDT",
          "SXTUSDT",
          "SXPUSDT",
          "SWELLUSDT",
          "SWARMSUSDT",
          "SUSHIUSDT",
          "SUSDT",
          "SUPERUSDT",
          "SUNUSDT",
          "SUIUSDT",
          "STXUSDT",
          "STRKUSDT",
          "STOUSDT",
          "STORJUSDT",
          "STGUSDT",
          "STEEMUSDT",
          "SSVUSDT",
          "SQDUSDT",
          "SPXUSDT",
          "REZUSDT",
          "RUNEUSDT",
          "KERNELUSDT",
          "LDOUSDT",
          "BLURUSDT",
          "BIOUSDT",
          "BIGTIMEUSDT",
          "BIDUSDT",
          "BICOUSDT",
          "BERAUSDT",
          "BELUSDT",
          "BEAMXUSDT",
          "BDXNUSDT",
          "BCHUSDT",
          "BNBUSDT",
          "BBUSDT",
          "BANUSDT",
          "BANKUSDT",
          "BANDUSDT",
          "BANANAUSDT",
          "BANANAS31USDT",
          "BAKEUSDT",
          "BABYUSDT",
          "B3USDT",
          "B2USDT",
          "AXSUSDT",
          "BATUSDT",
          "AWEUSDT",
          "BNTUSDT",
          "BRETTUSDT",
          "COOKIEUSDT",
          "COMPUSDT",
          "CKBUSDT",
          "CHZUSDT",
          "CHRUSDT",
          "CHILLGUYUSDT",
          "CHESSUSDT",
          "CGPTUSDT",
          "CFXUSDT",
          "CETUSUSDT",
          "BOMEUSDT",
          "CELRUSDT",
          "CATIUSDT",
          "CAKEUSDT",
          "C98USDT",
          "BUSDT",
          "BTCUSDT",
          "BSWUSDT",
          "BSVUSDT",
          "BRUSDT",
          "BROCCOLIF3BUSDT",
          "BROCCOLI714USDT",
          "CELOUSDT",
          "AVAXUSDT",
          "AVAUSDT",
          "AVAAIUSDT",
          "AGLDUSDT",
          "AEVOUSDT",
          "AERGOUSDT",
          "ADAUSDT",
          "ACTUSDT",
          "ACHUSDT",
          "ACEUSDT",
          "AAVEUSDT",
          "1MBABYDOGEUSDT",
          "1INCHUSDT",
          "AGTUSDT",
          "1000XUSDT",
          "1000WHYUSDT",
          "1000SHIBUSDT",
          "1000SATSUSDT",
          "1000PEPEUSDT",
          "1000LUNCUSDT",
          "1000FLOKIUSDT",
          "1000CHEEMSUSDT",
          "1000CATUSDT",
          "1000BONKUSDT",
          "1000000MOGUSDT",
          "1000XECUSDT",
          "AI16ZUSDT",
          "AIOTUSDT",
          "AIUSDT",
          "AUSDT",
          "AUCTIONUSDT",
          "ATOMUSDT",
          "ATAUSDT",
          "ASTRUSDT",
          "ASRUSDT",
          "ARUSDT",
          "ARPAUSDT",
          "ARKUSDT",
          "ARKMUSDT",
          "ARCUSDT",
          "ARBUSDT",
          "APTUSDT",
          "API3USDT",
          "APEUSDT",
          "ANKRUSDT",
          "ALTUSDT",
          "ALPINEUSDT",
          "ALICEUSDT",
          "ALGOUSDT",
          "ALCHUSDT",
          "AKTUSDT",
          "AIXBTUSDT",
          "COSUSDT",
          "LINKUSDT",
          "COTIUSDT",
          "CTKUSDT",
          "HYPEUSDT",
          "HYPERUSDT",
          "HUMAUSDT",
          "HOTUSDT",
          "HOOKUSDT",
          "HOMEUSDT",
          "HMSTRUSDT",
          "HIVEUSDT",
          "HIPPOUSDT",
          "HIGHUSDT",
          "ICPUSDT",
          "HIFIUSDT",
          "HBARUSDT",
          "HAEDALUSDT",
          "GUSDT",
          "GUNUSDT",
          "GTCUSDT",
          "GRTUSDT",
          "GRIFFAINUSDT",
          "GRASSUSDT",
          "GPSUSDT",
          "GOATUSDT",
          "HFTUSDT",
          "GMXUSDT",
          "ICXUSDT",
          "ILVUSDT",
          "LAUSDT",
          "KSMUSDT",
          "KOMAUSDT",
          "KNCUSDT",
          "KMNOUSDT",
          "ZROUSDT",
          "KDAUSDT",
          "KASUSDT",
          "KAITOUSDT",
          "JUPUSDT",
          "IDUSDT",
          "JTOUSDT",
          "JOEUSDT",
          "JASMYUSDT",
          "IPUSDT",
          "IOUSDT",
          "IOTXUSDT",
          "IOTAUSDT",
          "IOSTUSDT",
          "INJUSDT",
          "INITUSDT",
          "IMXUSDT",
          "JSTUSDT",
          "GMTUSDT",
          "GLMUSDT",
          "GHSTUSDT",
          "DYMUSDT",
          "DYDXUSDT",
          "DUSKUSDT",
          "DUSDT",
          "DRIFTUSDT",
          "DOTUSDT",
          "DOODUSDT",
          "DOLOUSDT",
          "DOGSUSDT",
          "DOGEUSDT",
          "EDUUSDT",
          "DODOXUSDT",
          "DEXEUSDT",
          "DENTUSDT",
          "DEGOUSDT",
          "DEGENUSDT",
          "DEFIUSDT",
          "DEEPUSDT",
          "DASHUSDT",
          "CYBERUSDT",
          "CVCUSDT",
          "CTSIUSDT",
          "DIAUSDT",
          "EGLDUSDT",
          "EIGENUSDT",
          "ENAUSDT",
          "GASUSDT",
          "GALAUSDT",
          "FUSDT",
          "FUNUSDT",
          "FORTHUSDT",
          "FORMUSDT",
          "FLUXUSDT",
          "FLOWUSDT",
          "FLMUSDT",
          "FISUSDT",
          "FIOUSDT",
          "FILUSDT",
          "FIDAUSDT",
          "FHEUSDT",
          "FETUSDT",
          "FARTCOINUSDT",
          "ETHWUSDT",
          "ETHUSDT",
          "ETHFIUSDT",
          "ETCUSDT",
          "EPICUSDT",
          "ENSUSDT",
          "ENJUSDT",
          "COWUSDT",
          "ZRXUSDT"
         ],
         "marker": {
          "colors": [
           "#FF4136",
           "#FF4136",
           "#FF4136",
           "#FF4136",
           "#FF4136",
           "#FF4136",
           "#FF4136",
           "#FF4136",
           "#FF4136",
           "#FF4136",
           "#FF4136",
           "#FF4136",
           "#FF4136",
           "#FF4136",
           "#FF4136",
           "#FF4136",
           "#FF4136",
           "#FF4136",
           "#FF4136",
           "#FF4136",
           "#FF4136",
           "#FF4136",
           "#FF4136",
           "#FF4136",
           "#FF4136",
           "#FF4136",
           "#FF4136",
           "#FF4136",
           "#FF4136",
           "#FF4136",
           "#FF4136",
           "#FF4136",
           "#FF4136",
           "#FF4136",
           "#FF4136",
           "#FF4136",
           "#3D9970",
           "#3D9970",
           "#3D9970",
           "#3D9970",
           "#3D9970",
           "#3D9970",
           "#3D9970",
           "#3D9970",
           "#3D9970",
           "#3D9970",
           "#3D9970",
           "#3D9970",
           "#3D9970",
           "#3D9970",
           "#3D9970",
           "#3D9970",
           "#3D9970",
           "#3D9970",
           "#3D9970",
           "#3D9970",
           "#3D9970",
           "#3D9970",
           "#3D9970",
           "#3D9970",
           "#3D9970",
           "#3D9970",
           "#3D9970",
           "#3D9970",
           "#3D9970",
           "#3D9970",
           "#3D9970",
           "#3D9970",
           "#3D9970",
           "#3D9970",
           "#3D9970",
           "#3D9970",
           "#3D9970",
           "#3D9970",
           "#3D9970",
           "#3D9970",
           "#3D9970",
           "#3D9970",
           "#3D9970",
           "#3D9970",
           "#3D9970",
           "#3D9970",
           "#3D9970",
           "#3D9970",
           "#3D9970",
           "#3D9970",
           "#3D9970",
           "#3D9970",
           "#3D9970",
           "#3D9970",
           "#3D9970",
           "#3D9970",
           "#3D9970",
           "#3D9970",
           "#3D9970",
           "#3D9970",
           "#3D9970",
           "#3D9970",
           "#3D9970",
           "#3D9970",
           "#3D9970",
           "#3D9970",
           "#3D9970",
           "#3D9970",
           "#3D9970",
           "#3D9970",
           "#3D9970",
           "#3D9970",
           "#3D9970",
           "#3D9970",
           "#3D9970",
           "#3D9970",
           "#3D9970",
           "#3D9970",
           "#3D9970",
           "#3D9970",
           "#3D9970",
           "#3D9970",
           "#3D9970",
           "#3D9970",
           "#3D9970",
           "#3D9970",
           "#3D9970",
           "#3D9970",
           "#3D9970",
           "#3D9970",
           "#3D9970",
           "#3D9970",
           "#3D9970",
           "#3D9970",
           "#3D9970",
           "#3D9970",
           "#3D9970",
           "#3D9970",
           "#3D9970",
           "#3D9970",
           "#3D9970",
           "#3D9970",
           "#3D9970",
           "#3D9970",
           "#3D9970",
           "#3D9970",
           "#3D9970",
           "#3D9970",
           "#3D9970",
           "#3D9970",
           "#3D9970",
           "#3D9970",
           "#3D9970",
           "#3D9970",
           "#3D9970",
           "#3D9970",
           "#3D9970",
           "#3D9970",
           "#3D9970",
           "#3D9970",
           "#3D9970",
           "#3D9970",
           "#3D9970",
           "#3D9970",
           "#3D9970",
           "#3D9970",
           "#3D9970",
           "#3D9970",
           "#3D9970",
           "#3D9970",
           "#3D9970",
           "#3D9970",
           "#3D9970",
           "#3D9970",
           "#3D9970",
           "#3D9970",
           "#3D9970",
           "#3D9970",
           "#3D9970",
           "#3D9970",
           "#3D9970",
           "#3D9970",
           "#3D9970",
           "#3D9970",
           "#3D9970",
           "#3D9970",
           "#3D9970",
           "#3D9970",
           "#3D9970",
           "#3D9970",
           "#3D9970",
           "#3D9970",
           "#3D9970",
           "#3D9970",
           "#3D9970",
           "#3D9970",
           "#3D9970",
           "#3D9970",
           "#3D9970",
           "#3D9970",
           "#3D9970",
           "#3D9970",
           "#3D9970",
           "#3D9970",
           "#3D9970",
           "#3D9970",
           "#3D9970",
           "#3D9970",
           "#3D9970",
           "#3D9970",
           "#3D9970",
           "#3D9970",
           "#3D9970",
           "#3D9970",
           "#3D9970",
           "#3D9970",
           "#3D9970",
           "#3D9970",
           "#3D9970",
           "#3D9970",
           "#3D9970",
           "#3D9970",
           "#3D9970",
           "#3D9970",
           "#3D9970",
           "#3D9970",
           "#3D9970",
           "#3D9970",
           "#3D9970",
           "#3D9970",
           "#3D9970",
           "#3D9970",
           "#3D9970",
           "#3D9970",
           "#3D9970",
           "#3D9970",
           "#3D9970",
           "#3D9970",
           "#3D9970",
           "#3D9970",
           "#3D9970",
           "#3D9970",
           "#3D9970",
           "#3D9970",
           "#3D9970",
           "#3D9970",
           "#3D9970",
           "#3D9970",
           "#3D9970",
           "#3D9970",
           "#3D9970",
           "#3D9970",
           "#3D9970",
           "#3D9970",
           "#3D9970",
           "#3D9970",
           "#3D9970",
           "#3D9970",
           "#3D9970",
           "#3D9970",
           "#3D9970",
           "#3D9970",
           "#3D9970",
           "#3D9970",
           "#3D9970",
           "#3D9970",
           "#3D9970",
           "#3D9970",
           "#3D9970",
           "#3D9970",
           "#3D9970",
           "#3D9970",
           "#3D9970",
           "#3D9970",
           "#3D9970",
           "#3D9970",
           "#3D9970",
           "#3D9970",
           "#3D9970",
           "#3D9970",
           "#3D9970",
           "#3D9970",
           "#3D9970",
           "#3D9970",
           "#3D9970",
           "#3D9970",
           "#3D9970",
           "#3D9970",
           "#3D9970",
           "#3D9970",
           "#3D9970",
           "#3D9970",
           "#3D9970",
           "#3D9970",
           "#3D9970",
           "#3D9970",
           "#3D9970",
           "#3D9970",
           "#3D9970",
           "#3D9970",
           "#3D9970",
           "#3D9970",
           "#3D9970",
           "#3D9970",
           "#3D9970",
           "#3D9970",
           "#3D9970",
           "#3D9970",
           "#3D9970",
           "#3D9970",
           "#3D9970",
           "#3D9970",
           "#3D9970",
           "#3D9970",
           "#3D9970",
           "#3D9970",
           "#3D9970",
           "#3D9970",
           "#3D9970",
           "#3D9970",
           "#3D9970",
           "#3D9970",
           "#3D9970",
           "#3D9970",
           "#3D9970",
           "#3D9970",
           "#3D9970",
           "#3D9970",
           "#3D9970",
           "#3D9970",
           "#3D9970",
           "#3D9970",
           "#3D9970",
           "#3D9970",
           "#3D9970",
           "#3D9970",
           "#3D9970",
           "#3D9970",
           "#3D9970",
           "#3D9970",
           "#3D9970",
           "#3D9970",
           "#3D9970",
           "#3D9970",
           "#3D9970",
           "#3D9970",
           "#3D9970",
           "#3D9970",
           "#3D9970",
           "#3D9970",
           "#3D9970",
           "#3D9970",
           "#3D9970",
           "#3D9970",
           "#3D9970",
           "#3D9970",
           "#3D9970",
           "#3D9970",
           "#3D9970",
           "#3D9970",
           "#3D9970",
           "#3D9970",
           "#3D9970",
           "#3D9970",
           "#3D9970",
           "#3D9970",
           "#3D9970",
           "#3D9970",
           "#3D9970",
           "#3D9970",
           "#3D9970",
           "#3D9970",
           "#3D9970",
           "#3D9970",
           "#3D9970",
           "#3D9970",
           "#3D9970",
           "#3D9970",
           "#3D9970",
           "#3D9970",
           "#3D9970",
           "#3D9970",
           "#3D9970",
           "#3D9970",
           "#3D9970",
           "#3D9970",
           "#3D9970",
           "#3D9970",
           "#3D9970",
           "#3D9970",
           "#3D9970",
           "#3D9970",
           "#3D9970",
           "#3D9970",
           "#3D9970",
           "#3D9970",
           "#3D9970",
           "#3D9970",
           "#3D9970",
           "#3D9970",
           "#3D9970",
           "#3D9970",
           "#3D9970",
           "#3D9970",
           "#3D9970",
           "#3D9970",
           "#3D9970",
           "#3D9970",
           "#3D9970",
           "#3D9970",
           "#3D9970",
           "#3D9970",
           "#3D9970",
           "#3D9970",
           "#3D9970",
           "#3D9970",
           "#3D9970",
           "#3D9970",
           "#3D9970",
           "#3D9970",
           "#3D9970",
           "#3D9970",
           "#3D9970",
           "#3D9970",
           "#3D9970",
           "#3D9970",
           "#3D9970",
           "#3D9970",
           "#3D9970",
           "#3D9970",
           "#3D9970",
           "#3D9970",
           "#3D9970",
           "#3D9970",
           "#3D9970",
           "#3D9970",
           "#3D9970",
           "#3D9970",
           "#3D9970",
           "#3D9970",
           "#3D9970"
          ]
         },
         "name": "",
         "parents": [
          "",
          "",
          "",
          "",
          "",
          "",
          "",
          "",
          "",
          "",
          "",
          "",
          "",
          "",
          "",
          "",
          "",
          "",
          "",
          "",
          "",
          "",
          "",
          "",
          "",
          "",
          "",
          "",
          "",
          "",
          "",
          "",
          "",
          "",
          "",
          "",
          "",
          "",
          "",
          "",
          "",
          "",
          "",
          "",
          "",
          "",
          "",
          "",
          "",
          "",
          "",
          "",
          "",
          "",
          "",
          "",
          "",
          "",
          "",
          "",
          "",
          "",
          "",
          "",
          "",
          "",
          "",
          "",
          "",
          "",
          "",
          "",
          "",
          "",
          "",
          "",
          "",
          "",
          "",
          "",
          "",
          "",
          "",
          "",
          "",
          "",
          "",
          "",
          "",
          "",
          "",
          "",
          "",
          "",
          "",
          "",
          "",
          "",
          "",
          "",
          "",
          "",
          "",
          "",
          "",
          "",
          "",
          "",
          "",
          "",
          "",
          "",
          "",
          "",
          "",
          "",
          "",
          "",
          "",
          "",
          "",
          "",
          "",
          "",
          "",
          "",
          "",
          "",
          "",
          "",
          "",
          "",
          "",
          "",
          "",
          "",
          "",
          "",
          "",
          "",
          "",
          "",
          "",
          "",
          "",
          "",
          "",
          "",
          "",
          "",
          "",
          "",
          "",
          "",
          "",
          "",
          "",
          "",
          "",
          "",
          "",
          "",
          "",
          "",
          "",
          "",
          "",
          "",
          "",
          "",
          "",
          "",
          "",
          "",
          "",
          "",
          "",
          "",
          "",
          "",
          "",
          "",
          "",
          "",
          "",
          "",
          "",
          "",
          "",
          "",
          "",
          "",
          "",
          "",
          "",
          "",
          "",
          "",
          "",
          "",
          "",
          "",
          "",
          "",
          "",
          "",
          "",
          "",
          "",
          "",
          "",
          "",
          "",
          "",
          "",
          "",
          "",
          "",
          "",
          "",
          "",
          "",
          "",
          "",
          "",
          "",
          "",
          "",
          "",
          "",
          "",
          "",
          "",
          "",
          "",
          "",
          "",
          "",
          "",
          "",
          "",
          "",
          "",
          "",
          "",
          "",
          "",
          "",
          "",
          "",
          "",
          "",
          "",
          "",
          "",
          "",
          "",
          "",
          "",
          "",
          "",
          "",
          "",
          "",
          "",
          "",
          "",
          "",
          "",
          "",
          "",
          "",
          "",
          "",
          "",
          "",
          "",
          "",
          "",
          "",
          "",
          "",
          "",
          "",
          "",
          "",
          "",
          "",
          "",
          "",
          "",
          "",
          "",
          "",
          "",
          "",
          "",
          "",
          "",
          "",
          "",
          "",
          "",
          "",
          "",
          "",
          "",
          "",
          "",
          "",
          "",
          "",
          "",
          "",
          "",
          "",
          "",
          "",
          "",
          "",
          "",
          "",
          "",
          "",
          "",
          "",
          "",
          "",
          "",
          "",
          "",
          "",
          "",
          "",
          "",
          "",
          "",
          "",
          "",
          "",
          "",
          "",
          "",
          "",
          "",
          "",
          "",
          "",
          "",
          "",
          "",
          "",
          "",
          "",
          "",
          "",
          "",
          "",
          "",
          "",
          "",
          "",
          "",
          "",
          "",
          "",
          "",
          "",
          "",
          "",
          "",
          "",
          "",
          "",
          "",
          "",
          "",
          "",
          "",
          "",
          "",
          "",
          "",
          "",
          "",
          "",
          "",
          "",
          "",
          "",
          "",
          "",
          "",
          "",
          "",
          "",
          "",
          "",
          "",
          "",
          "",
          "",
          "",
          "",
          "",
          "",
          "",
          "",
          "",
          "",
          "",
          "",
          "",
          "",
          "",
          "",
          "",
          "",
          "",
          "",
          "",
          "",
          "",
          "",
          "",
          "",
          "",
          "",
          "",
          "",
          "",
          "",
          "",
          "",
          "",
          "",
          ""
         ],
         "type": "treemap",
         "values": [
          127247649.70709631,
          34245404.113702,
          82838005.54029,
          43010760.499409996,
          18675815.72632,
          45976097.38087001,
          88048354.40105999,
          22846713.7575,
          35345005.9616,
          397506281.78134,
          226258203.04888,
          31334916.0667,
          37543763.656495005,
          80351841.66660002,
          58636055.72707,
          14186507.624390002,
          94837791.81436999,
          39870301.8162,
          92433721.62394,
          245065291.62038,
          697267582.6363,
          33599692.650589995,
          180570977.45364,
          172598250.6603,
          60520300.855390005,
          871149396.6302001,
          163204572.64186502,
          452423325.4484999,
          403251140.85919005,
          21754501.75896,
          215472842.80489,
          335286907.60455996,
          38427647.16792,
          228193583.56958997,
          81352189.15885,
          49304113.172570005,
          919587585.6249499,
          133204657.94221,
          12800934.463280002,
          741774542.5670501,
          37544563.56347,
          17501262.58168,
          14218463.216799999,
          14840851.05167,
          24527110.1143,
          203908589.39312,
          1944546479.189733,
          233707454.4722,
          61920408.706499994,
          12784993.68245,
          32161510.61193,
          22419009.23314,
          9065894.246599998,
          486410063.7626,
          8640194.12059,
          19889252.555,
          14272627.616740001,
          129090767.4316,
          294012837.71088,
          16529757.842300002,
          796320850.7654,
          34984603.064500004,
          52800736.067999996,
          119766432.35993999,
          18257927.4795,
          20295583.97775,
          14117324.547980001,
          517201853.40959,
          189254672.7637,
          20147182.176469997,
          18335947.5721,
          12295670.7228,
          56485178.421628006,
          31273025.66438,
          254575904.1545,
          27867260.75925,
          824960432.17503,
          23735641.602110002,
          268467477.66179997,
          14796883.67689,
          10457577.447700001,
          13219010.970989998,
          1844803879.5178003,
          30045002.04131,
          38900606.681049995,
          681020322.1909399,
          90046697.66723998,
          8575072.59628,
          497456647.9716,
          58477971.9335,
          247234616.64918002,
          68575083.82090701,
          41163406.17688999,
          18373294.1418,
          20969599.104150005,
          77324158.15976399,
          1213111669.69619,
          803355866.749,
          691845972.2598387,
          11810002.906100001,
          8304612.325300001,
          42074990.1348,
          624183540.3498201,
          74372418.3416,
          296993999.742815,
          36712851.86858,
          12286891.2347,
          75142977.8545,
          52148785.69529,
          32566488.6773,
          303944424.12841,
          236257730.8379,
          82408927.37494001,
          17432456.993800003,
          27411162.677270003,
          37307046.08312,
          10522957.940661998,
          2265773029.9114,
          75601414.24688,
          182608251.1818,
          10683473.530199999,
          16812313.57538,
          144906080.29411995,
          9423477.618309999,
          1374858643.6089501,
          76856671.54986,
          9554674.4712,
          87458943.330828,
          8950719.85962,
          29927975.11203,
          56973327.87008001,
          56981881.0235,
          106666068.4546,
          36857845.304459,
          38685004.35951,
          1821465418.756,
          13292904.548799999,
          396143049.65143,
          268472305.18008995,
          192600708.1363665,
          551049895.0495299,
          18550060.60064,
          1415968045.5930502,
          327065314.9334,
          239761217.36110002,
          17852939.62193,
          51054558.482,
          22621565.08189,
          8483533.786857,
          58513208.25760001,
          98006017.85055,
          37221621.5458,
          19895159.922300003,
          55632540.95901,
          75198535.86410001,
          32426654.067309998,
          29429505.8759,
          34740881.508,
          11085490.121600002,
          29914156.9708504,
          35070318.507570006,
          76962561.9596,
          143900415.78528,
          286429452.75236,
          74631767.06011999,
          57687362.14167,
          571290045.989955,
          17589037.8688,
          749944766.0152001,
          2475139070.12929,
          230708371.1471,
          11708359.6653,
          8490191795.28509,
          12904707.335712,
          694474114.1515999,
          41594992.17945,
          20739544.80322,
          20476369106.851303,
          85469705.20879999,
          5544228.85685,
          39079656.897819996,
          13855030.83672,
          125404611.14328,
          108417103.18933001,
          59977736.9605,
          3609825783.4281006,
          203142997.01860002,
          14678610.587399999,
          5584886.586100001,
          137250165.5323,
          59286068.43789,
          14284234.353799999,
          125200587.3396,
          88733331.46223299,
          34246631.329299994,
          47292582.63081,
          12336391.95127,
          19819196.74295,
          7950963.3059,
          179044785.56029,
          17339040.511727102,
          818079902.89923,
          74949035.94196999,
          910968717.8744501,
          21475104.507600002,
          8963588.085579999,
          905268781.0980102,
          84878512.82073,
          32523426.577220004,
          26553880.3454,
          55236103.73883,
          110746974.3134,
          352021000.2455,
          61004881.2707,
          10449118.461565,
          4615178572.42217,
          186454701.4449,
          110651011.26098,
          40361171.91235,
          23444134.1422,
          13296312.6661,
          9539683.44392,
          59353851.57724,
          99429941.23804998,
          942806597.7456001,
          45068004.19553,
          98399902.84599999,
          52114318.087000005,
          378557072.9676,
          40607920.45707,
          38765442.137499996,
          62586760.69648,
          688006621.86715,
          17260523.7258,
          148655139.52069998,
          24539667.1937,
          52872890.823509,
          134603365.33393002,
          1708488110.20437,
          1592072402.6442997,
          31271255.74007,
          25047762.537750002,
          28527153.233031,
          19191844.10472,
          38696585.94579999,
          3602591012.333795,
          31164249.0782,
          76252765.88729,
          13019094.498569999,
          69071324.8468,
          84854163.015,
          23260500.14183,
          21312250.281259,
          16265631.114720002,
          93267194.96936001,
          179966114.3563,
          136341081.10093004,
          22808619.562217,
          82422562.03127001,
          27801934.737,
          111684732.53612,
          119327654.01219001,
          28506756.85687,
          64491836.53729001,
          66847293.442619994,
          149885651.418867,
          21788418.384940002,
          35331685.3353,
          99307501.3193,
          57938342.98229999,
          102292986.77452,
          99296753254.94402,
          694349354.5616401,
          24603020.159999996,
          275060069.05518997,
          38144404.807142,
          184173812.94639,
          81643692.14590001,
          1405341761.1149998,
          13012809.70005,
          47665229.18369,
          27510011.9939,
          35677524.34924,
          345006925.76456,
          1890802947.2877998,
          60481545.62670001,
          52262530.014822,
          12450360.518295,
          2169336420.148,
          42118707.203505605,
          41438680.15320001,
          75888842.46757598,
          13513659.137020001,
          9386424.6978907,
          553428363.7885469,
          136557296.606935,
          6359280504.375875,
          37188413.08892,
          213606123.70199,
          72750214.0931578,
          130280927.10182598,
          378889703.54485697,
          102502756.85405001,
          12407259.143199997,
          273770105.2085099,
          11185825.8811,
          24700598.385089997,
          77187635.0427,
          37245418.64249001,
          258479466.86881,
          16733688.3109,
          13166806.002692001,
          39326035.2446,
          130177835.3419,
          13591700.371070001,
          11935013.196799997,
          110766132.247,
          81071616.71601,
          890548547.47458,
          1377607890.17016,
          30523725.411689997,
          140576135.6571,
          20362683.140759997,
          151869653.18859002,
          10487194.507329999,
          38218460.8137,
          178890364.2455,
          56405112.91157,
          18114918.0918,
          355625186.09349,
          15477281.634143002,
          1665360053.7233498,
          27084993.13827,
          322613780.1087,
          2443622319.23479,
          40451486.94800001,
          216548340.904996,
          24176279.969227,
          16048863.34605,
          376185242.256341,
          69777027.546455,
          10275443.989540001,
          48402164.44606501,
          15577554.259480003,
          180716515.115,
          694339818.6855,
          378640316.26343995,
          214408535.30748302,
          9414193.616109999,
          47431332.65287001,
          18161436.0739,
          78660741.81854999,
          189144019.71461,
          122366458.52399999,
          264783516.02413002,
          169765890.61012998,
          44236102.897259995,
          14629228.188310001,
          62355333.713,
          14078237.4914,
          252116352.9081,
          30166840.3331,
          18022083.32856,
          13360142.145999998,
          46304164.72339,
          162034578.66049,
          20663449.889099997,
          118247090.94398001,
          361873698.28081,
          333806350.45750004,
          25989554.300299995,
          318909219.01900005,
          18627821.61998,
          102440513.518774,
          292601219.454106,
          105730829.60652,
          27308411.084500004,
          48714332.09187,
          21572080.852555998,
          692829624.9467999,
          149460353.2026,
          104563453.66590002,
          19186187.873905998,
          64560890.90671001,
          20646209.019369997,
          7243925.6879,
          24121310.152080003,
          234190689.64099997,
          16284812.528,
          13596418.7223,
          34409608.826799996,
          819198872.8639001,
          17246786.5439226,
          21987738.095357,
          81075149.55900961,
          5212578267.23777,
          14073472.189399999,
          9008618.86291,
          276759279.01743,
          17118066.057222,
          33121517.276740007,
          25576724.508863,
          7211918.249600001,
          57933493.24583,
          19607455.77202,
          26950166.3788,
          8912499.0265,
          14702557.7194,
          17892144.9107,
          44173312.21870001,
          308263643.83689,
          1526224600.7833998,
          18549049.323000003,
          374443426.22349006,
          77524007.10052499,
          4658186023.201106,
          7860214.4984,
          72464554.54800999,
          9833114.563000001,
          84811132.1601,
          82958176.98110001,
          32254690.647749998,
          7394421.517460001,
          676682516.1423,
          43906470.14694,
          9850646.958449999,
          551201429.7796999,
          3434044512.63016,
          6611778.284100001,
          85210916418.96866,
          573010273.0239,
          382776326.04693997,
          18990648.55432,
          170668886.9876,
          23758541.45463,
          30583442.7278,
          45971777.01884001
         ]
        }
       ],
       "layout": {
        "annotations": [
         {
          "font": {
           "size": 12
          },
          "showarrow": false,
          "text": "Color indicates daily performance: <span style='color:#3D9970'>Green = Positive</span>, <span style='color:#FF4136'>Red = Negative</span>",
          "x": 0.5,
          "xref": "paper",
          "y": 1.05,
          "yref": "paper"
         }
        ],
        "coloraxis": {
         "showscale": false
        },
        "height": 800,
        "legend": {
         "tracegroupgap": 0
        },
        "margin": {
         "b": 25,
         "l": 25,
         "r": 25,
         "t": 80
        },
        "template": {
         "data": {
          "bar": [
           {
            "error_x": {
             "color": "#f2f5fa"
            },
            "error_y": {
             "color": "#f2f5fa"
            },
            "marker": {
             "line": {
              "color": "rgb(17,17,17)",
              "width": 0.5
             },
             "pattern": {
              "fillmode": "overlay",
              "size": 10,
              "solidity": 0.2
             }
            },
            "type": "bar"
           }
          ],
          "barpolar": [
           {
            "marker": {
             "line": {
              "color": "rgb(17,17,17)",
              "width": 0.5
             },
             "pattern": {
              "fillmode": "overlay",
              "size": 10,
              "solidity": 0.2
             }
            },
            "type": "barpolar"
           }
          ],
          "carpet": [
           {
            "aaxis": {
             "endlinecolor": "#A2B1C6",
             "gridcolor": "#506784",
             "linecolor": "#506784",
             "minorgridcolor": "#506784",
             "startlinecolor": "#A2B1C6"
            },
            "baxis": {
             "endlinecolor": "#A2B1C6",
             "gridcolor": "#506784",
             "linecolor": "#506784",
             "minorgridcolor": "#506784",
             "startlinecolor": "#A2B1C6"
            },
            "type": "carpet"
           }
          ],
          "choropleth": [
           {
            "colorbar": {
             "outlinewidth": 0,
             "ticks": ""
            },
            "type": "choropleth"
           }
          ],
          "contour": [
           {
            "colorbar": {
             "outlinewidth": 0,
             "ticks": ""
            },
            "colorscale": [
             [
              0,
              "#0d0887"
             ],
             [
              0.1111111111111111,
              "#46039f"
             ],
             [
              0.2222222222222222,
              "#7201a8"
             ],
             [
              0.3333333333333333,
              "#9c179e"
             ],
             [
              0.4444444444444444,
              "#bd3786"
             ],
             [
              0.5555555555555556,
              "#d8576b"
             ],
             [
              0.6666666666666666,
              "#ed7953"
             ],
             [
              0.7777777777777778,
              "#fb9f3a"
             ],
             [
              0.8888888888888888,
              "#fdca26"
             ],
             [
              1,
              "#f0f921"
             ]
            ],
            "type": "contour"
           }
          ],
          "contourcarpet": [
           {
            "colorbar": {
             "outlinewidth": 0,
             "ticks": ""
            },
            "type": "contourcarpet"
           }
          ],
          "heatmap": [
           {
            "colorbar": {
             "outlinewidth": 0,
             "ticks": ""
            },
            "colorscale": [
             [
              0,
              "#0d0887"
             ],
             [
              0.1111111111111111,
              "#46039f"
             ],
             [
              0.2222222222222222,
              "#7201a8"
             ],
             [
              0.3333333333333333,
              "#9c179e"
             ],
             [
              0.4444444444444444,
              "#bd3786"
             ],
             [
              0.5555555555555556,
              "#d8576b"
             ],
             [
              0.6666666666666666,
              "#ed7953"
             ],
             [
              0.7777777777777778,
              "#fb9f3a"
             ],
             [
              0.8888888888888888,
              "#fdca26"
             ],
             [
              1,
              "#f0f921"
             ]
            ],
            "type": "heatmap"
           }
          ],
          "heatmapgl": [
           {
            "colorbar": {
             "outlinewidth": 0,
             "ticks": ""
            },
            "colorscale": [
             [
              0,
              "#0d0887"
             ],
             [
              0.1111111111111111,
              "#46039f"
             ],
             [
              0.2222222222222222,
              "#7201a8"
             ],
             [
              0.3333333333333333,
              "#9c179e"
             ],
             [
              0.4444444444444444,
              "#bd3786"
             ],
             [
              0.5555555555555556,
              "#d8576b"
             ],
             [
              0.6666666666666666,
              "#ed7953"
             ],
             [
              0.7777777777777778,
              "#fb9f3a"
             ],
             [
              0.8888888888888888,
              "#fdca26"
             ],
             [
              1,
              "#f0f921"
             ]
            ],
            "type": "heatmapgl"
           }
          ],
          "histogram": [
           {
            "marker": {
             "pattern": {
              "fillmode": "overlay",
              "size": 10,
              "solidity": 0.2
             }
            },
            "type": "histogram"
           }
          ],
          "histogram2d": [
           {
            "colorbar": {
             "outlinewidth": 0,
             "ticks": ""
            },
            "colorscale": [
             [
              0,
              "#0d0887"
             ],
             [
              0.1111111111111111,
              "#46039f"
             ],
             [
              0.2222222222222222,
              "#7201a8"
             ],
             [
              0.3333333333333333,
              "#9c179e"
             ],
             [
              0.4444444444444444,
              "#bd3786"
             ],
             [
              0.5555555555555556,
              "#d8576b"
             ],
             [
              0.6666666666666666,
              "#ed7953"
             ],
             [
              0.7777777777777778,
              "#fb9f3a"
             ],
             [
              0.8888888888888888,
              "#fdca26"
             ],
             [
              1,
              "#f0f921"
             ]
            ],
            "type": "histogram2d"
           }
          ],
          "histogram2dcontour": [
           {
            "colorbar": {
             "outlinewidth": 0,
             "ticks": ""
            },
            "colorscale": [
             [
              0,
              "#0d0887"
             ],
             [
              0.1111111111111111,
              "#46039f"
             ],
             [
              0.2222222222222222,
              "#7201a8"
             ],
             [
              0.3333333333333333,
              "#9c179e"
             ],
             [
              0.4444444444444444,
              "#bd3786"
             ],
             [
              0.5555555555555556,
              "#d8576b"
             ],
             [
              0.6666666666666666,
              "#ed7953"
             ],
             [
              0.7777777777777778,
              "#fb9f3a"
             ],
             [
              0.8888888888888888,
              "#fdca26"
             ],
             [
              1,
              "#f0f921"
             ]
            ],
            "type": "histogram2dcontour"
           }
          ],
          "mesh3d": [
           {
            "colorbar": {
             "outlinewidth": 0,
             "ticks": ""
            },
            "type": "mesh3d"
           }
          ],
          "parcoords": [
           {
            "line": {
             "colorbar": {
              "outlinewidth": 0,
              "ticks": ""
             }
            },
            "type": "parcoords"
           }
          ],
          "pie": [
           {
            "automargin": true,
            "type": "pie"
           }
          ],
          "scatter": [
           {
            "marker": {
             "line": {
              "color": "#283442"
             }
            },
            "type": "scatter"
           }
          ],
          "scatter3d": [
           {
            "line": {
             "colorbar": {
              "outlinewidth": 0,
              "ticks": ""
             }
            },
            "marker": {
             "colorbar": {
              "outlinewidth": 0,
              "ticks": ""
             }
            },
            "type": "scatter3d"
           }
          ],
          "scattercarpet": [
           {
            "marker": {
             "colorbar": {
              "outlinewidth": 0,
              "ticks": ""
             }
            },
            "type": "scattercarpet"
           }
          ],
          "scattergeo": [
           {
            "marker": {
             "colorbar": {
              "outlinewidth": 0,
              "ticks": ""
             }
            },
            "type": "scattergeo"
           }
          ],
          "scattergl": [
           {
            "marker": {
             "line": {
              "color": "#283442"
             }
            },
            "type": "scattergl"
           }
          ],
          "scattermapbox": [
           {
            "marker": {
             "colorbar": {
              "outlinewidth": 0,
              "ticks": ""
             }
            },
            "type": "scattermapbox"
           }
          ],
          "scatterpolar": [
           {
            "marker": {
             "colorbar": {
              "outlinewidth": 0,
              "ticks": ""
             }
            },
            "type": "scatterpolar"
           }
          ],
          "scatterpolargl": [
           {
            "marker": {
             "colorbar": {
              "outlinewidth": 0,
              "ticks": ""
             }
            },
            "type": "scatterpolargl"
           }
          ],
          "scatterternary": [
           {
            "marker": {
             "colorbar": {
              "outlinewidth": 0,
              "ticks": ""
             }
            },
            "type": "scatterternary"
           }
          ],
          "surface": [
           {
            "colorbar": {
             "outlinewidth": 0,
             "ticks": ""
            },
            "colorscale": [
             [
              0,
              "#0d0887"
             ],
             [
              0.1111111111111111,
              "#46039f"
             ],
             [
              0.2222222222222222,
              "#7201a8"
             ],
             [
              0.3333333333333333,
              "#9c179e"
             ],
             [
              0.4444444444444444,
              "#bd3786"
             ],
             [
              0.5555555555555556,
              "#d8576b"
             ],
             [
              0.6666666666666666,
              "#ed7953"
             ],
             [
              0.7777777777777778,
              "#fb9f3a"
             ],
             [
              0.8888888888888888,
              "#fdca26"
             ],
             [
              1,
              "#f0f921"
             ]
            ],
            "type": "surface"
           }
          ],
          "table": [
           {
            "cells": {
             "fill": {
              "color": "#506784"
             },
             "line": {
              "color": "rgb(17,17,17)"
             }
            },
            "header": {
             "fill": {
              "color": "#2a3f5f"
             },
             "line": {
              "color": "rgb(17,17,17)"
             }
            },
            "type": "table"
           }
          ]
         },
         "layout": {
          "annotationdefaults": {
           "arrowcolor": "#f2f5fa",
           "arrowhead": 0,
           "arrowwidth": 1
          },
          "autotypenumbers": "strict",
          "coloraxis": {
           "colorbar": {
            "outlinewidth": 0,
            "ticks": ""
           }
          },
          "colorscale": {
           "diverging": [
            [
             0,
             "#8e0152"
            ],
            [
             0.1,
             "#c51b7d"
            ],
            [
             0.2,
             "#de77ae"
            ],
            [
             0.3,
             "#f1b6da"
            ],
            [
             0.4,
             "#fde0ef"
            ],
            [
             0.5,
             "#f7f7f7"
            ],
            [
             0.6,
             "#e6f5d0"
            ],
            [
             0.7,
             "#b8e186"
            ],
            [
             0.8,
             "#7fbc41"
            ],
            [
             0.9,
             "#4d9221"
            ],
            [
             1,
             "#276419"
            ]
           ],
           "sequential": [
            [
             0,
             "#0d0887"
            ],
            [
             0.1111111111111111,
             "#46039f"
            ],
            [
             0.2222222222222222,
             "#7201a8"
            ],
            [
             0.3333333333333333,
             "#9c179e"
            ],
            [
             0.4444444444444444,
             "#bd3786"
            ],
            [
             0.5555555555555556,
             "#d8576b"
            ],
            [
             0.6666666666666666,
             "#ed7953"
            ],
            [
             0.7777777777777778,
             "#fb9f3a"
            ],
            [
             0.8888888888888888,
             "#fdca26"
            ],
            [
             1,
             "#f0f921"
            ]
           ],
           "sequentialminus": [
            [
             0,
             "#0d0887"
            ],
            [
             0.1111111111111111,
             "#46039f"
            ],
            [
             0.2222222222222222,
             "#7201a8"
            ],
            [
             0.3333333333333333,
             "#9c179e"
            ],
            [
             0.4444444444444444,
             "#bd3786"
            ],
            [
             0.5555555555555556,
             "#d8576b"
            ],
            [
             0.6666666666666666,
             "#ed7953"
            ],
            [
             0.7777777777777778,
             "#fb9f3a"
            ],
            [
             0.8888888888888888,
             "#fdca26"
            ],
            [
             1,
             "#f0f921"
            ]
           ]
          },
          "colorway": [
           "#636efa",
           "#EF553B",
           "#00cc96",
           "#ab63fa",
           "#FFA15A",
           "#19d3f3",
           "#FF6692",
           "#B6E880",
           "#FF97FF",
           "#FECB52"
          ],
          "font": {
           "color": "#f2f5fa"
          },
          "geo": {
           "bgcolor": "rgb(17,17,17)",
           "lakecolor": "rgb(17,17,17)",
           "landcolor": "rgb(17,17,17)",
           "showlakes": true,
           "showland": true,
           "subunitcolor": "#506784"
          },
          "hoverlabel": {
           "align": "left"
          },
          "hovermode": "closest",
          "mapbox": {
           "style": "dark"
          },
          "paper_bgcolor": "rgb(17,17,17)",
          "plot_bgcolor": "rgb(17,17,17)",
          "polar": {
           "angularaxis": {
            "gridcolor": "#506784",
            "linecolor": "#506784",
            "ticks": ""
           },
           "bgcolor": "rgb(17,17,17)",
           "radialaxis": {
            "gridcolor": "#506784",
            "linecolor": "#506784",
            "ticks": ""
           }
          },
          "scene": {
           "xaxis": {
            "backgroundcolor": "rgb(17,17,17)",
            "gridcolor": "#506784",
            "gridwidth": 2,
            "linecolor": "#506784",
            "showbackground": true,
            "ticks": "",
            "zerolinecolor": "#C8D4E3"
           },
           "yaxis": {
            "backgroundcolor": "rgb(17,17,17)",
            "gridcolor": "#506784",
            "gridwidth": 2,
            "linecolor": "#506784",
            "showbackground": true,
            "ticks": "",
            "zerolinecolor": "#C8D4E3"
           },
           "zaxis": {
            "backgroundcolor": "rgb(17,17,17)",
            "gridcolor": "#506784",
            "gridwidth": 2,
            "linecolor": "#506784",
            "showbackground": true,
            "ticks": "",
            "zerolinecolor": "#C8D4E3"
           }
          },
          "shapedefaults": {
           "line": {
            "color": "#f2f5fa"
           }
          },
          "sliderdefaults": {
           "bgcolor": "#C8D4E3",
           "bordercolor": "rgb(17,17,17)",
           "borderwidth": 1,
           "tickwidth": 0
          },
          "ternary": {
           "aaxis": {
            "gridcolor": "#506784",
            "linecolor": "#506784",
            "ticks": ""
           },
           "baxis": {
            "gridcolor": "#506784",
            "linecolor": "#506784",
            "ticks": ""
           },
           "bgcolor": "rgb(17,17,17)",
           "caxis": {
            "gridcolor": "#506784",
            "linecolor": "#506784",
            "ticks": ""
           }
          },
          "title": {
           "x": 0.05
          },
          "updatemenudefaults": {
           "bgcolor": "#506784",
           "borderwidth": 0
          },
          "xaxis": {
           "automargin": true,
           "gridcolor": "#283442",
           "linecolor": "#506784",
           "ticks": "",
           "title": {
            "standoff": 15
           },
           "zerolinecolor": "#283442",
           "zerolinewidth": 2
          },
          "yaxis": {
           "automargin": true,
           "gridcolor": "#283442",
           "linecolor": "#506784",
           "ticks": "",
           "title": {
            "standoff": 15
           },
           "zerolinecolor": "#283442",
           "zerolinewidth": 2
          }
         }
        },
        "title": {
         "text": "All Cryptocurrencies by Trading Volume (USDT) - Colored by Weekly Performance"
        },
        "uniformtext": {
         "minsize": 10,
         "mode": "hide"
        },
        "width": 1200
       }
      }
     },
     "metadata": {},
     "output_type": "display_data"
    }
   ],
   "source": [
    "# Prepare combined performance and volume data\n",
    "treemap_data = []\n",
    "for symbol in returns_data.keys():\n",
    "    weekly_return = sum(returns_data[symbol])\n",
    "    weekly_volume = sum(volume_data.get(symbol, [0]))\n",
    "    treemap_data.append({\n",
    "        'Symbol': symbol,\n",
    "        'USDT Volume': weekly_volume,\n",
    "        'Weekly Return': weekly_return,\n",
    "        'Performance': 'Positive' if weekly_return >= 0 else 'Negative'\n",
    "    })\n",
    "\n",
    "treemap_df = pd.DataFrame(treemap_data)\n",
    "\n",
    "# Create the treemap\n",
    "fig_volume = px.treemap(\n",
    "    treemap_df,\n",
    "    path=['Symbol'],\n",
    "    values='USDT Volume',\n",
    "    title='All Cryptocurrencies by Trading Volume (USDT) - Colored by Weekly Performance',\n",
    "    color='Performance',\n",
    "    color_discrete_map={'Positive':'#3D9970', 'Negative':'#FF4136'},  # Green and red\n",
    "    hover_data=['Weekly Return', 'USDT Volume'],\n",
    "    hover_name='Symbol',\n",
    "    width=1200,\n",
    "    height=800\n",
    ")\n",
    "\n",
    "# Format hover template\n",
    "fig_volume.update_traces(\n",
    "    hovertemplate=\"<b>%{label}</b><br>\" +\n",
    "                 \"Volume: %{value:,.0f} USDT<br>\" +\n",
    "                 \"Weekly Return: %{customdata[0]:.2f}%<extra></extra>\"\n",
    ")\n",
    "\n",
    "# Customize layout\n",
    "fig_volume.update_layout(\n",
    "    template=\"plotly_dark\",\n",
    "    margin=dict(t=80, l=25, r=25, b=25),\n",
    "    uniformtext=dict(minsize=12, mode='hide'),\n",
    "    coloraxis_showscale=False\n",
    ")\n",
    "\n",
    "# Add annotation about color meaning\n",
    "\n",
    "# Customize layout\n",
    "fig_volume.update_layout(\n",
    "    template=\"plotly_dark\",\n",
    "    margin=dict(t=80, l=25, r=25, b=25),\n",
    "    uniformtext=dict(minsize=10, mode='hide'),\n",
    "    annotations=[\n",
    "        dict(\n",
    "            x=0.5, y=1.05,\n",
    "            xref=\"paper\", yref=\"paper\",\n",
    "            text=\"Color indicates daily performance: <span style='color:#3D9970'>Green = Positive</span>, <span style='color:#FF4136'>Red = Negative</span>\",\n",
    "            showarrow=False,\n",
    "            font=dict(size=12)\n",
    "        )\n",
    "    ]\n",
    ")\n",
    "\n",
    "fig_volume.show()"
   ]
  },
  {
   "cell_type": "code",
   "execution_count": 12,
   "id": "24e942ed",
   "metadata": {},
   "outputs": [
    {
     "data": {
      "application/vnd.plotly.v1+json": {
       "config": {
        "plotlyServerURL": "https://plot.ly"
       },
       "data": [
        {
         "branchvalues": "total",
         "customdata": [
          [
           -0.5600634282618403,
           838527.9239200001,
           "Negative"
          ],
          [
           -1.2653020171064204,
           47627839.4025,
           "Negative"
          ],
          [
           -0.15829531463687108,
           828791.097904,
           "Negative"
          ],
          [
           -0.13879252748481916,
           1805264.1792,
           "Negative"
          ],
          [
           -0.531080205590457,
           3846382.35234,
           "Negative"
          ],
          [
           -0.28960137511052825,
           300659575.23041004,
           "Negative"
          ],
          [
           -0.5371490665139652,
           1290777.05475,
           "Negative"
          ],
          [
           -0.11930802767390512,
           12302563.81641,
           "Negative"
          ],
          [
           -0.851068966790862,
           4031371.2722400003,
           "Negative"
          ],
          [
           -0.08156607303766494,
           1853926.3509000002,
           "Negative"
          ],
          [
           -0.38910554929665647,
           806576.6646,
           "Negative"
          ],
          [
           -0.05270092348589629,
           5754795.8406259995,
           "Negative"
          ],
          [
           -1.288402598914257,
           64729614.725999996,
           "Negative"
          ],
          [
           -0.32948958968525377,
           1364992.81737,
           "Negative"
          ],
          [
           -0.5867668687691283,
           1927488.6931331998,
           "Negative"
          ],
          [
           -0.9502763939172182,
           3444767.9429699997,
           "Negative"
          ],
          [
           -0.02222963219113539,
           46564485.721,
           "Negative"
          ],
          [
           -7.379449809921191,
           14297141.27128,
           "Negative"
          ],
          [
           -2.3782333717925916,
           26610443.712599996,
           "Negative"
          ],
          [
           -0.6404679826242302,
           2283713.412,
           "Negative"
          ],
          [
           -0.9100232581165336,
           61371606.5844,
           "Negative"
          ],
          [
           -0.15238098186662155,
           3165827.43684,
           "Negative"
          ],
          [
           -0.510465631168295,
           1086775.2315,
           "Negative"
          ],
          [
           -1.7196829934719684,
           5934053.271790001,
           "Negative"
          ],
          [
           -0.16697282222954216,
           3624649.7830399997,
           "Negative"
          ],
          [
           -1.006141765939259,
           3949999.58366,
           "Negative"
          ],
          [
           -3.074430075689615,
           20098853.669680003,
           "Negative"
          ],
          [
           -0.04627987062532202,
           93456830.05600001,
           "Negative"
          ],
          [
           -0.013472549700407658,
           1280821.14558,
           "Negative"
          ],
          [
           -0.9251222374562478,
           1625118.2466,
           "Negative"
          ],
          [
           -4.565807658427154,
           76150296.70456,
           "Negative"
          ],
          [
           -0.9077218151116652,
           2267707.4133,
           "Negative"
          ],
          [
           -0.7451599308420823,
           3622234.3865400003,
           "Negative"
          ],
          [
           -0.3252035386377343,
           1154958.56,
           "Negative"
          ],
          [
           -3.1108751714367786,
           27286145.62653,
           "Negative"
          ],
          [
           -1.515082396623376,
           8241693.77312,
           "Negative"
          ],
          [
           -0.662802757841334,
           1000418.32479,
           "Negative"
          ],
          [
           -0.8152219061550271,
           688972.6481999999,
           "Negative"
          ],
          [
           -0.2975436717479777,
           2973436.3011399996,
           "Negative"
          ],
          [
           -0.19808524139611036,
           4254868.758281999,
           "Negative"
          ],
          [
           -0.0780656201693735,
           4292892545.6205,
           "Negative"
          ],
          [
           -0.08267879759939627,
           419197.77900000004,
           "Negative"
          ],
          [
           -0.6295313961043946,
           42499189.8991,
           "Negative"
          ],
          [
           -1.7482962780347568,
           757366.26966,
           "Negative"
          ],
          [
           -2.357966282724968,
           6587409.983,
           "Negative"
          ],
          [
           -1.7801079332537089,
           3001721.3548000003,
           "Negative"
          ],
          [
           -4.000533461369937,
           9510057.650799999,
           "Negative"
          ],
          [
           -0.3053437486890343,
           3823008.9276000005,
           "Negative"
          ],
          [
           -2.6564252385797142,
           13689368.1593,
           "Negative"
          ],
          [
           -1.121347080503594,
           10705747.30173,
           "Negative"
          ],
          [
           -2.37260350363729,
           16853530.92041,
           "Negative"
          ],
          [
           -0.7627345733862599,
           3298986.2761199996,
           "Negative"
          ],
          [
           -0.03614675622223034,
           1186161.4824,
           "Negative"
          ],
          [
           -0.9228445045241859,
           4705794.028,
           "Negative"
          ],
          [
           -0.3013184953994276,
           810546.48422,
           "Negative"
          ],
          [
           -0.19266743748184273,
           12464916.40812,
           "Negative"
          ],
          [
           -0.2135992268149311,
           1303259.0183400002,
           "Negative"
          ],
          [
           -0.11303085330639534,
           2499396.97359,
           "Negative"
          ],
          [
           -1.298906990416644,
           1204658.0076000001,
           "Negative"
          ],
          [
           -8.565911173961606,
           23631374.6592,
           "Negative"
          ],
          [
           -2.03280040272526,
           3214900.5605599997,
           "Negative"
          ],
          [
           -1.5923903356722908,
           4843339.3092,
           "Negative"
          ],
          [
           -0.7305968570550494,
           3877610.3581800004,
           "Negative"
          ],
          [
           -0.06572461623382686,
           5939093.1132000005,
           "Negative"
          ],
          [
           -0.06404098841991698,
           2881762.59952,
           "Negative"
          ],
          [
           -0.2395210725954933,
           1652491.967658,
           "Negative"
          ],
          [
           -2.401862186592912,
           3069284.82975,
           "Negative"
          ],
          [
           -1.2674440896727937,
           4059718.6784,
           "Negative"
          ],
          [
           -1.3246882037962213,
           14171012.73993,
           "Negative"
          ],
          [
           -0.05883018610675165,
           82089420.14879,
           "Negative"
          ],
          [
           -0.41728823591950115,
           2288412.716364,
           "Negative"
          ],
          [
           -0.4470946344767011,
           8487468.418,
           "Negative"
          ],
          [
           -0.4358571479420022,
           6452306.19576,
           "Negative"
          ],
          [
           -0.9904339795135685,
           41917963.6238,
           "Negative"
          ],
          [
           -1.640916449895841,
           3188806.537,
           "Negative"
          ],
          [
           -1.8345162754283082,
           1608882.96633,
           "Negative"
          ],
          [
           -0.9350717482433794,
           578133.361,
           "Negative"
          ],
          [
           -0.5201695182682488,
           6638943.103848,
           "Negative"
          ],
          [
           -1.4981395553096706,
           20031108.310620002,
           "Negative"
          ],
          [
           -0.053700887355136194,
           2224212.5108999996,
           "Negative"
          ],
          [
           -0.15074393942077813,
           90630948.17580001,
           "Negative"
          ],
          [
           -0.22617134035388428,
           2045919.82788,
           "Negative"
          ],
          [
           -1.580788931451595,
           37638420.27549,
           "Negative"
          ],
          [
           -0.6248245263939195,
           828962.5967999999,
           "Negative"
          ],
          [
           -0.2024975379771279,
           2010466.1879999998,
           "Negative"
          ],
          [
           -0.592813888739541,
           11663254.72611,
           "Negative"
          ],
          [
           -0.21829303582158793,
           511532.87328,
           "Negative"
          ],
          [
           -3.667547855840657,
           17935999.94256,
           "Negative"
          ],
          [
           -0.519481687710391,
           1452341.49312,
           "Negative"
          ],
          [
           -0.6629858538669576,
           6873731.110136,
           "Negative"
          ],
          [
           -0.34599716200152003,
           2580916.7098,
           "Negative"
          ],
          [
           -1.570471076426077,
           899867.1174,
           "Negative"
          ],
          [
           -0.23408047447720445,
           40145456.125024,
           "Negative"
          ],
          [
           -1.2152607672676008,
           8925325.58308,
           "Negative"
          ],
          [
           -1.0606440985117986,
           26986118.58771,
           "Negative"
          ],
          [
           -1.2974233890015479,
           857617.57565,
           "Negative"
          ],
          [
           -0.05334756061436338,
           790607.26154,
           "Negative"
          ],
          [
           -1.3284328198734283,
           7820485.654208,
           "Negative"
          ],
          [
           -2.651534772786329,
           1329450.1245,
           "Negative"
          ],
          [
           -0.7197695228253211,
           1695713.71981,
           "Negative"
          ],
          [
           -3.1087890783761,
           66075760.34618399,
           "Negative"
          ],
          [
           -0.13726838119721355,
           1636596.8528000002,
           "Negative"
          ],
          [
           -0.1387283459486239,
           66362950.731,
           "Negative"
          ],
          [
           -1.1925032301116993,
           135480149.217,
           "Negative"
          ],
          [
           -3.904399828226504,
           3049332.5211300002,
           "Negative"
          ],
          [
           -0.08404538945483958,
           796751.8832,
           "Negative"
          ],
          [
           -0.5565877077445229,
           4038963.0819999995,
           "Negative"
          ],
          [
           -0.5071202598078844,
           1847536.64661,
           "Negative"
          ],
          [
           -1.7501955501387605,
           20196911.6352,
           "Negative"
          ],
          [
           -0.5392628486775126,
           82367527.0371,
           "Negative"
          ],
          [
           -0.01758241762771929,
           2755331.19741,
           "Negative"
          ],
          [
           -0.06974716934883327,
           3492062.48664,
           "Negative"
          ],
          [
           -1.776740694517565,
           3253901.18125,
           "Negative"
          ],
          [
           -0.40282028286047755,
           2696628.71098,
           "Negative"
          ],
          [
           -0.8035464685997359,
           193220233.824705,
           "Negative"
          ],
          [
           -0.07121662022064075,
           1971998.28801,
           "Negative"
          ],
          [
           -0.18505197015148417,
           4859929.76965,
           "Negative"
          ],
          [
           -0.9014871096215427,
           76194807.43966,
           "Negative"
          ],
          [
           -0.5619044565295711,
           946351.6426759999,
           "Negative"
          ],
          [
           -0.8282939996347808,
           14614926.530399999,
           "Negative"
          ],
          [
           -0.04310809421212099,
           21722386.2263368,
           "Negative"
          ],
          [
           -2.3905520853554365,
           9897324.7772,
           "Negative"
          ],
          [
           -2.040747395344867,
           42451599.228588,
           "Negative"
          ],
          [
           -0.5785274574094471,
           942046.607565,
           "Negative"
          ],
          [
           -0.13285385741324773,
           401939627.02114,
           "Negative"
          ],
          [
           -0.4962442474422353,
           7685512.3597888,
           "Negative"
          ],
          [
           -0.3510828650062859,
           627107.1581400001,
           "Negative"
          ],
          [
           -0.40366457545037765,
           2265979.5974000003,
           "Negative"
          ],
          [
           -0.5166422333755466,
           97967033.12704,
           "Negative"
          ],
          [
           -0.025034422461450375,
           999967.795,
           "Negative"
          ],
          [
           -0.27461255819562164,
           3442969.5275999997,
           "Negative"
          ],
          [
           -0.3746367619581694,
           2824513.434804,
           "Negative"
          ],
          [
           -0.5102051883895511,
           2579426.2962,
           "Negative"
          ],
          [
           -0.006805900718558302,
           1948283.01396,
           "Negative"
          ],
          [
           0.7561472700576488,
           4346999.50725,
           "Positive"
          ],
          [
           1.2883941536391454,
           844754.35386,
           "Positive"
          ],
          [
           1.899253582727432,
           1124338.3998,
           "Positive"
          ],
          [
           2.9892804898261174,
           29728373.95076,
           "Positive"
          ],
          [
           1.94670891648348,
           1609321.2724000001,
           "Positive"
          ],
          [
           1.5599202105633414,
           5840675.1915299995,
           "Positive"
          ],
          [
           6.3398806933777685,
           69682899.3237,
           "Positive"
          ],
          [
           2.241428212235959,
           2117836.6572000002,
           "Positive"
          ],
          [
           5.216306328458592,
           8916400.2368,
           "Positive"
          ],
          [
           0.4621995682835528,
           935806.9247999999,
           "Positive"
          ],
          [
           0.591289281557219,
           702253.7619299999,
           "Positive"
          ],
          [
           0.8138948889321681,
           62687749.3729924,
           "Positive"
          ],
          [
           3.704127168034886,
           84296961.2628,
           "Positive"
          ],
          [
           0.7335636772389353,
           38337773.14098,
           "Positive"
          ],
          [
           0.7168489478612496,
           2440786.236,
           "Positive"
          ],
          [
           1.8913318004986448,
           54039554.95770901,
           "Positive"
          ],
          [
           5.488605447877036,
           52866689.8152,
           "Positive"
          ],
          [
           2.9974996220794723,
           23668240.995,
           "Positive"
          ],
          [
           2.7638768019922417,
           22925656.0917,
           "Positive"
          ],
          [
           0.5424122528938347,
           899349.24414,
           "Positive"
          ],
          [
           10.84128473687989,
           27352532.8638,
           "Positive"
          ],
          [
           0.8004616782614039,
           1284471.5048,
           "Positive"
          ],
          [
           0.4421690242239756,
           12498112.2476,
           "Positive"
          ],
          [
           1.9382108810453453,
           637259594.1114,
           "Positive"
          ],
          [
           2.992038039503803,
           18143680.2108,
           "Positive"
          ],
          [
           1.5979035057889193,
           733908.1692,
           "Positive"
          ],
          [
           0.4053511833182637,
           2099159.71008,
           "Positive"
          ],
          [
           0.753299230754501,
           1297449.0672,
           "Positive"
          ],
          [
           0.12272449893771939,
           2611710.72744,
           "Positive"
          ],
          [
           1.5537913592535875,
           3520931.2617,
           "Positive"
          ],
          [
           6.677387253939073,
           4991075.149060001,
           "Positive"
          ],
          [
           0.3050697745100089,
           852984.854099,
           "Positive"
          ],
          [
           2.763517223432621,
           125794819.431,
           "Positive"
          ],
          [
           0.8505451084983277,
           11445745.73273,
           "Positive"
          ],
          [
           0.5441696722314658,
           4769819.81912,
           "Positive"
          ],
          [
           0.23693789425270573,
           3096042.21256,
           "Positive"
          ],
          [
           2.9764900096478093,
           10616562.397,
           "Positive"
          ],
          [
           7.669129990381656,
           7216812.09834,
           "Positive"
          ],
          [
           0.2543883335737681,
           3253019.5728,
           "Positive"
          ],
          [
           0.37453227301621134,
           770146.2495,
           "Positive"
          ],
          [
           0.6640130639277557,
           726734.05041,
           "Positive"
          ],
          [
           0.7360095204599854,
           2497897.4933599997,
           "Positive"
          ],
          [
           3.003897011219239,
           4384680.58002,
           "Positive"
          ],
          [
           0,
           9886451.7725,
           "Positive"
          ],
          [
           0.9916974911915954,
           175329501.19,
           "Positive"
          ],
          [
           0.8928630744301398,
           2796012,
           "Positive"
          ],
          [
           0.8571273510710801,
           995404.9439000001,
           "Positive"
          ],
          [
           3.715977927484962,
           135300755.2622,
           "Positive"
          ],
          [
           3.060872587616914,
           23256054.53209,
           "Positive"
          ],
          [
           2.7587585596127333,
           31965106.905400004,
           "Positive"
          ],
          [
           0.8103715450157334,
           21920293.399449997,
           "Positive"
          ],
          [
           1.83973651397161,
           3556790.87616,
           "Positive"
          ],
          [
           0.9548890889773852,
           1105253.183589,
           "Positive"
          ],
          [
           1.2569481568371228,
           6073905.981849999,
           "Positive"
          ],
          [
           3.0893025254680984,
           79931034.5757,
           "Positive"
          ],
          [
           1.0106469001342797,
           1558031.8172000002,
           "Positive"
          ],
          [
           0.672615490924331,
           998673.10988,
           "Positive"
          ],
          [
           0.39976794045827835,
           38713966.879140005,
           "Positive"
          ],
          [
           2.742282829638932,
           6739930.8065100005,
           "Positive"
          ],
          [
           1.846598157304423,
           2579511.08715,
           "Positive"
          ],
          [
           2.054085152387392,
           4626614.0208,
           "Positive"
          ],
          [
           2.142863366687002,
           10906561.87188,
           "Positive"
          ],
          [
           7.389724620204122,
           28241978.0103,
           "Positive"
          ],
          [
           0.11235956238264877,
           1382567.5032000002,
           "Positive"
          ],
          [
           2.068922363055126,
           4825319.91318,
           "Positive"
          ],
          [
           2.253314221228781,
           7644350.584,
           "Positive"
          ],
          [
           1.1487043987130778,
           3788208.0327999997,
           "Positive"
          ],
          [
           2.1506205220963683,
           3878798.5536,
           "Positive"
          ],
          [
           0.6150202899416906,
           2389875.136,
           "Positive"
          ],
          [
           1.7337466172889802,
           3279875.0425199997,
           "Positive"
          ],
          [
           0.5471034333938167,
           621933.3975000001,
           "Positive"
          ],
          [
           0.18709079358116024,
           5956002.097,
           "Positive"
          ],
          [
           0.16725101193783384,
           19165074.18822,
           "Positive"
          ],
          [
           1.4098924379501676,
           2106231.6149999998,
           "Positive"
          ],
          [
           0.6807378228024886,
           6203602.83235,
           "Positive"
          ],
          [
           1.4625213568571651,
           1555757.97024,
           "Positive"
          ],
          [
           0.9008568958559062,
           49500751.2008,
           "Positive"
          ],
          [
           0.024102193416270398,
           262109572.41922998,
           "Positive"
          ],
          [
           2.8861584357184387,
           18973840.2294,
           "Positive"
          ],
          [
           1.9382985782678421,
           2767829.5259729996,
           "Positive"
          ],
          [
           1.435170869641835,
           13225354.20288,
           "Positive"
          ],
          [
           1.9912162320112967,
           887949.9824799999,
           "Positive"
          ],
          [
           1.4102266061470259,
           7389061.988,
           "Positive"
          ],
          [
           0.5701630903663453,
           998668.6346999999,
           "Positive"
          ],
          [
           0.43549333933728307,
           422694.3364,
           "Positive"
          ],
          [
           1.446679841775348,
           5851565.68344,
           "Positive"
          ],
          [
           2.209220924473354,
           2307834.0981,
           "Positive"
          ],
          [
           1.3547444273381792,
           34052897.483040005,
           "Positive"
          ],
          [
           1.32164858997336,
           2330424.2619,
           "Positive"
          ],
          [
           0.3358525407134224,
           2866839.50896,
           "Positive"
          ],
          [
           0.5922568564858565,
           964300.8538800001,
           "Positive"
          ],
          [
           2.690035621669777,
           939547.9127999999,
           "Positive"
          ],
          [
           2.106019601376359,
           2544684.7041,
           "Positive"
          ],
          [
           2.9988029708757225,
           50310803.162420005,
           "Positive"
          ],
          [
           0.7698267425752336,
           17126794.027999997,
           "Positive"
          ],
          [
           0,
           767230.618,
           "Positive"
          ],
          [
           0.8238975544552641,
           2233095.9299999997,
           "Positive"
          ],
          [
           1.8915446992535545,
           1565079.57372,
           "Positive"
          ],
          [
           1.9606614054810863,
           9581052.075579999,
           "Positive"
          ],
          [
           0.8429168681916047,
           12534828.76082,
           "Positive"
          ],
          [
           1.1020841014279046,
           1277757.61876,
           "Positive"
          ],
          [
           2.127739844728488,
           4944145.8114,
           "Positive"
          ],
          [
           1.0250315856167664,
           7806698.0274,
           "Positive"
          ],
          [
           3.2945754347091833,
           311157950.8371,
           "Positive"
          ],
          [
           0.029559562733704983,
           668509.8999,
           "Positive"
          ],
          [
           1.846010409673913,
           19186867.3668,
           "Positive"
          ],
          [
           4.114919082837271,
           13920778.3943,
           "Positive"
          ],
          [
           0.5538521754642594,
           8033645.119500001,
           "Positive"
          ],
          [
           3.366740076434987,
           10305354.00206,
           "Positive"
          ],
          [
           3.075437213382666,
           2978802.64052,
           "Positive"
          ],
          [
           1.776496963201428,
           1478297.95015,
           "Positive"
          ],
          [
           0.09594956530786697,
           5348174.95692,
           "Positive"
          ],
          [
           11.342677037554395,
           24433181.01446,
           "Positive"
          ],
          [
           1.3712702227237532,
           1514838.5589,
           "Positive"
          ],
          [
           6.869025384203329,
           61822951.90632,
           "Positive"
          ],
          [
           2.5356328043615397,
           2073401.92495,
           "Positive"
          ],
          [
           0.17459629053376274,
           2571538.36862,
           "Positive"
          ],
          [
           0.17903920435253928,
           1615714810.8818002,
           "Positive"
          ],
          [
           0.16934805063331476,
           4079245.5297,
           "Positive"
          ],
          [
           1.2109128789749617,
           816083.9213800001,
           "Positive"
          ],
          [
           4.183543695180371,
           2880061.29005,
           "Positive"
          ],
          [
           1.2008877942215197,
           1807570.75776,
           "Positive"
          ],
          [
           8.137960626837803,
           6456867.795179999,
           "Positive"
          ],
          [
           0.9348235030421701,
           12355367.444133,
           "Positive"
          ],
          [
           1.5713420639594318,
           958708.79368,
           "Positive"
          ],
          [
           4.707837493212225,
           4048696.3888,
           "Positive"
          ],
          [
           0.30467923460499113,
           2292518.32992,
           "Positive"
          ],
          [
           0.1614755625731396,
           2968235.3063000003,
           "Positive"
          ],
          [
           0.23849882641393208,
           14799712.0656,
           "Positive"
          ],
          [
           1.905833569350513,
           3558000.5527000003,
           "Positive"
          ],
          [
           1.8266715424795306,
           39574852.791200005,
           "Positive"
          ],
          [
           0.5680488647542693,
           7931447.74352,
           "Positive"
          ],
          [
           0.7797310460031711,
           15945831.913725,
           "Positive"
          ],
          [
           2.6729790593443212,
           6325119.822299999,
           "Positive"
          ],
          [
           10.473844065603,
           83931782.74184,
           "Positive"
          ],
          [
           0.13902920361302085,
           6842618208.2386,
           "Positive"
          ],
          [
           1.7186244705410862,
           2076142.3338,
           "Positive"
          ],
          [
           5.759576350797378,
           9067230.4784,
           "Positive"
          ],
          [
           2.899791510801858,
           5924064.647332001,
           "Positive"
          ],
          [
           8.611491794259278,
           10865386.4826,
           "Positive"
          ],
          [
           0.13643261429841938,
           113774141.71554,
           "Positive"
          ],
          [
           0.4891825371254158,
           2876014.3867200003,
           "Positive"
          ],
          [
           0.07833921278042992,
           1797645.8743200002,
           "Positive"
          ],
          [
           0.7299302481611535,
           1757325.16575,
           "Positive"
          ],
          [
           3.403477425161922,
           4240795.2938,
           "Positive"
          ],
          [
           1.2093438490683337,
           14331279.3538,
           "Positive"
          ],
          [
           0.8008050803342751,
           2625162.6321,
           "Positive"
          ],
          [
           6.257573716631786,
           11049355.474499999,
           "Positive"
          ],
          [
           2.186318289061961,
           8894515.7216,
           "Positive"
          ],
          [
           0.6524489895282126,
           1709995.79439,
           "Positive"
          ],
          [
           0.8403410796379379,
           3134183.621,
           "Positive"
          ],
          [
           1.1814483413763055,
           1106541.8844,
           "Positive"
          ],
          [
           24.02999134752716,
           266190294.2629,
           "Positive"
          ],
          [
           0,
           50228356.519200005,
           "Positive"
          ],
          [
           1.3812863496519157,
           2263294.3891,
           "Positive"
          ],
          [
           4.329178426554094,
           5388239.7056,
           "Positive"
          ],
          [
           0.16396134186387246,
           2173895.480288,
           "Positive"
          ],
          [
           0.9237940984936139,
           2342855.712,
           "Positive"
          ],
          [
           0.058156442464946514,
           16726996.387999998,
           "Positive"
          ],
          [
           0.7604599385219213,
           1515553.068744,
           "Positive"
          ],
          [
           0.19804787913442473,
           4841312.23596,
           "Positive"
          ],
          [
           2.4469991061950362,
           3574503.8328,
           "Positive"
          ],
          [
           3.4183109938820864,
           22231892.86411,
           "Positive"
          ],
          [
           2.127054088905555,
           7678179.640319999,
           "Positive"
          ],
          [
           1.6391570389805628,
           4639725.90257,
           "Positive"
          ],
          [
           0,
           4467548.9016,
           "Positive"
          ],
          [
           0.8552281815317158,
           1994507.9514,
           "Positive"
          ],
          [
           0.17490166242615524,
           11783473.422840001,
           "Positive"
          ],
          [
           2.2402370560799345,
           8161129.183,
           "Positive"
          ],
          [
           1.6187403818657269,
           6987424.856430001,
           "Positive"
          ],
          [
           0.27793236345744415,
           95301259.59,
           "Positive"
          ],
          [
           1.2240054894502006,
           2794337.9538,
           "Positive"
          ],
          [
           3.4016441889370883,
           11716430.12404,
           "Positive"
          ],
          [
           0.5030666166783376,
           25634803.711579997,
           "Positive"
          ],
          [
           0.7446050784078532,
           2046413.2505599998,
           "Positive"
          ],
          [
           1.3161177048581063,
           5177225.98368,
           "Positive"
          ],
          [
           1.0889399799268318,
           4220936.953133999,
           "Positive"
          ],
          [
           1.101353997964131,
           1304149.856304,
           "Positive"
          ],
          [
           5.117779649525868,
           246274454.95999998,
           "Positive"
          ],
          [
           0.9551170984342766,
           2595209.7287999997,
           "Positive"
          ],
          [
           2.1548672574192196,
           6640065.576894401,
           "Positive"
          ],
          [
           0.20207593906823285,
           1083201.9693699998,
           "Positive"
          ],
          [
           4.09740742103057,
           1127435.7330123999,
           "Positive"
          ],
          [
           0.5235614053945163,
           7854114.2412616005,
           "Positive"
          ],
          [
           1.4297304700824394,
           3009831.6353399996,
           "Positive"
          ],
          [
           0.8259941627499896,
           489504778.58802855,
           "Positive"
          ],
          [
           1.438486859849887,
           23871056.70056,
           "Positive"
          ],
          [
           1.6829390775372846,
           81084193.66174999,
           "Positive"
          ],
          [
           1.7483717533357301,
           5498937.96309,
           "Positive"
          ],
          [
           0.5577259298106215,
           3123666.2989999996,
           "Positive"
          ],
          [
           2.023814351669097,
           5235890.178768,
           "Positive"
          ],
          [
           3.135907948673331,
           29739531.8962,
           "Positive"
          ],
          [
           4.770989351303609,
           1348181.6611,
           "Positive"
          ],
          [
           0.629981701841649,
           5430973.75624,
           "Positive"
          ],
          [
           0.520978842827796,
           2915325.7884,
           "Positive"
          ],
          [
           1.1952333523841172,
           22082322.8196,
           "Positive"
          ],
          [
           1.332214408428457,
           3145836.3591899998,
           "Positive"
          ],
          [
           2.5975486403260737,
           1512658.4187,
           "Positive"
          ],
          [
           0.0480548708489611,
           793127.468448,
           "Positive"
          ],
          [
           1.2433171951326365,
           1360897.1538,
           "Positive"
          ],
          [
           6.489400447168571,
           20610372.655599996,
           "Positive"
          ],
          [
           0.47936177012365044,
           1151923.28682,
           "Positive"
          ],
          [
           0.19652806849536014,
           7608092.304,
           "Positive"
          ],
          [
           0.29596765962966165,
           7667735.91364,
           "Positive"
          ],
          [
           11.010807060696107,
           194338761.8704,
           "Positive"
          ],
          [
           0.9340502156993814,
           17129926.3267,
           "Positive"
          ],
          [
           0,
           1302061.13388,
           "Positive"
          ],
          [
           1.0106767669774384,
           21817425.7937,
           "Positive"
          ],
          [
           0.8053734807096823,
           2389501.0348,
           "Positive"
          ],
          [
           2.2976634200244725,
           12668780.6111,
           "Positive"
          ],
          [
           2.4075165189984102,
           5616600.07476,
           "Positive"
          ],
          [
           0.1428444131827724,
           3788610.16644,
           "Positive"
          ],
          [
           1.1153992003781543,
           462877.43330000003,
           "Positive"
          ],
          [
           2.932436952674845,
           121395831.07540001,
           "Positive"
          ],
          [
           1.2630417352929606,
           2403590.9604720003,
           "Positive"
          ],
          [
           0.5185837032365416,
           2073799.4714,
           "Positive"
          ],
          [
           2.3256862164267185,
           19814660.483400002,
           "Positive"
          ],
          [
           5.391691991577762,
           3575502.084,
           "Positive"
          ],
          [
           5.315144515829625,
           24222130.24658,
           "Positive"
          ],
          [
           5.620974135862035,
           61547148.6552,
           "Positive"
          ],
          [
           0.6301659279626541,
           1012653.56396,
           "Positive"
          ],
          [
           4.286339936767252,
           10457138.963128,
           "Positive"
          ],
          [
           1.378180093044389,
           10191127.45848,
           "Positive"
          ],
          [
           1.255182558968286,
           1284869.82706,
           "Positive"
          ],
          [
           1.6247087384334804,
           27389124.2352,
           "Positive"
          ],
          [
           1.3320843975660774,
           55521366.7134,
           "Positive"
          ],
          [
           1.700408617070574,
           7243673.1906,
           "Positive"
          ],
          [
           0.013004746750887386,
           2346938.6302,
           "Positive"
          ],
          [
           1.1461443519006598,
           13950718.236,
           "Positive"
          ],
          [
           0.7958090959809465,
           162180557.655,
           "Positive"
          ],
          [
           5.7380833769691275,
           6179493.7154,
           "Positive"
          ],
          [
           6.300553060183425,
           16187041.720966998,
           "Positive"
          ],
          [
           7.563285009006574,
           28909857.34637,
           "Positive"
          ],
          [
           0.14545457109943616,
           6455418.187824001,
           "Positive"
          ],
          [
           0.604653004986601,
           11738920.2577,
           "Positive"
          ],
          [
           0.21388254566003626,
           723853.52734,
           "Positive"
          ],
          [
           8.542393508293966,
           39073324.955307,
           "Positive"
          ],
          [
           2.025478929456308,
           2125733.16436,
           "Positive"
          ],
          [
           1.3122641518826024,
           3211069.0892700003,
           "Positive"
          ],
          [
           3.4852089878687424,
           38394623.982099995,
           "Positive"
          ],
          [
           0.7529719908107455,
           4737628.609,
           "Positive"
          ],
          [
           1.146670057422113,
           1394002.39552,
           "Positive"
          ],
          [
           2.0318159280010386,
           7225402.8968009995,
           "Positive"
          ],
          [
           0.9082714574319226,
           1142249.355716,
           "Positive"
          ],
          [
           0.24660924951934682,
           21336493.40858,
           "Positive"
          ],
          [
           0.3473289833547356,
           1935083.09184,
           "Positive"
          ],
          [
           0.5761150435071442,
           10345588.9591,
           "Positive"
          ],
          [
           2.196915162051711,
           2133292.1002,
           "Positive"
          ],
          [
           1.6653621523711515,
           4681518.96813,
           "Positive"
          ],
          [
           0.11926059851231062,
           4944390.772799999,
           "Positive"
          ],
          [
           0.2308581248470025,
           15935247.68294,
           "Positive"
          ],
          [
           0.8280718487476616,
           1097964.56448,
           "Positive"
          ],
          [
           0.35869289253472275,
           69190204.05647999,
           "Positive"
          ],
          [
           0.6420567802922762,
           705166.125,
           "Positive"
          ],
          [
           3.30534160547158,
           48383831.12049,
           "Positive"
          ],
          [
           10.585175384199276,
           292310247.6414,
           "Positive"
          ],
          [
           1.2031909006261414,
           12529007.7422,
           "Positive"
          ],
          [
           0.019598236221467658,
           1071130.1101199999,
           "Positive"
          ],
          [
           4.391923393483558,
           23474777.6,
           "Positive"
          ],
          [
           14.653935004750993,
           23188719.940539997,
           "Positive"
          ],
          [
           0.5728833764728153,
           11836806.3277,
           "Positive"
          ],
          [
           1.056266996192725,
           2828255.2679700004,
           "Positive"
          ],
          [
           0.9012453041081531,
           99837654.33000001,
           "Positive"
          ],
          [
           3.1572626476815655,
           32368296.448799998,
           "Positive"
          ],
          [
           0.7036284260879935,
           3227764.721,
           "Positive"
          ],
          [
           1.8045602469174773,
           1382263.2208000002,
           "Positive"
          ],
          [
           1.036726348160641,
           1647287.0232,
           "Positive"
          ],
          [
           1.9724505347778574,
           22950348.185599998,
           "Positive"
          ],
          [
           0.5443013135641362,
           1030596.7174000001,
           "Positive"
          ],
          [
           2.1522737015738267,
           2198474.8074,
           "Positive"
          ],
          [
           8.62836839583527,
           18717114.8714,
           "Positive"
          ],
          [
           0.49802358685262177,
           46803022.8542,
           "Positive"
          ],
          [
           5.426331097179966,
           2185120.0899594002,
           "Positive"
          ],
          [
           2.318066629731191,
           2670958.3393,
           "Positive"
          ],
          [
           0.30935832869957935,
           8345199.431534001,
           "Positive"
          ],
          [
           0.1832397287698333,
           332235847.68311,
           "Positive"
          ],
          [
           0.8518820674689895,
           923114.90985,
           "Positive"
          ],
          [
           2.8964842867872735,
           839504.7359999999,
           "Positive"
          ],
          [
           2.0936322453639984,
           1024743.56262,
           "Positive"
          ],
          [
           6.514142243442535,
           7625300.255855,
           "Positive"
          ],
          [
           1.4768072145751918,
           28742357.455039997,
           "Positive"
          ],
          [
           2.8919226408373104,
           48947920.46336,
           "Positive"
          ],
          [
           1.6105765414853355,
           2197692.71604,
           "Positive"
          ],
          [
           0.5132372152066861,
           23884217.48336,
           "Positive"
          ],
          [
           0.05343989534911246,
           9674421.328192,
           "Positive"
          ],
          [
           2.730545069026744,
           4716148.27464,
           "Positive"
          ],
          [
           0.8771986072837041,
           1660459.993,
           "Positive"
          ],
          [
           0.3554506112118233,
           6544611.8583,
           "Positive"
          ],
          [
           3.8099846232270385,
           7029716.249969999,
           "Positive"
          ],
          [
           0,
           14194112.06168,
           "Positive"
          ],
          [
           0.06926007433739223,
           6175017.35879,
           "Positive"
          ],
          [
           0.7408457536475386,
           632893.6254,
           "Positive"
          ],
          [
           0.8547060578458348,
           26206042.183199998,
           "Positive"
          ],
          [
           0.010008507239485754,
           112090492.75044799,
           "Positive"
          ],
          [
           0.29617114943283274,
           512361.5301,
           "Positive"
          ],
          [
           2.9886554436104564,
           9740764.692400001,
           "Positive"
          ],
          [
           0.6695878738598122,
           946085.16,
           "Positive"
          ],
          [
           2.1858793812499235,
           814834.6164,
           "Positive"
          ],
          [
           0.8346193847227004,
           47657005.9812,
           "Positive"
          ],
          [
           1.977880860406288,
           426576.55358999997,
           "Positive"
          ],
          [
           2.9485282045823524,
           315824658.30471,
           "Positive"
          ],
          [
           0.05734493132390911,
           1332270.2026199999,
           "Positive"
          ],
          [
           0.04579803148518966,
           4158828.2954400005,
           "Positive"
          ]
         ],
         "domain": {
          "x": [
           0,
           1
          ],
          "y": [
           0,
           1
          ]
         },
         "hovertemplate": "<b>%{label}</b><br>Volume: $%{value:,.0f}<br>Daily Return: %{customdata[0]:.2f}%<extra></extra>",
         "ids": [
          "BNTUSDT",
          "JTOUSDT",
          "SUNUSDT",
          "CELRUSDT",
          "CETUSUSDT",
          "SUIUSDT",
          "JSTUSDT",
          "CHESSUSDT",
          "JELLYJELLYUSDT",
          "STORJUSDT",
          "STGUSDT",
          "JASMYUSDT",
          "SPXUSDT",
          "IOTXUSDT",
          "SPELLUSDT",
          "IOTAUSDT",
          "JUPUSDT",
          "SOONUSDT",
          "KAIAUSDT",
          "SXPUSDT",
          "TIAUSDT",
          "THEUSDT",
          "KNCUSDT",
          "BIGTIMEUSDT",
          "KMNOUSDT",
          "BLURUSDT",
          "BMTUSDT",
          "BNBUSDT",
          "GLMUSDT",
          "KDAUSDT",
          "SYRUPUSDT",
          "SYNUSDT",
          "KAVAUSDT",
          "BSVUSDT",
          "BSWUSDT",
          "KASUSDT",
          "ONTUSDT",
          "CVCUSDT",
          "DEEPUSDT",
          "PORTALUSDT",
          "ETHUSDT",
          "ETHWUSDT",
          "FETUSDT",
          "GUSDT",
          "FIDAUSDT",
          "FISUSDT",
          "FLMUSDT",
          "FLOWUSDT",
          "GRIFFAINUSDT",
          "GRASSUSDT",
          "FUSDT",
          "FXSUSDT",
          "GASUSDT",
          "QNTUSDT",
          "RIFUSDT",
          "PAXGUSDT",
          "PORT3USDT",
          "POLYXUSDT",
          "ILVUSDT",
          "DEXEUSDT",
          "DFUSDT",
          "ICXUSDT",
          "SIGNUSDT",
          "SHELLUSDT",
          "PIPPINUSDT",
          "HOTUSDT",
          "HOOKUSDT",
          "PLUMEUSDT",
          "SANDUSDT",
          "PNUTUSDT",
          "HIPPOUSDT",
          "RUNEUSDT",
          "RSRUSDT",
          "POPCATUSDT",
          "KSMUSDT",
          "GMXUSDT",
          "VTHOUSDT",
          "VETUSDT",
          "XLMUSDT",
          "1000LUNCUSDT",
          "APTUSDT",
          "API3USDT",
          "VINEUSDT",
          "MLNUSDT",
          "LUNA2USDT",
          "ALTUSDT",
          "ALPINEUSDT",
          "ALPHAUSDT",
          "TOKENUSDT",
          "NOTUSDT",
          "NMRUSDT",
          "AKTUSDT",
          "1000SHIBUSDT",
          "MILKUSDT",
          "AIXBTUSDT",
          "WAXPUSDT",
          "1000XECUSDT",
          "MEWUSDT",
          "MAVIAUSDT",
          "MEUSDT",
          "WUSDT",
          "METISUSDT",
          "NEARUSDT",
          "ADAUSDT",
          "OBOLUSDT",
          "ARKUSDT",
          "ZILUSDT",
          "LRCUSDT",
          "LAYERUSDT",
          "TRUMPUSDT",
          "BANUSDT",
          "BANKUSDT",
          "TRUUSDT",
          "ONEUSDT",
          "BANANAS31USDT",
          "TSTUSDT",
          "BABYUSDT",
          "MOODENGUSDT",
          "B3USDT",
          "B2USDT",
          "TURBOUSDT",
          "TUSDT",
          "1000BONKUSDT",
          "AWEUSDT",
          "XRPUSDT",
          "1000CHEEMSUSDT",
          "AVAUSDT",
          "UXLINKUSDT",
          "LINKUSDT",
          "OGUSDT",
          "AUSDT",
          "USTCUSDT",
          "OMNIUSDT",
          "USDCUSDT",
          "NEIROETHUSDT",
          "PUFFERUSDT",
          "PROMPTUSDT",
          "MUBARAKUSDT",
          "PUNDIXUSDT",
          "MYROUSDT",
          "MYXUSDT",
          "PUMPBTCUSDT",
          "PROMUSDT",
          "POWRUSDT",
          "ONGUSDT",
          "NEIROUSDT",
          "OPUSDT",
          "ONDOUSDT",
          "ORCAUSDT",
          "OMUSDT",
          "OGNUSDT",
          "ORDIUSDT",
          "NXPCUSDT",
          "OXTUSDT",
          "PARTIUSDT",
          "NTRNUSDT",
          "PENDLEUSDT",
          "PENGUUSDT",
          "PEOPLEUSDT",
          "PERPUSDT",
          "PHAUSDT",
          "PHBUSDT",
          "NKNUSDT",
          "PIXELUSDT",
          "NILUSDT",
          "NFPUSDT",
          "NEWTUSDT",
          "POLUSDT",
          "NEOUSDT",
          "PONKEUSDT",
          "1000000BOBUSDT",
          "SIRENUSDT",
          "QTUMUSDT",
          "VICUSDT",
          "VELODROMEUSDT",
          "VANRYUSDT",
          "VANAUSDT",
          "USUALUSDT",
          "UNIUSDT",
          "UMAUSDT",
          "TWTUSDT",
          "VIRTUALUSDT",
          "TUTUSDT",
          "TRBUSDT",
          "TONUSDT",
          "TNSRUSDT",
          "TLMUSDT",
          "THETAUSDT",
          "TAOUSDT",
          "TAIKOUSDT",
          "SYSUSDT",
          "TRXUSDT",
          "SXTUSDT",
          "VOXELUSDT",
          "WALUSDT",
          "ZKUSDT",
          "ZKJUSDT",
          "ZETAUSDT",
          "ZEREBROUSDT",
          "ZENUSDT",
          "ZECUSDT",
          "YGGUSDT",
          "YFIUSDT",
          "VVVUSDT",
          "XVSUSDT",
          "XTZUSDT",
          "XMRUSDT",
          "XCNUSDT",
          "XAIUSDT",
          "WOOUSDT",
          "WLDUSDT",
          "WIFUSDT",
          "WCTUSDT",
          "XVGUSDT",
          "PYTHUSDT",
          "SWELLUSDT",
          "SUSHIUSDT",
          "SCRTUSDT",
          "SANTOSUSDT",
          "SAGAUSDT",
          "SAFEUSDT",
          "RVNUSDT",
          "RPLUSDT",
          "ROSEUSDT",
          "RONINUSDT",
          "SCRUSDT",
          "RLCUSDT",
          "RESOLVUSDT",
          "RENDERUSDT",
          "REIUSDT",
          "REDUSDT",
          "RDNTUSDT",
          "RAYSOLUSDT",
          "RAREUSDT",
          "QUICKUSDT",
          "REZUSDT",
          "SWARMSUSDT",
          "SEIUSDT",
          "MTLUSDT",
          "SUSDT",
          "SUPERUSDT",
          "STXUSDT",
          "STRKUSDT",
          "STOUSDT",
          "STEEMUSDT",
          "SSVUSDT",
          "SQDUSDT",
          "SFPUSDT",
          "SPKUSDT",
          "SONICUSDT",
          "SOLVUSDT",
          "SOLUSDT",
          "SNXUSDT",
          "SLERFUSDT",
          "SKYAIUSDT",
          "SKLUSDT",
          "SKATEUSDT",
          "SOPHUSDT",
          "MOVRUSDT",
          "KERNELUSDT",
          "MORPHOUSDT",
          "BTCDOMUSDT",
          "BRUSDT",
          "BROCCOLIF3BUSDT",
          "BROCCOLI714USDT",
          "BRETTUSDT",
          "BOMEUSDT",
          "BIOUSDT",
          "BIDUSDT",
          "BTCUSDT",
          "BICOUSDT",
          "BELUSDT",
          "BEAMXUSDT",
          "BDXNUSDT",
          "BCHUSDT",
          "BBUSDT",
          "BATUSDT",
          "BANDUSDT",
          "BANANAUSDT",
          "BERAUSDT",
          "BAKEUSDT",
          "BUSDT",
          "CAKEUSDT",
          "DASHUSDT",
          "CYBERUSDT",
          "CTSIUSDT",
          "CTKUSDT",
          "CRVUSDT",
          "COWUSDT",
          "COTIUSDT",
          "COSUSDT",
          "C98USDT",
          "COOKIEUSDT",
          "CKBUSDT",
          "CHZUSDT",
          "CHRUSDT",
          "CHILLGUYUSDT",
          "CGPTUSDT",
          "CFXUSDT",
          "CELOUSDT",
          "CATIUSDT",
          "COMPUSDT",
          "AXSUSDT",
          "AXLUSDT",
          "AVAXUSDT",
          "AEVOUSDT",
          "AEROUSDT",
          "AERGOUSDT",
          "ACXUSDT",
          "ACTUSDT",
          "ACHUSDT",
          "ACEUSDT",
          "AAVEUSDT",
          "AGLDUSDT",
          "1MBABYDOGEUSDT",
          "1000XUSDT",
          "1000WHYUSDT",
          "1000SATSUSDT",
          "1000RATSUSDT",
          "1000PEPEUSDT",
          "1000FLOKIUSDT",
          "1000CATUSDT",
          "1000000MOGUSDT",
          "1INCHUSDT",
          "AGTUSDT",
          "AI16ZUSDT",
          "AIOTUSDT",
          "AVAAIUSDT",
          "AUCTIONUSDT",
          "ATOMUSDT",
          "ATHUSDT",
          "ATAUSDT",
          "ASTRUSDT",
          "ASRUSDT",
          "ARUSDT",
          "ARPAUSDT",
          "ARKMUSDT",
          "ARCUSDT",
          "ARBUSDT",
          "APEUSDT",
          "ANKRUSDT",
          "ANIMEUSDT",
          "ALICEUSDT",
          "ALGOUSDT",
          "ALCHUSDT",
          "AIUSDT",
          "DEFIUSDT",
          "MOVEUSDT",
          "DEGENUSDT",
          "DENTUSDT",
          "LAUSDT",
          "KOMAUSDT",
          "ZROUSDT",
          "KAITOUSDT",
          "JOEUSDT",
          "IPUSDT",
          "IOUSDT",
          "IOSTUSDT",
          "LDOUSDT",
          "INJUSDT",
          "IMXUSDT",
          "IDUSDT",
          "ICPUSDT",
          "HYPEUSDT",
          "HYPERUSDT",
          "HUMAUSDT",
          "HOMEUSDT",
          "HMSTRUSDT",
          "INITUSDT",
          "HIVEUSDT",
          "LEVERUSDT",
          "LOKAUSDT",
          "MOCAUSDT",
          "MKRUSDT",
          "MINAUSDT",
          "MERLUSDT",
          "MEMEUSDT",
          "MEMEFIUSDT",
          "MELANIAUSDT",
          "MBOXUSDT",
          "LISTAUSDT",
          "MAVUSDT",
          "MANTAUSDT",
          "MANAUSDT",
          "MAGICUSDT",
          "LUMIAUSDT",
          "LTCUSDT",
          "LSKUSDT",
          "LQTYUSDT",
          "LPTUSDT",
          "MASKUSDT",
          "HIGHUSDT",
          "HIFIUSDT",
          "HFTUSDT",
          "ENSUSDT",
          "ENJUSDT",
          "ENAUSDT",
          "EIGENUSDT",
          "EGLDUSDT",
          "EDUUSDT",
          "DYMUSDT",
          "DYDXUSDT",
          "EPICUSDT",
          "DUSKUSDT",
          "DRIFTUSDT",
          "DOTUSDT",
          "DOODUSDT",
          "DOLOUSDT",
          "DOGSUSDT",
          "DOGEUSDT",
          "DODOXUSDT",
          "DIAUSDT",
          "DUSDT",
          "EPTUSDT",
          "ETCUSDT",
          "ETHFIUSDT",
          "HEIUSDT",
          "HBARUSDT",
          "HAEDALUSDT",
          "GUNUSDT",
          "GTCUSDT",
          "GRTUSDT",
          "GPSUSDT",
          "GOATUSDT",
          "GMTUSDT",
          "GHSTUSDT",
          "GALAUSDT",
          "FUNUSDT",
          "FORTHUSDT",
          "FORMUSDT",
          "FLUXUSDT",
          "FIOUSDT",
          "FILUSDT",
          "FHEUSDT",
          "FARTCOINUSDT",
          "DEGOUSDT",
          "ZRXUSDT"
         ],
         "labels": [
          "BNTUSDT",
          "JTOUSDT",
          "SUNUSDT",
          "CELRUSDT",
          "CETUSUSDT",
          "SUIUSDT",
          "JSTUSDT",
          "CHESSUSDT",
          "JELLYJELLYUSDT",
          "STORJUSDT",
          "STGUSDT",
          "JASMYUSDT",
          "SPXUSDT",
          "IOTXUSDT",
          "SPELLUSDT",
          "IOTAUSDT",
          "JUPUSDT",
          "SOONUSDT",
          "KAIAUSDT",
          "SXPUSDT",
          "TIAUSDT",
          "THEUSDT",
          "KNCUSDT",
          "BIGTIMEUSDT",
          "KMNOUSDT",
          "BLURUSDT",
          "BMTUSDT",
          "BNBUSDT",
          "GLMUSDT",
          "KDAUSDT",
          "SYRUPUSDT",
          "SYNUSDT",
          "KAVAUSDT",
          "BSVUSDT",
          "BSWUSDT",
          "KASUSDT",
          "ONTUSDT",
          "CVCUSDT",
          "DEEPUSDT",
          "PORTALUSDT",
          "ETHUSDT",
          "ETHWUSDT",
          "FETUSDT",
          "GUSDT",
          "FIDAUSDT",
          "FISUSDT",
          "FLMUSDT",
          "FLOWUSDT",
          "GRIFFAINUSDT",
          "GRASSUSDT",
          "FUSDT",
          "FXSUSDT",
          "GASUSDT",
          "QNTUSDT",
          "RIFUSDT",
          "PAXGUSDT",
          "PORT3USDT",
          "POLYXUSDT",
          "ILVUSDT",
          "DEXEUSDT",
          "DFUSDT",
          "ICXUSDT",
          "SIGNUSDT",
          "SHELLUSDT",
          "PIPPINUSDT",
          "HOTUSDT",
          "HOOKUSDT",
          "PLUMEUSDT",
          "SANDUSDT",
          "PNUTUSDT",
          "HIPPOUSDT",
          "RUNEUSDT",
          "RSRUSDT",
          "POPCATUSDT",
          "KSMUSDT",
          "GMXUSDT",
          "VTHOUSDT",
          "VETUSDT",
          "XLMUSDT",
          "1000LUNCUSDT",
          "APTUSDT",
          "API3USDT",
          "VINEUSDT",
          "MLNUSDT",
          "LUNA2USDT",
          "ALTUSDT",
          "ALPINEUSDT",
          "ALPHAUSDT",
          "TOKENUSDT",
          "NOTUSDT",
          "NMRUSDT",
          "AKTUSDT",
          "1000SHIBUSDT",
          "MILKUSDT",
          "AIXBTUSDT",
          "WAXPUSDT",
          "1000XECUSDT",
          "MEWUSDT",
          "MAVIAUSDT",
          "MEUSDT",
          "WUSDT",
          "METISUSDT",
          "NEARUSDT",
          "ADAUSDT",
          "OBOLUSDT",
          "ARKUSDT",
          "ZILUSDT",
          "LRCUSDT",
          "LAYERUSDT",
          "TRUMPUSDT",
          "BANUSDT",
          "BANKUSDT",
          "TRUUSDT",
          "ONEUSDT",
          "BANANAS31USDT",
          "TSTUSDT",
          "BABYUSDT",
          "MOODENGUSDT",
          "B3USDT",
          "B2USDT",
          "TURBOUSDT",
          "TUSDT",
          "1000BONKUSDT",
          "AWEUSDT",
          "XRPUSDT",
          "1000CHEEMSUSDT",
          "AVAUSDT",
          "UXLINKUSDT",
          "LINKUSDT",
          "OGUSDT",
          "AUSDT",
          "USTCUSDT",
          "OMNIUSDT",
          "USDCUSDT",
          "NEIROETHUSDT",
          "PUFFERUSDT",
          "PROMPTUSDT",
          "MUBARAKUSDT",
          "PUNDIXUSDT",
          "MYROUSDT",
          "MYXUSDT",
          "PUMPBTCUSDT",
          "PROMUSDT",
          "POWRUSDT",
          "ONGUSDT",
          "NEIROUSDT",
          "OPUSDT",
          "ONDOUSDT",
          "ORCAUSDT",
          "OMUSDT",
          "OGNUSDT",
          "ORDIUSDT",
          "NXPCUSDT",
          "OXTUSDT",
          "PARTIUSDT",
          "NTRNUSDT",
          "PENDLEUSDT",
          "PENGUUSDT",
          "PEOPLEUSDT",
          "PERPUSDT",
          "PHAUSDT",
          "PHBUSDT",
          "NKNUSDT",
          "PIXELUSDT",
          "NILUSDT",
          "NFPUSDT",
          "NEWTUSDT",
          "POLUSDT",
          "NEOUSDT",
          "PONKEUSDT",
          "1000000BOBUSDT",
          "SIRENUSDT",
          "QTUMUSDT",
          "VICUSDT",
          "VELODROMEUSDT",
          "VANRYUSDT",
          "VANAUSDT",
          "USUALUSDT",
          "UNIUSDT",
          "UMAUSDT",
          "TWTUSDT",
          "VIRTUALUSDT",
          "TUTUSDT",
          "TRBUSDT",
          "TONUSDT",
          "TNSRUSDT",
          "TLMUSDT",
          "THETAUSDT",
          "TAOUSDT",
          "TAIKOUSDT",
          "SYSUSDT",
          "TRXUSDT",
          "SXTUSDT",
          "VOXELUSDT",
          "WALUSDT",
          "ZKUSDT",
          "ZKJUSDT",
          "ZETAUSDT",
          "ZEREBROUSDT",
          "ZENUSDT",
          "ZECUSDT",
          "YGGUSDT",
          "YFIUSDT",
          "VVVUSDT",
          "XVSUSDT",
          "XTZUSDT",
          "XMRUSDT",
          "XCNUSDT",
          "XAIUSDT",
          "WOOUSDT",
          "WLDUSDT",
          "WIFUSDT",
          "WCTUSDT",
          "XVGUSDT",
          "PYTHUSDT",
          "SWELLUSDT",
          "SUSHIUSDT",
          "SCRTUSDT",
          "SANTOSUSDT",
          "SAGAUSDT",
          "SAFEUSDT",
          "RVNUSDT",
          "RPLUSDT",
          "ROSEUSDT",
          "RONINUSDT",
          "SCRUSDT",
          "RLCUSDT",
          "RESOLVUSDT",
          "RENDERUSDT",
          "REIUSDT",
          "REDUSDT",
          "RDNTUSDT",
          "RAYSOLUSDT",
          "RAREUSDT",
          "QUICKUSDT",
          "REZUSDT",
          "SWARMSUSDT",
          "SEIUSDT",
          "MTLUSDT",
          "SUSDT",
          "SUPERUSDT",
          "STXUSDT",
          "STRKUSDT",
          "STOUSDT",
          "STEEMUSDT",
          "SSVUSDT",
          "SQDUSDT",
          "SFPUSDT",
          "SPKUSDT",
          "SONICUSDT",
          "SOLVUSDT",
          "SOLUSDT",
          "SNXUSDT",
          "SLERFUSDT",
          "SKYAIUSDT",
          "SKLUSDT",
          "SKATEUSDT",
          "SOPHUSDT",
          "MOVRUSDT",
          "KERNELUSDT",
          "MORPHOUSDT",
          "BTCDOMUSDT",
          "BRUSDT",
          "BROCCOLIF3BUSDT",
          "BROCCOLI714USDT",
          "BRETTUSDT",
          "BOMEUSDT",
          "BIOUSDT",
          "BIDUSDT",
          "BTCUSDT",
          "BICOUSDT",
          "BELUSDT",
          "BEAMXUSDT",
          "BDXNUSDT",
          "BCHUSDT",
          "BBUSDT",
          "BATUSDT",
          "BANDUSDT",
          "BANANAUSDT",
          "BERAUSDT",
          "BAKEUSDT",
          "BUSDT",
          "CAKEUSDT",
          "DASHUSDT",
          "CYBERUSDT",
          "CTSIUSDT",
          "CTKUSDT",
          "CRVUSDT",
          "COWUSDT",
          "COTIUSDT",
          "COSUSDT",
          "C98USDT",
          "COOKIEUSDT",
          "CKBUSDT",
          "CHZUSDT",
          "CHRUSDT",
          "CHILLGUYUSDT",
          "CGPTUSDT",
          "CFXUSDT",
          "CELOUSDT",
          "CATIUSDT",
          "COMPUSDT",
          "AXSUSDT",
          "AXLUSDT",
          "AVAXUSDT",
          "AEVOUSDT",
          "AEROUSDT",
          "AERGOUSDT",
          "ACXUSDT",
          "ACTUSDT",
          "ACHUSDT",
          "ACEUSDT",
          "AAVEUSDT",
          "AGLDUSDT",
          "1MBABYDOGEUSDT",
          "1000XUSDT",
          "1000WHYUSDT",
          "1000SATSUSDT",
          "1000RATSUSDT",
          "1000PEPEUSDT",
          "1000FLOKIUSDT",
          "1000CATUSDT",
          "1000000MOGUSDT",
          "1INCHUSDT",
          "AGTUSDT",
          "AI16ZUSDT",
          "AIOTUSDT",
          "AVAAIUSDT",
          "AUCTIONUSDT",
          "ATOMUSDT",
          "ATHUSDT",
          "ATAUSDT",
          "ASTRUSDT",
          "ASRUSDT",
          "ARUSDT",
          "ARPAUSDT",
          "ARKMUSDT",
          "ARCUSDT",
          "ARBUSDT",
          "APEUSDT",
          "ANKRUSDT",
          "ANIMEUSDT",
          "ALICEUSDT",
          "ALGOUSDT",
          "ALCHUSDT",
          "AIUSDT",
          "DEFIUSDT",
          "MOVEUSDT",
          "DEGENUSDT",
          "DENTUSDT",
          "LAUSDT",
          "KOMAUSDT",
          "ZROUSDT",
          "KAITOUSDT",
          "JOEUSDT",
          "IPUSDT",
          "IOUSDT",
          "IOSTUSDT",
          "LDOUSDT",
          "INJUSDT",
          "IMXUSDT",
          "IDUSDT",
          "ICPUSDT",
          "HYPEUSDT",
          "HYPERUSDT",
          "HUMAUSDT",
          "HOMEUSDT",
          "HMSTRUSDT",
          "INITUSDT",
          "HIVEUSDT",
          "LEVERUSDT",
          "LOKAUSDT",
          "MOCAUSDT",
          "MKRUSDT",
          "MINAUSDT",
          "MERLUSDT",
          "MEMEUSDT",
          "MEMEFIUSDT",
          "MELANIAUSDT",
          "MBOXUSDT",
          "LISTAUSDT",
          "MAVUSDT",
          "MANTAUSDT",
          "MANAUSDT",
          "MAGICUSDT",
          "LUMIAUSDT",
          "LTCUSDT",
          "LSKUSDT",
          "LQTYUSDT",
          "LPTUSDT",
          "MASKUSDT",
          "HIGHUSDT",
          "HIFIUSDT",
          "HFTUSDT",
          "ENSUSDT",
          "ENJUSDT",
          "ENAUSDT",
          "EIGENUSDT",
          "EGLDUSDT",
          "EDUUSDT",
          "DYMUSDT",
          "DYDXUSDT",
          "EPICUSDT",
          "DUSKUSDT",
          "DRIFTUSDT",
          "DOTUSDT",
          "DOODUSDT",
          "DOLOUSDT",
          "DOGSUSDT",
          "DOGEUSDT",
          "DODOXUSDT",
          "DIAUSDT",
          "DUSDT",
          "EPTUSDT",
          "ETCUSDT",
          "ETHFIUSDT",
          "HEIUSDT",
          "HBARUSDT",
          "HAEDALUSDT",
          "GUNUSDT",
          "GTCUSDT",
          "GRTUSDT",
          "GPSUSDT",
          "GOATUSDT",
          "GMTUSDT",
          "GHSTUSDT",
          "GALAUSDT",
          "FUNUSDT",
          "FORTHUSDT",
          "FORMUSDT",
          "FLUXUSDT",
          "FIOUSDT",
          "FILUSDT",
          "FHEUSDT",
          "FARTCOINUSDT",
          "DEGOUSDT",
          "ZRXUSDT"
         ],
         "marker": {
          "colors": [
           "#FF4136",
           "#FF4136",
           "#FF4136",
           "#FF4136",
           "#FF4136",
           "#FF4136",
           "#FF4136",
           "#FF4136",
           "#FF4136",
           "#FF4136",
           "#FF4136",
           "#FF4136",
           "#FF4136",
           "#FF4136",
           "#FF4136",
           "#FF4136",
           "#FF4136",
           "#FF4136",
           "#FF4136",
           "#FF4136",
           "#FF4136",
           "#FF4136",
           "#FF4136",
           "#FF4136",
           "#FF4136",
           "#FF4136",
           "#FF4136",
           "#FF4136",
           "#FF4136",
           "#FF4136",
           "#FF4136",
           "#FF4136",
           "#FF4136",
           "#FF4136",
           "#FF4136",
           "#FF4136",
           "#FF4136",
           "#FF4136",
           "#FF4136",
           "#FF4136",
           "#FF4136",
           "#FF4136",
           "#FF4136",
           "#FF4136",
           "#FF4136",
           "#FF4136",
           "#FF4136",
           "#FF4136",
           "#FF4136",
           "#FF4136",
           "#FF4136",
           "#FF4136",
           "#FF4136",
           "#FF4136",
           "#FF4136",
           "#FF4136",
           "#FF4136",
           "#FF4136",
           "#FF4136",
           "#FF4136",
           "#FF4136",
           "#FF4136",
           "#FF4136",
           "#FF4136",
           "#FF4136",
           "#FF4136",
           "#FF4136",
           "#FF4136",
           "#FF4136",
           "#FF4136",
           "#FF4136",
           "#FF4136",
           "#FF4136",
           "#FF4136",
           "#FF4136",
           "#FF4136",
           "#FF4136",
           "#FF4136",
           "#FF4136",
           "#FF4136",
           "#FF4136",
           "#FF4136",
           "#FF4136",
           "#FF4136",
           "#FF4136",
           "#FF4136",
           "#FF4136",
           "#FF4136",
           "#FF4136",
           "#FF4136",
           "#FF4136",
           "#FF4136",
           "#FF4136",
           "#FF4136",
           "#FF4136",
           "#FF4136",
           "#FF4136",
           "#FF4136",
           "#FF4136",
           "#FF4136",
           "#FF4136",
           "#FF4136",
           "#FF4136",
           "#FF4136",
           "#FF4136",
           "#FF4136",
           "#FF4136",
           "#FF4136",
           "#FF4136",
           "#FF4136",
           "#FF4136",
           "#FF4136",
           "#FF4136",
           "#FF4136",
           "#FF4136",
           "#FF4136",
           "#FF4136",
           "#FF4136",
           "#FF4136",
           "#FF4136",
           "#FF4136",
           "#FF4136",
           "#FF4136",
           "#FF4136",
           "#FF4136",
           "#FF4136",
           "#FF4136",
           "#FF4136",
           "#FF4136",
           "#FF4136",
           "#FF4136",
           "#FF4136",
           "#FF4136",
           "#FF4136",
           "#3D9970",
           "#3D9970",
           "#3D9970",
           "#3D9970",
           "#3D9970",
           "#3D9970",
           "#3D9970",
           "#3D9970",
           "#3D9970",
           "#3D9970",
           "#3D9970",
           "#3D9970",
           "#3D9970",
           "#3D9970",
           "#3D9970",
           "#3D9970",
           "#3D9970",
           "#3D9970",
           "#3D9970",
           "#3D9970",
           "#3D9970",
           "#3D9970",
           "#3D9970",
           "#3D9970",
           "#3D9970",
           "#3D9970",
           "#3D9970",
           "#3D9970",
           "#3D9970",
           "#3D9970",
           "#3D9970",
           "#3D9970",
           "#3D9970",
           "#3D9970",
           "#3D9970",
           "#3D9970",
           "#3D9970",
           "#3D9970",
           "#3D9970",
           "#3D9970",
           "#3D9970",
           "#3D9970",
           "#3D9970",
           "#3D9970",
           "#3D9970",
           "#3D9970",
           "#3D9970",
           "#3D9970",
           "#3D9970",
           "#3D9970",
           "#3D9970",
           "#3D9970",
           "#3D9970",
           "#3D9970",
           "#3D9970",
           "#3D9970",
           "#3D9970",
           "#3D9970",
           "#3D9970",
           "#3D9970",
           "#3D9970",
           "#3D9970",
           "#3D9970",
           "#3D9970",
           "#3D9970",
           "#3D9970",
           "#3D9970",
           "#3D9970",
           "#3D9970",
           "#3D9970",
           "#3D9970",
           "#3D9970",
           "#3D9970",
           "#3D9970",
           "#3D9970",
           "#3D9970",
           "#3D9970",
           "#3D9970",
           "#3D9970",
           "#3D9970",
           "#3D9970",
           "#3D9970",
           "#3D9970",
           "#3D9970",
           "#3D9970",
           "#3D9970",
           "#3D9970",
           "#3D9970",
           "#3D9970",
           "#3D9970",
           "#3D9970",
           "#3D9970",
           "#3D9970",
           "#3D9970",
           "#3D9970",
           "#3D9970",
           "#3D9970",
           "#3D9970",
           "#3D9970",
           "#3D9970",
           "#3D9970",
           "#3D9970",
           "#3D9970",
           "#3D9970",
           "#3D9970",
           "#3D9970",
           "#3D9970",
           "#3D9970",
           "#3D9970",
           "#3D9970",
           "#3D9970",
           "#3D9970",
           "#3D9970",
           "#3D9970",
           "#3D9970",
           "#3D9970",
           "#3D9970",
           "#3D9970",
           "#3D9970",
           "#3D9970",
           "#3D9970",
           "#3D9970",
           "#3D9970",
           "#3D9970",
           "#3D9970",
           "#3D9970",
           "#3D9970",
           "#3D9970",
           "#3D9970",
           "#3D9970",
           "#3D9970",
           "#3D9970",
           "#3D9970",
           "#3D9970",
           "#3D9970",
           "#3D9970",
           "#3D9970",
           "#3D9970",
           "#3D9970",
           "#3D9970",
           "#3D9970",
           "#3D9970",
           "#3D9970",
           "#3D9970",
           "#3D9970",
           "#3D9970",
           "#3D9970",
           "#3D9970",
           "#3D9970",
           "#3D9970",
           "#3D9970",
           "#3D9970",
           "#3D9970",
           "#3D9970",
           "#3D9970",
           "#3D9970",
           "#3D9970",
           "#3D9970",
           "#3D9970",
           "#3D9970",
           "#3D9970",
           "#3D9970",
           "#3D9970",
           "#3D9970",
           "#3D9970",
           "#3D9970",
           "#3D9970",
           "#3D9970",
           "#3D9970",
           "#3D9970",
           "#3D9970",
           "#3D9970",
           "#3D9970",
           "#3D9970",
           "#3D9970",
           "#3D9970",
           "#3D9970",
           "#3D9970",
           "#3D9970",
           "#3D9970",
           "#3D9970",
           "#3D9970",
           "#3D9970",
           "#3D9970",
           "#3D9970",
           "#3D9970",
           "#3D9970",
           "#3D9970",
           "#3D9970",
           "#3D9970",
           "#3D9970",
           "#3D9970",
           "#3D9970",
           "#3D9970",
           "#3D9970",
           "#3D9970",
           "#3D9970",
           "#3D9970",
           "#3D9970",
           "#3D9970",
           "#3D9970",
           "#3D9970",
           "#3D9970",
           "#3D9970",
           "#3D9970",
           "#3D9970",
           "#3D9970",
           "#3D9970",
           "#3D9970",
           "#3D9970",
           "#3D9970",
           "#3D9970",
           "#3D9970",
           "#3D9970",
           "#3D9970",
           "#3D9970",
           "#3D9970",
           "#3D9970",
           "#3D9970",
           "#3D9970",
           "#3D9970",
           "#3D9970",
           "#3D9970",
           "#3D9970",
           "#3D9970",
           "#3D9970",
           "#3D9970",
           "#3D9970",
           "#3D9970",
           "#3D9970",
           "#3D9970",
           "#3D9970",
           "#3D9970",
           "#3D9970",
           "#3D9970",
           "#3D9970",
           "#3D9970",
           "#3D9970",
           "#3D9970",
           "#3D9970",
           "#3D9970",
           "#3D9970",
           "#3D9970",
           "#3D9970",
           "#3D9970",
           "#3D9970",
           "#3D9970",
           "#3D9970",
           "#3D9970",
           "#3D9970",
           "#3D9970",
           "#3D9970",
           "#3D9970",
           "#3D9970",
           "#3D9970",
           "#3D9970",
           "#3D9970",
           "#3D9970",
           "#3D9970",
           "#3D9970",
           "#3D9970",
           "#3D9970",
           "#3D9970",
           "#3D9970",
           "#3D9970",
           "#3D9970",
           "#3D9970",
           "#3D9970",
           "#3D9970",
           "#3D9970",
           "#3D9970",
           "#3D9970",
           "#3D9970",
           "#3D9970",
           "#3D9970",
           "#3D9970",
           "#3D9970",
           "#3D9970",
           "#3D9970",
           "#3D9970",
           "#3D9970",
           "#3D9970",
           "#3D9970",
           "#3D9970",
           "#3D9970",
           "#3D9970",
           "#3D9970",
           "#3D9970",
           "#3D9970",
           "#3D9970",
           "#3D9970",
           "#3D9970",
           "#3D9970",
           "#3D9970",
           "#3D9970",
           "#3D9970",
           "#3D9970",
           "#3D9970",
           "#3D9970",
           "#3D9970",
           "#3D9970",
           "#3D9970",
           "#3D9970"
          ]
         },
         "name": "",
         "parents": [
          "",
          "",
          "",
          "",
          "",
          "",
          "",
          "",
          "",
          "",
          "",
          "",
          "",
          "",
          "",
          "",
          "",
          "",
          "",
          "",
          "",
          "",
          "",
          "",
          "",
          "",
          "",
          "",
          "",
          "",
          "",
          "",
          "",
          "",
          "",
          "",
          "",
          "",
          "",
          "",
          "",
          "",
          "",
          "",
          "",
          "",
          "",
          "",
          "",
          "",
          "",
          "",
          "",
          "",
          "",
          "",
          "",
          "",
          "",
          "",
          "",
          "",
          "",
          "",
          "",
          "",
          "",
          "",
          "",
          "",
          "",
          "",
          "",
          "",
          "",
          "",
          "",
          "",
          "",
          "",
          "",
          "",
          "",
          "",
          "",
          "",
          "",
          "",
          "",
          "",
          "",
          "",
          "",
          "",
          "",
          "",
          "",
          "",
          "",
          "",
          "",
          "",
          "",
          "",
          "",
          "",
          "",
          "",
          "",
          "",
          "",
          "",
          "",
          "",
          "",
          "",
          "",
          "",
          "",
          "",
          "",
          "",
          "",
          "",
          "",
          "",
          "",
          "",
          "",
          "",
          "",
          "",
          "",
          "",
          "",
          "",
          "",
          "",
          "",
          "",
          "",
          "",
          "",
          "",
          "",
          "",
          "",
          "",
          "",
          "",
          "",
          "",
          "",
          "",
          "",
          "",
          "",
          "",
          "",
          "",
          "",
          "",
          "",
          "",
          "",
          "",
          "",
          "",
          "",
          "",
          "",
          "",
          "",
          "",
          "",
          "",
          "",
          "",
          "",
          "",
          "",
          "",
          "",
          "",
          "",
          "",
          "",
          "",
          "",
          "",
          "",
          "",
          "",
          "",
          "",
          "",
          "",
          "",
          "",
          "",
          "",
          "",
          "",
          "",
          "",
          "",
          "",
          "",
          "",
          "",
          "",
          "",
          "",
          "",
          "",
          "",
          "",
          "",
          "",
          "",
          "",
          "",
          "",
          "",
          "",
          "",
          "",
          "",
          "",
          "",
          "",
          "",
          "",
          "",
          "",
          "",
          "",
          "",
          "",
          "",
          "",
          "",
          "",
          "",
          "",
          "",
          "",
          "",
          "",
          "",
          "",
          "",
          "",
          "",
          "",
          "",
          "",
          "",
          "",
          "",
          "",
          "",
          "",
          "",
          "",
          "",
          "",
          "",
          "",
          "",
          "",
          "",
          "",
          "",
          "",
          "",
          "",
          "",
          "",
          "",
          "",
          "",
          "",
          "",
          "",
          "",
          "",
          "",
          "",
          "",
          "",
          "",
          "",
          "",
          "",
          "",
          "",
          "",
          "",
          "",
          "",
          "",
          "",
          "",
          "",
          "",
          "",
          "",
          "",
          "",
          "",
          "",
          "",
          "",
          "",
          "",
          "",
          "",
          "",
          "",
          "",
          "",
          "",
          "",
          "",
          "",
          "",
          "",
          "",
          "",
          "",
          "",
          "",
          "",
          "",
          "",
          "",
          "",
          "",
          "",
          "",
          "",
          "",
          "",
          "",
          "",
          "",
          "",
          "",
          "",
          "",
          "",
          "",
          "",
          "",
          "",
          "",
          "",
          "",
          "",
          "",
          "",
          "",
          "",
          "",
          "",
          "",
          "",
          "",
          "",
          "",
          "",
          "",
          "",
          "",
          "",
          "",
          "",
          "",
          "",
          "",
          "",
          "",
          "",
          "",
          "",
          "",
          "",
          "",
          "",
          "",
          "",
          "",
          "",
          "",
          "",
          "",
          "",
          "",
          "",
          "",
          "",
          "",
          "",
          "",
          "",
          "",
          "",
          "",
          "",
          "",
          "",
          "",
          "",
          "",
          "",
          "",
          "",
          "",
          "",
          "",
          "",
          "",
          "",
          "",
          "",
          "",
          "",
          "",
          "",
          "",
          "",
          "",
          "",
          "",
          "",
          ""
         ],
         "type": "treemap",
         "values": [
          838527.9239200001,
          47627839.4025,
          828791.097904,
          1805264.1792,
          3846382.35234,
          300659575.23041004,
          1290777.05475,
          12302563.81641,
          4031371.2722400003,
          1853926.3509000002,
          806576.6646,
          5754795.8406259995,
          64729614.725999996,
          1364992.81737,
          1927488.6931331998,
          3444767.9429699997,
          46564485.721,
          14297141.27128,
          26610443.712599996,
          2283713.412,
          61371606.5844,
          3165827.43684,
          1086775.2315,
          5934053.271790001,
          3624649.7830399997,
          3949999.58366,
          20098853.669680003,
          93456830.05600001,
          1280821.14558,
          1625118.2466,
          76150296.70456,
          2267707.4133,
          3622234.3865400003,
          1154958.56,
          27286145.62653,
          8241693.77312,
          1000418.32479,
          688972.6481999999,
          2973436.3011399996,
          4254868.758281999,
          4292892545.6205,
          419197.77900000004,
          42499189.8991,
          757366.26966,
          6587409.983,
          3001721.3548000003,
          9510057.650799999,
          3823008.9276000005,
          13689368.1593,
          10705747.30173,
          16853530.92041,
          3298986.2761199996,
          1186161.4824,
          4705794.028,
          810546.48422,
          12464916.40812,
          1303259.0183400002,
          2499396.97359,
          1204658.0076000001,
          23631374.6592,
          3214900.5605599997,
          4843339.3092,
          3877610.3581800004,
          5939093.1132000005,
          2881762.59952,
          1652491.967658,
          3069284.82975,
          4059718.6784,
          14171012.73993,
          82089420.14879,
          2288412.716364,
          8487468.418,
          6452306.19576,
          41917963.6238,
          3188806.537,
          1608882.96633,
          578133.361,
          6638943.103848,
          20031108.310620002,
          2224212.5108999996,
          90630948.17580001,
          2045919.82788,
          37638420.27549,
          828962.5967999999,
          2010466.1879999998,
          11663254.72611,
          511532.87328,
          17935999.94256,
          1452341.49312,
          6873731.110136,
          2580916.7098,
          899867.1174,
          40145456.125024,
          8925325.58308,
          26986118.58771,
          857617.57565,
          790607.26154,
          7820485.654208,
          1329450.1245,
          1695713.71981,
          66075760.34618399,
          1636596.8528000002,
          66362950.731,
          135480149.217,
          3049332.5211300002,
          796751.8832,
          4038963.0819999995,
          1847536.64661,
          20196911.6352,
          82367527.0371,
          2755331.19741,
          3492062.48664,
          3253901.18125,
          2696628.71098,
          193220233.824705,
          1971998.28801,
          4859929.76965,
          76194807.43966,
          946351.6426759999,
          14614926.530399999,
          21722386.2263368,
          9897324.7772,
          42451599.228588,
          942046.607565,
          401939627.02114,
          7685512.3597888,
          627107.1581400001,
          2265979.5974000003,
          97967033.12704,
          999967.795,
          3442969.5275999997,
          2824513.434804,
          2579426.2962,
          1948283.01396,
          4346999.50725,
          844754.35386,
          1124338.3998,
          29728373.95076,
          1609321.2724000001,
          5840675.1915299995,
          69682899.3237,
          2117836.6572000002,
          8916400.2368,
          935806.9247999999,
          702253.7619299999,
          62687749.3729924,
          84296961.2628,
          38337773.14098,
          2440786.236,
          54039554.95770901,
          52866689.8152,
          23668240.995,
          22925656.0917,
          899349.24414,
          27352532.8638,
          1284471.5048,
          12498112.2476,
          637259594.1114,
          18143680.2108,
          733908.1692,
          2099159.71008,
          1297449.0672,
          2611710.72744,
          3520931.2617,
          4991075.149060001,
          852984.854099,
          125794819.431,
          11445745.73273,
          4769819.81912,
          3096042.21256,
          10616562.397,
          7216812.09834,
          3253019.5728,
          770146.2495,
          726734.05041,
          2497897.4933599997,
          4384680.58002,
          9886451.7725,
          175329501.19,
          2796012,
          995404.9439000001,
          135300755.2622,
          23256054.53209,
          31965106.905400004,
          21920293.399449997,
          3556790.87616,
          1105253.183589,
          6073905.981849999,
          79931034.5757,
          1558031.8172000002,
          998673.10988,
          38713966.879140005,
          6739930.8065100005,
          2579511.08715,
          4626614.0208,
          10906561.87188,
          28241978.0103,
          1382567.5032000002,
          4825319.91318,
          7644350.584,
          3788208.0327999997,
          3878798.5536,
          2389875.136,
          3279875.0425199997,
          621933.3975000001,
          5956002.097,
          19165074.18822,
          2106231.6149999998,
          6203602.83235,
          1555757.97024,
          49500751.2008,
          262109572.41922998,
          18973840.2294,
          2767829.5259729996,
          13225354.20288,
          887949.9824799999,
          7389061.988,
          998668.6346999999,
          422694.3364,
          5851565.68344,
          2307834.0981,
          34052897.483040005,
          2330424.2619,
          2866839.50896,
          964300.8538800001,
          939547.9127999999,
          2544684.7041,
          50310803.162420005,
          17126794.027999997,
          767230.618,
          2233095.9299999997,
          1565079.57372,
          9581052.075579999,
          12534828.76082,
          1277757.61876,
          4944145.8114,
          7806698.0274,
          311157950.8371,
          668509.8999,
          19186867.3668,
          13920778.3943,
          8033645.119500001,
          10305354.00206,
          2978802.64052,
          1478297.95015,
          5348174.95692,
          24433181.01446,
          1514838.5589,
          61822951.90632,
          2073401.92495,
          2571538.36862,
          1615714810.8818002,
          4079245.5297,
          816083.9213800001,
          2880061.29005,
          1807570.75776,
          6456867.795179999,
          12355367.444133,
          958708.79368,
          4048696.3888,
          2292518.32992,
          2968235.3063000003,
          14799712.0656,
          3558000.5527000003,
          39574852.791200005,
          7931447.74352,
          15945831.913725,
          6325119.822299999,
          83931782.74184,
          6842618208.2386,
          2076142.3338,
          9067230.4784,
          5924064.647332001,
          10865386.4826,
          113774141.71554,
          2876014.3867200003,
          1797645.8743200002,
          1757325.16575,
          4240795.2938,
          14331279.3538,
          2625162.6321,
          11049355.474499999,
          8894515.7216,
          1709995.79439,
          3134183.621,
          1106541.8844,
          266190294.2629,
          50228356.519200005,
          2263294.3891,
          5388239.7056,
          2173895.480288,
          2342855.712,
          16726996.387999998,
          1515553.068744,
          4841312.23596,
          3574503.8328,
          22231892.86411,
          7678179.640319999,
          4639725.90257,
          4467548.9016,
          1994507.9514,
          11783473.422840001,
          8161129.183,
          6987424.856430001,
          95301259.59,
          2794337.9538,
          11716430.12404,
          25634803.711579997,
          2046413.2505599998,
          5177225.98368,
          4220936.953133999,
          1304149.856304,
          246274454.95999998,
          2595209.7287999997,
          6640065.576894401,
          1083201.9693699998,
          1127435.7330123999,
          7854114.2412616005,
          3009831.6353399996,
          489504778.58802855,
          23871056.70056,
          81084193.66174999,
          5498937.96309,
          3123666.2989999996,
          5235890.178768,
          29739531.8962,
          1348181.6611,
          5430973.75624,
          2915325.7884,
          22082322.8196,
          3145836.3591899998,
          1512658.4187,
          793127.468448,
          1360897.1538,
          20610372.655599996,
          1151923.28682,
          7608092.304,
          7667735.91364,
          194338761.8704,
          17129926.3267,
          1302061.13388,
          21817425.7937,
          2389501.0348,
          12668780.6111,
          5616600.07476,
          3788610.16644,
          462877.43330000003,
          121395831.07540001,
          2403590.9604720003,
          2073799.4714,
          19814660.483400002,
          3575502.084,
          24222130.24658,
          61547148.6552,
          1012653.56396,
          10457138.963128,
          10191127.45848,
          1284869.82706,
          27389124.2352,
          55521366.7134,
          7243673.1906,
          2346938.6302,
          13950718.236,
          162180557.655,
          6179493.7154,
          16187041.720966998,
          28909857.34637,
          6455418.187824001,
          11738920.2577,
          723853.52734,
          39073324.955307,
          2125733.16436,
          3211069.0892700003,
          38394623.982099995,
          4737628.609,
          1394002.39552,
          7225402.8968009995,
          1142249.355716,
          21336493.40858,
          1935083.09184,
          10345588.9591,
          2133292.1002,
          4681518.96813,
          4944390.772799999,
          15935247.68294,
          1097964.56448,
          69190204.05647999,
          705166.125,
          48383831.12049,
          292310247.6414,
          12529007.7422,
          1071130.1101199999,
          23474777.6,
          23188719.940539997,
          11836806.3277,
          2828255.2679700004,
          99837654.33000001,
          32368296.448799998,
          3227764.721,
          1382263.2208000002,
          1647287.0232,
          22950348.185599998,
          1030596.7174000001,
          2198474.8074,
          18717114.8714,
          46803022.8542,
          2185120.0899594002,
          2670958.3393,
          8345199.431534001,
          332235847.68311,
          923114.90985,
          839504.7359999999,
          1024743.56262,
          7625300.255855,
          28742357.455039997,
          48947920.46336,
          2197692.71604,
          23884217.48336,
          9674421.328192,
          4716148.27464,
          1660459.993,
          6544611.8583,
          7029716.249969999,
          14194112.06168,
          6175017.35879,
          632893.6254,
          26206042.183199998,
          112090492.75044799,
          512361.5301,
          9740764.692400001,
          946085.16,
          814834.6164,
          47657005.9812,
          426576.55358999997,
          315824658.30471,
          1332270.2026199999,
          4158828.2954400005
         ]
        }
       ],
       "layout": {
        "annotations": [
         {
          "font": {
           "size": 12
          },
          "showarrow": false,
          "text": "Color indicates daily performance: <span style='color:#3D9970'>Green = Positive</span>, <span style='color:#FF4136'>Red = Negative</span>",
          "x": 0.5,
          "xref": "paper",
          "y": 1.05,
          "yref": "paper"
         }
        ],
        "height": 800,
        "legend": {
         "tracegroupgap": 0
        },
        "margin": {
         "b": 25,
         "l": 25,
         "r": 25,
         "t": 80
        },
        "template": {
         "data": {
          "bar": [
           {
            "error_x": {
             "color": "#f2f5fa"
            },
            "error_y": {
             "color": "#f2f5fa"
            },
            "marker": {
             "line": {
              "color": "rgb(17,17,17)",
              "width": 0.5
             },
             "pattern": {
              "fillmode": "overlay",
              "size": 10,
              "solidity": 0.2
             }
            },
            "type": "bar"
           }
          ],
          "barpolar": [
           {
            "marker": {
             "line": {
              "color": "rgb(17,17,17)",
              "width": 0.5
             },
             "pattern": {
              "fillmode": "overlay",
              "size": 10,
              "solidity": 0.2
             }
            },
            "type": "barpolar"
           }
          ],
          "carpet": [
           {
            "aaxis": {
             "endlinecolor": "#A2B1C6",
             "gridcolor": "#506784",
             "linecolor": "#506784",
             "minorgridcolor": "#506784",
             "startlinecolor": "#A2B1C6"
            },
            "baxis": {
             "endlinecolor": "#A2B1C6",
             "gridcolor": "#506784",
             "linecolor": "#506784",
             "minorgridcolor": "#506784",
             "startlinecolor": "#A2B1C6"
            },
            "type": "carpet"
           }
          ],
          "choropleth": [
           {
            "colorbar": {
             "outlinewidth": 0,
             "ticks": ""
            },
            "type": "choropleth"
           }
          ],
          "contour": [
           {
            "colorbar": {
             "outlinewidth": 0,
             "ticks": ""
            },
            "colorscale": [
             [
              0,
              "#0d0887"
             ],
             [
              0.1111111111111111,
              "#46039f"
             ],
             [
              0.2222222222222222,
              "#7201a8"
             ],
             [
              0.3333333333333333,
              "#9c179e"
             ],
             [
              0.4444444444444444,
              "#bd3786"
             ],
             [
              0.5555555555555556,
              "#d8576b"
             ],
             [
              0.6666666666666666,
              "#ed7953"
             ],
             [
              0.7777777777777778,
              "#fb9f3a"
             ],
             [
              0.8888888888888888,
              "#fdca26"
             ],
             [
              1,
              "#f0f921"
             ]
            ],
            "type": "contour"
           }
          ],
          "contourcarpet": [
           {
            "colorbar": {
             "outlinewidth": 0,
             "ticks": ""
            },
            "type": "contourcarpet"
           }
          ],
          "heatmap": [
           {
            "colorbar": {
             "outlinewidth": 0,
             "ticks": ""
            },
            "colorscale": [
             [
              0,
              "#0d0887"
             ],
             [
              0.1111111111111111,
              "#46039f"
             ],
             [
              0.2222222222222222,
              "#7201a8"
             ],
             [
              0.3333333333333333,
              "#9c179e"
             ],
             [
              0.4444444444444444,
              "#bd3786"
             ],
             [
              0.5555555555555556,
              "#d8576b"
             ],
             [
              0.6666666666666666,
              "#ed7953"
             ],
             [
              0.7777777777777778,
              "#fb9f3a"
             ],
             [
              0.8888888888888888,
              "#fdca26"
             ],
             [
              1,
              "#f0f921"
             ]
            ],
            "type": "heatmap"
           }
          ],
          "heatmapgl": [
           {
            "colorbar": {
             "outlinewidth": 0,
             "ticks": ""
            },
            "colorscale": [
             [
              0,
              "#0d0887"
             ],
             [
              0.1111111111111111,
              "#46039f"
             ],
             [
              0.2222222222222222,
              "#7201a8"
             ],
             [
              0.3333333333333333,
              "#9c179e"
             ],
             [
              0.4444444444444444,
              "#bd3786"
             ],
             [
              0.5555555555555556,
              "#d8576b"
             ],
             [
              0.6666666666666666,
              "#ed7953"
             ],
             [
              0.7777777777777778,
              "#fb9f3a"
             ],
             [
              0.8888888888888888,
              "#fdca26"
             ],
             [
              1,
              "#f0f921"
             ]
            ],
            "type": "heatmapgl"
           }
          ],
          "histogram": [
           {
            "marker": {
             "pattern": {
              "fillmode": "overlay",
              "size": 10,
              "solidity": 0.2
             }
            },
            "type": "histogram"
           }
          ],
          "histogram2d": [
           {
            "colorbar": {
             "outlinewidth": 0,
             "ticks": ""
            },
            "colorscale": [
             [
              0,
              "#0d0887"
             ],
             [
              0.1111111111111111,
              "#46039f"
             ],
             [
              0.2222222222222222,
              "#7201a8"
             ],
             [
              0.3333333333333333,
              "#9c179e"
             ],
             [
              0.4444444444444444,
              "#bd3786"
             ],
             [
              0.5555555555555556,
              "#d8576b"
             ],
             [
              0.6666666666666666,
              "#ed7953"
             ],
             [
              0.7777777777777778,
              "#fb9f3a"
             ],
             [
              0.8888888888888888,
              "#fdca26"
             ],
             [
              1,
              "#f0f921"
             ]
            ],
            "type": "histogram2d"
           }
          ],
          "histogram2dcontour": [
           {
            "colorbar": {
             "outlinewidth": 0,
             "ticks": ""
            },
            "colorscale": [
             [
              0,
              "#0d0887"
             ],
             [
              0.1111111111111111,
              "#46039f"
             ],
             [
              0.2222222222222222,
              "#7201a8"
             ],
             [
              0.3333333333333333,
              "#9c179e"
             ],
             [
              0.4444444444444444,
              "#bd3786"
             ],
             [
              0.5555555555555556,
              "#d8576b"
             ],
             [
              0.6666666666666666,
              "#ed7953"
             ],
             [
              0.7777777777777778,
              "#fb9f3a"
             ],
             [
              0.8888888888888888,
              "#fdca26"
             ],
             [
              1,
              "#f0f921"
             ]
            ],
            "type": "histogram2dcontour"
           }
          ],
          "mesh3d": [
           {
            "colorbar": {
             "outlinewidth": 0,
             "ticks": ""
            },
            "type": "mesh3d"
           }
          ],
          "parcoords": [
           {
            "line": {
             "colorbar": {
              "outlinewidth": 0,
              "ticks": ""
             }
            },
            "type": "parcoords"
           }
          ],
          "pie": [
           {
            "automargin": true,
            "type": "pie"
           }
          ],
          "scatter": [
           {
            "marker": {
             "line": {
              "color": "#283442"
             }
            },
            "type": "scatter"
           }
          ],
          "scatter3d": [
           {
            "line": {
             "colorbar": {
              "outlinewidth": 0,
              "ticks": ""
             }
            },
            "marker": {
             "colorbar": {
              "outlinewidth": 0,
              "ticks": ""
             }
            },
            "type": "scatter3d"
           }
          ],
          "scattercarpet": [
           {
            "marker": {
             "colorbar": {
              "outlinewidth": 0,
              "ticks": ""
             }
            },
            "type": "scattercarpet"
           }
          ],
          "scattergeo": [
           {
            "marker": {
             "colorbar": {
              "outlinewidth": 0,
              "ticks": ""
             }
            },
            "type": "scattergeo"
           }
          ],
          "scattergl": [
           {
            "marker": {
             "line": {
              "color": "#283442"
             }
            },
            "type": "scattergl"
           }
          ],
          "scattermapbox": [
           {
            "marker": {
             "colorbar": {
              "outlinewidth": 0,
              "ticks": ""
             }
            },
            "type": "scattermapbox"
           }
          ],
          "scatterpolar": [
           {
            "marker": {
             "colorbar": {
              "outlinewidth": 0,
              "ticks": ""
             }
            },
            "type": "scatterpolar"
           }
          ],
          "scatterpolargl": [
           {
            "marker": {
             "colorbar": {
              "outlinewidth": 0,
              "ticks": ""
             }
            },
            "type": "scatterpolargl"
           }
          ],
          "scatterternary": [
           {
            "marker": {
             "colorbar": {
              "outlinewidth": 0,
              "ticks": ""
             }
            },
            "type": "scatterternary"
           }
          ],
          "surface": [
           {
            "colorbar": {
             "outlinewidth": 0,
             "ticks": ""
            },
            "colorscale": [
             [
              0,
              "#0d0887"
             ],
             [
              0.1111111111111111,
              "#46039f"
             ],
             [
              0.2222222222222222,
              "#7201a8"
             ],
             [
              0.3333333333333333,
              "#9c179e"
             ],
             [
              0.4444444444444444,
              "#bd3786"
             ],
             [
              0.5555555555555556,
              "#d8576b"
             ],
             [
              0.6666666666666666,
              "#ed7953"
             ],
             [
              0.7777777777777778,
              "#fb9f3a"
             ],
             [
              0.8888888888888888,
              "#fdca26"
             ],
             [
              1,
              "#f0f921"
             ]
            ],
            "type": "surface"
           }
          ],
          "table": [
           {
            "cells": {
             "fill": {
              "color": "#506784"
             },
             "line": {
              "color": "rgb(17,17,17)"
             }
            },
            "header": {
             "fill": {
              "color": "#2a3f5f"
             },
             "line": {
              "color": "rgb(17,17,17)"
             }
            },
            "type": "table"
           }
          ]
         },
         "layout": {
          "annotationdefaults": {
           "arrowcolor": "#f2f5fa",
           "arrowhead": 0,
           "arrowwidth": 1
          },
          "autotypenumbers": "strict",
          "coloraxis": {
           "colorbar": {
            "outlinewidth": 0,
            "ticks": ""
           }
          },
          "colorscale": {
           "diverging": [
            [
             0,
             "#8e0152"
            ],
            [
             0.1,
             "#c51b7d"
            ],
            [
             0.2,
             "#de77ae"
            ],
            [
             0.3,
             "#f1b6da"
            ],
            [
             0.4,
             "#fde0ef"
            ],
            [
             0.5,
             "#f7f7f7"
            ],
            [
             0.6,
             "#e6f5d0"
            ],
            [
             0.7,
             "#b8e186"
            ],
            [
             0.8,
             "#7fbc41"
            ],
            [
             0.9,
             "#4d9221"
            ],
            [
             1,
             "#276419"
            ]
           ],
           "sequential": [
            [
             0,
             "#0d0887"
            ],
            [
             0.1111111111111111,
             "#46039f"
            ],
            [
             0.2222222222222222,
             "#7201a8"
            ],
            [
             0.3333333333333333,
             "#9c179e"
            ],
            [
             0.4444444444444444,
             "#bd3786"
            ],
            [
             0.5555555555555556,
             "#d8576b"
            ],
            [
             0.6666666666666666,
             "#ed7953"
            ],
            [
             0.7777777777777778,
             "#fb9f3a"
            ],
            [
             0.8888888888888888,
             "#fdca26"
            ],
            [
             1,
             "#f0f921"
            ]
           ],
           "sequentialminus": [
            [
             0,
             "#0d0887"
            ],
            [
             0.1111111111111111,
             "#46039f"
            ],
            [
             0.2222222222222222,
             "#7201a8"
            ],
            [
             0.3333333333333333,
             "#9c179e"
            ],
            [
             0.4444444444444444,
             "#bd3786"
            ],
            [
             0.5555555555555556,
             "#d8576b"
            ],
            [
             0.6666666666666666,
             "#ed7953"
            ],
            [
             0.7777777777777778,
             "#fb9f3a"
            ],
            [
             0.8888888888888888,
             "#fdca26"
            ],
            [
             1,
             "#f0f921"
            ]
           ]
          },
          "colorway": [
           "#636efa",
           "#EF553B",
           "#00cc96",
           "#ab63fa",
           "#FFA15A",
           "#19d3f3",
           "#FF6692",
           "#B6E880",
           "#FF97FF",
           "#FECB52"
          ],
          "font": {
           "color": "#f2f5fa"
          },
          "geo": {
           "bgcolor": "rgb(17,17,17)",
           "lakecolor": "rgb(17,17,17)",
           "landcolor": "rgb(17,17,17)",
           "showlakes": true,
           "showland": true,
           "subunitcolor": "#506784"
          },
          "hoverlabel": {
           "align": "left"
          },
          "hovermode": "closest",
          "mapbox": {
           "style": "dark"
          },
          "paper_bgcolor": "rgb(17,17,17)",
          "plot_bgcolor": "rgb(17,17,17)",
          "polar": {
           "angularaxis": {
            "gridcolor": "#506784",
            "linecolor": "#506784",
            "ticks": ""
           },
           "bgcolor": "rgb(17,17,17)",
           "radialaxis": {
            "gridcolor": "#506784",
            "linecolor": "#506784",
            "ticks": ""
           }
          },
          "scene": {
           "xaxis": {
            "backgroundcolor": "rgb(17,17,17)",
            "gridcolor": "#506784",
            "gridwidth": 2,
            "linecolor": "#506784",
            "showbackground": true,
            "ticks": "",
            "zerolinecolor": "#C8D4E3"
           },
           "yaxis": {
            "backgroundcolor": "rgb(17,17,17)",
            "gridcolor": "#506784",
            "gridwidth": 2,
            "linecolor": "#506784",
            "showbackground": true,
            "ticks": "",
            "zerolinecolor": "#C8D4E3"
           },
           "zaxis": {
            "backgroundcolor": "rgb(17,17,17)",
            "gridcolor": "#506784",
            "gridwidth": 2,
            "linecolor": "#506784",
            "showbackground": true,
            "ticks": "",
            "zerolinecolor": "#C8D4E3"
           }
          },
          "shapedefaults": {
           "line": {
            "color": "#f2f5fa"
           }
          },
          "sliderdefaults": {
           "bgcolor": "#C8D4E3",
           "bordercolor": "rgb(17,17,17)",
           "borderwidth": 1,
           "tickwidth": 0
          },
          "ternary": {
           "aaxis": {
            "gridcolor": "#506784",
            "linecolor": "#506784",
            "ticks": ""
           },
           "baxis": {
            "gridcolor": "#506784",
            "linecolor": "#506784",
            "ticks": ""
           },
           "bgcolor": "rgb(17,17,17)",
           "caxis": {
            "gridcolor": "#506784",
            "linecolor": "#506784",
            "ticks": ""
           }
          },
          "title": {
           "x": 0.05
          },
          "updatemenudefaults": {
           "bgcolor": "#506784",
           "borderwidth": 0
          },
          "xaxis": {
           "automargin": true,
           "gridcolor": "#283442",
           "linecolor": "#506784",
           "ticks": "",
           "title": {
            "standoff": 15
           },
           "zerolinecolor": "#283442",
           "zerolinewidth": 2
          },
          "yaxis": {
           "automargin": true,
           "gridcolor": "#283442",
           "linecolor": "#506784",
           "ticks": "",
           "title": {
            "standoff": 15
           },
           "zerolinecolor": "#283442",
           "zerolinewidth": 2
          }
         }
        },
        "title": {
         "text": "Cryptocurrencies by Trading Volume (USDT) - 2025-06-29"
        },
        "uniformtext": {
         "minsize": 10,
         "mode": "hide"
        },
        "width": 1200
       }
      }
     },
     "metadata": {},
     "output_type": "display_data"
    }
   ],
   "source": [
    "# Get yesterday's date\n",
    "yesterday = datetime.now().date() - timedelta(days=1)\n",
    "\n",
    "# Prepare yesterday's data\n",
    "treemap_data = []\n",
    "for symbol in returns_data.keys():\n",
    "    # Find yesterday's index in date_list\n",
    "    if yesterday in date_list:\n",
    "        idx = date_list.index(yesterday)\n",
    "        daily_return = returns_data[symbol][idx] if idx < len(returns_data[symbol]) else 0\n",
    "        daily_volume = volume_data.get(symbol, [0]*7)[idx] if idx < len(volume_data.get(symbol, [])) else 0\n",
    "        \n",
    "        treemap_data.append({\n",
    "            'Symbol': symbol,\n",
    "            'USDT Volume': daily_volume,\n",
    "            'Daily Return': daily_return,\n",
    "            'Performance': 'Positive' if daily_return >= 0 else 'Negative'\n",
    "        })\n",
    "\n",
    "treemap_df = pd.DataFrame(treemap_data)\n",
    "\n",
    "# Create the treemap\n",
    "fig_volume = px.treemap(\n",
    "    treemap_df,\n",
    "    path=['Symbol'],\n",
    "    values='USDT Volume',\n",
    "    title=f'Cryptocurrencies by Trading Volume (USDT) - {yesterday.strftime(\"%Y-%m-%d\")}',\n",
    "    color='Performance',\n",
    "    color_discrete_map={'Positive':'#3D9970', 'Negative':'#FF4136'},\n",
    "    hover_data=['Daily Return', 'USDT Volume'],\n",
    "    width=1200,\n",
    "    height=800\n",
    ")\n",
    "\n",
    "# Format hover template\n",
    "fig_volume.update_traces(\n",
    "    hovertemplate=\"<b>%{label}</b><br>\" +\n",
    "                 \"Volume: $%{value:,.0f}<br>\" +\n",
    "                 \"Daily Return: %{customdata[0]:.2f}%<extra></extra>\"\n",
    ")\n",
    "\n",
    "# Customize layout\n",
    "fig_volume.update_layout(\n",
    "    template=\"plotly_dark\",\n",
    "    margin=dict(t=80, l=25, r=25, b=25),\n",
    "    uniformtext=dict(minsize=10, mode='hide'),\n",
    "    annotations=[\n",
    "        dict(\n",
    "            x=0.5, y=1.05,\n",
    "            xref=\"paper\", yref=\"paper\",\n",
    "            text=\"Color indicates daily performance: <span style='color:#3D9970'>Green = Positive</span>, <span style='color:#FF4136'>Red = Negative</span>\",\n",
    "            showarrow=False,\n",
    "            font=dict(size=12)\n",
    "        )\n",
    "    ]\n",
    ")\n",
    "\n",
    "fig_volume.show()"
   ]
  },
  {
   "cell_type": "code",
   "execution_count": 13,
   "id": "0f52f9c5",
   "metadata": {},
   "outputs": [
    {
     "data": {
      "text/html": [
       "<h2>📊 Market Health Dashboard</h2>"
      ],
      "text/plain": [
       "<IPython.core.display.HTML object>"
      ]
     },
     "metadata": {},
     "output_type": "display_data"
    },
    {
     "data": {
      "text/html": [
       "<div>\n",
       "<style scoped>\n",
       "    .dataframe tbody tr th:only-of-type {\n",
       "        vertical-align: middle;\n",
       "    }\n",
       "\n",
       "    .dataframe tbody tr th {\n",
       "        vertical-align: top;\n",
       "    }\n",
       "\n",
       "    .dataframe thead th {\n",
       "        text-align: right;\n",
       "    }\n",
       "</style>\n",
       "<table border=\"1\" class=\"dataframe\">\n",
       "  <thead>\n",
       "    <tr style=\"text-align: right;\">\n",
       "      <th></th>\n",
       "      <th>Value</th>\n",
       "    </tr>\n",
       "  </thead>\n",
       "  <tbody>\n",
       "    <tr>\n",
       "      <th>Total Weekly Volume (USDT)</th>\n",
       "      <td>$328,873,933,733</td>\n",
       "    </tr>\n",
       "    <tr>\n",
       "      <th>Avg Daily Return %</th>\n",
       "      <td>1.55%</td>\n",
       "    </tr>\n",
       "    <tr>\n",
       "      <th>Positive Days %</th>\n",
       "      <td>61.5%</td>\n",
       "    </tr>\n",
       "    <tr>\n",
       "      <th>Top Gainer</th>\n",
       "      <td>MYXUSDT</td>\n",
       "    </tr>\n",
       "    <tr>\n",
       "      <th>Top Gainer Return</th>\n",
       "      <td>55.77%</td>\n",
       "    </tr>\n",
       "  </tbody>\n",
       "</table>\n",
       "</div>"
      ],
      "text/plain": [
       "                                       Value\n",
       "Total Weekly Volume (USDT)  $328,873,933,733\n",
       "Avg Daily Return %                     1.55%\n",
       "Positive Days %                        61.5%\n",
       "Top Gainer                           MYXUSDT\n",
       "Top Gainer Return                     55.77%"
      ]
     },
     "metadata": {},
     "output_type": "display_data"
    }
   ],
   "source": [
    "# Calculate market-wide metrics\n",
    "total_volume = sum([sum(v) for v in volume_data.values()])\n",
    "avg_daily_return = heatmap_df.mean().mean()\n",
    "positive_days = (heatmap_df > 0).sum().sum()\n",
    "market_metrics = {\n",
    "    'Total Weekly Volume (USDT)': f\"${total_volume:,.0f}\",\n",
    "    'Avg Daily Return %': f\"{avg_daily_return:.2f}%\",\n",
    "    'Positive Days %': f\"{(positive_days/(heatmap_df.size))*100:.1f}%\",\n",
    "    'Top Gainer': weekly_gainers_df.iloc[0]['Symbol'],\n",
    "    'Top Gainer Return': f\"{weekly_gainers_df.iloc[0]['Weekly Return (%)']:.2f}%\"\n",
    "}\n",
    "\n",
    "display(HTML(\"<h2>📊 Market Health Dashboard</h2>\"))\n",
    "display(pd.DataFrame.from_dict(market_metrics, orient='index', columns=['Value']))\n",
    "\n"
   ]
  },
  {
   "cell_type": "code",
   "execution_count": 14,
   "id": "65a28378",
   "metadata": {},
   "outputs": [
    {
     "data": {
      "application/vnd.plotly.v1+json": {
       "config": {
        "plotlyServerURL": "https://plot.ly"
       },
       "data": [
        {
         "colorscale": [
          [
           0,
           "rgb(103,0,31)"
          ],
          [
           0.1,
           "rgb(178,24,43)"
          ],
          [
           0.2,
           "rgb(214,96,77)"
          ],
          [
           0.3,
           "rgb(244,165,130)"
          ],
          [
           0.4,
           "rgb(253,219,199)"
          ],
          [
           0.5,
           "rgb(247,247,247)"
          ],
          [
           0.6,
           "rgb(209,229,240)"
          ],
          [
           0.7,
           "rgb(146,197,222)"
          ],
          [
           0.8,
           "rgb(67,147,195)"
          ],
          [
           0.9,
           "rgb(33,102,172)"
          ],
          [
           1,
           "rgb(5,48,97)"
          ]
         ],
         "type": "heatmap",
         "x": [
          "1000PEPEUSDT",
          "AAVEUSDT",
          "ADAUSDT",
          "APTUSDT",
          "ARBUSDT",
          "AVAXUSDT",
          "BANANAS31USDT",
          "BCHUSDT",
          "BIDUSDT",
          "BNBUSDT",
          "BSWUSDT",
          "BTCUSDT",
          "CRVUSDT",
          "DOGEUSDT",
          "DOTUSDT",
          "ENAUSDT",
          "ETHUSDT",
          "FARTCOINUSDT",
          "FILUSDT",
          "FUNUSDT",
          "HIFIUSDT",
          "HYPEUSDT",
          "INJUSDT",
          "LINKUSDT",
          "LPTUSDT",
          "LTCUSDT",
          "MOODENGUSDT",
          "MOVEUSDT",
          "MYXUSDT",
          "NEARUSDT",
          "NEIROUSDT",
          "NEWTUSDT",
          "OPUSDT",
          "PENGUUSDT",
          "PNUTUSDT",
          "RESOLVUSDT",
          "SEIUSDT",
          "SOLUSDT",
          "SPKUSDT",
          "SPXUSDT",
          "SUIUSDT",
          "SYRUPUSDT",
          "TAOUSDT",
          "TIAUSDT",
          "TRUMPUSDT",
          "UNIUSDT",
          "VIRTUALUSDT",
          "WIFUSDT",
          "WLDUSDT",
          "XRPUSDT"
         ],
         "y": [
          "1000PEPEUSDT",
          "AAVEUSDT",
          "ADAUSDT",
          "APTUSDT",
          "ARBUSDT",
          "AVAXUSDT",
          "BANANAS31USDT",
          "BCHUSDT",
          "BIDUSDT",
          "BNBUSDT",
          "BSWUSDT",
          "BTCUSDT",
          "CRVUSDT",
          "DOGEUSDT",
          "DOTUSDT",
          "ENAUSDT",
          "ETHUSDT",
          "FARTCOINUSDT",
          "FILUSDT",
          "FUNUSDT",
          "HIFIUSDT",
          "HYPEUSDT",
          "INJUSDT",
          "LINKUSDT",
          "LPTUSDT",
          "LTCUSDT",
          "MOODENGUSDT",
          "MOVEUSDT",
          "MYXUSDT",
          "NEARUSDT",
          "NEIROUSDT",
          "NEWTUSDT",
          "OPUSDT",
          "PENGUUSDT",
          "PNUTUSDT",
          "RESOLVUSDT",
          "SEIUSDT",
          "SOLUSDT",
          "SPKUSDT",
          "SPXUSDT",
          "SUIUSDT",
          "SYRUPUSDT",
          "TAOUSDT",
          "TIAUSDT",
          "TRUMPUSDT",
          "UNIUSDT",
          "VIRTUALUSDT",
          "WIFUSDT",
          "WLDUSDT",
          "XRPUSDT"
         ],
         "z": [
          [
           1,
           0.8769414977683234,
           0.9665155890611996,
           0.5554757456402811,
           0.7584254398616848,
           0.9755152907005813,
           0.5035611718925601,
           -0.4660110457606182,
           0.5755698186582335,
           0.8129000142852683,
           0.27292853635276465,
           0.6949022331424431,
           0.9446262136888408,
           0.9141324949649914,
           0.9567023232515043,
           0.9799477929477552,
           0.8922071699086904,
           0.8680924885474116,
           0.9730502260814569,
           0.6073886979566779,
           0.46410849289366435,
           0.8533725375200967,
           0.9381279385643838,
           0.9280043069090662,
           0.6146819669136564,
           0.9034045261583955,
           0.94229615431432,
           0.48899193563463184,
           0.42970966681032446,
           0.9276732701041849,
           0.937394187010555,
           0.24816194056048216,
           0.9672810051799541,
           0.6662227374129753,
           0.9501688172573189,
           0.508998607261291,
           0.7012229621841142,
           0.9312682210950559,
           0.6158409183839104,
           0.86554143462466,
           0.8845729142592872,
           0.5185661869361916,
           0.9215631753481075,
           0.9067810117505387,
           0.9305094801285841,
           0.9450343392211273,
           0.8859653251691778,
           0.9919402113014198,
           0.9848299296396849,
           0.8598144222398615
          ],
          [
           0.8769414977683234,
           1,
           0.8795047348505951,
           0.5238032992490463,
           0.8906879299329695,
           0.9099902561804158,
           0.5983444703389306,
           -0.17706174115658985,
           0.4622157865124347,
           0.8176056611956104,
           0.041593317207290786,
           0.72966066862047,
           0.8972200805054796,
           0.87534617541801,
           0.931911028035342,
           0.8763181744359491,
           0.8664410013274457,
           0.7630435747952269,
           0.8959476272298027,
           0.6487481068135165,
           0.5941188937879514,
           0.7854179652680965,
           0.8225790160643168,
           0.8201112089667723,
           0.8577041382073209,
           0.8246171721486052,
           0.8074621409445555,
           0.6026634121720784,
           0.2430640509800942,
           0.8894535650871657,
           0.8661938523794376,
           0.22227348111064724,
           0.9433503546172874,
           0.4043424915882776,
           0.7626091952587272,
           0.6238339608014554,
           0.7641878944552278,
           0.7555974330203308,
           0.5810322624292681,
           0.6574566021972033,
           0.8659677292637941,
           0.2773252421664124,
           0.9364898239796261,
           0.8474629233880492,
           0.8237870429175331,
           0.8598103467259968,
           0.8381507036823213,
           0.8621959532017958,
           0.9221800123289935,
           0.817191107358056
          ],
          [
           0.9665155890611996,
           0.8795047348505951,
           1,
           0.6066719593521417,
           0.6632833833892874,
           0.9903604354089565,
           0.5838316826362582,
           -0.30226193225782666,
           0.4914831071415026,
           0.8924061527979585,
           0.20655588072599793,
           0.7768266244935964,
           0.9238655765269335,
           0.9455500971377815,
           0.9835940916116854,
           0.9655896609117575,
           0.9442166831202152,
           0.8362443575759598,
           0.9721129027729923,
           0.6778364118972797,
           0.5516523942567321,
           0.8441879179985415,
           0.9102546905401554,
           0.9653255246731004,
           0.5941653335654579,
           0.9241171424800504,
           0.9377316134000765,
           0.5741177024288039,
           0.3674321260914137,
           0.9743589413506966,
           0.9271660169533814,
           0.23834054062787743,
           0.9324817064962706,
           0.6285283684873908,
           0.9162516130621032,
           0.512368555936987,
           0.7612156650636545,
           0.9213706997106659,
           0.544108876822818,
           0.8409182697565345,
           0.9339263891626356,
           0.5823190048173379,
           0.9076980205979869,
           0.9190512324299338,
           0.9390126518134972,
           0.9556397286531081,
           0.8536650501905875,
           0.9849540563983058,
           0.9783736825320694,
           0.9050365044161769
          ],
          [
           0.5554757456402811,
           0.5238032992490463,
           0.6066719593521417,
           1,
           0.4671434867352051,
           0.5190522784808583,
           0.3009950466332207,
           -0.41134374903735554,
           -0.21082315698527837,
           0.5217000613687193,
           0.18946207356594771,
           0.521824637508326,
           0.4023048397528756,
           0.5652929689429774,
           0.5097601974249345,
           0.43394390551592427,
           0.6375669549324622,
           0.1743883882675629,
           0.6069495711298156,
           0.1998580215671681,
           0.6424987287728424,
           0.16318146442766232,
           0.7747643912605925,
           0.7739626495258697,
           0.14637287434890364,
           0.38040024258672084,
           0.3367609864224516,
           0.16712177963467673,
           -0.12780965271204514,
           0.6234644251915911,
           0.7210264251158872,
           0.7820045282170204,
           0.5016476792785538,
           0.015376859155261845,
           0.34559525996427026,
           -0.29640805707725293,
           0.8251151281724357,
           0.3980263080098515,
           -0.19456648553284078,
           0.7073911895722311,
           0.3605119703385796,
           0.846827199233403,
           0.3875688343583335,
           0.7219143434397187,
           0.49136578606385767,
           0.7032504214427011,
           0.2451704533498168,
           0.6033711186339128,
           0.5145679780091196,
           0.5283692808895837
          ],
          [
           0.7584254398616848,
           0.8906879299329695,
           0.6632833833892874,
           0.4671434867352051,
           1,
           0.7101009403777477,
           0.4078808365176145,
           -0.323291678950321,
           0.4169025589470557,
           0.6083885918953585,
           0.08714930998284344,
           0.5771914750891559,
           0.7261831632890328,
           0.7126076445222512,
           0.7286748457385567,
           0.7190220190043807,
           0.6831665474791517,
           0.5951909693291052,
           0.7631559933806246,
           0.4847186228754037,
           0.39036900470793817,
           0.6108155049980102,
           0.761611368332302,
           0.6448705063078295,
           0.7743618870169636,
           0.6468599899608322,
           0.6178687688771085,
           0.4546802733328359,
           0.25095291546603804,
           0.676604797557185,
           0.7376091521912879,
           0.2588747486157157,
           0.8633451642206325,
           0.21872054877970418,
           0.591586087739547,
           0.4659672196707983,
           0.5983917199985546,
           0.5831307638742113,
           0.5422607679894943,
           0.583502754691192,
           0.6243999731029838,
           0.1638176959004789,
           0.7987155327957336,
           0.7103134331353821,
           0.6271770493512062,
           0.719843539631048,
           0.7120648871385901,
           0.7001017545672366,
           0.7647230899925522,
           0.624341726541663
          ],
          [
           0.9755152907005813,
           0.9099902561804158,
           0.9903604354089565,
           0.5190522784808583,
           0.7101009403777477,
           1,
           0.5840033093493259,
           -0.298351311442163,
           0.5660616748172527,
           0.8726606648207192,
           0.18778450209470537,
           0.7458186194584713,
           0.9609391833805582,
           0.936703873955743,
           0.9944998157043504,
           0.9838037062368203,
           0.9234481871197995,
           0.883948842472822,
           0.967996868960538,
           0.6805849794278518,
           0.5285451963029206,
           0.8870434647860821,
           0.8856955405675967,
           0.9262437457308218,
           0.6778530194334897,
           0.9319327164562636,
           0.9575128427299632,
           0.5772470076067905,
           0.3926205336949662,
           0.9625065673486175,
           0.9185997782482668,
           0.17686215021626428,
           0.9563564142823962,
           0.6599312364827621,
           0.9393098757009609,
           0.604891542162789,
           0.7272877834340552,
           0.9275057724499948,
           0.6245733969868903,
           0.8024465386035802,
           0.9498639920064197,
           0.47030367158958947,
           0.9460832618332221,
           0.8996890438268524,
           0.9450635583048813,
           0.9357707594242906,
           0.8992622187568565,
           0.9815476681827073,
           0.9933669407846097,
           0.8943814944146209
          ],
          [
           0.5035611718925601,
           0.5983444703389306,
           0.5838316826362582,
           0.3009950466332207,
           0.4078808365176145,
           0.5840033093493259,
           1,
           0.1851539260861229,
           -0.10335580661114552,
           0.6842781021399132,
           -0.6605750587341311,
           0.5946203477905738,
           0.4719114676840094,
           0.7204647251227141,
           0.6088609494422309,
           0.56748352546653,
           0.47007896329577353,
           0.6797258181545347,
           0.6319341556547045,
           0.43773266559703666,
           0.6275471663629429,
           0.7238964456810022,
           0.5348551233422156,
           0.5638806348506118,
           0.44392199221476925,
           0.5674395378631015,
           0.44737720623556093,
           0.3714400319435008,
           -0.21452051234071112,
           0.743815147675576,
           0.5810257565640516,
           0.16269781170991057,
           0.534917090949481,
           0.5461144183464386,
           0.5313375560197522,
           0.4141308175214829,
           0.6209902350177939,
           0.6720504353784764,
           0.10919348436869154,
           0.6081607264610535,
           0.7350231866376142,
           0.2085495612494584,
           0.41445882591194494,
           0.7360222118962011,
           0.297620627794459,
           0.6862306437980255,
           0.2889250446378174,
           0.5485302659233126,
           0.5264977567952078,
           0.8495971542373331
          ],
          [
           -0.4660110457606182,
           -0.17706174115658985,
           -0.30226193225782666,
           -0.41134374903735554,
           -0.323291678950321,
           -0.298351311442163,
           0.1851539260861229,
           1,
           -0.17672823123993583,
           0.08397390918931524,
           -0.4607896628967868,
           0.18863973554357155,
           -0.3995926016618776,
           -0.13176531886940623,
           -0.21025552382662396,
           -0.30959944329600714,
           -0.14148862624966976,
           -0.27899226492811935,
           -0.3102949752568412,
           0.33241458179311695,
           -0.22308276540987748,
           -0.10914411258016066,
           -0.5219336597819565,
           -0.3563818934298335,
           -0.0721831048415238,
           -0.08701936623496968,
           -0.26555635989313914,
           0.44896665612015124,
           -0.04668267002406541,
           -0.21680572281049756,
           -0.5267466519299986,
           -0.617941246947014,
           -0.3117250771894953,
           -0.3838636708864766,
           -0.4470836574550493,
           0.2768870653947201,
           -0.3523627923491344,
           -0.3169299592899519,
           -0.021656265823482332,
           -0.5199266797788663,
           -0.03113180109557595,
           -0.3725425300049437,
           -0.23967810462615133,
           -0.3830966461729973,
           -0.36728551849194957,
           -0.3618510016195599,
           -0.2384789302030665,
           -0.44351417910275237,
           -0.32975223640170126,
           -0.1063413055949606
          ],
          [
           0.5755698186582335,
           0.4622157865124347,
           0.4914831071415026,
           -0.21082315698527837,
           0.4169025589470557,
           0.5660616748172527,
           -0.10335580661114552,
           -0.17672823123993583,
           1,
           0.39561745802688775,
           0.5762103358082101,
           0.3273010682580256,
           0.6419201319043988,
           0.41165168073035513,
           0.5606409344724294,
           0.6380028743812054,
           0.5059391919128197,
           0.5741291709657366,
           0.4684884791028613,
           0.5768830468972337,
           -0.2756953494956246,
           0.5927430591713593,
           0.29749388788984016,
           0.3183977649548735,
           0.4772245085333806,
           0.6429451861313652,
           0.7463154142958401,
           0.5166079702451536,
           0.8565878553980144,
           0.34165926807437963,
           0.2948496395523911,
           -0.4976993751106337,
           0.6034308532793355,
           0.42905103259687455,
           0.6230201305101573,
           0.7585569187918905,
           -0.0873877573000599,
           0.5084828370727901,
           0.9581974400969561,
           0.17861861082246994,
           0.5273879327057975,
           -0.092927893253182,
           0.7225197758345455,
           0.19155006333218452,
           0.695466292690139,
           0.30372481847235855,
           0.8531460542545172,
           0.505345996819722,
           0.614754283046353,
           0.27043057861997394
          ],
          [
           0.8129000142852683,
           0.8176056611956104,
           0.8924061527979585,
           0.5217000613687193,
           0.6083885918953585,
           0.8726606648207192,
           0.6842781021399132,
           0.08397390918931524,
           0.39561745802688775,
           1,
           0.03958695240005634,
           0.968919671310317,
           0.7181359080594992,
           0.9666780271780689,
           0.9063229964942556,
           0.8694543565074538,
           0.9399811180031816,
           0.7060830894941503,
           0.9113047845914046,
           0.893055769146578,
           0.3782101600012336,
           0.8126998728984661,
           0.7843545903991823,
           0.8794593414317945,
           0.4783030811919937,
           0.9462318820952784,
           0.8409195919482341,
           0.8326517640434208,
           0.42770295825021554,
           0.9142037368668242,
           0.7270927149089744,
           -0.004427751346894984,
           0.8595833655222951,
           0.4308056218696663,
           0.7310116554865513,
           0.5660774710652045,
           0.6012347323683302,
           0.8353192698156758,
           0.5430616422021519,
           0.7334302806344561,
           0.9295499274437738,
           0.5463003479293023,
           0.8033146118515292,
           0.813883490240148,
           0.7725554179542358,
           0.8731952450903503,
           0.7527952334573189,
           0.8311043114968916,
           0.8625133964191489,
           0.9203784900433817
          ],
          [
           0.27292853635276465,
           0.041593317207290786,
           0.20655588072599793,
           0.18946207356594771,
           0.08714930998284344,
           0.18778450209470537,
           -0.6605750587341311,
           -0.4607896628967868,
           0.5762103358082101,
           0.03958695240005634,
           1,
           0.06777330229220638,
           0.22313034659767078,
           0.030047813036705673,
           0.15474175002350418,
           0.2064633175675148,
           0.31643993642753326,
           -0.0668091370614559,
           0.14474303488545717,
           0.16641837428846543,
           -0.35332184621623314,
           -0.08643374339982082,
           0.19822869416153777,
           0.21778801774609413,
           -0.09697190449848231,
           0.20303330165324918,
           0.3299475727512851,
           0.14576023424414974,
           0.679898035698371,
           -0.006009462952990824,
           0.11082394776274923,
           -0.045572299027626814,
           0.20826337736563655,
           -0.08483172399404228,
           0.19168029206848788,
           -0.048013108562312695,
           -0.11875383061885648,
           0.06151879712687651,
           0.3835495258586295,
           0.07630353013118868,
           -0.023208166786100194,
           0.3501417544490974,
           0.3007684759960136,
           -0.051831106418848784,
           0.4783000718673438,
           0.058253540157240165,
           0.4202874667283503,
           0.23445689894715316,
           0.24951777887961193,
           -0.16801110475303438
          ],
          [
           0.6949022331424431,
           0.72966066862047,
           0.7768266244935964,
           0.521824637508326,
           0.5771914750891559,
           0.7458186194584713,
           0.5946203477905738,
           0.18863973554357155,
           0.3273010682580256,
           0.968919671310317,
           0.06777330229220638,
           1,
           0.5570464128193788,
           0.8993080295820229,
           0.7941979440249928,
           0.7532980851180953,
           0.8972207682586562,
           0.5341905795793694,
           0.8240232105923937,
           0.9239607309706854,
           0.2375319109145293,
           0.6801357330020609,
           0.7063254863095991,
           0.7999569367780026,
           0.35522265654195906,
           0.8794778901901946,
           0.7266641365413045,
           0.8934840098023049,
           0.4673452253224102,
           0.8029634296202337,
           0.5920857284390961,
           -0.06414661198623667,
           0.7763756273059,
           0.23038691188882177,
           0.5674500493885122,
           0.47661194590393835,
           0.48775212540775187,
           0.7060317272610765,
           0.4937992880669424,
           0.6481225979556445,
           0.8168984975716763,
           0.5607104344876528,
           0.7015335578656402,
           0.7033849609990671,
           0.6584004626627765,
           0.7773473361058569,
           0.6579275340258391,
           0.7055599550463596,
           0.749667363272082,
           0.8263858078266503
          ],
          [
           0.9446262136888408,
           0.8972200805054796,
           0.9238655765269335,
           0.4023048397528756,
           0.7261831632890328,
           0.9609391833805582,
           0.4719114676840094,
           -0.3995926016618776,
           0.6419201319043988,
           0.7181359080594992,
           0.22313034659767078,
           0.5570464128193788,
           1,
           0.8166369862489133,
           0.9444233662769227,
           0.9396254587126114,
           0.81710810634425,
           0.8898536707750963,
           0.8836805066206253,
           0.534100551576444,
           0.5359296373758073,
           0.8481031184780798,
           0.8079380093161151,
           0.81777640177337,
           0.7880449561152595,
           0.8335437343089254,
           0.9207855881519411,
           0.4324768099035623,
           0.3509639632765746,
           0.8737368705959259,
           0.8958273611832096,
           0.1851343562290082,
           0.9188791235964608,
           0.6790930987033551,
           0.9332272866491593,
           0.6456063292435653,
           0.6911297018469884,
           0.8552984311136241,
           0.6618796841401392,
           0.691621881577432,
           0.8741269338419081,
           0.28761189154998495,
           0.9537210065315804,
           0.8197543135954313,
           0.9353228163332872,
           0.8419269570940727,
           0.9139810916005023,
           0.9355535766992643,
           0.960966178838751,
           0.7725972208301556
          ],
          [
           0.9141324949649914,
           0.87534617541801,
           0.9455500971377815,
           0.5652929689429774,
           0.7126076445222512,
           0.936703873955743,
           0.7204647251227141,
           -0.13176531886940623,
           0.41165168073035513,
           0.9666780271780689,
           0.030047813036705673,
           0.8993080295820229,
           0.8166369862489133,
           1,
           0.9509466149424063,
           0.9415362433281547,
           0.9301772639517999,
           0.8189747720549866,
           0.9807555241802682,
           0.7882640879826742,
           0.4632114679988725,
           0.8807251616246259,
           0.8945976383740438,
           0.9325307269190446,
           0.5461476756489536,
           0.9541697582341611,
           0.8854747813119148,
           0.6972212348417752,
           0.375966927847196,
           0.9703947098493828,
           0.8531914886053376,
           0.13476487566971362,
           0.9347208156487287,
           0.5672361647730811,
           0.8446324831610841,
           0.5434857887570952,
           0.69056864725638,
           0.9241071124579504,
           0.5459272218539356,
           0.8546224365443501,
           0.9517845926963455,
           0.5522133913694659,
           0.8501829703129699,
           0.9185402003517957,
           0.8149023994514686,
           0.959102534881929,
           0.7895262149354667,
           0.9239104300653891,
           0.9308333729701334,
           0.9706664263039946
          ],
          [
           0.9567023232515043,
           0.931911028035342,
           0.9835940916116854,
           0.5097601974249345,
           0.7286748457385567,
           0.9944998157043504,
           0.6088609494422309,
           -0.21025552382662396,
           0.5606409344724294,
           0.9063229964942556,
           0.15474175002350418,
           0.7941979440249928,
           0.9444233662769227,
           0.9509466149424063,
           1,
           0.9765581129233668,
           0.9415545496847657,
           0.86506458363308,
           0.9667183524520808,
           0.736630990846966,
           0.519414711905679,
           0.8882936649578159,
           0.866759755351099,
           0.9175940173150147,
           0.7019752124748369,
           0.9461481511008277,
           0.9494363090318081,
           0.6473545297796626,
           0.3998540963672539,
           0.9642367883868455,
           0.8939927840037853,
           0.1322948732517439,
           0.9612244890915559,
           0.6066492990394962,
           0.906648850652581,
           0.6421718011529288,
           0.7183276617151869,
           0.9085200154139126,
           0.6408826085347925,
           0.7705539266029021,
           0.964332710483705,
           0.4454390199363792,
           0.954704967986259,
           0.8876577746666345,
           0.9321489428873921,
           0.9270928757383253,
           0.9026248608228961,
           0.9614851242481969,
           0.9891351495436685,
           0.9027592731463001
          ],
          [
           0.9799477929477552,
           0.8763181744359491,
           0.9655896609117575,
           0.43394390551592427,
           0.7190220190043807,
           0.9838037062368203,
           0.56748352546653,
           -0.30959944329600714,
           0.6380028743812054,
           0.8694543565074538,
           0.2064633175675148,
           0.7532980851180953,
           0.9396254587126114,
           0.9415362433281547,
           0.9765581129233668,
           1,
           0.9009314149851021,
           0.913755574193022,
           0.9709812756720796,
           0.7160072586947583,
           0.3975764288368958,
           0.9273429974403451,
           0.8759029004110148,
           0.8957423855741196,
           0.6322379276601454,
           0.9603479752976483,
           0.978693533125688,
           0.6012599897852545,
           0.49731681489147905,
           0.9345222528170031,
           0.8764561391515368,
           0.07640677807635277,
           0.9683794142039872,
           0.703396759446959,
           0.9598462262602129,
           0.6443755208843704,
           0.6221858706205682,
           0.9588497927080245,
           0.7053155743494949,
           0.8152365007747685,
           0.9490715520011396,
           0.4389860794992577,
           0.9376573088668301,
           0.8711583589137767,
           0.9230832228188435,
           0.921426272218106,
           0.9189854075510672,
           0.971536140445379,
           0.987197423317943,
           0.8934238437656099
          ],
          [
           0.8922071699086904,
           0.8664410013274457,
           0.9442166831202152,
           0.6375669549324622,
           0.6831665474791517,
           0.9234481871197995,
           0.47007896329577353,
           -0.14148862624966976,
           0.5059391919128197,
           0.9399811180031816,
           0.31643993642753326,
           0.8972207682586562,
           0.81710810634425,
           0.9301772639517999,
           0.9415545496847657,
           0.9009314149851021,
           1,
           0.6670925718683774,
           0.9323703876003592,
           0.8199519611095488,
           0.40437449799756187,
           0.7342019476405016,
           0.8567850528186453,
           0.9360424331496471,
           0.5364384090788992,
           0.930599966150809,
           0.8906237583364375,
           0.7600551961794718,
           0.49462258139255155,
           0.9054377929856534,
           0.8138309151048055,
           0.12913952878327453,
           0.9122962322606536,
           0.37538692715231486,
           0.7704565233054442,
           0.49725819933359144,
           0.6660819745629896,
           0.8042587845692325,
           0.5799715480107943,
           0.7395347931255515,
           0.8782576149209111,
           0.6149860367017013,
           0.8964490481920716,
           0.8199403301198641,
           0.9121186672861352,
           0.8874136215210565,
           0.8515419757833522,
           0.9003948935306406,
           0.9308588936494188,
           0.832076496689876
          ],
          [
           0.8680924885474116,
           0.7630435747952269,
           0.8362443575759598,
           0.1743883882675629,
           0.5951909693291052,
           0.883948842472822,
           0.6797258181545347,
           -0.27899226492811935,
           0.5741291709657366,
           0.7060830894941503,
           -0.0668091370614559,
           0.5341905795793694,
           0.8898536707750963,
           0.8189747720549866,
           0.86506458363308,
           0.913755574193022,
           0.6670925718683774,
           1,
           0.8417832204539414,
           0.5305150576883793,
           0.42237959678997966,
           0.973995752472196,
           0.718588313079449,
           0.7130270275152452,
           0.6540784446056387,
           0.8314493191190397,
           0.8789828859782254,
           0.39481454398380106,
           0.31856135833997185,
           0.8444024322645414,
           0.7862736281445485,
           0.008923821908502971,
           0.8386398846527349,
           0.8876533548061635,
           0.9539715970809715,
           0.7114010713055392,
           0.53421063926187,
           0.9402063940240922,
           0.6510954690537883,
           0.7250356011215311,
           0.9033563321720932,
           0.18049085190876127,
           0.8089100145667886,
           0.794138945353293,
           0.7554956821492433,
           0.8074712726214069,
           0.7940821171753705,
           0.8619484466237616,
           0.8659235399058868,
           0.8507347703464373
          ],
          [
           0.9730502260814569,
           0.8959476272298027,
           0.9721129027729923,
           0.6069495711298156,
           0.7631559933806246,
           0.967996868960538,
           0.6319341556547045,
           -0.3102949752568412,
           0.4684884791028613,
           0.9113047845914046,
           0.14474303488545717,
           0.8240232105923937,
           0.8836805066206253,
           0.9807555241802682,
           0.9667183524520808,
           0.9709812756720796,
           0.9323703876003592,
           0.8417832204539414,
           1,
           0.7056778810926404,
           0.48659087869276846,
           0.8679963223539314,
           0.9495094086233521,
           0.9584649813190389,
           0.5799239720103176,
           0.939197736368917,
           0.9153709682778243,
           0.6013275050108237,
           0.3897064600026174,
           0.9708309399332926,
           0.9201923644649137,
           0.2284685646080811,
           0.9692936710768673,
           0.6040654292768264,
           0.899570021034802,
           0.5038364158721654,
           0.7284267621062037,
           0.938213272699094,
           0.5629017909333408,
           0.8919883398675651,
           0.9261550251681412,
           0.5713671279766023,
           0.891968487063699,
           0.9430351593528696,
           0.8772852450492894,
           0.9806408046244868,
           0.8353612962471707,
           0.9748651575728351,
           0.9708233363280889,
           0.9381052460556243
          ],
          [
           0.6073886979566779,
           0.6487481068135165,
           0.6778364118972797,
           0.1998580215671681,
           0.4847186228754037,
           0.6805849794278518,
           0.43773266559703666,
           0.33241458179311695,
           0.5768830468972337,
           0.893055769146578,
           0.16641837428846543,
           0.9239607309706854,
           0.534100551576444,
           0.7882640879826742,
           0.736630990846966,
           0.7160072586947583,
           0.8199519611095488,
           0.5305150576883793,
           0.7056778810926404,
           1,
           -0.018987350849491057,
           0.694565433209599,
           0.49992067516876687,
           0.6214720284554878,
           0.38665865588961235,
           0.8768793477330826,
           0.7519486316988137,
           0.9825948281609856,
           0.6839873600462323,
           0.6604390822514308,
           0.4001940990121181,
           -0.410961346062543,
           0.715876687723939,
           0.23191134489577453,
           0.5362614935796169,
           0.6971323762048934,
           0.21407638304177773,
           0.6359209367082264,
           0.7234132873698352,
           0.42103167922738416,
           0.7900425096308978,
           0.3069948169575157,
           0.7175365900256244,
           0.4862862810292376,
           0.6498258437366032,
           0.594119334928244,
           0.7417822416365428,
           0.5944830752479676,
           0.6948076730941154,
           0.6848079033603786
          ],
          [
           0.46410849289366435,
           0.5941188937879514,
           0.5516523942567321,
           0.6424987287728424,
           0.39036900470793817,
           0.5285451963029206,
           0.6275471663629429,
           -0.22308276540987748,
           -0.2756953494956246,
           0.3782101600012336,
           -0.35332184621623314,
           0.2375319109145293,
           0.5359296373758073,
           0.4632114679988725,
           0.519414711905679,
           0.3975764288368958,
           0.40437449799756187,
           0.42237959678997966,
           0.48659087869276846,
           -0.018987350849491057,
           1,
           0.33907222024568157,
           0.555621570929951,
           0.5720457532001293,
           0.5429406062300063,
           0.2528997933327572,
           0.27615745464122965,
           -0.0549202482586351,
           -0.5567854279936256,
           0.6392745938431715,
           0.7235694313674791,
           0.7301809843770829,
           0.4100073845294918,
           0.30677938036074787,
           0.4091742917375917,
           0.027738353905113974,
           0.9311187155215063,
           0.39768077858463924,
           -0.2260561731610681,
           0.4996856498612,
           0.4616284038108628,
           0.31656863752469144,
           0.3886837234348248,
           0.7075656497399373,
           0.38699831860744205,
           0.6050769794849779,
           0.1930198547088254,
           0.5319092692617979,
           0.4697715912497991,
           0.5593038713657928
          ],
          [
           0.8533725375200967,
           0.7854179652680965,
           0.8441879179985415,
           0.16318146442766232,
           0.6108155049980102,
           0.8870434647860821,
           0.7238964456810022,
           -0.10914411258016066,
           0.5927430591713593,
           0.8126998728984661,
           -0.08643374339982082,
           0.6801357330020609,
           0.8481031184780798,
           0.8807251616246259,
           0.8882936649578159,
           0.9273429974403451,
           0.7342019476405016,
           0.973995752472196,
           0.8679963223539314,
           0.694565433209599,
           0.33907222024568157,
           1,
           0.7060406956259221,
           0.7269363273547877,
           0.632509384446086,
           0.9054763687730305,
           0.8992758949920038,
           0.5768470121676473,
           0.4125532964243164,
           0.8627970036403065,
           0.733627793927543,
           -0.11928929151386938,
           0.863975267875179,
           0.8089184264697586,
           0.9155070370080911,
           0.7784223800226416,
           0.4805944115037587,
           0.9443420331491205,
           0.7120927383708611,
           0.7070017382367523,
           0.9523150934806536,
           0.19822089204007506,
           0.8263980009083881,
           0.7797820964479598,
           0.7483228687223848,
           0.8137858661843731,
           0.8177661708434254,
           0.8448704256643023,
           0.8732911343127092,
           0.8943740451760478
          ],
          [
           0.9381279385643838,
           0.8225790160643168,
           0.9102546905401554,
           0.7747643912605925,
           0.761611368332302,
           0.8856955405675967,
           0.5348551233422156,
           -0.5219336597819565,
           0.29749388788984016,
           0.7843545903991823,
           0.19822869416153777,
           0.7063254863095991,
           0.8079380093161151,
           0.8945976383740438,
           0.866759755351099,
           0.8759029004110148,
           0.8567850528186453,
           0.718588313079449,
           0.9495094086233521,
           0.49992067516876687,
           0.555621570929951,
           0.7060406956259221,
           1,
           0.9599195264287345,
           0.4687803173459581,
           0.7970987943017651,
           0.7903503659997659,
           0.3915946141555272,
           0.24594586703802,
           0.9098316720375592,
           0.9552792253500783,
           0.4895956679788175,
           0.8995867992418412,
           0.5208934335714132,
           0.8245541407150998,
           0.23242796824804252,
           0.8062448404608846,
           0.8538298478424408,
           0.3562651074406601,
           0.9496561294291892,
           0.7718280662388716,
           0.6970518222796425,
           0.7812540723530812,
           0.9575363950407296,
           0.8061217419477891,
           0.9728177869303944,
           0.699509349861631,
           0.9442001222752008,
           0.8947076828600554,
           0.8553845148432977
          ],
          [
           0.9280043069090662,
           0.8201112089667723,
           0.9653255246731004,
           0.7739626495258697,
           0.6448705063078295,
           0.9262437457308218,
           0.5638806348506118,
           -0.3563818934298335,
           0.3183977649548735,
           0.8794593414317945,
           0.21778801774609413,
           0.7999569367780026,
           0.81777640177337,
           0.9325307269190446,
           0.9175940173150147,
           0.8957423855741196,
           0.9360424331496471,
           0.7130270275152452,
           0.9584649813190389,
           0.6214720284554878,
           0.5720457532001293,
           0.7269363273547877,
           0.9599195264287345,
           1,
           0.44510493826082365,
           0.8616961802641512,
           0.8441295286507179,
           0.5225328727412692,
           0.29078708298722683,
           0.9545835682680203,
           0.9302656961361476,
           0.3934885338803889,
           0.883374277564756,
           0.5168979042822158,
           0.8293112112706591,
           0.29687391652245554,
           0.8102199797705031,
           0.8693500829859738,
           0.3730129237178553,
           0.9092380973149935,
           0.8465430176755918,
           0.7528849557987184,
           0.8068808343455406,
           0.9434486743238393,
           0.8680621397715429,
           0.9738865713050457,
           0.7317782302666315,
           0.9562621261867992,
           0.9167715070628162,
           0.8913611926073672
          ],
          [
           0.6146819669136564,
           0.8577041382073209,
           0.5941653335654579,
           0.14637287434890364,
           0.7743618870169636,
           0.6778530194334897,
           0.44392199221476925,
           -0.0721831048415238,
           0.4772245085333806,
           0.4783030811919937,
           -0.09697190449848231,
           0.35522265654195906,
           0.7880449561152595,
           0.5461476756489536,
           0.7019752124748369,
           0.6322379276601454,
           0.5364384090788992,
           0.6540784446056387,
           0.5799239720103176,
           0.38665865588961235,
           0.5429406062300063,
           0.632509384446086,
           0.4687803173459581,
           0.44510493826082365,
           1,
           0.5350407396573683,
           0.5814149271390661,
           0.37848652772801356,
           0.07133631998579935,
           0.6011737688934088,
           0.6207584947131468,
           0.0772042471764118,
           0.7086255679660449,
           0.3202124182645589,
           0.566061018066874,
           0.7273505506065472,
           0.5649513997487742,
           0.47651946726796446,
           0.5696735983671308,
           0.26215729064722987,
           0.6504776115327309,
           -0.21698304794462367,
           0.7975556802190028,
           0.5434860730650789,
           0.6108546761076379,
           0.5233054735592405,
           0.7085881047932746,
           0.5805082935787177,
           0.6892851724422269,
           0.5122363869506609
          ],
          [
           0.9034045261583955,
           0.8246171721486052,
           0.9241171424800504,
           0.38040024258672084,
           0.6468599899608322,
           0.9319327164562636,
           0.5674395378631015,
           -0.08701936623496968,
           0.6429451861313652,
           0.9462318820952784,
           0.20303330165324918,
           0.8794778901901946,
           0.8335437343089254,
           0.9541697582341611,
           0.9461481511008277,
           0.9603479752976483,
           0.930599966150809,
           0.8314493191190397,
           0.939197736368917,
           0.8768793477330826,
           0.2528997933327572,
           0.9054763687730305,
           0.7970987943017651,
           0.8616961802641512,
           0.5350407396573683,
           1,
           0.9608547801784472,
           0.7851815140027811,
           0.609082819401645,
           0.8979300371914295,
           0.750559747108986,
           -0.10652779041406614,
           0.9277997829657022,
           0.5925661541630631,
           0.8698043590474717,
           0.6867335294476755,
           0.5001321151900644,
           0.91661571397208,
           0.7439468800361791,
           0.7432270696063319,
           0.9552212240438135,
           0.454612167589641,
           0.8975276667604751,
           0.7890707408670623,
           0.8747484580021472,
           0.8667465301823052,
           0.8982567684024348,
           0.8968141118361233,
           0.9365790852122527,
           0.8872910467702885
          ],
          [
           0.94229615431432,
           0.8074621409445555,
           0.9377316134000765,
           0.3367609864224516,
           0.6178687688771085,
           0.9575128427299632,
           0.44737720623556093,
           -0.26555635989313914,
           0.7463154142958401,
           0.8409195919482341,
           0.3299475727512851,
           0.7266641365413045,
           0.9207855881519411,
           0.8854747813119148,
           0.9494363090318081,
           0.978693533125688,
           0.8906237583364375,
           0.8789828859782254,
           0.9153709682778243,
           0.7519486316988137,
           0.27615745464122965,
           0.8992758949920038,
           0.7903503659997659,
           0.8441295286507179,
           0.5814149271390661,
           0.9608547801784472,
           1,
           0.6403928163637913,
           0.6198973811663684,
           0.8707979829946514,
           0.7918058122579293,
           -0.05835527718247837,
           0.9221878749595767,
           0.6935586259497328,
           0.9453627030184604,
           0.6897640273840053,
           0.5043138121385251,
           0.9235358236276684,
           0.7804356939496934,
           0.7247229307043,
           0.9251794794028624,
           0.4094945146433979,
           0.933698224577499,
           0.7677887402438347,
           0.9492114129917532,
           0.8407796733193849,
           0.9524070361186325,
           0.9323233833886276,
           0.9619201626200005,
           0.81574865989115
          ],
          [
           0.48899193563463184,
           0.6026634121720784,
           0.5741177024288039,
           0.16712177963467673,
           0.4546802733328359,
           0.5772470076067905,
           0.3714400319435008,
           0.44896665612015124,
           0.5166079702451536,
           0.8326517640434208,
           0.14576023424414974,
           0.8934840098023049,
           0.4324768099035623,
           0.6972212348417752,
           0.6473545297796626,
           0.6012599897852545,
           0.7600551961794718,
           0.39481454398380106,
           0.6013275050108237,
           0.9825948281609856,
           -0.0549202482586351,
           0.5768470121676473,
           0.3915946141555272,
           0.5225328727412692,
           0.37848652772801356,
           0.7851815140027811,
           0.6403928163637913,
           1,
           0.6403022531236828,
           0.5611718260468913,
           0.2914152476747951,
           -0.44687714559789843,
           0.6288648309062305,
           0.06156013541970667,
           0.38990341886439,
           0.668272351945928,
           0.15771702144157274,
           0.49283204905168176,
           0.6727680991343863,
           0.28265467823857304,
           0.6971060056239945,
           0.23031542090536222,
           0.6502095570339335,
           0.3776413463325157,
           0.559760465190326,
           0.48421069936258043,
           0.6662978867504148,
           0.47354428175174396,
           0.5960666973837604,
           0.5806204488744714
          ],
          [
           0.42970966681032446,
           0.2430640509800942,
           0.3674321260914137,
           -0.12780965271204514,
           0.25095291546603804,
           0.3926205336949662,
           -0.21452051234071112,
           -0.04668267002406541,
           0.8565878553980144,
           0.42770295825021554,
           0.679898035698371,
           0.4673452253224102,
           0.3509639632765746,
           0.375966927847196,
           0.3998540963672539,
           0.49731681489147905,
           0.49462258139255155,
           0.31856135833997185,
           0.3897064600026174,
           0.6839873600462323,
           -0.5567854279936256,
           0.4125532964243164,
           0.24594586703802,
           0.29078708298722683,
           0.07133631998579935,
           0.609082819401645,
           0.6198973811663684,
           0.6403022531236828,
           1,
           0.22075652473683374,
           0.10163756409043238,
           -0.586160721153482,
           0.4680738367514888,
           0.20417749128808532,
           0.4235901197266761,
           0.515307218423475,
           -0.28060403558282987,
           0.40487145497702276,
           0.8328103080487834,
           0.1867134377202546,
           0.38619386834739483,
           0.15757936617015006,
           0.5135389210217256,
           0.07347456017210487,
           0.5404410975917484,
           0.22664967349489776,
           0.6770512697314502,
           0.36613378638257393,
           0.45280366778404996,
           0.20290059337698332
          ],
          [
           0.9276732701041849,
           0.8894535650871657,
           0.9743589413506966,
           0.6234644251915911,
           0.676604797557185,
           0.9625065673486175,
           0.743815147675576,
           -0.21680572281049756,
           0.34165926807437963,
           0.9142037368668242,
           -0.006009462952990824,
           0.8029634296202337,
           0.8737368705959259,
           0.9703947098493828,
           0.9642367883868455,
           0.9345222528170031,
           0.9054377929856534,
           0.8444024322645414,
           0.9708309399332926,
           0.6604390822514308,
           0.6392745938431715,
           0.8627970036403065,
           0.9098316720375592,
           0.9545835682680203,
           0.6011737688934088,
           0.8979300371914295,
           0.8707979829946514,
           0.5611718260468913,
           0.22075652473683374,
           1,
           0.9288667279283856,
           0.2850976826592042,
           0.9108351523556301,
           0.6278224527542863,
           0.8764971190892598,
           0.49185904057633983,
           0.816302382340493,
           0.922611332496466,
           0.44463320103656584,
           0.8671335113901351,
           0.9471862006642032,
           0.5603959521279189,
           0.8484547212117038,
           0.9644981232668607,
           0.8415804497115252,
           0.9780619268218147,
           0.7614495799904474,
           0.9547400937287233,
           0.9398664682896675,
           0.9687628328714044
          ],
          [
           0.937394187010555,
           0.8661938523794376,
           0.9271660169533814,
           0.7210264251158872,
           0.7376091521912879,
           0.9185997782482668,
           0.5810257565640516,
           -0.5267466519299986,
           0.2948496395523911,
           0.7270927149089744,
           0.11082394776274923,
           0.5920857284390961,
           0.8958273611832096,
           0.8531914886053376,
           0.8939927840037853,
           0.8764561391515368,
           0.8138309151048055,
           0.7862736281445485,
           0.9201923644649137,
           0.4001940990121181,
           0.7235694313674791,
           0.733627793927543,
           0.9552792253500783,
           0.9302656961361476,
           0.6207584947131468,
           0.750559747108986,
           0.7918058122579293,
           0.2914152476747951,
           0.10163756409043238,
           0.9288667279283856,
           1,
           0.5406301018317015,
           0.8813982941597105,
           0.6027204375729452,
           0.8634801552452455,
           0.3068812607981609,
           0.8952503823579906,
           0.8455184614805259,
           0.33382094865290624,
           0.8855955653113885,
           0.7988457485488882,
           0.5693387690944223,
           0.8158785258492476,
           0.966809503534984,
           0.8348351159884191,
           0.9544372305197261,
           0.7126104634620694,
           0.9544548957138235,
           0.9094234306284072,
           0.8446914690208631
          ],
          [
           0.24816194056048216,
           0.22227348111064724,
           0.23834054062787743,
           0.7820045282170204,
           0.2588747486157157,
           0.17686215021626428,
           0.16269781170991057,
           -0.617941246947014,
           -0.4976993751106337,
           -0.004427751346894984,
           -0.045572299027626814,
           -0.06414661198623667,
           0.1851343562290082,
           0.13476487566971362,
           0.1322948732517439,
           0.07640677807635277,
           0.12913952878327453,
           0.008923821908502971,
           0.2284685646080811,
           -0.410961346062543,
           0.7301809843770829,
           -0.11928929151386938,
           0.4895956679788175,
           0.3934885338803889,
           0.0772042471764118,
           -0.10652779041406614,
           -0.05835527718247837,
           -0.44687714559789843,
           -0.586160721153482,
           0.2850976826592042,
           0.5406301018317015,
           1,
           0.13872119619414558,
           0.018715117237707628,
           0.12021801128570661,
           -0.5638344225587238,
           0.7351508887462243,
           0.09709027442102619,
           -0.5460883673812333,
           0.4708179933770303,
           -0.025831778316977968,
           0.5147397753350628,
           0.02990940454702808,
           0.48753673888264204,
           0.12282527277404205,
           0.38696790202096315,
           -0.13576213194642817,
           0.2959469762024937,
           0.15894338686999093,
           0.18857626238405736
          ],
          [
           0.9672810051799541,
           0.9433503546172874,
           0.9324817064962706,
           0.5016476792785538,
           0.8633451642206325,
           0.9563564142823962,
           0.534917090949481,
           -0.3117250771894953,
           0.6034308532793355,
           0.8595833655222951,
           0.20826337736563655,
           0.7763756273059,
           0.9188791235964608,
           0.9347208156487287,
           0.9612244890915559,
           0.9683794142039872,
           0.9122962322606536,
           0.8386398846527349,
           0.9692936710768673,
           0.715876687723939,
           0.4100073845294918,
           0.863975267875179,
           0.8995867992418412,
           0.883374277564756,
           0.7086255679660449,
           0.9277997829657022,
           0.9221878749595767,
           0.6288648309062305,
           0.4680738367514888,
           0.9108351523556301,
           0.8813982941597105,
           0.13872119619414558,
           1,
           0.5438546524820241,
           0.8811382130878572,
           0.6157920957688912,
           0.6559214716513415,
           0.883282161015311,
           0.696269707802001,
           0.7866018826861008,
           0.9009487795795558,
           0.4053663409877116,
           0.9573918782017682,
           0.8703961175794354,
           0.8931961218753094,
           0.9159654958928688,
           0.9140565968945658,
           0.9423703234780578,
           0.9792739357007751,
           0.8592151881404915
          ],
          [
           0.6662227374129753,
           0.4043424915882776,
           0.6285283684873908,
           0.015376859155261845,
           0.21872054877970418,
           0.6599312364827621,
           0.5461144183464386,
           -0.3838636708864766,
           0.42905103259687455,
           0.4308056218696663,
           -0.08483172399404228,
           0.23038691188882177,
           0.6790930987033551,
           0.5672361647730811,
           0.6066492990394962,
           0.703396759446959,
           0.37538692715231486,
           0.8876533548061635,
           0.6040654292768264,
           0.23191134489577453,
           0.30677938036074787,
           0.8089184264697586,
           0.5208934335714132,
           0.5168979042822158,
           0.3202124182645589,
           0.5925661541630631,
           0.6935586259497328,
           0.06156013541970667,
           0.20417749128808532,
           0.6278224527542863,
           0.6027204375729452,
           0.018715117237707628,
           0.5438546524820241,
           1,
           0.8570649052085616,
           0.47496169726389514,
           0.34592171685016393,
           0.8291028305404313,
           0.42811576258429074,
           0.644871952869374,
           0.6779227362577139,
           0.17740203879908284,
           0.5031805571972305,
           0.6087798427866729,
           0.5476075487783153,
           0.6067098100033252,
           0.5307554527185877,
           0.6818726153981399,
           0.6182110643337686,
           0.6599464995492789
          ],
          [
           0.9501688172573189,
           0.7626091952587272,
           0.9162516130621032,
           0.34559525996427026,
           0.591586087739547,
           0.9393098757009609,
           0.5313375560197522,
           -0.4470836574550493,
           0.6230201305101573,
           0.7310116554865513,
           0.19168029206848788,
           0.5674500493885122,
           0.9332272866491593,
           0.8446324831610841,
           0.906648850652581,
           0.9598462262602129,
           0.7704565233054442,
           0.9539715970809715,
           0.899570021034802,
           0.5362614935796169,
           0.4091742917375917,
           0.9155070370080911,
           0.8245541407150998,
           0.8293112112706591,
           0.566061018066874,
           0.8698043590474717,
           0.9453627030184604,
           0.38990341886439,
           0.4235901197266761,
           0.8764971190892598,
           0.8634801552452455,
           0.12021801128570661,
           0.8811382130878572,
           0.8570649052085616,
           1,
           0.5854604764385275,
           0.5865608696067474,
           0.9648792305247087,
           0.6419777378961302,
           0.814202817008245,
           0.8867858578902511,
           0.39668579949324984,
           0.8548838041756563,
           0.8355358796486839,
           0.8812240649716193,
           0.8688444803165785,
           0.8529254080013485,
           0.9488504309265438,
           0.9297352845983144,
           0.8351073088028232
          ],
          [
           0.508998607261291,
           0.6238339608014554,
           0.512368555936987,
           -0.29640805707725293,
           0.4659672196707983,
           0.604891542162789,
           0.4141308175214829,
           0.2768870653947201,
           0.7585569187918905,
           0.5660774710652045,
           -0.048013108562312695,
           0.47661194590393835,
           0.6456063292435653,
           0.5434857887570952,
           0.6421718011529288,
           0.6443755208843704,
           0.49725819933359144,
           0.7114010713055392,
           0.5038364158721654,
           0.6971323762048934,
           0.027738353905113974,
           0.7784223800226416,
           0.23242796824804252,
           0.29687391652245554,
           0.7273505506065472,
           0.6867335294476755,
           0.6897640273840053,
           0.668272351945928,
           0.515307218423475,
           0.49185904057633983,
           0.3068812607981609,
           -0.5638344225587238,
           0.6157920957688912,
           0.47496169726389514,
           0.5854604764385275,
           1,
           0.08116981896409964,
           0.5555648097446748,
           0.870454891129607,
           0.13270251841291256,
           0.7277300992579049,
           -0.31990209950952847,
           0.7229756198290221,
           0.3075531141733783,
           0.5556103385196688,
           0.36593284983695634,
           0.765472128387652,
           0.46668441297187374,
           0.6106282000670423,
           0.5025359217456654
          ],
          [
           0.7012229621841142,
           0.7641878944552278,
           0.7612156650636545,
           0.8251151281724357,
           0.5983917199985546,
           0.7272877834340552,
           0.6209902350177939,
           -0.3523627923491344,
           -0.0873877573000599,
           0.6012347323683302,
           -0.11875383061885648,
           0.48775212540775187,
           0.6911297018469884,
           0.69056864725638,
           0.7183276617151869,
           0.6221858706205682,
           0.6660819745629896,
           0.53421063926187,
           0.7284267621062037,
           0.21407638304177773,
           0.9311187155215063,
           0.4805944115037587,
           0.8062448404608846,
           0.8102199797705031,
           0.5649513997487742,
           0.5001321151900644,
           0.5043138121385251,
           0.15771702144157274,
           -0.28060403558282987,
           0.816302382340493,
           0.8952503823579906,
           0.7351508887462243,
           0.6559214716513415,
           0.34592171685016393,
           0.5865608696067474,
           0.08116981896409964,
           1,
           0.5928891387928457,
           -0.030321625874669095,
           0.7250477220759068,
           0.6223795583526038,
           0.549172764474743,
           0.5977842077016434,
           0.8809142792255433,
           0.6127408757032817,
           0.8201732928601692,
           0.4208977413766546,
           0.7523540763425002,
           0.6937666625135794,
           0.7243233299827275
          ],
          [
           0.9312682210950559,
           0.7555974330203308,
           0.9213706997106659,
           0.3980263080098515,
           0.5831307638742113,
           0.9275057724499948,
           0.6720504353784764,
           -0.3169299592899519,
           0.5084828370727901,
           0.8353192698156758,
           0.06151879712687651,
           0.7060317272610765,
           0.8552984311136241,
           0.9241071124579504,
           0.9085200154139126,
           0.9588497927080245,
           0.8042587845692325,
           0.9402063940240922,
           0.938213272699094,
           0.6359209367082264,
           0.39768077858463924,
           0.9443420331491205,
           0.8538298478424408,
           0.8693500829859738,
           0.47651946726796446,
           0.91661571397208,
           0.9235358236276684,
           0.49283204905168176,
           0.40487145497702276,
           0.922611332496466,
           0.8455184614805259,
           0.09709027442102619,
           0.883282161015311,
           0.8291028305404313,
           0.9648792305247087,
           0.5555648097446748,
           0.5928891387928457,
           1,
           0.5838622017934965,
           0.8824484261852171,
           0.9283542781381819,
           0.48573778743383417,
           0.8038594904130957,
           0.8835976123195903,
           0.8143878949924845,
           0.9192542683536078,
           0.7885930021728541,
           0.9394856277376543,
           0.9119584716131035,
           0.9315889916047071
          ],
          [
           0.6158409183839104,
           0.5810322624292681,
           0.544108876822818,
           -0.19456648553284078,
           0.5422607679894943,
           0.6245733969868903,
           0.10919348436869154,
           -0.021656265823482332,
           0.9581974400969561,
           0.5430616422021519,
           0.3835495258586295,
           0.4937992880669424,
           0.6618796841401392,
           0.5459272218539356,
           0.6408826085347925,
           0.7053155743494949,
           0.5799715480107943,
           0.6510954690537883,
           0.5629017909333408,
           0.7234132873698352,
           -0.2260561731610681,
           0.7120927383708611,
           0.3562651074406601,
           0.3730129237178553,
           0.5696735983671308,
           0.7439468800361791,
           0.7804356939496934,
           0.6727680991343863,
           0.8328103080487834,
           0.44463320103656584,
           0.33382094865290624,
           -0.5460883673812333,
           0.696269707802001,
           0.42811576258429074,
           0.6419777378961302,
           0.870454891129607,
           -0.030321625874669095,
           0.5838622017934965,
           1,
           0.23923261867763834,
           0.6475954416928774,
           -0.11852698940281584,
           0.7777220397358222,
           0.2876517187784429,
           0.6780065053503065,
           0.3953959944337009,
           0.8808093669559689,
           0.5428695864304369,
           0.6723277813525376,
           0.4191830511489663
          ],
          [
           0.86554143462466,
           0.6574566021972033,
           0.8409182697565345,
           0.7073911895722311,
           0.583502754691192,
           0.8024465386035802,
           0.6081607264610535,
           -0.5199266797788663,
           0.17861861082246994,
           0.7334302806344561,
           0.07630353013118868,
           0.6481225979556445,
           0.691621881577432,
           0.8546224365443501,
           0.7705539266029021,
           0.8152365007747685,
           0.7395347931255515,
           0.7250356011215311,
           0.8919883398675651,
           0.42103167922738416,
           0.4996856498612,
           0.7070017382367523,
           0.9496561294291892,
           0.9092380973149935,
           0.26215729064722987,
           0.7432270696063319,
           0.7247229307043,
           0.28265467823857304,
           0.1867134377202546,
           0.8671335113901351,
           0.8855955653113885,
           0.4708179933770303,
           0.7866018826861008,
           0.644871952869374,
           0.814202817008245,
           0.13270251841291256,
           0.7250477220759068,
           0.8824484261852171,
           0.23923261867763834,
           1,
           0.7290970668618099,
           0.7460312222908102,
           0.6190222648151357,
           0.9344633951212186,
           0.6787825372802965,
           0.9416763662982177,
           0.5538000239913685,
           0.887581204595038,
           0.7932434087905842,
           0.8687736327673072
          ],
          [
           0.8845729142592872,
           0.8659677292637941,
           0.9339263891626356,
           0.3605119703385796,
           0.6243999731029838,
           0.9498639920064197,
           0.7350231866376142,
           -0.03113180109557595,
           0.5273879327057975,
           0.9295499274437738,
           -0.023208166786100194,
           0.8168984975716763,
           0.8741269338419081,
           0.9517845926963455,
           0.964332710483705,
           0.9490715520011396,
           0.8782576149209111,
           0.9033563321720932,
           0.9261550251681412,
           0.7900425096308978,
           0.4616284038108628,
           0.9523150934806536,
           0.7718280662388716,
           0.8465430176755918,
           0.6504776115327309,
           0.9552212240438135,
           0.9251794794028624,
           0.6971060056239945,
           0.38619386834739483,
           0.9471862006642032,
           0.7988457485488882,
           -0.025831778316977968,
           0.9009487795795558,
           0.6779227362577139,
           0.8867858578902511,
           0.7277300992579049,
           0.6223795583526038,
           0.9283542781381819,
           0.6475954416928774,
           0.7290970668618099,
           1,
           0.35935516779824367,
           0.8836459312085018,
           0.8436857288271643,
           0.8368270394899148,
           0.8826431576818895,
           0.8432813139528507,
           0.8967225743609744,
           0.9290741498164332,
           0.9416427600959445
          ],
          [
           0.5185661869361916,
           0.2773252421664124,
           0.5823190048173379,
           0.846827199233403,
           0.1638176959004789,
           0.47030367158958947,
           0.2085495612494584,
           -0.3725425300049437,
           -0.092927893253182,
           0.5463003479293023,
           0.3501417544490974,
           0.5607104344876528,
           0.28761189154998495,
           0.5522133913694659,
           0.4454390199363792,
           0.4389860794992577,
           0.6149860367017013,
           0.18049085190876127,
           0.5713671279766023,
           0.3069948169575157,
           0.31656863752469144,
           0.19822089204007506,
           0.6970518222796425,
           0.7528849557987184,
           -0.21698304794462367,
           0.454612167589641,
           0.4094945146433979,
           0.23031542090536222,
           0.15757936617015006,
           0.5603959521279189,
           0.5693387690944223,
           0.5147397753350628,
           0.4053663409877116,
           0.17740203879908284,
           0.39668579949324984,
           -0.31990209950952847,
           0.549172764474743,
           0.48573778743383417,
           -0.11852698940281584,
           0.7460312222908102,
           0.35935516779824367,
           1,
           0.2732097276993626,
           0.61124799556395,
           0.48226791494574767,
           0.6453500104440628,
           0.2263004765285741,
           0.5778041295280042,
           0.45579859692747476,
           0.5165940027541563
          ],
          [
           0.9215631753481075,
           0.9364898239796261,
           0.9076980205979869,
           0.3875688343583335,
           0.7987155327957336,
           0.9460832618332221,
           0.41445882591194494,
           -0.23967810462615133,
           0.7225197758345455,
           0.8033146118515292,
           0.3007684759960136,
           0.7015335578656402,
           0.9537210065315804,
           0.8501829703129699,
           0.954704967986259,
           0.9376573088668301,
           0.8964490481920716,
           0.8089100145667886,
           0.891968487063699,
           0.7175365900256244,
           0.3886837234348248,
           0.8263980009083881,
           0.7812540723530812,
           0.8068808343455406,
           0.7975556802190028,
           0.8975276667604751,
           0.933698224577499,
           0.6502095570339335,
           0.5135389210217256,
           0.8484547212117038,
           0.8158785258492476,
           0.02990940454702808,
           0.9573918782017682,
           0.5031805571972305,
           0.8548838041756563,
           0.7229756198290221,
           0.5977842077016434,
           0.8038594904130957,
           0.7777220397358222,
           0.6190222648151357,
           0.8836459312085018,
           0.2732097276993626,
           1,
           0.7573600476847981,
           0.9433177947851327,
           0.811642902476523,
           0.9740726100104354,
           0.8955500742165529,
           0.9665470637829793,
           0.7532913553525745
          ],
          [
           0.9067810117505387,
           0.8474629233880492,
           0.9190512324299338,
           0.7219143434397187,
           0.7103134331353821,
           0.8996890438268524,
           0.7360222118962011,
           -0.3830966461729973,
           0.19155006333218452,
           0.813883490240148,
           -0.051831106418848784,
           0.7033849609990671,
           0.8197543135954313,
           0.9185402003517957,
           0.8876577746666345,
           0.8711583589137767,
           0.8199403301198641,
           0.794138945353293,
           0.9430351593528696,
           0.4862862810292376,
           0.7075656497399373,
           0.7797820964479598,
           0.9575363950407296,
           0.9434486743238393,
           0.5434860730650789,
           0.7890707408670623,
           0.7677887402438347,
           0.3776413463325157,
           0.07347456017210487,
           0.9644981232668607,
           0.966809503534984,
           0.48753673888264204,
           0.8703961175794354,
           0.6087798427866729,
           0.8355358796486839,
           0.3075531141733783,
           0.8809142792255433,
           0.8835976123195903,
           0.2876517187784429,
           0.9344633951212186,
           0.8436857288271643,
           0.61124799556395,
           0.7573600476847981,
           1,
           0.7541146905388744,
           0.9870816692286091,
           0.6447952352819646,
           0.932955822182131,
           0.8814365350821347,
           0.9366521608874444
          ],
          [
           0.9305094801285841,
           0.8237870429175331,
           0.9390126518134972,
           0.49136578606385767,
           0.6271770493512062,
           0.9450635583048813,
           0.297620627794459,
           -0.36728551849194957,
           0.695466292690139,
           0.7725554179542358,
           0.4783000718673438,
           0.6584004626627765,
           0.9353228163332872,
           0.8149023994514686,
           0.9321489428873921,
           0.9230832228188435,
           0.9121186672861352,
           0.7554956821492433,
           0.8772852450492894,
           0.6498258437366032,
           0.38699831860744205,
           0.7483228687223848,
           0.8061217419477891,
           0.8680621397715429,
           0.6108546761076379,
           0.8747484580021472,
           0.9492114129917532,
           0.559760465190326,
           0.5404410975917484,
           0.8415804497115252,
           0.8348351159884191,
           0.12282527277404205,
           0.8931961218753094,
           0.5476075487783153,
           0.8812240649716193,
           0.5556103385196688,
           0.6127408757032817,
           0.8143878949924845,
           0.6780065053503065,
           0.6787825372802965,
           0.8368270394899148,
           0.48226791494574767,
           0.9433177947851327,
           0.7541146905388744,
           1,
           0.8182320991153872,
           0.937130083452587,
           0.9281795203336003,
           0.953044890672348,
           0.7158935851192834
          ],
          [
           0.9450343392211273,
           0.8598103467259968,
           0.9556397286531081,
           0.7032504214427011,
           0.719843539631048,
           0.9357707594242906,
           0.6862306437980255,
           -0.3618510016195599,
           0.30372481847235855,
           0.8731952450903503,
           0.058253540157240165,
           0.7773473361058569,
           0.8419269570940727,
           0.959102534881929,
           0.9270928757383253,
           0.921426272218106,
           0.8874136215210565,
           0.8074712726214069,
           0.9806408046244868,
           0.594119334928244,
           0.6050769794849779,
           0.8137858661843731,
           0.9728177869303944,
           0.9738865713050457,
           0.5233054735592405,
           0.8667465301823052,
           0.8407796733193849,
           0.48421069936258043,
           0.22664967349489776,
           0.9780619268218147,
           0.9544372305197261,
           0.38696790202096315,
           0.9159654958928688,
           0.6067098100033252,
           0.8688444803165785,
           0.36593284983695634,
           0.8201732928601692,
           0.9192542683536078,
           0.3953959944337009,
           0.9416763662982177,
           0.8826431576818895,
           0.6453500104440628,
           0.811642902476523,
           0.9870816692286091,
           0.8182320991153872,
           1,
           0.7254648790232736,
           0.963874587474211,
           0.9260258100293695,
           0.9483056260744737
          ],
          [
           0.8859653251691778,
           0.8381507036823213,
           0.8536650501905875,
           0.2451704533498168,
           0.7120648871385901,
           0.8992622187568565,
           0.2889250446378174,
           -0.2384789302030665,
           0.8531460542545172,
           0.7527952334573189,
           0.4202874667283503,
           0.6579275340258391,
           0.9139810916005023,
           0.7895262149354667,
           0.9026248608228961,
           0.9189854075510672,
           0.8515419757833522,
           0.7940821171753705,
           0.8353612962471707,
           0.7417822416365428,
           0.1930198547088254,
           0.8177661708434254,
           0.699509349861631,
           0.7317782302666315,
           0.7085881047932746,
           0.8982567684024348,
           0.9524070361186325,
           0.6662978867504148,
           0.6770512697314502,
           0.7614495799904474,
           0.7126104634620694,
           -0.13576213194642817,
           0.9140565968945658,
           0.5307554527185877,
           0.8529254080013485,
           0.765472128387652,
           0.4208977413766546,
           0.7885930021728541,
           0.8808093669559689,
           0.5538000239913685,
           0.8432813139528507,
           0.2263004765285741,
           0.9740726100104354,
           0.6447952352819646,
           0.937130083452587,
           0.7254648790232736,
           1,
           0.848043238656063,
           0.9280210676474894,
           0.6732437943002253
          ],
          [
           0.9919402113014198,
           0.8621959532017958,
           0.9849540563983058,
           0.6033711186339128,
           0.7001017545672366,
           0.9815476681827073,
           0.5485302659233126,
           -0.44351417910275237,
           0.505345996819722,
           0.8311043114968916,
           0.23445689894715316,
           0.7055599550463596,
           0.9355535766992643,
           0.9239104300653891,
           0.9614851242481969,
           0.971536140445379,
           0.9003948935306406,
           0.8619484466237616,
           0.9748651575728351,
           0.5944830752479676,
           0.5319092692617979,
           0.8448704256643023,
           0.9442001222752008,
           0.9562621261867992,
           0.5805082935787177,
           0.8968141118361233,
           0.9323233833886276,
           0.47354428175174396,
           0.36613378638257393,
           0.9547400937287233,
           0.9544548957138235,
           0.2959469762024937,
           0.9423703234780578,
           0.6818726153981399,
           0.9488504309265438,
           0.46668441297187374,
           0.7523540763425002,
           0.9394856277376543,
           0.5428695864304369,
           0.887581204595038,
           0.8967225743609744,
           0.5778041295280042,
           0.8955500742165529,
           0.932955822182131,
           0.9281795203336003,
           0.963874587474211,
           0.848043238656063,
           1,
           0.9778233196898197,
           0.8865736638811208
          ],
          [
           0.9848299296396849,
           0.9221800123289935,
           0.9783736825320694,
           0.5145679780091196,
           0.7647230899925522,
           0.9933669407846097,
           0.5264977567952078,
           -0.32975223640170126,
           0.614754283046353,
           0.8625133964191489,
           0.24951777887961193,
           0.749667363272082,
           0.960966178838751,
           0.9308333729701334,
           0.9891351495436685,
           0.987197423317943,
           0.9308588936494188,
           0.8659235399058868,
           0.9708233363280889,
           0.6948076730941154,
           0.4697715912497991,
           0.8732911343127092,
           0.8947076828600554,
           0.9167715070628162,
           0.6892851724422269,
           0.9365790852122527,
           0.9619201626200005,
           0.5960666973837604,
           0.45280366778404996,
           0.9398664682896675,
           0.9094234306284072,
           0.15894338686999093,
           0.9792739357007751,
           0.6182110643337686,
           0.9297352845983144,
           0.6106282000670423,
           0.6937666625135794,
           0.9119584716131035,
           0.6723277813525376,
           0.7932434087905842,
           0.9290741498164332,
           0.45579859692747476,
           0.9665470637829793,
           0.8814365350821347,
           0.953044890672348,
           0.9260258100293695,
           0.9280210676474894,
           0.9778233196898197,
           1,
           0.866854101221936
          ],
          [
           0.8598144222398615,
           0.817191107358056,
           0.9050365044161769,
           0.5283692808895837,
           0.624341726541663,
           0.8943814944146209,
           0.8495971542373331,
           -0.1063413055949606,
           0.27043057861997394,
           0.9203784900433817,
           -0.16801110475303438,
           0.8263858078266503,
           0.7725972208301556,
           0.9706664263039946,
           0.9027592731463001,
           0.8934238437656099,
           0.832076496689876,
           0.8507347703464373,
           0.9381052460556243,
           0.6848079033603786,
           0.5593038713657928,
           0.8943740451760478,
           0.8553845148432977,
           0.8913611926073672,
           0.5122363869506609,
           0.8872910467702885,
           0.81574865989115,
           0.5806204488744714,
           0.20290059337698332,
           0.9687628328714044,
           0.8446914690208631,
           0.18857626238405736,
           0.8592151881404915,
           0.6599464995492789,
           0.8351073088028232,
           0.5025359217456654,
           0.7243233299827275,
           0.9315889916047071,
           0.4191830511489663,
           0.8687736327673072,
           0.9416427600959445,
           0.5165940027541563,
           0.7532913553525745,
           0.9366521608874444,
           0.7158935851192834,
           0.9483056260744737,
           0.6732437943002253,
           0.8865736638811208,
           0.866854101221936,
           1
          ]
         ],
         "zmax": 1,
         "zmin": -1
        }
       ],
       "layout": {
        "height": 800,
        "template": {
         "data": {
          "bar": [
           {
            "error_x": {
             "color": "#2a3f5f"
            },
            "error_y": {
             "color": "#2a3f5f"
            },
            "marker": {
             "line": {
              "color": "#E5ECF6",
              "width": 0.5
             },
             "pattern": {
              "fillmode": "overlay",
              "size": 10,
              "solidity": 0.2
             }
            },
            "type": "bar"
           }
          ],
          "barpolar": [
           {
            "marker": {
             "line": {
              "color": "#E5ECF6",
              "width": 0.5
             },
             "pattern": {
              "fillmode": "overlay",
              "size": 10,
              "solidity": 0.2
             }
            },
            "type": "barpolar"
           }
          ],
          "carpet": [
           {
            "aaxis": {
             "endlinecolor": "#2a3f5f",
             "gridcolor": "white",
             "linecolor": "white",
             "minorgridcolor": "white",
             "startlinecolor": "#2a3f5f"
            },
            "baxis": {
             "endlinecolor": "#2a3f5f",
             "gridcolor": "white",
             "linecolor": "white",
             "minorgridcolor": "white",
             "startlinecolor": "#2a3f5f"
            },
            "type": "carpet"
           }
          ],
          "choropleth": [
           {
            "colorbar": {
             "outlinewidth": 0,
             "ticks": ""
            },
            "type": "choropleth"
           }
          ],
          "contour": [
           {
            "colorbar": {
             "outlinewidth": 0,
             "ticks": ""
            },
            "colorscale": [
             [
              0,
              "#0d0887"
             ],
             [
              0.1111111111111111,
              "#46039f"
             ],
             [
              0.2222222222222222,
              "#7201a8"
             ],
             [
              0.3333333333333333,
              "#9c179e"
             ],
             [
              0.4444444444444444,
              "#bd3786"
             ],
             [
              0.5555555555555556,
              "#d8576b"
             ],
             [
              0.6666666666666666,
              "#ed7953"
             ],
             [
              0.7777777777777778,
              "#fb9f3a"
             ],
             [
              0.8888888888888888,
              "#fdca26"
             ],
             [
              1,
              "#f0f921"
             ]
            ],
            "type": "contour"
           }
          ],
          "contourcarpet": [
           {
            "colorbar": {
             "outlinewidth": 0,
             "ticks": ""
            },
            "type": "contourcarpet"
           }
          ],
          "heatmap": [
           {
            "colorbar": {
             "outlinewidth": 0,
             "ticks": ""
            },
            "colorscale": [
             [
              0,
              "#0d0887"
             ],
             [
              0.1111111111111111,
              "#46039f"
             ],
             [
              0.2222222222222222,
              "#7201a8"
             ],
             [
              0.3333333333333333,
              "#9c179e"
             ],
             [
              0.4444444444444444,
              "#bd3786"
             ],
             [
              0.5555555555555556,
              "#d8576b"
             ],
             [
              0.6666666666666666,
              "#ed7953"
             ],
             [
              0.7777777777777778,
              "#fb9f3a"
             ],
             [
              0.8888888888888888,
              "#fdca26"
             ],
             [
              1,
              "#f0f921"
             ]
            ],
            "type": "heatmap"
           }
          ],
          "heatmapgl": [
           {
            "colorbar": {
             "outlinewidth": 0,
             "ticks": ""
            },
            "colorscale": [
             [
              0,
              "#0d0887"
             ],
             [
              0.1111111111111111,
              "#46039f"
             ],
             [
              0.2222222222222222,
              "#7201a8"
             ],
             [
              0.3333333333333333,
              "#9c179e"
             ],
             [
              0.4444444444444444,
              "#bd3786"
             ],
             [
              0.5555555555555556,
              "#d8576b"
             ],
             [
              0.6666666666666666,
              "#ed7953"
             ],
             [
              0.7777777777777778,
              "#fb9f3a"
             ],
             [
              0.8888888888888888,
              "#fdca26"
             ],
             [
              1,
              "#f0f921"
             ]
            ],
            "type": "heatmapgl"
           }
          ],
          "histogram": [
           {
            "marker": {
             "pattern": {
              "fillmode": "overlay",
              "size": 10,
              "solidity": 0.2
             }
            },
            "type": "histogram"
           }
          ],
          "histogram2d": [
           {
            "colorbar": {
             "outlinewidth": 0,
             "ticks": ""
            },
            "colorscale": [
             [
              0,
              "#0d0887"
             ],
             [
              0.1111111111111111,
              "#46039f"
             ],
             [
              0.2222222222222222,
              "#7201a8"
             ],
             [
              0.3333333333333333,
              "#9c179e"
             ],
             [
              0.4444444444444444,
              "#bd3786"
             ],
             [
              0.5555555555555556,
              "#d8576b"
             ],
             [
              0.6666666666666666,
              "#ed7953"
             ],
             [
              0.7777777777777778,
              "#fb9f3a"
             ],
             [
              0.8888888888888888,
              "#fdca26"
             ],
             [
              1,
              "#f0f921"
             ]
            ],
            "type": "histogram2d"
           }
          ],
          "histogram2dcontour": [
           {
            "colorbar": {
             "outlinewidth": 0,
             "ticks": ""
            },
            "colorscale": [
             [
              0,
              "#0d0887"
             ],
             [
              0.1111111111111111,
              "#46039f"
             ],
             [
              0.2222222222222222,
              "#7201a8"
             ],
             [
              0.3333333333333333,
              "#9c179e"
             ],
             [
              0.4444444444444444,
              "#bd3786"
             ],
             [
              0.5555555555555556,
              "#d8576b"
             ],
             [
              0.6666666666666666,
              "#ed7953"
             ],
             [
              0.7777777777777778,
              "#fb9f3a"
             ],
             [
              0.8888888888888888,
              "#fdca26"
             ],
             [
              1,
              "#f0f921"
             ]
            ],
            "type": "histogram2dcontour"
           }
          ],
          "mesh3d": [
           {
            "colorbar": {
             "outlinewidth": 0,
             "ticks": ""
            },
            "type": "mesh3d"
           }
          ],
          "parcoords": [
           {
            "line": {
             "colorbar": {
              "outlinewidth": 0,
              "ticks": ""
             }
            },
            "type": "parcoords"
           }
          ],
          "pie": [
           {
            "automargin": true,
            "type": "pie"
           }
          ],
          "scatter": [
           {
            "fillpattern": {
             "fillmode": "overlay",
             "size": 10,
             "solidity": 0.2
            },
            "type": "scatter"
           }
          ],
          "scatter3d": [
           {
            "line": {
             "colorbar": {
              "outlinewidth": 0,
              "ticks": ""
             }
            },
            "marker": {
             "colorbar": {
              "outlinewidth": 0,
              "ticks": ""
             }
            },
            "type": "scatter3d"
           }
          ],
          "scattercarpet": [
           {
            "marker": {
             "colorbar": {
              "outlinewidth": 0,
              "ticks": ""
             }
            },
            "type": "scattercarpet"
           }
          ],
          "scattergeo": [
           {
            "marker": {
             "colorbar": {
              "outlinewidth": 0,
              "ticks": ""
             }
            },
            "type": "scattergeo"
           }
          ],
          "scattergl": [
           {
            "marker": {
             "colorbar": {
              "outlinewidth": 0,
              "ticks": ""
             }
            },
            "type": "scattergl"
           }
          ],
          "scattermapbox": [
           {
            "marker": {
             "colorbar": {
              "outlinewidth": 0,
              "ticks": ""
             }
            },
            "type": "scattermapbox"
           }
          ],
          "scatterpolar": [
           {
            "marker": {
             "colorbar": {
              "outlinewidth": 0,
              "ticks": ""
             }
            },
            "type": "scatterpolar"
           }
          ],
          "scatterpolargl": [
           {
            "marker": {
             "colorbar": {
              "outlinewidth": 0,
              "ticks": ""
             }
            },
            "type": "scatterpolargl"
           }
          ],
          "scatterternary": [
           {
            "marker": {
             "colorbar": {
              "outlinewidth": 0,
              "ticks": ""
             }
            },
            "type": "scatterternary"
           }
          ],
          "surface": [
           {
            "colorbar": {
             "outlinewidth": 0,
             "ticks": ""
            },
            "colorscale": [
             [
              0,
              "#0d0887"
             ],
             [
              0.1111111111111111,
              "#46039f"
             ],
             [
              0.2222222222222222,
              "#7201a8"
             ],
             [
              0.3333333333333333,
              "#9c179e"
             ],
             [
              0.4444444444444444,
              "#bd3786"
             ],
             [
              0.5555555555555556,
              "#d8576b"
             ],
             [
              0.6666666666666666,
              "#ed7953"
             ],
             [
              0.7777777777777778,
              "#fb9f3a"
             ],
             [
              0.8888888888888888,
              "#fdca26"
             ],
             [
              1,
              "#f0f921"
             ]
            ],
            "type": "surface"
           }
          ],
          "table": [
           {
            "cells": {
             "fill": {
              "color": "#EBF0F8"
             },
             "line": {
              "color": "white"
             }
            },
            "header": {
             "fill": {
              "color": "#C8D4E3"
             },
             "line": {
              "color": "white"
             }
            },
            "type": "table"
           }
          ]
         },
         "layout": {
          "annotationdefaults": {
           "arrowcolor": "#2a3f5f",
           "arrowhead": 0,
           "arrowwidth": 1
          },
          "autotypenumbers": "strict",
          "coloraxis": {
           "colorbar": {
            "outlinewidth": 0,
            "ticks": ""
           }
          },
          "colorscale": {
           "diverging": [
            [
             0,
             "#8e0152"
            ],
            [
             0.1,
             "#c51b7d"
            ],
            [
             0.2,
             "#de77ae"
            ],
            [
             0.3,
             "#f1b6da"
            ],
            [
             0.4,
             "#fde0ef"
            ],
            [
             0.5,
             "#f7f7f7"
            ],
            [
             0.6,
             "#e6f5d0"
            ],
            [
             0.7,
             "#b8e186"
            ],
            [
             0.8,
             "#7fbc41"
            ],
            [
             0.9,
             "#4d9221"
            ],
            [
             1,
             "#276419"
            ]
           ],
           "sequential": [
            [
             0,
             "#0d0887"
            ],
            [
             0.1111111111111111,
             "#46039f"
            ],
            [
             0.2222222222222222,
             "#7201a8"
            ],
            [
             0.3333333333333333,
             "#9c179e"
            ],
            [
             0.4444444444444444,
             "#bd3786"
            ],
            [
             0.5555555555555556,
             "#d8576b"
            ],
            [
             0.6666666666666666,
             "#ed7953"
            ],
            [
             0.7777777777777778,
             "#fb9f3a"
            ],
            [
             0.8888888888888888,
             "#fdca26"
            ],
            [
             1,
             "#f0f921"
            ]
           ],
           "sequentialminus": [
            [
             0,
             "#0d0887"
            ],
            [
             0.1111111111111111,
             "#46039f"
            ],
            [
             0.2222222222222222,
             "#7201a8"
            ],
            [
             0.3333333333333333,
             "#9c179e"
            ],
            [
             0.4444444444444444,
             "#bd3786"
            ],
            [
             0.5555555555555556,
             "#d8576b"
            ],
            [
             0.6666666666666666,
             "#ed7953"
            ],
            [
             0.7777777777777778,
             "#fb9f3a"
            ],
            [
             0.8888888888888888,
             "#fdca26"
            ],
            [
             1,
             "#f0f921"
            ]
           ]
          },
          "colorway": [
           "#636efa",
           "#EF553B",
           "#00cc96",
           "#ab63fa",
           "#FFA15A",
           "#19d3f3",
           "#FF6692",
           "#B6E880",
           "#FF97FF",
           "#FECB52"
          ],
          "font": {
           "color": "#2a3f5f"
          },
          "geo": {
           "bgcolor": "white",
           "lakecolor": "white",
           "landcolor": "#E5ECF6",
           "showlakes": true,
           "showland": true,
           "subunitcolor": "white"
          },
          "hoverlabel": {
           "align": "left"
          },
          "hovermode": "closest",
          "mapbox": {
           "style": "light"
          },
          "paper_bgcolor": "white",
          "plot_bgcolor": "#E5ECF6",
          "polar": {
           "angularaxis": {
            "gridcolor": "white",
            "linecolor": "white",
            "ticks": ""
           },
           "bgcolor": "#E5ECF6",
           "radialaxis": {
            "gridcolor": "white",
            "linecolor": "white",
            "ticks": ""
           }
          },
          "scene": {
           "xaxis": {
            "backgroundcolor": "#E5ECF6",
            "gridcolor": "white",
            "gridwidth": 2,
            "linecolor": "white",
            "showbackground": true,
            "ticks": "",
            "zerolinecolor": "white"
           },
           "yaxis": {
            "backgroundcolor": "#E5ECF6",
            "gridcolor": "white",
            "gridwidth": 2,
            "linecolor": "white",
            "showbackground": true,
            "ticks": "",
            "zerolinecolor": "white"
           },
           "zaxis": {
            "backgroundcolor": "#E5ECF6",
            "gridcolor": "white",
            "gridwidth": 2,
            "linecolor": "white",
            "showbackground": true,
            "ticks": "",
            "zerolinecolor": "white"
           }
          },
          "shapedefaults": {
           "line": {
            "color": "#2a3f5f"
           }
          },
          "ternary": {
           "aaxis": {
            "gridcolor": "white",
            "linecolor": "white",
            "ticks": ""
           },
           "baxis": {
            "gridcolor": "white",
            "linecolor": "white",
            "ticks": ""
           },
           "bgcolor": "#E5ECF6",
           "caxis": {
            "gridcolor": "white",
            "linecolor": "white",
            "ticks": ""
           }
          },
          "title": {
           "x": 0.05
          },
          "xaxis": {
           "automargin": true,
           "gridcolor": "white",
           "linecolor": "white",
           "ticks": "",
           "title": {
            "standoff": 15
           },
           "zerolinecolor": "white",
           "zerolinewidth": 2
          },
          "yaxis": {
           "automargin": true,
           "gridcolor": "white",
           "linecolor": "white",
           "ticks": "",
           "title": {
            "standoff": 15
           },
           "zerolinecolor": "white",
           "zerolinewidth": 2
          }
         }
        },
        "title": {
         "text": "Top 25 Coins Correlation Matrix"
        },
        "width": 800
       }
      }
     },
     "metadata": {},
     "output_type": "display_data"
    }
   ],
   "source": [
    "# Calculate correlation between top 20 coins\n",
    "corr_matrix = heatmap_df[heatmap_df.index.isin(weekly_volume_df.head(100)['Symbol'])].T.corr()\n",
    "\n",
    "fig = go.Figure(go.Heatmap(\n",
    "    z=corr_matrix.values,\n",
    "    x=corr_matrix.columns,\n",
    "    y=corr_matrix.index,\n",
    "    colorscale='RdBu',\n",
    "    zmin=-1,\n",
    "    zmax=1\n",
    "))\n",
    "fig.update_layout(title='Top 25 Coins Correlation Matrix',\n",
    "                 height=800,\n",
    "                 width=800)\n",
    "fig.show()"
   ]
  },
  {
   "cell_type": "code",
   "execution_count": null,
   "id": "ef1a9065",
   "metadata": {},
   "outputs": [],
   "source": []
  }
 ],
 "metadata": {
  "kernelspec": {
   "display_name": "Python 3",
   "language": "python",
   "name": "python3"
  },
  "language_info": {
   "codemirror_mode": {
    "name": "ipython",
    "version": 3
   },
   "file_extension": ".py",
   "mimetype": "text/x-python",
   "name": "python",
   "nbconvert_exporter": "python",
   "pygments_lexer": "ipython3",
   "version": "3.12.5"
  }
 },
 "nbformat": 4,
 "nbformat_minor": 5
}
